{
 "cells": [
  {
   "cell_type": "code",
   "execution_count": 1,
   "metadata": {
    "ExecuteTime": {
     "end_time": "2019-11-08T01:34:44.463194Z",
     "start_time": "2019-11-08T01:34:44.459673Z"
    }
   },
   "outputs": [],
   "source": [
    "#from mvp, build and run pipeline to generate .py files in src folder\n",
    "#%%writefile src/obtain.py\n",
    "\n",
    "# write functions that form a data pipeline, \n",
    "# then run this cell to save them in src/obtain.py\n",
    "\n",
    "#use this at the end of the project to generate py files, import and run them from a main ftn for cleaner code"
   ]
  },
  {
   "cell_type": "code",
   "execution_count": 2,
   "metadata": {
    "ExecuteTime": {
     "end_time": "2019-11-08T01:34:44.474858Z",
     "start_time": "2019-11-08T01:34:44.471257Z"
    }
   },
   "outputs": [],
   "source": [
    "# import data pipeline functions from obtain.py\n",
    "# def run_data_pipeline():\n",
    "#     # call data pipeline functions in order\n",
    "#     pass\n",
    "\n",
    "# run_data_pipeline()"
   ]
  },
  {
   "cell_type": "markdown",
   "metadata": {},
   "source": [
    "## Loading and cleaning text data\n",
    "### Import libraries"
   ]
  },
  {
   "cell_type": "code",
   "execution_count": 3,
   "metadata": {
    "ExecuteTime": {
     "end_time": "2019-11-08T01:34:49.558886Z",
     "start_time": "2019-11-08T01:34:44.477909Z"
    }
   },
   "outputs": [
    {
     "name": "stdout",
     "output_type": "stream",
     "text": [
      "Populating the interactive namespace from numpy and matplotlib\n"
     ]
    }
   ],
   "source": [
    "import pandas as pd\n",
    "import numpy as np\n",
    "\n",
    "import matplotlib.pyplot as plt\n",
    "import seaborn as sns\n",
    "%matplotlib inline\n",
    "\n",
    "# import sklearn\n",
    "from sklearn.feature_extraction.text import CountVectorizer \n",
    "from sklearn.feature_extraction.text import TfidfVectorizer  # TF-IDF\n",
    "from sklearn.preprocessing import scale\n",
    "from sklearn.cluster import KMeans\n",
    "from sklearn.decomposition import TruncatedSVD\n",
    "from sklearn.decomposition import NMF\n",
    "from sklearn.metrics.pairwise import cosine_similarity\n",
    "\n",
    "import nltk\n",
    "import spacy #for faster tokenization and lemmatization\n",
    "\n",
    "from sklearn.model_selection import train_test_split\n",
    "from sklearn.metrics import confusion_matrix\n",
    "\n",
    "import re\n",
    "\n",
    "import project4_functions\n",
    "\n",
    "%pylab inline"
   ]
  },
  {
   "cell_type": "markdown",
   "metadata": {},
   "source": [
    "### Loading small dataset - What's Cooking\n",
    "Kaggle 2MB What's Cooking data set - features: id, ingredients, cuisine type (target)\n",
    "\n",
    "Use it to test cusine type classification. Should be able to use the best model on larger RecipeBox dataset after extracting ingredients.\n",
    "\n",
    "*is there a way to out put probabilities of cuisine types? otherwise wouldn't get recipes from diff cuisines with the same ingredients* - predict_proba? or topic modelling and cluster by ingredient"
   ]
  },
  {
   "cell_type": "code",
   "execution_count": 4,
   "metadata": {
    "ExecuteTime": {
     "end_time": "2019-11-08T01:34:49.566160Z",
     "start_time": "2019-11-08T01:34:49.562209Z"
    }
   },
   "outputs": [],
   "source": [
    "#probably won't use it, not enough info? if can infer cuisine type from topics, don't need classfier?\n",
    "#*or maybe check one against each other?"
   ]
  },
  {
   "cell_type": "code",
   "execution_count": 5,
   "metadata": {
    "ExecuteTime": {
     "end_time": "2019-11-08T01:34:50.430815Z",
     "start_time": "2019-11-08T01:34:49.569282Z"
    }
   },
   "outputs": [],
   "source": [
    "cdata = pd.read_json (r'/Users/xinrucheng/Documents/GitHub/metisproject04/data/raw/whats-cooking/train.json')"
   ]
  },
  {
   "cell_type": "code",
   "execution_count": 6,
   "metadata": {
    "ExecuteTime": {
     "end_time": "2019-11-08T01:34:50.466389Z",
     "start_time": "2019-11-08T01:34:50.433107Z"
    }
   },
   "outputs": [
    {
     "data": {
      "text/html": [
       "<div>\n",
       "<style scoped>\n",
       "    .dataframe tbody tr th:only-of-type {\n",
       "        vertical-align: middle;\n",
       "    }\n",
       "\n",
       "    .dataframe tbody tr th {\n",
       "        vertical-align: top;\n",
       "    }\n",
       "\n",
       "    .dataframe thead th {\n",
       "        text-align: right;\n",
       "    }\n",
       "</style>\n",
       "<table border=\"1\" class=\"dataframe\">\n",
       "  <thead>\n",
       "    <tr style=\"text-align: right;\">\n",
       "      <th></th>\n",
       "      <th>id</th>\n",
       "      <th>cuisine</th>\n",
       "      <th>ingredients</th>\n",
       "    </tr>\n",
       "  </thead>\n",
       "  <tbody>\n",
       "    <tr>\n",
       "      <td>0</td>\n",
       "      <td>10259</td>\n",
       "      <td>greek</td>\n",
       "      <td>[romaine lettuce, black olives, grape tomatoes...</td>\n",
       "    </tr>\n",
       "    <tr>\n",
       "      <td>1</td>\n",
       "      <td>25693</td>\n",
       "      <td>southern_us</td>\n",
       "      <td>[plain flour, ground pepper, salt, tomatoes, g...</td>\n",
       "    </tr>\n",
       "    <tr>\n",
       "      <td>2</td>\n",
       "      <td>20130</td>\n",
       "      <td>filipino</td>\n",
       "      <td>[eggs, pepper, salt, mayonaise, cooking oil, g...</td>\n",
       "    </tr>\n",
       "    <tr>\n",
       "      <td>3</td>\n",
       "      <td>22213</td>\n",
       "      <td>indian</td>\n",
       "      <td>[water, vegetable oil, wheat, salt]</td>\n",
       "    </tr>\n",
       "    <tr>\n",
       "      <td>4</td>\n",
       "      <td>13162</td>\n",
       "      <td>indian</td>\n",
       "      <td>[black pepper, shallots, cornflour, cayenne pe...</td>\n",
       "    </tr>\n",
       "  </tbody>\n",
       "</table>\n",
       "</div>"
      ],
      "text/plain": [
       "      id      cuisine                                        ingredients\n",
       "0  10259        greek  [romaine lettuce, black olives, grape tomatoes...\n",
       "1  25693  southern_us  [plain flour, ground pepper, salt, tomatoes, g...\n",
       "2  20130     filipino  [eggs, pepper, salt, mayonaise, cooking oil, g...\n",
       "3  22213       indian                [water, vegetable oil, wheat, salt]\n",
       "4  13162       indian  [black pepper, shallots, cornflour, cayenne pe..."
      ]
     },
     "execution_count": 6,
     "metadata": {},
     "output_type": "execute_result"
    }
   ],
   "source": [
    "cdata.head()"
   ]
  },
  {
   "cell_type": "code",
   "execution_count": 7,
   "metadata": {
    "ExecuteTime": {
     "end_time": "2019-11-08T01:34:50.525279Z",
     "start_time": "2019-11-08T01:34:50.472582Z"
    }
   },
   "outputs": [
    {
     "name": "stdout",
     "output_type": "stream",
     "text": [
      "<class 'pandas.core.frame.DataFrame'>\n",
      "RangeIndex: 39774 entries, 0 to 39773\n",
      "Data columns (total 3 columns):\n",
      "id             39774 non-null int64\n",
      "cuisine        39774 non-null object\n",
      "ingredients    39774 non-null object\n",
      "dtypes: int64(1), object(2)\n",
      "memory usage: 932.3+ KB\n"
     ]
    }
   ],
   "source": [
    "cdata.info()"
   ]
  },
  {
   "cell_type": "markdown",
   "metadata": {},
   "source": [
    "The small dataset has 39774 observations, and 3 features (id, cuisine, ingredients). We want to use it to build a cuisine-type classifier based on ingredients, and then hopefully apply it to the larger recipe box dataset (125000 observations). The source for the recipe box dataset includes cuisine type in tags, but the tags were not scraped (still have the option of scraping it if small classifier doesn't work?)"
   ]
  },
  {
   "cell_type": "code",
   "execution_count": 8,
   "metadata": {
    "ExecuteTime": {
     "end_time": "2019-11-08T01:34:50.583580Z",
     "start_time": "2019-11-08T01:34:50.554409Z"
    }
   },
   "outputs": [
    {
     "data": {
      "text/plain": [
       "20"
      ]
     },
     "execution_count": 8,
     "metadata": {},
     "output_type": "execute_result"
    }
   ],
   "source": [
    "cdata['cuisine'].nunique()"
   ]
  },
  {
   "cell_type": "markdown",
   "metadata": {},
   "source": [
    "So there are no null values, and there are 20 cuisine types for 39774 recipes in this dataset. That seems like it should be sufficient as a classifier for the larger dataset (can improve upon it later with scraped tags data)."
   ]
  },
  {
   "cell_type": "code",
   "execution_count": 9,
   "metadata": {
    "ExecuteTime": {
     "end_time": "2019-11-08T01:34:50.610938Z",
     "start_time": "2019-11-08T01:34:50.587326Z"
    }
   },
   "outputs": [
    {
     "data": {
      "text/plain": [
       "array(['greek', 'southern_us', 'filipino', 'indian', 'jamaican',\n",
       "       'spanish', 'italian', 'mexican', 'chinese', 'british', 'thai',\n",
       "       'vietnamese', 'cajun_creole', 'brazilian', 'french', 'japanese',\n",
       "       'irish', 'korean', 'moroccan', 'russian'], dtype=object)"
      ]
     },
     "execution_count": 9,
     "metadata": {},
     "output_type": "execute_result"
    }
   ],
   "source": [
    "cdata['cuisine'].unique()"
   ]
  },
  {
   "cell_type": "markdown",
   "metadata": {},
   "source": [
    "Looking at the 20 cuisine types in this data set, I think \"british\" and \"irish\" are a bit redundant (would've liked to have German instead of one of those; also mexican and cajun_creole probably have some overlaps also). I'll work with this for now, keeping in mind topic modelling and clustering on the bigger data set might lead to a different number of clusters."
   ]
  },
  {
   "cell_type": "code",
   "execution_count": 10,
   "metadata": {
    "ExecuteTime": {
     "end_time": "2019-11-08T01:34:50.617030Z",
     "start_time": "2019-11-08T01:34:50.613947Z"
    }
   },
   "outputs": [],
   "source": [
    "#also recipe box repo has scraping code, if need to scrape more observations or tags\n",
    "\n",
    "#before proceeding with the classifier, quickly inspect the recipe box data:"
   ]
  },
  {
   "cell_type": "markdown",
   "metadata": {},
   "source": [
    "### Loading the RecipeBox dataset\n",
    "*load into dict to store in MongoDB later?*\n",
    "\n",
    "#### allrecipes"
   ]
  },
  {
   "cell_type": "code",
   "execution_count": 11,
   "metadata": {
    "ExecuteTime": {
     "end_time": "2019-11-08T01:35:12.039488Z",
     "start_time": "2019-11-08T01:34:50.621043Z"
    }
   },
   "outputs": [],
   "source": [
    "#the three files are scraped from foodnetwork, epicurious, and allrecipes.com\n",
    "#start with allrecipes.com - took 18.4s to load, can consider putting it into database?\n",
    "rbdata_ar = pd.read_json(r'/Users/xinrucheng/Documents/GitHub/metisproject04/data/raw/recipes_raw/recipes_raw_nosource_ar.json')"
   ]
  },
  {
   "cell_type": "code",
   "execution_count": 12,
   "metadata": {
    "ExecuteTime": {
     "end_time": "2019-11-08T01:35:12.138080Z",
     "start_time": "2019-11-08T01:35:12.042662Z"
    }
   },
   "outputs": [
    {
     "data": {
      "text/html": [
       "<div>\n",
       "<style scoped>\n",
       "    .dataframe tbody tr th:only-of-type {\n",
       "        vertical-align: middle;\n",
       "    }\n",
       "\n",
       "    .dataframe tbody tr th {\n",
       "        vertical-align: top;\n",
       "    }\n",
       "\n",
       "    .dataframe thead th {\n",
       "        text-align: right;\n",
       "    }\n",
       "</style>\n",
       "<table border=\"1\" class=\"dataframe\">\n",
       "  <thead>\n",
       "    <tr style=\"text-align: right;\">\n",
       "      <th></th>\n",
       "      <th>rmK12Uau.ntP510KeImX506H6Mr6jTu</th>\n",
       "      <th>5ZpZE8hSVdPk2ZXo1mZTyoPWJRSCPSm</th>\n",
       "      <th>clyYQv.CplpwJtjNaFGhx0VilNYqRxu</th>\n",
       "      <th>BmqFAmCrDHiKNwX.IQzb0U/v0mLlxFu</th>\n",
       "      <th>N.jCksRjB4MFwbgPFQU8Kg.yF.XCtOi</th>\n",
       "      <th>kq.naD.8G19M4UU9dVvJgHtpfo.l/eC</th>\n",
       "      <th>lYrgWNn00EXblOupzM3tL0jGr9O0CB2</th>\n",
       "      <th>Fu0DgGYFUGwc0BBlN6r20o/ihOVs5bO</th>\n",
       "      <th>MBRNtqELRRuv8zJH4k7Aba2bmIc2A3C</th>\n",
       "      <th>ZPyPoMiNvgAfrKcRpH9FEYV/XsPZBsW</th>\n",
       "      <th>...</th>\n",
       "      <th>uHHb42/tuIKsmN5U6l9AD.FdVpSFxs6</th>\n",
       "      <th>IPAeN3L6rm2oughJpUhbG038k.ACJ0K</th>\n",
       "      <th>3UIhlTQFH5jyIaHN8zeKlK5V.94Kjwu</th>\n",
       "      <th>PdBxkE2gnI/.ynokkp1Hu1KLGZnGdei</th>\n",
       "      <th>SB46Udqc5Svsi70S1qRmRLv5tlg8Oca</th>\n",
       "      <th>gehEOcDPtU3SmNSXrwWwWD4ulPpUdMO</th>\n",
       "      <th>VRAsyF.1xMBYqAVKX1biyIORH6N6qzy</th>\n",
       "      <th>Lf8/u.0k2029QMSQFrHS4gRsvKOQFUG</th>\n",
       "      <th>ay.AqX/9ysBtWHcnHoDeGAyJ5Orla8e</th>\n",
       "      <th>2Q3Zpfgt/PUwn1YABjJ5A9T3ZW8xwVa</th>\n",
       "    </tr>\n",
       "  </thead>\n",
       "  <tbody>\n",
       "    <tr>\n",
       "      <td>title</td>\n",
       "      <td>Slow Cooker Chicken and Dumplings</td>\n",
       "      <td>Awesome Slow Cooker Pot Roast</td>\n",
       "      <td>Brown Sugar Meatloaf</td>\n",
       "      <td>Best Chocolate Chip Cookies</td>\n",
       "      <td>Homemade Mac and Cheese Casserole</td>\n",
       "      <td>Banana Banana Bread</td>\n",
       "      <td>Chef John's Fisherman's Pie</td>\n",
       "      <td>Mom's Zucchini Bread</td>\n",
       "      <td>The Best Rolled Sugar Cookies</td>\n",
       "      <td>Singapore Chili Crabs</td>\n",
       "      <td>...</td>\n",
       "      <td>Citrus Creme Brulee</td>\n",
       "      <td>Honey Nutty Granola</td>\n",
       "      <td>Salmon en Croute</td>\n",
       "      <td>Homemade Blender Butter</td>\n",
       "      <td>Gluten Free Chicken Noodle Soup</td>\n",
       "      <td>Thai-Indian Veggie Soup</td>\n",
       "      <td>Coconut Milk-Free Panang Curry Chicken</td>\n",
       "      <td>Cooked Cold Salad</td>\n",
       "      <td>Easy Eggnog Creme Brulee</td>\n",
       "      <td>Super Power Stovetop Granola</td>\n",
       "    </tr>\n",
       "    <tr>\n",
       "      <td>ingredients</td>\n",
       "      <td>[4 skinless, boneless chicken breast halves AD...</td>\n",
       "      <td>[2 (10.75 ounce) cans condensed cream of mushr...</td>\n",
       "      <td>[1/2 cup packed brown sugar ADVERTISEMENT, 1/2...</td>\n",
       "      <td>[1 cup butter, softened ADVERTISEMENT, 1 cup w...</td>\n",
       "      <td>[8 ounces whole wheat rotini pasta ADVERTISEME...</td>\n",
       "      <td>[2 cups all-purpose flour ADVERTISEMENT, 1 tea...</td>\n",
       "      <td>[For potato crust: ADVERTISEMENT, 3 russet pot...</td>\n",
       "      <td>[3 cups all-purpose flour ADVERTISEMENT, 1 tea...</td>\n",
       "      <td>[1 1/2 cups butter, softened ADVERTISEMENT, 2 ...</td>\n",
       "      <td>[Sauce: ADVERTISEMENT, 1/2 cup ketchup ADVERTI...</td>\n",
       "      <td>...</td>\n",
       "      <td>[2 oranges, juiced ADVERTISEMENT, lemon, juice...</td>\n",
       "      <td>[3 cups rolled oats ADVERTISEMENT, 1 1/2 cups ...</td>\n",
       "      <td>[1 cup watercress, or as desired ADVERTISEMENT...</td>\n",
       "      <td>[2 pints heavy whipping cream ADVERTISEMENT, s...</td>\n",
       "      <td>[1/2 (12 ounce) box Barilla® Gluten Free Elbow...</td>\n",
       "      <td>[2 teaspoons olive oil ADVERTISEMENT, 1/4 cup ...</td>\n",
       "      <td>[2 cups light cream ADVERTISEMENT, 1/4 teaspoo...</td>\n",
       "      <td>[3 tablespoons bacon grease ADVERTISEMENT, 2 c...</td>\n",
       "      <td>[4 egg yolks ADVERTISEMENT, 1 tablespoon white...</td>\n",
       "      <td>[1/4 cup canola oil ADVERTISEMENT, 3 cups quic...</td>\n",
       "    </tr>\n",
       "    <tr>\n",
       "      <td>instructions</td>\n",
       "      <td>Place the chicken, butter, soup, and onion in ...</td>\n",
       "      <td>In a slow cooker, mix cream of mushroom soup, ...</td>\n",
       "      <td>Preheat oven to 350 degrees F (175 degrees C)....</td>\n",
       "      <td>Preheat oven to 350 degrees F (175 degrees C)....</td>\n",
       "      <td>Preheat oven to 350 degrees F. Line a 2-quart ...</td>\n",
       "      <td>Preheat oven to 350 degrees F (175 degrees C)....</td>\n",
       "      <td>Bring a large saucepan of salted water and to ...</td>\n",
       "      <td>Grease and flour two 8 x 4 inch pans. Preheat ...</td>\n",
       "      <td>In a large bowl, cream together butter and sug...</td>\n",
       "      <td>Whisk ketchup, chicken broth, egg, soy sauce, ...</td>\n",
       "      <td>...</td>\n",
       "      <td>Preheat oven to 300 degrees F (150 degrees C)....</td>\n",
       "      <td>Preheat oven to 300 degrees F (150 degrees C)....</td>\n",
       "      <td>Preheat oven to 375 degrees F (190 degrees C)....</td>\n",
       "      <td>Pour cream into a blender. Cover and blend unt...</td>\n",
       "      <td>Saute onions in olive oil over medium heat unt...</td>\n",
       "      <td>Heat oil in a large pot over medium heat. Add ...</td>\n",
       "      <td>Heat cream and coconut extract in a skillet or...</td>\n",
       "      <td>Heat bacon grease in a skillet over medium-hig...</td>\n",
       "      <td>Preheat oven to 350 degrees F (175 degrees C)....</td>\n",
       "      <td>Heat 1/4 cup canola oil in large skillet over ...</td>\n",
       "    </tr>\n",
       "    <tr>\n",
       "      <td>picture_link</td>\n",
       "      <td>55lznCYBbs2mT8BTx6BTkLhynGHzM.S</td>\n",
       "      <td>QyrvGdGNMBA2lDdciY0FjKu.77MM0Oe</td>\n",
       "      <td>LVW1DI0vtlCrpAhNSEQysE9i/7rJG56</td>\n",
       "      <td>0SO5kdWOV94j6EfAVwMMYRM3yNN8eRi</td>\n",
       "      <td>YCnbhplMgiraW4rUXcybgSEZinSgljm</td>\n",
       "      <td>jRnWGDXDdyOg3rta4/HVAR2rD19XubC</td>\n",
       "      <td>aUca10AaD8T2yYvcLOgH/UJlR5/OhOe</td>\n",
       "      <td>YdgEVyLVffZgh9NZPN3Eqj6MaX8KdzK</td>\n",
       "      <td>UrgvDGu4roLiho160fTVIwCUrGZna8i</td>\n",
       "      <td>OFp6yXFwzlrkMQ5STffYPllxQvMVLUS</td>\n",
       "      <td>...</td>\n",
       "      <td>qE58a7Z1Au0GXvPO188iHZZVqna9hLa</td>\n",
       "      <td>qE58a7Z1Au0GXvPO188iHZZVqna9hLa</td>\n",
       "      <td>qE58a7Z1Au0GXvPO188iHZZVqna9hLa</td>\n",
       "      <td>qE58a7Z1Au0GXvPO188iHZZVqna9hLa</td>\n",
       "      <td>cWEzUSv9Ozr3b4MxNVCqJYgTjIS.kHm</td>\n",
       "      <td>qE58a7Z1Au0GXvPO188iHZZVqna9hLa</td>\n",
       "      <td>qE58a7Z1Au0GXvPO188iHZZVqna9hLa</td>\n",
       "      <td>qE58a7Z1Au0GXvPO188iHZZVqna9hLa</td>\n",
       "      <td>qE58a7Z1Au0GXvPO188iHZZVqna9hLa</td>\n",
       "      <td>qE58a7Z1Au0GXvPO188iHZZVqna9hLa</td>\n",
       "    </tr>\n",
       "  </tbody>\n",
       "</table>\n",
       "<p>4 rows × 39802 columns</p>\n",
       "</div>"
      ],
      "text/plain": [
       "                                rmK12Uau.ntP510KeImX506H6Mr6jTu  \\\n",
       "title                         Slow Cooker Chicken and Dumplings   \n",
       "ingredients   [4 skinless, boneless chicken breast halves AD...   \n",
       "instructions  Place the chicken, butter, soup, and onion in ...   \n",
       "picture_link                    55lznCYBbs2mT8BTx6BTkLhynGHzM.S   \n",
       "\n",
       "                                5ZpZE8hSVdPk2ZXo1mZTyoPWJRSCPSm  \\\n",
       "title                             Awesome Slow Cooker Pot Roast   \n",
       "ingredients   [2 (10.75 ounce) cans condensed cream of mushr...   \n",
       "instructions  In a slow cooker, mix cream of mushroom soup, ...   \n",
       "picture_link                    QyrvGdGNMBA2lDdciY0FjKu.77MM0Oe   \n",
       "\n",
       "                                clyYQv.CplpwJtjNaFGhx0VilNYqRxu  \\\n",
       "title                                      Brown Sugar Meatloaf   \n",
       "ingredients   [1/2 cup packed brown sugar ADVERTISEMENT, 1/2...   \n",
       "instructions  Preheat oven to 350 degrees F (175 degrees C)....   \n",
       "picture_link                    LVW1DI0vtlCrpAhNSEQysE9i/7rJG56   \n",
       "\n",
       "                                BmqFAmCrDHiKNwX.IQzb0U/v0mLlxFu  \\\n",
       "title                               Best Chocolate Chip Cookies   \n",
       "ingredients   [1 cup butter, softened ADVERTISEMENT, 1 cup w...   \n",
       "instructions  Preheat oven to 350 degrees F (175 degrees C)....   \n",
       "picture_link                    0SO5kdWOV94j6EfAVwMMYRM3yNN8eRi   \n",
       "\n",
       "                                N.jCksRjB4MFwbgPFQU8Kg.yF.XCtOi  \\\n",
       "title                         Homemade Mac and Cheese Casserole   \n",
       "ingredients   [8 ounces whole wheat rotini pasta ADVERTISEME...   \n",
       "instructions  Preheat oven to 350 degrees F. Line a 2-quart ...   \n",
       "picture_link                    YCnbhplMgiraW4rUXcybgSEZinSgljm   \n",
       "\n",
       "                                kq.naD.8G19M4UU9dVvJgHtpfo.l/eC  \\\n",
       "title                                       Banana Banana Bread   \n",
       "ingredients   [2 cups all-purpose flour ADVERTISEMENT, 1 tea...   \n",
       "instructions  Preheat oven to 350 degrees F (175 degrees C)....   \n",
       "picture_link                    jRnWGDXDdyOg3rta4/HVAR2rD19XubC   \n",
       "\n",
       "                                lYrgWNn00EXblOupzM3tL0jGr9O0CB2  \\\n",
       "title                               Chef John's Fisherman's Pie   \n",
       "ingredients   [For potato crust: ADVERTISEMENT, 3 russet pot...   \n",
       "instructions  Bring a large saucepan of salted water and to ...   \n",
       "picture_link                    aUca10AaD8T2yYvcLOgH/UJlR5/OhOe   \n",
       "\n",
       "                                Fu0DgGYFUGwc0BBlN6r20o/ihOVs5bO  \\\n",
       "title                                      Mom's Zucchini Bread   \n",
       "ingredients   [3 cups all-purpose flour ADVERTISEMENT, 1 tea...   \n",
       "instructions  Grease and flour two 8 x 4 inch pans. Preheat ...   \n",
       "picture_link                    YdgEVyLVffZgh9NZPN3Eqj6MaX8KdzK   \n",
       "\n",
       "                                MBRNtqELRRuv8zJH4k7Aba2bmIc2A3C  \\\n",
       "title                             The Best Rolled Sugar Cookies   \n",
       "ingredients   [1 1/2 cups butter, softened ADVERTISEMENT, 2 ...   \n",
       "instructions  In a large bowl, cream together butter and sug...   \n",
       "picture_link                    UrgvDGu4roLiho160fTVIwCUrGZna8i   \n",
       "\n",
       "                                ZPyPoMiNvgAfrKcRpH9FEYV/XsPZBsW  ...  \\\n",
       "title                                     Singapore Chili Crabs  ...   \n",
       "ingredients   [Sauce: ADVERTISEMENT, 1/2 cup ketchup ADVERTI...  ...   \n",
       "instructions  Whisk ketchup, chicken broth, egg, soy sauce, ...  ...   \n",
       "picture_link                    OFp6yXFwzlrkMQ5STffYPllxQvMVLUS  ...   \n",
       "\n",
       "                                uHHb42/tuIKsmN5U6l9AD.FdVpSFxs6  \\\n",
       "title                                       Citrus Creme Brulee   \n",
       "ingredients   [2 oranges, juiced ADVERTISEMENT, lemon, juice...   \n",
       "instructions  Preheat oven to 300 degrees F (150 degrees C)....   \n",
       "picture_link                    qE58a7Z1Au0GXvPO188iHZZVqna9hLa   \n",
       "\n",
       "                                IPAeN3L6rm2oughJpUhbG038k.ACJ0K  \\\n",
       "title                                       Honey Nutty Granola   \n",
       "ingredients   [3 cups rolled oats ADVERTISEMENT, 1 1/2 cups ...   \n",
       "instructions  Preheat oven to 300 degrees F (150 degrees C)....   \n",
       "picture_link                    qE58a7Z1Au0GXvPO188iHZZVqna9hLa   \n",
       "\n",
       "                                3UIhlTQFH5jyIaHN8zeKlK5V.94Kjwu  \\\n",
       "title                                          Salmon en Croute   \n",
       "ingredients   [1 cup watercress, or as desired ADVERTISEMENT...   \n",
       "instructions  Preheat oven to 375 degrees F (190 degrees C)....   \n",
       "picture_link                    qE58a7Z1Au0GXvPO188iHZZVqna9hLa   \n",
       "\n",
       "                                PdBxkE2gnI/.ynokkp1Hu1KLGZnGdei  \\\n",
       "title                                   Homemade Blender Butter   \n",
       "ingredients   [2 pints heavy whipping cream ADVERTISEMENT, s...   \n",
       "instructions  Pour cream into a blender. Cover and blend unt...   \n",
       "picture_link                    qE58a7Z1Au0GXvPO188iHZZVqna9hLa   \n",
       "\n",
       "                                SB46Udqc5Svsi70S1qRmRLv5tlg8Oca  \\\n",
       "title                           Gluten Free Chicken Noodle Soup   \n",
       "ingredients   [1/2 (12 ounce) box Barilla® Gluten Free Elbow...   \n",
       "instructions  Saute onions in olive oil over medium heat unt...   \n",
       "picture_link                    cWEzUSv9Ozr3b4MxNVCqJYgTjIS.kHm   \n",
       "\n",
       "                                gehEOcDPtU3SmNSXrwWwWD4ulPpUdMO  \\\n",
       "title                                   Thai-Indian Veggie Soup   \n",
       "ingredients   [2 teaspoons olive oil ADVERTISEMENT, 1/4 cup ...   \n",
       "instructions  Heat oil in a large pot over medium heat. Add ...   \n",
       "picture_link                    qE58a7Z1Au0GXvPO188iHZZVqna9hLa   \n",
       "\n",
       "                                VRAsyF.1xMBYqAVKX1biyIORH6N6qzy  \\\n",
       "title                    Coconut Milk-Free Panang Curry Chicken   \n",
       "ingredients   [2 cups light cream ADVERTISEMENT, 1/4 teaspoo...   \n",
       "instructions  Heat cream and coconut extract in a skillet or...   \n",
       "picture_link                    qE58a7Z1Au0GXvPO188iHZZVqna9hLa   \n",
       "\n",
       "                                Lf8/u.0k2029QMSQFrHS4gRsvKOQFUG  \\\n",
       "title                                         Cooked Cold Salad   \n",
       "ingredients   [3 tablespoons bacon grease ADVERTISEMENT, 2 c...   \n",
       "instructions  Heat bacon grease in a skillet over medium-hig...   \n",
       "picture_link                    qE58a7Z1Au0GXvPO188iHZZVqna9hLa   \n",
       "\n",
       "                                ay.AqX/9ysBtWHcnHoDeGAyJ5Orla8e  \\\n",
       "title                                  Easy Eggnog Creme Brulee   \n",
       "ingredients   [4 egg yolks ADVERTISEMENT, 1 tablespoon white...   \n",
       "instructions  Preheat oven to 350 degrees F (175 degrees C)....   \n",
       "picture_link                    qE58a7Z1Au0GXvPO188iHZZVqna9hLa   \n",
       "\n",
       "                                2Q3Zpfgt/PUwn1YABjJ5A9T3ZW8xwVa  \n",
       "title                              Super Power Stovetop Granola  \n",
       "ingredients   [1/4 cup canola oil ADVERTISEMENT, 3 cups quic...  \n",
       "instructions  Heat 1/4 cup canola oil in large skillet over ...  \n",
       "picture_link                    qE58a7Z1Au0GXvPO188iHZZVqna9hLa  \n",
       "\n",
       "[4 rows x 39802 columns]"
      ]
     },
     "execution_count": 12,
     "metadata": {},
     "output_type": "execute_result"
    }
   ],
   "source": [
    "rbdata_ar.head() #need to swap rows and columns\n",
    "#features are title, ingredients, instructions, and picture_link(not needed?)"
   ]
  },
  {
   "cell_type": "code",
   "execution_count": 13,
   "metadata": {
    "ExecuteTime": {
     "end_time": "2019-11-08T01:35:12.146593Z",
     "start_time": "2019-11-08T01:35:12.142303Z"
    }
   },
   "outputs": [],
   "source": [
    "#try out \"orient\" argument on smaller dataset, want to swap rows and columns:\n",
    "#pd.read_json(r'/Users/xinrucheng/Documents/GitHub/metisproject04/data/raw/whats-cooking/train.json', orient='split')"
   ]
  },
  {
   "cell_type": "code",
   "execution_count": 14,
   "metadata": {
    "ExecuteTime": {
     "end_time": "2019-11-08T01:35:12.217377Z",
     "start_time": "2019-11-08T01:35:12.152803Z"
    }
   },
   "outputs": [
    {
     "data": {
      "text/html": [
       "<div>\n",
       "<style scoped>\n",
       "    .dataframe tbody tr th:only-of-type {\n",
       "        vertical-align: middle;\n",
       "    }\n",
       "\n",
       "    .dataframe tbody tr th {\n",
       "        vertical-align: top;\n",
       "    }\n",
       "\n",
       "    .dataframe thead th {\n",
       "        text-align: right;\n",
       "    }\n",
       "</style>\n",
       "<table border=\"1\" class=\"dataframe\">\n",
       "  <thead>\n",
       "    <tr style=\"text-align: right;\">\n",
       "      <th></th>\n",
       "      <th>title</th>\n",
       "      <th>ingredients</th>\n",
       "      <th>instructions</th>\n",
       "      <th>picture_link</th>\n",
       "    </tr>\n",
       "  </thead>\n",
       "  <tbody>\n",
       "    <tr>\n",
       "      <td>rmK12Uau.ntP510KeImX506H6Mr6jTu</td>\n",
       "      <td>Slow Cooker Chicken and Dumplings</td>\n",
       "      <td>[4 skinless, boneless chicken breast halves AD...</td>\n",
       "      <td>Place the chicken, butter, soup, and onion in ...</td>\n",
       "      <td>55lznCYBbs2mT8BTx6BTkLhynGHzM.S</td>\n",
       "    </tr>\n",
       "    <tr>\n",
       "      <td>5ZpZE8hSVdPk2ZXo1mZTyoPWJRSCPSm</td>\n",
       "      <td>Awesome Slow Cooker Pot Roast</td>\n",
       "      <td>[2 (10.75 ounce) cans condensed cream of mushr...</td>\n",
       "      <td>In a slow cooker, mix cream of mushroom soup, ...</td>\n",
       "      <td>QyrvGdGNMBA2lDdciY0FjKu.77MM0Oe</td>\n",
       "    </tr>\n",
       "    <tr>\n",
       "      <td>clyYQv.CplpwJtjNaFGhx0VilNYqRxu</td>\n",
       "      <td>Brown Sugar Meatloaf</td>\n",
       "      <td>[1/2 cup packed brown sugar ADVERTISEMENT, 1/2...</td>\n",
       "      <td>Preheat oven to 350 degrees F (175 degrees C)....</td>\n",
       "      <td>LVW1DI0vtlCrpAhNSEQysE9i/7rJG56</td>\n",
       "    </tr>\n",
       "    <tr>\n",
       "      <td>BmqFAmCrDHiKNwX.IQzb0U/v0mLlxFu</td>\n",
       "      <td>Best Chocolate Chip Cookies</td>\n",
       "      <td>[1 cup butter, softened ADVERTISEMENT, 1 cup w...</td>\n",
       "      <td>Preheat oven to 350 degrees F (175 degrees C)....</td>\n",
       "      <td>0SO5kdWOV94j6EfAVwMMYRM3yNN8eRi</td>\n",
       "    </tr>\n",
       "    <tr>\n",
       "      <td>N.jCksRjB4MFwbgPFQU8Kg.yF.XCtOi</td>\n",
       "      <td>Homemade Mac and Cheese Casserole</td>\n",
       "      <td>[8 ounces whole wheat rotini pasta ADVERTISEME...</td>\n",
       "      <td>Preheat oven to 350 degrees F. Line a 2-quart ...</td>\n",
       "      <td>YCnbhplMgiraW4rUXcybgSEZinSgljm</td>\n",
       "    </tr>\n",
       "  </tbody>\n",
       "</table>\n",
       "</div>"
      ],
      "text/plain": [
       "                                                             title  \\\n",
       "rmK12Uau.ntP510KeImX506H6Mr6jTu  Slow Cooker Chicken and Dumplings   \n",
       "5ZpZE8hSVdPk2ZXo1mZTyoPWJRSCPSm      Awesome Slow Cooker Pot Roast   \n",
       "clyYQv.CplpwJtjNaFGhx0VilNYqRxu               Brown Sugar Meatloaf   \n",
       "BmqFAmCrDHiKNwX.IQzb0U/v0mLlxFu        Best Chocolate Chip Cookies   \n",
       "N.jCksRjB4MFwbgPFQU8Kg.yF.XCtOi  Homemade Mac and Cheese Casserole   \n",
       "\n",
       "                                                                       ingredients  \\\n",
       "rmK12Uau.ntP510KeImX506H6Mr6jTu  [4 skinless, boneless chicken breast halves AD...   \n",
       "5ZpZE8hSVdPk2ZXo1mZTyoPWJRSCPSm  [2 (10.75 ounce) cans condensed cream of mushr...   \n",
       "clyYQv.CplpwJtjNaFGhx0VilNYqRxu  [1/2 cup packed brown sugar ADVERTISEMENT, 1/2...   \n",
       "BmqFAmCrDHiKNwX.IQzb0U/v0mLlxFu  [1 cup butter, softened ADVERTISEMENT, 1 cup w...   \n",
       "N.jCksRjB4MFwbgPFQU8Kg.yF.XCtOi  [8 ounces whole wheat rotini pasta ADVERTISEME...   \n",
       "\n",
       "                                                                      instructions  \\\n",
       "rmK12Uau.ntP510KeImX506H6Mr6jTu  Place the chicken, butter, soup, and onion in ...   \n",
       "5ZpZE8hSVdPk2ZXo1mZTyoPWJRSCPSm  In a slow cooker, mix cream of mushroom soup, ...   \n",
       "clyYQv.CplpwJtjNaFGhx0VilNYqRxu  Preheat oven to 350 degrees F (175 degrees C)....   \n",
       "BmqFAmCrDHiKNwX.IQzb0U/v0mLlxFu  Preheat oven to 350 degrees F (175 degrees C)....   \n",
       "N.jCksRjB4MFwbgPFQU8Kg.yF.XCtOi  Preheat oven to 350 degrees F. Line a 2-quart ...   \n",
       "\n",
       "                                                    picture_link  \n",
       "rmK12Uau.ntP510KeImX506H6Mr6jTu  55lznCYBbs2mT8BTx6BTkLhynGHzM.S  \n",
       "5ZpZE8hSVdPk2ZXo1mZTyoPWJRSCPSm  QyrvGdGNMBA2lDdciY0FjKu.77MM0Oe  \n",
       "clyYQv.CplpwJtjNaFGhx0VilNYqRxu  LVW1DI0vtlCrpAhNSEQysE9i/7rJG56  \n",
       "BmqFAmCrDHiKNwX.IQzb0U/v0mLlxFu  0SO5kdWOV94j6EfAVwMMYRM3yNN8eRi  \n",
       "N.jCksRjB4MFwbgPFQU8Kg.yF.XCtOi  YCnbhplMgiraW4rUXcybgSEZinSgljm  "
      ]
     },
     "execution_count": 14,
     "metadata": {},
     "output_type": "execute_result"
    }
   ],
   "source": [
    "rb_ar=rbdata_ar.T #can just do pandas transpose, don't need to set orient parameter in read_json!\n",
    "rb_ar.head()"
   ]
  },
  {
   "cell_type": "code",
   "execution_count": 15,
   "metadata": {
    "ExecuteTime": {
     "end_time": "2019-11-08T01:35:12.224465Z",
     "start_time": "2019-11-08T01:35:12.220931Z"
    }
   },
   "outputs": [],
   "source": [
    "#*can I do something more interesting with the ingredient and instructions data to access recipe similarity? (difficulty already used)\n",
    "#clusters can be diff courses of meal? main, dessert; price? prep time?\n",
    "#how to use links??"
   ]
  },
  {
   "cell_type": "code",
   "execution_count": 16,
   "metadata": {
    "ExecuteTime": {
     "end_time": "2019-11-08T01:35:12.259156Z",
     "start_time": "2019-11-08T01:35:12.229446Z"
    }
   },
   "outputs": [
    {
     "name": "stdout",
     "output_type": "stream",
     "text": [
      "<class 'pandas.core.frame.DataFrame'>\n",
      "Index: 39802 entries, rmK12Uau.ntP510KeImX506H6Mr6jTu to 2Q3Zpfgt/PUwn1YABjJ5A9T3ZW8xwVa\n",
      "Data columns (total 4 columns):\n",
      "title           39522 non-null object\n",
      "ingredients     39522 non-null object\n",
      "instructions    39522 non-null object\n",
      "picture_link    39522 non-null object\n",
      "dtypes: object(4)\n",
      "memory usage: 2.8+ MB\n"
     ]
    }
   ],
   "source": [
    "rb_ar.info()"
   ]
  },
  {
   "cell_type": "markdown",
   "metadata": {},
   "source": [
    "The allrecipes.com portion of the RecipeBox dataset has 39522 recipes, similar in size to the small what's cooking dataset! Good for testing out classifer. Because total was ~125000, so that's about 1/3 of total (can check, the other 2 should be the same size)"
   ]
  },
  {
   "cell_type": "code",
   "execution_count": 17,
   "metadata": {
    "ExecuteTime": {
     "end_time": "2019-11-08T01:35:12.270863Z",
     "start_time": "2019-11-08T01:35:12.267062Z"
    }
   },
   "outputs": [],
   "source": [
    "#*total length 39802 observations, but only 39522 non-null for each feature? Need to drop rows with missing values\n"
   ]
  },
  {
   "cell_type": "markdown",
   "metadata": {},
   "source": [
    "#### epicurious"
   ]
  },
  {
   "cell_type": "code",
   "execution_count": 18,
   "metadata": {
    "ExecuteTime": {
     "end_time": "2019-11-08T01:35:23.879611Z",
     "start_time": "2019-11-08T01:35:12.287269Z"
    }
   },
   "outputs": [],
   "source": [
    "rbdata_epi = pd.read_json(r'/Users/xinrucheng/Documents/GitHub/metisproject04/data/raw/recipes_raw/recipes_raw_nosource_epi.json')"
   ]
  },
  {
   "cell_type": "code",
   "execution_count": 19,
   "metadata": {
    "ExecuteTime": {
     "end_time": "2019-11-08T01:35:23.897144Z",
     "start_time": "2019-11-08T01:35:23.881809Z"
    }
   },
   "outputs": [],
   "source": [
    "rb_epi=rbdata_epi.T"
   ]
  },
  {
   "cell_type": "code",
   "execution_count": 20,
   "metadata": {
    "ExecuteTime": {
     "end_time": "2019-11-08T01:35:23.931736Z",
     "start_time": "2019-11-08T01:35:23.904830Z"
    }
   },
   "outputs": [
    {
     "name": "stdout",
     "output_type": "stream",
     "text": [
      "<class 'pandas.core.frame.DataFrame'>\n",
      "Index: 25323 entries, 05zEpbSqcs9E0rcnCJWyZ9OgdH0MLby to qznqHiNpq0AB1AYn002A2HvaEFnN0lq\n",
      "Data columns (total 4 columns):\n",
      "ingredients     25323 non-null object\n",
      "picture_link    12119 non-null object\n",
      "instructions    25323 non-null object\n",
      "title           25323 non-null object\n",
      "dtypes: object(4)\n",
      "memory usage: 2.2+ MB\n"
     ]
    }
   ],
   "source": [
    "rb_epi.info()"
   ]
  },
  {
   "cell_type": "code",
   "execution_count": 21,
   "metadata": {
    "ExecuteTime": {
     "end_time": "2019-11-08T01:35:23.964087Z",
     "start_time": "2019-11-08T01:35:23.936763Z"
    }
   },
   "outputs": [
    {
     "data": {
      "text/html": [
       "<div>\n",
       "<style scoped>\n",
       "    .dataframe tbody tr th:only-of-type {\n",
       "        vertical-align: middle;\n",
       "    }\n",
       "\n",
       "    .dataframe tbody tr th {\n",
       "        vertical-align: top;\n",
       "    }\n",
       "\n",
       "    .dataframe thead th {\n",
       "        text-align: right;\n",
       "    }\n",
       "</style>\n",
       "<table border=\"1\" class=\"dataframe\">\n",
       "  <thead>\n",
       "    <tr style=\"text-align: right;\">\n",
       "      <th></th>\n",
       "      <th>ingredients</th>\n",
       "      <th>picture_link</th>\n",
       "      <th>instructions</th>\n",
       "      <th>title</th>\n",
       "    </tr>\n",
       "  </thead>\n",
       "  <tbody>\n",
       "    <tr>\n",
       "      <td>05zEpbSqcs9E0rcnCJWyZ9OgdH0MLby</td>\n",
       "      <td>[12 egg whites, 12 egg yolks, 1 1/2 cups sugar...</td>\n",
       "      <td>None</td>\n",
       "      <td>Beat the egg whites until stiff, gradually add...</td>\n",
       "      <td>Christmas Eggnog</td>\n",
       "    </tr>\n",
       "    <tr>\n",
       "      <td>mF5SZmoqxF4WtIlhLRvzuKk.z6s7P2S</td>\n",
       "      <td>[18 fresh chestnuts, 2 1/2 pounds veal stew me...</td>\n",
       "      <td>None</td>\n",
       "      <td>Preheat oven to 400°F. Using small sharp knife...</td>\n",
       "      <td>Veal, Carrot and Chestnut Ragoût</td>\n",
       "    </tr>\n",
       "    <tr>\n",
       "      <td>oQV5D7cVbCFwmrDs3pBUv2y.AG0WV26</td>\n",
       "      <td>[2 tablespoons unsalted butter, softened, 4 or...</td>\n",
       "      <td>3xjktRst3I5lDZ2Z5kTOtqQyzZFFN9u</td>\n",
       "      <td>Preheat the oven to 350°F. Spread the softened...</td>\n",
       "      <td>Caramelized Bread Pudding with Chocolate and C...</td>\n",
       "    </tr>\n",
       "    <tr>\n",
       "      <td>Z9seBJWaB5NkSp4DQHDnCAUBTwov/1u</td>\n",
       "      <td>[3/4 pound Stilton, crumbled (about 3 cups) an...</td>\n",
       "      <td>None</td>\n",
       "      <td>In a food processor blend the Stilton, the cre...</td>\n",
       "      <td>Sherried Stilton and Green Peppercorn Spread</td>\n",
       "    </tr>\n",
       "    <tr>\n",
       "      <td>bB3GxoAplVZeoX3fzWNWyeECtQFxw6G</td>\n",
       "      <td>[2 cups (about 9 1/2 ounces) whole almonds, to...</td>\n",
       "      <td>None</td>\n",
       "      <td>Position rack in center of oven and preheat to...</td>\n",
       "      <td>Almond-Chocolate Macaroons</td>\n",
       "    </tr>\n",
       "  </tbody>\n",
       "</table>\n",
       "</div>"
      ],
      "text/plain": [
       "                                                                       ingredients  \\\n",
       "05zEpbSqcs9E0rcnCJWyZ9OgdH0MLby  [12 egg whites, 12 egg yolks, 1 1/2 cups sugar...   \n",
       "mF5SZmoqxF4WtIlhLRvzuKk.z6s7P2S  [18 fresh chestnuts, 2 1/2 pounds veal stew me...   \n",
       "oQV5D7cVbCFwmrDs3pBUv2y.AG0WV26  [2 tablespoons unsalted butter, softened, 4 or...   \n",
       "Z9seBJWaB5NkSp4DQHDnCAUBTwov/1u  [3/4 pound Stilton, crumbled (about 3 cups) an...   \n",
       "bB3GxoAplVZeoX3fzWNWyeECtQFxw6G  [2 cups (about 9 1/2 ounces) whole almonds, to...   \n",
       "\n",
       "                                                    picture_link  \\\n",
       "05zEpbSqcs9E0rcnCJWyZ9OgdH0MLby                             None   \n",
       "mF5SZmoqxF4WtIlhLRvzuKk.z6s7P2S                             None   \n",
       "oQV5D7cVbCFwmrDs3pBUv2y.AG0WV26  3xjktRst3I5lDZ2Z5kTOtqQyzZFFN9u   \n",
       "Z9seBJWaB5NkSp4DQHDnCAUBTwov/1u                             None   \n",
       "bB3GxoAplVZeoX3fzWNWyeECtQFxw6G                             None   \n",
       "\n",
       "                                                                      instructions  \\\n",
       "05zEpbSqcs9E0rcnCJWyZ9OgdH0MLby  Beat the egg whites until stiff, gradually add...   \n",
       "mF5SZmoqxF4WtIlhLRvzuKk.z6s7P2S  Preheat oven to 400°F. Using small sharp knife...   \n",
       "oQV5D7cVbCFwmrDs3pBUv2y.AG0WV26  Preheat the oven to 350°F. Spread the softened...   \n",
       "Z9seBJWaB5NkSp4DQHDnCAUBTwov/1u  In a food processor blend the Stilton, the cre...   \n",
       "bB3GxoAplVZeoX3fzWNWyeECtQFxw6G  Position rack in center of oven and preheat to...   \n",
       "\n",
       "                                                                             title  \n",
       "05zEpbSqcs9E0rcnCJWyZ9OgdH0MLby                                  Christmas Eggnog   \n",
       "mF5SZmoqxF4WtIlhLRvzuKk.z6s7P2S                  Veal, Carrot and Chestnut Ragoût   \n",
       "oQV5D7cVbCFwmrDs3pBUv2y.AG0WV26  Caramelized Bread Pudding with Chocolate and C...  \n",
       "Z9seBJWaB5NkSp4DQHDnCAUBTwov/1u      Sherried Stilton and Green Peppercorn Spread   \n",
       "bB3GxoAplVZeoX3fzWNWyeECtQFxw6G                        Almond-Chocolate Macaroons   "
      ]
     },
     "execution_count": 21,
     "metadata": {},
     "output_type": "execute_result"
    }
   ],
   "source": [
    "#only about half of the epicurious dataset has pictures, also this is the smallest dataset. \n",
    "#the columns are also in a different order\n",
    "rb_epi.head()"
   ]
  },
  {
   "cell_type": "markdown",
   "metadata": {},
   "source": [
    "#### foodnetwork"
   ]
  },
  {
   "cell_type": "code",
   "execution_count": 22,
   "metadata": {
    "ExecuteTime": {
     "end_time": "2019-11-08T01:36:00.210326Z",
     "start_time": "2019-11-08T01:35:23.966770Z"
    }
   },
   "outputs": [],
   "source": [
    "rbdata_fn = pd.read_json(r'/Users/xinrucheng/Documents/GitHub/metisproject04/data/raw/recipes_raw/recipes_raw_nosource_fn.json')"
   ]
  },
  {
   "cell_type": "code",
   "execution_count": 23,
   "metadata": {
    "ExecuteTime": {
     "end_time": "2019-11-08T01:36:00.285603Z",
     "start_time": "2019-11-08T01:36:00.212647Z"
    }
   },
   "outputs": [],
   "source": [
    "rb_fn=rbdata_fn.T"
   ]
  },
  {
   "cell_type": "code",
   "execution_count": 24,
   "metadata": {
    "ExecuteTime": {
     "end_time": "2019-11-08T01:36:00.342163Z",
     "start_time": "2019-11-08T01:36:00.292444Z"
    }
   },
   "outputs": [
    {
     "name": "stdout",
     "output_type": "stream",
     "text": [
      "<class 'pandas.core.frame.DataFrame'>\n",
      "Index: 60039 entries, p3pKOD6jIHEcjf20CCXohP8uqkG5dGi to 7cXA77UpdDtIfBug2v6lEVIuV3Zcvhm\n",
      "Data columns (total 4 columns):\n",
      "instructions    59628 non-null object\n",
      "ingredients     59802 non-null object\n",
      "title           59750 non-null object\n",
      "picture_link    30952 non-null object\n",
      "dtypes: object(4)\n",
      "memory usage: 4.8+ MB\n"
     ]
    }
   ],
   "source": [
    "rb_fn.info()"
   ]
  },
  {
   "cell_type": "markdown",
   "metadata": {},
   "source": [
    "This is the largest single-source dataset with 60039 entries, but it has many missing values. \n",
    "What could cause the most issues for out purposes is missing title and ingredients. It would make sense to drop the rows that do not have title or ingredients, and even the ones missing instructions. We won't likely need the picture link, so we can drop those columns for all three files in the recipebox dataset."
   ]
  },
  {
   "cell_type": "code",
   "execution_count": 25,
   "metadata": {
    "ExecuteTime": {
     "end_time": "2019-11-08T01:36:00.377094Z",
     "start_time": "2019-11-08T01:36:00.347880Z"
    }
   },
   "outputs": [
    {
     "data": {
      "text/html": [
       "<div>\n",
       "<style scoped>\n",
       "    .dataframe tbody tr th:only-of-type {\n",
       "        vertical-align: middle;\n",
       "    }\n",
       "\n",
       "    .dataframe tbody tr th {\n",
       "        vertical-align: top;\n",
       "    }\n",
       "\n",
       "    .dataframe thead th {\n",
       "        text-align: right;\n",
       "    }\n",
       "</style>\n",
       "<table border=\"1\" class=\"dataframe\">\n",
       "  <thead>\n",
       "    <tr style=\"text-align: right;\">\n",
       "      <th></th>\n",
       "      <th>instructions</th>\n",
       "      <th>ingredients</th>\n",
       "      <th>title</th>\n",
       "      <th>picture_link</th>\n",
       "    </tr>\n",
       "  </thead>\n",
       "  <tbody>\n",
       "    <tr>\n",
       "      <td>p3pKOD6jIHEcjf20CCXohP8uqkG5dGi</td>\n",
       "      <td>Toss ingredients lightly and spoon into a butt...</td>\n",
       "      <td>[1/2 cup celery, finely chopped, 1 small green...</td>\n",
       "      <td>Grammie Hamblet's Deviled Crab</td>\n",
       "      <td>None</td>\n",
       "    </tr>\n",
       "    <tr>\n",
       "      <td>S7aeOIrsrgT0jLP32jKGg4j.o9zi2DO</td>\n",
       "      <td>Watch how to make this recipe.\\nSprinkle the s...</td>\n",
       "      <td>[2 pounds skirt steak, cut into 1/2-inch dice,...</td>\n",
       "      <td>Infineon Raceway Baked Beans</td>\n",
       "      <td>Ja5uaD8Q7m7vvtWwk2.48dr1eCre/qi</td>\n",
       "    </tr>\n",
       "    <tr>\n",
       "      <td>o9MItV9txfoPsUQ4v8b0vh1.VdjwfsK</td>\n",
       "      <td>In a large saucepan, let the beans soak in eno...</td>\n",
       "      <td>[1 1/2 cups dried black beans, picked over and...</td>\n",
       "      <td>Southwestern Black Bean Dip</td>\n",
       "      <td>None</td>\n",
       "    </tr>\n",
       "    <tr>\n",
       "      <td>5l1yTSYFifF/M2dfbD6DX28WWQpLWNK</td>\n",
       "      <td>Watch how to make this recipe.\\nPreheat the ov...</td>\n",
       "      <td>[1 1/4 pounds ground chuck, One 15-ounce can t...</td>\n",
       "      <td>Sour Cream Noodle Bake</td>\n",
       "      <td>nm/WxalB.VjEZSa0iX9RuZ8xI51Y7bS</td>\n",
       "    </tr>\n",
       "    <tr>\n",
       "      <td>kRBQSWtqYWqtkb34FGeenBSbC32gIdO</td>\n",
       "      <td>Special equipment: sushi mat\\nCook the brown r...</td>\n",
       "      <td>[1 cup rice, brown, medium-grain, cooked, 1/2-...</td>\n",
       "      <td>Sushi Renovation</td>\n",
       "      <td>None</td>\n",
       "    </tr>\n",
       "  </tbody>\n",
       "</table>\n",
       "</div>"
      ],
      "text/plain": [
       "                                                                      instructions  \\\n",
       "p3pKOD6jIHEcjf20CCXohP8uqkG5dGi  Toss ingredients lightly and spoon into a butt...   \n",
       "S7aeOIrsrgT0jLP32jKGg4j.o9zi2DO  Watch how to make this recipe.\\nSprinkle the s...   \n",
       "o9MItV9txfoPsUQ4v8b0vh1.VdjwfsK  In a large saucepan, let the beans soak in eno...   \n",
       "5l1yTSYFifF/M2dfbD6DX28WWQpLWNK  Watch how to make this recipe.\\nPreheat the ov...   \n",
       "kRBQSWtqYWqtkb34FGeenBSbC32gIdO  Special equipment: sushi mat\\nCook the brown r...   \n",
       "\n",
       "                                                                       ingredients  \\\n",
       "p3pKOD6jIHEcjf20CCXohP8uqkG5dGi  [1/2 cup celery, finely chopped, 1 small green...   \n",
       "S7aeOIrsrgT0jLP32jKGg4j.o9zi2DO  [2 pounds skirt steak, cut into 1/2-inch dice,...   \n",
       "o9MItV9txfoPsUQ4v8b0vh1.VdjwfsK  [1 1/2 cups dried black beans, picked over and...   \n",
       "5l1yTSYFifF/M2dfbD6DX28WWQpLWNK  [1 1/4 pounds ground chuck, One 15-ounce can t...   \n",
       "kRBQSWtqYWqtkb34FGeenBSbC32gIdO  [1 cup rice, brown, medium-grain, cooked, 1/2-...   \n",
       "\n",
       "                                                          title  \\\n",
       "p3pKOD6jIHEcjf20CCXohP8uqkG5dGi  Grammie Hamblet's Deviled Crab   \n",
       "S7aeOIrsrgT0jLP32jKGg4j.o9zi2DO    Infineon Raceway Baked Beans   \n",
       "o9MItV9txfoPsUQ4v8b0vh1.VdjwfsK     Southwestern Black Bean Dip   \n",
       "5l1yTSYFifF/M2dfbD6DX28WWQpLWNK          Sour Cream Noodle Bake   \n",
       "kRBQSWtqYWqtkb34FGeenBSbC32gIdO                Sushi Renovation   \n",
       "\n",
       "                                                    picture_link  \n",
       "p3pKOD6jIHEcjf20CCXohP8uqkG5dGi                             None  \n",
       "S7aeOIrsrgT0jLP32jKGg4j.o9zi2DO  Ja5uaD8Q7m7vvtWwk2.48dr1eCre/qi  \n",
       "o9MItV9txfoPsUQ4v8b0vh1.VdjwfsK                             None  \n",
       "5l1yTSYFifF/M2dfbD6DX28WWQpLWNK  nm/WxalB.VjEZSa0iX9RuZ8xI51Y7bS  \n",
       "kRBQSWtqYWqtkb34FGeenBSbC32gIdO                             None  "
      ]
     },
     "execution_count": 25,
     "metadata": {},
     "output_type": "execute_result"
    }
   ],
   "source": [
    "rb_fn.head()"
   ]
  },
  {
   "cell_type": "code",
   "execution_count": null,
   "metadata": {},
   "outputs": [],
   "source": []
  },
  {
   "cell_type": "markdown",
   "metadata": {},
   "source": [
    "### Data cleaning"
   ]
  },
  {
   "cell_type": "code",
   "execution_count": 26,
   "metadata": {
    "ExecuteTime": {
     "end_time": "2019-11-08T01:36:00.394800Z",
     "start_time": "2019-11-08T01:36:00.391192Z"
    }
   },
   "outputs": [],
   "source": [
    "#drop id columns in what's cooking dataset, drop picture_link columns in all 3 recipebox datasets\n",
    "\n",
    "#also drop missing values in foodnetwork and allrecipes data. wsc and epicurious do not have missing values"
   ]
  },
  {
   "cell_type": "markdown",
   "metadata": {},
   "source": [
    "#### clean small data set (what's cooking)"
   ]
  },
  {
   "cell_type": "code",
   "execution_count": 27,
   "metadata": {
    "ExecuteTime": {
     "end_time": "2019-11-08T01:36:00.420549Z",
     "start_time": "2019-11-08T01:36:00.397751Z"
    }
   },
   "outputs": [
    {
     "data": {
      "text/html": [
       "<div>\n",
       "<style scoped>\n",
       "    .dataframe tbody tr th:only-of-type {\n",
       "        vertical-align: middle;\n",
       "    }\n",
       "\n",
       "    .dataframe tbody tr th {\n",
       "        vertical-align: top;\n",
       "    }\n",
       "\n",
       "    .dataframe thead th {\n",
       "        text-align: right;\n",
       "    }\n",
       "</style>\n",
       "<table border=\"1\" class=\"dataframe\">\n",
       "  <thead>\n",
       "    <tr style=\"text-align: right;\">\n",
       "      <th></th>\n",
       "      <th>cuisine</th>\n",
       "      <th>ingredients</th>\n",
       "    </tr>\n",
       "  </thead>\n",
       "  <tbody>\n",
       "    <tr>\n",
       "      <td>0</td>\n",
       "      <td>greek</td>\n",
       "      <td>[romaine lettuce, black olives, grape tomatoes...</td>\n",
       "    </tr>\n",
       "    <tr>\n",
       "      <td>1</td>\n",
       "      <td>southern_us</td>\n",
       "      <td>[plain flour, ground pepper, salt, tomatoes, g...</td>\n",
       "    </tr>\n",
       "    <tr>\n",
       "      <td>2</td>\n",
       "      <td>filipino</td>\n",
       "      <td>[eggs, pepper, salt, mayonaise, cooking oil, g...</td>\n",
       "    </tr>\n",
       "    <tr>\n",
       "      <td>3</td>\n",
       "      <td>indian</td>\n",
       "      <td>[water, vegetable oil, wheat, salt]</td>\n",
       "    </tr>\n",
       "    <tr>\n",
       "      <td>4</td>\n",
       "      <td>indian</td>\n",
       "      <td>[black pepper, shallots, cornflour, cayenne pe...</td>\n",
       "    </tr>\n",
       "  </tbody>\n",
       "</table>\n",
       "</div>"
      ],
      "text/plain": [
       "       cuisine                                        ingredients\n",
       "0        greek  [romaine lettuce, black olives, grape tomatoes...\n",
       "1  southern_us  [plain flour, ground pepper, salt, tomatoes, g...\n",
       "2     filipino  [eggs, pepper, salt, mayonaise, cooking oil, g...\n",
       "3       indian                [water, vegetable oil, wheat, salt]\n",
       "4       indian  [black pepper, shallots, cornflour, cayenne pe..."
      ]
     },
     "execution_count": 27,
     "metadata": {},
     "output_type": "execute_result"
    }
   ],
   "source": [
    "cdf=cdata.iloc[:,1:] #make new df, drop id column\n",
    "cdf.head()"
   ]
  },
  {
   "cell_type": "code",
   "execution_count": null,
   "metadata": {},
   "outputs": [],
   "source": []
  },
  {
   "cell_type": "markdown",
   "metadata": {},
   "source": [
    "#### drop nulls from recipebox - fn and ar"
   ]
  },
  {
   "cell_type": "code",
   "execution_count": 28,
   "metadata": {
    "ExecuteTime": {
     "end_time": "2019-11-08T01:36:00.428383Z",
     "start_time": "2019-11-08T01:36:00.423670Z"
    }
   },
   "outputs": [],
   "source": [
    "#rb_ar.describe() #very slow in execution, why?"
   ]
  },
  {
   "cell_type": "markdown",
   "metadata": {},
   "source": [
    "1. Clean allrecipes data"
   ]
  },
  {
   "cell_type": "code",
   "execution_count": 29,
   "metadata": {
    "ExecuteTime": {
     "end_time": "2019-11-08T01:36:00.466851Z",
     "start_time": "2019-11-08T01:36:00.436290Z"
    }
   },
   "outputs": [
    {
     "data": {
      "text/html": [
       "<div>\n",
       "<style scoped>\n",
       "    .dataframe tbody tr th:only-of-type {\n",
       "        vertical-align: middle;\n",
       "    }\n",
       "\n",
       "    .dataframe tbody tr th {\n",
       "        vertical-align: top;\n",
       "    }\n",
       "\n",
       "    .dataframe thead th {\n",
       "        text-align: right;\n",
       "    }\n",
       "</style>\n",
       "<table border=\"1\" class=\"dataframe\">\n",
       "  <thead>\n",
       "    <tr style=\"text-align: right;\">\n",
       "      <th></th>\n",
       "      <th>title</th>\n",
       "      <th>ingredients</th>\n",
       "      <th>instructions</th>\n",
       "    </tr>\n",
       "  </thead>\n",
       "  <tbody>\n",
       "    <tr>\n",
       "      <td>rmK12Uau.ntP510KeImX506H6Mr6jTu</td>\n",
       "      <td>Slow Cooker Chicken and Dumplings</td>\n",
       "      <td>[4 skinless, boneless chicken breast halves AD...</td>\n",
       "      <td>Place the chicken, butter, soup, and onion in ...</td>\n",
       "    </tr>\n",
       "    <tr>\n",
       "      <td>5ZpZE8hSVdPk2ZXo1mZTyoPWJRSCPSm</td>\n",
       "      <td>Awesome Slow Cooker Pot Roast</td>\n",
       "      <td>[2 (10.75 ounce) cans condensed cream of mushr...</td>\n",
       "      <td>In a slow cooker, mix cream of mushroom soup, ...</td>\n",
       "    </tr>\n",
       "    <tr>\n",
       "      <td>clyYQv.CplpwJtjNaFGhx0VilNYqRxu</td>\n",
       "      <td>Brown Sugar Meatloaf</td>\n",
       "      <td>[1/2 cup packed brown sugar ADVERTISEMENT, 1/2...</td>\n",
       "      <td>Preheat oven to 350 degrees F (175 degrees C)....</td>\n",
       "    </tr>\n",
       "    <tr>\n",
       "      <td>BmqFAmCrDHiKNwX.IQzb0U/v0mLlxFu</td>\n",
       "      <td>Best Chocolate Chip Cookies</td>\n",
       "      <td>[1 cup butter, softened ADVERTISEMENT, 1 cup w...</td>\n",
       "      <td>Preheat oven to 350 degrees F (175 degrees C)....</td>\n",
       "    </tr>\n",
       "    <tr>\n",
       "      <td>N.jCksRjB4MFwbgPFQU8Kg.yF.XCtOi</td>\n",
       "      <td>Homemade Mac and Cheese Casserole</td>\n",
       "      <td>[8 ounces whole wheat rotini pasta ADVERTISEME...</td>\n",
       "      <td>Preheat oven to 350 degrees F. Line a 2-quart ...</td>\n",
       "    </tr>\n",
       "  </tbody>\n",
       "</table>\n",
       "</div>"
      ],
      "text/plain": [
       "                                                             title  \\\n",
       "rmK12Uau.ntP510KeImX506H6Mr6jTu  Slow Cooker Chicken and Dumplings   \n",
       "5ZpZE8hSVdPk2ZXo1mZTyoPWJRSCPSm      Awesome Slow Cooker Pot Roast   \n",
       "clyYQv.CplpwJtjNaFGhx0VilNYqRxu               Brown Sugar Meatloaf   \n",
       "BmqFAmCrDHiKNwX.IQzb0U/v0mLlxFu        Best Chocolate Chip Cookies   \n",
       "N.jCksRjB4MFwbgPFQU8Kg.yF.XCtOi  Homemade Mac and Cheese Casserole   \n",
       "\n",
       "                                                                       ingredients  \\\n",
       "rmK12Uau.ntP510KeImX506H6Mr6jTu  [4 skinless, boneless chicken breast halves AD...   \n",
       "5ZpZE8hSVdPk2ZXo1mZTyoPWJRSCPSm  [2 (10.75 ounce) cans condensed cream of mushr...   \n",
       "clyYQv.CplpwJtjNaFGhx0VilNYqRxu  [1/2 cup packed brown sugar ADVERTISEMENT, 1/2...   \n",
       "BmqFAmCrDHiKNwX.IQzb0U/v0mLlxFu  [1 cup butter, softened ADVERTISEMENT, 1 cup w...   \n",
       "N.jCksRjB4MFwbgPFQU8Kg.yF.XCtOi  [8 ounces whole wheat rotini pasta ADVERTISEME...   \n",
       "\n",
       "                                                                      instructions  \n",
       "rmK12Uau.ntP510KeImX506H6Mr6jTu  Place the chicken, butter, soup, and onion in ...  \n",
       "5ZpZE8hSVdPk2ZXo1mZTyoPWJRSCPSm  In a slow cooker, mix cream of mushroom soup, ...  \n",
       "clyYQv.CplpwJtjNaFGhx0VilNYqRxu  Preheat oven to 350 degrees F (175 degrees C)....  \n",
       "BmqFAmCrDHiKNwX.IQzb0U/v0mLlxFu  Preheat oven to 350 degrees F (175 degrees C)....  \n",
       "N.jCksRjB4MFwbgPFQU8Kg.yF.XCtOi  Preheat oven to 350 degrees F. Line a 2-quart ...  "
      ]
     },
     "execution_count": 29,
     "metadata": {},
     "output_type": "execute_result"
    }
   ],
   "source": [
    "ardf=rb_ar.loc[:,['title','ingredients','instructions']] #drop picture_link column\n",
    "ardf.head()"
   ]
  },
  {
   "cell_type": "code",
   "execution_count": 30,
   "metadata": {
    "ExecuteTime": {
     "end_time": "2019-11-08T01:36:00.503728Z",
     "start_time": "2019-11-08T01:36:00.470134Z"
    }
   },
   "outputs": [
    {
     "name": "stdout",
     "output_type": "stream",
     "text": [
      "<class 'pandas.core.frame.DataFrame'>\n",
      "Index: 39802 entries, rmK12Uau.ntP510KeImX506H6Mr6jTu to 2Q3Zpfgt/PUwn1YABjJ5A9T3ZW8xwVa\n",
      "Data columns (total 3 columns):\n",
      "title           39522 non-null object\n",
      "ingredients     39522 non-null object\n",
      "instructions    39522 non-null object\n",
      "dtypes: object(3)\n",
      "memory usage: 2.5+ MB\n"
     ]
    }
   ],
   "source": [
    "ardf.info()"
   ]
  },
  {
   "cell_type": "code",
   "execution_count": 31,
   "metadata": {
    "ExecuteTime": {
     "end_time": "2019-11-08T01:36:00.589608Z",
     "start_time": "2019-11-08T01:36:00.507860Z"
    }
   },
   "outputs": [
    {
     "data": {
      "text/html": [
       "<div>\n",
       "<style scoped>\n",
       "    .dataframe tbody tr th:only-of-type {\n",
       "        vertical-align: middle;\n",
       "    }\n",
       "\n",
       "    .dataframe tbody tr th {\n",
       "        vertical-align: top;\n",
       "    }\n",
       "\n",
       "    .dataframe thead th {\n",
       "        text-align: right;\n",
       "    }\n",
       "</style>\n",
       "<table border=\"1\" class=\"dataframe\">\n",
       "  <thead>\n",
       "    <tr style=\"text-align: right;\">\n",
       "      <th></th>\n",
       "      <th>title</th>\n",
       "      <th>ingredients</th>\n",
       "      <th>instructions</th>\n",
       "    </tr>\n",
       "  </thead>\n",
       "  <tbody>\n",
       "    <tr>\n",
       "      <td>rmK12Uau.ntP510KeImX506H6Mr6jTu</td>\n",
       "      <td>Slow Cooker Chicken and Dumplings</td>\n",
       "      <td>[4 skinless, boneless chicken breast halves AD...</td>\n",
       "      <td>Place the chicken, butter, soup, and onion in ...</td>\n",
       "    </tr>\n",
       "    <tr>\n",
       "      <td>5ZpZE8hSVdPk2ZXo1mZTyoPWJRSCPSm</td>\n",
       "      <td>Awesome Slow Cooker Pot Roast</td>\n",
       "      <td>[2 (10.75 ounce) cans condensed cream of mushr...</td>\n",
       "      <td>In a slow cooker, mix cream of mushroom soup, ...</td>\n",
       "    </tr>\n",
       "    <tr>\n",
       "      <td>clyYQv.CplpwJtjNaFGhx0VilNYqRxu</td>\n",
       "      <td>Brown Sugar Meatloaf</td>\n",
       "      <td>[1/2 cup packed brown sugar ADVERTISEMENT, 1/2...</td>\n",
       "      <td>Preheat oven to 350 degrees F (175 degrees C)....</td>\n",
       "    </tr>\n",
       "    <tr>\n",
       "      <td>BmqFAmCrDHiKNwX.IQzb0U/v0mLlxFu</td>\n",
       "      <td>Best Chocolate Chip Cookies</td>\n",
       "      <td>[1 cup butter, softened ADVERTISEMENT, 1 cup w...</td>\n",
       "      <td>Preheat oven to 350 degrees F (175 degrees C)....</td>\n",
       "    </tr>\n",
       "    <tr>\n",
       "      <td>N.jCksRjB4MFwbgPFQU8Kg.yF.XCtOi</td>\n",
       "      <td>Homemade Mac and Cheese Casserole</td>\n",
       "      <td>[8 ounces whole wheat rotini pasta ADVERTISEME...</td>\n",
       "      <td>Preheat oven to 350 degrees F. Line a 2-quart ...</td>\n",
       "    </tr>\n",
       "    <tr>\n",
       "      <td>...</td>\n",
       "      <td>...</td>\n",
       "      <td>...</td>\n",
       "      <td>...</td>\n",
       "    </tr>\n",
       "    <tr>\n",
       "      <td>gehEOcDPtU3SmNSXrwWwWD4ulPpUdMO</td>\n",
       "      <td>Thai-Indian Veggie Soup</td>\n",
       "      <td>[2 teaspoons olive oil ADVERTISEMENT, 1/4 cup ...</td>\n",
       "      <td>Heat oil in a large pot over medium heat. Add ...</td>\n",
       "    </tr>\n",
       "    <tr>\n",
       "      <td>VRAsyF.1xMBYqAVKX1biyIORH6N6qzy</td>\n",
       "      <td>Coconut Milk-Free Panang Curry Chicken</td>\n",
       "      <td>[2 cups light cream ADVERTISEMENT, 1/4 teaspoo...</td>\n",
       "      <td>Heat cream and coconut extract in a skillet or...</td>\n",
       "    </tr>\n",
       "    <tr>\n",
       "      <td>Lf8/u.0k2029QMSQFrHS4gRsvKOQFUG</td>\n",
       "      <td>Cooked Cold Salad</td>\n",
       "      <td>[3 tablespoons bacon grease ADVERTISEMENT, 2 c...</td>\n",
       "      <td>Heat bacon grease in a skillet over medium-hig...</td>\n",
       "    </tr>\n",
       "    <tr>\n",
       "      <td>ay.AqX/9ysBtWHcnHoDeGAyJ5Orla8e</td>\n",
       "      <td>Easy Eggnog Creme Brulee</td>\n",
       "      <td>[4 egg yolks ADVERTISEMENT, 1 tablespoon white...</td>\n",
       "      <td>Preheat oven to 350 degrees F (175 degrees C)....</td>\n",
       "    </tr>\n",
       "    <tr>\n",
       "      <td>2Q3Zpfgt/PUwn1YABjJ5A9T3ZW8xwVa</td>\n",
       "      <td>Super Power Stovetop Granola</td>\n",
       "      <td>[1/4 cup canola oil ADVERTISEMENT, 3 cups quic...</td>\n",
       "      <td>Heat 1/4 cup canola oil in large skillet over ...</td>\n",
       "    </tr>\n",
       "  </tbody>\n",
       "</table>\n",
       "<p>39522 rows × 3 columns</p>\n",
       "</div>"
      ],
      "text/plain": [
       "                                                                  title  \\\n",
       "rmK12Uau.ntP510KeImX506H6Mr6jTu       Slow Cooker Chicken and Dumplings   \n",
       "5ZpZE8hSVdPk2ZXo1mZTyoPWJRSCPSm           Awesome Slow Cooker Pot Roast   \n",
       "clyYQv.CplpwJtjNaFGhx0VilNYqRxu                    Brown Sugar Meatloaf   \n",
       "BmqFAmCrDHiKNwX.IQzb0U/v0mLlxFu             Best Chocolate Chip Cookies   \n",
       "N.jCksRjB4MFwbgPFQU8Kg.yF.XCtOi       Homemade Mac and Cheese Casserole   \n",
       "...                                                                 ...   \n",
       "gehEOcDPtU3SmNSXrwWwWD4ulPpUdMO                 Thai-Indian Veggie Soup   \n",
       "VRAsyF.1xMBYqAVKX1biyIORH6N6qzy  Coconut Milk-Free Panang Curry Chicken   \n",
       "Lf8/u.0k2029QMSQFrHS4gRsvKOQFUG                       Cooked Cold Salad   \n",
       "ay.AqX/9ysBtWHcnHoDeGAyJ5Orla8e                Easy Eggnog Creme Brulee   \n",
       "2Q3Zpfgt/PUwn1YABjJ5A9T3ZW8xwVa            Super Power Stovetop Granola   \n",
       "\n",
       "                                                                       ingredients  \\\n",
       "rmK12Uau.ntP510KeImX506H6Mr6jTu  [4 skinless, boneless chicken breast halves AD...   \n",
       "5ZpZE8hSVdPk2ZXo1mZTyoPWJRSCPSm  [2 (10.75 ounce) cans condensed cream of mushr...   \n",
       "clyYQv.CplpwJtjNaFGhx0VilNYqRxu  [1/2 cup packed brown sugar ADVERTISEMENT, 1/2...   \n",
       "BmqFAmCrDHiKNwX.IQzb0U/v0mLlxFu  [1 cup butter, softened ADVERTISEMENT, 1 cup w...   \n",
       "N.jCksRjB4MFwbgPFQU8Kg.yF.XCtOi  [8 ounces whole wheat rotini pasta ADVERTISEME...   \n",
       "...                                                                            ...   \n",
       "gehEOcDPtU3SmNSXrwWwWD4ulPpUdMO  [2 teaspoons olive oil ADVERTISEMENT, 1/4 cup ...   \n",
       "VRAsyF.1xMBYqAVKX1biyIORH6N6qzy  [2 cups light cream ADVERTISEMENT, 1/4 teaspoo...   \n",
       "Lf8/u.0k2029QMSQFrHS4gRsvKOQFUG  [3 tablespoons bacon grease ADVERTISEMENT, 2 c...   \n",
       "ay.AqX/9ysBtWHcnHoDeGAyJ5Orla8e  [4 egg yolks ADVERTISEMENT, 1 tablespoon white...   \n",
       "2Q3Zpfgt/PUwn1YABjJ5A9T3ZW8xwVa  [1/4 cup canola oil ADVERTISEMENT, 3 cups quic...   \n",
       "\n",
       "                                                                      instructions  \n",
       "rmK12Uau.ntP510KeImX506H6Mr6jTu  Place the chicken, butter, soup, and onion in ...  \n",
       "5ZpZE8hSVdPk2ZXo1mZTyoPWJRSCPSm  In a slow cooker, mix cream of mushroom soup, ...  \n",
       "clyYQv.CplpwJtjNaFGhx0VilNYqRxu  Preheat oven to 350 degrees F (175 degrees C)....  \n",
       "BmqFAmCrDHiKNwX.IQzb0U/v0mLlxFu  Preheat oven to 350 degrees F (175 degrees C)....  \n",
       "N.jCksRjB4MFwbgPFQU8Kg.yF.XCtOi  Preheat oven to 350 degrees F. Line a 2-quart ...  \n",
       "...                                                                            ...  \n",
       "gehEOcDPtU3SmNSXrwWwWD4ulPpUdMO  Heat oil in a large pot over medium heat. Add ...  \n",
       "VRAsyF.1xMBYqAVKX1biyIORH6N6qzy  Heat cream and coconut extract in a skillet or...  \n",
       "Lf8/u.0k2029QMSQFrHS4gRsvKOQFUG  Heat bacon grease in a skillet over medium-hig...  \n",
       "ay.AqX/9ysBtWHcnHoDeGAyJ5Orla8e  Preheat oven to 350 degrees F (175 degrees C)....  \n",
       "2Q3Zpfgt/PUwn1YABjJ5A9T3ZW8xwVa  Heat 1/4 cup canola oil in large skillet over ...  \n",
       "\n",
       "[39522 rows x 3 columns]"
      ]
     },
     "execution_count": 31,
     "metadata": {},
     "output_type": "execute_result"
    }
   ],
   "source": [
    "#still has ~300 null rows? drop those also\n",
    "ardf=ardf.dropna(how='any')\n",
    "ardf\n"
   ]
  },
  {
   "cell_type": "code",
   "execution_count": 32,
   "metadata": {
    "ExecuteTime": {
     "end_time": "2019-11-08T01:36:00.596197Z",
     "start_time": "2019-11-08T01:36:00.592425Z"
    }
   },
   "outputs": [],
   "source": [
    "#Now have 39522 observations (recipes) with no null values\n",
    "\n",
    "#*still need to get rid of link as well as punctuations before further processing\n",
    "\n",
    "#also the word ADVERTISEMENT shows up a lot - filter it out"
   ]
  },
  {
   "cell_type": "markdown",
   "metadata": {},
   "source": [
    "2. clean epicurious data\n",
    "\n",
    "No missing values in other features, just drop picture_link column\n"
   ]
  },
  {
   "cell_type": "code",
   "execution_count": 33,
   "metadata": {
    "ExecuteTime": {
     "end_time": "2019-11-08T01:36:00.621759Z",
     "start_time": "2019-11-08T01:36:00.599081Z"
    }
   },
   "outputs": [
    {
     "data": {
      "text/html": [
       "<div>\n",
       "<style scoped>\n",
       "    .dataframe tbody tr th:only-of-type {\n",
       "        vertical-align: middle;\n",
       "    }\n",
       "\n",
       "    .dataframe tbody tr th {\n",
       "        vertical-align: top;\n",
       "    }\n",
       "\n",
       "    .dataframe thead th {\n",
       "        text-align: right;\n",
       "    }\n",
       "</style>\n",
       "<table border=\"1\" class=\"dataframe\">\n",
       "  <thead>\n",
       "    <tr style=\"text-align: right;\">\n",
       "      <th></th>\n",
       "      <th>title</th>\n",
       "      <th>ingredients</th>\n",
       "      <th>instructions</th>\n",
       "    </tr>\n",
       "  </thead>\n",
       "  <tbody>\n",
       "    <tr>\n",
       "      <td>05zEpbSqcs9E0rcnCJWyZ9OgdH0MLby</td>\n",
       "      <td>Christmas Eggnog</td>\n",
       "      <td>[12 egg whites, 12 egg yolks, 1 1/2 cups sugar...</td>\n",
       "      <td>Beat the egg whites until stiff, gradually add...</td>\n",
       "    </tr>\n",
       "    <tr>\n",
       "      <td>mF5SZmoqxF4WtIlhLRvzuKk.z6s7P2S</td>\n",
       "      <td>Veal, Carrot and Chestnut Ragoût</td>\n",
       "      <td>[18 fresh chestnuts, 2 1/2 pounds veal stew me...</td>\n",
       "      <td>Preheat oven to 400°F. Using small sharp knife...</td>\n",
       "    </tr>\n",
       "    <tr>\n",
       "      <td>oQV5D7cVbCFwmrDs3pBUv2y.AG0WV26</td>\n",
       "      <td>Caramelized Bread Pudding with Chocolate and C...</td>\n",
       "      <td>[2 tablespoons unsalted butter, softened, 4 or...</td>\n",
       "      <td>Preheat the oven to 350°F. Spread the softened...</td>\n",
       "    </tr>\n",
       "    <tr>\n",
       "      <td>Z9seBJWaB5NkSp4DQHDnCAUBTwov/1u</td>\n",
       "      <td>Sherried Stilton and Green Peppercorn Spread</td>\n",
       "      <td>[3/4 pound Stilton, crumbled (about 3 cups) an...</td>\n",
       "      <td>In a food processor blend the Stilton, the cre...</td>\n",
       "    </tr>\n",
       "    <tr>\n",
       "      <td>bB3GxoAplVZeoX3fzWNWyeECtQFxw6G</td>\n",
       "      <td>Almond-Chocolate Macaroons</td>\n",
       "      <td>[2 cups (about 9 1/2 ounces) whole almonds, to...</td>\n",
       "      <td>Position rack in center of oven and preheat to...</td>\n",
       "    </tr>\n",
       "  </tbody>\n",
       "</table>\n",
       "</div>"
      ],
      "text/plain": [
       "                                                                             title  \\\n",
       "05zEpbSqcs9E0rcnCJWyZ9OgdH0MLby                                  Christmas Eggnog    \n",
       "mF5SZmoqxF4WtIlhLRvzuKk.z6s7P2S                  Veal, Carrot and Chestnut Ragoût    \n",
       "oQV5D7cVbCFwmrDs3pBUv2y.AG0WV26  Caramelized Bread Pudding with Chocolate and C...   \n",
       "Z9seBJWaB5NkSp4DQHDnCAUBTwov/1u      Sherried Stilton and Green Peppercorn Spread    \n",
       "bB3GxoAplVZeoX3fzWNWyeECtQFxw6G                        Almond-Chocolate Macaroons    \n",
       "\n",
       "                                                                       ingredients  \\\n",
       "05zEpbSqcs9E0rcnCJWyZ9OgdH0MLby  [12 egg whites, 12 egg yolks, 1 1/2 cups sugar...   \n",
       "mF5SZmoqxF4WtIlhLRvzuKk.z6s7P2S  [18 fresh chestnuts, 2 1/2 pounds veal stew me...   \n",
       "oQV5D7cVbCFwmrDs3pBUv2y.AG0WV26  [2 tablespoons unsalted butter, softened, 4 or...   \n",
       "Z9seBJWaB5NkSp4DQHDnCAUBTwov/1u  [3/4 pound Stilton, crumbled (about 3 cups) an...   \n",
       "bB3GxoAplVZeoX3fzWNWyeECtQFxw6G  [2 cups (about 9 1/2 ounces) whole almonds, to...   \n",
       "\n",
       "                                                                      instructions  \n",
       "05zEpbSqcs9E0rcnCJWyZ9OgdH0MLby  Beat the egg whites until stiff, gradually add...  \n",
       "mF5SZmoqxF4WtIlhLRvzuKk.z6s7P2S  Preheat oven to 400°F. Using small sharp knife...  \n",
       "oQV5D7cVbCFwmrDs3pBUv2y.AG0WV26  Preheat the oven to 350°F. Spread the softened...  \n",
       "Z9seBJWaB5NkSp4DQHDnCAUBTwov/1u  In a food processor blend the Stilton, the cre...  \n",
       "bB3GxoAplVZeoX3fzWNWyeECtQFxw6G  Position rack in center of oven and preheat to...  "
      ]
     },
     "execution_count": 33,
     "metadata": {},
     "output_type": "execute_result"
    }
   ],
   "source": [
    "epidf=rb_epi.loc[:,['title','ingredients','instructions']] #drop picture_link column\n",
    "epidf.head()"
   ]
  },
  {
   "cell_type": "code",
   "execution_count": 34,
   "metadata": {
    "ExecuteTime": {
     "end_time": "2019-11-08T01:36:00.642775Z",
     "start_time": "2019-11-08T01:36:00.624377Z"
    }
   },
   "outputs": [
    {
     "name": "stdout",
     "output_type": "stream",
     "text": [
      "<class 'pandas.core.frame.DataFrame'>\n",
      "Index: 25323 entries, 05zEpbSqcs9E0rcnCJWyZ9OgdH0MLby to qznqHiNpq0AB1AYn002A2HvaEFnN0lq\n",
      "Data columns (total 3 columns):\n",
      "title           25323 non-null object\n",
      "ingredients     25323 non-null object\n",
      "instructions    25323 non-null object\n",
      "dtypes: object(3)\n",
      "memory usage: 2.0+ MB\n"
     ]
    }
   ],
   "source": [
    "epidf.info() #no nulls"
   ]
  },
  {
   "cell_type": "code",
   "execution_count": 35,
   "metadata": {
    "ExecuteTime": {
     "end_time": "2019-11-08T01:36:00.650030Z",
     "start_time": "2019-11-08T01:36:00.645649Z"
    }
   },
   "outputs": [],
   "source": [
    "epiclean = epidf"
   ]
  },
  {
   "cell_type": "markdown",
   "metadata": {},
   "source": [
    "3. clean food network data\n",
    "\n",
    "drop picture_link column as well as nulls"
   ]
  },
  {
   "cell_type": "code",
   "execution_count": 36,
   "metadata": {
    "ExecuteTime": {
     "end_time": "2019-11-08T01:36:00.676404Z",
     "start_time": "2019-11-08T01:36:00.653695Z"
    }
   },
   "outputs": [
    {
     "data": {
      "text/html": [
       "<div>\n",
       "<style scoped>\n",
       "    .dataframe tbody tr th:only-of-type {\n",
       "        vertical-align: middle;\n",
       "    }\n",
       "\n",
       "    .dataframe tbody tr th {\n",
       "        vertical-align: top;\n",
       "    }\n",
       "\n",
       "    .dataframe thead th {\n",
       "        text-align: right;\n",
       "    }\n",
       "</style>\n",
       "<table border=\"1\" class=\"dataframe\">\n",
       "  <thead>\n",
       "    <tr style=\"text-align: right;\">\n",
       "      <th></th>\n",
       "      <th>title</th>\n",
       "      <th>ingredients</th>\n",
       "      <th>instructions</th>\n",
       "    </tr>\n",
       "  </thead>\n",
       "  <tbody>\n",
       "    <tr>\n",
       "      <td>p3pKOD6jIHEcjf20CCXohP8uqkG5dGi</td>\n",
       "      <td>Grammie Hamblet's Deviled Crab</td>\n",
       "      <td>[1/2 cup celery, finely chopped, 1 small green...</td>\n",
       "      <td>Toss ingredients lightly and spoon into a butt...</td>\n",
       "    </tr>\n",
       "    <tr>\n",
       "      <td>S7aeOIrsrgT0jLP32jKGg4j.o9zi2DO</td>\n",
       "      <td>Infineon Raceway Baked Beans</td>\n",
       "      <td>[2 pounds skirt steak, cut into 1/2-inch dice,...</td>\n",
       "      <td>Watch how to make this recipe.\\nSprinkle the s...</td>\n",
       "    </tr>\n",
       "    <tr>\n",
       "      <td>o9MItV9txfoPsUQ4v8b0vh1.VdjwfsK</td>\n",
       "      <td>Southwestern Black Bean Dip</td>\n",
       "      <td>[1 1/2 cups dried black beans, picked over and...</td>\n",
       "      <td>In a large saucepan, let the beans soak in eno...</td>\n",
       "    </tr>\n",
       "    <tr>\n",
       "      <td>5l1yTSYFifF/M2dfbD6DX28WWQpLWNK</td>\n",
       "      <td>Sour Cream Noodle Bake</td>\n",
       "      <td>[1 1/4 pounds ground chuck, One 15-ounce can t...</td>\n",
       "      <td>Watch how to make this recipe.\\nPreheat the ov...</td>\n",
       "    </tr>\n",
       "    <tr>\n",
       "      <td>kRBQSWtqYWqtkb34FGeenBSbC32gIdO</td>\n",
       "      <td>Sushi Renovation</td>\n",
       "      <td>[1 cup rice, brown, medium-grain, cooked, 1/2-...</td>\n",
       "      <td>Special equipment: sushi mat\\nCook the brown r...</td>\n",
       "    </tr>\n",
       "  </tbody>\n",
       "</table>\n",
       "</div>"
      ],
      "text/plain": [
       "                                                          title  \\\n",
       "p3pKOD6jIHEcjf20CCXohP8uqkG5dGi  Grammie Hamblet's Deviled Crab   \n",
       "S7aeOIrsrgT0jLP32jKGg4j.o9zi2DO    Infineon Raceway Baked Beans   \n",
       "o9MItV9txfoPsUQ4v8b0vh1.VdjwfsK     Southwestern Black Bean Dip   \n",
       "5l1yTSYFifF/M2dfbD6DX28WWQpLWNK          Sour Cream Noodle Bake   \n",
       "kRBQSWtqYWqtkb34FGeenBSbC32gIdO                Sushi Renovation   \n",
       "\n",
       "                                                                       ingredients  \\\n",
       "p3pKOD6jIHEcjf20CCXohP8uqkG5dGi  [1/2 cup celery, finely chopped, 1 small green...   \n",
       "S7aeOIrsrgT0jLP32jKGg4j.o9zi2DO  [2 pounds skirt steak, cut into 1/2-inch dice,...   \n",
       "o9MItV9txfoPsUQ4v8b0vh1.VdjwfsK  [1 1/2 cups dried black beans, picked over and...   \n",
       "5l1yTSYFifF/M2dfbD6DX28WWQpLWNK  [1 1/4 pounds ground chuck, One 15-ounce can t...   \n",
       "kRBQSWtqYWqtkb34FGeenBSbC32gIdO  [1 cup rice, brown, medium-grain, cooked, 1/2-...   \n",
       "\n",
       "                                                                      instructions  \n",
       "p3pKOD6jIHEcjf20CCXohP8uqkG5dGi  Toss ingredients lightly and spoon into a butt...  \n",
       "S7aeOIrsrgT0jLP32jKGg4j.o9zi2DO  Watch how to make this recipe.\\nSprinkle the s...  \n",
       "o9MItV9txfoPsUQ4v8b0vh1.VdjwfsK  In a large saucepan, let the beans soak in eno...  \n",
       "5l1yTSYFifF/M2dfbD6DX28WWQpLWNK  Watch how to make this recipe.\\nPreheat the ov...  \n",
       "kRBQSWtqYWqtkb34FGeenBSbC32gIdO  Special equipment: sushi mat\\nCook the brown r...  "
      ]
     },
     "execution_count": 36,
     "metadata": {},
     "output_type": "execute_result"
    }
   ],
   "source": [
    "fndf=rb_fn.loc[:,['title','ingredients','instructions']] #drop picture_link column\n",
    "fndf.head()"
   ]
  },
  {
   "cell_type": "code",
   "execution_count": 37,
   "metadata": {
    "ExecuteTime": {
     "end_time": "2019-11-08T01:36:00.711907Z",
     "start_time": "2019-11-08T01:36:00.679197Z"
    }
   },
   "outputs": [
    {
     "name": "stdout",
     "output_type": "stream",
     "text": [
      "<class 'pandas.core.frame.DataFrame'>\n",
      "Index: 60039 entries, p3pKOD6jIHEcjf20CCXohP8uqkG5dGi to 7cXA77UpdDtIfBug2v6lEVIuV3Zcvhm\n",
      "Data columns (total 3 columns):\n",
      "title           59750 non-null object\n",
      "ingredients     59802 non-null object\n",
      "instructions    59628 non-null object\n",
      "dtypes: object(3)\n",
      "memory usage: 4.3+ MB\n"
     ]
    }
   ],
   "source": [
    "fndf.info() #check for nulls"
   ]
  },
  {
   "cell_type": "code",
   "execution_count": 38,
   "metadata": {
    "ExecuteTime": {
     "end_time": "2019-11-08T01:36:00.765807Z",
     "start_time": "2019-11-08T01:36:00.714384Z"
    }
   },
   "outputs": [
    {
     "data": {
      "text/html": [
       "<div>\n",
       "<style scoped>\n",
       "    .dataframe tbody tr th:only-of-type {\n",
       "        vertical-align: middle;\n",
       "    }\n",
       "\n",
       "    .dataframe tbody tr th {\n",
       "        vertical-align: top;\n",
       "    }\n",
       "\n",
       "    .dataframe thead th {\n",
       "        text-align: right;\n",
       "    }\n",
       "</style>\n",
       "<table border=\"1\" class=\"dataframe\">\n",
       "  <thead>\n",
       "    <tr style=\"text-align: right;\">\n",
       "      <th></th>\n",
       "      <th>title</th>\n",
       "      <th>ingredients</th>\n",
       "      <th>instructions</th>\n",
       "    </tr>\n",
       "  </thead>\n",
       "  <tbody>\n",
       "    <tr>\n",
       "      <td>p3pKOD6jIHEcjf20CCXohP8uqkG5dGi</td>\n",
       "      <td>Grammie Hamblet's Deviled Crab</td>\n",
       "      <td>[1/2 cup celery, finely chopped, 1 small green...</td>\n",
       "      <td>Toss ingredients lightly and spoon into a butt...</td>\n",
       "    </tr>\n",
       "    <tr>\n",
       "      <td>S7aeOIrsrgT0jLP32jKGg4j.o9zi2DO</td>\n",
       "      <td>Infineon Raceway Baked Beans</td>\n",
       "      <td>[2 pounds skirt steak, cut into 1/2-inch dice,...</td>\n",
       "      <td>Watch how to make this recipe.\\nSprinkle the s...</td>\n",
       "    </tr>\n",
       "    <tr>\n",
       "      <td>o9MItV9txfoPsUQ4v8b0vh1.VdjwfsK</td>\n",
       "      <td>Southwestern Black Bean Dip</td>\n",
       "      <td>[1 1/2 cups dried black beans, picked over and...</td>\n",
       "      <td>In a large saucepan, let the beans soak in eno...</td>\n",
       "    </tr>\n",
       "    <tr>\n",
       "      <td>5l1yTSYFifF/M2dfbD6DX28WWQpLWNK</td>\n",
       "      <td>Sour Cream Noodle Bake</td>\n",
       "      <td>[1 1/4 pounds ground chuck, One 15-ounce can t...</td>\n",
       "      <td>Watch how to make this recipe.\\nPreheat the ov...</td>\n",
       "    </tr>\n",
       "    <tr>\n",
       "      <td>kRBQSWtqYWqtkb34FGeenBSbC32gIdO</td>\n",
       "      <td>Sushi Renovation</td>\n",
       "      <td>[1 cup rice, brown, medium-grain, cooked, 1/2-...</td>\n",
       "      <td>Special equipment: sushi mat\\nCook the brown r...</td>\n",
       "    </tr>\n",
       "    <tr>\n",
       "      <td>...</td>\n",
       "      <td>...</td>\n",
       "      <td>...</td>\n",
       "      <td>...</td>\n",
       "    </tr>\n",
       "    <tr>\n",
       "      <td>4bfMWxlbKhx/McJq/89k0SBdw.VvAzW</td>\n",
       "      <td>Summer Corn Salad</td>\n",
       "      <td>[4 ears fresh corn, 2 heads Belgian endive, 2 ...</td>\n",
       "      <td>Watch how to make this recipe.\\nPreheat a gril...</td>\n",
       "    </tr>\n",
       "    <tr>\n",
       "      <td>T8lWBA1fcVdjxhMSWuoAbGoy5Lj.A8m</td>\n",
       "      <td>Zucchini Stuffed Tomatoes</td>\n",
       "      <td>[4 large plum tomatoes, Salt and sugar, 1 1/2 ...</td>\n",
       "      <td>Preheat the broiler. Cut the tomatoes in 1/2 c...</td>\n",
       "    </tr>\n",
       "    <tr>\n",
       "      <td>f/coffo2TMs2J2gq5nTOUIqH2TRAkui</td>\n",
       "      <td>Pepper Pasta Quick Cook</td>\n",
       "      <td>[3 tablespoons olive oil, 2 tablespoons unsalt...</td>\n",
       "      <td>Heat the oil and butter in a large skillet ove...</td>\n",
       "    </tr>\n",
       "    <tr>\n",
       "      <td>q3aDJc4zoEF5QT4e7Mn.ieQwV.DyHwS</td>\n",
       "      <td>Chocolate Cake with Armagnac Ice Cream</td>\n",
       "      <td>[8 ounces butter, 8 ounces bittersweet chocola...</td>\n",
       "      <td>Preheat oven to 350 degrees. On the top half o...</td>\n",
       "    </tr>\n",
       "    <tr>\n",
       "      <td>7cXA77UpdDtIfBug2v6lEVIuV3Zcvhm</td>\n",
       "      <td>Crabby Bisque</td>\n",
       "      <td>[3 (10.5-ounce) cans restaurant-style condense...</td>\n",
       "      <td>Watch how to make this recipe.\\nIn a medium sa...</td>\n",
       "    </tr>\n",
       "  </tbody>\n",
       "</table>\n",
       "<p>59628 rows × 3 columns</p>\n",
       "</div>"
      ],
      "text/plain": [
       "                                                                  title  \\\n",
       "p3pKOD6jIHEcjf20CCXohP8uqkG5dGi          Grammie Hamblet's Deviled Crab   \n",
       "S7aeOIrsrgT0jLP32jKGg4j.o9zi2DO            Infineon Raceway Baked Beans   \n",
       "o9MItV9txfoPsUQ4v8b0vh1.VdjwfsK             Southwestern Black Bean Dip   \n",
       "5l1yTSYFifF/M2dfbD6DX28WWQpLWNK                  Sour Cream Noodle Bake   \n",
       "kRBQSWtqYWqtkb34FGeenBSbC32gIdO                        Sushi Renovation   \n",
       "...                                                                 ...   \n",
       "4bfMWxlbKhx/McJq/89k0SBdw.VvAzW                       Summer Corn Salad   \n",
       "T8lWBA1fcVdjxhMSWuoAbGoy5Lj.A8m               Zucchini Stuffed Tomatoes   \n",
       "f/coffo2TMs2J2gq5nTOUIqH2TRAkui                 Pepper Pasta Quick Cook   \n",
       "q3aDJc4zoEF5QT4e7Mn.ieQwV.DyHwS  Chocolate Cake with Armagnac Ice Cream   \n",
       "7cXA77UpdDtIfBug2v6lEVIuV3Zcvhm                           Crabby Bisque   \n",
       "\n",
       "                                                                       ingredients  \\\n",
       "p3pKOD6jIHEcjf20CCXohP8uqkG5dGi  [1/2 cup celery, finely chopped, 1 small green...   \n",
       "S7aeOIrsrgT0jLP32jKGg4j.o9zi2DO  [2 pounds skirt steak, cut into 1/2-inch dice,...   \n",
       "o9MItV9txfoPsUQ4v8b0vh1.VdjwfsK  [1 1/2 cups dried black beans, picked over and...   \n",
       "5l1yTSYFifF/M2dfbD6DX28WWQpLWNK  [1 1/4 pounds ground chuck, One 15-ounce can t...   \n",
       "kRBQSWtqYWqtkb34FGeenBSbC32gIdO  [1 cup rice, brown, medium-grain, cooked, 1/2-...   \n",
       "...                                                                            ...   \n",
       "4bfMWxlbKhx/McJq/89k0SBdw.VvAzW  [4 ears fresh corn, 2 heads Belgian endive, 2 ...   \n",
       "T8lWBA1fcVdjxhMSWuoAbGoy5Lj.A8m  [4 large plum tomatoes, Salt and sugar, 1 1/2 ...   \n",
       "f/coffo2TMs2J2gq5nTOUIqH2TRAkui  [3 tablespoons olive oil, 2 tablespoons unsalt...   \n",
       "q3aDJc4zoEF5QT4e7Mn.ieQwV.DyHwS  [8 ounces butter, 8 ounces bittersweet chocola...   \n",
       "7cXA77UpdDtIfBug2v6lEVIuV3Zcvhm  [3 (10.5-ounce) cans restaurant-style condense...   \n",
       "\n",
       "                                                                      instructions  \n",
       "p3pKOD6jIHEcjf20CCXohP8uqkG5dGi  Toss ingredients lightly and spoon into a butt...  \n",
       "S7aeOIrsrgT0jLP32jKGg4j.o9zi2DO  Watch how to make this recipe.\\nSprinkle the s...  \n",
       "o9MItV9txfoPsUQ4v8b0vh1.VdjwfsK  In a large saucepan, let the beans soak in eno...  \n",
       "5l1yTSYFifF/M2dfbD6DX28WWQpLWNK  Watch how to make this recipe.\\nPreheat the ov...  \n",
       "kRBQSWtqYWqtkb34FGeenBSbC32gIdO  Special equipment: sushi mat\\nCook the brown r...  \n",
       "...                                                                            ...  \n",
       "4bfMWxlbKhx/McJq/89k0SBdw.VvAzW  Watch how to make this recipe.\\nPreheat a gril...  \n",
       "T8lWBA1fcVdjxhMSWuoAbGoy5Lj.A8m  Preheat the broiler. Cut the tomatoes in 1/2 c...  \n",
       "f/coffo2TMs2J2gq5nTOUIqH2TRAkui  Heat the oil and butter in a large skillet ove...  \n",
       "q3aDJc4zoEF5QT4e7Mn.ieQwV.DyHwS  Preheat oven to 350 degrees. On the top half o...  \n",
       "7cXA77UpdDtIfBug2v6lEVIuV3Zcvhm  Watch how to make this recipe.\\nIn a medium sa...  \n",
       "\n",
       "[59628 rows x 3 columns]"
      ]
     },
     "execution_count": 38,
     "metadata": {},
     "output_type": "execute_result"
    }
   ],
   "source": [
    "fnclean=fndf.dropna(how='any') #drop nulls\n",
    "fnclean"
   ]
  },
  {
   "cell_type": "code",
   "execution_count": 39,
   "metadata": {
    "ExecuteTime": {
     "end_time": "2019-11-08T01:36:00.772781Z",
     "start_time": "2019-11-08T01:36:00.769160Z"
    }
   },
   "outputs": [],
   "source": [
    "#merge recipe box data? now can use same code for cleaning text (regex, etc)"
   ]
  },
  {
   "cell_type": "markdown",
   "metadata": {},
   "source": [
    "#### change ingr column from list to str"
   ]
  },
  {
   "cell_type": "code",
   "execution_count": 40,
   "metadata": {
    "ExecuteTime": {
     "end_time": "2019-11-08T01:36:00.780292Z",
     "start_time": "2019-11-08T01:36:00.775666Z"
    }
   },
   "outputs": [],
   "source": [
    "# Text preprocessing steps - remove numbers, captial letters and punctuation?\n",
    "\n",
    "import string\n",
    "\n",
    "#from NLP example nb\n",
    "#alphanumeric = lambda x: re.sub('\\w*\\d\\w*', ' ', x)\n",
    "#punc_lower = lambda x: re.sub('[%s]' % re.escape(string.punctuation), ' ', x.lower())\n",
    "\n",
    "#ardf['ingredients'] = ardf.ingredients.map(alphanumeric).map(punc_lower)  #*modifies original data\n",
    "#ardf.head()"
   ]
  },
  {
   "cell_type": "code",
   "execution_count": 41,
   "metadata": {
    "ExecuteTime": {
     "end_time": "2019-11-08T01:36:00.802722Z",
     "start_time": "2019-11-08T01:36:00.789790Z"
    }
   },
   "outputs": [],
   "source": [
    "#remove punctuations, numbers and capital letters from recipe box data set (ingredients and instructions)\n",
    "#filtering out capital letters will also get rid of \"ADVERTISEMENT\" that shows up repeatedly in scraped data\n",
    "\n",
    "#prob: ingredients are in lists!\n",
    "\n",
    "\n",
    "#ardf['ing_cleaned'] = ardf['ingredients'].apply(', '.join)\n",
    "#type(aring[0]) each ingr entry is a list, convert into str: #df['A'].apply(', '.join) (fastest)\n",
    "\n",
    "#str(aring[0])"
   ]
  },
  {
   "cell_type": "code",
   "execution_count": 42,
   "metadata": {
    "ExecuteTime": {
     "end_time": "2019-11-08T01:36:01.571561Z",
     "start_time": "2019-11-08T01:36:00.809377Z"
    }
   },
   "outputs": [
    {
     "data": {
      "text/html": [
       "<div>\n",
       "<style scoped>\n",
       "    .dataframe tbody tr th:only-of-type {\n",
       "        vertical-align: middle;\n",
       "    }\n",
       "\n",
       "    .dataframe tbody tr th {\n",
       "        vertical-align: top;\n",
       "    }\n",
       "\n",
       "    .dataframe thead th {\n",
       "        text-align: right;\n",
       "    }\n",
       "</style>\n",
       "<table border=\"1\" class=\"dataframe\">\n",
       "  <thead>\n",
       "    <tr style=\"text-align: right;\">\n",
       "      <th></th>\n",
       "      <th>ingredients</th>\n",
       "    </tr>\n",
       "  </thead>\n",
       "  <tbody>\n",
       "    <tr>\n",
       "      <td>gehEOcDPtU3SmNSXrwWwWD4ulPpUdMO</td>\n",
       "      <td>['2 teaspoons olive oil ADVERTISEMENT', '1/4 c...</td>\n",
       "    </tr>\n",
       "    <tr>\n",
       "      <td>VRAsyF.1xMBYqAVKX1biyIORH6N6qzy</td>\n",
       "      <td>['2 cups light cream ADVERTISEMENT', '1/4 teas...</td>\n",
       "    </tr>\n",
       "    <tr>\n",
       "      <td>Lf8/u.0k2029QMSQFrHS4gRsvKOQFUG</td>\n",
       "      <td>['3 tablespoons bacon grease ADVERTISEMENT', '...</td>\n",
       "    </tr>\n",
       "    <tr>\n",
       "      <td>ay.AqX/9ysBtWHcnHoDeGAyJ5Orla8e</td>\n",
       "      <td>['4 egg yolks ADVERTISEMENT', '1 tablespoon wh...</td>\n",
       "    </tr>\n",
       "    <tr>\n",
       "      <td>2Q3Zpfgt/PUwn1YABjJ5A9T3ZW8xwVa</td>\n",
       "      <td>['1/4 cup canola oil ADVERTISEMENT', '3 cups q...</td>\n",
       "    </tr>\n",
       "  </tbody>\n",
       "</table>\n",
       "</div>"
      ],
      "text/plain": [
       "                                                                       ingredients\n",
       "gehEOcDPtU3SmNSXrwWwWD4ulPpUdMO  ['2 teaspoons olive oil ADVERTISEMENT', '1/4 c...\n",
       "VRAsyF.1xMBYqAVKX1biyIORH6N6qzy  ['2 cups light cream ADVERTISEMENT', '1/4 teas...\n",
       "Lf8/u.0k2029QMSQFrHS4gRsvKOQFUG  ['3 tablespoons bacon grease ADVERTISEMENT', '...\n",
       "ay.AqX/9ysBtWHcnHoDeGAyJ5Orla8e  ['4 egg yolks ADVERTISEMENT', '1 tablespoon wh...\n",
       "2Q3Zpfgt/PUwn1YABjJ5A9T3ZW8xwVa  ['1/4 cup canola oil ADVERTISEMENT', '3 cups q..."
      ]
     },
     "execution_count": 42,
     "metadata": {},
     "output_type": "execute_result"
    }
   ],
   "source": [
    "#take ingredient column from cleaned allrecipes dataframe\n",
    "ar_ing_df = pd.DataFrame(ardf.ingredients.apply(str).apply(''.join))\n",
    "ar_ing_df.tail() #keep [], can remove punctuation later"
   ]
  },
  {
   "cell_type": "code",
   "execution_count": 48,
   "metadata": {
    "ExecuteTime": {
     "end_time": "2019-11-08T01:38:51.222704Z",
     "start_time": "2019-11-08T01:38:51.203566Z"
    }
   },
   "outputs": [
    {
     "name": "stdout",
     "output_type": "stream",
     "text": [
      "<class 'pandas.core.frame.DataFrame'>\n",
      "Index: 39522 entries, rmK12Uau.ntP510KeImX506H6Mr6jTu to 2Q3Zpfgt/PUwn1YABjJ5A9T3ZW8xwVa\n",
      "Data columns (total 1 columns):\n",
      "ingredients    39522 non-null object\n",
      "dtypes: object(1)\n",
      "memory usage: 617.5+ KB\n"
     ]
    }
   ],
   "source": [
    "ar_ing_df.info()"
   ]
  },
  {
   "cell_type": "markdown",
   "metadata": {},
   "source": [
    "-------"
   ]
  },
  {
   "cell_type": "markdown",
   "metadata": {},
   "source": [
    "## Vectorization"
   ]
  },
  {
   "cell_type": "markdown",
   "metadata": {},
   "source": [
    "### Count Vectorizer\n",
    "(also has stopwords)\n",
    "start with all recipes "
   ]
  },
  {
   "cell_type": "markdown",
   "metadata": {},
   "source": [
    "Nov.6 regex combined with apply and dataframe not working for some reason, instead, add \"ADVERTISEMENT\" to stopwords!\n",
    "Can also add more stopwords if have another reoccurring word that does not help with interpreting topic"
   ]
  },
  {
   "cell_type": "code",
   "execution_count": 49,
   "metadata": {
    "ExecuteTime": {
     "end_time": "2019-11-08T01:38:55.641038Z",
     "start_time": "2019-11-08T01:38:55.635713Z"
    }
   },
   "outputs": [],
   "source": [
    "from sklearn.feature_extraction.text import TfidfVectorizer, CountVectorizer\n"
   ]
  },
  {
   "cell_type": "code",
   "execution_count": 45,
   "metadata": {
    "ExecuteTime": {
     "end_time": "2019-11-08T01:28:32.054385Z",
     "start_time": "2019-11-08T01:28:32.050249Z"
    }
   },
   "outputs": [],
   "source": [
    "#countVectorizer \n",
    "#Converts a collection of text documents to a matrix of token counts\n",
    "#input is expected to be the sequence strings or bytes items are expected to be analyzed directly."
   ]
  },
  {
   "cell_type": "markdown",
   "metadata": {},
   "source": [
    "#### Custom stopwords"
   ]
  },
  {
   "cell_type": "code",
   "execution_count": 50,
   "metadata": {
    "ExecuteTime": {
     "end_time": "2019-11-08T01:38:58.207441Z",
     "start_time": "2019-11-08T01:38:58.202649Z"
    }
   },
   "outputs": [],
   "source": [
    "from nltk.corpus import stopwords "
   ]
  },
  {
   "cell_type": "code",
   "execution_count": 51,
   "metadata": {
    "ExecuteTime": {
     "end_time": "2019-11-08T01:39:00.293069Z",
     "start_time": "2019-11-08T01:39:00.280547Z"
    }
   },
   "outputs": [
    {
     "data": {
      "text/plain": [
       "{'a',\n",
       " 'about',\n",
       " 'above',\n",
       " 'after',\n",
       " 'again',\n",
       " 'against',\n",
       " 'ain',\n",
       " 'all',\n",
       " 'am',\n",
       " 'an',\n",
       " 'and',\n",
       " 'any',\n",
       " 'are',\n",
       " 'aren',\n",
       " \"aren't\",\n",
       " 'as',\n",
       " 'at',\n",
       " 'be',\n",
       " 'because',\n",
       " 'been',\n",
       " 'before',\n",
       " 'being',\n",
       " 'below',\n",
       " 'between',\n",
       " 'both',\n",
       " 'but',\n",
       " 'by',\n",
       " 'can',\n",
       " 'couldn',\n",
       " \"couldn't\",\n",
       " 'd',\n",
       " 'did',\n",
       " 'didn',\n",
       " \"didn't\",\n",
       " 'do',\n",
       " 'does',\n",
       " 'doesn',\n",
       " \"doesn't\",\n",
       " 'doing',\n",
       " 'don',\n",
       " \"don't\",\n",
       " 'down',\n",
       " 'during',\n",
       " 'each',\n",
       " 'few',\n",
       " 'for',\n",
       " 'from',\n",
       " 'further',\n",
       " 'had',\n",
       " 'hadn',\n",
       " \"hadn't\",\n",
       " 'has',\n",
       " 'hasn',\n",
       " \"hasn't\",\n",
       " 'have',\n",
       " 'haven',\n",
       " \"haven't\",\n",
       " 'having',\n",
       " 'he',\n",
       " 'her',\n",
       " 'here',\n",
       " 'hers',\n",
       " 'herself',\n",
       " 'him',\n",
       " 'himself',\n",
       " 'his',\n",
       " 'how',\n",
       " 'i',\n",
       " 'if',\n",
       " 'in',\n",
       " 'into',\n",
       " 'is',\n",
       " 'isn',\n",
       " \"isn't\",\n",
       " 'it',\n",
       " \"it's\",\n",
       " 'its',\n",
       " 'itself',\n",
       " 'just',\n",
       " 'll',\n",
       " 'm',\n",
       " 'ma',\n",
       " 'me',\n",
       " 'mightn',\n",
       " \"mightn't\",\n",
       " 'more',\n",
       " 'most',\n",
       " 'mustn',\n",
       " \"mustn't\",\n",
       " 'my',\n",
       " 'myself',\n",
       " 'needn',\n",
       " \"needn't\",\n",
       " 'no',\n",
       " 'nor',\n",
       " 'not',\n",
       " 'now',\n",
       " 'o',\n",
       " 'of',\n",
       " 'off',\n",
       " 'on',\n",
       " 'once',\n",
       " 'only',\n",
       " 'or',\n",
       " 'other',\n",
       " 'our',\n",
       " 'ours',\n",
       " 'ourselves',\n",
       " 'out',\n",
       " 'over',\n",
       " 'own',\n",
       " 're',\n",
       " 's',\n",
       " 'same',\n",
       " 'shan',\n",
       " \"shan't\",\n",
       " 'she',\n",
       " \"she's\",\n",
       " 'should',\n",
       " \"should've\",\n",
       " 'shouldn',\n",
       " \"shouldn't\",\n",
       " 'so',\n",
       " 'some',\n",
       " 'such',\n",
       " 't',\n",
       " 'than',\n",
       " 'that',\n",
       " \"that'll\",\n",
       " 'the',\n",
       " 'their',\n",
       " 'theirs',\n",
       " 'them',\n",
       " 'themselves',\n",
       " 'then',\n",
       " 'there',\n",
       " 'these',\n",
       " 'they',\n",
       " 'this',\n",
       " 'those',\n",
       " 'through',\n",
       " 'to',\n",
       " 'too',\n",
       " 'under',\n",
       " 'until',\n",
       " 'up',\n",
       " 've',\n",
       " 'very',\n",
       " 'was',\n",
       " 'wasn',\n",
       " \"wasn't\",\n",
       " 'we',\n",
       " 'were',\n",
       " 'weren',\n",
       " \"weren't\",\n",
       " 'what',\n",
       " 'when',\n",
       " 'where',\n",
       " 'which',\n",
       " 'while',\n",
       " 'who',\n",
       " 'whom',\n",
       " 'why',\n",
       " 'will',\n",
       " 'with',\n",
       " 'won',\n",
       " \"won't\",\n",
       " 'wouldn',\n",
       " \"wouldn't\",\n",
       " 'y',\n",
       " 'you',\n",
       " \"you'd\",\n",
       " \"you'll\",\n",
       " \"you're\",\n",
       " \"you've\",\n",
       " 'your',\n",
       " 'yours',\n",
       " 'yourself',\n",
       " 'yourselves'}"
      ]
     },
     "execution_count": 51,
     "metadata": {},
     "output_type": "execute_result"
    }
   ],
   "source": [
    "set(stopwords.words('english')) #look at the nltk English stopwords"
   ]
  },
  {
   "cell_type": "code",
   "execution_count": 52,
   "metadata": {
    "ExecuteTime": {
     "end_time": "2019-11-08T01:39:03.819762Z",
     "start_time": "2019-11-08T01:39:03.815819Z"
    }
   },
   "outputs": [],
   "source": [
    "stopwords_nltk = stopwords.words('english')"
   ]
  },
  {
   "cell_type": "code",
   "execution_count": 53,
   "metadata": {
    "ExecuteTime": {
     "end_time": "2019-11-08T01:39:05.285373Z",
     "start_time": "2019-11-08T01:39:05.280305Z"
    }
   },
   "outputs": [
    {
     "data": {
      "text/plain": [
       "179"
      ]
     },
     "execution_count": 53,
     "metadata": {},
     "output_type": "execute_result"
    }
   ],
   "source": [
    "len(stopwords_nltk)"
   ]
  },
  {
   "cell_type": "code",
   "execution_count": 54,
   "metadata": {
    "ExecuteTime": {
     "end_time": "2019-11-08T01:39:07.016118Z",
     "start_time": "2019-11-08T01:39:07.008770Z"
    }
   },
   "outputs": [
    {
     "name": "stdout",
     "output_type": "stream",
     "text": [
      "181\n"
     ]
    }
   ],
   "source": [
    "stopwords_nltk.extend(['ADVERTISEMENT', 'advertisement']) #when run cell again, keeps getting extended\n",
    "print(len(stopwords_nltk))"
   ]
  },
  {
   "cell_type": "code",
   "execution_count": 55,
   "metadata": {
    "ExecuteTime": {
     "end_time": "2019-11-08T01:39:12.560796Z",
     "start_time": "2019-11-08T01:39:12.549675Z"
    }
   },
   "outputs": [
    {
     "data": {
      "text/plain": [
       "['i',\n",
       " 'me',\n",
       " 'my',\n",
       " 'myself',\n",
       " 'we',\n",
       " 'our',\n",
       " 'ours',\n",
       " 'ourselves',\n",
       " 'you',\n",
       " \"you're\",\n",
       " \"you've\",\n",
       " \"you'll\",\n",
       " \"you'd\",\n",
       " 'your',\n",
       " 'yours',\n",
       " 'yourself',\n",
       " 'yourselves',\n",
       " 'he',\n",
       " 'him',\n",
       " 'his',\n",
       " 'himself',\n",
       " 'she',\n",
       " \"she's\",\n",
       " 'her',\n",
       " 'hers',\n",
       " 'herself',\n",
       " 'it',\n",
       " \"it's\",\n",
       " 'its',\n",
       " 'itself',\n",
       " 'they',\n",
       " 'them',\n",
       " 'their',\n",
       " 'theirs',\n",
       " 'themselves',\n",
       " 'what',\n",
       " 'which',\n",
       " 'who',\n",
       " 'whom',\n",
       " 'this',\n",
       " 'that',\n",
       " \"that'll\",\n",
       " 'these',\n",
       " 'those',\n",
       " 'am',\n",
       " 'is',\n",
       " 'are',\n",
       " 'was',\n",
       " 'were',\n",
       " 'be',\n",
       " 'been',\n",
       " 'being',\n",
       " 'have',\n",
       " 'has',\n",
       " 'had',\n",
       " 'having',\n",
       " 'do',\n",
       " 'does',\n",
       " 'did',\n",
       " 'doing',\n",
       " 'a',\n",
       " 'an',\n",
       " 'the',\n",
       " 'and',\n",
       " 'but',\n",
       " 'if',\n",
       " 'or',\n",
       " 'because',\n",
       " 'as',\n",
       " 'until',\n",
       " 'while',\n",
       " 'of',\n",
       " 'at',\n",
       " 'by',\n",
       " 'for',\n",
       " 'with',\n",
       " 'about',\n",
       " 'against',\n",
       " 'between',\n",
       " 'into',\n",
       " 'through',\n",
       " 'during',\n",
       " 'before',\n",
       " 'after',\n",
       " 'above',\n",
       " 'below',\n",
       " 'to',\n",
       " 'from',\n",
       " 'up',\n",
       " 'down',\n",
       " 'in',\n",
       " 'out',\n",
       " 'on',\n",
       " 'off',\n",
       " 'over',\n",
       " 'under',\n",
       " 'again',\n",
       " 'further',\n",
       " 'then',\n",
       " 'once',\n",
       " 'here',\n",
       " 'there',\n",
       " 'when',\n",
       " 'where',\n",
       " 'why',\n",
       " 'how',\n",
       " 'all',\n",
       " 'any',\n",
       " 'both',\n",
       " 'each',\n",
       " 'few',\n",
       " 'more',\n",
       " 'most',\n",
       " 'other',\n",
       " 'some',\n",
       " 'such',\n",
       " 'no',\n",
       " 'nor',\n",
       " 'not',\n",
       " 'only',\n",
       " 'own',\n",
       " 'same',\n",
       " 'so',\n",
       " 'than',\n",
       " 'too',\n",
       " 'very',\n",
       " 's',\n",
       " 't',\n",
       " 'can',\n",
       " 'will',\n",
       " 'just',\n",
       " 'don',\n",
       " \"don't\",\n",
       " 'should',\n",
       " \"should've\",\n",
       " 'now',\n",
       " 'd',\n",
       " 'll',\n",
       " 'm',\n",
       " 'o',\n",
       " 're',\n",
       " 've',\n",
       " 'y',\n",
       " 'ain',\n",
       " 'aren',\n",
       " \"aren't\",\n",
       " 'couldn',\n",
       " \"couldn't\",\n",
       " 'didn',\n",
       " \"didn't\",\n",
       " 'doesn',\n",
       " \"doesn't\",\n",
       " 'hadn',\n",
       " \"hadn't\",\n",
       " 'hasn',\n",
       " \"hasn't\",\n",
       " 'haven',\n",
       " \"haven't\",\n",
       " 'isn',\n",
       " \"isn't\",\n",
       " 'ma',\n",
       " 'mightn',\n",
       " \"mightn't\",\n",
       " 'mustn',\n",
       " \"mustn't\",\n",
       " 'needn',\n",
       " \"needn't\",\n",
       " 'shan',\n",
       " \"shan't\",\n",
       " 'shouldn',\n",
       " \"shouldn't\",\n",
       " 'wasn',\n",
       " \"wasn't\",\n",
       " 'weren',\n",
       " \"weren't\",\n",
       " 'won',\n",
       " \"won't\",\n",
       " 'wouldn',\n",
       " \"wouldn't\",\n",
       " 'ADVERTISEMENT',\n",
       " 'advertisement']"
      ]
     },
     "execution_count": 55,
     "metadata": {},
     "output_type": "execute_result"
    }
   ],
   "source": [
    "stopwords_nltk"
   ]
  },
  {
   "cell_type": "code",
   "execution_count": 52,
   "metadata": {
    "ExecuteTime": {
     "end_time": "2019-11-08T01:28:32.122690Z",
     "start_time": "2019-11-08T01:28:32.117866Z"
    }
   },
   "outputs": [],
   "source": [
    "#added advertisement to stopwords, next step is to remove numbers from data before Vectorization\n",
    "#CountVectorizer removes punctuation and only keeps alphanumeric\n",
    "#vectorizers and nltk tokenizer have options to set tokens with regex, or to remove stopwords"
   ]
  },
  {
   "cell_type": "markdown",
   "metadata": {},
   "source": [
    "#### Clean up columns with regex"
   ]
  },
  {
   "cell_type": "code",
   "execution_count": 56,
   "metadata": {
    "ExecuteTime": {
     "end_time": "2019-11-08T01:39:16.964150Z",
     "start_time": "2019-11-08T01:39:16.940860Z"
    }
   },
   "outputs": [
    {
     "data": {
      "text/plain": [
       "(7, 22)"
      ]
     },
     "execution_count": 56,
     "metadata": {},
     "output_type": "execute_result"
    }
   ],
   "source": [
    "#use test corpus for custom stopwords\n",
    "corpus = ['Toss ingredients lightly and spoon into','ADVERTISEMENT','test-phrase[]','S7aeOIrsrgT0jLP32jKGg4j.o9zi2DO','Infineon Raceway Baked Beans','[2 pounds skirt steak, cut into 1/2-inch dice,...','Watch how to make this recipe.\\nSprinkle the s...']\n",
    "vectorizer = CountVectorizer(stop_words=stopwords_nltk)\n",
    "X = vectorizer.fit_transform(corpus)\n",
    "#print(vectorizer.get_feature_names())\n",
    "X.shape\n",
    "\n",
    "#issue with using stopwords (write blog?) https://scikit-learn.org/stable/modules/feature_extraction.html#stop-words"
   ]
  },
  {
   "cell_type": "code",
   "execution_count": 58,
   "metadata": {
    "ExecuteTime": {
     "end_time": "2019-11-08T01:39:22.135889Z",
     "start_time": "2019-11-08T01:39:22.118704Z"
    }
   },
   "outputs": [
    {
     "data": {
      "text/html": [
       "<div>\n",
       "<style scoped>\n",
       "    .dataframe tbody tr th:only-of-type {\n",
       "        vertical-align: middle;\n",
       "    }\n",
       "\n",
       "    .dataframe tbody tr th {\n",
       "        vertical-align: top;\n",
       "    }\n",
       "\n",
       "    .dataframe thead th {\n",
       "        text-align: right;\n",
       "    }\n",
       "</style>\n",
       "<table border=\"1\" class=\"dataframe\">\n",
       "  <thead>\n",
       "    <tr style=\"text-align: right;\">\n",
       "      <th></th>\n",
       "      <th>title</th>\n",
       "      <th>ingredients</th>\n",
       "      <th>instructions</th>\n",
       "    </tr>\n",
       "  </thead>\n",
       "  <tbody>\n",
       "    <tr>\n",
       "      <td>0</td>\n",
       "      <td>Slow Cooker Chicken and Dumplings</td>\n",
       "      <td>[4 skinless, boneless chicken breast halves AD...</td>\n",
       "      <td>Place the chicken, butter, soup, and onion in ...</td>\n",
       "    </tr>\n",
       "    <tr>\n",
       "      <td>1</td>\n",
       "      <td>Awesome Slow Cooker Pot Roast</td>\n",
       "      <td>[2 (10.75 ounce) cans condensed cream of mushr...</td>\n",
       "      <td>In a slow cooker, mix cream of mushroom soup, ...</td>\n",
       "    </tr>\n",
       "    <tr>\n",
       "      <td>2</td>\n",
       "      <td>Brown Sugar Meatloaf</td>\n",
       "      <td>[1/2 cup packed brown sugar ADVERTISEMENT, 1/2...</td>\n",
       "      <td>Preheat oven to 350 degrees F (175 degrees C)....</td>\n",
       "    </tr>\n",
       "    <tr>\n",
       "      <td>3</td>\n",
       "      <td>Best Chocolate Chip Cookies</td>\n",
       "      <td>[1 cup butter, softened ADVERTISEMENT, 1 cup w...</td>\n",
       "      <td>Preheat oven to 350 degrees F (175 degrees C)....</td>\n",
       "    </tr>\n",
       "    <tr>\n",
       "      <td>4</td>\n",
       "      <td>Homemade Mac and Cheese Casserole</td>\n",
       "      <td>[8 ounces whole wheat rotini pasta ADVERTISEME...</td>\n",
       "      <td>Preheat oven to 350 degrees F. Line a 2-quart ...</td>\n",
       "    </tr>\n",
       "  </tbody>\n",
       "</table>\n",
       "</div>"
      ],
      "text/plain": [
       "                               title  \\\n",
       "0  Slow Cooker Chicken and Dumplings   \n",
       "1      Awesome Slow Cooker Pot Roast   \n",
       "2               Brown Sugar Meatloaf   \n",
       "3        Best Chocolate Chip Cookies   \n",
       "4  Homemade Mac and Cheese Casserole   \n",
       "\n",
       "                                         ingredients  \\\n",
       "0  [4 skinless, boneless chicken breast halves AD...   \n",
       "1  [2 (10.75 ounce) cans condensed cream of mushr...   \n",
       "2  [1/2 cup packed brown sugar ADVERTISEMENT, 1/2...   \n",
       "3  [1 cup butter, softened ADVERTISEMENT, 1 cup w...   \n",
       "4  [8 ounces whole wheat rotini pasta ADVERTISEME...   \n",
       "\n",
       "                                        instructions  \n",
       "0  Place the chicken, butter, soup, and onion in ...  \n",
       "1  In a slow cooker, mix cream of mushroom soup, ...  \n",
       "2  Preheat oven to 350 degrees F (175 degrees C)....  \n",
       "3  Preheat oven to 350 degrees F (175 degrees C)....  \n",
       "4  Preheat oven to 350 degrees F. Line a 2-quart ...  "
      ]
     },
     "execution_count": 58,
     "metadata": {},
     "output_type": "execute_result"
    }
   ],
   "source": [
    "#reset index of cleaned data frame because don't want the scraped link as index\n",
    "ardf.index = range(len(ardf))\n",
    "ardf.head() "
   ]
  },
  {
   "cell_type": "code",
   "execution_count": 70,
   "metadata": {
    "ExecuteTime": {
     "end_time": "2019-11-08T01:41:15.593070Z",
     "start_time": "2019-11-08T01:41:15.583754Z"
    }
   },
   "outputs": [
    {
     "data": {
      "text/plain": [
       "0        [4 skinless, boneless chicken breast halves AD...\n",
       "1        [2 (10.75 ounce) cans condensed cream of mushr...\n",
       "2        [1/2 cup packed brown sugar ADVERTISEMENT, 1/2...\n",
       "3        [1 cup butter, softened ADVERTISEMENT, 1 cup w...\n",
       "4        [8 ounces whole wheat rotini pasta ADVERTISEME...\n",
       "                               ...                        \n",
       "39517    [2 teaspoons olive oil ADVERTISEMENT, 1/4 cup ...\n",
       "39518    [2 cups light cream ADVERTISEMENT, 1/4 teaspoo...\n",
       "39519    [3 tablespoons bacon grease ADVERTISEMENT, 2 c...\n",
       "39520    [4 egg yolks ADVERTISEMENT, 1 tablespoon white...\n",
       "39521    [1/4 cup canola oil ADVERTISEMENT, 3 cups quic...\n",
       "Name: ingredients, Length: 39522, dtype: object"
      ]
     },
     "execution_count": 70,
     "metadata": {},
     "output_type": "execute_result"
    }
   ],
   "source": [
    "ardf['ingredients']"
   ]
  },
  {
   "cell_type": "code",
   "execution_count": 44,
   "metadata": {
    "ExecuteTime": {
     "end_time": "2019-11-08T01:38:24.017329Z",
     "start_time": "2019-11-08T01:38:24.011759Z"
    }
   },
   "outputs": [],
   "source": [
    "#now use dataframe ardf as corpus\n",
    "\n",
    "#is this needed?\n",
    "\n",
    "#convert using astype instead\n",
    "#total_rows['ColumnID'] = total_rows['ColumnID'].astype(str)\n",
    "\n",
    "\n",
    "#?\n",
    "#aringstr=arclean['ingredients'].astype(str)\n",
    "#size(aringstr)\n",
    "\n",
    "#not converting to str properly:**\n",
    "#corpus_ar_ing=str(arclean['ingredients']).split('\\n') #or split on ('\\t') (',')\n",
    "#ardf.head()\n",
    "#corpus_ar_ing"
   ]
  },
  {
   "cell_type": "code",
   "execution_count": null,
   "metadata": {
    "ExecuteTime": {
     "end_time": "2019-11-08T01:28:32.797093Z",
     "start_time": "2019-11-08T01:27:34.947Z"
    },
    "scrolled": true
   },
   "outputs": [],
   "source": [
    "#aringstr[0]"
   ]
  },
  {
   "cell_type": "markdown",
   "metadata": {},
   "source": [
    "#### Remove digits with regex in ingredients "
   ]
  },
  {
   "cell_type": "code",
   "execution_count": 73,
   "metadata": {
    "ExecuteTime": {
     "end_time": "2019-11-08T01:42:51.942626Z",
     "start_time": "2019-11-08T01:42:51.938340Z"
    }
   },
   "outputs": [],
   "source": [
    "def regex_nodigits(df,col):\n",
    "    s = re.sub(r'\"[\\d]','',str(df[col]))#replace digits with empty str #returns str?\n",
    "    return s\n",
    "\n",
    "#not working anymore, should return str with no digits"
   ]
  },
  {
   "cell_type": "code",
   "execution_count": 71,
   "metadata": {
    "ExecuteTime": {
     "end_time": "2019-11-08T01:41:23.007028Z",
     "start_time": "2019-11-08T01:41:23.000751Z"
    }
   },
   "outputs": [
    {
     "data": {
      "text/plain": [
       "pandas.core.series.Series"
      ]
     },
     "execution_count": 71,
     "metadata": {},
     "output_type": "execute_result"
    }
   ],
   "source": []
  },
  {
   "cell_type": "code",
   "execution_count": 76,
   "metadata": {
    "ExecuteTime": {
     "end_time": "2019-11-08T01:43:05.666667Z",
     "start_time": "2019-11-08T01:43:05.657051Z"
    }
   },
   "outputs": [
    {
     "data": {
      "text/plain": [
       "['0        [4 skinless, boneless chicken breast halves AD...\\n1        [2 (10.75 ounce) cans condensed cream of mushr...\\n2        [1/2 cup packed brown sugar ADVERTISEMENT, 1/2...\\n3        [1 cup butter, softened ADVERTISEMENT, 1 cup w...\\n4        [8 ounces whole wheat rotini pasta ADVERTISEME...\\n                               ...                        \\n39517    [2 teaspoons olive oil ADVERTISEMENT, 1/4 cup ...\\n39518    [2 cups light cream ADVERTISEMENT, 1/4 teaspoo...\\n39519    [3 tablespoons bacon grease ADVERTISEMENT, 2 c...\\n39520    [4 egg yolks ADVERTISEMENT, 1 tablespoon white...\\n39521    [1/4 cup canola oil ADVERTISEMENT, 3 cups quic...\\nName: ingredients, Length: 39522, dtype: object']"
      ]
     },
     "execution_count": 76,
     "metadata": {},
     "output_type": "execute_result"
    }
   ],
   "source": [
    "ingr=regex_nodigits(ardf, 'ingredients').split('][') #each recipe has an ingredient list, split at end of list\n",
    "\n",
    "#now ingr is a list of size 1?? why?\n",
    "ingr"
   ]
  },
  {
   "cell_type": "code",
   "execution_count": 77,
   "metadata": {
    "ExecuteTime": {
     "end_time": "2019-11-08T01:43:07.144204Z",
     "start_time": "2019-11-08T01:43:07.137543Z"
    }
   },
   "outputs": [
    {
     "name": "stdout",
     "output_type": "stream",
     "text": [
      "['10', '39517', '39518', '39519', '39520', '39521', '39522', '75', 'ad', 'advertiseme', 'bacon', 'boneless', 'breast', 'brown', 'butter', 'canola', 'cans', 'chicken', 'condensed', 'cream', 'cup', 'cups', 'dtype', 'egg', 'grease', 'halves', 'ingredients', 'length', 'light', 'mushr', 'name', 'object', 'oil', 'olive', 'ounce', 'ounces', 'packed', 'pasta', 'quic', 'rotini', 'skinless', 'softened', 'sugar', 'tablespoon', 'tablespoons', 'teaspoo', 'teaspoons', 'wheat', 'white', 'whole', 'yolks']\n"
     ]
    }
   ],
   "source": [
    "corpus = ingr\n",
    "vectorizer = CountVectorizer(stop_words=stopwords_nltk)\n",
    "\n",
    "#from TopicModeling/LSA example notebook:\n",
    "doc_ar_ing = vectorizer.fit_transform(corpus)\n",
    "print(vectorizer.get_feature_names())"
   ]
  },
  {
   "cell_type": "code",
   "execution_count": 66,
   "metadata": {
    "ExecuteTime": {
     "end_time": "2019-11-08T01:32:21.288057Z",
     "start_time": "2019-11-08T01:32:21.282787Z"
    }
   },
   "outputs": [
    {
     "data": {
      "text/plain": [
       "scipy.sparse.csr.csr_matrix"
      ]
     },
     "execution_count": 66,
     "metadata": {},
     "output_type": "execute_result"
    }
   ],
   "source": [
    "type(doc_ar_ing)#vectorizer returns sparse matrix"
   ]
  },
  {
   "cell_type": "code",
   "execution_count": 67,
   "metadata": {
    "ExecuteTime": {
     "end_time": "2019-11-08T01:32:22.784103Z",
     "start_time": "2019-11-08T01:32:22.778329Z"
    }
   },
   "outputs": [
    {
     "data": {
      "text/plain": [
       "<1x43 sparse matrix of type '<class 'numpy.int64'>'\n",
       "\twith 43 stored elements in Compressed Sparse Row format>"
      ]
     },
     "execution_count": 67,
     "metadata": {},
     "output_type": "execute_result"
    }
   ],
   "source": [
    "doc_ar_ing "
   ]
  },
  {
   "cell_type": "markdown",
   "metadata": {},
   "source": [
    "------"
   ]
  },
  {
   "cell_type": "markdown",
   "metadata": {},
   "source": [
    "#### Clean instructions column\n",
    "now clean and vectorize instructions column also; then vectorize title and proceed to dim reduction!"
   ]
  },
  {
   "cell_type": "code",
   "execution_count": null,
   "metadata": {
    "ExecuteTime": {
     "end_time": "2019-11-08T01:28:32.810808Z",
     "start_time": "2019-11-08T01:27:34.983Z"
    }
   },
   "outputs": [],
   "source": [
    "# def regex_nodigits(df,col):\n",
    "#     df[col] = re.sub(r'[\\d]','',str(df[col]))#replace digits with empty str\n",
    "#     return s"
   ]
  },
  {
   "cell_type": "code",
   "execution_count": null,
   "metadata": {
    "ExecuteTime": {
     "end_time": "2019-11-08T01:28:32.813180Z",
     "start_time": "2019-11-08T01:27:34.991Z"
    }
   },
   "outputs": [],
   "source": [
    "ar_ins_s=arclean['instructions'].astype(str)#change to string\n",
    "arclean.index = range(len(arclean))#reset index\n",
    "arclean['instructions'].head()"
   ]
  },
  {
   "cell_type": "code",
   "execution_count": null,
   "metadata": {
    "ExecuteTime": {
     "end_time": "2019-11-08T01:28:32.815847Z",
     "start_time": "2019-11-08T01:27:34.998Z"
    }
   },
   "outputs": [],
   "source": [
    "type(arclean['instructions'])"
   ]
  },
  {
   "cell_type": "code",
   "execution_count": null,
   "metadata": {
    "ExecuteTime": {
     "end_time": "2019-11-08T01:28:32.819948Z",
     "start_time": "2019-11-08T01:27:35.002Z"
    }
   },
   "outputs": [],
   "source": [
    "size(arclean)#wrong size?"
   ]
  },
  {
   "cell_type": "code",
   "execution_count": null,
   "metadata": {
    "ExecuteTime": {
     "end_time": "2019-11-08T01:28:32.823012Z",
     "start_time": "2019-11-08T01:27:35.011Z"
    }
   },
   "outputs": [],
   "source": [
    "size(ar_ins_s)"
   ]
  },
  {
   "cell_type": "code",
   "execution_count": null,
   "metadata": {
    "ExecuteTime": {
     "end_time": "2019-11-08T01:28:32.827978Z",
     "start_time": "2019-11-08T01:27:35.015Z"
    }
   },
   "outputs": [],
   "source": [
    "inst=regex_nodigits(arclean, 'instructions')#.split('\\n') #what to split on?\n",
    "#inst #still getting results from ingr, restart kernel"
   ]
  },
  {
   "cell_type": "code",
   "execution_count": null,
   "metadata": {
    "ExecuteTime": {
     "end_time": "2019-11-08T01:28:32.830097Z",
     "start_time": "2019-11-08T01:27:35.020Z"
    }
   },
   "outputs": [],
   "source": [
    "type(inst)"
   ]
  },
  {
   "cell_type": "code",
   "execution_count": null,
   "metadata": {},
   "outputs": [],
   "source": []
  },
  {
   "cell_type": "code",
   "execution_count": null,
   "metadata": {},
   "outputs": [],
   "source": []
  },
  {
   "cell_type": "code",
   "execution_count": null,
   "metadata": {},
   "outputs": [],
   "source": []
  },
  {
   "cell_type": "code",
   "execution_count": null,
   "metadata": {},
   "outputs": [],
   "source": []
  },
  {
   "cell_type": "markdown",
   "metadata": {},
   "source": [
    "### TF-IDF"
   ]
  },
  {
   "cell_type": "code",
   "execution_count": null,
   "metadata": {
    "ExecuteTime": {
     "end_time": "2019-11-08T01:28:32.832194Z",
     "start_time": "2019-11-08T01:27:35.038Z"
    }
   },
   "outputs": [],
   "source": [
    "#can just do CV + NMF for MVP, try TF-IDF + other ones later"
   ]
  },
  {
   "cell_type": "code",
   "execution_count": null,
   "metadata": {},
   "outputs": [],
   "source": []
  },
  {
   "cell_type": "code",
   "execution_count": null,
   "metadata": {},
   "outputs": [],
   "source": []
  },
  {
   "cell_type": "code",
   "execution_count": null,
   "metadata": {},
   "outputs": [],
   "source": []
  },
  {
   "cell_type": "code",
   "execution_count": null,
   "metadata": {},
   "outputs": [],
   "source": []
  },
  {
   "cell_type": "code",
   "execution_count": null,
   "metadata": {
    "ExecuteTime": {
     "end_time": "2019-11-08T01:28:32.834820Z",
     "start_time": "2019-11-08T01:27:35.054Z"
    }
   },
   "outputs": [],
   "source": [
    "##write functions in python (VSC) then import functions into notebook**"
   ]
  },
  {
   "cell_type": "markdown",
   "metadata": {},
   "source": [
    "-----"
   ]
  },
  {
   "cell_type": "code",
   "execution_count": null,
   "metadata": {
    "ExecuteTime": {
     "end_time": "2019-11-08T01:28:32.836754Z",
     "start_time": "2019-11-08T01:27:35.062Z"
    }
   },
   "outputs": [],
   "source": [
    "#*define a ftn for regex, series(df[column]).apply(ftn), should apply regex on the entire column\n",
    "def regex_nodigits(df,col):#(s):, test: regex_punc('te[]st--t90st,ADVERTISEMENT')\n",
    "    '''use regex to clean string: \n",
    "    get rid of punctuations, capitalized letters and numbers'''\n",
    "    #df['col'] = re.sub(r'[^\\w\\s]','',str(s)) #replaces anything not alphanumeric or whitespace with empty str\n",
    "    #df['col'] = re.sub(r'[\"ADVERTISEMENT\"]','',str(s))#replace the word \"ADVERTISEMENT\"--also replaced capital letters\n",
    "    df[col] = re.sub(r'[\\d]','',str(df[col]))#replace digits with empty str\n",
    "    return s\n",
    "\n",
    "#*for re.sub, always change input to strings with str() (wouldn't hurt if it's already a string)"
   ]
  },
  {
   "cell_type": "markdown",
   "metadata": {},
   "source": [
    "* unigram/bigram/trigrams? \n",
    "what is it for? how to use? - language models, import pre-trained word2vec?\n",
    "\n",
    "* Stemming and Lemmatization\n",
    "(review NLP overview lecture? only for instructions?)\n"
   ]
  },
  {
   "cell_type": "markdown",
   "metadata": {},
   "source": [
    "**Next Steps: clean text, tokenize (each word is a token) (don't have to use word2vec - though might help to find ingredient similarity), dimensionality reduction**"
   ]
  },
  {
   "cell_type": "code",
   "execution_count": null,
   "metadata": {
    "ExecuteTime": {
     "end_time": "2019-11-08T01:28:32.838717Z",
     "start_time": "2019-11-08T01:27:35.068Z"
    }
   },
   "outputs": [],
   "source": [
    "#General text processing pipeline (according to spaCy documentation):\n",
    "#text - nlp: tokenizer (once, changes text to Doc), tagger, parser, named-entity recognizer"
   ]
  },
  {
   "cell_type": "markdown",
   "metadata": {},
   "source": [
    "SpaCy: (might not need?)\n",
    "#downloaded small and large model; large model includes over 1 million unique vectors!\n",
    "\n",
    "#also has medium vector package?\n",
    "\n",
    "#spaCy doc:\n",
    "> To make them compact and fast, spaCy’s small models (all packages that end in sm) don’t ship with word vectors, and only include context-sensitive tensors. \n",
    "This means you can still use the similarity() methods to compare documents, spans and tokens – but the result won’t be as good, \n",
    "and individual tokens won’t have any vectors assigned. \n",
    "So in order to use real word vectors, you need to download a larger model:\n",
    "\n",
    "```python -m spacy download en_core_web_lg```"
   ]
  },
  {
   "cell_type": "markdown",
   "metadata": {},
   "source": [
    "## Dimensionality Reduction"
   ]
  },
  {
   "cell_type": "markdown",
   "metadata": {},
   "source": [
    "### NMF on Count Vectorized ar data"
   ]
  },
  {
   "cell_type": "code",
   "execution_count": null,
   "metadata": {
    "ExecuteTime": {
     "end_time": "2019-11-08T01:28:32.841040Z",
     "start_time": "2019-11-08T01:27:35.075Z"
    }
   },
   "outputs": [],
   "source": [
    "nmf_model = NMF(2) #docs in word space, do NMF with 2 components -- how to decide how many components?\n",
    "doc_topic = nmf_model.fit_transform(doc_word) #columns are topics"
   ]
  },
  {
   "cell_type": "code",
   "execution_count": null,
   "metadata": {},
   "outputs": [],
   "source": []
  },
  {
   "cell_type": "code",
   "execution_count": null,
   "metadata": {
    "ExecuteTime": {
     "end_time": "2019-11-08T01:28:32.843143Z",
     "start_time": "2019-11-08T01:27:35.084Z"
    }
   },
   "outputs": [],
   "source": [
    "#dim, new feature space, reduced features - can use for rec (cosine similarity, Euc dist, etc) -mvp"
   ]
  },
  {
   "cell_type": "markdown",
   "metadata": {},
   "source": [
    "### Finding Similarity \n",
    "\n",
    "(for rec later)"
   ]
  },
  {
   "cell_type": "code",
   "execution_count": null,
   "metadata": {
    "ExecuteTime": {
     "end_time": "2019-11-08T01:28:32.844756Z",
     "start_time": "2019-11-08T01:27:35.090Z"
    }
   },
   "outputs": [],
   "source": [
    "#LSA/NMF on rb data; compare similarity in topic space(?) vs. in vector space *(Chad)"
   ]
  },
  {
   "cell_type": "markdown",
   "metadata": {},
   "source": [
    "## Clustering"
   ]
  },
  {
   "cell_type": "code",
   "execution_count": null,
   "metadata": {
    "ExecuteTime": {
     "end_time": "2019-11-08T01:28:32.847068Z",
     "start_time": "2019-11-08T01:27:35.096Z"
    }
   },
   "outputs": [],
   "source": [
    "#clusters can be about cuisine, course of meal...the interesting part! Interpretation**"
   ]
  },
  {
   "cell_type": "markdown",
   "metadata": {},
   "source": [
    "## Recommendation System\n",
    "### Rec based on topics -- MVP?\n",
    "### Ingredient-similarity\n",
    "### Flavor-similarity**"
   ]
  },
  {
   "cell_type": "code",
   "execution_count": null,
   "metadata": {},
   "outputs": [],
   "source": []
  }
 ],
 "metadata": {
  "kernelspec": {
   "display_name": "Python [conda env:metis] *",
   "language": "python",
   "name": "conda-env-metis-py"
  },
  "language_info": {
   "codemirror_mode": {
    "name": "ipython",
    "version": 3
   },
   "file_extension": ".py",
   "mimetype": "text/x-python",
   "name": "python",
   "nbconvert_exporter": "python",
   "pygments_lexer": "ipython3",
   "version": "3.7.3"
  },
  "toc": {
   "base_numbering": 1,
   "nav_menu": {},
   "number_sections": true,
   "sideBar": true,
   "skip_h1_title": false,
   "title_cell": "Table of Contents",
   "title_sidebar": "Contents",
   "toc_cell": false,
   "toc_position": {},
   "toc_section_display": true,
   "toc_window_display": true
  }
 },
 "nbformat": 4,
 "nbformat_minor": 2
}
