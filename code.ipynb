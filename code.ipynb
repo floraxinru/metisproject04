{
 "cells": [
  {
   "cell_type": "markdown",
   "metadata": {},
   "source": [
    "# Loading and cleaning text data\n",
    "## Import libraries"
   ]
  },
  {
   "cell_type": "code",
   "execution_count": 1,
   "metadata": {
    "ExecuteTime": {
     "end_time": "2019-11-14T06:16:29.486552Z",
     "start_time": "2019-11-14T06:16:25.898079Z"
    }
   },
   "outputs": [
    {
     "name": "stdout",
     "output_type": "stream",
     "text": [
      "Populating the interactive namespace from numpy and matplotlib\n"
     ]
    }
   ],
   "source": [
    "import pandas as pd\n",
    "import numpy as np\n",
    "\n",
    "import matplotlib.pyplot as plt\n",
    "import seaborn as sns\n",
    "%matplotlib inline\n",
    "\n",
    "# import sklearn\n",
    "from sklearn.feature_extraction.text import CountVectorizer \n",
    "from sklearn.feature_extraction.text import TfidfVectorizer  # TF-IDF\n",
    "from sklearn.preprocessing import scale\n",
    "from sklearn.cluster import KMeans\n",
    "from sklearn.decomposition import TruncatedSVD\n",
    "from sklearn.decomposition import NMF\n",
    "from sklearn.metrics.pairwise import cosine_similarity\n",
    "\n",
    "import nltk\n",
    "from nltk.corpus import stopwords \n",
    "from nltk.stem import LancasterStemmer, PorterStemmer\n",
    "from nltk.stem import WordNetLemmatizer\n",
    "#import spacy #for faster tokenization and lemmatization\n",
    "\n",
    "from sklearn.model_selection import train_test_split\n",
    "from sklearn.metrics import confusion_matrix\n",
    "\n",
    "import re\n",
    "import string\n",
    "\n",
    "import project4_functions\n",
    "\n",
    "%pylab inline"
   ]
  },
  {
   "cell_type": "markdown",
   "metadata": {},
   "source": [
    "## Loading the RecipeBox dataset\n",
    "\n",
    "\n",
    "### allrecipes"
   ]
  },
  {
   "cell_type": "code",
   "execution_count": 2,
   "metadata": {
    "ExecuteTime": {
     "end_time": "2019-11-14T06:16:48.599470Z",
     "start_time": "2019-11-14T06:16:29.492188Z"
    }
   },
   "outputs": [],
   "source": [
    "#the three files are scraped from foodnetwork, epicurious, and allrecipes.com\n",
    "#start with allrecipes.com - took 18.4s to load, can consider putting it into database?\n",
    "rbdata_ar = pd.read_json(r'/Users/xinrucheng/Documents/GitHub/metisproject04/data/raw/recipes_raw/recipes_raw_nosource_ar.json')"
   ]
  },
  {
   "cell_type": "code",
   "execution_count": 3,
   "metadata": {
    "ExecuteTime": {
     "end_time": "2019-11-14T06:16:48.668283Z",
     "start_time": "2019-11-14T06:16:48.602490Z"
    }
   },
   "outputs": [
    {
     "data": {
      "text/html": [
       "<div>\n",
       "<style scoped>\n",
       "    .dataframe tbody tr th:only-of-type {\n",
       "        vertical-align: middle;\n",
       "    }\n",
       "\n",
       "    .dataframe tbody tr th {\n",
       "        vertical-align: top;\n",
       "    }\n",
       "\n",
       "    .dataframe thead th {\n",
       "        text-align: right;\n",
       "    }\n",
       "</style>\n",
       "<table border=\"1\" class=\"dataframe\">\n",
       "  <thead>\n",
       "    <tr style=\"text-align: right;\">\n",
       "      <th></th>\n",
       "      <th>rmK12Uau.ntP510KeImX506H6Mr6jTu</th>\n",
       "      <th>5ZpZE8hSVdPk2ZXo1mZTyoPWJRSCPSm</th>\n",
       "      <th>clyYQv.CplpwJtjNaFGhx0VilNYqRxu</th>\n",
       "      <th>BmqFAmCrDHiKNwX.IQzb0U/v0mLlxFu</th>\n",
       "      <th>N.jCksRjB4MFwbgPFQU8Kg.yF.XCtOi</th>\n",
       "      <th>kq.naD.8G19M4UU9dVvJgHtpfo.l/eC</th>\n",
       "      <th>lYrgWNn00EXblOupzM3tL0jGr9O0CB2</th>\n",
       "      <th>Fu0DgGYFUGwc0BBlN6r20o/ihOVs5bO</th>\n",
       "      <th>MBRNtqELRRuv8zJH4k7Aba2bmIc2A3C</th>\n",
       "      <th>ZPyPoMiNvgAfrKcRpH9FEYV/XsPZBsW</th>\n",
       "      <th>...</th>\n",
       "      <th>uHHb42/tuIKsmN5U6l9AD.FdVpSFxs6</th>\n",
       "      <th>IPAeN3L6rm2oughJpUhbG038k.ACJ0K</th>\n",
       "      <th>3UIhlTQFH5jyIaHN8zeKlK5V.94Kjwu</th>\n",
       "      <th>PdBxkE2gnI/.ynokkp1Hu1KLGZnGdei</th>\n",
       "      <th>SB46Udqc5Svsi70S1qRmRLv5tlg8Oca</th>\n",
       "      <th>gehEOcDPtU3SmNSXrwWwWD4ulPpUdMO</th>\n",
       "      <th>VRAsyF.1xMBYqAVKX1biyIORH6N6qzy</th>\n",
       "      <th>Lf8/u.0k2029QMSQFrHS4gRsvKOQFUG</th>\n",
       "      <th>ay.AqX/9ysBtWHcnHoDeGAyJ5Orla8e</th>\n",
       "      <th>2Q3Zpfgt/PUwn1YABjJ5A9T3ZW8xwVa</th>\n",
       "    </tr>\n",
       "  </thead>\n",
       "  <tbody>\n",
       "    <tr>\n",
       "      <td>title</td>\n",
       "      <td>Slow Cooker Chicken and Dumplings</td>\n",
       "      <td>Awesome Slow Cooker Pot Roast</td>\n",
       "      <td>Brown Sugar Meatloaf</td>\n",
       "      <td>Best Chocolate Chip Cookies</td>\n",
       "      <td>Homemade Mac and Cheese Casserole</td>\n",
       "      <td>Banana Banana Bread</td>\n",
       "      <td>Chef John's Fisherman's Pie</td>\n",
       "      <td>Mom's Zucchini Bread</td>\n",
       "      <td>The Best Rolled Sugar Cookies</td>\n",
       "      <td>Singapore Chili Crabs</td>\n",
       "      <td>...</td>\n",
       "      <td>Citrus Creme Brulee</td>\n",
       "      <td>Honey Nutty Granola</td>\n",
       "      <td>Salmon en Croute</td>\n",
       "      <td>Homemade Blender Butter</td>\n",
       "      <td>Gluten Free Chicken Noodle Soup</td>\n",
       "      <td>Thai-Indian Veggie Soup</td>\n",
       "      <td>Coconut Milk-Free Panang Curry Chicken</td>\n",
       "      <td>Cooked Cold Salad</td>\n",
       "      <td>Easy Eggnog Creme Brulee</td>\n",
       "      <td>Super Power Stovetop Granola</td>\n",
       "    </tr>\n",
       "    <tr>\n",
       "      <td>ingredients</td>\n",
       "      <td>[4 skinless, boneless chicken breast halves AD...</td>\n",
       "      <td>[2 (10.75 ounce) cans condensed cream of mushr...</td>\n",
       "      <td>[1/2 cup packed brown sugar ADVERTISEMENT, 1/2...</td>\n",
       "      <td>[1 cup butter, softened ADVERTISEMENT, 1 cup w...</td>\n",
       "      <td>[8 ounces whole wheat rotini pasta ADVERTISEME...</td>\n",
       "      <td>[2 cups all-purpose flour ADVERTISEMENT, 1 tea...</td>\n",
       "      <td>[For potato crust: ADVERTISEMENT, 3 russet pot...</td>\n",
       "      <td>[3 cups all-purpose flour ADVERTISEMENT, 1 tea...</td>\n",
       "      <td>[1 1/2 cups butter, softened ADVERTISEMENT, 2 ...</td>\n",
       "      <td>[Sauce: ADVERTISEMENT, 1/2 cup ketchup ADVERTI...</td>\n",
       "      <td>...</td>\n",
       "      <td>[2 oranges, juiced ADVERTISEMENT, lemon, juice...</td>\n",
       "      <td>[3 cups rolled oats ADVERTISEMENT, 1 1/2 cups ...</td>\n",
       "      <td>[1 cup watercress, or as desired ADVERTISEMENT...</td>\n",
       "      <td>[2 pints heavy whipping cream ADVERTISEMENT, s...</td>\n",
       "      <td>[1/2 (12 ounce) box Barilla® Gluten Free Elbow...</td>\n",
       "      <td>[2 teaspoons olive oil ADVERTISEMENT, 1/4 cup ...</td>\n",
       "      <td>[2 cups light cream ADVERTISEMENT, 1/4 teaspoo...</td>\n",
       "      <td>[3 tablespoons bacon grease ADVERTISEMENT, 2 c...</td>\n",
       "      <td>[4 egg yolks ADVERTISEMENT, 1 tablespoon white...</td>\n",
       "      <td>[1/4 cup canola oil ADVERTISEMENT, 3 cups quic...</td>\n",
       "    </tr>\n",
       "    <tr>\n",
       "      <td>instructions</td>\n",
       "      <td>Place the chicken, butter, soup, and onion in ...</td>\n",
       "      <td>In a slow cooker, mix cream of mushroom soup, ...</td>\n",
       "      <td>Preheat oven to 350 degrees F (175 degrees C)....</td>\n",
       "      <td>Preheat oven to 350 degrees F (175 degrees C)....</td>\n",
       "      <td>Preheat oven to 350 degrees F. Line a 2-quart ...</td>\n",
       "      <td>Preheat oven to 350 degrees F (175 degrees C)....</td>\n",
       "      <td>Bring a large saucepan of salted water and to ...</td>\n",
       "      <td>Grease and flour two 8 x 4 inch pans. Preheat ...</td>\n",
       "      <td>In a large bowl, cream together butter and sug...</td>\n",
       "      <td>Whisk ketchup, chicken broth, egg, soy sauce, ...</td>\n",
       "      <td>...</td>\n",
       "      <td>Preheat oven to 300 degrees F (150 degrees C)....</td>\n",
       "      <td>Preheat oven to 300 degrees F (150 degrees C)....</td>\n",
       "      <td>Preheat oven to 375 degrees F (190 degrees C)....</td>\n",
       "      <td>Pour cream into a blender. Cover and blend unt...</td>\n",
       "      <td>Saute onions in olive oil over medium heat unt...</td>\n",
       "      <td>Heat oil in a large pot over medium heat. Add ...</td>\n",
       "      <td>Heat cream and coconut extract in a skillet or...</td>\n",
       "      <td>Heat bacon grease in a skillet over medium-hig...</td>\n",
       "      <td>Preheat oven to 350 degrees F (175 degrees C)....</td>\n",
       "      <td>Heat 1/4 cup canola oil in large skillet over ...</td>\n",
       "    </tr>\n",
       "    <tr>\n",
       "      <td>picture_link</td>\n",
       "      <td>55lznCYBbs2mT8BTx6BTkLhynGHzM.S</td>\n",
       "      <td>QyrvGdGNMBA2lDdciY0FjKu.77MM0Oe</td>\n",
       "      <td>LVW1DI0vtlCrpAhNSEQysE9i/7rJG56</td>\n",
       "      <td>0SO5kdWOV94j6EfAVwMMYRM3yNN8eRi</td>\n",
       "      <td>YCnbhplMgiraW4rUXcybgSEZinSgljm</td>\n",
       "      <td>jRnWGDXDdyOg3rta4/HVAR2rD19XubC</td>\n",
       "      <td>aUca10AaD8T2yYvcLOgH/UJlR5/OhOe</td>\n",
       "      <td>YdgEVyLVffZgh9NZPN3Eqj6MaX8KdzK</td>\n",
       "      <td>UrgvDGu4roLiho160fTVIwCUrGZna8i</td>\n",
       "      <td>OFp6yXFwzlrkMQ5STffYPllxQvMVLUS</td>\n",
       "      <td>...</td>\n",
       "      <td>qE58a7Z1Au0GXvPO188iHZZVqna9hLa</td>\n",
       "      <td>qE58a7Z1Au0GXvPO188iHZZVqna9hLa</td>\n",
       "      <td>qE58a7Z1Au0GXvPO188iHZZVqna9hLa</td>\n",
       "      <td>qE58a7Z1Au0GXvPO188iHZZVqna9hLa</td>\n",
       "      <td>cWEzUSv9Ozr3b4MxNVCqJYgTjIS.kHm</td>\n",
       "      <td>qE58a7Z1Au0GXvPO188iHZZVqna9hLa</td>\n",
       "      <td>qE58a7Z1Au0GXvPO188iHZZVqna9hLa</td>\n",
       "      <td>qE58a7Z1Au0GXvPO188iHZZVqna9hLa</td>\n",
       "      <td>qE58a7Z1Au0GXvPO188iHZZVqna9hLa</td>\n",
       "      <td>qE58a7Z1Au0GXvPO188iHZZVqna9hLa</td>\n",
       "    </tr>\n",
       "  </tbody>\n",
       "</table>\n",
       "<p>4 rows × 39802 columns</p>\n",
       "</div>"
      ],
      "text/plain": [
       "                                rmK12Uau.ntP510KeImX506H6Mr6jTu  \\\n",
       "title                         Slow Cooker Chicken and Dumplings   \n",
       "ingredients   [4 skinless, boneless chicken breast halves AD...   \n",
       "instructions  Place the chicken, butter, soup, and onion in ...   \n",
       "picture_link                    55lznCYBbs2mT8BTx6BTkLhynGHzM.S   \n",
       "\n",
       "                                5ZpZE8hSVdPk2ZXo1mZTyoPWJRSCPSm  \\\n",
       "title                             Awesome Slow Cooker Pot Roast   \n",
       "ingredients   [2 (10.75 ounce) cans condensed cream of mushr...   \n",
       "instructions  In a slow cooker, mix cream of mushroom soup, ...   \n",
       "picture_link                    QyrvGdGNMBA2lDdciY0FjKu.77MM0Oe   \n",
       "\n",
       "                                clyYQv.CplpwJtjNaFGhx0VilNYqRxu  \\\n",
       "title                                      Brown Sugar Meatloaf   \n",
       "ingredients   [1/2 cup packed brown sugar ADVERTISEMENT, 1/2...   \n",
       "instructions  Preheat oven to 350 degrees F (175 degrees C)....   \n",
       "picture_link                    LVW1DI0vtlCrpAhNSEQysE9i/7rJG56   \n",
       "\n",
       "                                BmqFAmCrDHiKNwX.IQzb0U/v0mLlxFu  \\\n",
       "title                               Best Chocolate Chip Cookies   \n",
       "ingredients   [1 cup butter, softened ADVERTISEMENT, 1 cup w...   \n",
       "instructions  Preheat oven to 350 degrees F (175 degrees C)....   \n",
       "picture_link                    0SO5kdWOV94j6EfAVwMMYRM3yNN8eRi   \n",
       "\n",
       "                                N.jCksRjB4MFwbgPFQU8Kg.yF.XCtOi  \\\n",
       "title                         Homemade Mac and Cheese Casserole   \n",
       "ingredients   [8 ounces whole wheat rotini pasta ADVERTISEME...   \n",
       "instructions  Preheat oven to 350 degrees F. Line a 2-quart ...   \n",
       "picture_link                    YCnbhplMgiraW4rUXcybgSEZinSgljm   \n",
       "\n",
       "                                kq.naD.8G19M4UU9dVvJgHtpfo.l/eC  \\\n",
       "title                                       Banana Banana Bread   \n",
       "ingredients   [2 cups all-purpose flour ADVERTISEMENT, 1 tea...   \n",
       "instructions  Preheat oven to 350 degrees F (175 degrees C)....   \n",
       "picture_link                    jRnWGDXDdyOg3rta4/HVAR2rD19XubC   \n",
       "\n",
       "                                lYrgWNn00EXblOupzM3tL0jGr9O0CB2  \\\n",
       "title                               Chef John's Fisherman's Pie   \n",
       "ingredients   [For potato crust: ADVERTISEMENT, 3 russet pot...   \n",
       "instructions  Bring a large saucepan of salted water and to ...   \n",
       "picture_link                    aUca10AaD8T2yYvcLOgH/UJlR5/OhOe   \n",
       "\n",
       "                                Fu0DgGYFUGwc0BBlN6r20o/ihOVs5bO  \\\n",
       "title                                      Mom's Zucchini Bread   \n",
       "ingredients   [3 cups all-purpose flour ADVERTISEMENT, 1 tea...   \n",
       "instructions  Grease and flour two 8 x 4 inch pans. Preheat ...   \n",
       "picture_link                    YdgEVyLVffZgh9NZPN3Eqj6MaX8KdzK   \n",
       "\n",
       "                                MBRNtqELRRuv8zJH4k7Aba2bmIc2A3C  \\\n",
       "title                             The Best Rolled Sugar Cookies   \n",
       "ingredients   [1 1/2 cups butter, softened ADVERTISEMENT, 2 ...   \n",
       "instructions  In a large bowl, cream together butter and sug...   \n",
       "picture_link                    UrgvDGu4roLiho160fTVIwCUrGZna8i   \n",
       "\n",
       "                                ZPyPoMiNvgAfrKcRpH9FEYV/XsPZBsW  ...  \\\n",
       "title                                     Singapore Chili Crabs  ...   \n",
       "ingredients   [Sauce: ADVERTISEMENT, 1/2 cup ketchup ADVERTI...  ...   \n",
       "instructions  Whisk ketchup, chicken broth, egg, soy sauce, ...  ...   \n",
       "picture_link                    OFp6yXFwzlrkMQ5STffYPllxQvMVLUS  ...   \n",
       "\n",
       "                                uHHb42/tuIKsmN5U6l9AD.FdVpSFxs6  \\\n",
       "title                                       Citrus Creme Brulee   \n",
       "ingredients   [2 oranges, juiced ADVERTISEMENT, lemon, juice...   \n",
       "instructions  Preheat oven to 300 degrees F (150 degrees C)....   \n",
       "picture_link                    qE58a7Z1Au0GXvPO188iHZZVqna9hLa   \n",
       "\n",
       "                                IPAeN3L6rm2oughJpUhbG038k.ACJ0K  \\\n",
       "title                                       Honey Nutty Granola   \n",
       "ingredients   [3 cups rolled oats ADVERTISEMENT, 1 1/2 cups ...   \n",
       "instructions  Preheat oven to 300 degrees F (150 degrees C)....   \n",
       "picture_link                    qE58a7Z1Au0GXvPO188iHZZVqna9hLa   \n",
       "\n",
       "                                3UIhlTQFH5jyIaHN8zeKlK5V.94Kjwu  \\\n",
       "title                                          Salmon en Croute   \n",
       "ingredients   [1 cup watercress, or as desired ADVERTISEMENT...   \n",
       "instructions  Preheat oven to 375 degrees F (190 degrees C)....   \n",
       "picture_link                    qE58a7Z1Au0GXvPO188iHZZVqna9hLa   \n",
       "\n",
       "                                PdBxkE2gnI/.ynokkp1Hu1KLGZnGdei  \\\n",
       "title                                   Homemade Blender Butter   \n",
       "ingredients   [2 pints heavy whipping cream ADVERTISEMENT, s...   \n",
       "instructions  Pour cream into a blender. Cover and blend unt...   \n",
       "picture_link                    qE58a7Z1Au0GXvPO188iHZZVqna9hLa   \n",
       "\n",
       "                                SB46Udqc5Svsi70S1qRmRLv5tlg8Oca  \\\n",
       "title                           Gluten Free Chicken Noodle Soup   \n",
       "ingredients   [1/2 (12 ounce) box Barilla® Gluten Free Elbow...   \n",
       "instructions  Saute onions in olive oil over medium heat unt...   \n",
       "picture_link                    cWEzUSv9Ozr3b4MxNVCqJYgTjIS.kHm   \n",
       "\n",
       "                                gehEOcDPtU3SmNSXrwWwWD4ulPpUdMO  \\\n",
       "title                                   Thai-Indian Veggie Soup   \n",
       "ingredients   [2 teaspoons olive oil ADVERTISEMENT, 1/4 cup ...   \n",
       "instructions  Heat oil in a large pot over medium heat. Add ...   \n",
       "picture_link                    qE58a7Z1Au0GXvPO188iHZZVqna9hLa   \n",
       "\n",
       "                                VRAsyF.1xMBYqAVKX1biyIORH6N6qzy  \\\n",
       "title                    Coconut Milk-Free Panang Curry Chicken   \n",
       "ingredients   [2 cups light cream ADVERTISEMENT, 1/4 teaspoo...   \n",
       "instructions  Heat cream and coconut extract in a skillet or...   \n",
       "picture_link                    qE58a7Z1Au0GXvPO188iHZZVqna9hLa   \n",
       "\n",
       "                                Lf8/u.0k2029QMSQFrHS4gRsvKOQFUG  \\\n",
       "title                                         Cooked Cold Salad   \n",
       "ingredients   [3 tablespoons bacon grease ADVERTISEMENT, 2 c...   \n",
       "instructions  Heat bacon grease in a skillet over medium-hig...   \n",
       "picture_link                    qE58a7Z1Au0GXvPO188iHZZVqna9hLa   \n",
       "\n",
       "                                ay.AqX/9ysBtWHcnHoDeGAyJ5Orla8e  \\\n",
       "title                                  Easy Eggnog Creme Brulee   \n",
       "ingredients   [4 egg yolks ADVERTISEMENT, 1 tablespoon white...   \n",
       "instructions  Preheat oven to 350 degrees F (175 degrees C)....   \n",
       "picture_link                    qE58a7Z1Au0GXvPO188iHZZVqna9hLa   \n",
       "\n",
       "                                2Q3Zpfgt/PUwn1YABjJ5A9T3ZW8xwVa  \n",
       "title                              Super Power Stovetop Granola  \n",
       "ingredients   [1/4 cup canola oil ADVERTISEMENT, 3 cups quic...  \n",
       "instructions  Heat 1/4 cup canola oil in large skillet over ...  \n",
       "picture_link                    qE58a7Z1Au0GXvPO188iHZZVqna9hLa  \n",
       "\n",
       "[4 rows x 39802 columns]"
      ]
     },
     "execution_count": 3,
     "metadata": {},
     "output_type": "execute_result"
    }
   ],
   "source": [
    "rbdata_ar.head() #need to swap rows and columns\n",
    "#features are title, ingredients, instructions, and picture_link(not needed?)"
   ]
  },
  {
   "cell_type": "code",
   "execution_count": 4,
   "metadata": {
    "ExecuteTime": {
     "end_time": "2019-11-14T06:16:48.734776Z",
     "start_time": "2019-11-14T06:16:48.673263Z"
    }
   },
   "outputs": [
    {
     "data": {
      "text/html": [
       "<div>\n",
       "<style scoped>\n",
       "    .dataframe tbody tr th:only-of-type {\n",
       "        vertical-align: middle;\n",
       "    }\n",
       "\n",
       "    .dataframe tbody tr th {\n",
       "        vertical-align: top;\n",
       "    }\n",
       "\n",
       "    .dataframe thead th {\n",
       "        text-align: right;\n",
       "    }\n",
       "</style>\n",
       "<table border=\"1\" class=\"dataframe\">\n",
       "  <thead>\n",
       "    <tr style=\"text-align: right;\">\n",
       "      <th></th>\n",
       "      <th>title</th>\n",
       "      <th>ingredients</th>\n",
       "      <th>instructions</th>\n",
       "      <th>picture_link</th>\n",
       "    </tr>\n",
       "  </thead>\n",
       "  <tbody>\n",
       "    <tr>\n",
       "      <td>rmK12Uau.ntP510KeImX506H6Mr6jTu</td>\n",
       "      <td>Slow Cooker Chicken and Dumplings</td>\n",
       "      <td>[4 skinless, boneless chicken breast halves AD...</td>\n",
       "      <td>Place the chicken, butter, soup, and onion in ...</td>\n",
       "      <td>55lznCYBbs2mT8BTx6BTkLhynGHzM.S</td>\n",
       "    </tr>\n",
       "    <tr>\n",
       "      <td>5ZpZE8hSVdPk2ZXo1mZTyoPWJRSCPSm</td>\n",
       "      <td>Awesome Slow Cooker Pot Roast</td>\n",
       "      <td>[2 (10.75 ounce) cans condensed cream of mushr...</td>\n",
       "      <td>In a slow cooker, mix cream of mushroom soup, ...</td>\n",
       "      <td>QyrvGdGNMBA2lDdciY0FjKu.77MM0Oe</td>\n",
       "    </tr>\n",
       "    <tr>\n",
       "      <td>clyYQv.CplpwJtjNaFGhx0VilNYqRxu</td>\n",
       "      <td>Brown Sugar Meatloaf</td>\n",
       "      <td>[1/2 cup packed brown sugar ADVERTISEMENT, 1/2...</td>\n",
       "      <td>Preheat oven to 350 degrees F (175 degrees C)....</td>\n",
       "      <td>LVW1DI0vtlCrpAhNSEQysE9i/7rJG56</td>\n",
       "    </tr>\n",
       "    <tr>\n",
       "      <td>BmqFAmCrDHiKNwX.IQzb0U/v0mLlxFu</td>\n",
       "      <td>Best Chocolate Chip Cookies</td>\n",
       "      <td>[1 cup butter, softened ADVERTISEMENT, 1 cup w...</td>\n",
       "      <td>Preheat oven to 350 degrees F (175 degrees C)....</td>\n",
       "      <td>0SO5kdWOV94j6EfAVwMMYRM3yNN8eRi</td>\n",
       "    </tr>\n",
       "    <tr>\n",
       "      <td>N.jCksRjB4MFwbgPFQU8Kg.yF.XCtOi</td>\n",
       "      <td>Homemade Mac and Cheese Casserole</td>\n",
       "      <td>[8 ounces whole wheat rotini pasta ADVERTISEME...</td>\n",
       "      <td>Preheat oven to 350 degrees F. Line a 2-quart ...</td>\n",
       "      <td>YCnbhplMgiraW4rUXcybgSEZinSgljm</td>\n",
       "    </tr>\n",
       "  </tbody>\n",
       "</table>\n",
       "</div>"
      ],
      "text/plain": [
       "                                                             title  \\\n",
       "rmK12Uau.ntP510KeImX506H6Mr6jTu  Slow Cooker Chicken and Dumplings   \n",
       "5ZpZE8hSVdPk2ZXo1mZTyoPWJRSCPSm      Awesome Slow Cooker Pot Roast   \n",
       "clyYQv.CplpwJtjNaFGhx0VilNYqRxu               Brown Sugar Meatloaf   \n",
       "BmqFAmCrDHiKNwX.IQzb0U/v0mLlxFu        Best Chocolate Chip Cookies   \n",
       "N.jCksRjB4MFwbgPFQU8Kg.yF.XCtOi  Homemade Mac and Cheese Casserole   \n",
       "\n",
       "                                                                       ingredients  \\\n",
       "rmK12Uau.ntP510KeImX506H6Mr6jTu  [4 skinless, boneless chicken breast halves AD...   \n",
       "5ZpZE8hSVdPk2ZXo1mZTyoPWJRSCPSm  [2 (10.75 ounce) cans condensed cream of mushr...   \n",
       "clyYQv.CplpwJtjNaFGhx0VilNYqRxu  [1/2 cup packed brown sugar ADVERTISEMENT, 1/2...   \n",
       "BmqFAmCrDHiKNwX.IQzb0U/v0mLlxFu  [1 cup butter, softened ADVERTISEMENT, 1 cup w...   \n",
       "N.jCksRjB4MFwbgPFQU8Kg.yF.XCtOi  [8 ounces whole wheat rotini pasta ADVERTISEME...   \n",
       "\n",
       "                                                                      instructions  \\\n",
       "rmK12Uau.ntP510KeImX506H6Mr6jTu  Place the chicken, butter, soup, and onion in ...   \n",
       "5ZpZE8hSVdPk2ZXo1mZTyoPWJRSCPSm  In a slow cooker, mix cream of mushroom soup, ...   \n",
       "clyYQv.CplpwJtjNaFGhx0VilNYqRxu  Preheat oven to 350 degrees F (175 degrees C)....   \n",
       "BmqFAmCrDHiKNwX.IQzb0U/v0mLlxFu  Preheat oven to 350 degrees F (175 degrees C)....   \n",
       "N.jCksRjB4MFwbgPFQU8Kg.yF.XCtOi  Preheat oven to 350 degrees F. Line a 2-quart ...   \n",
       "\n",
       "                                                    picture_link  \n",
       "rmK12Uau.ntP510KeImX506H6Mr6jTu  55lznCYBbs2mT8BTx6BTkLhynGHzM.S  \n",
       "5ZpZE8hSVdPk2ZXo1mZTyoPWJRSCPSm  QyrvGdGNMBA2lDdciY0FjKu.77MM0Oe  \n",
       "clyYQv.CplpwJtjNaFGhx0VilNYqRxu  LVW1DI0vtlCrpAhNSEQysE9i/7rJG56  \n",
       "BmqFAmCrDHiKNwX.IQzb0U/v0mLlxFu  0SO5kdWOV94j6EfAVwMMYRM3yNN8eRi  \n",
       "N.jCksRjB4MFwbgPFQU8Kg.yF.XCtOi  YCnbhplMgiraW4rUXcybgSEZinSgljm  "
      ]
     },
     "execution_count": 4,
     "metadata": {},
     "output_type": "execute_result"
    }
   ],
   "source": [
    "rb_ar=rbdata_ar.T #can just do pandas transpose, don't need to set orient parameter in read_json!\n",
    "rb_ar.head()"
   ]
  },
  {
   "cell_type": "code",
   "execution_count": 5,
   "metadata": {
    "ExecuteTime": {
     "end_time": "2019-11-14T06:16:48.769607Z",
     "start_time": "2019-11-14T06:16:48.737766Z"
    }
   },
   "outputs": [
    {
     "name": "stdout",
     "output_type": "stream",
     "text": [
      "<class 'pandas.core.frame.DataFrame'>\n",
      "Index: 39802 entries, rmK12Uau.ntP510KeImX506H6Mr6jTu to 2Q3Zpfgt/PUwn1YABjJ5A9T3ZW8xwVa\n",
      "Data columns (total 4 columns):\n",
      "title           39522 non-null object\n",
      "ingredients     39522 non-null object\n",
      "instructions    39522 non-null object\n",
      "picture_link    39522 non-null object\n",
      "dtypes: object(4)\n",
      "memory usage: 2.8+ MB\n"
     ]
    }
   ],
   "source": [
    "rb_ar.info()"
   ]
  },
  {
   "cell_type": "code",
   "execution_count": 6,
   "metadata": {
    "ExecuteTime": {
     "end_time": "2019-11-14T06:16:48.798551Z",
     "start_time": "2019-11-14T06:16:48.773801Z"
    }
   },
   "outputs": [
    {
     "data": {
      "text/html": [
       "<div>\n",
       "<style scoped>\n",
       "    .dataframe tbody tr th:only-of-type {\n",
       "        vertical-align: middle;\n",
       "    }\n",
       "\n",
       "    .dataframe tbody tr th {\n",
       "        vertical-align: top;\n",
       "    }\n",
       "\n",
       "    .dataframe thead th {\n",
       "        text-align: right;\n",
       "    }\n",
       "</style>\n",
       "<table border=\"1\" class=\"dataframe\">\n",
       "  <thead>\n",
       "    <tr style=\"text-align: right;\">\n",
       "      <th></th>\n",
       "      <th>title</th>\n",
       "      <th>ingredients</th>\n",
       "      <th>instructions</th>\n",
       "      <th>picture_link</th>\n",
       "    </tr>\n",
       "  </thead>\n",
       "  <tbody>\n",
       "    <tr>\n",
       "      <td>0</td>\n",
       "      <td>Slow Cooker Chicken and Dumplings</td>\n",
       "      <td>[4 skinless, boneless chicken breast halves AD...</td>\n",
       "      <td>Place the chicken, butter, soup, and onion in ...</td>\n",
       "      <td>55lznCYBbs2mT8BTx6BTkLhynGHzM.S</td>\n",
       "    </tr>\n",
       "    <tr>\n",
       "      <td>1</td>\n",
       "      <td>Awesome Slow Cooker Pot Roast</td>\n",
       "      <td>[2 (10.75 ounce) cans condensed cream of mushr...</td>\n",
       "      <td>In a slow cooker, mix cream of mushroom soup, ...</td>\n",
       "      <td>QyrvGdGNMBA2lDdciY0FjKu.77MM0Oe</td>\n",
       "    </tr>\n",
       "    <tr>\n",
       "      <td>2</td>\n",
       "      <td>Brown Sugar Meatloaf</td>\n",
       "      <td>[1/2 cup packed brown sugar ADVERTISEMENT, 1/2...</td>\n",
       "      <td>Preheat oven to 350 degrees F (175 degrees C)....</td>\n",
       "      <td>LVW1DI0vtlCrpAhNSEQysE9i/7rJG56</td>\n",
       "    </tr>\n",
       "    <tr>\n",
       "      <td>3</td>\n",
       "      <td>Best Chocolate Chip Cookies</td>\n",
       "      <td>[1 cup butter, softened ADVERTISEMENT, 1 cup w...</td>\n",
       "      <td>Preheat oven to 350 degrees F (175 degrees C)....</td>\n",
       "      <td>0SO5kdWOV94j6EfAVwMMYRM3yNN8eRi</td>\n",
       "    </tr>\n",
       "    <tr>\n",
       "      <td>4</td>\n",
       "      <td>Homemade Mac and Cheese Casserole</td>\n",
       "      <td>[8 ounces whole wheat rotini pasta ADVERTISEME...</td>\n",
       "      <td>Preheat oven to 350 degrees F. Line a 2-quart ...</td>\n",
       "      <td>YCnbhplMgiraW4rUXcybgSEZinSgljm</td>\n",
       "    </tr>\n",
       "  </tbody>\n",
       "</table>\n",
       "</div>"
      ],
      "text/plain": [
       "                               title  \\\n",
       "0  Slow Cooker Chicken and Dumplings   \n",
       "1      Awesome Slow Cooker Pot Roast   \n",
       "2               Brown Sugar Meatloaf   \n",
       "3        Best Chocolate Chip Cookies   \n",
       "4  Homemade Mac and Cheese Casserole   \n",
       "\n",
       "                                         ingredients  \\\n",
       "0  [4 skinless, boneless chicken breast halves AD...   \n",
       "1  [2 (10.75 ounce) cans condensed cream of mushr...   \n",
       "2  [1/2 cup packed brown sugar ADVERTISEMENT, 1/2...   \n",
       "3  [1 cup butter, softened ADVERTISEMENT, 1 cup w...   \n",
       "4  [8 ounces whole wheat rotini pasta ADVERTISEME...   \n",
       "\n",
       "                                        instructions  \\\n",
       "0  Place the chicken, butter, soup, and onion in ...   \n",
       "1  In a slow cooker, mix cream of mushroom soup, ...   \n",
       "2  Preheat oven to 350 degrees F (175 degrees C)....   \n",
       "3  Preheat oven to 350 degrees F (175 degrees C)....   \n",
       "4  Preheat oven to 350 degrees F. Line a 2-quart ...   \n",
       "\n",
       "                      picture_link  \n",
       "0  55lznCYBbs2mT8BTx6BTkLhynGHzM.S  \n",
       "1  QyrvGdGNMBA2lDdciY0FjKu.77MM0Oe  \n",
       "2  LVW1DI0vtlCrpAhNSEQysE9i/7rJG56  \n",
       "3  0SO5kdWOV94j6EfAVwMMYRM3yNN8eRi  \n",
       "4  YCnbhplMgiraW4rUXcybgSEZinSgljm  "
      ]
     },
     "execution_count": 6,
     "metadata": {},
     "output_type": "execute_result"
    }
   ],
   "source": [
    "#reset index because don't want the scraped link as index\n",
    "rb_ar.index = range(len(rb_ar))\n",
    "rb_ar.head() "
   ]
  },
  {
   "cell_type": "markdown",
   "metadata": {},
   "source": [
    "### epicurious"
   ]
  },
  {
   "cell_type": "code",
   "execution_count": 7,
   "metadata": {
    "ExecuteTime": {
     "end_time": "2019-11-14T06:16:59.608610Z",
     "start_time": "2019-11-14T06:16:48.802628Z"
    }
   },
   "outputs": [],
   "source": [
    "rbdata_epi = pd.read_json(r'/Users/xinrucheng/Documents/GitHub/metisproject04/data/raw/recipes_raw/recipes_raw_nosource_epi.json')"
   ]
  },
  {
   "cell_type": "code",
   "execution_count": 8,
   "metadata": {
    "ExecuteTime": {
     "end_time": "2019-11-14T06:16:59.644483Z",
     "start_time": "2019-11-14T06:16:59.616840Z"
    }
   },
   "outputs": [],
   "source": [
    "rb_epi=rbdata_epi.T"
   ]
  },
  {
   "cell_type": "code",
   "execution_count": 9,
   "metadata": {
    "ExecuteTime": {
     "end_time": "2019-11-14T06:16:59.761329Z",
     "start_time": "2019-11-14T06:16:59.648514Z"
    }
   },
   "outputs": [
    {
     "name": "stdout",
     "output_type": "stream",
     "text": [
      "<class 'pandas.core.frame.DataFrame'>\n",
      "Index: 25323 entries, 05zEpbSqcs9E0rcnCJWyZ9OgdH0MLby to qznqHiNpq0AB1AYn002A2HvaEFnN0lq\n",
      "Data columns (total 4 columns):\n",
      "ingredients     25323 non-null object\n",
      "picture_link    12119 non-null object\n",
      "instructions    25323 non-null object\n",
      "title           25323 non-null object\n",
      "dtypes: object(4)\n",
      "memory usage: 2.2+ MB\n"
     ]
    }
   ],
   "source": [
    "rb_epi.info()"
   ]
  },
  {
   "cell_type": "code",
   "execution_count": 10,
   "metadata": {
    "ExecuteTime": {
     "end_time": "2019-11-14T06:16:59.789554Z",
     "start_time": "2019-11-14T06:16:59.771169Z"
    }
   },
   "outputs": [
    {
     "data": {
      "text/html": [
       "<div>\n",
       "<style scoped>\n",
       "    .dataframe tbody tr th:only-of-type {\n",
       "        vertical-align: middle;\n",
       "    }\n",
       "\n",
       "    .dataframe tbody tr th {\n",
       "        vertical-align: top;\n",
       "    }\n",
       "\n",
       "    .dataframe thead th {\n",
       "        text-align: right;\n",
       "    }\n",
       "</style>\n",
       "<table border=\"1\" class=\"dataframe\">\n",
       "  <thead>\n",
       "    <tr style=\"text-align: right;\">\n",
       "      <th></th>\n",
       "      <th>ingredients</th>\n",
       "      <th>picture_link</th>\n",
       "      <th>instructions</th>\n",
       "      <th>title</th>\n",
       "    </tr>\n",
       "  </thead>\n",
       "  <tbody>\n",
       "    <tr>\n",
       "      <td>05zEpbSqcs9E0rcnCJWyZ9OgdH0MLby</td>\n",
       "      <td>[12 egg whites, 12 egg yolks, 1 1/2 cups sugar...</td>\n",
       "      <td>None</td>\n",
       "      <td>Beat the egg whites until stiff, gradually add...</td>\n",
       "      <td>Christmas Eggnog</td>\n",
       "    </tr>\n",
       "    <tr>\n",
       "      <td>mF5SZmoqxF4WtIlhLRvzuKk.z6s7P2S</td>\n",
       "      <td>[18 fresh chestnuts, 2 1/2 pounds veal stew me...</td>\n",
       "      <td>None</td>\n",
       "      <td>Preheat oven to 400°F. Using small sharp knife...</td>\n",
       "      <td>Veal, Carrot and Chestnut Ragoût</td>\n",
       "    </tr>\n",
       "    <tr>\n",
       "      <td>oQV5D7cVbCFwmrDs3pBUv2y.AG0WV26</td>\n",
       "      <td>[2 tablespoons unsalted butter, softened, 4 or...</td>\n",
       "      <td>3xjktRst3I5lDZ2Z5kTOtqQyzZFFN9u</td>\n",
       "      <td>Preheat the oven to 350°F. Spread the softened...</td>\n",
       "      <td>Caramelized Bread Pudding with Chocolate and C...</td>\n",
       "    </tr>\n",
       "    <tr>\n",
       "      <td>Z9seBJWaB5NkSp4DQHDnCAUBTwov/1u</td>\n",
       "      <td>[3/4 pound Stilton, crumbled (about 3 cups) an...</td>\n",
       "      <td>None</td>\n",
       "      <td>In a food processor blend the Stilton, the cre...</td>\n",
       "      <td>Sherried Stilton and Green Peppercorn Spread</td>\n",
       "    </tr>\n",
       "    <tr>\n",
       "      <td>bB3GxoAplVZeoX3fzWNWyeECtQFxw6G</td>\n",
       "      <td>[2 cups (about 9 1/2 ounces) whole almonds, to...</td>\n",
       "      <td>None</td>\n",
       "      <td>Position rack in center of oven and preheat to...</td>\n",
       "      <td>Almond-Chocolate Macaroons</td>\n",
       "    </tr>\n",
       "  </tbody>\n",
       "</table>\n",
       "</div>"
      ],
      "text/plain": [
       "                                                                       ingredients  \\\n",
       "05zEpbSqcs9E0rcnCJWyZ9OgdH0MLby  [12 egg whites, 12 egg yolks, 1 1/2 cups sugar...   \n",
       "mF5SZmoqxF4WtIlhLRvzuKk.z6s7P2S  [18 fresh chestnuts, 2 1/2 pounds veal stew me...   \n",
       "oQV5D7cVbCFwmrDs3pBUv2y.AG0WV26  [2 tablespoons unsalted butter, softened, 4 or...   \n",
       "Z9seBJWaB5NkSp4DQHDnCAUBTwov/1u  [3/4 pound Stilton, crumbled (about 3 cups) an...   \n",
       "bB3GxoAplVZeoX3fzWNWyeECtQFxw6G  [2 cups (about 9 1/2 ounces) whole almonds, to...   \n",
       "\n",
       "                                                    picture_link  \\\n",
       "05zEpbSqcs9E0rcnCJWyZ9OgdH0MLby                             None   \n",
       "mF5SZmoqxF4WtIlhLRvzuKk.z6s7P2S                             None   \n",
       "oQV5D7cVbCFwmrDs3pBUv2y.AG0WV26  3xjktRst3I5lDZ2Z5kTOtqQyzZFFN9u   \n",
       "Z9seBJWaB5NkSp4DQHDnCAUBTwov/1u                             None   \n",
       "bB3GxoAplVZeoX3fzWNWyeECtQFxw6G                             None   \n",
       "\n",
       "                                                                      instructions  \\\n",
       "05zEpbSqcs9E0rcnCJWyZ9OgdH0MLby  Beat the egg whites until stiff, gradually add...   \n",
       "mF5SZmoqxF4WtIlhLRvzuKk.z6s7P2S  Preheat oven to 400°F. Using small sharp knife...   \n",
       "oQV5D7cVbCFwmrDs3pBUv2y.AG0WV26  Preheat the oven to 350°F. Spread the softened...   \n",
       "Z9seBJWaB5NkSp4DQHDnCAUBTwov/1u  In a food processor blend the Stilton, the cre...   \n",
       "bB3GxoAplVZeoX3fzWNWyeECtQFxw6G  Position rack in center of oven and preheat to...   \n",
       "\n",
       "                                                                             title  \n",
       "05zEpbSqcs9E0rcnCJWyZ9OgdH0MLby                                  Christmas Eggnog   \n",
       "mF5SZmoqxF4WtIlhLRvzuKk.z6s7P2S                  Veal, Carrot and Chestnut Ragoût   \n",
       "oQV5D7cVbCFwmrDs3pBUv2y.AG0WV26  Caramelized Bread Pudding with Chocolate and C...  \n",
       "Z9seBJWaB5NkSp4DQHDnCAUBTwov/1u      Sherried Stilton and Green Peppercorn Spread   \n",
       "bB3GxoAplVZeoX3fzWNWyeECtQFxw6G                        Almond-Chocolate Macaroons   "
      ]
     },
     "execution_count": 10,
     "metadata": {},
     "output_type": "execute_result"
    }
   ],
   "source": [
    "#only about half of the epicurious dataset has pictures, also this is the smallest dataset. \n",
    "#the columns are also in a different order\n",
    "rb_epi.head()"
   ]
  },
  {
   "cell_type": "markdown",
   "metadata": {},
   "source": [
    "### foodnetwork"
   ]
  },
  {
   "cell_type": "code",
   "execution_count": 11,
   "metadata": {
    "ExecuteTime": {
     "end_time": "2019-11-14T06:17:27.313764Z",
     "start_time": "2019-11-14T06:16:59.792454Z"
    }
   },
   "outputs": [],
   "source": [
    "rbdata_fn = pd.read_json(r'/Users/xinrucheng/Documents/GitHub/metisproject04/data/raw/recipes_raw/recipes_raw_nosource_fn.json')"
   ]
  },
  {
   "cell_type": "code",
   "execution_count": 12,
   "metadata": {
    "ExecuteTime": {
     "end_time": "2019-11-14T06:17:27.438594Z",
     "start_time": "2019-11-14T06:17:27.317377Z"
    }
   },
   "outputs": [],
   "source": [
    "rb_fn=rbdata_fn.T"
   ]
  },
  {
   "cell_type": "code",
   "execution_count": 13,
   "metadata": {
    "ExecuteTime": {
     "end_time": "2019-11-14T06:17:27.520075Z",
     "start_time": "2019-11-14T06:17:27.475782Z"
    }
   },
   "outputs": [
    {
     "name": "stdout",
     "output_type": "stream",
     "text": [
      "<class 'pandas.core.frame.DataFrame'>\n",
      "Index: 60039 entries, p3pKOD6jIHEcjf20CCXohP8uqkG5dGi to 7cXA77UpdDtIfBug2v6lEVIuV3Zcvhm\n",
      "Data columns (total 4 columns):\n",
      "instructions    59628 non-null object\n",
      "ingredients     59802 non-null object\n",
      "title           59750 non-null object\n",
      "picture_link    30952 non-null object\n",
      "dtypes: object(4)\n",
      "memory usage: 4.8+ MB\n"
     ]
    }
   ],
   "source": [
    "rb_fn.info()"
   ]
  },
  {
   "cell_type": "markdown",
   "metadata": {},
   "source": [
    "This is the largest single-source dataset with 60039 entries, but it has many missing values. \n",
    "What could cause the most issues for out purposes is missing title and ingredients. It would make sense to drop the rows that do not have title or ingredients, and even the ones missing instructions. We won't likely need the picture link, so we can drop those columns for all three files in the recipebox dataset."
   ]
  },
  {
   "cell_type": "code",
   "execution_count": 14,
   "metadata": {
    "ExecuteTime": {
     "end_time": "2019-11-14T06:17:27.605462Z",
     "start_time": "2019-11-14T06:17:27.529849Z"
    }
   },
   "outputs": [
    {
     "data": {
      "text/html": [
       "<div>\n",
       "<style scoped>\n",
       "    .dataframe tbody tr th:only-of-type {\n",
       "        vertical-align: middle;\n",
       "    }\n",
       "\n",
       "    .dataframe tbody tr th {\n",
       "        vertical-align: top;\n",
       "    }\n",
       "\n",
       "    .dataframe thead th {\n",
       "        text-align: right;\n",
       "    }\n",
       "</style>\n",
       "<table border=\"1\" class=\"dataframe\">\n",
       "  <thead>\n",
       "    <tr style=\"text-align: right;\">\n",
       "      <th></th>\n",
       "      <th>instructions</th>\n",
       "      <th>ingredients</th>\n",
       "      <th>title</th>\n",
       "      <th>picture_link</th>\n",
       "    </tr>\n",
       "  </thead>\n",
       "  <tbody>\n",
       "    <tr>\n",
       "      <td>p3pKOD6jIHEcjf20CCXohP8uqkG5dGi</td>\n",
       "      <td>Toss ingredients lightly and spoon into a butt...</td>\n",
       "      <td>[1/2 cup celery, finely chopped, 1 small green...</td>\n",
       "      <td>Grammie Hamblet's Deviled Crab</td>\n",
       "      <td>None</td>\n",
       "    </tr>\n",
       "    <tr>\n",
       "      <td>S7aeOIrsrgT0jLP32jKGg4j.o9zi2DO</td>\n",
       "      <td>Watch how to make this recipe.\\nSprinkle the s...</td>\n",
       "      <td>[2 pounds skirt steak, cut into 1/2-inch dice,...</td>\n",
       "      <td>Infineon Raceway Baked Beans</td>\n",
       "      <td>Ja5uaD8Q7m7vvtWwk2.48dr1eCre/qi</td>\n",
       "    </tr>\n",
       "    <tr>\n",
       "      <td>o9MItV9txfoPsUQ4v8b0vh1.VdjwfsK</td>\n",
       "      <td>In a large saucepan, let the beans soak in eno...</td>\n",
       "      <td>[1 1/2 cups dried black beans, picked over and...</td>\n",
       "      <td>Southwestern Black Bean Dip</td>\n",
       "      <td>None</td>\n",
       "    </tr>\n",
       "    <tr>\n",
       "      <td>5l1yTSYFifF/M2dfbD6DX28WWQpLWNK</td>\n",
       "      <td>Watch how to make this recipe.\\nPreheat the ov...</td>\n",
       "      <td>[1 1/4 pounds ground chuck, One 15-ounce can t...</td>\n",
       "      <td>Sour Cream Noodle Bake</td>\n",
       "      <td>nm/WxalB.VjEZSa0iX9RuZ8xI51Y7bS</td>\n",
       "    </tr>\n",
       "    <tr>\n",
       "      <td>kRBQSWtqYWqtkb34FGeenBSbC32gIdO</td>\n",
       "      <td>Special equipment: sushi mat\\nCook the brown r...</td>\n",
       "      <td>[1 cup rice, brown, medium-grain, cooked, 1/2-...</td>\n",
       "      <td>Sushi Renovation</td>\n",
       "      <td>None</td>\n",
       "    </tr>\n",
       "  </tbody>\n",
       "</table>\n",
       "</div>"
      ],
      "text/plain": [
       "                                                                      instructions  \\\n",
       "p3pKOD6jIHEcjf20CCXohP8uqkG5dGi  Toss ingredients lightly and spoon into a butt...   \n",
       "S7aeOIrsrgT0jLP32jKGg4j.o9zi2DO  Watch how to make this recipe.\\nSprinkle the s...   \n",
       "o9MItV9txfoPsUQ4v8b0vh1.VdjwfsK  In a large saucepan, let the beans soak in eno...   \n",
       "5l1yTSYFifF/M2dfbD6DX28WWQpLWNK  Watch how to make this recipe.\\nPreheat the ov...   \n",
       "kRBQSWtqYWqtkb34FGeenBSbC32gIdO  Special equipment: sushi mat\\nCook the brown r...   \n",
       "\n",
       "                                                                       ingredients  \\\n",
       "p3pKOD6jIHEcjf20CCXohP8uqkG5dGi  [1/2 cup celery, finely chopped, 1 small green...   \n",
       "S7aeOIrsrgT0jLP32jKGg4j.o9zi2DO  [2 pounds skirt steak, cut into 1/2-inch dice,...   \n",
       "o9MItV9txfoPsUQ4v8b0vh1.VdjwfsK  [1 1/2 cups dried black beans, picked over and...   \n",
       "5l1yTSYFifF/M2dfbD6DX28WWQpLWNK  [1 1/4 pounds ground chuck, One 15-ounce can t...   \n",
       "kRBQSWtqYWqtkb34FGeenBSbC32gIdO  [1 cup rice, brown, medium-grain, cooked, 1/2-...   \n",
       "\n",
       "                                                          title  \\\n",
       "p3pKOD6jIHEcjf20CCXohP8uqkG5dGi  Grammie Hamblet's Deviled Crab   \n",
       "S7aeOIrsrgT0jLP32jKGg4j.o9zi2DO    Infineon Raceway Baked Beans   \n",
       "o9MItV9txfoPsUQ4v8b0vh1.VdjwfsK     Southwestern Black Bean Dip   \n",
       "5l1yTSYFifF/M2dfbD6DX28WWQpLWNK          Sour Cream Noodle Bake   \n",
       "kRBQSWtqYWqtkb34FGeenBSbC32gIdO                Sushi Renovation   \n",
       "\n",
       "                                                    picture_link  \n",
       "p3pKOD6jIHEcjf20CCXohP8uqkG5dGi                             None  \n",
       "S7aeOIrsrgT0jLP32jKGg4j.o9zi2DO  Ja5uaD8Q7m7vvtWwk2.48dr1eCre/qi  \n",
       "o9MItV9txfoPsUQ4v8b0vh1.VdjwfsK                             None  \n",
       "5l1yTSYFifF/M2dfbD6DX28WWQpLWNK  nm/WxalB.VjEZSa0iX9RuZ8xI51Y7bS  \n",
       "kRBQSWtqYWqtkb34FGeenBSbC32gIdO                             None  "
      ]
     },
     "execution_count": 14,
     "metadata": {},
     "output_type": "execute_result"
    }
   ],
   "source": [
    "rb_fn.head()"
   ]
  },
  {
   "cell_type": "markdown",
   "metadata": {},
   "source": [
    "## Data cleaning\n",
    "\n",
    "### drop nulls from recipebox - fn and ar\n",
    "\n",
    "1. Clean allrecipes data"
   ]
  },
  {
   "cell_type": "code",
   "execution_count": 15,
   "metadata": {
    "ExecuteTime": {
     "end_time": "2019-11-14T06:17:27.640071Z",
     "start_time": "2019-11-14T06:17:27.615185Z"
    }
   },
   "outputs": [
    {
     "data": {
      "text/html": [
       "<div>\n",
       "<style scoped>\n",
       "    .dataframe tbody tr th:only-of-type {\n",
       "        vertical-align: middle;\n",
       "    }\n",
       "\n",
       "    .dataframe tbody tr th {\n",
       "        vertical-align: top;\n",
       "    }\n",
       "\n",
       "    .dataframe thead th {\n",
       "        text-align: right;\n",
       "    }\n",
       "</style>\n",
       "<table border=\"1\" class=\"dataframe\">\n",
       "  <thead>\n",
       "    <tr style=\"text-align: right;\">\n",
       "      <th></th>\n",
       "      <th>title</th>\n",
       "      <th>ingredients</th>\n",
       "      <th>instructions</th>\n",
       "    </tr>\n",
       "  </thead>\n",
       "  <tbody>\n",
       "    <tr>\n",
       "      <td>0</td>\n",
       "      <td>Slow Cooker Chicken and Dumplings</td>\n",
       "      <td>[4 skinless, boneless chicken breast halves AD...</td>\n",
       "      <td>Place the chicken, butter, soup, and onion in ...</td>\n",
       "    </tr>\n",
       "    <tr>\n",
       "      <td>1</td>\n",
       "      <td>Awesome Slow Cooker Pot Roast</td>\n",
       "      <td>[2 (10.75 ounce) cans condensed cream of mushr...</td>\n",
       "      <td>In a slow cooker, mix cream of mushroom soup, ...</td>\n",
       "    </tr>\n",
       "    <tr>\n",
       "      <td>2</td>\n",
       "      <td>Brown Sugar Meatloaf</td>\n",
       "      <td>[1/2 cup packed brown sugar ADVERTISEMENT, 1/2...</td>\n",
       "      <td>Preheat oven to 350 degrees F (175 degrees C)....</td>\n",
       "    </tr>\n",
       "    <tr>\n",
       "      <td>3</td>\n",
       "      <td>Best Chocolate Chip Cookies</td>\n",
       "      <td>[1 cup butter, softened ADVERTISEMENT, 1 cup w...</td>\n",
       "      <td>Preheat oven to 350 degrees F (175 degrees C)....</td>\n",
       "    </tr>\n",
       "    <tr>\n",
       "      <td>4</td>\n",
       "      <td>Homemade Mac and Cheese Casserole</td>\n",
       "      <td>[8 ounces whole wheat rotini pasta ADVERTISEME...</td>\n",
       "      <td>Preheat oven to 350 degrees F. Line a 2-quart ...</td>\n",
       "    </tr>\n",
       "  </tbody>\n",
       "</table>\n",
       "</div>"
      ],
      "text/plain": [
       "                               title  \\\n",
       "0  Slow Cooker Chicken and Dumplings   \n",
       "1      Awesome Slow Cooker Pot Roast   \n",
       "2               Brown Sugar Meatloaf   \n",
       "3        Best Chocolate Chip Cookies   \n",
       "4  Homemade Mac and Cheese Casserole   \n",
       "\n",
       "                                         ingredients  \\\n",
       "0  [4 skinless, boneless chicken breast halves AD...   \n",
       "1  [2 (10.75 ounce) cans condensed cream of mushr...   \n",
       "2  [1/2 cup packed brown sugar ADVERTISEMENT, 1/2...   \n",
       "3  [1 cup butter, softened ADVERTISEMENT, 1 cup w...   \n",
       "4  [8 ounces whole wheat rotini pasta ADVERTISEME...   \n",
       "\n",
       "                                        instructions  \n",
       "0  Place the chicken, butter, soup, and onion in ...  \n",
       "1  In a slow cooker, mix cream of mushroom soup, ...  \n",
       "2  Preheat oven to 350 degrees F (175 degrees C)....  \n",
       "3  Preheat oven to 350 degrees F (175 degrees C)....  \n",
       "4  Preheat oven to 350 degrees F. Line a 2-quart ...  "
      ]
     },
     "execution_count": 15,
     "metadata": {},
     "output_type": "execute_result"
    }
   ],
   "source": [
    "ardf=rb_ar.loc[:,['title','ingredients','instructions']] #drop picture_link column\n",
    "ardf.head()"
   ]
  },
  {
   "cell_type": "code",
   "execution_count": 16,
   "metadata": {
    "ExecuteTime": {
     "end_time": "2019-11-14T06:17:27.721400Z",
     "start_time": "2019-11-14T06:17:27.648953Z"
    }
   },
   "outputs": [
    {
     "name": "stdout",
     "output_type": "stream",
     "text": [
      "<class 'pandas.core.frame.DataFrame'>\n",
      "RangeIndex: 39802 entries, 0 to 39801\n",
      "Data columns (total 3 columns):\n",
      "title           39522 non-null object\n",
      "ingredients     39522 non-null object\n",
      "instructions    39522 non-null object\n",
      "dtypes: object(3)\n",
      "memory usage: 933.0+ KB\n"
     ]
    }
   ],
   "source": [
    "ardf.info()"
   ]
  },
  {
   "cell_type": "code",
   "execution_count": 17,
   "metadata": {
    "ExecuteTime": {
     "end_time": "2019-11-14T06:17:27.797764Z",
     "start_time": "2019-11-14T06:17:27.723733Z"
    }
   },
   "outputs": [
    {
     "data": {
      "text/html": [
       "<div>\n",
       "<style scoped>\n",
       "    .dataframe tbody tr th:only-of-type {\n",
       "        vertical-align: middle;\n",
       "    }\n",
       "\n",
       "    .dataframe tbody tr th {\n",
       "        vertical-align: top;\n",
       "    }\n",
       "\n",
       "    .dataframe thead th {\n",
       "        text-align: right;\n",
       "    }\n",
       "</style>\n",
       "<table border=\"1\" class=\"dataframe\">\n",
       "  <thead>\n",
       "    <tr style=\"text-align: right;\">\n",
       "      <th></th>\n",
       "      <th>title</th>\n",
       "      <th>ingredients</th>\n",
       "      <th>instructions</th>\n",
       "    </tr>\n",
       "  </thead>\n",
       "  <tbody>\n",
       "    <tr>\n",
       "      <td>0</td>\n",
       "      <td>Slow Cooker Chicken and Dumplings</td>\n",
       "      <td>[4 skinless, boneless chicken breast halves AD...</td>\n",
       "      <td>Place the chicken, butter, soup, and onion in ...</td>\n",
       "    </tr>\n",
       "    <tr>\n",
       "      <td>1</td>\n",
       "      <td>Awesome Slow Cooker Pot Roast</td>\n",
       "      <td>[2 (10.75 ounce) cans condensed cream of mushr...</td>\n",
       "      <td>In a slow cooker, mix cream of mushroom soup, ...</td>\n",
       "    </tr>\n",
       "    <tr>\n",
       "      <td>2</td>\n",
       "      <td>Brown Sugar Meatloaf</td>\n",
       "      <td>[1/2 cup packed brown sugar ADVERTISEMENT, 1/2...</td>\n",
       "      <td>Preheat oven to 350 degrees F (175 degrees C)....</td>\n",
       "    </tr>\n",
       "    <tr>\n",
       "      <td>3</td>\n",
       "      <td>Best Chocolate Chip Cookies</td>\n",
       "      <td>[1 cup butter, softened ADVERTISEMENT, 1 cup w...</td>\n",
       "      <td>Preheat oven to 350 degrees F (175 degrees C)....</td>\n",
       "    </tr>\n",
       "    <tr>\n",
       "      <td>4</td>\n",
       "      <td>Homemade Mac and Cheese Casserole</td>\n",
       "      <td>[8 ounces whole wheat rotini pasta ADVERTISEME...</td>\n",
       "      <td>Preheat oven to 350 degrees F. Line a 2-quart ...</td>\n",
       "    </tr>\n",
       "    <tr>\n",
       "      <td>...</td>\n",
       "      <td>...</td>\n",
       "      <td>...</td>\n",
       "      <td>...</td>\n",
       "    </tr>\n",
       "    <tr>\n",
       "      <td>39797</td>\n",
       "      <td>Thai-Indian Veggie Soup</td>\n",
       "      <td>[2 teaspoons olive oil ADVERTISEMENT, 1/4 cup ...</td>\n",
       "      <td>Heat oil in a large pot over medium heat. Add ...</td>\n",
       "    </tr>\n",
       "    <tr>\n",
       "      <td>39798</td>\n",
       "      <td>Coconut Milk-Free Panang Curry Chicken</td>\n",
       "      <td>[2 cups light cream ADVERTISEMENT, 1/4 teaspoo...</td>\n",
       "      <td>Heat cream and coconut extract in a skillet or...</td>\n",
       "    </tr>\n",
       "    <tr>\n",
       "      <td>39799</td>\n",
       "      <td>Cooked Cold Salad</td>\n",
       "      <td>[3 tablespoons bacon grease ADVERTISEMENT, 2 c...</td>\n",
       "      <td>Heat bacon grease in a skillet over medium-hig...</td>\n",
       "    </tr>\n",
       "    <tr>\n",
       "      <td>39800</td>\n",
       "      <td>Easy Eggnog Creme Brulee</td>\n",
       "      <td>[4 egg yolks ADVERTISEMENT, 1 tablespoon white...</td>\n",
       "      <td>Preheat oven to 350 degrees F (175 degrees C)....</td>\n",
       "    </tr>\n",
       "    <tr>\n",
       "      <td>39801</td>\n",
       "      <td>Super Power Stovetop Granola</td>\n",
       "      <td>[1/4 cup canola oil ADVERTISEMENT, 3 cups quic...</td>\n",
       "      <td>Heat 1/4 cup canola oil in large skillet over ...</td>\n",
       "    </tr>\n",
       "  </tbody>\n",
       "</table>\n",
       "<p>39522 rows × 3 columns</p>\n",
       "</div>"
      ],
      "text/plain": [
       "                                        title  \\\n",
       "0           Slow Cooker Chicken and Dumplings   \n",
       "1               Awesome Slow Cooker Pot Roast   \n",
       "2                        Brown Sugar Meatloaf   \n",
       "3                 Best Chocolate Chip Cookies   \n",
       "4           Homemade Mac and Cheese Casserole   \n",
       "...                                       ...   \n",
       "39797                 Thai-Indian Veggie Soup   \n",
       "39798  Coconut Milk-Free Panang Curry Chicken   \n",
       "39799                       Cooked Cold Salad   \n",
       "39800                Easy Eggnog Creme Brulee   \n",
       "39801            Super Power Stovetop Granola   \n",
       "\n",
       "                                             ingredients  \\\n",
       "0      [4 skinless, boneless chicken breast halves AD...   \n",
       "1      [2 (10.75 ounce) cans condensed cream of mushr...   \n",
       "2      [1/2 cup packed brown sugar ADVERTISEMENT, 1/2...   \n",
       "3      [1 cup butter, softened ADVERTISEMENT, 1 cup w...   \n",
       "4      [8 ounces whole wheat rotini pasta ADVERTISEME...   \n",
       "...                                                  ...   \n",
       "39797  [2 teaspoons olive oil ADVERTISEMENT, 1/4 cup ...   \n",
       "39798  [2 cups light cream ADVERTISEMENT, 1/4 teaspoo...   \n",
       "39799  [3 tablespoons bacon grease ADVERTISEMENT, 2 c...   \n",
       "39800  [4 egg yolks ADVERTISEMENT, 1 tablespoon white...   \n",
       "39801  [1/4 cup canola oil ADVERTISEMENT, 3 cups quic...   \n",
       "\n",
       "                                            instructions  \n",
       "0      Place the chicken, butter, soup, and onion in ...  \n",
       "1      In a slow cooker, mix cream of mushroom soup, ...  \n",
       "2      Preheat oven to 350 degrees F (175 degrees C)....  \n",
       "3      Preheat oven to 350 degrees F (175 degrees C)....  \n",
       "4      Preheat oven to 350 degrees F. Line a 2-quart ...  \n",
       "...                                                  ...  \n",
       "39797  Heat oil in a large pot over medium heat. Add ...  \n",
       "39798  Heat cream and coconut extract in a skillet or...  \n",
       "39799  Heat bacon grease in a skillet over medium-hig...  \n",
       "39800  Preheat oven to 350 degrees F (175 degrees C)....  \n",
       "39801  Heat 1/4 cup canola oil in large skillet over ...  \n",
       "\n",
       "[39522 rows x 3 columns]"
      ]
     },
     "execution_count": 17,
     "metadata": {},
     "output_type": "execute_result"
    }
   ],
   "source": [
    "#still has ~300 null rows? drop those also\n",
    "ardf=ardf.dropna(how='any')\n",
    "ardf\n",
    "\n",
    "#Now have 39522 observations (recipes) with no null values\n",
    "\n",
    "#*still need to get rid of link as well as punctuations before further processing\n",
    "\n",
    "#also the word ADVERTISEMENT shows up a lot - filter it out"
   ]
  },
  {
   "cell_type": "markdown",
   "metadata": {},
   "source": [
    "2. clean epicurious data\n",
    "\n",
    "No missing values in other features, just drop picture_link column\n"
   ]
  },
  {
   "cell_type": "code",
   "execution_count": 18,
   "metadata": {
    "ExecuteTime": {
     "end_time": "2019-11-14T06:17:27.845910Z",
     "start_time": "2019-11-14T06:17:27.800905Z"
    }
   },
   "outputs": [
    {
     "data": {
      "text/html": [
       "<div>\n",
       "<style scoped>\n",
       "    .dataframe tbody tr th:only-of-type {\n",
       "        vertical-align: middle;\n",
       "    }\n",
       "\n",
       "    .dataframe tbody tr th {\n",
       "        vertical-align: top;\n",
       "    }\n",
       "\n",
       "    .dataframe thead th {\n",
       "        text-align: right;\n",
       "    }\n",
       "</style>\n",
       "<table border=\"1\" class=\"dataframe\">\n",
       "  <thead>\n",
       "    <tr style=\"text-align: right;\">\n",
       "      <th></th>\n",
       "      <th>title</th>\n",
       "      <th>ingredients</th>\n",
       "      <th>instructions</th>\n",
       "    </tr>\n",
       "  </thead>\n",
       "  <tbody>\n",
       "    <tr>\n",
       "      <td>05zEpbSqcs9E0rcnCJWyZ9OgdH0MLby</td>\n",
       "      <td>Christmas Eggnog</td>\n",
       "      <td>[12 egg whites, 12 egg yolks, 1 1/2 cups sugar...</td>\n",
       "      <td>Beat the egg whites until stiff, gradually add...</td>\n",
       "    </tr>\n",
       "    <tr>\n",
       "      <td>mF5SZmoqxF4WtIlhLRvzuKk.z6s7P2S</td>\n",
       "      <td>Veal, Carrot and Chestnut Ragoût</td>\n",
       "      <td>[18 fresh chestnuts, 2 1/2 pounds veal stew me...</td>\n",
       "      <td>Preheat oven to 400°F. Using small sharp knife...</td>\n",
       "    </tr>\n",
       "    <tr>\n",
       "      <td>oQV5D7cVbCFwmrDs3pBUv2y.AG0WV26</td>\n",
       "      <td>Caramelized Bread Pudding with Chocolate and C...</td>\n",
       "      <td>[2 tablespoons unsalted butter, softened, 4 or...</td>\n",
       "      <td>Preheat the oven to 350°F. Spread the softened...</td>\n",
       "    </tr>\n",
       "    <tr>\n",
       "      <td>Z9seBJWaB5NkSp4DQHDnCAUBTwov/1u</td>\n",
       "      <td>Sherried Stilton and Green Peppercorn Spread</td>\n",
       "      <td>[3/4 pound Stilton, crumbled (about 3 cups) an...</td>\n",
       "      <td>In a food processor blend the Stilton, the cre...</td>\n",
       "    </tr>\n",
       "    <tr>\n",
       "      <td>bB3GxoAplVZeoX3fzWNWyeECtQFxw6G</td>\n",
       "      <td>Almond-Chocolate Macaroons</td>\n",
       "      <td>[2 cups (about 9 1/2 ounces) whole almonds, to...</td>\n",
       "      <td>Position rack in center of oven and preheat to...</td>\n",
       "    </tr>\n",
       "  </tbody>\n",
       "</table>\n",
       "</div>"
      ],
      "text/plain": [
       "                                                                             title  \\\n",
       "05zEpbSqcs9E0rcnCJWyZ9OgdH0MLby                                  Christmas Eggnog    \n",
       "mF5SZmoqxF4WtIlhLRvzuKk.z6s7P2S                  Veal, Carrot and Chestnut Ragoût    \n",
       "oQV5D7cVbCFwmrDs3pBUv2y.AG0WV26  Caramelized Bread Pudding with Chocolate and C...   \n",
       "Z9seBJWaB5NkSp4DQHDnCAUBTwov/1u      Sherried Stilton and Green Peppercorn Spread    \n",
       "bB3GxoAplVZeoX3fzWNWyeECtQFxw6G                        Almond-Chocolate Macaroons    \n",
       "\n",
       "                                                                       ingredients  \\\n",
       "05zEpbSqcs9E0rcnCJWyZ9OgdH0MLby  [12 egg whites, 12 egg yolks, 1 1/2 cups sugar...   \n",
       "mF5SZmoqxF4WtIlhLRvzuKk.z6s7P2S  [18 fresh chestnuts, 2 1/2 pounds veal stew me...   \n",
       "oQV5D7cVbCFwmrDs3pBUv2y.AG0WV26  [2 tablespoons unsalted butter, softened, 4 or...   \n",
       "Z9seBJWaB5NkSp4DQHDnCAUBTwov/1u  [3/4 pound Stilton, crumbled (about 3 cups) an...   \n",
       "bB3GxoAplVZeoX3fzWNWyeECtQFxw6G  [2 cups (about 9 1/2 ounces) whole almonds, to...   \n",
       "\n",
       "                                                                      instructions  \n",
       "05zEpbSqcs9E0rcnCJWyZ9OgdH0MLby  Beat the egg whites until stiff, gradually add...  \n",
       "mF5SZmoqxF4WtIlhLRvzuKk.z6s7P2S  Preheat oven to 400°F. Using small sharp knife...  \n",
       "oQV5D7cVbCFwmrDs3pBUv2y.AG0WV26  Preheat the oven to 350°F. Spread the softened...  \n",
       "Z9seBJWaB5NkSp4DQHDnCAUBTwov/1u  In a food processor blend the Stilton, the cre...  \n",
       "bB3GxoAplVZeoX3fzWNWyeECtQFxw6G  Position rack in center of oven and preheat to...  "
      ]
     },
     "execution_count": 18,
     "metadata": {},
     "output_type": "execute_result"
    }
   ],
   "source": [
    "epidf=rb_epi.loc[:,['title','ingredients','instructions']] #drop picture_link column\n",
    "epidf.head()"
   ]
  },
  {
   "cell_type": "code",
   "execution_count": 19,
   "metadata": {
    "ExecuteTime": {
     "end_time": "2019-11-14T06:17:27.877606Z",
     "start_time": "2019-11-14T06:17:27.856836Z"
    }
   },
   "outputs": [
    {
     "name": "stdout",
     "output_type": "stream",
     "text": [
      "<class 'pandas.core.frame.DataFrame'>\n",
      "Index: 25323 entries, 05zEpbSqcs9E0rcnCJWyZ9OgdH0MLby to qznqHiNpq0AB1AYn002A2HvaEFnN0lq\n",
      "Data columns (total 3 columns):\n",
      "title           25323 non-null object\n",
      "ingredients     25323 non-null object\n",
      "instructions    25323 non-null object\n",
      "dtypes: object(3)\n",
      "memory usage: 2.0+ MB\n"
     ]
    }
   ],
   "source": [
    "epidf.info() #no nulls"
   ]
  },
  {
   "cell_type": "markdown",
   "metadata": {},
   "source": [
    "3. clean food network data\n",
    "\n",
    "drop picture_link column as well as nulls"
   ]
  },
  {
   "cell_type": "code",
   "execution_count": 20,
   "metadata": {
    "ExecuteTime": {
     "end_time": "2019-11-14T06:17:27.908535Z",
     "start_time": "2019-11-14T06:17:27.881353Z"
    }
   },
   "outputs": [
    {
     "data": {
      "text/html": [
       "<div>\n",
       "<style scoped>\n",
       "    .dataframe tbody tr th:only-of-type {\n",
       "        vertical-align: middle;\n",
       "    }\n",
       "\n",
       "    .dataframe tbody tr th {\n",
       "        vertical-align: top;\n",
       "    }\n",
       "\n",
       "    .dataframe thead th {\n",
       "        text-align: right;\n",
       "    }\n",
       "</style>\n",
       "<table border=\"1\" class=\"dataframe\">\n",
       "  <thead>\n",
       "    <tr style=\"text-align: right;\">\n",
       "      <th></th>\n",
       "      <th>title</th>\n",
       "      <th>ingredients</th>\n",
       "      <th>instructions</th>\n",
       "    </tr>\n",
       "  </thead>\n",
       "  <tbody>\n",
       "    <tr>\n",
       "      <td>p3pKOD6jIHEcjf20CCXohP8uqkG5dGi</td>\n",
       "      <td>Grammie Hamblet's Deviled Crab</td>\n",
       "      <td>[1/2 cup celery, finely chopped, 1 small green...</td>\n",
       "      <td>Toss ingredients lightly and spoon into a butt...</td>\n",
       "    </tr>\n",
       "    <tr>\n",
       "      <td>S7aeOIrsrgT0jLP32jKGg4j.o9zi2DO</td>\n",
       "      <td>Infineon Raceway Baked Beans</td>\n",
       "      <td>[2 pounds skirt steak, cut into 1/2-inch dice,...</td>\n",
       "      <td>Watch how to make this recipe.\\nSprinkle the s...</td>\n",
       "    </tr>\n",
       "    <tr>\n",
       "      <td>o9MItV9txfoPsUQ4v8b0vh1.VdjwfsK</td>\n",
       "      <td>Southwestern Black Bean Dip</td>\n",
       "      <td>[1 1/2 cups dried black beans, picked over and...</td>\n",
       "      <td>In a large saucepan, let the beans soak in eno...</td>\n",
       "    </tr>\n",
       "    <tr>\n",
       "      <td>5l1yTSYFifF/M2dfbD6DX28WWQpLWNK</td>\n",
       "      <td>Sour Cream Noodle Bake</td>\n",
       "      <td>[1 1/4 pounds ground chuck, One 15-ounce can t...</td>\n",
       "      <td>Watch how to make this recipe.\\nPreheat the ov...</td>\n",
       "    </tr>\n",
       "    <tr>\n",
       "      <td>kRBQSWtqYWqtkb34FGeenBSbC32gIdO</td>\n",
       "      <td>Sushi Renovation</td>\n",
       "      <td>[1 cup rice, brown, medium-grain, cooked, 1/2-...</td>\n",
       "      <td>Special equipment: sushi mat\\nCook the brown r...</td>\n",
       "    </tr>\n",
       "  </tbody>\n",
       "</table>\n",
       "</div>"
      ],
      "text/plain": [
       "                                                          title  \\\n",
       "p3pKOD6jIHEcjf20CCXohP8uqkG5dGi  Grammie Hamblet's Deviled Crab   \n",
       "S7aeOIrsrgT0jLP32jKGg4j.o9zi2DO    Infineon Raceway Baked Beans   \n",
       "o9MItV9txfoPsUQ4v8b0vh1.VdjwfsK     Southwestern Black Bean Dip   \n",
       "5l1yTSYFifF/M2dfbD6DX28WWQpLWNK          Sour Cream Noodle Bake   \n",
       "kRBQSWtqYWqtkb34FGeenBSbC32gIdO                Sushi Renovation   \n",
       "\n",
       "                                                                       ingredients  \\\n",
       "p3pKOD6jIHEcjf20CCXohP8uqkG5dGi  [1/2 cup celery, finely chopped, 1 small green...   \n",
       "S7aeOIrsrgT0jLP32jKGg4j.o9zi2DO  [2 pounds skirt steak, cut into 1/2-inch dice,...   \n",
       "o9MItV9txfoPsUQ4v8b0vh1.VdjwfsK  [1 1/2 cups dried black beans, picked over and...   \n",
       "5l1yTSYFifF/M2dfbD6DX28WWQpLWNK  [1 1/4 pounds ground chuck, One 15-ounce can t...   \n",
       "kRBQSWtqYWqtkb34FGeenBSbC32gIdO  [1 cup rice, brown, medium-grain, cooked, 1/2-...   \n",
       "\n",
       "                                                                      instructions  \n",
       "p3pKOD6jIHEcjf20CCXohP8uqkG5dGi  Toss ingredients lightly and spoon into a butt...  \n",
       "S7aeOIrsrgT0jLP32jKGg4j.o9zi2DO  Watch how to make this recipe.\\nSprinkle the s...  \n",
       "o9MItV9txfoPsUQ4v8b0vh1.VdjwfsK  In a large saucepan, let the beans soak in eno...  \n",
       "5l1yTSYFifF/M2dfbD6DX28WWQpLWNK  Watch how to make this recipe.\\nPreheat the ov...  \n",
       "kRBQSWtqYWqtkb34FGeenBSbC32gIdO  Special equipment: sushi mat\\nCook the brown r...  "
      ]
     },
     "execution_count": 20,
     "metadata": {},
     "output_type": "execute_result"
    }
   ],
   "source": [
    "fndf=rb_fn.loc[:,['title','ingredients','instructions']] #drop picture_link column\n",
    "fndf.head()"
   ]
  },
  {
   "cell_type": "code",
   "execution_count": 21,
   "metadata": {
    "ExecuteTime": {
     "end_time": "2019-11-14T06:17:27.961291Z",
     "start_time": "2019-11-14T06:17:27.912269Z"
    }
   },
   "outputs": [
    {
     "name": "stdout",
     "output_type": "stream",
     "text": [
      "<class 'pandas.core.frame.DataFrame'>\n",
      "Index: 60039 entries, p3pKOD6jIHEcjf20CCXohP8uqkG5dGi to 7cXA77UpdDtIfBug2v6lEVIuV3Zcvhm\n",
      "Data columns (total 3 columns):\n",
      "title           59750 non-null object\n",
      "ingredients     59802 non-null object\n",
      "instructions    59628 non-null object\n",
      "dtypes: object(3)\n",
      "memory usage: 4.3+ MB\n"
     ]
    }
   ],
   "source": [
    "fndf.info() #check for nulls"
   ]
  },
  {
   "cell_type": "code",
   "execution_count": 22,
   "metadata": {
    "ExecuteTime": {
     "end_time": "2019-11-14T06:17:28.022497Z",
     "start_time": "2019-11-14T06:17:27.968571Z"
    }
   },
   "outputs": [],
   "source": [
    "fndf=fndf.dropna(how='any') #drop nulls\n"
   ]
  },
  {
   "cell_type": "code",
   "execution_count": 23,
   "metadata": {
    "ExecuteTime": {
     "end_time": "2019-11-14T06:17:28.038430Z",
     "start_time": "2019-11-14T06:17:28.033779Z"
    }
   },
   "outputs": [],
   "source": [
    "#merge recipe box data; can use same code for cleaning text (regex, etc)"
   ]
  },
  {
   "cell_type": "markdown",
   "metadata": {},
   "source": [
    "### Merge Recipe box datasets (allrecipes, foodnetwork, epicurious)"
   ]
  },
  {
   "cell_type": "code",
   "execution_count": 24,
   "metadata": {
    "ExecuteTime": {
     "end_time": "2019-11-14T06:17:28.080338Z",
     "start_time": "2019-11-14T06:17:28.043934Z"
    }
   },
   "outputs": [
    {
     "data": {
      "text/html": [
       "<div>\n",
       "<style scoped>\n",
       "    .dataframe tbody tr th:only-of-type {\n",
       "        vertical-align: middle;\n",
       "    }\n",
       "\n",
       "    .dataframe tbody tr th {\n",
       "        vertical-align: top;\n",
       "    }\n",
       "\n",
       "    .dataframe thead th {\n",
       "        text-align: right;\n",
       "    }\n",
       "</style>\n",
       "<table border=\"1\" class=\"dataframe\">\n",
       "  <thead>\n",
       "    <tr style=\"text-align: right;\">\n",
       "      <th></th>\n",
       "      <th>title</th>\n",
       "      <th>ingredients</th>\n",
       "      <th>instructions</th>\n",
       "    </tr>\n",
       "  </thead>\n",
       "  <tbody>\n",
       "    <tr>\n",
       "      <td>lgygAJbdT1RNgrOYYveXtW4Ze9GtcZK</td>\n",
       "      <td>Spinach and Lentil Soup</td>\n",
       "      <td>[5 cups (about) canned beef broth, 1 cup lenti...</td>\n",
       "      <td>Bring 4 cups broth and lentils to boil in larg...</td>\n",
       "    </tr>\n",
       "    <tr>\n",
       "      <td>EgIvlp1EfF4qTsnSI3v7ViZF1b3f2qC</td>\n",
       "      <td>Fresh Cheese with Spinach</td>\n",
       "      <td>[1/2 teaspoon turmeric, 2 cups water, 3/4 poun...</td>\n",
       "      <td>Stir together turmeric, 1 1/2 cups water, and ...</td>\n",
       "    </tr>\n",
       "    <tr>\n",
       "      <td>aCaoP.P8A1h6ALQmBnw3ypvYfRt/zZe</td>\n",
       "      <td>Jalapeño and Lime–Marinated Skirt Steak Tacos</td>\n",
       "      <td>[1 medium jalapeño, thinly sliced, 2 garlic cl...</td>\n",
       "      <td>Marinate and cook the steak: Combine jalapeño,...</td>\n",
       "    </tr>\n",
       "    <tr>\n",
       "      <td>fGxd/ZNUQcXxxqaVgEtMJmsNKLbugAe</td>\n",
       "      <td>Semolina–Lemon Syrup Cakes</td>\n",
       "      <td>[1 1/2 cups almond flour or almond meal, 1/2 c...</td>\n",
       "      <td>Make the cakes: Preheat oven to 350°F. Line th...</td>\n",
       "    </tr>\n",
       "    <tr>\n",
       "      <td>qznqHiNpq0AB1AYn002A2HvaEFnN0lq</td>\n",
       "      <td>Chicken Cacciatore</td>\n",
       "      <td>[1 1/2 pounds plum tomatoes, coarsely chopped ...</td>\n",
       "      <td>Preheat oven to 400°F. Combine plum tomatoes, ...</td>\n",
       "    </tr>\n",
       "  </tbody>\n",
       "</table>\n",
       "</div>"
      ],
      "text/plain": [
       "                                                                          title  \\\n",
       "lgygAJbdT1RNgrOYYveXtW4Ze9GtcZK                        Spinach and Lentil Soup    \n",
       "EgIvlp1EfF4qTsnSI3v7ViZF1b3f2qC                      Fresh Cheese with Spinach    \n",
       "aCaoP.P8A1h6ALQmBnw3ypvYfRt/zZe  Jalapeño and Lime–Marinated Skirt Steak Tacos    \n",
       "fGxd/ZNUQcXxxqaVgEtMJmsNKLbugAe                     Semolina–Lemon Syrup Cakes    \n",
       "qznqHiNpq0AB1AYn002A2HvaEFnN0lq                             Chicken Cacciatore    \n",
       "\n",
       "                                                                       ingredients  \\\n",
       "lgygAJbdT1RNgrOYYveXtW4Ze9GtcZK  [5 cups (about) canned beef broth, 1 cup lenti...   \n",
       "EgIvlp1EfF4qTsnSI3v7ViZF1b3f2qC  [1/2 teaspoon turmeric, 2 cups water, 3/4 poun...   \n",
       "aCaoP.P8A1h6ALQmBnw3ypvYfRt/zZe  [1 medium jalapeño, thinly sliced, 2 garlic cl...   \n",
       "fGxd/ZNUQcXxxqaVgEtMJmsNKLbugAe  [1 1/2 cups almond flour or almond meal, 1/2 c...   \n",
       "qznqHiNpq0AB1AYn002A2HvaEFnN0lq  [1 1/2 pounds plum tomatoes, coarsely chopped ...   \n",
       "\n",
       "                                                                      instructions  \n",
       "lgygAJbdT1RNgrOYYveXtW4Ze9GtcZK  Bring 4 cups broth and lentils to boil in larg...  \n",
       "EgIvlp1EfF4qTsnSI3v7ViZF1b3f2qC  Stir together turmeric, 1 1/2 cups water, and ...  \n",
       "aCaoP.P8A1h6ALQmBnw3ypvYfRt/zZe  Marinate and cook the steak: Combine jalapeño,...  \n",
       "fGxd/ZNUQcXxxqaVgEtMJmsNKLbugAe  Make the cakes: Preheat oven to 350°F. Line th...  \n",
       "qznqHiNpq0AB1AYn002A2HvaEFnN0lq  Preheat oven to 400°F. Combine plum tomatoes, ...  "
      ]
     },
     "execution_count": 24,
     "metadata": {},
     "output_type": "execute_result"
    }
   ],
   "source": [
    "frames = [ardf, fndf, epidf]\n",
    "data = pd.concat(frames)\n",
    "data.tail()"
   ]
  },
  {
   "cell_type": "code",
   "execution_count": 25,
   "metadata": {
    "ExecuteTime": {
     "end_time": "2019-11-14T06:17:28.136542Z",
     "start_time": "2019-11-14T06:17:28.083724Z"
    },
    "scrolled": true
   },
   "outputs": [
    {
     "name": "stdout",
     "output_type": "stream",
     "text": [
      "<class 'pandas.core.frame.DataFrame'>\n",
      "Index: 124473 entries, 0 to qznqHiNpq0AB1AYn002A2HvaEFnN0lq\n",
      "Data columns (total 3 columns):\n",
      "title           124473 non-null object\n",
      "ingredients     124473 non-null object\n",
      "instructions    124473 non-null object\n",
      "dtypes: object(3)\n",
      "memory usage: 3.8+ MB\n"
     ]
    }
   ],
   "source": [
    "data.info()"
   ]
  },
  {
   "cell_type": "markdown",
   "metadata": {},
   "source": [
    "### Reset index"
   ]
  },
  {
   "cell_type": "code",
   "execution_count": 26,
   "metadata": {
    "ExecuteTime": {
     "end_time": "2019-11-14T06:17:28.167213Z",
     "start_time": "2019-11-14T06:17:28.143821Z"
    }
   },
   "outputs": [
    {
     "data": {
      "text/html": [
       "<div>\n",
       "<style scoped>\n",
       "    .dataframe tbody tr th:only-of-type {\n",
       "        vertical-align: middle;\n",
       "    }\n",
       "\n",
       "    .dataframe tbody tr th {\n",
       "        vertical-align: top;\n",
       "    }\n",
       "\n",
       "    .dataframe thead th {\n",
       "        text-align: right;\n",
       "    }\n",
       "</style>\n",
       "<table border=\"1\" class=\"dataframe\">\n",
       "  <thead>\n",
       "    <tr style=\"text-align: right;\">\n",
       "      <th></th>\n",
       "      <th>title</th>\n",
       "      <th>ingredients</th>\n",
       "      <th>instructions</th>\n",
       "    </tr>\n",
       "  </thead>\n",
       "  <tbody>\n",
       "    <tr>\n",
       "      <td>0</td>\n",
       "      <td>Slow Cooker Chicken and Dumplings</td>\n",
       "      <td>[4 skinless, boneless chicken breast halves AD...</td>\n",
       "      <td>Place the chicken, butter, soup, and onion in ...</td>\n",
       "    </tr>\n",
       "    <tr>\n",
       "      <td>1</td>\n",
       "      <td>Awesome Slow Cooker Pot Roast</td>\n",
       "      <td>[2 (10.75 ounce) cans condensed cream of mushr...</td>\n",
       "      <td>In a slow cooker, mix cream of mushroom soup, ...</td>\n",
       "    </tr>\n",
       "    <tr>\n",
       "      <td>2</td>\n",
       "      <td>Brown Sugar Meatloaf</td>\n",
       "      <td>[1/2 cup packed brown sugar ADVERTISEMENT, 1/2...</td>\n",
       "      <td>Preheat oven to 350 degrees F (175 degrees C)....</td>\n",
       "    </tr>\n",
       "    <tr>\n",
       "      <td>3</td>\n",
       "      <td>Best Chocolate Chip Cookies</td>\n",
       "      <td>[1 cup butter, softened ADVERTISEMENT, 1 cup w...</td>\n",
       "      <td>Preheat oven to 350 degrees F (175 degrees C)....</td>\n",
       "    </tr>\n",
       "    <tr>\n",
       "      <td>4</td>\n",
       "      <td>Homemade Mac and Cheese Casserole</td>\n",
       "      <td>[8 ounces whole wheat rotini pasta ADVERTISEME...</td>\n",
       "      <td>Preheat oven to 350 degrees F. Line a 2-quart ...</td>\n",
       "    </tr>\n",
       "  </tbody>\n",
       "</table>\n",
       "</div>"
      ],
      "text/plain": [
       "                               title  \\\n",
       "0  Slow Cooker Chicken and Dumplings   \n",
       "1      Awesome Slow Cooker Pot Roast   \n",
       "2               Brown Sugar Meatloaf   \n",
       "3        Best Chocolate Chip Cookies   \n",
       "4  Homemade Mac and Cheese Casserole   \n",
       "\n",
       "                                         ingredients  \\\n",
       "0  [4 skinless, boneless chicken breast halves AD...   \n",
       "1  [2 (10.75 ounce) cans condensed cream of mushr...   \n",
       "2  [1/2 cup packed brown sugar ADVERTISEMENT, 1/2...   \n",
       "3  [1 cup butter, softened ADVERTISEMENT, 1 cup w...   \n",
       "4  [8 ounces whole wheat rotini pasta ADVERTISEME...   \n",
       "\n",
       "                                        instructions  \n",
       "0  Place the chicken, butter, soup, and onion in ...  \n",
       "1  In a slow cooker, mix cream of mushroom soup, ...  \n",
       "2  Preheat oven to 350 degrees F (175 degrees C)....  \n",
       "3  Preheat oven to 350 degrees F (175 degrees C)....  \n",
       "4  Preheat oven to 350 degrees F. Line a 2-quart ...  "
      ]
     },
     "execution_count": 26,
     "metadata": {},
     "output_type": "execute_result"
    }
   ],
   "source": [
    "data.index = range(len(data))\n",
    "data.head() "
   ]
  },
  {
   "cell_type": "markdown",
   "metadata": {},
   "source": [
    "### Remove digits"
   ]
  },
  {
   "cell_type": "code",
   "execution_count": 27,
   "metadata": {
    "ExecuteTime": {
     "end_time": "2019-11-14T06:17:30.720660Z",
     "start_time": "2019-11-14T06:17:28.172147Z"
    }
   },
   "outputs": [
    {
     "data": {
      "text/plain": [
       "0         [' skinless, boneless chicken breast halves AD...\n",
       "1         [' (. ounce) cans condensed cream of mushroom ...\n",
       "2         ['/ cup packed brown sugar ADVERTISEMENT', '/ ...\n",
       "3         [' cup butter, softened ADVERTISEMENT', ' cup ...\n",
       "4         [' ounces whole wheat rotini pasta ADVERTISEME...\n",
       "                                ...                        \n",
       "124468    [' cups (about) canned beef broth', ' cup lent...\n",
       "124469    ['/ teaspoon turmeric', ' cups water', '/ poun...\n",
       "124470    [' medium jalapeño, thinly sliced', ' garlic c...\n",
       "124471    [' / cups almond flour or almond meal', '/ cup...\n",
       "124472    [' / pounds plum tomatoes, coarsely chopped (s...\n",
       "Name: ingredients, Length: 124473, dtype: object"
      ]
     },
     "execution_count": 27,
     "metadata": {},
     "output_type": "execute_result"
    }
   ],
   "source": [
    "data_ingr=data['ingredients'].apply(project4_functions.regex_nodigits_new)\n",
    "data_ingr"
   ]
  },
  {
   "cell_type": "markdown",
   "metadata": {},
   "source": [
    "## Vectorization"
   ]
  },
  {
   "cell_type": "markdown",
   "metadata": {},
   "source": [
    "### Custom stopwords"
   ]
  },
  {
   "cell_type": "code",
   "execution_count": 29,
   "metadata": {
    "ExecuteTime": {
     "end_time": "2019-11-14T06:29:39.994077Z",
     "start_time": "2019-11-14T06:29:39.964269Z"
    }
   },
   "outputs": [
    {
     "data": {
      "text/plain": [
       "{'a',\n",
       " 'about',\n",
       " 'above',\n",
       " 'after',\n",
       " 'again',\n",
       " 'against',\n",
       " 'ain',\n",
       " 'all',\n",
       " 'am',\n",
       " 'an',\n",
       " 'and',\n",
       " 'any',\n",
       " 'are',\n",
       " 'aren',\n",
       " \"aren't\",\n",
       " 'as',\n",
       " 'at',\n",
       " 'be',\n",
       " 'because',\n",
       " 'been',\n",
       " 'before',\n",
       " 'being',\n",
       " 'below',\n",
       " 'between',\n",
       " 'both',\n",
       " 'but',\n",
       " 'by',\n",
       " 'can',\n",
       " 'couldn',\n",
       " \"couldn't\",\n",
       " 'd',\n",
       " 'did',\n",
       " 'didn',\n",
       " \"didn't\",\n",
       " 'do',\n",
       " 'does',\n",
       " 'doesn',\n",
       " \"doesn't\",\n",
       " 'doing',\n",
       " 'don',\n",
       " \"don't\",\n",
       " 'down',\n",
       " 'during',\n",
       " 'each',\n",
       " 'few',\n",
       " 'for',\n",
       " 'from',\n",
       " 'further',\n",
       " 'had',\n",
       " 'hadn',\n",
       " \"hadn't\",\n",
       " 'has',\n",
       " 'hasn',\n",
       " \"hasn't\",\n",
       " 'have',\n",
       " 'haven',\n",
       " \"haven't\",\n",
       " 'having',\n",
       " 'he',\n",
       " 'her',\n",
       " 'here',\n",
       " 'hers',\n",
       " 'herself',\n",
       " 'him',\n",
       " 'himself',\n",
       " 'his',\n",
       " 'how',\n",
       " 'i',\n",
       " 'if',\n",
       " 'in',\n",
       " 'into',\n",
       " 'is',\n",
       " 'isn',\n",
       " \"isn't\",\n",
       " 'it',\n",
       " \"it's\",\n",
       " 'its',\n",
       " 'itself',\n",
       " 'just',\n",
       " 'll',\n",
       " 'm',\n",
       " 'ma',\n",
       " 'me',\n",
       " 'mightn',\n",
       " \"mightn't\",\n",
       " 'more',\n",
       " 'most',\n",
       " 'mustn',\n",
       " \"mustn't\",\n",
       " 'my',\n",
       " 'myself',\n",
       " 'needn',\n",
       " \"needn't\",\n",
       " 'no',\n",
       " 'nor',\n",
       " 'not',\n",
       " 'now',\n",
       " 'o',\n",
       " 'of',\n",
       " 'off',\n",
       " 'on',\n",
       " 'once',\n",
       " 'only',\n",
       " 'or',\n",
       " 'other',\n",
       " 'our',\n",
       " 'ours',\n",
       " 'ourselves',\n",
       " 'out',\n",
       " 'over',\n",
       " 'own',\n",
       " 're',\n",
       " 's',\n",
       " 'same',\n",
       " 'shan',\n",
       " \"shan't\",\n",
       " 'she',\n",
       " \"she's\",\n",
       " 'should',\n",
       " \"should've\",\n",
       " 'shouldn',\n",
       " \"shouldn't\",\n",
       " 'so',\n",
       " 'some',\n",
       " 'such',\n",
       " 't',\n",
       " 'than',\n",
       " 'that',\n",
       " \"that'll\",\n",
       " 'the',\n",
       " 'their',\n",
       " 'theirs',\n",
       " 'them',\n",
       " 'themselves',\n",
       " 'then',\n",
       " 'there',\n",
       " 'these',\n",
       " 'they',\n",
       " 'this',\n",
       " 'those',\n",
       " 'through',\n",
       " 'to',\n",
       " 'too',\n",
       " 'under',\n",
       " 'until',\n",
       " 'up',\n",
       " 've',\n",
       " 'very',\n",
       " 'was',\n",
       " 'wasn',\n",
       " \"wasn't\",\n",
       " 'we',\n",
       " 'were',\n",
       " 'weren',\n",
       " \"weren't\",\n",
       " 'what',\n",
       " 'when',\n",
       " 'where',\n",
       " 'which',\n",
       " 'while',\n",
       " 'who',\n",
       " 'whom',\n",
       " 'why',\n",
       " 'will',\n",
       " 'with',\n",
       " 'won',\n",
       " \"won't\",\n",
       " 'wouldn',\n",
       " \"wouldn't\",\n",
       " 'y',\n",
       " 'you',\n",
       " \"you'd\",\n",
       " \"you'll\",\n",
       " \"you're\",\n",
       " \"you've\",\n",
       " 'your',\n",
       " 'yours',\n",
       " 'yourself',\n",
       " 'yourselves'}"
      ]
     },
     "execution_count": 29,
     "metadata": {},
     "output_type": "execute_result"
    }
   ],
   "source": [
    "set(stopwords.words('english')) #look at the nltk English stopwords"
   ]
  },
  {
   "cell_type": "code",
   "execution_count": 30,
   "metadata": {
    "ExecuteTime": {
     "end_time": "2019-11-14T06:29:40.005770Z",
     "start_time": "2019-11-14T06:29:39.999012Z"
    }
   },
   "outputs": [],
   "source": [
    "stopwords_nltk = stopwords.words('english')"
   ]
  },
  {
   "cell_type": "code",
   "execution_count": 31,
   "metadata": {
    "ExecuteTime": {
     "end_time": "2019-11-14T06:29:40.015603Z",
     "start_time": "2019-11-14T06:29:40.009480Z"
    }
   },
   "outputs": [
    {
     "data": {
      "text/plain": [
       "179"
      ]
     },
     "execution_count": 31,
     "metadata": {},
     "output_type": "execute_result"
    }
   ],
   "source": [
    "len(stopwords_nltk)"
   ]
  },
  {
   "cell_type": "code",
   "execution_count": 32,
   "metadata": {
    "ExecuteTime": {
     "end_time": "2019-11-14T06:29:40.026128Z",
     "start_time": "2019-11-14T06:29:40.019225Z"
    }
   },
   "outputs": [
    {
     "name": "stdout",
     "output_type": "stream",
     "text": [
      "181\n"
     ]
    }
   ],
   "source": [
    "stopwords_nltk.extend(['ADVERTISEMENT', 'advertisement']) #when run cell again, keeps getting extended\n",
    "print(len(stopwords_nltk))"
   ]
  },
  {
   "cell_type": "code",
   "execution_count": 33,
   "metadata": {
    "ExecuteTime": {
     "end_time": "2019-11-14T06:29:40.057077Z",
     "start_time": "2019-11-14T06:29:40.028595Z"
    }
   },
   "outputs": [
    {
     "data": {
      "text/plain": [
       "['i',\n",
       " 'me',\n",
       " 'my',\n",
       " 'myself',\n",
       " 'we',\n",
       " 'our',\n",
       " 'ours',\n",
       " 'ourselves',\n",
       " 'you',\n",
       " \"you're\",\n",
       " \"you've\",\n",
       " \"you'll\",\n",
       " \"you'd\",\n",
       " 'your',\n",
       " 'yours',\n",
       " 'yourself',\n",
       " 'yourselves',\n",
       " 'he',\n",
       " 'him',\n",
       " 'his',\n",
       " 'himself',\n",
       " 'she',\n",
       " \"she's\",\n",
       " 'her',\n",
       " 'hers',\n",
       " 'herself',\n",
       " 'it',\n",
       " \"it's\",\n",
       " 'its',\n",
       " 'itself',\n",
       " 'they',\n",
       " 'them',\n",
       " 'their',\n",
       " 'theirs',\n",
       " 'themselves',\n",
       " 'what',\n",
       " 'which',\n",
       " 'who',\n",
       " 'whom',\n",
       " 'this',\n",
       " 'that',\n",
       " \"that'll\",\n",
       " 'these',\n",
       " 'those',\n",
       " 'am',\n",
       " 'is',\n",
       " 'are',\n",
       " 'was',\n",
       " 'were',\n",
       " 'be',\n",
       " 'been',\n",
       " 'being',\n",
       " 'have',\n",
       " 'has',\n",
       " 'had',\n",
       " 'having',\n",
       " 'do',\n",
       " 'does',\n",
       " 'did',\n",
       " 'doing',\n",
       " 'a',\n",
       " 'an',\n",
       " 'the',\n",
       " 'and',\n",
       " 'but',\n",
       " 'if',\n",
       " 'or',\n",
       " 'because',\n",
       " 'as',\n",
       " 'until',\n",
       " 'while',\n",
       " 'of',\n",
       " 'at',\n",
       " 'by',\n",
       " 'for',\n",
       " 'with',\n",
       " 'about',\n",
       " 'against',\n",
       " 'between',\n",
       " 'into',\n",
       " 'through',\n",
       " 'during',\n",
       " 'before',\n",
       " 'after',\n",
       " 'above',\n",
       " 'below',\n",
       " 'to',\n",
       " 'from',\n",
       " 'up',\n",
       " 'down',\n",
       " 'in',\n",
       " 'out',\n",
       " 'on',\n",
       " 'off',\n",
       " 'over',\n",
       " 'under',\n",
       " 'again',\n",
       " 'further',\n",
       " 'then',\n",
       " 'once',\n",
       " 'here',\n",
       " 'there',\n",
       " 'when',\n",
       " 'where',\n",
       " 'why',\n",
       " 'how',\n",
       " 'all',\n",
       " 'any',\n",
       " 'both',\n",
       " 'each',\n",
       " 'few',\n",
       " 'more',\n",
       " 'most',\n",
       " 'other',\n",
       " 'some',\n",
       " 'such',\n",
       " 'no',\n",
       " 'nor',\n",
       " 'not',\n",
       " 'only',\n",
       " 'own',\n",
       " 'same',\n",
       " 'so',\n",
       " 'than',\n",
       " 'too',\n",
       " 'very',\n",
       " 's',\n",
       " 't',\n",
       " 'can',\n",
       " 'will',\n",
       " 'just',\n",
       " 'don',\n",
       " \"don't\",\n",
       " 'should',\n",
       " \"should've\",\n",
       " 'now',\n",
       " 'd',\n",
       " 'll',\n",
       " 'm',\n",
       " 'o',\n",
       " 're',\n",
       " 've',\n",
       " 'y',\n",
       " 'ain',\n",
       " 'aren',\n",
       " \"aren't\",\n",
       " 'couldn',\n",
       " \"couldn't\",\n",
       " 'didn',\n",
       " \"didn't\",\n",
       " 'doesn',\n",
       " \"doesn't\",\n",
       " 'hadn',\n",
       " \"hadn't\",\n",
       " 'hasn',\n",
       " \"hasn't\",\n",
       " 'haven',\n",
       " \"haven't\",\n",
       " 'isn',\n",
       " \"isn't\",\n",
       " 'ma',\n",
       " 'mightn',\n",
       " \"mightn't\",\n",
       " 'mustn',\n",
       " \"mustn't\",\n",
       " 'needn',\n",
       " \"needn't\",\n",
       " 'shan',\n",
       " \"shan't\",\n",
       " 'shouldn',\n",
       " \"shouldn't\",\n",
       " 'wasn',\n",
       " \"wasn't\",\n",
       " 'weren',\n",
       " \"weren't\",\n",
       " 'won',\n",
       " \"won't\",\n",
       " 'wouldn',\n",
       " \"wouldn't\",\n",
       " 'ADVERTISEMENT',\n",
       " 'advertisement']"
      ]
     },
     "execution_count": 33,
     "metadata": {},
     "output_type": "execute_result"
    }
   ],
   "source": [
    "stopwords_nltk"
   ]
  },
  {
   "cell_type": "code",
   "execution_count": 34,
   "metadata": {
    "ExecuteTime": {
     "end_time": "2019-11-14T06:29:40.064188Z",
     "start_time": "2019-11-14T06:29:40.059968Z"
    }
   },
   "outputs": [],
   "source": [
    "#added advertisement to stopwords, next step is to remove numbers from data before Vectorization\n",
    "#CountVectorizer removes punctuation and only keeps alphanumeric\n",
    "#vectorizers and nltk tokenizer have options to set tokens with regex, or to remove stopwords"
   ]
  },
  {
   "cell_type": "code",
   "execution_count": null,
   "metadata": {},
   "outputs": [],
   "source": []
  },
  {
   "cell_type": "markdown",
   "metadata": {},
   "source": [
    "### Vectorize - Count Vectorizer"
   ]
  },
  {
   "cell_type": "code",
   "execution_count": 35,
   "metadata": {
    "ExecuteTime": {
     "end_time": "2019-11-14T06:29:40.072102Z",
     "start_time": "2019-11-14T06:29:40.067946Z"
    }
   },
   "outputs": [],
   "source": [
    "#countVectorizer \n",
    "#Converts a collection of text documents to a matrix of token counts\n",
    "#input is expected to be the sequence strings or bytes items are expected to be analyzed directly."
   ]
  },
  {
   "cell_type": "code",
   "execution_count": 36,
   "metadata": {
    "ExecuteTime": {
     "end_time": "2019-11-14T06:29:49.005116Z",
     "start_time": "2019-11-14T06:29:40.074800Z"
    }
   },
   "outputs": [
    {
     "name": "stdout",
     "output_type": "stream",
     "text": [
      "['_about', '_gravié_ra', '_hoong', 'aa', 'aalborg', 'aale', 'aaron', 'aarons', 'aarti', 'aattachment', 'ab', 'abalone', 'abasco', 'abbaye', 'abita', 'able', 'abondance', 'aborio', 'aborrio', 'abruzzese', 'abruzzo', 'absente', 'absinth', 'absinthe', 'absolut', 'absolute', 'absolutely', 'absorb', 'abuelita', 'abura', 'aburaage', 'aburage', 'abut', 'ac', 'acacia', 'acado', 'acai', 'accent', 'accents', 'acceptable', 'accepted', 'access', 'accommodate', 'accompanied', 'accompaniment', 'accompaniments', 'accompany', 'accompanying', 'accordian', 'according', 'accordingly', 'accordion', 'accuracy', 'accurately', 'acerola', 'acetate', 'aceto', 'achieve', 'achilleos', 'achiote', 'achoite', 'acholado', 'acid', 'acidic', 'acidity', 'acidophilus', 'acids', 'acidulated', 'acini', 'acitron', 'ackee', 'ackees', 'acommpaniment', 'acorn', 'acorns', 'acquello', 'across', 'acrylic', 'act', 'acting', 'activa', 'activate', 'activated', 'active', 'activedry', 'acto', 'acts', 'actually', 'adam', 'adams', 'add', 'added', 'adding', 'addition', 'additional', 'additions', 'additives', 'adds', 'adductor', 'ade', 'adhesive', 'adige', 'adjoining', 'adjust', 'adjustable', 'adjusted', 'adjusting', 'adjustments', 'adobe', 'adobo', 'adorning', 'adovada', 'adriana', 'adrianascaravan', 'aduki', 'adult', 'adults', 'advance', 'adventurous', 'advieh', 'advise', 'advocaat', 'adzuki', 'aejado', 'aerated', 'aerosol', 'affect', 'affinois', 'affixed', 'afford', 'affordable', 'affumicata', 'african', 'africantradingco', 'afterglow', 'afterwards', 'agar', 'agave', 'age', 'aged', 'agent', 'agents', 'aggressively', 'agitated', 'aglianico', 'agnolotti', 'agria', 'agricole', 'agridulce', 'agrodolce', 'agruadiente', 'agrumato', 'agua', 'aguardiente', 'agur', 'ahead', 'ahi', 'aid', 'aidell', 'aidells', 'ail', 'ailoi', 'aioli', 'air', 'airhead', 'airheads', 'airline', 'airplane', 'airtight', 'aisle', 'aisles', 'aitchbone', 'aj', 'ajawain', 'ajawin', 'aje', 'aji', 'ajices', 'ajicitos', 'ajies', 'ajika', 'ajinomoto', 'ajishio', 'ajo', 'ajowan', 'ajvar', 'ajwain', 'ajì', 'ají', 'ajíes', 'ajíí', 'aka', 'akawi', 'akazu', 'akika', 'akkawi', 'al', 'alabama', 'aladdin', 'alae', 'alaea', 'alamang', 'alarm', 'alaska', 'alaskan', 'alba', 'albacore', 'albareino', 'albarino', 'albariño', 'albemarle', 'albert', 'albumen', 'alcaparrado', 'alcohol', 'alcoholic', 'alcoholized', 'alden', 'alder', 'alderwood', 'ale', 'aleppo', 'alesmith', 'alessi', 'alex', 'alexander', 'alexia', 'alfafa', 'alfalfa', 'alfonse', 'alfonso', 'alfredo', 'algae', 'alginate', 'alici', 'aligot', 'alioli', 'alize', 'alizé', 'alkalized', 'alla', 'allepo', 'allergies', 'allergy', 'alligator', 'allnatural', 'allow', 'allowance', 'allowed', 'allows', 'allpurpose', 'allspic', 'allspice', 'allspiced', 'allspiece', 'allumette', 'allwhites', 'almandine', 'almibar', 'almond', 'almondmilk', 'almonds', 'almost', 'aloe', 'aloha', 'along', 'alongside', 'alouette', 'aloutte', 'alpha', 'alphabet', 'alphabets', 'alphonso', 'alpina', 'alpine', 'already', 'alsatian', 'also', 'alt', 'alterative', 'alternating', 'alternative', 'alternatively', 'alternatives', 'although', 'altitude', 'alto', 'altogether', 'alton', 'alum', 'aluminum', 'always', 'amagansett', 'amaise', 'amalfi', 'amandes', 'amantillado', 'amaranth', 'amarena', 'amareto', 'amaretti', 'amaretto', 'amarilla', 'amarillo', 'amaro', 'amarone', 'amarreto', 'amatriciana', 'amaz', 'amazing', 'amazon', 'amazonas', 'amba', 'ambar', 'amber', 'amberjack', 'ambert', 'ambessa', 'ambra', 'ambrosia', 'amchoor', 'amchur', 'amd', 'amer', 'america', 'american', 'americano', 'amino', 'aminos', 'amish', 'ammaretti', 'ammonia', 'ammonium', 'among', 'amontillado', 'amore', 'amoretti', 'amoroso', 'amount', 'amounts', 'amour', 'ample', 'amstel', 'amsterdam', 'amy', 'anadama', 'anaheim', 'anaheims', 'anahiem', 'analog', 'anapakaya', 'anasazi', 'anato', 'anatomy', 'anatto', 'ancho', 'anchor', 'anchos', 'anchovies', 'anchovy', 'anchoy', 'ancient', 'ancones', 'andall', 'andalusian', 'andcurried', 'andcut', 'anddiced', 'anddrained', 'andean', 'anderson', 'andes', 'andgizzard', 'andouille', 'andre', 'andrew', 'andrinsed', 'andré', 'andspicy', 'anejo', 'anelletti', 'anemic', 'angel', 'angeleno', 'angeles', 'angeli', 'angelica', 'angelicas', 'angelino', 'angelo', 'anglaise', 'angle', 'angled', 'angostura', 'angry', 'angus', 'animal', 'animals', 'anise', 'aniseed', 'aniseeds', 'aniseflavored', 'anisette', 'anjou', 'ankle', 'anko', 'ann', 'annaheim', 'annato', 'annatoo', 'annatto', 'anne', 'annes', 'annie', 'anniversary', 'anocho', 'another', 'ans', 'ansjovis', 'anson', 'antebellum', 'antelope', 'antennae', 'anthotyro', 'anti', 'antibiotic', 'antica', 'antipasta', 'antipasti', 'antipasto', 'antler', 'anton', 'antonis', 'ants', 'anything', 'anyway', 'ao', 'aol', 'aonori', 'aosta', 'ap', 'apart', 'apeach', 'apecial', 'aperitif', 'aperitivo', 'aperol', 'apfel', 'apiece', 'appealing', 'appear', 'appendage', 'appenzeller', 'appetizer', 'appetizers', 'apple', 'applegate', 'applejack', 'apples', 'applesauce', 'appleton', 'applewood', 'applicable', 'application', 'approimately', 'appropriate', 'approx', 'approximate', 'approximately', 'approximatly', 'appétit', 'apricot', 'apricots', 'apriplums', 'apriums', 'apron', 'aquafaba', 'aquavit', 'arabic', 'arachide', 'araguani', 'arak', 'arame', 'aranciata', 'arbequina', 'arbol', 'arbols', 'arborio', 'arborrio', 'archer', 'archide', 'archway', 'arctic', 'ardbeg', 'area', 'areas', 'arent', 'arepa', 'arepas', 'arequipe', 'argan', 'argentine', 'argentinean', 'argentinian', 'argo', 'aria', 'ariel', 'arils', 'arirangkimchee', 'arizona', 'arkansas', 'arm', 'armagnac', 'armanino', 'armenian', 'arms', 'army', 'arnold', 'aroma', 'aromatic', 'aromatics', 'around', 'aroy', 'arrabbiata', 'arrabiata', 'arrack', 'arrange', 'arranged', 'arrangements', 'array', 'arriving', 'arrow', 'arrowhead', 'arrowroot', 'arroz', 'arrugula', 'art', 'artagnan', 'arthur', 'artic', 'artichoke', 'artichokes', 'artificial', 'artisan', 'artisanal', 'artist', 'artois', 'arts', 'arugala', 'arugula', 'asada', 'asadas', 'asader', 'asadero', 'asado', 'asafetida', 'asafoetida', 'asahi', 'ascolane', 'ascorbic', 'ascurried', 'asfoetida', 'ash', 'asiago', 'asian', 'asiansesame', 'aside', 'asil', 'ask', 'asorbic', 'asparagus', 'aspartame', 'aspen', 'aspic', 'aspics', 'assam', 'assemble', 'assembling', 'assembly', 'assertive', 'assi', 'assored', 'assorted', 'assortment', 'asthai', 'asti', 'aston', 'astronaut', 'asturian', 'astwix', 'asuki', 'aswad', 'atar', 'ateco', 'athenos', 'athens', 'athos', 'atkinson', 'atlantic', 'atomic', 'atomized', 'atomizer', 'atop', 'atroom', 'atta', 'attached', 'attachment', 'attachments', 'attika', 'atural', 'au', 'aubergine', 'aubergines', 'audacious', 'aunt', 'auslese', 'australian', 'austrian', 'authentic', 'autrefois', 'autry', 'autumn', 'auvergne', 'aux', 'avacodo', 'avaiable', 'availability', 'available', 'avenue', 'average', 'averagesized', 'averna', 'avery', 'avgolemono', 'aviation', 'avocado', 'avocadoes', 'avocados', 'avoid', 'avola', 'avruga', 'award', 'away', 'awesome', 'ax', 'axiote', 'aylmer', 'azafran', 'azedo', 'azejo', 'aztec', 'azuki', 'azul', 'açai', 'açaí', 'aïoli', 'añejo', 'añjo', 'ba', 'bab', 'baba', 'babcock', 'babies', 'babka', 'baby', 'babyback', 'babybel', 'bac', 'bacala', 'bacalao', 'bacalhau', 'bacardi', 'baccala', 'baccalao', 'baccalà', 'bachelor', 'baci', 'bacio', 'back', 'backbone', 'backbones', 'backdraft', 'backfin', 'backs', 'backside', 'backstrap', 'bacon', 'baconnaise', 'bad', 'badi', 'badia', 'bads', 'baerenjaeger', 'baernwurst', 'bafaat', 'bag', 'bagel', 'bagels', 'bagette', 'bagfuls', 'bagged', 'baggie', 'bagna', 'bagoong', 'bags', 'baguet', 'baguette', 'baguettes', 'bahaman', 'bahamian', 'baharat', 'bahn', 'bai', 'bailey', 'baileys', 'bain', 'bait', 'baja', 'bajan', 'bake', 'baked', 'bakehouse', 'baker', 'bakeries', 'bakers', 'bakery', 'bakeware', 'baking', 'baklava', 'balance', 'balanced', 'balancer', 'balaton', 'balchao', 'balcones', 'bali', 'balinese', 'ball', 'balled', 'baller', 'ballerina', 'balloons', 'ballpark', 'balls', 'ballymaloe', 'balm', 'balsalmic', 'balsam', 'balsamic', 'balsamico', 'baltimore', 'bam', 'bambino', 'bamboo', 'ban', 'banan', 'banana', 'bananas', 'banane', 'bananes', 'band', 'bandera', 'bands', 'banfi', 'banged', 'banger', 'bangers', 'bangus', 'banh', 'banilla', 'banks', 'banneton', 'bannock', 'banon', 'banquet', 'banyuls', 'bao', 'baobab', 'baquette', 'baquettes', 'bar', 'barbacoa', 'barbados', 'barbancourt', 'barbara', 'barbecue', 'barbecued', 'barbeque', 'barbequed', 'barbera', 'barberries', 'barbieri', 'barcelona', 'barding', 'bare', 'barefoot', 'barely', 'barhi', 'barilla', 'bark', 'barlett', 'barley', 'barlotti', 'barn', 'barnagate', 'barolo', 'barquette', 'barramundi', 'barrel', 'barrios', 'barron', 'barry', 'bars', 'barsol', 'barspoon', 'bartenura', 'bartlett', 'bartletts', 'basa', 'base', 'baseball', 'based', 'bases', 'bashed', 'basic', 'basically', 'basics', 'basil', 'basin', 'basis', 'basket', 'baskets', 'basmati', 'basmatic', 'basque', 'bass', 'bassett', 'baste', 'basted', 'baster', 'basting', 'bat', 'batard', 'batardes', 'batata', 'batatas', 'batavia', 'batch', 'batches', 'bath', 'baton', 'batonnet', 'batonnets', 'batons', 'bats', 'batter', 'battera', 'battered', 'batty', 'bauernwurst', 'bauli', 'bavarian', 'bavaroise', 'bavette', 'bay', 'bayleaf', 'baynols', 'bayonne', 'bayou', 'bazmati', 'bbq', 'bc', 'beach', 'bead', 'beaded', 'beak', 'beaked', 'beaks', 'beam', 'bean', 'beancurd', 'beanquinoa', 'beans', 'beansprouts', 'bear', 'beard', 'bearded', 'beards', 'bearnaise', 'bears', 'beat', 'beaten', 'beater', 'beaters', 'beating', 'beau', 'beaufort', 'beaujolais', 'beaume', 'beaumes', 'beauregard', 'beausoleil', 'beautiful', 'beautifully', 'beauty', 'beaver', 'becel', 'bechamel', 'beck', 'become', 'becomes', 'becoming', 'bed', 'bedding', 'bee', 'beech', 'beecher', 'beef', 'beefaroni', 'beefeater', 'beefsteak', 'beefsteaks', 'beefy', 'beer', 'beerbit', 'beeren', 'beers', 'bees', 'beeswax', 'beet', 'beetroot', 'beetroots', 'beets', 'begin', 'beginner', 'beginning', 'begins', 'begonia', 'behind', 'beignets', 'bel', 'belacan', 'belachan', 'belge', 'belgian', 'belgioioso', 'belgium', 'believe', 'belize', 'belizean', 'bell', 'bella', 'bellas', 'belle', 'belles', 'bellflower', 'bellied', 'bellies', 'bello', 'belloc', 'bellpepper', 'bells', 'bellweather', 'bellwether', 'belly', 'belon', 'belons', 'belt', 'beltane', 'belts', 'beluga', 'belvedere', 'ben', 'bench', 'bend', 'beneath', 'benedict', 'benedictine', 'benefiber', 'bengal', 'bengali', 'beni', 'benita', 'benne', 'bennet', 'benny', 'benriner', 'benton', 'berbere', 'berentzen', 'berg', 'bergamot', 'berger', 'berio', 'berkshire', 'bermuda', 'bermudan', 'bernheim', 'berried', 'berries', 'berry', 'berryhill', 'bertman', 'bertolli', 'beryl', 'beryls', 'besan', 'besciamella', 'best', 'bestquality', 'besugo', 'bet', 'betel', 'better', 'betty', 'betutu', 'beurre', 'beverage', 'beverages', 'bevmo', 'bewley', 'bewleys', 'beyond', 'bhaji', 'bhut', 'bianco', 'bias', 'bib', 'bibb', 'biber', 'bibimbap', 'bicarbonate', 'bichamel', 'bicolored', 'biere', 'big', 'biga', 'bigelow', 'bigerades', 'bigeye', 'bigger', 'biggest', 'bijol', 'bilbao', 'bile', 'bill', 'billie', 'billion', 'biloba', 'biltmore', 'bin', 'bind', 'binding', 'bing', 'bins', 'bintjes', 'birch', 'bird', 'birds', 'birthday', 'biryani', 'biscayne', 'biscoff', 'biscos', 'biscotatto', 'biscott', 'biscotti', 'biscottiepi', 'biscuit', 'biscuits', 'bishop', 'biskra', 'bison', 'bisque', 'bisquettes', 'bisquick', 'bistro', 'bit', 'bite', 'bites', 'bitesize', 'bitesized', 'bits', 'bitter', 'bittering', 'bittermens', 'bitterness', 'bitters', 'bittersweet', 'biznaga', 'bière', 'blaak', 'blacan', 'black', 'blackberries', 'blackberry', 'blackcurrant', 'blackened', 'blackening', 'blackeye', 'blackeyed', 'blackfish', 'blackforest', 'blackpepper', 'blacks', 'blackseedless', 'blackstrap', 'blackwell', 'blade', 'bladed', 'blades', 'blair', 'blanc', 'blanca', 'blancas', 'blanch', 'blanche', 'blanched', 'blanching', 'blanco', 'blancs', 'blandy', 'blank', 'blankets', 'blanton', 'blast', 'blaukraut', 'bleach', 'bleached', 'blemish', 'blemishes', 'blend', 'blended', 'blender', 'blending', 'blends', 'bleu', 'bleuet', 'blind', 'blini', 'blinis', 'blintzes', 'blis', 'bliss', 'blistered', 'blitzed', 'block', 'blocks', 'blond', 'blonde', 'blondies', 'blood', 'bloodline', 'bloodlines', 'bloody', 'bloomed', 'blooming', 'blooms', 'blossom', 'blossoms', 'blotted', 'blow', 'blowfish', 'blown', 'blowtorch', 'blt', 'blue', 'blueberries', 'blueberry', 'bluecoat', 'bluefin', 'bluefini', 'bluefish', 'bluegill', 'bluepoint', 'bluepoints', 'blues', 'bluffton', 'bo', 'boal', 'boar', 'board', 'boards', 'boars', 'boat', 'boats', 'boatswain', 'bob', 'bobby', 'bobbyflay', 'boboli', 'bobolis', 'bobsredmill', 'bobwhite', 'boca', 'boccacini', 'boccalone', 'boccancini', 'boccincini', 'boccocini', 'bocconcini', 'bock', 'bockwurst', 'boconccini', 'bodied', 'bodies', 'body', 'bodysacs', 'bog', 'boi', 'boil', 'boiled', 'boiler', 'boiling', 'boiron', 'bois', 'boisserie', 'boite', 'bok', 'bokchoy', 'bolar', 'bold', 'bolder', 'boletes', 'boleti', 'boletus', 'bolillo', 'bolillos', 'bolo', 'bologna', 'bolognese', 'bols', 'bolt', 'bolted', 'bomba', 'bombay', 'bombe', 'bomboloni', 'bon', 'bonajuto', 'bonal', 'bonbon', 'bonbons', 'bonded', 'bone', 'boned', 'boneless', 'bones', 'boneyard', 'bongo', 'boniato', 'boniatos', 'boning', 'bonito', 'bonne', 'bonnet', 'bonnets', 'bonny', 'boo', 'boodles', 'book', 'bookbinder', 'boolgogi', 'boost', 'boosters', 'boosting', 'booze', 'boquerones', 'boquerónes', 'borage', 'bordeaux', 'bordelaise', 'borden', 'border', 'borlotti', 'borlotto', 'borowik', 'borscht', 'bosc', 'bosch', 'boschetto', 'bosco', 'boscoli', 'boskop', 'boston', 'botan', 'bother', 'botija', 'botstle', 'bott', 'bottarga', 'bottle', 'bottled', 'bottlegin', 'bottleneck', 'bottles', 'bottom', 'bottomed', 'bottoms', 'bou', 'bouche', 'boucheron', 'bouchon', 'bouchu', 'boudin', 'boudoirs', 'bougainvillea', 'boughs', 'bought', 'bouillabaisse', 'bouillion', 'bouillon', 'boulder', 'boule', 'boules', 'boulevard', 'boullion', 'boulot', 'bound', 'bountiful', 'bouqet', 'bouquet', 'bouquetgarni', 'bouquetiere', 'bouquets', 'bourbon', 'bourgogne', 'bourguignon', 'boursault', 'boursin', 'bouvet', 'bovril', 'bow', 'bowfin', 'bowl', 'bowled', 'bowling', 'bowls', 'bowmore', 'bowtie', 'bowties', 'box', 'boxdevil', 'boxed', 'boxes', 'boy', 'boyajian', 'boyardee', 'boys', 'boysenberries', 'boysenberry', 'brabant', 'bracelets', 'brach', 'brachetto', 'brachman', 'braciola', 'braciole', 'bracken', 'brad', 'bradley', 'braeburn', 'braeburns', 'braesola', 'bragg', 'braggs', 'braid', 'braided', 'braids', 'brain', 'brains', 'braise', 'braised', 'braiser', 'braises', 'braising', 'bramble', 'bramley', 'bran', 'branca', 'branch', 'branches', 'brand', 'brandade', 'branded', 'brandied', 'brandies', 'brands', 'brandy', 'brandywine', 'branston', 'branzini', 'branzino', 'brasato', 'brat', 'brats', 'bratwurst', 'bratwursts', 'braunschweiger', 'brave', 'bravo', 'brawny', 'brazil', 'brazilian', 'brea', 'bread', 'breadcrumb', 'breadcrumbs', 'breadcumbs', 'breaded', 'breader', 'breadfruit', 'breading', 'breads', 'breadstick', 'breadsticks', 'break', 'breakage', 'breakfast', 'breaking', 'breaks', 'breakstone', 'breakstones', 'bream', 'breams', 'breast', 'breastbone', 'breasts', 'breathing', 'brebis', 'bredie', 'breeze', 'bresaola', 'bresola', 'breton', 'bretons', 'bretzel', 'brew', 'brewed', 'brewer', 'brewers', 'brewery', 'brewing', 'breyers', 'briana', 'briannas', 'bric', 'brick', 'brickle', 'bricks', 'bridge', 'bridgeford', 'bridgford', 'brie', 'briefly', 'brien', 'bright', 'brighten', 'brightly', 'brik', 'brillat', 'brillet', 'brilliant', 'brin', 'brinata', 'brine', 'brinecured', 'brined', 'bring', 'brining', 'brinjal', 'briny', 'brioche', 'brioches', 'briquets', 'briquettes', 'brisee', 'brisket', 'briskets', 'brisling', 'bristle', 'bristol', 'brisée', 'british', 'brittany', 'brittle', 'brizard', 'bro', 'broad', 'broadbent', 'broccoflower', 'broccoli', 'broccolini', 'broccollini', 'broiche', 'broil', 'broiled', 'broiler', 'broiling', 'broke', 'broken', 'bromated', 'broncbuster', 'brone', 'bronze', 'bronzing', 'bronzino', 'brook', 'brooklyn', 'brooks', 'broom', 'brot', 'broth', 'brother', 'brothers', 'broths', 'brought', 'brown', 'browned', 'brownie', 'brownies', 'browning', 'browns', 'brownulated', 'bruce', 'bruder', 'bruise', 'bruised', 'brujo', 'brulee', 'bruleed', 'bruleeing', 'brun', 'brune', 'brunet', 'bruniose', 'bruno', 'brunois', 'brunoise', 'brunoised', 'bruschetta', 'brush', 'brushed', 'brushes', 'brushing', 'brussel', 'brussels', 'brussles', 'brut', 'brute', 'bruxelles', 'bryant', 'brûlée', 'bual', 'bubba', 'bubbies', 'bubble', 'bubblegum', 'bubbling', 'bubbly', 'bucare', 'bucatini', 'bucatoni', 'buccatini', 'bucco', 'buch', 'buchanan', 'bucheron', 'buchu', 'buck', 'buckets', 'bucking', 'buckle', 'buckler', 'buckwheat', 'buco', 'bud', 'buddha', 'buddies', 'buddig', 'budget', 'buds', 'budweiser', 'buena', 'buerre', 'bufala', 'bufalo', 'buff', 'buffalo', 'buffalotrace', 'buffel', 'buffered', 'bufula', 'bug', 'buganvilia', 'bugles', 'bugs', 'build', 'buitoni', 'bulb', 'bulbs', 'bulgar', 'bulgarian', 'bulghur', 'bulgogi', 'bulgur', 'bulk', 'bull', 'bulleit', 'bullion', 'bullseye', 'bullwhip', 'bullying', 'bumble', 'bump', 'bumpy', 'bun', 'bunch', 'bunched', 'bunches', 'bunchs', 'bundle', 'bundled', 'bundles', 'bundnerfleisch', 'bundt', 'buniato', 'bunnies', 'bunnonstick', 'bunny', 'buns', 'bunuelo', 'buon', 'buonitalia', 'bupound', 'bupounds', 'buratta', 'burbank', 'burbot', 'burdock', 'burg', 'burgel', 'burger', 'burgers', 'burgundian', 'burgundies', 'burgundy', 'burlap', 'burman', 'burmese', 'burn', 'burned', 'burner', 'burners', 'burnet', 'burnett', 'burning', 'burnt', 'burp', 'burrata', 'burratta', 'burrell', 'burricotti', 'burrito', 'burritos', 'buschs', 'bush', 'bushel', 'bushels', 'bushi', 'bushmills', 'bustelo', 'buster', 'butane', 'butch', 'butcher', 'butchered', 'butchers', 'buter', 'butler', 'butt', 'butte', 'butter', 'butterball', 'butterbean', 'butterbeans', 'buttercake', 'buttercream', 'buttercreams', 'buttercrunch', 'buttercup', 'buttered', 'butterfinger', 'butterfingers', 'butterfish', 'butterflied', 'butterflies', 'butterfly', 'butterflyed', 'butterground', 'butterhead', 'buttering', 'butterkase', 'butterkäse', 'buttermik', 'buttermilk', 'butternut', 'butternuts', 'butters', 'butterscotch', 'buttershots', 'butterworth', 'buttery', 'button', 'buttons', 'butts', 'buxton', 'buy', 'buying', 'bv', 'bypass', 'byrd', 'byron', 'byrrh', 'bâtarde', 'bâtards', 'bärenjäger', 'béarnaise', 'béchamel', 'bénédictine', 'bûcheron', 'ca', 'cabbage', 'cabbages', 'cabello', 'cabernet', 'cabin', 'cabo', 'cabot', 'cabra', 'cabrales', 'cacacha', 'cacao', 'cacciata', 'cacciatore', 'cacciocavallo', 'cacereña', 'cachaca', 'cachaza', 'cachaça', 'cachere', 'cacho', 'cachucha', 'cacik', 'cacio', 'caciocavallo', 'caciotta', 'cacique', 'caciqus', 'cacoa', 'cactus', 'cadbury', 'caesar', 'cafe', 'cafedumonde', 'caffe', 'caffeinated', 'caffeine', 'caffè', 'café', 'cage', 'cages', 'cai', 'caja', 'cajeta', 'cajon', 'cajun', 'cajungrocer', 'cake', 'cakes', 'cakey', 'caking', 'cal', 'calabacitas', 'calabash', 'calabasitas', 'calabaza', 'calabazas', 'calabrese', 'calabria', 'calabrian', 'calabro', 'calamansi', 'calamari', 'calamata', 'calamyra', 'calaspara', 'calasparra', 'calcium', 'calcots', 'calendula', 'calf', 'calgary', 'caliente', 'california', 'californian', 'calimyra', 'calimyrna', 'call', 'callaloo', 'calle', 'callebaut', 'callebaux', 'called', 'callender', 'callets', 'callies', 'calling', 'callipo', 'calls', 'calmata', 'calmyrna', 'calorie', 'calories', 'calrose', 'calumet', 'calvados', 'calves', 'calymyra', 'calypso', 'calyxes', 'calzone', 'calzones', 'camargue', 'cambazola', 'cambazzola', 'cambodian', 'cambozola', 'camellia', 'camembert', 'cameo', 'camomile', 'campagne', 'campagnelle', 'campanelle', 'campania', 'campari', 'campbell', 'campbells', 'camper', 'campfire', 'camphor', 'campo', 'camus', 'cana', 'canada', 'canadian', 'canal', 'canard', 'canaroli', 'canary', 'canasta', 'canchita', 'candied', 'candies', 'candiquick', 'candiquik', 'candle', 'candlenut', 'candlenuts', 'candles', 'candy', 'candyquik', 'cane', 'canela', 'canella', 'canelli', 'canellini', 'canellinni', 'canes', 'canestriped', 'canilla', 'canister', 'canisters', 'cannabis', 'canned', 'cannelini', 'cannellili', 'cannellini', 'cannelloni', 'canneloni', 'canner', 'canning', 'cannoli', 'cannolicchi', 'cannonau', 'cannot', 'canoes', 'canoga', 'canola', 'cans', 'cantal', 'cantaloupe', 'cantaloupes', 'cantare', 'canteloupe', 'canton', 'cantonese', 'cantuccini', 'canvas', 'canyon', 'caol', 'cap', 'capacity', 'capacola', 'cape', 'capel', 'capelin', 'capelletti', 'capelli', 'capellini', 'caper', 'caperberries', 'capers', 'capfuls', 'capicola', 'capicolla', 'capital', 'capocollo', 'capocolo', 'capon', 'caponata', 'capons', 'capote', 'cappacola', 'capped', 'cappelletti', 'cappellini', 'cappicola', 'cappicolla', 'cappocola', 'cappuccino', 'caprese', 'capriccio', 'capricious', 'capriole', 'caps', 'capsican', 'capsicum', 'capsicums', 'capsule', 'capsules', 'captain', 'capuccino', 'caputo', 'cara', 'carabineros', 'caracao', 'caracque', 'caraebe', 'carafa', 'caraibe', 'caraje', 'carambola', 'carambolas', 'caramel', 'caramelize', 'caramelized', 'caramelizing', 'caramels', 'carapace', 'carapelli', 'carat', 'caravan', 'caravella', 'caravelle', 'caraway', 'carb', 'carbohydrate', 'carbohydrates', 'carbon', 'carbonara', 'carbonate', 'carbonated', 'carbonation', 'carboy', 'carbquik', 'carbs', 'carcass', 'carcasse', 'carcasses', 'card', 'cardamom', 'cardamoms', 'cardamon', 'cardboard', 'cardomoms', 'cardomon', 'cardoons', 'cards', 'care', 'careful', 'carefully', 'cargamanto', 'cargo', 'caribbean', 'caribe', 'caribou', 'carl', 'carlini', 'carlo', 'carlsbad', 'carmelized', 'carmels', 'carmody', 'carnaroli', 'carnation', 'carnations', 'carne', 'carnitas', 'carnival', 'carob', 'carolans', 'carolina', 'carom', 'carp', 'carpaccio', 'carpano', 'carpenter', 'carpet', 'carr', 'carrageen', 'carrageenan', 'carriage', 'carries', 'carroll', 'carrot', 'carrots', 'carrott', 'carry', 'carta', 'cartilage', 'cartilege', 'carton', 'cartons', 'carved', 'carving', 'casa', 'casaba', 'casamigos', 'casar', 'casarecce', 'casbah', 'cascabel', 'cascabele', 'cascable', 'cascade', 'cascadian', 'case', 'casera', 'caserecci', 'cases', 'casey', 'cashew', 'cashews', 'casing', 'casings', 'cask', 'cassarecce', 'cassarecci', 'cassata', 'cassava', 'cassavas', 'casse', 'casserole', 'casseroles', 'cassia', 'cassis', 'cast', 'castelfranco', 'castellane', 'castelluccio', 'castelmagno', 'castelrosso', 'castelvetrano', 'caster', 'castings', 'castor', 'cat', 'catalan', 'catalina', 'catalogue', 'catamount', 'catch', 'catching', 'catelli', 'caterpillar', 'catfish', 'catskill', 'catsup', 'cattleman', 'cattlemen', 'cauda', 'caught', 'caul', 'cauldron', 'cauliflower', 'cause', 'caution', 'cava', 'cavaillon', 'cavair', 'cavalle', 'cavallion', 'cavatapi', 'cavatappi', 'cavatelli', 'cave', 'cavender', 'cavetelle', 'caviar', 'cavities', 'cavity', 'cavolo', 'cayenne', 'cayennes', 'cayennne', 'cazuela', 'cb', 'cc', 'ccconsp', 'ccmi', 'ccq', 'cd', 'cebollas', 'cecchi', 'cecco', 'ceci', 'cedar', 'cel', 'celebrant', 'celebration', 'celeery', 'celeriac', 'celeriacs', 'celery', 'celeryseeds', 'celestial', 'cellantani', 'cellars', 'cellentani', 'cello', 'cellophane', 'celtic', 'cemita', 'cent', 'centenario', 'centennial', 'center', 'centercut', 'centerpiece', 'centers', 'centimeter', 'centimeters', 'cento', 'central', 'centre', 'century', 'cep', 'cepes', 'ceramic', 'cereal', 'cereals', 'ceres', 'cerignola', 'ceringola', 'cermanic', 'certain', 'certifed', 'certified', 'certo', 'cervantes', 'cerveza', 'ces', 'cetara', 'cevender', 'ceviche', 'ceylon', 'cfu', 'cha', 'chaa', 'chaat', 'chabis', 'chablis', 'chabrin', 'chachere', 'chai', 'chain', 'challa', 'challah', 'challenge', 'chalupas', 'cham', 'chambord', 'chambourcin', 'chambourd', 'chamomile', 'champagne', 'champignon', 'champignons', 'championship', 'chana', 'chanco', 'chandon', 'chang', 'changbai', 'change', 'changed', 'changes', 'changing', 'channa', 'channel', 'chantaboon', 'chanterelle', 'chanterelles', 'chantilly', 'chaokoh', 'chapati', 'chapatis', 'chapatti', 'chappati', 'chaps', 'chapssal', 'char', 'charantes', 'charbay', 'charcoal', 'charcoals', 'charcuterie', 'chard', 'chardonnay', 'charentais', 'charentes', 'charge', 'charged', 'chargers', 'charleston', 'charlotte', 'charmoula', 'charms', 'charolais', 'charra', 'charred', 'charro', 'chartreuse', 'chat', 'chateau', 'chateaubriand', 'chateaubriands', 'chatham', 'chaurice', 'chavignol', 'chavrie', 'chayote', 'chayotes', 'cheap', 'cheaper', 'check', 'checked', 'checking', 'checks', 'cheddar', 'cheddarwurst', 'chee', 'cheek', 'cheeks', 'cheerios', 'cheery', 'cheese', 'cheesecake', 'cheesecloth', 'cheesee', 'cheesemaking', 'cheeses', 'cheesesoft', 'cheesier', 'cheesy', 'cheetos', 'cheez', 'chef', 'chefmaster', 'chefs', 'chefshop', 'chenel', 'chenin', 'cheo', 'cheong', 'cherie', 'cherimoya', 'chermoula', 'cherokee', 'cherries', 'cherry', 'cherrystone', 'cherrywood', 'cherub', 'chervil', 'cheryl', 'chesapeake', 'cheshire', 'chess', 'chessman', 'chessmen', 'chest', 'chester', 'chestnut', 'chestnuts', 'cheung', 'chevon', 'chevre', 'chevril', 'chevrion', 'chevrot', 'chewable', 'chewier', 'chewing', 'chews', 'chewy', 'chex', 'cheyenne', 'chi', 'chia', 'chianti', 'chicago', 'chicharones', 'chicharron', 'chicharrones', 'chicharrón', 'chicharrónes', 'chichicapa', 'chick', 'chicken', 'chickenor', 'chickens', 'chickpea', 'chickpeas', 'chicks', 'chickweed', 'chiclets', 'chico', 'chicories', 'chicory', 'chicos', 'chien', 'chiew', 'chiffinade', 'chiffon', 'chiffonad', 'chiffonade', 'chiffonaded', 'chiffonnade', 'chifonnade', 'chihuahua', 'chihuahuah', 'chihuaua', 'chihuhua', 'chik', 'chilaca', 'chilcostles', 'childhood', 'children', 'chile', 'chilean', 'chiles', 'chiletepin', 'chilhuacle', 'chilhuacles', 'chili', 'chilie', 'chilies', 'chilies_packed', 'chilis', 'chill', 'chilled', 'chilledchinese', 'chilles', 'chilli', 'chillies', 'chilling', 'chillis', 'chilpotles', 'chiltepin', 'chimay', 'chimayo', 'chimichangas', 'chimichurri', 'chimichuurri', 'chimney', 'china', 'chinaco', 'chinato', 'chinatown', 'chincoteague', 'chine', 'chined', 'chinese', 'ching', 'chinkiang', 'chinks', 'chinned', 'chino', 'chinois', 'chinook', 'chinos', 'chinquoteague', 'chiogga', 'chioggia', 'chip', 'chipits', 'chiplote', 'chiplotes', 'chipolata', 'chipolte', 'chipoltes', 'chipoltle', 'chipotle', 'chipotles', 'chipped', 'chips', 'chiquita', 'chitarra', 'chitterlings', 'chive', 'chives', 'chlies', 'chloe', 'chlorella', 'chloride', 'chlorinated', 'chobani', 'choc', 'chocho', 'choclo', 'chocoholics', 'chocolat', 'chocolate', 'chocolates', 'chocolatey', 'chocolatier', 'chocolaty', 'choi', 'choice', 'choices', 'choke', 'chokecherry', 'chokes', 'choko', 'cholent', 'cholesterol', 'cholula', 'chong', 'choose', 'choosing', 'chop', 'chopmeat', 'choppe', 'chopped', 'choppedcan', 'chopping', 'choppped', 'chops', 'chopstick', 'chopsticks', 'chord', 'choricero', 'chorico', 'chorize', 'chorizo', 'chorizos', 'choron', 'chou', 'choucroute', 'chourico', 'chouriho', 'chouriço', 'choux', 'chow', 'chowchow', 'chowder', 'choy', 'choya', 'chris', 'christening', 'christian', 'christina', 'christmas', 'christophene', 'christophenes', 'christopher', 'christophine', 'chrysanthemum', 'chu', 'chua', 'chub', 'chubby', 'chubritsa', 'chubs', 'chuck', 'chucks', 'chuka', 'chukkar', 'chulpe', 'chum', 'chun', 'chunk', 'chunked', 'chunks', 'chunky', 'churned', 'churrasco', 'churrascos', 'churrera', 'churro', 'churros', 'chutney', 'chutneys', 'chèvre', 'ciabatta', 'ciabbata', 'ciao', 'cicely', 'ciclón', 'cider', 'cigar', 'cigarette', 'cigarettes', 'cigarillos', 'cigars', 'cilanto', 'cilantro', 'ciliegine', 'ciliegini', 'ciliengine', 'cima', 'cin', 'cinammon', 'cinamon', 'cinch', 'cincinnati', 'cinco', 'cinderella', 'cindy', 'cinghiale', 'cinnamo', 'cinnamon', 'cinzano', 'cioccolato', 'cioppino', 'cipolini', 'cipolinni', 'cipolline', 'cipollini', 'cipollinis', 'cippoline', 'cippolini', 'cippolline', 'cipriani', 'circle', 'circles', 'circo', 'circular', 'circus', 'ciroc', 'cistanche', 'cit', 'citarella', 'citrate', 'citric', 'citroen', 'citron', 'citronette', 'citrus', 'citruses', 'citrusy', 'citterio', 'city', 'ck', 'cl', 'clabber', 'clabbered', 'clam', 'clamato', 'clams', 'clamshell', 'clancy', 'clara', 'claret', 'clarified', 'clarifying', 'clarita', 'clark', 'clasen', 'clasico', 'classic', 'classicmac', 'classico', 'classics', 'claussen', 'claw', 'claws', 'clay', 'clayton', 'clean', 'cleaned', 'cleaners', 'cleaning', 'cleanly', 'clear', 'clearcreekdistillery', 'clearjel', 'cleaver', 'clement', 'clementine', 'clementines', 'clerk', 'clever', 'click', 'cling', 'clinging', 'clings', 'clingstone', 'clip', 'clipped', 'clips', 'clizuel', 'cloaks', 'clod', 'close', 'closed', 'closer', 'cloth', 'clothbound', 'cloths', 'clotted', 'cloud', 'cloudberry', 'clouds', 'cloudy', 'clove', 'cloved', 'clover', 'cloverleaf', 'cloves', 'clovis', 'club', 'cluizel', 'clumps', 'cluster', 'clusters', 'clásico', 'clément', 'cm', 'co', 'coach', 'coal', 'coalho', 'coals', 'coaps', 'coarse', 'coarsely', 'coarsemesh', 'coarser', 'coarsley', 'coarsly', 'coast', 'coastal', 'coastline', 'coat', 'coated', 'coating', 'coatings', 'coax', 'cob', 'cobb', 'cobbler', 'cobblestone', 'cobia', 'cobs', 'coca', 'cocchi', 'cochon', 'cochons', 'cocina', 'cock', 'cockatiels', 'cockels', 'cockles', 'cocktail', 'cocktails', 'coco', 'cocoa', 'coconut', 'coconutmilk', 'coconuts', 'cocotte', 'cocowhip', 'cocozelle', 'cod', 'coddled', 'coddler', 'code', 'codfish', 'coeur', 'coffee', 'coffeecake', 'cog', 'cognac', 'coho', 'coiled', 'coils', 'coin', 'coined', 'coins', 'cointreau', 'cointreu', 'cojita', 'cojito', 'coke', 'cola', 'colaciones', 'colada', 'colander', 'colatura', 'colavita', 'colbert', 'colby', 'colcannon', 'cold', 'coldbrew', 'colder', 'coldheavy', 'cole', 'coleman', 'coleslaw', 'collagen', 'collapsed', 'collapsible', 'collapsing', 'collar', 'collard', 'collards', 'collars', 'collect', 'collection', 'collections', 'college', 'collins', 'colman', 'colmans', 'colomba', 'colombian', 'colombiano', 'colonata', 'colonnata', 'color', 'colorado', 'colored', 'colorful', 'coloring', 'colorings', 'colorless', 'colors', 'colossal', 'colour', 'colouring', 'colours', 'columbia', 'columbian', 'com', 'comal', 'comb', 'combination', 'combinations', 'combinbation', 'combine', 'combined', 'combining', 'combo', 'come', 'comeback', 'comercially', 'comes', 'comfort', 'comfortable', 'comice', 'comino', 'commercial', 'commercially', 'common', 'commonly', 'como', 'compact', 'company', 'comparable', 'compari', 'compartment', 'compass', 'competition', 'complement', 'complements', 'completa', 'complete', 'completely', 'complex', 'complexity', 'compliment', 'component', 'components', 'composed', 'compote', 'compound', 'compounds', 'compressed', 'comstock', 'comte', 'comté', 'con', 'conagra', 'concasse', 'concassed', 'concassee', 'concentrate', 'concentrated', 'concepción', 'concern', 'conch', 'conchiglie', 'conchiglioni', 'concord', 'condensed', 'condiment', 'condiments', 'cone', 'conecuh', 'cones', 'coney', 'confection', 'confectionary', 'confectioner', 'confectioners', 'confectionery', 'confetti', 'confit', 'confused', 'conical', 'conjunction', 'conmemorativo', 'connected', 'connecting', 'connective', 'connects', 'connie', 'conserve', 'consider', 'considered', 'consistency', 'consisting', 'consomme', 'consommé', 'constructed', 'construction', 'consult', 'consume', 'consumed', 'consumme', 'contact', 'contadina', 'contain', 'container', 'containers', 'containing', 'contains', 'containters', 'content', 'contents', 'continue', 'continuous', 'contreau', 'conventional', 'conversation', 'converted', 'cook', 'cooke', 'cooked', 'cookedbutterflied', 'cooker', 'cookers', 'cookie', 'cookies', 'cookiesepi', 'cooking', 'cooks', 'cookware', 'cool', 'coole', 'cooled', 'cooler', 'cooling', 'coooked', 'cooper', 'coors', 'copacola', 'cope', 'copicolla', 'coppa', 'coppacola', 'copper', 'copyright', 'coquito', 'coral', 'corano', 'corazon', 'corazón', 'corbina', 'cord', 'corded', 'cordial', 'cording', 'cordon', 'cordycep', 'core', 'cored', 'corer', 'cores', 'coriander', 'corinthian', 'cork', 'corks', 'corkscrew', 'corkscrews', 'corky', 'corm', 'corn', 'cornbread', 'corncob', 'corncobs', 'corned', 'corner', 'corners', 'cornet', 'cornets', 'cornflake', 'cornflakes', 'cornflour', 'cornhusks', 'cornichon', 'cornichons', 'cornish', 'cornishon', 'cornishons', 'cornmeal', 'cornnuts', 'corns', 'cornstarch', 'cornstick', 'cornuts', 'corny', 'corona', 'coronita', 'correct', 'corrugated', 'cortado', 'cortland', 'corvina', 'cos', 'cosmo', 'cosmopolitan', 'cost', 'costa', 'costco', 'costena', 'costeno', 'costenos', 'costeño', 'costoluto', 'cote', 'cotechino', 'cotes', 'cotija', 'cotixa', 'cotswold', 'cotta', 'cottage', 'cottas', 'cotto', 'cotton', 'cottonseed', 'coucous', 'could', 'coulis', 'counces', 'count', 'counter', 'counters', 'countertop', 'country', 'countryside', 'countrystyle', 'county', 'coup', 'coupe', 'couple', 'couplers', 'courgette', 'courgettes', 'course', 'coursely', 'court', 'courtesy', 'courtland', 'courvoisier', 'cous', 'couscous', 'couscousiere', 'couscoussière', 'couverture', 'cove', 'cover', 'covered', 'covering', 'covers', 'coverture', 'coves', 'cow', 'cowboy', 'cowboys', 'cowgirl', 'cowpeas', 'cows', 'cox', 'coyote', 'cr', 'crab', 'crabapple', 'crabapples', 'crabcake', 'crabmeat', 'crabs', 'crabsticks', 'crack', 'cracked', 'cracker', 'crackers', 'cracking', 'crackle', 'crackled', 'cracklin', 'cracklings', 'cracklins', 'cracks', 'craft', 'crafts', 'craftsetc', 'craig', 'craisins', 'cran', 'cranberries', 'cranberry', 'cranked', 'cranks', 'crate', 'crave', 'crawfish', 'crawler', 'crayfish', 'crazy', 'cream', 'creamaccompaniment', 'creame', 'creamed', 'creamer', 'creamery', 'creaminess', 'creamless', 'creamy', 'create', 'creating', 'creations', 'creative', 'creature', 'creatures', 'credit', 'creek', 'creepy', 'crem', 'crema', 'creme', 'cremes', 'cremim', 'cremini', 'creminis', 'cremino', 'cremodan', 'crenshaw', 'crenshaws', 'creole', 'crepe', 'crepes', 'crescent', 'crescents', 'crescenza', 'cresenza', 'cress', 'crest', 'creste', 'cretan', 'cricket', 'cried', 'crimini', 'criminis', 'crimni', 'crimped', 'crimson', 'crinkle', 'crinkles', 'crinkly', 'criolla', 'criollas', 'criollo', 'crisco', 'crisp', 'crispbread', 'crispcooked', 'crispearls', 'crisped', 'crisper', 'crispies', 'crispin', 'crisping', 'crispix', 'crispleaves', 'crisply', 'crispness', 'crisps', 'crispy', 'criss', 'crisscross', 'crisscrossed', 'cristianos', 'critter', 'crme', 'croaker', 'crock', 'crocker', 'crocks', 'croissant', 'croissants', 'croix', 'crooked', 'crookneck', 'croque', 'croquembouche', 'croquettes', 'cros', 'crosnes', 'cross', 'crosscut', 'crosse', 'crosses', 'crosshatch', 'crosshatches', 'crossways', 'crosswire', 'crosswise', 'crostata', 'crostini', 'crostone', 'crottins', 'croustades', 'croutes', 'crouton', 'croutons', 'crowd', 'crowder', 'crown', 'crowns', 'crucolo', 'cruda', 'crudite', 'crudites', 'crudité', 'crudités', 'cruise', 'crullers', 'crumb', 'crumbed', 'crumble', 'crumbled', 'crumbledcorn', 'crumbles', 'crumbling', 'crumbly', 'crumbs', 'crumpet', 'crumpets', 'crunch', 'crunched', 'crunchies', 'crunchiness', 'crunchy', 'crush', 'crushed', 'crushedtomatoes', 'crushing', 'crust', 'crustaceans', 'crusted', 'crustier', 'crusting', 'crustless', 'crusts', 'crusty', 'crutini', 'cruz', 'cruzan', 'cryovac', 'crystal', 'crystalized', 'crystalline', 'crystallized', 'crystallizing', 'crystals', 'crème', 'crème_dishes', 'créme', 'créole', 'crêpe', 'crêpes', 'csabai', 'ct', 'cu', 'cuaraco', 'cuarenta', 'cuban', 'cubanella', 'cubanelle', 'cubanelles', 'cubanero', 'cubano', 'cube', 'cubeb', 'cubebs', 'cubed', 'cubes', 'cubic', 'cubitos', 'cucumber', 'cucumbers', 'cuervo', 'cuisine', 'cuke', 'cukes', 'culantro', 'culhane', 'culinary', 'culinarydistrict', 'culinarygrade', 'cull', 'culls', 'cultivated', 'culture', 'cultured', 'cultures', 'cumberland', 'cumberlands', 'cumin', 'cuminseed', 'cup', 'cupagar', 'cuparugula', 'cupboard', 'cupc', 'cupcake', 'cupcakes', 'cupcassis', 'cupchapati', 'cupchicken', 'cupcup', 'cupdill', 'cupful', 'cupgingered', 'cupgrated', 'cuphazelnuts', 'cupoil', 'cupoloroso', 'cuppesto', 'cuppine', 'cupplus', 'cupquinoa', 'cups', 'cupsall', 'cupsautéed', 'cupschicken', 'cupsespagnole', 'cupsfresh', 'cupsgiblet', 'cupshachiya', 'cupsherb', 'cupsimple', 'cupslaxmi', 'cupslow', 'cupsmexican', 'cupspanko', 'cupspeanut', 'cupspickling', 'cupsrich', 'cupstomato', 'cupsturkey', 'cupswinter', 'cupunsalted', 'cupunsweetened', 'cupwhole', 'cura', 'curacao', 'curaco', 'curahao', 'curaçao', 'curd', 'curds', 'cure', 'cured', 'curing', 'curl', 'curled', 'curling', 'curls', 'curly', 'curlyleafed', 'currant', 'currants', 'current', 'currently', 'curried', 'curry', 'curtains', 'curtido', 'curtis', 'curve', 'curved', 'cushaw', 'cushion', 'cusp', 'custard', 'cut', 'cute', 'cuties', 'cutinto', 'cutlet', 'cutlets', 'cutouts', 'cuts', 'cutter', 'cutters', 'cutting', 'cuttings', 'cuttle', 'cuttlefish', 'cuz', 'cylinder', 'cylinders', 'cylindrical', 'cynar', 'cypress', 'czar', 'cèpe', 'cèpes', 'cîroc', 'côte', 'côtes', 'da', 'daal', 'dab', 'dabob', 'dacquoise', 'dad', 'daddy', 'daechu', 'daffodil', 'dahl', 'dai', 'daikon', 'daiquiri', 'dairy', 'daisies', 'daisy', 'daiya', 'dake', 'dakos', 'dakota', 'dakotana', 'dal', 'dalchini', 'dale', 'dalfour', 'dallies', 'dalmatia', 'dam', 'damaged', 'damiana', 'damn', 'damp', 'dampen', 'dampened', 'damson', 'damsons', 'dancing', 'dandelion', 'dandelions', 'dang', 'dangmyun', 'daniel', 'daniele', 'daniels', 'danish', 'dannon', 'dar', 'dariole', 'darjeeling', 'dark', 'darker', 'darkest', 'darkly', 'darne', 'darned', 'darning', 'dartagnan', 'das', 'dash', 'dasheen', 'dashes', 'dashi', 'dashida', 'dasz', 'date', 'dates', 'datil', 'dau', 'daube', 'daun', 'daurade', 'dave', 'davero', 'david', 'day', 'dayboat', 'daylily', 'dayold', 'days', 'daz', 'dazs', 'de', 'dea', 'dead', 'deal', 'dealer', 'dean', 'deandeluca', 'death', 'debeaked', 'debearded', 'debeared', 'deboned', 'deborah', 'debris', 'decadent', 'decaf', 'decaffeinated', 'decals', 'dececco', 'decedent', 'decent', 'decide', 'deciliters', 'deckle', 'decor', 'decorate', 'decorated', 'decorating', 'decoration', 'decorations', 'decorative', 'decoratively', 'decorator', 'decorators', 'decored', 'decors', 'decrusted', 'dedicated', 'deen', 'deep', 'deeper', 'deepfat', 'deepfrying', 'deeply', 'deer', 'defatted', 'defined', 'definitely', 'defrost', 'defrosted', 'defrosting', 'deg', 'degerminated', 'deglat', 'deglaze', 'deglazed', 'deglazing', 'deglet', 'degli', 'degreased', 'degree', 'degrees', 'degroff', 'degu', 'dehusked', 'dehydrated', 'dei', 'dekuyper', 'del', 'delallo', 'delaurentiis', 'deli', 'delia', 'delicacy', 'delicata', 'delicate', 'delicately', 'delicatessen', 'delicatessens', 'delicatta', 'delices', 'delicioso', 'delicious', 'delight', 'delightfulls', 'delites', 'delmarva', 'delmonico', 'delphinium', 'deluca', 'deluxe', 'delverde', 'demarara', 'demerara', 'demerera', 'demererra', 'demi', 'demiglace', 'demineralized', 'demitasse', 'den', 'dende', 'dendê', 'denerved', 'dense', 'densely', 'denta', 'dente', 'denuded', 'denver', 'department', 'departments', 'depend', 'depending', 'depends', 'deposits', 'depot', 'depth', 'derby', 'deribbed', 'des', 'desalinate', 'desalted', 'deschutes', 'descibed', 'described', 'description', 'deseeded', 'desert', 'desiccated', 'design', 'designs', 'desilked', 'desirable', 'desire', 'desired', 'desiree', 'dessert', 'desserts', 'dessertspoon', 'dessicated', 'destalked', 'destemmed', 'destoned', 'destrooper', 'destroys', 'detached', 'detailing', 'details', 'determine', 'determined', 'detox', 'devained', 'devein', 'deveined', 'deveining', 'deviant', 'deviened', 'devil', 'deviled', 'devils', 'devined', 'devon', 'devonshire', 'dew', 'dextrose', 'dha', 'dhal', 'di', 'diablo', 'diagonal', 'diagonally', 'diagonals', 'diakon', 'diameter', 'diameters', 'diamond', 'diamonds', 'diasatic', 'diastatic', 'diavlo', 'diavolo', 'dice', 'diced', 'dicedsmall', 'dicedv', 'dices', 'dicing', 'dickel', 'dickenson', 'dickensons', 'dickinson', 'die', 'diego', 'diet', 'dietz', 'difference', 'different', 'difficult', 'dig', 'digestif', 'digestive', 'digiorno', 'digital', 'dijon', 'dijonnaise', 'dijonstyle', 'dill', 'dilled', 'dillon', 'dillor', 'dillweed', 'dilly', 'dilute', 'diluted', 'dilution', 'dim', 'dime', 'dimensional', 'dimple', 'ding', 'dingle', 'dinner', 'dino', 'dinosaur', 'dip', 'diplomat', 'diplomatico', 'dipped', 'dipper', 'dippers', 'dippin', 'dipping', 'dips', 'direct', 'directed', 'directions', 'directly', 'directs', 'dirt', 'dirty', 'disagreeable', 'disaranno', 'disaronno', 'disc', 'discard', 'discarded', 'discarding', 'disclaimer', 'disco', 'discoloration', 'discolored', 'discoloring', 'discolouring', 'discos', 'discount', 'discretion', 'discs', 'dish', 'disher', 'dishes', 'dishtowels', 'dishwasher', 'disinfected', 'disjointed', 'disk', 'disks', 'disney', 'display', 'disposable', 'dissipate', 'dissolve', 'dissolved', 'dissolves', 'dissolving', 'distilled', 'distillers', 'distillery', 'distilling', 'distinctive', 'distribute', 'distributes', 'distributors', 'ditali', 'ditalini', 'ditaloni', 'ditto', 'divan', 'divded', 'diver', 'divers', 'divide', 'divided', 'divined', 'divinity', 'dixie', 'dixon', 'diy', 'djan', 'djion', 'doce', 'dock', 'docked', 'doctored', 'dodge', 'dodoni', 'doenjang', 'dofu', 'dog', 'dogfish', 'dogs', 'doily', 'dolce', 'dolcelatte', 'dole', 'dolin', 'doll', 'dollar', 'dollop', 'dolloping', 'dollops', 'dolphinfish', 'domain', 'domaine', 'dome', 'domed', 'domestic', 'dominant', 'dominic', 'dominican', 'domino', 'dominoes', 'dona', 'done', 'doneness', 'donettes', 'dong', 'donkey', 'donner', 'donnie', 'donot', 'dont', 'donut', 'donuts', 'doon', 'doone', 'door', 'dop', 'dopiaza', 'doppio', 'dorade', 'dorado', 'dorados', 'doritos', 'dorot', 'dortmunder', 'dory', 'dos', 'dot', 'dots', 'dotting', 'dou', 'doubanjiang', 'double', 'doubleline', 'doublepeeled', 'dough', 'dougha', 'doughboy', 'doughnut', 'doughnuts', 'doughs', 'douglas', 'doul', 'dounceen', 'doux', 'dove', 'dover', 'doves', 'dowel', 'dowels', 'downy', 'doz', 'doze', 'dozen', 'dozens', 'doña', 'dpdspirits', 'dr', 'draft', 'dragee', 'dragees', 'dragon', 'dragées', 'drain', 'drained', 'drainedand', 'draining', 'drake', 'dram', 'dramatic', 'dramatically', 'drambuie', 'draught', 'draw', 'drawn', 'dreaded', 'dream', 'dreamfields', 'dredge', 'dredging', 'dressed', 'dresses', 'dressing', 'dressings', 'dreyer', 'dribble', 'dried', 'drier', 'drifts', 'drink', 'drinking', 'drinks', 'drip', 'dripping', 'drippings', 'drippy', 'drips', 'driveway', 'drizzing', 'drizzle', 'drizzled', 'drizzles', 'drizzling', 'drmcdougall', 'dromedary', 'drop', 'dropperful', 'dropperfuls', 'dropping', 'drops', 'droste', 'drudging', 'drum', 'drumattached', 'drumette', 'drumettes', 'drummers', 'drummette', 'drummettes', 'drummies', 'drums', 'drumstick', 'drumsticks', 'drunken', 'dry', 'dryer', 'drying', 'dryroasted', 'drys', 'du', 'dubliner', 'dubonnet', 'duck', 'duckling', 'ducklings', 'ducks', 'duct', 'due', 'duero', 'duff', 'dufour', 'duke', 'dukkah', 'dul', 'dulce', 'dulces', 'dulche', 'dull', 'dulse', 'dum', 'dumpling', 'dumplings', 'duncan', 'dungeness', 'dungenesss', 'dungeoness', 'dunkables', 'dunkel', 'dunkers', 'dunkin', 'dunking', 'dunlop', 'dunya', 'duo', 'duoz', 'duqesne', 'durad', 'durian', 'durkee', 'durkees', 'duro', 'durum', 'dusseldorf', 'dust', 'dusted', 'duster', 'dusting', 'dutch', 'dutched', 'duty', 'duvel', 'duxelle', 'duxelles', 'dwarf', 'dye', 'dyed', 'dyeing', 'dyes', 'dylan', 'dylans', 'dynasty', 'délices', 'ea', 'eagle', 'ear', 'earl', 'earlier', 'early', 'earmuffs', 'ears', 'earth', 'earthbound', 'earthenware', 'earthgrains', 'earthy', 'earwigged', 'easier', 'easiest', 'easily', 'east', 'easter', 'eastern', 'easy', 'eat', 'eaten', 'eating', 'eats', 'eau', 'ebay', 'ebi', 'echalion', 'echinacea', 'echo', 'eckrich', 'eclair', 'ecolier', 'economic', 'economical', 'ect', 'ed', 'edam', 'edamame', 'edamames', 'eddie', 'edelman', 'edelmann', 'eden', 'edenblend', 'edenfoods', 'edge', 'edged', 'edges', 'edible', 'edibles', 'edith', 'edition', 'editor', 'editors', 'edmond', 'edmund', 'edward', 'edy', 'ee', 'eel', 'eels', 'effect', 'effective', 'effen', 'efficient', 'eg', 'egg', 'eggbeater', 'eggcups', 'eggland', 'egglant', 'eggless', 'eggnog', 'eggo', 'eggology', 'eggplant', 'eggplants', 'eggroll', 'eggs', 'eggsfinishing', 'eggshell', 'eggshells', 'eggwash', 'eggwhite', 'eggy', 'egrave', 'egyptian', 'eight', 'eighteen', 'eighth', 'eighths', 'eights', 'eiswein', 'either', 'el', 'elaborate', 'elaichi', 'elan', 'elastic', 'elberta', 'elbo', 'elbow', 'elbows', 'elderberries', 'elderberry', 'elderflower', 'elderflowers', 'eleanora', 'electric', 'elements', 'elephant', 'eleve', 'elgin', 'elijah', 'eliminate', 'elimination', 'elite', 'elixer', 'elixir', 'elizabeth', 'elk', 'ellen', 'else', 'em', 'email', 'emailing', 'embasa', 'embassa', 'embellish', 'embers', 'emerald', 'emergency', 'emergo', 'emeril', 'emillion', 'emmanthal', 'emmental', 'emmentaler', 'emmentaller', 'emmenthal', 'emmenthaler', 'emmer', 'emon', 'empanada', 'empanadas', 'empire', 'emptied', 'empty', 'emulsification', 'emulsified', 'emulsifier', 'emulsion', 'en', 'enamel', 'enameled', 'encanto', 'encases', 'enchilada', 'enchiladas', 'enchilado', 'enclose', 'enclosed', 'encona', 'encrusted', 'end', 'endive', 'endives', 'endless', 'ends', 'enebro', 'ener', 'energy', 'england', 'english', 'enhanced', 'enhancer', 'enjoy', 'enlich', 'eno', 'enoki', 'enokis', 'enough', 'enriched', 'ensalada', 'ental', 'entenmann', 'entertaining', 'entertainment', 'enthusiast', 'entilde', 'entire', 'entirely', 'entrecotes', 'entree', 'entremet', 'envelope', 'envelopes', 'environmentally', 'envy', 'eo', 'epasote', 'epazote', 'epee', 'epi', 'epices', 'epilobium', 'epis', 'episode', 'epoisse', 'equal', 'equaling', 'equally', 'equals', 'equates', 'equator', 'equatoriale', 'equatorially', 'equators', 'equimpent', 'equipment', 'equis', 'equivalent', 'equpment', 'er', 'erawan', 'erenghi', 'erengi', 'erh', 'eringi', 'eros', 'eryngii', 'erythritol', 'es', 'escabeche', 'escabèche', 'escalopes', 'escargot', 'escargots', 'escarole', 'escolar', 'escovitch', 'espagnole', 'especial', 'especially', 'espelette', 'espellette', 'esplette', 'espoons', 'espresso', 'espressos', 'espumas', 'esque', 'essa', 'essence', 'essencia', 'essensia', 'essential', 'essentials', 'essex', 'estate', 'etalon', 'etc', 'etched', 'ethiopian', 'ethmix', 'ethnic', 'ethnicgrocer', 'etorki', 'etouffee', 'etsy', 'ette', 'eureka', 'europe', 'european', 'europeanstyle', 'eva', 'evan', 'evans', 'evaporated', 'evaporates', 'eve', 'even', 'evening', 'evenly', 'eveque', 'ever', 'everclear', 'everglades', 'every', 'everyday', 'everyone', 'everything', 'evian', 'evicerated', 'eviscerated', 'evoo', 'ew', 'ex', 'exact', 'example', 'exceed', 'excellence', 'excellent', 'except', 'excerpted', 'excess', 'excessively', 'exclude', 'excluding', 'exhibit', 'exopat', 'exotic', 'exotics', 'expeller', 'expensive', 'expiration', 'explain', 'explained', 'exploding', 'explorateur', 'explorator', 'expose', 'exposing', 'express', 'expresso', 'ext', 'extact', 'exterior', 'external', 'extinct', 'extinguisher', 'extra', 'extrac', 'extract', 'extracted', 'extractor', 'extracts', 'extrafirm', 'extralarge', 'extras', 'extrasharp', 'extravirgin', 'extreme', 'extremely', 'eye', 'eyeball', 'eyeballs', 'eyed', 'eyes', 'ez', 'ezekiel', 'fabada', 'fabbri', 'fabes', 'fabric', 'fabrics', 'face', 'faceted', 'facilitate', 'facing', 'factory', 'facts', 'fage', 'fah', 'fail', 'faint', 'fair', 'fairly', 'faith', 'fajita', 'fajitas', 'falafel', 'falernum', 'fall', 'fallen', 'fallot', 'fallow', 'falls', 'famie', 'familia', 'family', 'famous', 'famouschocolate', 'fan', 'fancy', 'fanned', 'fans', 'fanta', 'fantail', 'fantasma', 'fantasy', 'far', 'farang', 'fare', 'farfalle', 'farfalline', 'farfallini', 'farfel', 'farfelle', 'farina', 'farinata', 'farinha', 'farl', 'farm', 'farmed', 'farmer', 'farmers', 'farmhouse', 'farmland', 'farms', 'farmstead', 'faro', 'farofa', 'farro', 'farron', 'farrotto', 'fashion', 'fashioned', 'fast', 'faster', 'fat', 'fatback', 'fats', 'fattened', 'fatter', 'fattier', 'fatty', 'faugier', 'faux', 'fava', 'favas', 'favored', 'favorite', 'favoriteprepared', 'favorites', 'fax', 'fe', 'feather', 'feathers', 'feathery', 'fed', 'fedelini', 'fee', 'feed', 'feel', 'feeling', 'feet', 'feisty', 'felicitas', 'felt', 'feltner', 'female', 'femur', 'fen', 'fence', 'fenix', 'fennel', 'fentimans', 'fenugreek', 'fera', 'fermentation', 'fermented', 'fermentee', 'fermentor', 'fern', 'fernet', 'ferns', 'fernshoots', 'ferrand', 'ferula', 'feshly', 'feta', 'fetta', 'fette', 'fettuccine', 'fettuccini', 'fettucine', 'fettucini', 'feuillantine', 'feuille', 'feuilletine', 'feullantine', 'fever', 'fewer', 'fiber', 'fiberous', 'fibers', 'fibrous', 'ficelle', 'ficelles', 'fiddlehead', 'fiddleheads', 'fideo', 'fideos', 'fideus', 'field', 'fieri', 'fiery', 'fiesta', 'fife', 'fifteen', 'fifth', 'fifths', 'fig', 'figlets', 'figs', 'figurine', 'filaments', 'filberts', 'file', 'filet', 'filets', 'filing', 'filipino', 'filippo', 'fill', 'filled', 'fillers', 'fillet', 'filleted', 'fillets', 'filling', 'fillings', 'fillo', 'film', 'filo', 'filter', 'filtered', 'filters', 'filé', 'fin', 'final', 'finally', 'financier', 'find', 'findit', 'fine', 'fined', 'finely', 'finelychopped', 'finelydiced', 'finelygrated', 'finelyminced', 'finemesh', 'finer', 'fines', 'finest', 'finger', 'fingered', 'fingerling', 'fingerlings', 'fingers', 'fingertips', 'fini', 'finish', 'finished', 'finishing', 'finlandia', 'finley', 'finn', 'finnan', 'finnish', 'finns', 'fino', 'finocchiona', 'finochionna', 'fins', 'fiore', 'fiorentini', 'fiori', 'fiour', 'fir', 'fire', 'fireball', 'firecracker', 'firefly', 'firehouse', 'fireplace', 'fireproof', 'fireroasted', 'fires', 'fireweed', 'firewood', 'firm', 'firmed', 'firmer', 'firmish', 'firmly', 'first', 'fiselle', 'fish', 'fishcakes', 'fisher', 'fishing', 'fishmonger', 'fishy', 'fist', 'fistful', 'fistfuls', 'fistsized', 'fit', 'fitini', 'fits', 'fitted', 'fitting', 'fitzgerald', 'five', 'fivespice', 'fix', 'fixin', 'fixing', 'fixings', 'fizz', 'fizzier', 'fizzy', 'fl', 'fla', 'flagelot', 'flageolet', 'flageolets', 'flags', 'flagship', 'flake', 'flaked', 'flakes', 'flaking', 'flaky', 'flambe', 'flambeed', 'flambeing', 'flame', 'flamed', 'flameproof', 'flames', 'flan', 'flanc', 'flanged', 'flank', 'flanken', 'flap', 'flapjacks', 'flaps', 'flared', 'flaring', 'flash', 'flask', 'flat', 'flatbread', 'flatbreads', 'flatfish', 'flatiron', 'flatleaf', 'flatout', 'flats', 'flatten', 'flattened', 'flattening', 'flatter', 'flautas', 'flavor', 'flavored', 'flavorful', 'flavoring', 'flavorings', 'flavorless', 'flavors', 'flavoured', 'flax', 'flaxseed', 'flaxseeds', 'flay', 'flea', 'fleck', 'flecked', 'fleischmann', 'fleishmann', 'flemish', 'flesh', 'fleshed', 'fleshly', 'fleshy', 'fleur', 'flex', 'flexible', 'flies', 'flint', 'flip', 'flippers', 'flipping', 'flipsides', 'float', 'floc', 'floor', 'floppy', 'flor', 'floral', 'florentine', 'florentines', 'florentyna', 'floret', 'florets', 'florettes', 'florida', 'floridian', 'florio', 'florist', 'floss', 'flot', 'flott', 'floud', 'flounder', 'flounders', 'flour', 'floured', 'flouring', 'flourless', 'flours', 'floury', 'flow', 'flower', 'flowerets', 'flowerettes', 'flowering', 'flowerlets', 'flowers', 'flowery', 'floz', 'fluff', 'fluffed', 'fluffy', 'fluid', 'fluke', 'flush', 'flushed', 'flute', 'fluted', 'flutes', 'fly', 'flying', 'fnely', 'fo', 'foam', 'foamed', 'foaming', 'foamy', 'focaccia', 'foccaccia', 'foccacia', 'fog', 'foglie', 'foie', 'foil', 'fol', 'fold', 'folded', 'folding', 'foley', 'folger', 'folgers', 'follow', 'following', 'follows', 'folows', 'fond', 'fondant', 'fonds', 'fondue', 'fonduta', 'fong', 'font', 'fontal', 'fontana', 'fontina', 'fontinella', 'food', 'foodnetwork', 'foods', 'fools', 'foot', 'football', 'footballs', 'footlong', 'footnote', 'foraged', 'forbes', 'forbidden', 'force', 'forced', 'fordhook', 'fordough', 'fords', 'fordusting', 'forefinger', 'foreleg', 'forell', 'forelle', 'forelli', 'foreshanks', 'forest', 'forester', 'forgarnish', 'forget', 'fork', 'forked', 'forks', 'form', 'formaggino', 'formed', 'forming', 'forms', 'formula', 'forravioli', 'forrest', 'forseasoning', 'forserving', 'forsprinkling', 'forte', 'fortified', 'fortifying', 'fortress', 'fortrimmed', 'fortune', 'fortunes', 'forturkey', 'forty', 'foster', 'fougasse', 'found', 'foundation', 'founders', 'fountain', 'four', 'fourme', 'fours', 'fourteen', 'fourth', 'fourths', 'fowl', 'fox', 'foxtrot', 'fra', 'frache', 'fractions', 'fraeche', 'fragmented', 'fragments', 'fragrant', 'fraiche', 'frais', 'fraise', 'fraises', 'fraiîhe', 'framboise', 'frames', 'fran', 'franc', 'france', 'francisco', 'franco', 'frangelica', 'frangelico', 'frangipane', 'frank', 'frankfurter', 'frankfurters', 'franklin', 'franks', 'franny', 'frappuccino', 'frascati', 'fraser', 'fratelli', 'fraìche', 'fraîche', 'fraîhe', 'fraïche', 'freah', 'freak', 'fred', 'free', 'freekeh', 'freerange', 'freesias', 'freestone', 'freeze', 'freezer', 'freezing', 'fregola', 'fregula', 'freia', 'freixenet', 'frekeh', 'french', 'frenched', 'frencher', 'fresca', 'fresco', 'fresh', 'freshbasil', 'freshdirect', 'freshed', 'fresher', 'freshest', 'freshlovage', 'freshly', 'freshlyground', 'freshwater', 'freshy', 'fresly', 'fresno', 'frexinet', 'fri', 'fribourgeois', 'fricassee', 'frico', 'friday', 'fridge', 'fried', 'frieda', 'friend', 'friendly', 'friendship', 'fries', 'friggiarelli', 'frijoles', 'frik', 'frika', 'frill', 'frills', 'fris', 'frisee', 'friselle', 'frisje', 'frisky', 'frissee', 'frisée', 'fritas', 'frites', 'frito', 'fritos', 'fritter', 'fritters', 'fritzi', 'friulano', 'friut', 'frizzled', 'frizzling', 'fro', 'frog', 'frogs', 'frolla', 'froma', 'fromage', 'fromager', 'frombasic', 'fromo', 'fromprime', 'frond', 'fronds', 'front', 'frontera', 'frontier', 'froot', 'frooties', 'frost', 'frosted', 'frosting', 'frostingepi', 'frostings', 'frosty', 'froth', 'frothed', 'frothiness', 'frothy', 'froz', 'frozen', 'frozenange', 'fructose', 'fruit', 'fruitcake', 'fruited', 'fruitiest', 'fruits', 'fruity', 'frutti', 'fry', 'fryer', 'fryers', 'frying', 'frymix', 'frypan', 'frères', 'frîache', 'fu', 'fucus', 'fudge', 'fudgy', 'fuerte', 'fufu', 'fugasa', 'fuggles', 'fugi', 'fuhrman', 'fuissé', 'fuji', 'fujis', 'fukunishiki', 'ful', 'full', 'fulls', 'fully', 'fuls', 'fulton', 'fulvi', 'fume', 'fumes', 'fumet', 'fumi', 'fun', 'funfetti', 'funghi', 'fungi', 'fungicides', 'fungus', 'fungusamongus', 'funked', 'funky', 'funnel', 'furikake', 'furikaki', 'furukake', 'fusili', 'fusilli', 'fusion', 'fuss', 'fussili', 'futonaga', 'future', 'fuyu', 'fuzz', 'fuzzy', 'fève', 'ga', 'gabriel', 'gabriele', 'gadgets', 'gaeta', 'gaga', 'gai', 'gal', 'gala', 'galahad', 'galanga', 'galangal', 'galani', 'galco', 'galette', 'galettes', 'galia', 'galiano', 'galletas', 'galliano', 'gallo', 'gallon', 'gallonfish', 'gallonhrimp', 'gallons', 'gamberoni', 'game', 'gammon', 'gan', 'ganache', 'gandules', 'garae', 'garage', 'garam', 'garbage', 'garbanzo', 'garbanzos', 'garbonzo', 'garde', 'gardein', 'garden', 'gardenburger', 'gardenia', 'garganelli', 'gargano', 'gari', 'garinsh', 'garland', 'garli', 'garlic', 'garlicky', 'garlicpowder', 'garlicwurst', 'garnacha', 'garnet', 'garni', 'garnier', 'garning', 'garnis', 'garnish', 'garnished', 'garnishes', 'garnishhalibut', 'garnishing', 'garnsih', 'garolic', 'garrotxa', 'garten', 'garu', 'garum', 'gas', 'gascone', 'gaspar', 'gastrique', 'gastronomie', 'gastronomy', 'gated', 'gather', 'gathered', 'gator', 'gatorade', 'gaufrette', 'gaufrettes', 'gauge', 'gaujillo', 'gavottes', 'gay', 'gayle', 'gazpacho', 'gdl', 'gear', 'gebhardt', 'geechee', 'geese', 'gefilte', 'gel', 'gelatin', 'gelatine', 'gelatinous', 'gelato', 'gelee', 'gelled', 'gels', 'gem', 'gemelli', 'gemellini', 'gems', 'general', 'generally', 'generic', 'generous', 'generously', 'genmai', 'gennaro', 'genoa', 'genoise', 'genovese', 'gentiane', 'gentle', 'gentleman', 'gently', 'gentlycleaned', 'genuine', 'genutine', 'geoduck', 'geoff', 'george', 'georgia', 'georgian', 'geound', 'gephart', 'geranium', 'geraniums', 'gerbera', 'gerhardt', 'germ', 'germain', 'germaine', 'german', 'germinated', 'germs', 'gervertztraminer', 'get', 'getting', 'gewurtztraminer', 'gewurztraminer', 'gewürztraminer', 'gf', 'gh', 'ghanoush', 'ghee', 'gherkin', 'gherkins', 'ghiradelli', 'ghirardelli', 'ghirdelli', 'ghost', 'ghosts', 'gia', 'giada', 'gianduja', 'giandujia', 'giant', 'giardella', 'giardineria', 'giardiniera', 'giblet', 'giblets', 'gibson', 'gift', 'gigante', 'gigantes', 'gigi', 'gigli', 'gigondas', 'gilded', 'gilka', 'gill', 'gilled', 'gills', 'gim', 'gimme', 'gin', 'gina', 'ginersnaps', 'gingelly', 'ginger', 'gingerade', 'gingerbread', 'gingered', 'gingeroot', 'gingerroot', 'gingersnap', 'gingersnaps', 'gingersnapz', 'gingerv', 'gingery', 'gingko', 'ginjo', 'ginkgo', 'ginko', 'ginseng', 'gioi', 'giorno', 'girard', 'girardelli', 'giri', 'girl', 'girls', 'giroles', 'girolles', 'giuliano', 'giusto', 'give', 'gives', 'giving', 'gizmos', 'gizzard', 'gizzards', 'gjetost', 'glac', 'glacage', 'glace', 'glaced', 'glaceed', 'glacer', 'glaces', 'glacé', 'glacéed', 'glacés', 'glad', 'glass', 'glasses', 'glassine', 'glassware', 'glaze', 'glazed', 'glazeepi', 'glazing', 'glen', 'glenfiddich', 'glenn', 'glitter', 'global', 'globe', 'gloopy', 'glory', 'gloss', 'glossing', 'glossy', 'gloucester', 'glove', 'gloves', 'glucose', 'glue', 'glug', 'glugs', 'glutamate', 'gluten', 'glutino', 'glutinous', 'glycerin', 'glycerine', 'gm', 'gmo', 'gnocchetti', 'gnocchi', 'gnocci', 'gnochetti', 'gnudi', 'go', 'goan', 'goat', 'goats', 'goblets', 'gobo', 'gocho', 'gochu', 'gochuchang', 'gochugaru', 'gochujang', 'goddess', 'godello', 'godiva', 'gods', 'goes', 'goggles', 'gogh', 'gohan', 'going', 'goji', 'gojuchang', 'gold', 'golden', 'goldenbells', 'goldfish', 'goldhen', 'goldings', 'goldish', 'goldleafcompany', 'golds', 'goldschlager', 'goldschlagger', 'goldschläger', 'goldust', 'golen', 'golf', 'goma', 'gomashio', 'gomatare', 'gomme', 'gone', 'gongonzola', 'gonna', 'gonsalves', 'gonzolves', 'goo', 'goobers', 'good', 'goodbar', 'goodies', 'goodman', 'goodness', 'goodquality', 'goods', 'goodwill', 'gooey', 'goop', 'goose', 'gooseberries', 'gooseberry', 'goot', 'gordon', 'goreng', 'gorgeous', 'gorgonzola', 'gosling', 'goslings', 'got', 'gouda', 'goudenband', 'gougeres', 'goulash', 'gound', 'gourd', 'gourmandise', 'gourmet', 'gown', 'goya', 'goyoza', 'grace', 'grade', 'gradually', 'graduated', 'grady', 'grafton', 'graham', 'grahams', 'grain', 'grained', 'grains', 'grainy', 'gram', 'grams', 'gran', 'grana', 'grand', 'grandma', 'grandmother', 'grands', 'granita', 'granite', 'granny', 'grano', 'granola', 'granualted', 'granular', 'granulated', 'granule', 'granules', 'grape', 'grapefruit', 'grapefruits', 'grapefuit', 'grapes', 'grapeseed', 'grapeskin', 'grapevine', 'grappa', 'gras', 'grasp', 'grass', 'grasshopper', 'grasshoppers', 'grate', 'grated', 'gratedfresh', 'gratedkosher', 'grater', 'graters', 'grates', 'gratin', 'grating', 'gratings', 'grave', 'gravenstein', 'gravenstien', 'gravity', 'gravlax', 'gravy', 'gravymaster', 'gray', 'grease', 'greased', 'greasing', 'great', 'greater', 'greatest', 'greatly', 'grechetto', 'greco', 'greece', 'greek', 'green', 'greener', 'greenery', 'greening', 'greenings', 'greenish', 'greenline', 'greens', 'greentomatoes', 'gremolada', 'gremolata', 'grenache', 'grenadine', 'gressingham', 'grey', 'gribenes', 'gribines', 'griddle', 'griddled', 'griddling', 'grigio', 'grill', 'grille', 'grilled', 'grillers', 'grillin', 'grilling', 'grillmates', 'grillotine', 'grind', 'grinded', 'grinder', 'grinders', 'grinding', 'grindings', 'grinds', 'grins', 'griottes', 'gris', 'grissini', 'gristle', 'grit', 'grits', 'gritted', 'gritty', 'groat', 'groats', 'grocer', 'groceries', 'grocers', 'grocery', 'grolsch', 'grooved', 'gros', 'grosso', 'ground', 'groundblack', 'grounded', 'groundnut', 'grounds', 'groundyellow', 'grouper', 'groups', 'grouse', 'grove', 'grow', 'grown', 'grreen', 'gruet', 'gruner', 'gruy', 'gruyere', 'gruyáre', 'gruyère', 'gruyére', 'grüner', 'gua', 'guacamole', 'guadeloupean', 'guadeloupian', 'guajillo', 'guajillos', 'guanabana', 'guanciale', 'guapo', 'guar', 'guarana', 'guard', 'guardian', 'guascas', 'guava', 'guavas', 'guedge', 'guerito', 'guero', 'guerrero', 'guess', 'guest', 'guests', 'gueze', 'guide', 'guideline', 'guidelines', 'guijilb', 'guijillo', 'guilia', 'guilin', 'guiltless', 'guindilla', 'guinea', 'guinness', 'guittard', 'gulden', 'gulf', 'gum', 'gumball', 'gumballs', 'gumbo', 'gumdrop', 'gumdrops', 'gummi', 'gummies', 'gummy', 'gums', 'gun', 'gundillas', 'gunpowder', 'guntur', 'gurih', 'gurroxta', 'guru', 'gusano', 'gushy', 'gustiamo', 'gusto', 'gut', 'guts', 'gutted', 'guy', 'guyaba', 'guys', 'guérande', 'gwa', 'gwaltney', 'gwen', 'gyoza', 'gypsum', 'gypsy', 'gyro', 'gyromitre', 'gz', 'génoise', 'gênoise', 'ha', 'haagen', 'haas', 'habana', 'habanera', 'habanero', 'habaneros', 'habas', 'habañero', 'habenaro', 'habenero', 'habeneros', 'habichuela', 'hachiya', 'hacienda', 'hacked', 'hackleback', 'haco', 'haddie', 'haddock', 'haeng', 'hafi', 'haiga', 'hair', 'hairy', 'haitian', 'hajikami', 'hake', 'hakurei', 'hakusai', 'hakusan', 'haldi', 'halen', 'half', 'halfed', 'halfway', 'halibut', 'hall', 'halloumi', 'hallow', 'halloween', 'halo', 'haloumi', 'halvah', 'halve', 'halved', 'halves', 'ham', 'hamachi', 'hamakua', 'hamburger', 'hamburgers', 'hamersley', 'hamlin', 'hammer', 'hampton', 'hamptons', 'hams', 'han', 'hana', 'hand', 'handcrushed', 'handcut', 'handful', 'handfull', 'handfulls', 'handfuls', 'handheld', 'handi', 'handle', 'handled', 'handles', 'handling', 'handmade', 'handpicked', 'hands', 'handwritten', 'handy', 'hang', 'hangar', 'hanger', 'hanging', 'hanna', 'hannout', 'hanout', 'hansen', 'hansens', 'hanshimiji', 'hanut', 'happy', 'hapuku', 'haralson', 'harbors', 'hard', 'hardboiled', 'hardcooked', 'hardened', 'hardening', 'hardens', 'hardneck', 'hardware', 'hardwood', 'hardy', 'hare', 'haribo', 'haricorts', 'haricot', 'haricots', 'harina', 'harisa', 'harissa', 'harlem', 'harley', 'harmless', 'haroseth', 'harp', 'hartshorn', 'harusame', 'harvati', 'harvest', 'harvested', 'harvey', 'harveys', 'hash', 'hashbrown', 'hashbrowns', 'hass', 'hassel', 'hat', 'hatch', 'hats', 'haunch', 'haupia', 'haute', 'havarti', 'hawaii', 'hawaiian', 'hawayei', 'hawk', 'hawthorn', 'hay', 'hayman', 'haystack', 'haystacks', 'haze', 'hazel', 'hazelnut', 'hazelnuts', 'hazlenut', 'head', 'headed', 'headless', 'headnote', 'heads', 'headsac', 'heal', 'health', 'healthy', 'heaped', 'heaping', 'hears', 'heart', 'hearts', 'hearty', 'heat', 'heated', 'heath', 'heather', 'heating', 'heatproof', 'heats', 'heavier', 'heavily', 'heavy', 'heavyduty', 'hebrew', 'heckers', 'hedgehog', 'hedgehogs', 'heel', 'heels', 'heering', 'hefeweizen', 'hefeweizenstyle', 'hefty', 'height', 'heightens', 'heineken', 'heinekin', 'heinz', 'heir', 'heirloom', 'heirlooms', 'hekka', 'held', 'helix', 'hell', 'hellfire', 'hellman', 'hellmann', 'help', 'helper', 'helpers', 'helpful', 'helps', 'hemisphere', 'hemispherical', 'hemp', 'hen', 'hendrick', 'hendricks', 'hengstenberg', 'hennessey', 'hennessy', 'henry', 'hens', 'herb', 'herbal', 'herbamare', 'herbed', 'herbes', 'herbs', 'herbsaint', 'herby', 'herdez', 'herding', 'heritage', 'herman', 'hero', 'heroes', 'herradura', 'herring', 'herrings', 'hersey', 'hershey', 'hersheys', 'herzog', 'hg', 'hi', 'hibachi', 'hibiki', 'hibiscus', 'hick', 'hickory', 'hidalgo', 'hidden', 'hide', 'hiding', 'hierba', 'hierbabuena', 'high', 'higher', 'highest', 'highland', 'highly', 'highquality', 'hijiki', 'hill', 'hillbilly', 'hills', 'hillshire', 'himachi', 'himalayan', 'hime', 'hind', 'hindquarter', 'hine', 'hines', 'hing', 'hinged', 'hint', 'hios', 'hip', 'hips', 'hiram', 'hispanic', 'hits', 'hiyashi', 'hiziki', 'ho', 'hoagie', 'hoagies', 'hobby', 'hoboken', 'hock', 'hocks', 'hodgson', 'hoegaarden', 'hog', 'hogfish', 'hogie', 'hogwash', 'hoisin', 'hoja', 'hojiblanca', 'hokusetsu', 'hold', 'holders', 'holding', 'holds', 'hole', 'holes', 'holiday', 'holidays', 'holland', 'hollandaise', 'hollandaze', 'hollow', 'hollowed', 'hollows', 'holly', 'holy', 'homade', 'home', 'homegrown', 'homemade', 'homemadetype', 'homestyle', 'hometown', 'hominy', 'hommarus', 'homogenized', 'hon', 'hondashi', 'honest', 'honey', 'honeybell', 'honeycomb', 'honeycrisp', 'honeydew', 'honeydews', 'honeyed', 'honeynut', 'honeysuckle', 'hong', 'honing', 'honkers', 'honshimeji', 'hooch', 'hood', 'hoof', 'hook', 'hooligan', 'hoop', 'hooters', 'hoover', 'hop', 'hopefully', 'hopped', 'hoppers', 'hoppy', 'hops', 'hor', 'horchata', 'horizon', 'horizontal', 'horizontally', 'hormel', 'hormone', 'horn', 'horned', 'hornitos', 'hors', 'horseradish', 'horticultural', 'hose', 'hoshi', 'hosin', 'hostess', 'hot', 'hotchkiss', 'hotdog', 'hotdogs', 'hotel', 'hotels', 'hothoney', 'hothouse', 'hotness', 'hots', 'hotsauce', 'hotshortbread', 'hotter', 'hottest', 'houdini', 'hour', 'hours', 'house', 'household', 'houses', 'houton', 'hovmastarsas', 'however', 'hoy', 'hp', 'hpnotiq', 'hreavy', 'href', 'hsing', 'html', 'http', 'hu', 'huacatay', 'hubbard', 'huckleberries', 'huckleberry', 'hudson', 'hudsonvalleyfoiegras', 'hudsonville', 'hues', 'huge', 'hugs', 'huichol', 'huitlacoche', 'hukilau', 'hull', 'hulled', 'hum', 'humboldt', 'humbolt', 'hummus', 'hunan', 'hundred', 'hung', 'hungarian', 'hungry', 'hunk', 'hunks', 'hunt', 'hunter', 'hunts', 'hunza', 'hurry', 'hush', 'hushpuppies', 'hushpuppy', 'husk', 'husked', 'husks', 'huy', 'hy', 'hydrangea', 'hydrate', 'hydrated', 'hydrating', 'hydro', 'hydrogenated', 'hydromel', 'hydroponic', 'hydroxide', 'hyssop', 'häagen', 'hôtel', 'ian', 'ib', 'ibarra', 'iberian', 'iberico', 'ice', 'iceberg', 'iceberglettuce', 'icebox', 'iceburg', 'icecold', 'icecream', 'iced', 'icelandic', 'icepop', 'ich', 'ichimi', 'icicle', 'icing', 'icingepi', 'icings', 'id', 'ida', 'idaho', 'idahoan', 'idahos', 'ideal', 'ideally', 'ideas', 'identical', 'identification', 'identified', 'idiazabal', 'idiazábal', 'ie', 'ignite', 'igourmet', 'ii', 'ike', 'ikea', 'ikura', 'il', 'ila', 'ilha', 'illabo', 'illet', 'ilmercatoitaliano', 'imagine', 'imitation', 'immaculate', 'immature', 'immediately', 'immerse', 'immersion', 'impart', 'impasta', 'impastata', 'imperia', 'imperial', 'imperials', 'important', 'imported', 'imports', 'impromptu', 'improvise', 'impurities', 'impériale', 'imu', 'ina', 'inadobo', 'inamona', 'inari', 'inboiling', 'inc', 'inca', 'ince', 'inch', 'inchalmond', 'inchcubes', 'inchdice', 'inche', 'inches', 'inchesand', 'inchlong', 'inchpieces', 'incht', 'inchthick', 'inchwide', 'incision', 'inck', 'include', 'included', 'includes', 'including', 'incorporate', 'increase', 'increased', 'increments', 'incubator', 'indentations', 'indents', 'index', 'india', 'indian', 'indiana', 'indianblend', 'indicated', 'indicates', 'indies', 'indirect', 'indispensable', 'individual', 'individually', 'indonesian', 'indoor', 'indulgence', 'inedible', 'inexpensive', 'infant', 'info', 'information', 'infornate', 'infuse', 'infused', 'infusing', 'infusion', 'infusions', 'ingesting', 'inglehoffer', 'ingredient', 'ingredients', 'inh', 'inhalf', 'inhes', 'injectable', 'injected', 'injection', 'injector', 'injera', 'ink', 'inn', 'inna', 'innards', 'inner', 'innermost', 'inniskillin', 'innovasian', 'inpursuitoftea', 'ins', 'insam', 'insanely', 'insects', 'insert', 'inserted', 'inserting', 'inside', 'insides', 'insist', 'inspirations', 'inspired', 'inspires', 'insta', 'instacure', 'instant', 'instead', 'instructed', 'instruction', 'instructions', 'insufficient', 'insulated', 'intact', 'intake', 'intense', 'intensely', 'interesting', 'interfere', 'interior', 'international', 'intervals', 'intestines', 'inthe', 'intoquarters', 'intro', 'invented', 'invert', 'invertase', 'inverted', 'investment', 'iodized', 'iowsodium', 'ipa', 'ipswich', 'iqf', 'iranian', 'iraty', 'irgin', 'iriko', 'irises', 'irish', 'iron', 'irregular', 'irregularly', 'irvine', 'isaiah', 'isaly', 'ish', 'island', 'islands', 'islay', 'isle', 'isnecessary', 'isolate', 'isomalt', 'israel', 'israeli', 'issue', 'italia', 'italian', 'italiano', 'italy', 'item', 'items', 'ivanhoe', 'ivoire', 'ivory', 'ivy', 'ja', 'jack', 'jackcheese', 'jacked', 'jackets', 'jackfruit', 'jacobsen', 'jaegermeister', 'jagermeister', 'jaggery', 'jagody', 'jake', 'jalape', 'jalapeno', 'jalapenos', 'jalapenños', 'jalapeo', 'jalapeos', 'jalapeño', 'jalapeños', 'jalapño', 'jalepeno', 'jalepenos', 'jalepeño', 'jalopeno', 'jalopenos', 'jalpenenos', 'jalpeno', 'jam', 'jamaica', 'jamaican', 'jambalaya', 'jambon', 'jameed', 'james', 'jameson', 'jamiaca', 'jamie', 'jamon', 'jams', 'jamón', 'jan', 'jane', 'janette', 'jang', 'jantaboon', 'jap', 'japan', 'japanese', 'japanesse', 'japapeños', 'japones', 'japonica', 'jar', 'jarlsberg', 'jarlsburg', 'jarred', 'jarritos', 'jars', 'jarslberg', 'jasmati', 'jasmin', 'jasmine', 'jaune', 'java', 'javin', 'jay', 'jazz', 'jazzed', 'jb', 'jd', 'jdk', 'jean', 'jeanne', 'jeera', 'jefe', 'jeff', 'jel', 'jell', 'jellied', 'jellies', 'jello', 'jells', 'jelly', 'jellybeans', 'jellyroll', 'jellyrolls', 'jemima', 'jen', 'jenever', 'jenkins', 'jenlain', 'jennie', 'jerez', 'jerk', 'jerked', 'jerky', 'jerry', 'jersey', 'jerusalem', 'jet', 'jeung', 'jewel', 'jewels', 'jewish', 'jfg', 'jiang', 'jicama', 'jicamas', 'jicima', 'jif', 'jiffy', 'jigger', 'jiggers', 'jim', 'jimenez', 'jimmies', 'jimmy', 'jims', 'jitomate', 'jivara', 'joaquin', 'joconde', 'joe', 'joes', 'joh', 'johannesburg', 'johannisberg', 'john', 'johnagold', 'johnanisberg', 'johnnie', 'johnny', 'johnnycake', 'johnson', 'johnsonville', 'joi', 'joint', 'jointed', 'joints', 'jolly', 'jolokia', 'jonagold', 'jonah', 'jonathan', 'jonathans', 'jones', 'jordan', 'jos', 'jose', 'jouët', 'jowl', 'jowls', 'joy', 'joyva', 'jp', 'jqa', 'jr', 'judgment', 'judiciously', 'judy', 'jug', 'juht', 'juic', 'juicd', 'juice', 'juiceb', 'juiced', 'juicer', 'juices', 'juicier', 'juiciness', 'juicing', 'juicy', 'juilenne', 'juilenned', 'juilienne', 'juilienned', 'jujube', 'jujubes', 'jujyfruits', 'julep', 'jules', 'julia', 'julienne', 'julienned', 'juliennes', 'julio', 'julliene', 'julliened', 'jullienned', 'jumbo', 'jumex', 'jump', 'jung', 'jungle', 'junior', 'juniper', 'junlianned', 'junmai', 'junípero', 'jura', 'jus', 'justice', 'justin', 'justover', 'jut', 'jwala', 'jícama', 'kaali', 'kabanos', 'kabinett', 'kabob', 'kabobs', 'kabocha', 'kaboucha', 'kabsa', 'kacang', 'kacha', 'kadhai', 'kadota', 'kaese', 'kaffir', 'kafir', 'kahl', 'kahlu', 'kahlua', 'kahlza', 'kahlú', 'kahlúa', 'kahlûa', 'kahula', 'kai', 'kaiser', 'kaisers', 'kaitafi', 'kaiware', 'kala', 'kalamansi', 'kalamanta', 'kalamari', 'kalamata', 'kalamatas', 'kalbi', 'kale', 'kalhua', 'kalimyrna', 'kalonji', 'kalua', 'kaluha', 'kalustyan', 'kalustyans', 'kalúa', 'kam', 'kamaboko', 'kame', 'kampot', 'kamut', 'kangaroo', 'kansas', 'kantong', 'kaolin', 'kaong', 'kaori', 'kapusta', 'karashi', 'karat', 'kari', 'karo', 'karpoor', 'karu', 'karv', 'kary', 'kasandrino', 'kase', 'kasha', 'kashi', 'kashkaval', 'kashmiri', 'kasih', 'kasoori', 'kassari', 'kasseri', 'kastoori', 'kasturi', 'kasuri', 'kat', 'kataife', 'kataifi', 'katakuriko', 'kathleen', 'katie', 'katinka', 'katsu', 'katsuo', 'katsuobushi', 'katz', 'kauai', 'kavli', 'kawari', 'kay', 'kc', 'keahole', 'kearn', 'keawe', 'kebab', 'kebabs', 'kebbe', 'kebobs', 'kecap', 'kechap', 'kee', 'keebler', 'keel', 'keen', 'keep', 'keeping', 'keeps', 'kefalograviera', 'kefalotiri', 'kefalotyri', 'keffir', 'kefir', 'keg', 'keiser', 'keisers', 'kekchi', 'kellogg', 'kelly', 'kelp', 'kemp', 'ken', 'kendra', 'kendraskitchen', 'kenko', 'kennabeck', 'kennebeck', 'kenny', 'kensington', 'kent', 'kentjoer', 'kentucky', 'kept', 'kern', 'kernel', 'kernels', 'kerns', 'kerr', 'kerrygold', 'ketchup', 'ketel', 'ketjap', 'kettle', 'kettlepizza', 'kewpie', 'key', 'keys', 'keystone', 'kg', 'kha', 'khakhra', 'khao', 'khmer', 'khorasan', 'khua', 'khus', 'kibbeh', 'kick', 'kicked', 'kickin', 'kid', 'kiddush', 'kidney', 'kidneys', 'kids', 'kielbasa', 'kii', 'kikkoman', 'kill', 'killa', 'killed', 'kilo', 'kilogram', 'kilograms', 'kilos', 'kim', 'kimchee', 'kimchi', 'kimelweck', 'kin', 'kind', 'kindlin', 'kinds', 'king', 'kingarthurflour', 'kings', 'kingsford', 'kingui', 'kinh', 'kinome', 'kippered', 'kippers', 'kir', 'kirbies', 'kirby', 'kirin', 'kirkland', 'kirkwood', 'kirmizi', 'kirsch', 'kirschwasser', 'kirsh', 'kirshwasser', 'kishke', 'kiss', 'kissed', 'kisses', 'kit', 'kitchen', 'kitchenmarket', 'kitchens', 'kite', 'kiwi', 'kiwifruit', 'kiwifruits', 'kiwis', 'kix', 'kizami', 'klondike', 'kluski', 'knackwurst', 'knafe', 'knead', 'kneaded', 'kneading', 'knee', 'knife', 'knipla', 'knish', 'knives', 'knob', 'knobs', 'knock', 'knocking', 'knockwurst', 'knoephla', 'knorr', 'knot', 'knots', 'knott', 'knotted', 'know', 'known', 'knox', 'knoxx', 'knuckle', 'knuckles', 'knudsen', 'ko', 'koala', 'koamart', 'kobe', 'kocher', 'kochi', 'kochujang', 'kochukaru', 'kodiak', 'koeksisters', 'koftas', 'kohlrabi', 'kohlrabies', 'kohu', 'koji', 'kojuchang', 'kokuho', 'kolbasi', 'komatsuna', 'kombu', 'kombucha', 'kona', 'konbu', 'kong', 'konriko', 'kool', 'koon', 'korbel', 'korean', 'korma', 'korn', 'kosari', 'koseret', 'kosh', 'kosher', 'koshersalt', 'kosherstyle', 'koshi', 'koshian', 'kosho', 'kovbasa', 'kraft', 'kraken', 'kraprao', 'kraut', 'krayana', 'krazy', 'kreplach', 'kriek', 'krimpets', 'krinkel', 'krinos', 'kris', 'krisp', 'krispies', 'kroeung', 'kroger', 'krogstad', 'krupuk', 'kruse', 'krusteaz', 'kucai', 'kuchela', 'kucho', 'kudzu', 'kuei', 'kugelhopf', 'kugelhupf', 'kukui', 'kula', 'kum', 'kumamoto', 'kumamotos', 'kumara', 'kummelweck', 'kumquat', 'kumquats', 'kumquatsepi', 'kumu', 'kumumoto', 'kung', 'kunomoto', 'kuri', 'kuro', 'kurobuta', 'kuza', 'kvass', 'kwanzaa', 'kway', 'ky', 'kyoto', 'kümmel', 'la', 'labatts', 'label', 'labeled', 'labels', 'labne', 'labneh', 'laboiteny', 'lace', 'laces', 'lacey', 'lacinato', 'lacing', 'lack', 'lacquer', 'lacquered', 'lacroix', 'lactaid', 'lactate', 'lacto', 'lactose', 'lacy', 'laden', 'ladle', 'ladolemono', 'lady', 'ladyfinger', 'ladyfingers', 'lafe', 'laffy', 'lagavulin', 'lager', 'lagerstyle', 'laguiole', 'lagunitas', 'laird', 'lait', 'lake', 'lakefront', 'lakes', 'lakeside', 'laksa', 'lalah', 'lamb', 'lambic', 'lambrusco', 'lambs', 'lame', 'lamill', 'lamp', 'lan', 'lancashire', 'lancaster', 'lancelot', 'land', 'langhan', 'langostines', 'langostino', 'langostinos', 'langoustine', 'langoustines', 'lanka', 'lankan', 'lantana', 'lantern', 'lap', 'lapchang', 'lapchong', 'lapchongs', 'laphroaig', 'laphroiag', 'lapsang', 'laquercia', 'lard', 'larded', 'larding', 'lardo', 'lardon', 'lardons', 'lardoons', 'large', 'largefrench', 'largely', 'larger', 'largest', 'largish', 'lars', 'lasagna', 'lasagne', 'lasagnette', 'last', 'late', 'later', 'laterally', 'latex', 'latienda', 'latik', 'latin', 'latina', 'latino', 'latke', 'latkes', 'latourangelle', 'latte', 'latter', 'lattice', 'lauer', 'laughing', 'laura', 'laurel', 'laurentiis', 'lava', 'lavang', 'lavash', 'lavazza', 'lavender', 'laver', 'lavosh', 'law', 'lawry', 'laxmi', 'lay', 'layer', 'layered', 'layering', 'layers', 'lazy', 'lazzaroni', 'lb', 'lbs', 'le', 'lea', 'leaaves', 'lead', 'leaf', 'leafed', 'leafs', 'leafy', 'lean', 'leaner', 'leanest', 'leanness', 'least', 'leather', 'leathers', 'leatherwood', 'leathery', 'leave', 'leaved', 'leavener', 'leavening', 'leaves', 'leavesfinely', 'leaving', 'lebanese', 'lebkuchen', 'leblon', 'lebneh', 'leche', 'lechera', 'leches', 'lechón', 'lecithin', 'lee', 'leek', 'leeks', 'leeners', 'leer', 'lefse', 'left', 'leftover', 'leftovers', 'leg', 'legs', 'legthwise', 'legumes', 'leicester', 'leidenheimer', 'lek', 'lekvar', 'lemon', 'lemonade', 'lemoncello', 'lemongrass', 'lemons', 'lemony', 'lemonzest', 'lend', 'lenghthwise', 'lenghtwise', 'lengkuas', 'length', 'lengths', 'lengthways', 'lengthwise', 'lengua', 'lenticchie', 'lentil', 'lentilles', 'lentils', 'leo', 'leon', 'leonardo', 'leones', 'lepicerie', 'lescure', 'less', 'lesueur', 'let', 'letters', 'lettuce', 'lettuces', 'levain', 'level', 'leveled', 'leveling', 'levels', 'leves', 'lexington', 'leyden', 'lg', 'li', 'lian', 'libby', 'liberal', 'liberty', 'lichee', 'lick', 'licor', 'licorice', 'lid', 'lids', 'lie', 'liefman', 'liege', 'lievito', 'life', 'lifesavers', 'lift', 'lifter', 'ligament', 'light', 'lightbrown', 'lighten', 'lightened', 'lighter', 'lighting', 'lightlife', 'lightly', 'lightlysweetened', 'lightning', 'lighttasting', 'lightweight', 'liguria', 'ligurian', 'like', 'liked', 'likes', 'liking', 'lil', 'lilies', 'lilikoi', 'lillet', 'lilly', 'lily', 'lima', 'limas', 'limburger', 'lime', 'limeade', 'limejuice', 'limes', 'limestone', 'limezest', 'limited', 'limo', 'limon', 'limonada', 'limonata', 'limoncello', 'limoncillo', 'limone', 'limu', 'linch', 'lindemans', 'lindor', 'lindsay', 'lindt', 'lindy', 'line', 'lined', 'linen', 'liner', 'liners', 'lines', 'ling', 'lingcod', 'lingham', 'lingonberries', 'lingonberry', 'lingots', 'lingui', 'linguica', 'linguine', 'linguinetti', 'linguini', 'linguisa', 'linguiça', 'lini', 'linie', 'lining', 'link', 'linkback', 'linked', 'links', 'linquini', 'linseed', 'linseeds', 'lint', 'lion', 'lionel', 'lionfish', 'lip', 'lipped', 'lips', 'lipton', 'liquada', 'liquefied', 'liquefy', 'liquer', 'liqueuer', 'liqueur', 'liqueurs', 'liquid', 'liquids', 'liquified', 'liquor', 'liquorice', 'liquors', 'lis', 'lisbon', 'lisci', 'liscie', 'list', 'listed', 'listing', 'lit', 'litchi', 'litchis', 'lite', 'liter', 'literally', 'liters', 'litre', 'litres', 'little', 'littleneck', 'littlenecks', 'live', 'liver', 'liverot', 'livers', 'liverwurst', 'lizano', 'llama', 'lo', 'loa', 'load', 'loading', 'loads', 'loaf', 'loafs', 'loaves', 'loavescorn', 'lobe', 'lobes', 'lobster', 'lobsters', 'loc', 'local', 'locally', 'locate', 'located', 'locatella', 'locatelli', 'locked', 'lockhart', 'loco', 'loconut', 'locoto', 'locust', 'locusts', 'log', 'logan', 'loganberries', 'logs', 'loin', 'loinback', 'loins', 'lola', 'lolla', 'lollipop', 'lollipops', 'lollo', 'lombardo', 'lomi', 'lomo', 'london', 'lone', 'long', 'longaniza', 'longer', 'longevity', 'longgrain', 'longhorn', 'longon', 'longway', 'longways', 'longwise', 'loofah', 'look', 'looks', 'loom', 'loomi', 'loop', 'looped', 'loops', 'loose', 'loosely', 'loosen', 'loosened', 'looza', 'lop', 'lopez', 'loquat', 'loquats', 'lorann', 'lord', 'lorenzo', 'lorna', 'lorraine', 'los', 'losher', 'lost', 'lot', 'lots', 'lotta', 'lotus', 'louie', 'louis', 'louisiana', 'loukanika', 'loup', 'lour', 'loute', 'lovage', 'love', 'loveless', 'lovely', 'lover', 'lovers', 'low', 'lowcountry', 'lower', 'lowering', 'lowery', 'lowfat', 'lowry', 'lowsalt', 'lowsodium', 'lox', 'loóza', 'lpound', 'lt', 'ltd', 'lttle', 'lu', 'lua', 'luau', 'lubricating', 'luca', 'lucini', 'luck', 'lucknow', 'lucknowi', 'lucky', 'lucques', 'lucía', 'lug', 'luganega', 'luger', 'lugs', 'lukanka', 'luke', 'lukewarm', 'lulo', 'lumaconi', 'lumb', 'lumber', 'lumberyards', 'lump', 'lumpfish', 'lumpia', 'lumpias', 'lumps', 'lumpy', 'luna', 'lunazul', 'lunch', 'luncheon', 'lunchmate', 'lunchmeat', 'lundberg', 'lung', 'lunghi', 'luo', 'lup', 'lupe', 'luscious', 'lustau', 'luster', 'lusterdust', 'luxardo', 'lychee', 'lychees', 'lying', 'lyle', 'lyles', 'lynnhaven', 'lyons', 'lópez', 'mac', 'maca', 'macadamia', 'macadamias', 'macademia', 'macapuno', 'macaron', 'macaronade', 'macaroni', 'macarons', 'macaroon', 'macaroons', 'maccheroncini', 'macchiato', 'mace', 'macedonian', 'macerated', 'machaca', 'machacado', 'mache', 'machine', 'machines', 'machj', 'machlin', 'macho', 'machos', 'macintosh', 'mackeral', 'mackerel', 'mackerels', 'mackeson', 'macon', 'macoun', 'macouns', 'macrina', 'macsagna', 'madagascan', 'madagascar', 'maddalena', 'made', 'madeira', 'madeleine', 'madeleines', 'madiera', 'madras', 'maduro', 'maduros', 'mae', 'maekrua', 'mafalda', 'mafalde', 'mafaldine', 'maftoul', 'magazine', 'maggi', 'maggie', 'maggies', 'maggots', 'magi', 'magic', 'magical', 'magnesium', 'magnet', 'magnetized', 'magnificent', 'magnum', 'magpie', 'magret', 'magrets', 'maguey', 'maguro', 'mahal', 'maharaja', 'mahatma', 'mahi', 'mahimahi', 'mahlab', 'mahleb', 'mahlepi', 'mahoganies', 'mahogany', 'mahon', 'mahón', 'mai', 'maid', 'maida', 'maiden', 'maifun', 'mail', 'maille', 'main', 'maine', 'maison', 'maitake', 'maitakes', 'maitaké', 'maiz', 'maize', 'maizena', 'maja', 'majhoul', 'majool', 'major', 'majoram', 'make', 'maker', 'makers', 'makes', 'maki', 'making', 'makisu', 'mako', 'makroot', 'malabar', 'malaga', 'malagkit', 'malagueta', 'malanga', 'malaysian', 'malbec', 'maldon', 'male', 'maleguata', 'malfade', 'malibu', 'malitol', 'mallard', 'malleable', 'mallet', 'malloreddus', 'malmsey', 'malpecque', 'malpecques', 'malpeque', 'malpeques', 'malt', 'malta', 'maltaise', 'maltas', 'malted', 'maltesers', 'maltodextrin', 'maltose', 'mam', 'mama', 'maman', 'mame', 'mamey', 'mamita', 'mamma', 'mamé', 'man', 'manageable', 'mancego', 'manchego', 'mandarin', 'mandarine', 'mandarins', 'mandolin', 'mandoline', 'mandrange', 'mandrin', 'mangetout', 'mango', 'mangoes', 'mangos', 'mangteout', 'manhattan', 'manicotti', 'manie', 'manila', 'manilla', 'manioc', 'manis', 'manischewitz', 'manishevitz', 'manié', 'manjar', 'manjari', 'manner', 'manoa', 'manouri', 'manteca', 'mantis', 'manto', 'manual', 'manufacturer', 'manufacturing', 'manuka', 'manwich', 'many', 'manzanella', 'manzanilla', 'manzanillas', 'manzanillo', 'manzano', 'mao', 'maple', 'mapled', 'maque', 'mar', 'mara', 'marabo', 'maracino', 'maracuyá', 'maras', 'marasala', 'marasca', 'maraschino', 'marash', 'maraska', 'marble', 'marbled', 'marbleized', 'marbles', 'marc', 'marcela', 'marché', 'marcona', 'marcos', 'mardi', 'mardigrasday', 'mare', 'margarine', 'margarita', 'margaritas', 'margaritaville', 'margerine', 'margherita', 'maria', 'mariage', 'mariani', 'marias', 'marichu', 'marie', 'marigold', 'marigolds', 'marina', 'marinade', 'marinades', 'marinara', 'marinate', 'marinated', 'marinating', 'mariner', 'marion', 'marionberries', 'marionberry', 'maris', 'marjoram', 'mark', 'marked', 'marker', 'markers', 'market', 'markethallfoods', 'markets', 'marlin', 'marmalade', 'marmellata', 'marmite', 'marnano', 'marnier', 'marnique', 'maroon', 'married', 'marron', 'marrons', 'marrow', 'marrowbones', 'mars', 'marsala', 'marscapone', 'marscarpone', 'marshmallow', 'marshmallows', 'marteen', 'martha', 'martin', 'martina', 'martinelli', 'martini', 'martiniquan', 'martiniquen', 'maruchan', 'marukan', 'mary', 'maryland', 'marys', 'marzano', 'marzanos', 'marzeh', 'marzen', 'marzetti', 'marzettis', 'marzipan', 'maría', 'masa', 'masago', 'masala', 'masami', 'masarepa', 'mascarpone', 'mascato', 'masche', 'maseca', 'mash', 'mashed', 'masher', 'mashers', 'mashing', 'mask', 'masking', 'mason', 'masoor', 'mass', 'massala', 'massaman', 'massenez', 'massey', 'master', 'masterpiece', 'mastic', 'masur', 'mat', 'match', 'matcha', 'matchbox', 'matches', 'matchlike', 'matchsicks', 'matchstick', 'matchsticks', 'matchsticksize', 'mate', 'material', 'mates', 'mathilde', 'matilde', 'matjes', 'mats', 'matsuhisa', 'matsutake', 'matsutaké', 'matter', 'mature', 'matured', 'matza', 'matzah', 'matzahs', 'matzo', 'matzoh', 'matzohs', 'matzos', 'maui', 'mauna', 'maure', 'mauro', 'maw', 'max', 'maximum', 'maxwell', 'may', 'mayer', 'mayo', 'mayocoba', 'mayonaise', 'mayonaisse', 'mayonnais', 'mayonnaise', 'mayonniase', 'maytag', 'mazama', 'mazi', 'mazin', 'mazola', 'maíz', 'maître', 'mcbride', 'mccain', 'mccann', 'mccaul', 'mcclure', 'mccollum', 'mccollums', 'mccormick', 'mccoy', 'mcewens', 'mche', 'mcintosh', 'mckenzie', 'mct', 'mcvities', 'mead', 'meal', 'mealworm', 'mealy', 'mean', 'means', 'meanwhile', 'measure', 'measured', 'measurement', 'measurements', 'measures', 'measuring', 'meat', 'meatball', 'meatballs', 'meatless', 'meatloaf', 'meatloaves', 'meats', 'meaty', 'meaux', 'mecos', 'mecox', 'med', 'medaglia', 'medal', 'medallion', 'medallions', 'media', 'medicinals', 'medieval', 'mediterranean', 'medium', 'mediumdry', 'mediumground', 'mediumlarge', 'mediumsize', 'mediumsized', 'mediumtolarge', 'medjool', 'medley', 'medoc', 'mei', 'mein', 'mejhoul', 'melange', 'melba', 'meld', 'melegueta', 'melissa', 'melissas', 'mellocreme', 'mellon', 'mellow', 'mellowest', 'melon', 'melonballer', 'melons', 'melt', 'meltable', 'melted', 'melting', 'melts', 'melty', 'member', 'members', 'membrane', 'membranes', 'membrillo', 'memory', 'mempachi', 'memphis', 'men', 'menemsha', 'menengi', 'menlo', 'menma', 'menonita', 'mentaiko', 'menthe', 'mentos', 'mer', 'mercants', 'mercillos', 'merckens', 'merengue', 'merguez', 'meringue', 'meringues', 'meritage', 'merkts', 'merleton', 'merlot', 'mermalada', 'merry', 'mesa', 'mescal', 'mesclun', 'mesculun', 'meselun', 'mesh', 'meshed', 'meslcun', 'mesophilic', 'mesquite', 'mestemacher', 'metal', 'metallic', 'metaxa', 'meted', 'methe', 'methi', 'method', 'methods', 'metsuyan', 'mex', 'mexciano', 'mexene', 'mexi', 'mexican', 'mexicana', 'mexicanos', 'mexico', 'mexicorn', 'mexicos', 'meyer', 'meyers', 'mezcal', 'mezze', 'mezzetta', 'mezzi', 'mg', 'mgd', 'mi', 'mia', 'miami', 'mian', 'michael', 'miche', 'michel', 'michelada', 'michele', 'michelob', 'michigan', 'michter', 'michu', 'micro', 'microgreens', 'microplane', 'microwavable', 'microwave', 'microwaveable', 'microwaved', 'microwaving', 'mid', 'middle', 'middleneck', 'middlenecks', 'midel', 'midgees', 'midgie', 'midnight', 'midori', 'mie', 'mien', 'migas', 'might', 'mighty', 'mignon', 'mignonette', 'mignons', 'mik', 'mikado', 'mike', 'milanese', 'milano', 'mild', 'milder', 'mildest', 'mildflavored', 'mildly', 'mililiters', 'milk', 'milkballs', 'milkfat', 'milkfish', 'milkimchi', 'milksalt', 'milkshake', 'milkshakes', 'milky', 'mill', 'milled', 'miller', 'millet', 'milligan', 'millileters', 'milliletes', 'milliliter', 'milliliters', 'millimeters', 'millionaire', 'milliters', 'mills', 'milman', 'mimolette', 'min', 'mince', 'minced', 'mincemeat', 'minces', 'mincing', 'mind', 'mindy', 'mined', 'mineirastyle', 'miner', 'mineral', 'minervois', 'minestrone', 'ming', 'mini', 'miniature', 'miniatures', 'minimally', 'minimum', 'minis', 'miniscule', 'minneola', 'minneolas', 'minor', 'minors', 'mins', 'mint', 'minted', 'mints', 'minty', 'minus', 'minute', 'minutes', 'minuti', 'minze', 'mirabo', 'miracle', 'miracles', 'mirasol', 'mire', 'miren', 'mirepoix', 'mirin', 'mirliton', 'mirlitons', 'miscellaneous', 'mislabeled', 'misleadingly', 'miso', 'miss', 'mission', 'mississippi', 'missouri', 'mist', 'mista', 'mister', 'mistika', 'misting', 'mitica', 'mitsuba', 'mitts', 'mix', 'mixed', 'mixer', 'mixers', 'mixes', 'mixing', 'mixoflour', 'mixture', 'miyataki', 'mizithra', 'mizuma', 'mizun', 'mizuna', 'mizuno', 'ml', 'mlo', 'mm', 'mo', 'moano', 'moby', 'mocha', 'mochas', 'mochi', 'mochiko', 'mock', 'mocktail', 'mocktails', 'modela', 'modeling', 'modelo', 'modena', 'moderate', 'moderately', 'modern', 'modestly', 'modified', 'modjeskas', 'moe', 'moet', 'mograbiah', 'mogridder', 'mohala', 'moi', 'moida', 'moist', 'moisten', 'moistened', 'moistening', 'moisture', 'mojito', 'mojo', 'molasses', 'molcajete', 'mold', 'molding', 'moldo', 'molds', 'mole', 'molecular', 'molho', 'molida', 'molido', 'mom', 'momiji', 'momo', 'momokawa', 'momoya', 'mon', 'monaco', 'monde', 'money', 'monger', 'mongetto', 'mongolian', 'monica', 'monin', 'monitor', 'monjunis', 'monk', 'monkey', 'monkfish', 'mono', 'monosodium', 'monsieur', 'mont', 'montagne', 'montagnolo', 'montalcino', 'montana', 'montasio', 'monte', 'montebello', 'montenegro', 'montepulciano', 'monteray', 'monterey', 'monterrey', 'montery', 'montessoriservices', 'montgomery', 'month', 'months', 'montrachet', 'montreal', 'monument', 'moo', 'moon', 'moonfish', 'moong', 'moonglow', 'moons', 'moonshine', 'moore', 'moorea', 'moorehouse', 'moose', 'mop', 'mopping', 'morado', 'morcilla', 'mordelo', 'morefruit', 'morel', 'morelino', 'morello', 'morels', 'morena', 'mores', 'moretti', 'morgan', 'mori', 'morilla', 'moringa', 'morita', 'moritas', 'mornay', 'morning', 'morningstar', 'moroccan', 'moros', 'morph', 'mors', 'morsel', 'morsels', 'mort', 'morta', 'mortadella', 'mortar', 'morteau', 'morton', 'moscatel', 'moscato', 'moscovy', 'mosel', 'moselle', 'moser', 'moss', 'mostaccioli', 'mostaciolli', 'mostarda', 'mostly', 'mosto', 'mote', 'mother', 'moto', 'motorvatin', 'mott', 'mottled', 'mou', 'moulard', 'moulds', 'mounded', 'mounding', 'mounds', 'mount', 'mountain', 'mourvedre', 'moussaka', 'mousse', 'mousseline', 'mousserons', 'moutai', 'moutarde', 'mouth', 'mouths', 'mouton', 'move', 'movie', 'mozza', 'mozzarella', 'mozzerella', 'mp', 'mr', 'mrs', 'ms', 'msc', 'msg', 'mt', 'mu', 'much', 'muchi', 'mud', 'muddle', 'muddled', 'muddler', 'muddlers', 'muddling', 'mudfish', 'mudslide', 'muenster', 'muesli', 'mueslix', 'muffaletta', 'muffin', 'muffins', 'muffuletta', 'mug', 'mugellana', 'mugs', 'muhammara', 'muhummara', 'mui', 'muir', 'muji', 'mulaeto', 'mulato', 'mulatto', 'mulberries', 'mull', 'mulled', 'mullet', 'mullets', 'mulling', 'multi', 'multicolored', 'multigrain', 'multivitimin', 'mulukhiyya', 'mulyeot', 'mummy', 'munchkin', 'mung', 'mungo', 'munich', 'munster', 'murcott', 'murphy', 'murray', 'murrayscheese', 'muscadavo', 'muscade', 'muscadet', 'muscat', 'muscatel', 'muscato', 'muscavado', 'muscle', 'muscles', 'muscovado', 'muscovy', 'mush', 'mushed', 'mushroom', 'mushrooms', 'mushrroms', 'mushy', 'musica', 'musketeers', 'muskmelon', 'muslin', 'mussel', 'musselman', 'mussels', 'must', 'mustar', 'mustard', 'mustards', 'mutabal', 'mutard', 'mutsu', 'mutti', 'mutton', 'muu', 'myer', 'myers', 'mymouné', 'mystery', 'mysticana', 'mystique', 'myun', 'myzithra', 'mâche', 'mâcon', 'märzen', 'mélange', 'ménage', 'místico', 'mõn', 'mûre', 'münster', 'naam', 'naan', 'naans', 'nabisco', 'nacho', 'nachos', 'naga', 'naganegi', 'nage', 'nahm', 'nail', 'naked', 'nam', 'nama', 'name', 'nameko', 'namm', 'nan', 'nance', 'nancy', 'nanno', 'nano', 'nantucket', 'napa', 'napastyle', 'napkin', 'napkins', 'naples', 'napolean', 'napoleon', 'napoletana', 'napoli', 'napoléon', 'nappa', 'naranja', 'naranjilla', 'nardone', 'narrow', 'narrowest', 'narrowing', 'naruto', 'nashi', 'nasi', 'nasoya', 'nasturtium', 'nasturtiumblossoms', 'nasturtiums', 'nata', 'national', 'nationwide', 'native', 'natto', 'natural', 'naturally', 'naturals', 'naturalstyle', 'nature', 'naturegg', 'naturel', 'naturesweet', 'naturipe', 'naughty', 'naval', 'navan', 'navel', 'navels', 'navy', 'nbsp', 'nd', 'nduja', 'neal', 'neapolitan', 'near', 'nearby', 'nearly', 'neat', 'neatly', 'necco', 'necessary', 'neck', 'necklace', 'necklaces', 'necks', 'nectar', 'nectarine', 'nectarines', 'need', 'needed', 'needle', 'needled', 'needlenose', 'needles', 'needs', 'neeeded', 'neely', 'neelys', 'neem', 'neera', 'neese', 'negi', 'negimaki', 'negra', 'negro', 'negros', 'neilsen', 'neither', 'nell', 'nellie', 'neolly', 'neon', 'neopolitan', 'nepenthe', 'nephew', 'nepitella', 'nera', 'nerds', 'nerigoma', 'neriume', 'nero', 'neroli', 'nerved', 'nescafe', 'nesquick', 'nesquik', 'nest', 'nestle', 'nestles', 'nestlé', 'nests', 'net', 'nets', 'netted', 'netting', 'nettle', 'nettles', 'neuchatel', 'neufchatel', 'neufchaåtel', 'neufchtel', 'neufchâtel', 'neutral', 'neutrally', 'nevada', 'never', 'new', 'newburg', 'newcastle', 'newfoundland', 'newman', 'newmans', 'newsom', 'newspaper', 'newtons', 'next', 'ngo', 'nguyen', 'nh', 'nib', 'nibbed', 'nibblets', 'nibby', 'niblet', 'niblets', 'nibs', 'niccoise', 'nice', 'nicely', 'nicer', 'nickel', 'nickelsize', 'nicois', 'nicoise', 'nielsen', 'nigari', 'nigella', 'night', 'nigiri', 'nigoise', 'nik', 'nikka', 'nilla', 'niman', 'nine', 'ninepin', 'ninety', 'ningbo', 'nino', 'nioise', 'nip', 'nipitella', 'nissin', 'nitrate', 'nitrogen', 'nix', 'nixtamal', 'niçois', 'niçoise', 'nm', 'noble', 'nobu', 'noc', 'nocello', 'noche', 'nodine', 'nog', 'nohi', 'nohu', 'noilly', 'noir', 'noisette', 'non', 'nona', 'nonalcoholic', 'nonalkalized', 'nonats', 'nondairy', 'nondark', 'none', 'nonfat', 'nonflammable', 'nonhomogenized', 'nonhydrogenated', 'nonino', 'nonmeat', 'nonna', 'nono', 'nonorganic', 'nonpareil', 'nonpareils', 'nonpariel', 'nonpereil', 'nonpoisonous', 'nonreactive', 'nonstick', 'nonsweet', 'nonsweetened', 'nontoxic', 'nonya', 'noo', 'noodle', 'noodles', 'noor', 'nopal', 'nopales', 'nopalitos', 'nordica', 'nori', 'normally', 'norman', 'north', 'northern', 'northwest', 'northwoods', 'norwegian', 'nose', 'nosed', 'noses', 'nostraline', 'notch', 'notched', 'note', 'noted', 'notes', 'nothing', 'notice', 'notte', 'nouc', 'nougat', 'nougatine', 'nour', 'nouvelle', 'nova', 'novello', 'novelty', 'noyaux', 'ntild', 'ntlde', 'nto', 'nu', 'nub', 'nubs', 'nucoa', 'nudies', 'nueske', 'nugget', 'nuggets', 'number', 'numerously', 'nuoc', 'nut', 'nutella', 'nutmeats', 'nutmeg', 'nutmegs', 'nutmet', 'nutrageous', 'nutri', 'nutrition', 'nutritional', 'nutritious', 'nuts', 'nutter', 'nuttier', 'nutty', 'ny', 'nyc', 'nylon', 'nyons', 'nyora', 'oak', 'oakheart', 'oakleaf', 'oaks', 'oaky', 'oasis', 'oat', 'oatcakes', 'oatmeal', 'oats', 'oaxaca', 'oaxacan', 'oba', 'oban', 'oblaten', 'oblique', 'oblong', 'obsessed', 'oc', 'ocane', 'occasionally', 'occurring', 'ocean', 'octagonal', 'october', 'octoberfest', 'octopus', 'octopuses', 'ocute', 'odd', 'odense', 'odessa', 'odom', 'oeil', 'oeleck', 'oelek', 'oetker', 'oeuvre', 'oeuvres', 'offcuts', 'offers', 'offset', 'often', 'ognori', 'ogo', 'ogonori', 'ogorki', 'ohba', 'ohnuts', 'ohrani', 'oi', 'oikos', 'oil', 'oilcured', 'oiled', 'oilepi', 'oilgin', 'oiling', 'oilpacked', 'oils', 'oily', 'oince', 'oives', 'oj', 'ok', 'oka', 'okay', 'okinawan', 'okra', 'okras', 'oktoberfest', 'olallieberries', 'old', 'oldbay', 'olde', 'older', 'oldfashioned', 'oldmaple', 'oldsouth', 'ole', 'oleic', 'olek', 'oleo', 'olio', 'olivada', 'olive', 'olivenation', 'olives', 'olivia', 'olla', 'oloroso', 'olympia', 'om', 'omani', 'omega', 'omelet', 'omelets', 'omelette', 'omit', 'omitted', 'omitting', 'onaga', 'onaise', 'ondine', 'one', 'ones', 'onetik', 'onion', 'onionpowder', 'onions', 'oniony', 'online', 'ono', 'onto', 'ooey', 'ooking', 'oolong', 'oonce', 'oounce', 'oounces', 'opah', 'opakapaka', 'opal', 'opaque', 'open', 'opened', 'opening', 'openings', 'opo', 'opposed', 'opposite', 'opt', 'optioinal', 'option', 'optiona', 'optional', 'optionally', 'options', 'orache', 'orah', 'orange', 'orangeliqueur', 'orangerie', 'oranges', 'orangina', 'orata', 'orate', 'orb', 'orbieu', 'orcebollitas', 'orchard', 'orchid', 'orchids', 'orchopped', 'orcreole', 'order', 'ordered', 'ore', 'orecchiette', 'orechiette', 'oregano', 'oregno', 'oregon', 'oregonmushrooms', 'oreo', 'oreos', 'orfresh', 'orfuji', 'organi', 'organic', 'organically', 'organiceggs', 'organicjuiceusa', 'organs', 'orgeat', 'orginale', 'oriental', 'original', 'originale', 'originally', 'originals', 'orlando', 'orleans', 'ornament', 'ornamental', 'ornaments', 'oro', 'oroshiepi', 'oroweat', 'orrechiette', 'orrington', 'orshrimp', 'ortega', 'orthai', 'ortiz', 'orvieto', 'orwhiting', 'orzata', 'orzo', 'orzotto', 'orégano', 'osborne', 'oscar', 'oscars', 'osetra', 'oshibako', 'oso', 'ososweet', 'ossau', 'ossetra', 'osso', 'ossobuco', 'ostrich', 'ot', 'otafuku', 'others', 'otherwise', 'otter', 'otto', 'ottogi', 'oumce', 'ounc', 'ounce', 'ounceahi', 'ouncec', 'ouncecan', 'ouncecs', 'ounces', 'ouncescavatappi', 'ouncesroast', 'ounch', 'ouncse', 'ounds', 'outdoor', 'outer', 'outerbridges', 'outfitted', 'outs', 'outside', 'outward', 'ouzo', 'oval', 'ovalette', 'ovalettes', 'ovalpie', 'ovals', 'ovaltine', 'oven', 'ovengold', 'ovenproof', 'ovenready', 'overbaked', 'overbrown', 'overcooked', 'overflowing', 'overgrown', 'overholt', 'overipe', 'overlapping', 'overly', 'overnight', 'overprocess', 'overproof', 'overripe', 'oversize', 'oversized', 'ovoline', 'owderchutney', 'owens', 'ox', 'oxheart', 'oxidation', 'oxidize', 'oxo', 'oxtail', 'oxtails', 'oyster', 'oysters', 'oz', 'ozfinely', 'pa', 'pabana', 'pablano', 'pabst', 'pac', 'paca', 'paccheri', 'pace', 'pacific', 'pacifico', 'pack', 'packag', 'package', 'packaged', 'packageenoki', 'packages', 'packaging', 'packed', 'packer', 'packet', 'packetactive', 'packets', 'packing', 'packs', 'pad', 'padana', 'padano', 'paddle', 'paddlefish', 'paddles', 'paddy', 'padella', 'padi', 'padron', 'padrón', 'pads', 'paella', 'paese', 'page', 'pahole', 'pailettes', 'paillard', 'paillards', 'paillete', 'paillettes', 'pain', 'pains', 'paint', 'paintbrush', 'paintbrushes', 'painting', 'paints', 'pair', 'pairs', 'paisano', 'pak', 'pakistani', 'palais', 'pale', 'palegreen', 'paleo', 'palettes', 'palm', 'palmetto', 'palmful', 'palmfuls', 'palmiers', 'palms', 'palo', 'paloma', 'palouse', 'palumbo', 'pam', 'pama', 'pambazos', 'pamela', 'pan', 'panang', 'panatone', 'panca', 'pancake', 'pancakes', 'pancetta', 'panch', 'pancit', 'panco', 'panda', 'pandan', 'pandanus', 'pandoro', 'pane', 'paneer', 'panel', 'panela', 'panels', 'panera', 'paneriso', 'panettone', 'panfried', 'panfrying', 'panhandle', 'panini', 'panino', 'paniolo', 'panko', 'panna', 'panni', 'panquehue', 'pans', 'panseared', 'pansies', 'pansy', 'pantelleria', 'pantherfanz', 'pantry', 'pants', 'panzanella', 'pao', 'papa', 'papaccelle', 'papads', 'papadums', 'papaer', 'papalo', 'papardelle', 'papas', 'papaya', 'papayas', 'papayiannides', 'papelon', 'paper', 'paperpanettone', 'papers', 'papery', 'papillon', 'papillote', 'papillotes', 'pappadams', 'pappadelle', 'pappadoums', 'pappadums', 'pappardelle', 'pappy', 'paprika', 'par', 'paradis', 'paradise', 'paraffin', 'paratha', 'parbaked', 'parboiled', 'parched', 'parchment', 'parcooked', 'pared', 'pareil', 'pareils', 'parents', 'pareve', 'parfait', 'parfaits', 'parilla', 'paring', 'paris', 'parisian', 'parisienne', 'park', 'parkay', 'parker', 'parkette', 'parley', 'parlor', 'parlour', 'parlsey', 'parm', 'parma', 'parmagiano', 'parmeasan', 'parmesan', 'parmesean', 'parmiagano', 'parmigano', 'parmiggiano', 'parmigian', 'parmigiana', 'parmigianino', 'parmigianno', 'parmigiano', 'parmiginao', 'parmigino', 'parrano', 'parrot', 'parsely', 'parsley', 'parslied', 'parsnip', 'parsnips', 'part', 'parted', 'partial', 'partially', 'particles', 'particular', 'partida', 'partiers', 'parties', 'partly', 'partridge', 'partridges', 'parts', 'partskim', 'partsminced', 'partway', 'party', 'parve', 'pasa', 'pasilla', 'pasillas', 'paso', 'pass', 'passata', 'passed', 'passing', 'passion', 'passionfruit', 'passito', 'passover', 'passvoer', 'past', 'pasta', 'pastas', 'paste', 'paste_', 'pasted', 'pastel', 'pastene', 'pastes', 'pasteurized', 'pastificio', 'pastilla', 'pastillage', 'pastilles', 'pastina', 'pastini', 'pastis', 'pastor', 'pastourma', 'pastrami', 'pastries', 'pastry', 'pasture', 'pastured', 'pasty', 'pat', 'pata', 'patagonian', 'patak', 'patch', 'patches', 'pate', 'patek', 'patent', 'pates', 'path', 'patience', 'patis', 'patissiere', 'patna', 'pato', 'patobrand', 'patron', 'pats', 'patted', 'pattern', 'patterns', 'patterson', 'pattie', 'patties', 'patting', 'pattipan', 'patty', 'pattypan', 'paté', 'paul', 'paula', 'pav', 'pave', 'pavo', 'paw', 'pawpaw', 'paychauds', 'paysanne', 'pazzo', 'pb', 'pbte', 'pc', 'pe', 'pea', 'peaberry', 'peach', 'peaches', 'peachtree', 'peak', 'peaked', 'peaks', 'pealed', 'peanut', 'peanuts', 'pear', 'pearl', 'pearled', 'pearlini', 'pearlized', 'pearls', 'pearly', 'pears', 'peas', 'peasant', 'peashoots', 'peaty', 'pebble', 'pebbles', 'pebbly', 'pecan', 'pecans', 'peccorino', 'pechaud', 'peche', 'peck', 'peconika', 'pecorina', 'pecorino', 'pectin', 'pectoral', 'pedro', 'pee', 'peeky', 'peekytoe', 'peel', 'peeled', 'peeler', 'peeling', 'peelings', 'peels', 'peen', 'peep', 'peeped', 'peeper', 'peeps', 'peewee', 'peg', 'pei', 'pekin', 'peking', 'pekoe', 'pelargonium', 'pelati', 'peled', 'pellegrino', 'pellets', 'pelligrino', 'peltier', 'pelvic', 'pemaquid', 'pen', 'pencil', 'pencils', 'pendery', 'pendleton', 'pendula', 'penetration', 'penn', 'penne', 'pennette', 'pennies', 'pennington', 'pennoni', 'pennsylvania', 'penny', 'pens', 'penzey', 'penzeys', 'penzy', 'people', 'pepar', 'pepato', 'pepe', 'pepepr', 'peper', 'peperconcini', 'peperonata', 'peperoncini', 'peperoncino', 'peperonciono', 'pepers', 'pepi', 'pepita', 'pepitas', 'pepitos', 'peppa', 'peppadew', 'peppadews', 'peppadrops', 'peppar', 'peppe', 'pepper', 'peppercorn', 'peppercorns', 'peppercress', 'peppered', 'pepperidge', 'pepperincini', 'pepperjack', 'pepperkosher', 'pepperleaf', 'peppermill', 'peppermint', 'peppermints', 'pepperoncillo', 'pepperoncini', 'pepperoncinis', 'pepperoncino', 'pepperoni', 'peppers', 'peppery', 'peppes', 'peppino', 'pepppercorns', 'pepps', 'pequen', 'pequillo', 'pequin', 'pequins', 'pequín', 'per', 'peral', 'percatelli', 'percent', 'percentage', 'perch', 'perching', 'perciatelli', 'percnet', 'perdue', 'perfect', 'perfection', 'perfectly', 'perforated', 'performer', 'perhaps', 'peri', 'periginotti', 'perigord', 'perigueux', 'perilla', 'periods', 'periwinkles', 'perk', 'perlato', 'perle', 'perline', 'perlini', 'permitting', 'pernigotti', 'pernil', 'pernod', 'pernot', 'peroni', 'perrier', 'perrin', 'perrins', 'perry', 'persian', 'persillade', 'persimmon', 'persimmons', 'persimons', 'person', 'personal', 'persons', 'peru', 'perugina', 'peruvian', 'pesce', 'pesticide', 'pesticides', 'pestie', 'pestle', 'pesto', 'pet', 'petal', 'petals', 'pete', 'peter', 'petes', 'petit', 'petite', 'petits', 'petrale', 'peychaud', 'pfeffernuse', 'pharmacy', 'phartz', 'pheasant', 'pheasants', 'phil', 'philadelphia', 'phillips', 'philly', 'philo', 'phin', 'phlox', 'pho', 'phon', 'phoran', 'phoron', 'phosphate', 'photograph', 'phrik', 'phu', 'phyllo', 'pi', 'piacere', 'piadine', 'piave', 'pica', 'picada', 'picadillo', 'picanha', 'picante', 'picapeppa', 'picatta', 'piccalilli', 'piccalilly', 'piccante', 'piccolini', 'picholine', 'picholines', 'pici', 'pick', 'pickapeppa', 'picked', 'pickeled', 'pickerel', 'pickin', 'pickle', 'pickled', 'pickles', 'pickling', 'picks', 'picnic', 'pico', 'picoline', 'picolo', 'picon', 'picot', 'pict', 'pictsweet', 'picual', 'pie', 'piece', 'pieceparmesan', 'pieces', 'piecrust', 'piecrusts', 'pied', 'pieepi', 'pienza', 'pierce', 'pierced', 'pierogi', 'pierogie', 'pierogies', 'pierogis', 'pierre', 'pies', 'pig', 'pigeon', 'pigeons', 'pignole', 'pignoli', 'pignolia', 'pignolis', 'pigs', 'pigskin', 'pik', 'pike', 'pikeplacefish', 'pilaf', 'pilchards', 'pile', 'piling', 'pill', 'pillow', 'pillows', 'pillowy', 'pillsbury', 'piloncillo', 'pilot', 'pilpelchuma', 'pils', 'pilsner', 'pilsners', 'piment', 'pimenta', 'pimente', 'pimentn', 'pimento', 'pimenton', 'pimentos', 'pimentín', 'pimentón', 'pimiento', 'pimientoes', 'pimientos', 'pimm', 'pimms', 'pin', 'pina', 'pinapple', 'pinapples', 'pinbones', 'pinch', 'pinched', 'pinches', 'pine', 'pineapple', 'pineapples', 'pineau', 'pined', 'pinenuts', 'ping', 'pinhead', 'pink', 'pinkerton', 'pinkie', 'pinky', 'pinnacle', 'pinon', 'pinot', 'pinquito', 'pins', 'pint', 'pintcherry', 'pinto', 'pints', 'pintu', 'pinwheels', 'pinza', 'pinzimonio', 'pioneer', 'pioppini', 'pipe', 'piped', 'pipen', 'piper', 'piperade', 'piperrada', 'pipette', 'pipettes', 'pipian', 'piping', 'pippies', 'pippin', 'pippins', 'pips', 'piquant', 'piquante', 'piquet', 'piquillo', 'piquillos', 'piquin', 'piri', 'piroline', 'pirouette', 'pirouline', 'pirozhki', 'pisco', 'pista', 'pistachio', 'pistachios', 'pistaschios', 'pistils', 'pistoles', 'pistolette', 'pistolettes', 'pistols', 'pistou', 'pit', 'pita', 'pitas', 'pitaya', 'pitch', 'pitcher', 'pitchers', 'pith', 'piths', 'pithy', 'pits', 'pitt', 'pitted', 'pitter', 'pitting', 'pixie', 'pizza', 'pizzaria', 'pizzas', 'pizzella', 'pizzelle', 'pizzelles', 'pizzeria', 'pizzetta', 'pizzettes', 'pizzoccheri', 'pizzocheri', 'pk', 'pkg', 'pkgs', 'pla', 'place', 'placed', 'places', 'placing', 'plah', 'plain', 'plainly', 'plaintain', 'plan', 'plane', 'plank', 'planking', 'planks', 'plans', 'plant', 'plantain', 'plantains', 'plantation', 'planters', 'plants', 'plaque', 'plastic', 'plata', 'platano', 'plate', 'plates', 'platform', 'plating', 'platino', 'platinum', 'platter', 'platters', 'player', 'pleasant', 'please', 'pleased', 'pleated', 'plenty', 'pleurote', 'pliable', 'pliers', 'plo', 'plochman', 'ploughman', 'ploy', 'plu', 'pluches', 'plucked', 'plucots', 'plugra', 'plugrá', 'plum', 'plumcots', 'plump', 'plumped', 'plumpjack', 'plums', 'plunge', 'plunged', 'pluot', 'pluots', 'plus', 'pluse', 'plushes', 'plusmore', 'plymouth', 'plywood', 'po', 'poached', 'poacher', 'poaching', 'poblano', 'poblanos', 'pocket', 'pocketless', 'pockets', 'pocky', 'pod', 'podded', 'pods', 'poha', 'poi', 'poilane', 'point', 'pointed', 'pointer', 'points', 'poire', 'poires', 'pois', 'poisonous', 'poivrade', 'poix', 'pok', 'poke', 'poked', 'poker', 'polaner', 'polar', 'polbano', 'pole', 'polenta', 'polentaepi', 'poles', 'polish', 'polished', 'politely', 'polka', 'pollack', 'pollen', 'pollo', 'pollock', 'polpette', 'polpetti', 'polska', 'polskie', 'polycarbonate', 'polydextrose', 'pom', 'pomace', 'pomade', 'pomegranante', 'pomegranate', 'pomegranates', 'pomegrante', 'pomelo', 'pomelos', 'pomery', 'pomfret', 'pomi', 'pommace', 'pommary', 'pommelo', 'pommeray', 'pommerey', 'pommeroy', 'pommery', 'pommes', 'pomodori', 'pomodoro', 'pomona', 'pompano', 'pompelmo', 'pomì', 'pond', 'pong', 'ponies', 'pont', 'pony', 'ponzu', 'poolish', 'poon', 'pop', 'popaa', 'popchips', 'popcorn', 'poplar', 'popover', 'popovers', 'poppadoms', 'poppadum', 'popped', 'popper', 'poppers', 'popping', 'poppy', 'poppyseed', 'poppyseeds', 'pops', 'popsicle', 'popsicles', 'popsticks', 'porchetta', 'porcini', 'porcinis', 'porgies', 'porgy', 'pork', 'porkchops', 'porkloin', 'porous', 'porridge', 'port', 'portabella', 'portabellas', 'portabello', 'portabellos', 'porter', 'porterhouse', 'porters', 'portion', 'portioned', 'portions', 'portland', 'portobella', 'portobellini', 'portobello', 'portobellos', 'portuguese', 'position', 'posole', 'possibilities', 'possible', 'possibly', 'post', 'postrio', 'pot', 'potage', 'potaoes', 'potaotes', 'potassium', 'potato', 'potatoes', 'potatos', 'potion', 'potpourri', 'pots', 'potsticker', 'potstickers', 'potted', 'potters', 'pouch', 'pouches', 'poudre', 'pouilly', 'poulet', 'poultry', 'poumd', 'pound', 'poundcakes', 'pounded', 'pounder', 'poundmaple', 'poundrotelle', 'pounds', 'poundschayote', 'poundsrusset', 'pouns', 'poupon', 'pour', 'pourable', 'pourableconsistency', 'poured', 'pouring', 'pourpose', 'poussin', 'poussins', 'povilho', 'powder', 'powdered', 'powders', 'powdery', 'power', 'powered', 'powerful', 'powers', 'pozole', 'practically', 'prague', 'prairie', 'praline', 'pralines', 'prao', 'prat', 'prawn', 'prawns', 'pray', 'pre', 'prebaked', 'preboiled', 'precedes', 'precious', 'precise', 'precisely', 'precooked', 'precut', 'predominantly', 'prefer', 'preferabbly', 'preferable', 'preferably', 'preferablyy', 'prefered', 'preference', 'preferrably', 'preferred', 'preferredmeats', 'prefers', 'preformed', 'prego', 'preheat', 'preheated', 'preheating', 'premade', 'premelted', 'premier', 'premiere', 'premium', 'premixed', 'prep', 'prepackaged', 'preparation', 'prepare', 'prepared', 'preparedbasic', 'preparing', 'prepped', 'prepping', 'prerolled', 'present', 'presentation', 'preserve', 'preserved', 'preserves', 'preserving', 'preshaped', 'preshredded', 'presidente', 'presifted', 'presliced', 'presoaked', 'press', 'pressed', 'presses', 'pressing', 'pressure', 'pressurized', 'presunto', 'prettier', 'pretty', 'pretzel', 'pretzels', 'prevent', 'prevents', 'previous', 'previously', 'prewashed', 'priano', 'priced', 'prichard', 'pricked', 'prickly', 'pride', 'prik', 'primal', 'primarily', 'primary', 'primavera', 'prime', 'primes', 'priming', 'primitivo', 'primrose', 'prince', 'princella', 'princess', 'pringles', 'printable', 'printed', 'prior', 'pristine', 'private', 'probably', 'probe', 'probiotic', 'problem', 'procedure', 'proceed', 'process', 'processed', 'processer', 'processor', 'prociutto', 'procuitto', 'produce', 'produced', 'producer', 'produces', 'producing', 'product', 'products', 'professional', 'profiterole', 'profiteroles', 'profusely', 'progresso', 'prohibition', 'promasa', 'promised', 'promises', 'prong', 'pronged', 'pronounced', 'pronto', 'proof', 'proofed', 'proofing', 'propane', 'properly', 'proportions', 'propose', 'prosciutto', 'prosciuuto', 'proscuitto', 'proscutto', 'prosecco', 'prossecco', 'protean', 'protect', 'protective', 'protein', 'proteins', 'proto', 'provel', 'provencal', 'provencale', 'provence', 'provenhal', 'provençe', 'provides', 'provimi', 'provini', 'provolone', 'prudhomme', 'pruitt', 'prum', 'prune', 'prunelle', 'prunes', 'psychedelic', 'psyllium', 'pt', 'ptitim', 'pts', 'pté', 'pu', 'pub', 'puchased', 'pucker', 'puckled', 'puddin', 'pudding', 'puddings', 'pueblo', 'puerto', 'puff', 'puffcorn', 'puffed', 'puffs', 'puffy', 'pugliese', 'pul', 'pulique', 'pull', 'pulla', 'pulled', 'pulling', 'pullman', 'pulp', 'pulpy', 'pulque', 'pulse', 'pulsed', 'pulses', 'pulsing', 'pulverize', 'pulverized', 'pumpernickel', 'pumpernikel', 'pumpkin', 'pumpkins', 'pumpkinseed', 'pumpkinseeds', 'pumps', 'puna', 'punch', 'punched', 'punctured', 'punds', 'pungent', 'punnet', 'puntarella', 'puntarelle', 'pupils', 'puppadum', 'puppies', 'puppy', 'pur', 'pura', 'puran', 'purchase', 'purchased', 'purchasedpanettone', 'purchasing', 'pure', 'puree', 'pureed', 'pureeing', 'purees', 'purely', 'purereal', 'purevanilla', 'pureé', 'purged', 'purging', 'puri', 'purified', 'puritan', 'purlsoho', 'purple', 'purples', 'purpletop', 'purpose', 'purposeflour', 'purposes', 'purred', 'purse', 'purses', 'purslane', 'purveyor', 'purée', 'puréed', 'pushcart', 'pushed', 'pushpin', 'puss', 'pusser', 'put', 'puttanesca', 'putter', 'putting', 'putty', 'puy', 'puya', 'pyongo', 'pyramid', 'pyrex', 'páté', 'pâche', 'pâte', 'pâté', 'pébeyre', 'périgord', 'pêches', 'qimiq', 'qt', 'qts', 'quady', 'quahog', 'quahogs', 'quail', 'quails', 'quaker', 'qualita', 'qualities', 'quality', 'quantities', 'quantity', 'quark', 'quart', 'quarted', 'quarter', 'quarterd', 'quartered', 'quarters', 'quartersized', 'quartet', 'quarts', 'quartt', 'quatre', 'quatres', 'que', 'quebec', 'queen', 'queens', 'queijo', 'quemada', 'quenelle', 'quenelles', 'quervo', 'quesadilla', 'quesadillas', 'quesillo', 'queso', 'quiche', 'quick', 'quickbread', 'quickcooking', 'quickest', 'quickie', 'quickly', 'quickrise', 'quik', 'quill', 'quills', 'quina', 'quince', 'quinces', 'quinoa', 'quinquina', 'quins', 'quite', 'quoc', 'quorn', 'qwa', 'raab', 'rabbit', 'rabbits', 'rabe', 'rablespoon', 'racha', 'rachael', 'rachel', 'rack', 'racks', 'raclette', 'raddichio', 'radiator', 'radiatore', 'radiatori', 'radicchio', 'radish', 'radishes', 'radishs', 'raffaello', 'raffia', 'ragged', 'ragout', 'ragoût', 'ragu', 'ragù', 'ragú', 'rahr', 'rai', 'rain', 'rainbow', 'rainbows', 'rainbowy', 'rainier', 'raised', 'raisin', 'raising', 'raisins', 'raisons', 'raita', 'rajas', 'rajma', 'rajun', 'raki', 'ram', 'raman', 'ramazotti', 'rambutan', 'ramekin', 'ramekins', 'ramen', 'ramp', 'ramps', 'ramyonsari', 'ramyun', 'ran', 'ranch', 'rancher', 'ranchera', 'rancherito', 'ranchero', 'ranchers', 'rancho', 'random', 'range', 'ranging', 'rani', 'rao', 'raosted', 'rapa', 'rape', 'rapeseed', 'rapid', 'rapidrise', 'rapine', 'rapini', 'rapunzel', 'rare', 'ras', 'rasam', 'rasberry', 'rascasse', 'rasher', 'rashers', 'rasoted', 'rasp', 'raspberries', 'raspberriesor', 'raspberry', 'rasped', 'ratatouille', 'rate', 'rated', 'rathbun', 'rather', 'ratio', 'rats', 'rattle', 'rattler', 'rattlesnake', 'rau', 'rava', 'raveggiolo', 'ravenswood', 'ravigote', 'ravioletti', 'ravioli', 'raw', 'rawmesan', 'ray', 'rayu', 'razberi', 'razor', 'razors', 'razz', 'razzleberry', 'razzmatazz', 'rbgh', 'rbol', 'rbst', 'rd', 'rds', 'reach', 'reached', 'reaches', 'reactive', 'read', 'readily', 'reads', 'ready', 'real', 'realemon', 'realfruit', 'realime', 'really', 'reames', 'rear', 'reasonably', 'reata', 'reblochon', 'recado', 'recaito', 'recao', 'reccomended', 'receive', 'recently', 'recipe', 'recipeepi', 'recipegnocchi', 'recipehazelnut', 'recipelemon', 'recipelink', 'recipelinkand', 'recipelinkor', 'recipelinkpie', 'recipes', 'recipesfrozen', 'recipespastry', 'recipespâte', 'recips', 'recomended', 'recommend', 'recommende', 'recommended', 'recommends', 'recommened', 'reconstitituted', 'reconstitute', 'reconstituted', 'reconstituting', 'recorked', 'rectangle', 'rectangles', 'rectangular', 'red', 'redbor', 'redbreast', 'redcurrants', 'reddi', 'redfish', 'redhot', 'redi', 'redmond', 'redpack', 'reds', 'redskin', 'redskinned', 'reduce', 'reduced', 'reducedfat', 'reduces', 'reducing', 'reduction', 'reed', 'reese', 'reeser', 'refer', 'referred', 'refilling', 'refine', 'refined', 'refiner', 'refreshed', 'refreshing', 'refried', 'refrigerate', 'refrigerated', 'refrigerator', 'refritos', 'regale', 'regalice', 'regan', 'regans', 'reggano', 'reggiano', 'regiano', 'reginetti', 'region', 'regional', 'regions', 'regular', 'regulating', 'reheat', 'reheated', 'reheating', 'rehrucken', 'rehydrate', 'rehydrated', 'reims', 'reindeer', 'reine', 'reinette', 'reinforced', 'reisling', 'rejuvelac', 'relative', 'relatively', 'release', 'released', 'reliable', 'relish', 'relishes', 'relleno', 'remain', 'remainder', 'remaining', 'remains', 'remnants', 'remonce', 'remote', 'remoulade', 'removable', 'removal', 'remove', 'removed', 'removedand', 'removedfrom', 'removing', 'remy', 'rendang', 'render', 'rendered', 'rendering', 'renderings', 'rendezvous', 'renee', 'rennet', 'repetitive', 'replace', 'replaced', 'replacement', 'replacer', 'replacing', 'reposada', 'reposado', 'reprodepot', 'republic', 'reputable', 'requeson', 'request', 'requezon', 'require', 'required', 'requirements', 'requires', 'resealable', 'resemble', 'resembles', 'resembling', 'reser', 'reserva', 'reserve', 'reserved', 'reserve½', 'reserving', 'reshampatti', 'residual', 'residue', 'resifted', 'resin', 'resistant', 'resort', 'resources', 'respect', 'respectively', 'responsibly', 'resposado', 'rest', 'restaurant', 'restaurants', 'rested', 'resting', 'result', 'resulting', 'results', 'retain', 'retained', 'retaining', 'retied', 'retrieval', 'retro', 'retsina', 'return', 'reuben', 'reusable', 'reuse', 'reveal', 'reverse', 'rey', 'reyes', 'reynaldo', 'reynolds', 'rhine', 'rhizome', 'rhode', 'rhodes', 'rhododendron', 'rhone', 'rhubarb', 'rhum', 'rhône', 'ria', 'riazul', 'rib', 'ribbed', 'ribbon', 'ribbons', 'ribcage', 'ribena', 'ribera', 'ribeye', 'riblets', 'ribs', 'ribsteak', 'ric', 'rican', 'ricard', 'rice', 'riced', 'ricer', 'rices', 'riceselect', 'ricestick', 'rich', 'richard', 'richardson', 'richer', 'richly', 'richness', 'ricipe', 'rick', 'rickeys', 'ricotta', 'ridge', 'ridged', 'ridgemont', 'ridges', 'riesling', 'rigata', 'rigate', 'rigati', 'rigatoni', 'right', 'rigotte', 'rim', 'riming', 'rimless', 'rimmed', 'rimmer', 'rimming', 'rims', 'rinced', 'rind', 'rinded', 'rindless', 'rinds', 'ring', 'ringlets', 'rings', 'rinse', 'rinsed', 'rinses', 'rinsing', 'rioja', 'rip', 'ripasso', 'ripe', 'ripen', 'ripened', 'ripeness', 'ripped', 'ripple', 'rippled', 'riscossa', 'rise', 'risen', 'rising', 'riso', 'risotto', 'rissole', 'ristretto', 'rittenhouse', 'ritz', 'rivels', 'river', 'rivera', 'riviera', 'riz', 'rm', 'ro', 'road', 'roadside', 'roast', 'roasted', 'roaster', 'roasters', 'roasting', 'roasts', 'robalo', 'robb', 'robby', 'robert', 'robertson', 'robin', 'robiola', 'robiolina', 'robiolla', 'robiolo', 'robot', 'robust', 'robusto', 'roca', 'rocco', 'rock', 'rocket', 'rockfish', 'rocks', 'rockweed', 'rocky', 'rocoto', 'rod', 'rods', 'roe', 'roelli', 'roes', 'rogers', 'rogue', 'roja', 'rojo', 'rojos', 'rok', 'roka', 'roker', 'roland', 'roll', 'rolled', 'roller', 'rolling', 'rolls', 'rolo', 'rolos', 'roma', 'romaine', 'roman', 'romanesco', 'romanian', 'romano', 'romanoff', 'romanos', 'romas', 'rome', 'romesco', 'rompope', 'ron', 'roncal', 'rondele', 'rondin', 'roni', 'ronnybrook', 'ronzoni', 'rood', 'roof', 'rooibos', 'room', 'roomtemp', 'roomtemperature', 'rooster', 'root', 'rootbeer', 'rootlets', 'rootr', 'roots', 'rope', 'ropes', 'roquefort', 'rosa', 'rosangel', 'rosario', 'rosarita', 'rosato', 'rose', 'rosebud', 'rosebuds', 'rosehip', 'rosehips', 'roseland', 'rosella', 'rosemary', 'rosepetals', 'roses', 'rosette', 'rosettes', 'rosewater', 'rosey', 'rossa', 'rossi', 'rosso', 'rosti', 'rosé', 'rotary', 'rotating', 'rotel', 'rotelle', 'roth', 'rothman', 'roti', 'rotini', 'rotis', 'rotisserie', 'rouet', 'rougaroux', 'rouge', 'rouges', 'rouget', 'rough', 'roughly', 'roughlychopped', 'roughy', 'rouille', 'roulade', 'rouladen', 'roulades', 'round', 'rounded', 'rounder', 'rounds', 'rounemup', 'route', 'roux', 'row', 'rows', 'royal', 'royale', 'royaltine', 'rromano', 'rserved', 'ru', 'rub', 'rubbed', 'rubber', 'rubbery', 'rubbing', 'ruby', 'rucola', 'rudy', 'ruffle', 'ruffled', 'ruffles', 'ruford', 'ruin', 'ruined', 'ruis', 'ruler', 'rulez', 'rum', 'rumchata', 'rump', 'rumple', 'rumps', 'run', 'runner', 'runnier', 'running', 'runny', 'runs', 'runts', 'rush', 'rusks', 'russa', 'russet', 'russets', 'russett', 'russian', 'rust', 'rustic', 'rustica', 'rustically', 'rustichella', 'rustique', 'rutabaga', 'rutabagas', 'ruth', 'ruwer', 'rye', 'ryvita', 'rémoulade', 'sa', 'saambhar', 'saar', 'saba', 'sabarot', 'sabatino', 'sabayon', 'sable', 'sablee', 'sablefish', 'sablés', 'saboogoo', 'sabor', 'sabra', 'sabut', 'sac', 'saccharine', 'sachet', 'sachets', 'sack', 'sacks', 'saco', 'sacramanto', 'sacramento', 'sacs', 'saddle', 'saddles', 'saeujeot', 'saewoo', 'saewujeot', 'saf', 'safale', 'safe', 'safety', 'safflower', 'saffron', 'saga', 'saganaki', 'sagatiba', 'sage', 'sago', 'sahadis', 'sahara', 'sai', 'said', 'saifun', 'saigon', 'saikyo', 'sailor', 'sailorjerry', 'saint', 'sake', 'saki', 'sakonnet', 'saku', 'sakura', 'saké', 'sal', 'salad', 'salada', 'saladisi', 'salads', 'salal', 'salam', 'salamandra', 'salami', 'salamis', 'salasa', 'salata', 'salchicon', 'salemville', 'sales', 'salet', 'salferino', 'salicornia', 'salinity', 'salisbury', 'salmon', 'salmonberries', 'salmonella', 'salmuera', 'salpicao', 'salsa', 'salsaepi', 'salsas', 'salsify', 'salsita', 'salt', 'saltand', 'salted', 'saltedsunflower', 'saltfish', 'saltier', 'saltine', 'saltines', 'saltiness', 'salting', 'saltor', 'saltpeter', 'salts', 'saltwater', 'saltworks', 'saltwort', 'salty', 'salumi', 'salut', 'salvadoran', 'salvadorena', 'salvation', 'sam', 'saman', 'samba', 'sambaal', 'sambal', 'sambar', 'sambazon', 'sambel', 'sambhar', 'sambol', 'sambuca', 'sami', 'sammies', 'sammy', 'samoas', 'samosa', 'samp', 'samuel', 'san', 'sancerre', 'sanctuaire', 'sand', 'sandalwood', 'sandbakkel', 'sandblasted', 'sanddab', 'sandies', 'sanding', 'sandra', 'sandwich', 'sandwiched', 'sandwiches', 'sandwiching', 'sandy', 'sangiovese', 'sangria', 'sangrita', 'sanitized', 'sans', 'sansho', 'sansyo', 'santa', 'sante', 'santo', 'sanuf', 'sanuki', 'sapote', 'sapotes', 'sapp', 'sapphire', 'sapporo', 'sara', 'saracene', 'saran', 'sarda', 'sardegna', 'sardi', 'sardine', 'sardines', 'sardinian', 'sardo', 'sargento', 'saronno', 'sarsaparilla', 'sarticious', 'sarvecchio', 'sashimi', 'sasho', 'saskatoon', 'sassafras', 'sassafrass', 'sassy', 'sat', 'satay', 'sate', 'satin', 'sativa', 'sato', 'satsuma', 'satsumas', 'saturated', 'saturei', 'saturn', 'sau', 'sauce', 'sauced', 'saucee', 'sauceepi', 'sauceless', 'saucepan', 'saucepot', 'saucer', 'sauces', 'saucisse', 'saucisson', 'saucy', 'sauerbraten', 'sauerkraut', 'saumur', 'saury', 'sausage', 'sausageapple', 'sausagemaker', 'sausagemeat', 'sausages', 'saute', 'sauteed', 'sauteeing', 'sauteing', 'sauterne', 'sauternes', 'sauté', 'sautéed', 'sautéing', 'sauvignon', 'sauza', 'savagnin', 'savannah', 'savarin', 'save', 'saved', 'savers', 'saveur', 'savignon', 'savina', 'saving', 'savings', 'savoiardi', 'savoie', 'savonna', 'savor', 'savory', 'savoryspiceshop', 'savoury', 'savoy', 'saw', 'sawdust', 'sawed', 'sawmill', 'sawn', 'sawtooth', 'sawyer', 'say', 'sazon', 'sazonador', 'sazón', 'sc', 'scald', 'scalded', 'scaldedmilk', 'scalding', 'scale', 'scaled', 'scales', 'scallion', 'scallions', 'scallop', 'scalloped', 'scallopine', 'scallopini', 'scallops', 'scaloppine', 'scaloppini', 'scalped', 'scamorza', 'scamp', 'scampi', 'scandinavian', 'scansano', 'scant', 'scape', 'scapes', 'scarf', 'scarlet', 'scarmoza', 'scarpariello', 'scarves', 'scary', 'scattering', 'scented', 'scents', 'schar', 'scharfen', 'scharffen', 'scharffenberger', 'schezuan', 'schichimi', 'schilling', 'schlagobers', 'schmaltz', 'schmear', 'schmearing', 'schmidts', 'schnapps', 'school', 'schrager', 'schubert', 'schupf', 'schweppes', 'scissor', 'scissored', 'scissors', 'scleaned', 'scollops', 'scone', 'scones', 'scoop', 'scooped', 'scooper', 'scooping', 'scoops', 'scorching', 'score', 'scored', 'scorpion', 'scotch', 'scotia', 'scott', 'scottish', 'scout', 'scouting', 'scramble', 'scrambled', 'scrape', 'scraped', 'scraper', 'scrapes', 'scrapings', 'scrapped', 'scrapple', 'scraps', 'scratch', 'screen', 'screw', 'scribners', 'scrod', 'scrubbed', 'scrumpy', 'scubed', 'scudder', 'scungili', 'scungillli', 'scuro', 'se', 'sea', 'seabass', 'seafood', 'seagram', 'seal', 'sealable', 'sealed', 'sealing', 'seam', 'seamless', 'seams', 'seapak', 'sear', 'search', 'searching', 'seared', 'searing', 'seashell', 'seaside', 'season', 'seasonal', 'seasonally', 'seasoned', 'seasoning', 'seasonings', 'seasons', 'seat', 'seattle', 'seaweed', 'sec', 'seca', 'secco', 'seckel', 'seckle', 'seco', 'second', 'secondary', 'seconds', 'secret', 'secrets', 'sectio', 'section', 'sectioned', 'sections', 'secure', 'secured', 'securely', 'securing', 'sedaris', 'sediment', 'see', 'seed', 'seeded', 'seedless', 'seedlings', 'seedpods', 'seeds', 'seedy', 'seeeded', 'seek', 'seekers', 'seelect', 'seeled', 'seem', 'seems', 'segment', 'segmented', 'segments', 'seitan', 'sel', 'select', 'selected', 'selection', 'selections', 'selecto', 'self', 'sell', 'seller', 'sells', 'seltzer', 'semi', 'semiaged', 'semiboneless', 'semicircles', 'semidried', 'semidry', 'semifreddo', 'semipearled', 'semiripe', 'semiseet', 'semisoft', 'semisweet', 'semolina', 'semolino', 'sen', 'sencha', 'sendai', 'senna', 'sensations', 'sense', 'sensitive', 'sent', 'separate', 'separated', 'separately', 'separator', 'seperated', 'seppie', 'seraring', 'sercial', 'serena', 'serendipity', 'seresin', 'serious', 'seriously', 'serpent', 'serpentini', 'serrano', 'serranos', 'serrated', 'serrrano', 'serve', 'served', 'servered', 'service', 'serviceberries', 'serving', 'servings', 'servintg', 'sesame', 'sespe', 'set', 'sets', 'setting', 'settle', 'settled', 'sev', 'seven', 'sevens', 'several', 'severe', 'seville', 'seviyan', 'sevruga', 'sfq', 'shaarya', 'shabu', 'shad', 'shade', 'shades', 'shado', 'shadow', 'shagbark', 'shahi', 'shake', 'shaken', 'shaker', 'shakers', 'shakes', 'shaking', 'shakka', 'shall', 'shallot', 'shallots', 'shallow', 'shame', 'shandong', 'shanghai', 'shanghainese', 'shank', 'shankless', 'shanks', 'shannon', 'shanton', 'shao', 'shaohsing', 'shaoshing', 'shaosing', 'shaoxing', 'shape', 'shaped', 'shaped_coeur', 'shapes', 'shaping', 'shards', 'sharffen', 'shari', 'shark', 'sharlyn', 'sharp', 'sharpened', 'sharpest', 'sharpness', 'shasha', 'shave', 'shaved', 'shaven', 'shaver', 'shaving', 'shavings', 'shavingw', 'shawarma', 'shears', 'sheath', 'sheba', 'shed', 'sheep', 'sheepherding', 'sheeps', 'sheepshead', 'sheer', 'sheet', 'sheets', 'sheiks', 'shelburne', 'shelby', 'shelf', 'shell', 'shelled', 'shellfish', 'shelling', 'shells', 'shemeji', 'shenandoah', 'shephard', 'shepherd', 'sherbert', 'sherbet', 'sherry', 'shi', 'shichimi', 'shield', 'shigoku', 'shiitake', 'shiitakes', 'shiitaké', 'shilling', 'shimeji', 'shimmery', 'shims', 'shiméji', 'shin', 'shinbone', 'shine', 'shiner', 'shingles', 'shingo', 'shins', 'shinshu', 'shiny', 'ship', 'shipped', 'shipping', 'shir', 'shiracca', 'shirakiku', 'shirataki', 'shiraz', 'shiro', 'shishito', 'shiso', 'shitake', 'shitakes', 'shittake', 'shlivovitz', 'shoa', 'shoaxing', 'shochu', 'shock', 'shocked', 'shoe', 'shoepeg', 'shoestring', 'shoestrings', 'shoga', 'shoot', 'shoots', 'shop', 'shopped', 'shopping', 'shops', 'shopsmart', 'shore', 'short', 'shortbread', 'shortbreads', 'shortcake', 'shortcakes', 'shortcrust', 'shortcut', 'shortcuts', 'shorten', 'shortening', 'shorter', 'shortgrain', 'shortribs', 'shortway', 'shot', 'shots', 'shoulder', 'shoulders', 'shovel', 'shovels', 'show', 'shower', 'showing', 'shoyu', 'shreaded', 'shred', 'shredded', 'shredder', 'shredding', 'shreds', 'shrimp', 'shrimps', 'shrimpshells', 'shrink', 'shriracha', 'shropshire', 'shrub', 'shrubb', 'shu', 'shucked', 'shumai', 'shungiku', 'shurley', 'shwarma', 'shy', 'siberian', 'sic', 'sichimi', 'sichuan', 'sicilia', 'sicilian', 'siciliano', 'side', 'sided', 'sides', 'sidra', 'sierra', 'sieve', 'sieved', 'siew', 'sift', 'sifted', 'sifter', 'sifting', 'sign', 'signature', 'silan', 'silicone', 'silk', 'silked', 'silken', 'silks', 'silky', 'silly', 'silpain', 'silpat', 'silpats', 'silvana', 'silver', 'silverbeet', 'silvered', 'silverside', 'silverskin', 'silverware', 'similar', 'similarly', 'simmer', 'simmered', 'simmering', 'simple', 'simplest', 'simplot', 'simply', 'simplynature', 'simulation', 'simón', 'sin', 'since', 'sinew', 'sinews', 'sing', 'singed', 'singing', 'single', 'singles', 'sini', 'siphon', 'sipping', 'sir', 'siracha', 'sirah', 'sirena', 'sirloin', 'sirloins', 'sirop', 'sister', 'sit', 'site', 'sites', 'sits', 'situations', 'siu', 'six', 'sixounce', 'sixteen', 'sixths', 'sixty', 'size', 'sized', 'sizes', 'skane', 'skate', 'skeins', 'skeletons', 'skewed', 'skewer', 'skewered', 'skewering', 'skewers', 'ski', 'skillet', 'skillets', 'skim', 'skimmed', 'skimmer', 'skimmings', 'skin', 'skinless', 'skinned', 'skinny', 'skins', 'skinsv', 'skip', 'skipped', 'skipping', 'skippy', 'skirt', 'skirts', 'skittles', 'skor', 'skordalia', 'sky', 'skyline', 'skymeals', 'skyy', 'slab', 'slabs', 'slacken', 'slaked', 'slant', 'slanting', 'slap', 'slashes', 'slashing', 'slat', 'slate', 'slather', 'slathering', 'slaughtered', 'slaw', 'sleeve', 'sleeves', 'slender', 'slice', 'sliceable', 'sliced', 'slicer', 'slices', 'slicied', 'slicing', 'slide', 'slided', 'slider', 'sliders', 'slight', 'slightly', 'slim', 'slimy', 'slipped', 'slipper', 'slippery', 'slit', 'slits', 'sliver', 'slivered', 'slivers', 'slivovitz', 'slivowitz', 'sloe', 'sloping', 'sloppy', 'slotted', 'slow', 'slowly', 'slump', 'slurry', 'slush', 'slushes', 'smack', 'smacks', 'small', 'smaller', 'smallest', 'smallish', 'smart', 'smarter', 'smarties', 'smash', 'smashed', 'smeared', 'smearing', 'smell', 'smells', 'smelt', 'smelts', 'smen', 'smh', 'smidgen', 'smirnoff', 'smith', 'smithfield', 'smiths', 'smoke', 'smoked', 'smokehaus', 'smokehouse', 'smoker', 'smokes', 'smokey', 'smokie', 'smokier', 'smokies', 'smokin', 'smokiness', 'smoking', 'smokra', 'smoky', 'smooth', 'smoothed', 'smoothes', 'smoothie', 'smoothies', 'smoothly', 'smother', 'smothered', 'smucker', 'smuckers', 'smyrna', 'snack', 'snacks', 'snags', 'snail', 'snails', 'snake', 'snakehead', 'snakeroot', 'snakes', 'snap', 'snapped', 'snapper', 'snappers', 'snapping', 'snapple', 'snappper', 'snappy', 'snaps', 'snatching', 'snicker', 'snickerdoodle', 'snickers', 'snip', 'snipped', 'snippets', 'snipping', 'snips', 'sno', 'snook', 'snout', 'snow', 'snowball', 'snowdrop', 'snowflake', 'snowman', 'snowpea', 'snowpeas', 'snowy', 'snyder', 'soak', 'soaked', 'soaking', 'soaks', 'soave', 'soba', 'sobrasada', 'sochu', 'social', 'société', 'sockeye', 'soda', 'sode', 'sodium', 'sofia', 'sofra', 'sofrito', 'soft', 'softasilk', 'softball', 'soften', 'softened', 'softenend', 'softer', 'softly', 'softshell', 'soggy', 'soho', 'soi', 'soju', 'solar', 'sold', 'soldier', 'soldiers', 'sole', 'solera', 'soles', 'solid', 'solidified', 'solidify', 'solidly', 'solidpack', 'solids', 'solo', 'solomonov', 'soluble', 'solution', 'sombra', 'somen', 'something', 'sometimes', 'somewhat', 'somewhere', 'son', 'sonoma', 'sons', 'soochong', 'sooji', 'sooks', 'soom', 'soon', 'sop', 'sopa', 'sopes', 'sopping', 'soppresata', 'soppresatta', 'soppressata', 'soprafina', 'soprasata', 'soprassata', 'sopresatta', 'sopressata', 'sorbet', 'sorbets', 'sorbetto', 'sorbitol', 'sorghum', 'sorrel', 'sorrento', 'sort', 'sorted', 'sortilège', 'sorts', 'sosa', 'sottocenare', 'sottocenere', 'soubise', 'souchang', 'souchong', 'souffle', 'souffles', 'soufflé', 'souflle', 'soul', 'sound', 'sounds', 'soup', 'soups', 'soupspoon', 'soupspoons', 'soupy', 'sour', 'sourball', 'source', 'sources', 'sourdough', 'soured', 'sours', 'soursop', 'sourwood', 'sous', 'south', 'southeast', 'southern', 'southside', 'southwest', 'southwestern', 'souvlaki', 'soy', 'soya', 'soybean', 'soybeans', 'soymilk', 'sozan', 'spa', 'space', 'spaetzle', 'spaetzlemaker', 'spagettini', 'spaghetti', 'spaghettini', 'spagna', 'spago', 'spain', 'spam', 'spamcetta', 'spamrizo', 'spanish', 'spanishtable', 'spare', 'spareribs', 'sparingly', 'sparking', 'sparkle', 'sparkler', 'sparkling', 'sparkly', 'spartan', 'spash', 'spatchcock', 'spatchcocked', 'spatlese', 'spatula', 'spatulas', 'spatzle', 'speak', 'spear', 'spearmint', 'spears', 'special', 'speciality', 'specially', 'specials', 'specialties', 'specialty', 'species', 'specific', 'specified', 'speck', 'speckled', 'specs', 'spectrum', 'spectrumorganics', 'speculoos', 'speed', 'speedway', 'speedy', 'spell', 'spelt', 'spent', 'spezzatino', 'sphere', 'spheres', 'spherical', 'spherification', 'spice', 'spicebarn', 'spiced', 'spices', 'spicier', 'spiciness', 'spicy', 'spider', 'spiders', 'spidini', 'spiedie', 'spies', 'spike', 'spiked', 'spikes', 'spiking', 'spilt', 'spin', 'spinach', 'spinachspaetzle', 'spinaci', 'spine', 'spines', 'spinich', 'spinner', 'spiny', 'spiral', 'spiraled', 'spiralized', 'spirals', 'spire', 'spirit', 'spirited', 'spirits', 'spiru', 'spirulina', 'spit', 'splash', 'splashes', 'splenda', 'split', 'spoil', 'sponge', 'spongecake', 'sponged', 'spongy', 'spontaneity', 'spookie', 'spoon', 'spoonable', 'spoonechocolated', 'spooned', 'spoonful', 'spoonfuls', 'spoons', 'sport', 'sports', 'spot', 'spots', 'spotted', 'spotty', 'spout', 'spouts', 'spray', 'sprayc', 'sprayed', 'spraying', 'sprays', 'spread', 'spreadable', 'spreadables', 'spreading', 'spree', 'sprig', 'sprightly', 'sprigs', 'spring', 'springform', 'springroll', 'springs', 'springwater', 'sprinking', 'sprinkle', 'sprinkled', 'sprinkles', 'sprinkling', 'sprite', 'spritz', 'spritzed', 'spritzer', 'spritzing', 'sprout', 'sprouted', 'sprouting', 'sprouts', 'spuds', 'spumante', 'spumanti', 'spun', 'spy', 'sqeezed', 'squab', 'squabs', 'squacquerone', 'square', 'squared', 'squares', 'squash', 'squashed', 'squashes', 'squat', 'squeezable', 'squeeze', 'squeezed', 'squeezes', 'squeezing', 'squezed', 'squid', 'squidge', 'squidges', 'squids', 'squirrelfish', 'squirrelly', 'squirrels', 'squirt', 'squirting', 'squirts', 'squish', 'squishable', 'sri', 'sriacha', 'sriracha', 'srirachi', 'ssticks', 'ssupermarkets', 'ssäm', 'ssämjang', 'st', 'stabilize', 'stabilizer', 'stabilizers', 'stabilizing', 'stable', 'staccotisso', 'stack', 'stackable', 'stacked', 'stackers', 'stacks', 'stacy', 'stage', 'stainless', 'staked', 'stale', 'staled', 'stalk', 'stalks', 'stalky', 'stamen', 'stamens', 'stamp', 'stamping', 'stamps', 'stand', 'standard', 'standing', 'stands', 'star', 'starbucks', 'starburst', 'starbursts', 'starch', 'starchiness', 'starchy', 'starfruit', 'starkist', 'starlight', 'starr', 'stars', 'start', 'started', 'starter', 'starters', 'starting', 'state', 'states', 'stay', 'staybrite', 'stayman', 'steady', 'steak', 'steaked', 'steakhouse', 'steakhunter', 'steaks', 'steaky', 'steal', 'steam', 'steamcrisp', 'steamed', 'steamer', 'steamers', 'steamfresh', 'steaming', 'steel', 'steelhead', 'steels', 'steen', 'steep', 'steeped', 'steeping', 'steer', 'stella', 'stellini', 'stem', 'stemed', 'stemmed', 'stems', 'stencil', 'stenciling', 'stencils', 'step', 'stephanie', 'sterile', 'sterilized', 'sterling', 'sternum', 'steve', 'stevia', 'stew', 'stewed', 'stewing', 'stews', 'stick', 'sticker', 'stickers', 'stickiness', 'sticking', 'sticklike', 'sticks', 'sticky', 'stiff', 'stiffer', 'stiffly', 'stifly', 'still', 'stilton', 'stinging', 'stinky', 'stir', 'stirred', 'stirrer', 'stirrers', 'stirring', 'stirrings', 'stix', 'stoc', 'stocca', 'stock', 'stocked', 'stockers', 'stockfish', 'stockpot', 'stockpots', 'stocks', 'stolen', 'stoli', 'stolichnaya', 'stomach', 'stone', 'stoned', 'stonefruit', 'stoneground', 'stonemill', 'stones', 'stonewall', 'stonyfield', 'stop', 'storage', 'store', 'storebought', 'stored', 'stores', 'storing', 'stormy', 'stouffers', 'stout', 'stoutbeer', 'stove', 'stovetop', 'straccetti', 'stracchino', 'stracciatella', 'straciatella', 'straight', 'strain', 'strained', 'strainer', 'strainers', 'straining', 'strand', 'strands', 'strap', 'strasbourg', 'strauss', 'straw', 'strawberries', 'strawberry', 'straws', 'stray', 'streaky', 'stream', 'streamers', 'streaming', 'street', 'strega', 'strength', 'strengths', 'stretched', 'stretcher', 'stretching', 'streusel', 'strictly', 'strike', 'string', 'stringed', 'stringless', 'strings', 'stringy', 'strip', 'stripe', 'striped', 'striper', 'stripes', 'striploin', 'stripped', 'stripping', 'strips', 'stroganoff', 'stroke', 'strong', 'strongbow', 'stronger', 'strongly', 'strozzapreti', 'strozzopretti', 'strudel', 'strudels', 'struffoli', 'strung', 'stubb', 'stubbs', 'stuck', 'studded', 'studding', 'studs', 'stuf', 'stuff', 'stuffed', 'stuffer', 'stuffin', 'stuffing', 'stumps', 'stumptown', 'sturdily', 'sturdy', 'sturgeon', 'stutzman', 'style', 'stylebreadcrumbs', 'styled', 'styles', 'styrofoam', 'su', 'suagr', 'sub', 'submarine', 'submerge', 'submerged', 'subs', 'subsitiuted', 'substance', 'substitite', 'substitiute', 'substituded', 'substitute', 'substituted', 'substitutes', 'substitution', 'substitutions', 'subtle', 'sucanant', 'sucanat', 'success', 'successfully', 'succotash', 'suchi', 'suckers', 'suckin', 'sucking', 'suckling', 'sucralose', 'sucre', 'sucree', 'sucrie', 'sucrolose', 'sucrose', 'sucrée', 'sucuk', 'suet', 'sueu', 'sueur', 'suffice', 'sufficiently', 'suga', 'sugaar', 'sugar', 'sugarcane', 'sugarcoated', 'sugarcraft', 'sugared', 'sugaring', 'sugarless', 'sugarplum', 'sugars', 'sugartwin', 'sugarworks', 'sugei', 'suggest', 'suggested', 'suggestion', 'suggestions', 'suggests', 'sugo', 'sui', 'suisse', 'suit', 'suitable', 'suits', 'suji', 'sukhi', 'sukiyaki', 'sulfur', 'sulmitti', 'sultana', 'sultanas', 'sum', 'sumac', 'sumakh', 'summer', 'summersweet', 'summery', 'sun', 'sunburst', 'sunchoke', 'sunchokes', 'sundae', 'sundaes', 'sunday', 'sundried', 'suneli', 'sunflower', 'sung', 'sungold', 'sunny', 'sunnyd', 'sunomono', 'sunrise', 'sunset', 'sunshine', 'sunsweet', 'suntan', 'suntory', 'sup', 'super', 'superfine', 'superfino', 'superior', 'superiortouch', 'supermakets', 'supermarket', 'supermarkets', 'supermoist', 'superpremium', 'supersized', 'supersweet', 'supper', 'supplement', 'supplemented', 'supplier', 'suppliers', 'supplies', 'supply', 'support', 'supreme', 'supremed', 'supremes', 'supremo', 'suprêmes', 'sur', 'sure', 'surface', 'surfaces', 'surfing', 'surgical', 'suribachi', 'surimi', 'surlatable', 'surprise', 'surprising', 'surrounded', 'surrounding', 'surry', 'sushi', 'susie', 'sustainability', 'sustainable', 'sustainably', 'sutffed', 'sutter', 'sutton', 'suze', 'suzette', 'suzie', 'svedka', 'sw', 'swad', 'swai', 'swamp', 'swan', 'swans', 'swanson', 'swansons', 'swap', 'swatch', 'swaure', 'sweat', 'sweated', 'sweating', 'swedes', 'swedish', 'sweep', 'sweeping', 'sweet', 'sweetastic', 'sweetbread', 'sweetbreads', 'sweeten', 'sweetened', 'sweetener', 'sweetening', 'sweeter', 'sweetex', 'sweetgrass', 'sweetned', 'sweetner', 'sweetness', 'sweets', 'sweety', 'swimmer', 'swirl', 'swirled', 'swirling', 'swirls', 'swirly', 'swise', 'swiss', 'swissroll', 'switzerland', 'swivel', 'swizzle', 'swizzles', 'swordfish', 'swordlike', 'swords', 'sylvia', 'symmetrical', 'syphon', 'syrah', 'syrian', 'syrup', 'syrupepi', 'syrups', 'syrupy', 'sysco', 'szechuan', 'szechwan', 'szeged', 'szegedy', 'szu', 'taaka', 'tab', 'tabasco', 'tabb', 'tabbouleh', 'tabelspoon', 'tabil', 'table', 'tableapoons', 'tablebspoon', 'tablebspoons', 'tablecloth', 'tablepoon', 'tablepoons', 'tablepsoon', 'tablepsoons', 'tables', 'tablesalt', 'tablesepoon', 'tablesoon', 'tablesoons', 'tablesooon', 'tablespan', 'tablespons', 'tablespoon', 'tablespoona', 'tablespooncandied', 'tablespoonclarified', 'tablespoonfresh', 'tablespoonful', 'tablespoonfuls', 'tablespoonroom', 'tablespoons', 'tablespoonsbanana', 'tablespoonsbutter', 'tablespoonscanola', 'tablespoonsesame', 'tablespoonsfinely', 'tablespoonsgranulated', 'tablespoonsimple', 'tablespoonsketchup', 'tablespoonsmirin', 'tablespoonsn', 'tablespoonspine', 'tablespoonss', 'tablespoonssesame', 'tablespoonssorghum', 'tablespoonsunsalted', 'tablespooon', 'tablespooons', 'tablespoosn', 'tablet', 'tablets', 'tablspoon', 'tablspoons', 'tabs', 'tac', 'taco', 'tacos', 'tacs', 'tact', 'taffy', 'tagalongs', 'tagarin', 'taggascia', 'taggiasca', 'tagiatelle', 'tagine', 'tagliardi', 'tagliarelle', 'tagliarini', 'tagliatelle', 'tagliolini', 'tags', 'taha', 'tahdig', 'tahina', 'tahini', 'tahitian', 'tai', 'tail', 'tailed', 'tailgator', 'tails', 'taiwanese', 'taj', 'tajin', 'tajín', 'take', 'taken', 'takeout', 'takes', 'tako', 'takuan', 'talapia', 'talavera', 'taleggio', 'talk', 'tall', 'tallegio', 'tallman', 'tallow', 'tally', 'tam', 'tamal', 'tamale', 'tamales', 'tamari', 'tamarillo', 'tamarillos', 'tamarind', 'tamarinds', 'tamazula', 'tame', 'tamicon', 'tamis', 'tamp', 'tan', 'tandoori', 'tang', 'tangelo', 'tangelos', 'tangerine', 'tangerines', 'tangeringes', 'tango', 'tanguary', 'tangy', 'tank', 'tannic', 'tanqueray', 'tant', 'tap', 'tapanade', 'tapatio', 'tape', 'tapenade', 'tapered', 'tapestry', 'tapioca', 'tapped', 'taquitos', 'taragna', 'taragon', 'tarama', 'taramasalata', 'tarantulas', 'tarator', 'tarbais', 'tardio', 'tardivo', 'target', 'tarka', 'taro', 'taros', 'tarp', 'tarragon', 'tarro', 'tart', 'tartar', 'tartare', 'tartaric', 'tartelette', 'tarter', 'tartine', 'tartlet', 'tartlett', 'tartness', 'tarts', 'tartufo', 'tasajo', 'tasmania', 'tasmanian', 'tasse', 'tasso', 'tast', 'taste', 'tasted', 'tastefresh', 'tastefully', 'taster', 'tasters', 'tastes', 'tastier', 'tasting', 'tastings', 'tasty', 'tastykake', 'tat', 'tate', 'tater', 'tates', 'tatse', 'tatsoi', 'tatuma', 'tau', 'taupiniere', 'taurasi', 'tavern', 'tawa', 'tawny', 'taylor', 'taza', 'tazo', 'tb', 'tbls', 'tbps', 'tbs', 'tbsp', 'tbsps', 'tea', 'teaaspoon', 'teabag', 'teabags', 'teacher', 'teacups', 'teadpoons', 'teapoon', 'teapot', 'teapsoon', 'teapsoons', 'teaque', 'tear', 'teardrop', 'tearing', 'teas', 'teasoon', 'teasoons', 'teasopoon', 'teaspon', 'teasponns', 'teaspons', 'teaspoom', 'teaspoon', 'teaspoondijon', 'teaspooned', 'teaspoonfenugreek', 'teaspoonfreshly', 'teaspoonfuls', 'teaspoonj', 'teaspoons', 'teaspooon', 'teaspooons', 'teaspsoon', 'tecate', 'technically', 'technique', 'teddy', 'teeny', 'teeth', 'teff', 'teflon', 'tehina', 'tein', 'tejava', 'tel', 'teleme', 'telera', 'teleras', 'tellicherry', 'telme', 'temp', 'tempeh', 'temper', 'temperatur', 'temperature', 'temperatured', 'temperatures', 'tempere', 'tempered', 'tempering', 'template', 'templates', 'temple', 'temporarily', 'temptin', 'tempura', 'ten', 'tender', 'tenderflake', 'tenderized', 'tenderizer', 'tenderizing', 'tenderlions', 'tenderloin', 'tenderloins', 'tenderness', 'tenders', 'tendon', 'tendons', 'tendril', 'tendrils', 'tends', 'tenkasu', 'tennessee', 'tennet', 'tenneyson', 'tennis', 'tentacles', 'tenticles', 'teotitlán', 'teow', 'tepid', 'tequila', 'tequilla', 'teres', 'teriyaki', 'terlingua', 'terra', 'terracotta', 'terrasonoma', 'terrific', 'terrine', 'terry', 'tesoro', 'tespoon', 'test', 'testa', 'tester', 'testicles', 'testing', 'tetilla', 'tex', 'texas', 'texmati', 'texture', 'textured', 'textures', 'texturize', 'texturized', 'tg', 'tgi', 'th', 'thai', 'thailand', 'thanksgiving', 'thassos', 'thaw', 'thawed', 'thawedfrom', 'thawing', 'theatre', 'thebaking', 'theme', 'themed', 'therefore', 'thermidor', 'thermometer', 'thermos', 'thespicehouse', 'thick', 'thicken', 'thickened', 'thickener', 'thickeners', 'thickening', 'thicker', 'thickest', 'thickly', 'thickness', 'thickslices', 'thigh', 'thighbone', 'thighs', 'thily', 'thimble', 'thin', 'thing', 'things', 'think', 'thinluy', 'thinly', 'thinlysliced', 'thinned', 'thinner', 'thinnest', 'thinning', 'thins', 'third', 'thirds', 'thirty', 'thof', 'thomas', 'thompson', 'thoor', 'thorns', 'thorny', 'thoroughly', 'though', 'thoureads', 'thousand', 'thread', 'threaded', 'threadfin', 'threadlike', 'threads', 'three', 'throughly', 'throughout', 'throw', 'ths', 'thumb', 'thumbelina', 'thumbnail', 'thumbs', 'thyme', 'thymeepi', 'thymeor', 'thymes', 'ti', 'tia', 'tiamaria', 'tiare', 'tic', 'tidbits', 'tie', 'tied', 'tiedcornstarch', 'tienda', 'tiers', 'ties', 'tiga', 'tigadege', 'tiger', 'tight', 'tighten', 'tightly', 'tikka', 'til', 'tilapia', 'tilda', 'tile', 'tilefish', 'tiles', 'till', 'tillamook', 'tillen', 'tilt', 'timbale', 'timbales', 'time', 'timer', 'times', 'timmed', 'tin', 'tines', 'tinfoil', 'ting', 'tinkyada', 'tinned', 'tinny', 'tins', 'tinted', 'tinting', 'tinto', 'tiny', 'tio', 'tip', 'tiparos', 'tipo', 'tipped', 'tips', 'tiramisu', 'tiramisù', 'tire', 'tires', 'tissue', 'tissues', 'titanfood', 'tito', 'tk', 'tm', 'tma', 'toast', 'toasted', 'toastedcoarsely', 'toastedcooled', 'toastedepi', 'toastedin', 'toaster', 'toasting', 'toasts', 'toated', 'tobacco', 'toban', 'tobanjan', 'tobarashi', 'tobasco', 'tobbiko', 'tobiko', 'tobler', 'toblerone', 'today', 'todd', 'toe', 'toenjang', 'toes', 'toffee', 'tofu', 'tofutti', 'togarashi', 'togerashi', 'together', 'toi', 'tojolote', 'tokai', 'tokay', 'tokyo', 'tolerance', 'tolerant', 'toll', 'tollhouse', 'tolstoi', 'tom', 'tomahawk', 'tomalley', 'tomao', 'tomat', 'tomates', 'tomatillas', 'tomatillo', 'tomatillos', 'tomato', 'tomatoes', 'tomatos', 'tombstones', 'tomme', 'tommy', 'tomoatoes', 'tomolives', 'tomorrow', 'tomotillos', 'tomyo', 'ton', 'tonatto', 'tone', 'tones', 'tonette', 'toney', 'tong', 'tongs', 'tongue', 'tongues', 'tonic', 'tonka', 'tonkatsu', 'tonnarelli', 'tonnino', 'tony', 'toogarashi', 'tool', 'tools', 'toor', 'tooth', 'toothpick', 'toothpicks', 'tootsie', 'toovar', 'toover', 'top', 'topfen', 'topika', 'topiko', 'topneck', 'topped', 'topper', 'toppers', 'topping', 'toppings', 'tops', 'toraji', 'torani', 'torch', 'torched', 'torchon', 'torino', 'torn', 'tornup', 'toro', 'toros', 'torpedo', 'torre', 'torrentes', 'torrone', 'torrontes', 'torta', 'tortas', 'torte', 'tortelli', 'tortellini', 'tortelloni', 'tortiglioni', 'tortilla', 'tortillas', 'tortoni', 'tortue', 'tosaka', 'tosazu', 'toscano', 'toschi', 'toss', 'tossed', 'tossing', 'tossingg', 'tostada', 'tostadas', 'tostaditas', 'tostado', 'tostidos', 'tostito', 'tostitos', 'tostonera', 'total', 'totaling', 'totally', 'totani', 'totillas', 'tots', 'totsoi', 'touch', 'tough', 'toughest', 'toulouse', 'toum', 'tournedos', 'tournee', 'tourneed', 'towel', 'toweling', 'towels', 'town', 'townhouse', 'townline', 'townsend', 'toxic', 'trablit', 'trace', 'traces', 'track', 'trader', 'tradicional', 'trading', 'tradition', 'traditional', 'traditionally', 'tradizionale', 'tragacanth', 'trahana', 'trail', 'trang', 'trans', 'transfat', 'transfer', 'transfers', 'translation', 'translucent', 'transparent', 'trapani', 'trapping', 'trappist', 'traviso', 'tray', 'trays', 'treacle', 'treasure', 'treat', 'treated', 'treating', 'treats', 'trebbiano', 'tree', 'treetop', 'trefoil', 'tremblaye', 'tremor', 'trenette', 'trenne', 'tres', 'tresfoil', 'trevisano', 'treviso', 'tri', 'triangle', 'triangles', 'triangular', 'tribe', 'trick', 'tricked', 'tricolor', 'tricolored', 'tried', 'trifle', 'triggerfish', 'triglyceride', 'trigo', 'trillado', 'trim', 'trimmed', 'trimmedand', 'trimming', 'trimmings', 'trimolene', 'trimoline', 'trinidad', 'trinity', 'trio', 'trip', 'tripe', 'tripel', 'triple', 'triplesec', 'tripoline', 'tripolini', 'triscuit', 'triscuits', 'trisha', 'triticale', 'trockenbeerenauslese', 'trois', 'trompe', 'trompette', 'trompettes', 'tropea', 'tropical', 'tropicana', 'trotter', 'trotters', 'trouble', 'trout', 'true', 'truffle', 'truffled', 'truffles', 'truffleyaki', 'truly', 'trumpet', 'trumpets', 'trumps', 'trung', 'trungnguyen', 'trunks', 'truroots', 'trussed', 'trusted', 'truth', 'truvia', 'try', 'tsai', 'tsang', 'tsatsiki', 'tsp', 'tsps', 'tteok', 'tuaca', 'tub', 'tubatini', 'tube', 'tubers', 'tubes', 'tubetini', 'tubetinni', 'tubetti', 'tubettini', 'tubs', 'tubular', 'tuck', 'tuckaway', 'tucked', 'tuile', 'tuiles', 'tulip', 'tulips', 'tumbler', 'tumeric', 'tuna', 'tune', 'tung', 'tunisian', 'tuong', 'tupelo', 'tupperware', 'tur', 'turban', 'turbinado', 'turbinando', 'turbodog', 'turbot', 'turducken', 'tureen', 'turkey', 'turkeys', 'turkish', 'turmeric', 'turn', 'turned', 'turning', 'turnip', 'turnips', 'turnover', 'turnovers', 'turnpike', 'turns', 'turntable', 'turtle', 'tuscan', 'tuscany', 'tutto', 'tuttopan', 'tuttorosso', 'tuvar', 'tvp', 'tweezers', 'twelve', 'twenty', 'twice', 'twig', 'twigs', 'twin', 'twine', 'twining', 'twinkies', 'twist', 'twisted', 'twisting', 'twists', 'twix', 'twizzler', 'twizzlers', 'two', 'tying', 'tyj', 'type', 'types', 'typically', 'tyson', 'tzatziki', 'tìa', 'tía', 'tõgarashi', 'ube', 'udi', 'udon', 'ugy__', 'uhr', 'uhu', 'uk', 'ukranian', 'uku', 'ulek', 'ultimate', 'ultimates', 'ultra', 'ultracreamy', 'ultragrain', 'ultrapasteurized', 'ultratex', 'ultrathin', 'umbels', 'umbrella', 'umbrellas', 'umbrian', 'ume', 'umeboshi', 'un', 'una', 'unable', 'unaged', 'unagi', 'unappetizing', 'unavailable', 'unbaked', 'unbeaten', 'unblanched', 'unbleached', 'unblemished', 'unbroken', 'unbromated', 'uncertain', 'unchopped', 'uncle', 'uncleaned', 'uncoated', 'unconverted', 'uncooked', 'uncored', 'uncovered', 'uncracked', 'uncured', 'uncut', 'undamaged', 'undecorated', 'undercooked', 'underripe', 'undiluted', 'undrained', 'undyed', 'uneeda', 'unenriched', 'uneven', 'unexpected', 'unfilled', 'unfiltered', 'unflavored', 'unfold', 'unfolded', 'unfrosted', 'unglazed', 'ungreased', 'unheated', 'unhulled', 'unhusked', 'unhydrogenated', 'uni', 'uniform', 'uniformly', 'uniq', 'unique', 'united', 'units', 'univer', 'unless', 'unlike', 'unmelted', 'unmolded', 'unmolding', 'unopened', 'unpacked', 'unpasteurized', 'unpeeled', 'unpicked', 'unpitted', 'unpopped', 'unprepared', 'unprocessed', 'unrefined', 'unrinsed', 'unripe', 'unripened', 'unrisen', 'unroasted', 'unroll', 'unrolled', 'unsalted', 'unscaled', 'unscented', 'unseasoned', 'unseeded', 'unseparated', 'unsettling', 'unshelled', 'unshucked', 'unsifted', 'unskinned', 'unsliced', 'unsmoked', 'unsoaked', 'unsplit', 'unsprayed', 'unssalted', 'unstuffed', 'unsulfered', 'unsulfured', 'unsulphered', 'unsulphured', 'unsweeted', 'unsweetend', 'unsweetened', 'untempered', 'unthawed', 'untied', 'untoasted', 'untorn', 'untreated', 'untrimmed', 'unused', 'unusual', 'unwanted', 'unwashed', 'unwaxed', 'unwrap', 'unwrapped', 'unwrinkled', 'unzested', 'upholstery', 'upland', 'uplandscheese', 'upon', 'upper', 'upright', 'ups', 'upscale', 'upside', 'uptown', 'urad', 'urbani', 'urchin', 'urchins', 'urfa', 'us', 'usable', 'usda', 'use', 'used', 'uses', 'using', 'usingers', 'usli', 'uster', 'usually', 'usukuchi', 'utah', 'utensils', 'utes', 'utility', 'utskho', 'utz', 'uv', 'uwajimaya', 'vaca', 'vaccuum', 'vacherin', 'vacu', 'vacuum', 'vadouvan', 'vahlrohna', 'vahlrona', 'val', 'valdeon', 'valdeón', 'valencay', 'valencia', 'valenciana', 'valentina', 'valentine', 'valerian', 'valhrona', 'vali', 'valle', 'valley', 'valor', 'valpolicella', 'valrhona', 'valrohna', 'value', 'vampire', 'van', 'vandermint', 'vanil', 'vanilla', 'vanille', 'varenikes', 'vareniki', 'vareniky', 'varenyky', 'variant', 'variation', 'variations', 'variegated', 'varies', 'varietal', 'varietals', 'varieties', 'variety', 'various', 'vark', 'vary', 'varying', 'vase', 'vaseline', 'vases', 'vasterbotten', 'vaurenwurst', 'vay', 'veal', 'veau', 'veaukosher', 'vecchio', 'veev', 'veg', 'vega', 'vegan', 'veganaise', 'vegannaise', 'vegata', 'vegemite', 'vegenaise', 'vegesal', 'vegeta', 'vegetable', 'vegetables', 'vegetarian', 'veggie', 'veggies', 'vegi', 'vegoladas', 'vein', 'veined', 'veins', 'veiny', 'veloute', 'velouté', 'veltliner', 'velveeta', 'velvet', 'velveta', 'velvety', 'venda', 'vendor', 'venezuelan', 'venice', 'venise', 'venison', 'venom', 'vent', 'ventreche', 'ventresca', 'ventrèche', 'venus', 'ver', 'vera', 'veracruz', 'verbena', 'verde', 'verdejo', 'verdelho', 'verdes', 'verdicchio', 'verges', 'verify', 'verjuice', 'verjus', 'vermentino', 'vermicelli', 'vermont', 'vermoth', 'vermouth', 'vernis', 'vernors', 'vero', 'verona', 'veronese', 'versa', 'versawhip', 'version', 'vert', 'verte', 'vertical', 'vertically', 'verts', 'vessel', 'vessels', 'vezzena', 'vh', 'via', 'vial', 'vialone', 'viande', 'vibrant', 'vic', 'vichy', 'victor', 'victoria', 'victorias', 'vidahlia', 'vidal', 'vidalia', 'vidalias', 'vidallia', 'vide', 'vie', 'vienna', 'viennese', 'vietnamese', 'vietti', 'vieux', 'vigin', 'vignettes', 'vigo', 'vigorously', 'vikos', 'village', 'vin', 'vinagre', 'vinagreta', 'vinagrette', 'vinaigrette', 'vinci', 'vincotto', 'vindaloo', 'vine', 'vineagar', 'vined', 'vinegar', 'vinegared', 'vinegary', 'vinegrar', 'vinegrette', 'vineripe', 'vineripened', 'vines', 'vineyard', 'vingear', 'vinho', 'vinigar', 'vino', 'vintage', 'vintners', 'viognier', 'violas', 'violet', 'violets', 'violette', 'virgin', 'virginia', 'virginiatraditions', 'virigin', 'viscera', 'visible', 'visit', 'vita', 'vital', 'vitalicious', 'vitamin', 'vitaminutes', 'vitamix', 'vitar', 'vitatops', 'viura', 'vivi', 'vlahotyri', 'vlasic', 'vmh', 'vodka', 'vol', 'vollrath', 'volta', 'volume', 'vongole', 'voodoo', 'vosges', 'voskos', 'vs', 'vsop', 'vya', 'västerbotten', 'waan', 'wabo', 'wadi', 'wadmalaw', 'wafer', 'wafers', 'waffle', 'waffles', 'wages', 'wagon', 'wagyu', 'wah', 'wahoo', 'waipio', 'wait', 'waiting', 'wakame', 'walden', 'walker', 'walkers', 'walkerswood', 'wall', 'walla', 'walled', 'wallet', 'walleye', 'walnut', 'walnuts', 'wan', 'wand', 'wangs', 'want', 'wants', 'war', 'warabi', 'warm', 'warmed', 'warmer', 'warming', 'warn', 'warqa', 'warrensburg', 'warrior', 'wasa', 'wasabe', 'wasabi', 'wasatch', 'wasbi', 'wash', 'washcloths', 'washed', 'washing', 'washington', 'waste', 'watch', 'watchers', 'watching', 'water', 'watercolor', 'watercress', 'waterlogged', 'watermelon', 'watermelons', 'waterpacked', 'waterproof', 'waters', 'watery', 'watkins', 'watrecress', 'watson', 'waves', 'wavy', 'wax', 'waxed', 'waxy', 'way', 'wayne', 'ways', 'weak', 'weakfish', 'wear', 'wearing', 'weave', 'weaver', 'web', 'webbing', 'weber', 'weblike', 'webstaurantstore', 'wedding', 'wedge', 'wedged', 'wedges', 'wedgesfor', 'wee', 'weed', 'weeds', 'week', 'weeks', 'weelicious', 'weenies', 'weeny', 'wegmans', 'wehani', 'wehlener', 'weigh', 'weighed', 'weighing', 'weighs', 'weight', 'weighted', 'weighting', 'weights', 'weiner', 'weiners', 'weird', 'weisenberger', 'weisenbergers', 'weisswurst', 'weke', 'welch', 'welfare', 'well', 'wellfleet', 'wells', 'wensleydale', 'wernesgruner', 'werther', 'wesson', 'west', 'western', 'westphalian', 'wet', 'whack', 'whacked', 'whale', 'whatever', 'wheat', 'wheatberries', 'wheatberry', 'wheatgrass', 'wheaties', 'wheatmeal', 'wheats', 'wheel', 'wheels', 'wherever', 'whether', 'whey', 'whichever', 'whip', 'whipped', 'whipping', 'whips', 'whirlfloc', 'whisk', 'whisked', 'whiskey', 'whisking', 'whisky', 'whisper', 'whit', 'white', 'whitebase', 'whitefish', 'whitelily', 'whitener', 'whites', 'whitestriped', 'whitewater', 'whitewine', 'whiting', 'whittled', 'whiz', 'whlpping', 'whole', 'wholechicken', 'wholegrain', 'wholemeal', 'wholemilk', 'wholesome', 'wholespice', 'wholewheat', 'wholle', 'wholly', 'whoopie', 'whoppers', 'wick', 'wicked', 'wickedgoodcharcoal', 'wickham', 'wide', 'widefat', 'widely', 'wider', 'width', 'widths', 'widthwise', 'wiener', 'wieners', 'wienies', 'wiht', 'wilco', 'wild', 'wildfire', 'wildflower', 'wildflowers', 'willamette', 'william', 'williams', 'williamsburg', 'willie', 'willingham', 'willy', 'wilson', 'wilsons', 'wilted', 'wilting', 'wilton', 'wimpy', 'wine', 'wineglass', 'wines', 'winesap', 'winesaps', 'winevinegar', 'wing', 'wingettes', 'wings', 'wingtips', 'wining', 'winning', 'winter', 'wintergreen', 'wip', 'wipe', 'wiped', 'wiping', 'wire', 'wired', 'wisconsin', 'wise', 'wish', 'wishbone', 'wispy', 'witch', 'withered', 'within', 'withjuice', 'without', 'withstand', 'witlofs', 'wok', 'wolf', 'wolfberries', 'wolffer', 'wonder', 'wonderful', 'wonderfully', 'wonders', 'wondra', 'wong', 'wonton', 'wontons', 'wood', 'woodchuck', 'woodcock', 'woodear', 'wooded', 'wooden', 'woodford', 'woodiest', 'woodruff', 'woods', 'woodsy', 'woody', 'woodyard', 'worcestershire', 'worcestershirek', 'worchershire', 'worchester', 'worchestershire', 'worecestershire', 'work', 'worked', 'working', 'works', 'worksurface', 'world', 'worldclass', 'worm', 'worms', 'wormwood', 'worstershire', 'worth', 'would', 'woven', 'wrap', 'wrapped', 'wrapper', 'wrappers', 'wrapping', 'wraps', 'wray', 'wreckfish', 'wright', 'wrinkled', 'writer', 'writing', 'wrote', 'wrung', 'wt', 'wursts', 'wuwei', 'wuyi', 'www', 'wyeast', 'xadbought', 'xadinch', 'xadincluding', 'xadraised', 'xadsized', 'xadvirgin', 'xantham', 'xanthan', 'xanthum', 'xeres', 'ximenez', 'ximénez', 'xinch', 'xing', 'xiong', 'xo', 'xochitl', 'xocolatl', 'xtabentún', 'xuxu', 'xx', 'xylitol', 'ya', 'yabbies', 'yacon', 'yakari', 'yaki', 'yakidofu', 'yakinori', 'yakisoba', 'yam', 'yamasa', 'yamazaki', 'yams', 'yard', 'yards', 'yarrow', 'yautia', 'yautía', 'yazzo', 'year', 'yearling', 'years', 'yearwood', 'yeast', 'yeasts', 'yeasty', 'yee', 'yeild', 'yeilding', 'yellow', 'yellowedge', 'yellowfin', 'yellowfoot', 'yellowish', 'yellows', 'yellowtail', 'yen', 'yerba', 'yes', 'yet', 'yete', 'yia', 'yieh', 'yield', 'yielding', 'yields', 'yodel', 'yoghurt', 'yogi', 'yogurt', 'yok', 'yoke', 'yokes', 'yol', 'yolk', 'yolks', 'yoplait', 'york', 'yorkshire', 'youdon', 'young', 'youprefer', 'yu', 'yuba', 'yuca', 'yucas', 'yucatan', 'yucatecan', 'yucca', 'yucon', 'yuen', 'yuengling', 'yufka', 'yuka', 'yukon', 'yukons', 'yum', 'yummy', 'yuzo', 'yuzu', 'yuzupassion', 'yves', 'za', 'zaanse', 'zaatar', 'zabaglione', 'zacapa', 'zahter', 'zambra', 'zamora', 'zang', 'zanshõ', 'zante', 'zapallo', 'zapper', 'zarame', 'zarda', 'zatar', 'zatarain', 'zatarains', 'zatarian', 'zaâtar', 'zealand', 'zebra', 'zebras', 'zen', 'zentini', 'zereshk', 'zergüt', 'zero', 'zes', 'zest', 'zested', 'zestepi', 'zester', 'zesting', 'zests', 'zestthy', 'zesty', 'zhoug', 'zibibbo', 'zico', 'zin', 'zinfandel', 'zinfindel', 'zing', 'zinger', 'zingermans', 'zings', 'zip', 'ziti', 'zombie', 'zone', 'zoo', 'zubrowka', 'zucchini', 'zucchinis', 'zuchinni', 'zutano', 'zweiback', 'zwieback', 'ángel', 'árbol', 'ème', 'épices', 'éspices', 'ñame', 'ño', 'úa', 'źrbol', 'ﬁne', 'ﬁnely', 'ﬂour']\n"
     ]
    }
   ],
   "source": [
    "#only work with merged ingredients dataset (from all 3 sources) for now\n",
    "corpus = data_ingr\n",
    "ct_vectorizer = CountVectorizer(stop_words=stopwords_nltk)\n",
    "\n",
    "ingr_ct = ct_vectorizer.fit_transform(corpus)\n",
    "print(ct_vectorizer.get_feature_names())"
   ]
  },
  {
   "cell_type": "markdown",
   "metadata": {},
   "source": [
    "### Vectorize - TF-IDF\n",
    "might work better, because want to choose words \"unique\" to this document\n",
    "\n",
    "TF-IDF = (Term Frequency) * (Inverse Document Frequency)\n",
    "\n",
    "(how often word occurs in this doc) * inverse of (how often this word occurs in all documents)"
   ]
  },
  {
   "cell_type": "code",
   "execution_count": 37,
   "metadata": {
    "ExecuteTime": {
     "end_time": "2019-11-14T06:29:57.861659Z",
     "start_time": "2019-11-14T06:29:49.036013Z"
    }
   },
   "outputs": [
    {
     "name": "stdout",
     "output_type": "stream",
     "text": [
      "['_about', '_gravié_ra', '_hoong', 'aa', 'aalborg', 'aale', 'aaron', 'aarons', 'aarti', 'aattachment', 'ab', 'abalone', 'abasco', 'abbaye', 'abita', 'able', 'abondance', 'aborio', 'aborrio', 'abruzzese', 'abruzzo', 'absente', 'absinth', 'absinthe', 'absolut', 'absolute', 'absolutely', 'absorb', 'abuelita', 'abura', 'aburaage', 'aburage', 'abut', 'ac', 'acacia', 'acado', 'acai', 'accent', 'accents', 'acceptable', 'accepted', 'access', 'accommodate', 'accompanied', 'accompaniment', 'accompaniments', 'accompany', 'accompanying', 'accordian', 'according', 'accordingly', 'accordion', 'accuracy', 'accurately', 'acerola', 'acetate', 'aceto', 'achieve', 'achilleos', 'achiote', 'achoite', 'acholado', 'acid', 'acidic', 'acidity', 'acidophilus', 'acids', 'acidulated', 'acini', 'acitron', 'ackee', 'ackees', 'acommpaniment', 'acorn', 'acorns', 'acquello', 'across', 'acrylic', 'act', 'acting', 'activa', 'activate', 'activated', 'active', 'activedry', 'acto', 'acts', 'actually', 'adam', 'adams', 'add', 'added', 'adding', 'addition', 'additional', 'additions', 'additives', 'adds', 'adductor', 'ade', 'adhesive', 'adige', 'adjoining', 'adjust', 'adjustable', 'adjusted', 'adjusting', 'adjustments', 'adobe', 'adobo', 'adorning', 'adovada', 'adriana', 'adrianascaravan', 'aduki', 'adult', 'adults', 'advance', 'adventurous', 'advieh', 'advise', 'advocaat', 'adzuki', 'aejado', 'aerated', 'aerosol', 'affect', 'affinois', 'affixed', 'afford', 'affordable', 'affumicata', 'african', 'africantradingco', 'afterglow', 'afterwards', 'agar', 'agave', 'age', 'aged', 'agent', 'agents', 'aggressively', 'agitated', 'aglianico', 'agnolotti', 'agria', 'agricole', 'agridulce', 'agrodolce', 'agruadiente', 'agrumato', 'agua', 'aguardiente', 'agur', 'ahead', 'ahi', 'aid', 'aidell', 'aidells', 'ail', 'ailoi', 'aioli', 'air', 'airhead', 'airheads', 'airline', 'airplane', 'airtight', 'aisle', 'aisles', 'aitchbone', 'aj', 'ajawain', 'ajawin', 'aje', 'aji', 'ajices', 'ajicitos', 'ajies', 'ajika', 'ajinomoto', 'ajishio', 'ajo', 'ajowan', 'ajvar', 'ajwain', 'ajì', 'ají', 'ajíes', 'ajíí', 'aka', 'akawi', 'akazu', 'akika', 'akkawi', 'al', 'alabama', 'aladdin', 'alae', 'alaea', 'alamang', 'alarm', 'alaska', 'alaskan', 'alba', 'albacore', 'albareino', 'albarino', 'albariño', 'albemarle', 'albert', 'albumen', 'alcaparrado', 'alcohol', 'alcoholic', 'alcoholized', 'alden', 'alder', 'alderwood', 'ale', 'aleppo', 'alesmith', 'alessi', 'alex', 'alexander', 'alexia', 'alfafa', 'alfalfa', 'alfonse', 'alfonso', 'alfredo', 'algae', 'alginate', 'alici', 'aligot', 'alioli', 'alize', 'alizé', 'alkalized', 'alla', 'allepo', 'allergies', 'allergy', 'alligator', 'allnatural', 'allow', 'allowance', 'allowed', 'allows', 'allpurpose', 'allspic', 'allspice', 'allspiced', 'allspiece', 'allumette', 'allwhites', 'almandine', 'almibar', 'almond', 'almondmilk', 'almonds', 'almost', 'aloe', 'aloha', 'along', 'alongside', 'alouette', 'aloutte', 'alpha', 'alphabet', 'alphabets', 'alphonso', 'alpina', 'alpine', 'already', 'alsatian', 'also', 'alt', 'alterative', 'alternating', 'alternative', 'alternatively', 'alternatives', 'although', 'altitude', 'alto', 'altogether', 'alton', 'alum', 'aluminum', 'always', 'amagansett', 'amaise', 'amalfi', 'amandes', 'amantillado', 'amaranth', 'amarena', 'amareto', 'amaretti', 'amaretto', 'amarilla', 'amarillo', 'amaro', 'amarone', 'amarreto', 'amatriciana', 'amaz', 'amazing', 'amazon', 'amazonas', 'amba', 'ambar', 'amber', 'amberjack', 'ambert', 'ambessa', 'ambra', 'ambrosia', 'amchoor', 'amchur', 'amd', 'amer', 'america', 'american', 'americano', 'amino', 'aminos', 'amish', 'ammaretti', 'ammonia', 'ammonium', 'among', 'amontillado', 'amore', 'amoretti', 'amoroso', 'amount', 'amounts', 'amour', 'ample', 'amstel', 'amsterdam', 'amy', 'anadama', 'anaheim', 'anaheims', 'anahiem', 'analog', 'anapakaya', 'anasazi', 'anato', 'anatomy', 'anatto', 'ancho', 'anchor', 'anchos', 'anchovies', 'anchovy', 'anchoy', 'ancient', 'ancones', 'andall', 'andalusian', 'andcurried', 'andcut', 'anddiced', 'anddrained', 'andean', 'anderson', 'andes', 'andgizzard', 'andouille', 'andre', 'andrew', 'andrinsed', 'andré', 'andspicy', 'anejo', 'anelletti', 'anemic', 'angel', 'angeleno', 'angeles', 'angeli', 'angelica', 'angelicas', 'angelino', 'angelo', 'anglaise', 'angle', 'angled', 'angostura', 'angry', 'angus', 'animal', 'animals', 'anise', 'aniseed', 'aniseeds', 'aniseflavored', 'anisette', 'anjou', 'ankle', 'anko', 'ann', 'annaheim', 'annato', 'annatoo', 'annatto', 'anne', 'annes', 'annie', 'anniversary', 'anocho', 'another', 'ans', 'ansjovis', 'anson', 'antebellum', 'antelope', 'antennae', 'anthotyro', 'anti', 'antibiotic', 'antica', 'antipasta', 'antipasti', 'antipasto', 'antler', 'anton', 'antonis', 'ants', 'anything', 'anyway', 'ao', 'aol', 'aonori', 'aosta', 'ap', 'apart', 'apeach', 'apecial', 'aperitif', 'aperitivo', 'aperol', 'apfel', 'apiece', 'appealing', 'appear', 'appendage', 'appenzeller', 'appetizer', 'appetizers', 'apple', 'applegate', 'applejack', 'apples', 'applesauce', 'appleton', 'applewood', 'applicable', 'application', 'approimately', 'appropriate', 'approx', 'approximate', 'approximately', 'approximatly', 'appétit', 'apricot', 'apricots', 'apriplums', 'apriums', 'apron', 'aquafaba', 'aquavit', 'arabic', 'arachide', 'araguani', 'arak', 'arame', 'aranciata', 'arbequina', 'arbol', 'arbols', 'arborio', 'arborrio', 'archer', 'archide', 'archway', 'arctic', 'ardbeg', 'area', 'areas', 'arent', 'arepa', 'arepas', 'arequipe', 'argan', 'argentine', 'argentinean', 'argentinian', 'argo', 'aria', 'ariel', 'arils', 'arirangkimchee', 'arizona', 'arkansas', 'arm', 'armagnac', 'armanino', 'armenian', 'arms', 'army', 'arnold', 'aroma', 'aromatic', 'aromatics', 'around', 'aroy', 'arrabbiata', 'arrabiata', 'arrack', 'arrange', 'arranged', 'arrangements', 'array', 'arriving', 'arrow', 'arrowhead', 'arrowroot', 'arroz', 'arrugula', 'art', 'artagnan', 'arthur', 'artic', 'artichoke', 'artichokes', 'artificial', 'artisan', 'artisanal', 'artist', 'artois', 'arts', 'arugala', 'arugula', 'asada', 'asadas', 'asader', 'asadero', 'asado', 'asafetida', 'asafoetida', 'asahi', 'ascolane', 'ascorbic', 'ascurried', 'asfoetida', 'ash', 'asiago', 'asian', 'asiansesame', 'aside', 'asil', 'ask', 'asorbic', 'asparagus', 'aspartame', 'aspen', 'aspic', 'aspics', 'assam', 'assemble', 'assembling', 'assembly', 'assertive', 'assi', 'assored', 'assorted', 'assortment', 'asthai', 'asti', 'aston', 'astronaut', 'asturian', 'astwix', 'asuki', 'aswad', 'atar', 'ateco', 'athenos', 'athens', 'athos', 'atkinson', 'atlantic', 'atomic', 'atomized', 'atomizer', 'atop', 'atroom', 'atta', 'attached', 'attachment', 'attachments', 'attika', 'atural', 'au', 'aubergine', 'aubergines', 'audacious', 'aunt', 'auslese', 'australian', 'austrian', 'authentic', 'autrefois', 'autry', 'autumn', 'auvergne', 'aux', 'avacodo', 'avaiable', 'availability', 'available', 'avenue', 'average', 'averagesized', 'averna', 'avery', 'avgolemono', 'aviation', 'avocado', 'avocadoes', 'avocados', 'avoid', 'avola', 'avruga', 'award', 'away', 'awesome', 'ax', 'axiote', 'aylmer', 'azafran', 'azedo', 'azejo', 'aztec', 'azuki', 'azul', 'açai', 'açaí', 'aïoli', 'añejo', 'añjo', 'ba', 'bab', 'baba', 'babcock', 'babies', 'babka', 'baby', 'babyback', 'babybel', 'bac', 'bacala', 'bacalao', 'bacalhau', 'bacardi', 'baccala', 'baccalao', 'baccalà', 'bachelor', 'baci', 'bacio', 'back', 'backbone', 'backbones', 'backdraft', 'backfin', 'backs', 'backside', 'backstrap', 'bacon', 'baconnaise', 'bad', 'badi', 'badia', 'bads', 'baerenjaeger', 'baernwurst', 'bafaat', 'bag', 'bagel', 'bagels', 'bagette', 'bagfuls', 'bagged', 'baggie', 'bagna', 'bagoong', 'bags', 'baguet', 'baguette', 'baguettes', 'bahaman', 'bahamian', 'baharat', 'bahn', 'bai', 'bailey', 'baileys', 'bain', 'bait', 'baja', 'bajan', 'bake', 'baked', 'bakehouse', 'baker', 'bakeries', 'bakers', 'bakery', 'bakeware', 'baking', 'baklava', 'balance', 'balanced', 'balancer', 'balaton', 'balchao', 'balcones', 'bali', 'balinese', 'ball', 'balled', 'baller', 'ballerina', 'balloons', 'ballpark', 'balls', 'ballymaloe', 'balm', 'balsalmic', 'balsam', 'balsamic', 'balsamico', 'baltimore', 'bam', 'bambino', 'bamboo', 'ban', 'banan', 'banana', 'bananas', 'banane', 'bananes', 'band', 'bandera', 'bands', 'banfi', 'banged', 'banger', 'bangers', 'bangus', 'banh', 'banilla', 'banks', 'banneton', 'bannock', 'banon', 'banquet', 'banyuls', 'bao', 'baobab', 'baquette', 'baquettes', 'bar', 'barbacoa', 'barbados', 'barbancourt', 'barbara', 'barbecue', 'barbecued', 'barbeque', 'barbequed', 'barbera', 'barberries', 'barbieri', 'barcelona', 'barding', 'bare', 'barefoot', 'barely', 'barhi', 'barilla', 'bark', 'barlett', 'barley', 'barlotti', 'barn', 'barnagate', 'barolo', 'barquette', 'barramundi', 'barrel', 'barrios', 'barron', 'barry', 'bars', 'barsol', 'barspoon', 'bartenura', 'bartlett', 'bartletts', 'basa', 'base', 'baseball', 'based', 'bases', 'bashed', 'basic', 'basically', 'basics', 'basil', 'basin', 'basis', 'basket', 'baskets', 'basmati', 'basmatic', 'basque', 'bass', 'bassett', 'baste', 'basted', 'baster', 'basting', 'bat', 'batard', 'batardes', 'batata', 'batatas', 'batavia', 'batch', 'batches', 'bath', 'baton', 'batonnet', 'batonnets', 'batons', 'bats', 'batter', 'battera', 'battered', 'batty', 'bauernwurst', 'bauli', 'bavarian', 'bavaroise', 'bavette', 'bay', 'bayleaf', 'baynols', 'bayonne', 'bayou', 'bazmati', 'bbq', 'bc', 'beach', 'bead', 'beaded', 'beak', 'beaked', 'beaks', 'beam', 'bean', 'beancurd', 'beanquinoa', 'beans', 'beansprouts', 'bear', 'beard', 'bearded', 'beards', 'bearnaise', 'bears', 'beat', 'beaten', 'beater', 'beaters', 'beating', 'beau', 'beaufort', 'beaujolais', 'beaume', 'beaumes', 'beauregard', 'beausoleil', 'beautiful', 'beautifully', 'beauty', 'beaver', 'becel', 'bechamel', 'beck', 'become', 'becomes', 'becoming', 'bed', 'bedding', 'bee', 'beech', 'beecher', 'beef', 'beefaroni', 'beefeater', 'beefsteak', 'beefsteaks', 'beefy', 'beer', 'beerbit', 'beeren', 'beers', 'bees', 'beeswax', 'beet', 'beetroot', 'beetroots', 'beets', 'begin', 'beginner', 'beginning', 'begins', 'begonia', 'behind', 'beignets', 'bel', 'belacan', 'belachan', 'belge', 'belgian', 'belgioioso', 'belgium', 'believe', 'belize', 'belizean', 'bell', 'bella', 'bellas', 'belle', 'belles', 'bellflower', 'bellied', 'bellies', 'bello', 'belloc', 'bellpepper', 'bells', 'bellweather', 'bellwether', 'belly', 'belon', 'belons', 'belt', 'beltane', 'belts', 'beluga', 'belvedere', 'ben', 'bench', 'bend', 'beneath', 'benedict', 'benedictine', 'benefiber', 'bengal', 'bengali', 'beni', 'benita', 'benne', 'bennet', 'benny', 'benriner', 'benton', 'berbere', 'berentzen', 'berg', 'bergamot', 'berger', 'berio', 'berkshire', 'bermuda', 'bermudan', 'bernheim', 'berried', 'berries', 'berry', 'berryhill', 'bertman', 'bertolli', 'beryl', 'beryls', 'besan', 'besciamella', 'best', 'bestquality', 'besugo', 'bet', 'betel', 'better', 'betty', 'betutu', 'beurre', 'beverage', 'beverages', 'bevmo', 'bewley', 'bewleys', 'beyond', 'bhaji', 'bhut', 'bianco', 'bias', 'bib', 'bibb', 'biber', 'bibimbap', 'bicarbonate', 'bichamel', 'bicolored', 'biere', 'big', 'biga', 'bigelow', 'bigerades', 'bigeye', 'bigger', 'biggest', 'bijol', 'bilbao', 'bile', 'bill', 'billie', 'billion', 'biloba', 'biltmore', 'bin', 'bind', 'binding', 'bing', 'bins', 'bintjes', 'birch', 'bird', 'birds', 'birthday', 'biryani', 'biscayne', 'biscoff', 'biscos', 'biscotatto', 'biscott', 'biscotti', 'biscottiepi', 'biscuit', 'biscuits', 'bishop', 'biskra', 'bison', 'bisque', 'bisquettes', 'bisquick', 'bistro', 'bit', 'bite', 'bites', 'bitesize', 'bitesized', 'bits', 'bitter', 'bittering', 'bittermens', 'bitterness', 'bitters', 'bittersweet', 'biznaga', 'bière', 'blaak', 'blacan', 'black', 'blackberries', 'blackberry', 'blackcurrant', 'blackened', 'blackening', 'blackeye', 'blackeyed', 'blackfish', 'blackforest', 'blackpepper', 'blacks', 'blackseedless', 'blackstrap', 'blackwell', 'blade', 'bladed', 'blades', 'blair', 'blanc', 'blanca', 'blancas', 'blanch', 'blanche', 'blanched', 'blanching', 'blanco', 'blancs', 'blandy', 'blank', 'blankets', 'blanton', 'blast', 'blaukraut', 'bleach', 'bleached', 'blemish', 'blemishes', 'blend', 'blended', 'blender', 'blending', 'blends', 'bleu', 'bleuet', 'blind', 'blini', 'blinis', 'blintzes', 'blis', 'bliss', 'blistered', 'blitzed', 'block', 'blocks', 'blond', 'blonde', 'blondies', 'blood', 'bloodline', 'bloodlines', 'bloody', 'bloomed', 'blooming', 'blooms', 'blossom', 'blossoms', 'blotted', 'blow', 'blowfish', 'blown', 'blowtorch', 'blt', 'blue', 'blueberries', 'blueberry', 'bluecoat', 'bluefin', 'bluefini', 'bluefish', 'bluegill', 'bluepoint', 'bluepoints', 'blues', 'bluffton', 'bo', 'boal', 'boar', 'board', 'boards', 'boars', 'boat', 'boats', 'boatswain', 'bob', 'bobby', 'bobbyflay', 'boboli', 'bobolis', 'bobsredmill', 'bobwhite', 'boca', 'boccacini', 'boccalone', 'boccancini', 'boccincini', 'boccocini', 'bocconcini', 'bock', 'bockwurst', 'boconccini', 'bodied', 'bodies', 'body', 'bodysacs', 'bog', 'boi', 'boil', 'boiled', 'boiler', 'boiling', 'boiron', 'bois', 'boisserie', 'boite', 'bok', 'bokchoy', 'bolar', 'bold', 'bolder', 'boletes', 'boleti', 'boletus', 'bolillo', 'bolillos', 'bolo', 'bologna', 'bolognese', 'bols', 'bolt', 'bolted', 'bomba', 'bombay', 'bombe', 'bomboloni', 'bon', 'bonajuto', 'bonal', 'bonbon', 'bonbons', 'bonded', 'bone', 'boned', 'boneless', 'bones', 'boneyard', 'bongo', 'boniato', 'boniatos', 'boning', 'bonito', 'bonne', 'bonnet', 'bonnets', 'bonny', 'boo', 'boodles', 'book', 'bookbinder', 'boolgogi', 'boost', 'boosters', 'boosting', 'booze', 'boquerones', 'boquerónes', 'borage', 'bordeaux', 'bordelaise', 'borden', 'border', 'borlotti', 'borlotto', 'borowik', 'borscht', 'bosc', 'bosch', 'boschetto', 'bosco', 'boscoli', 'boskop', 'boston', 'botan', 'bother', 'botija', 'botstle', 'bott', 'bottarga', 'bottle', 'bottled', 'bottlegin', 'bottleneck', 'bottles', 'bottom', 'bottomed', 'bottoms', 'bou', 'bouche', 'boucheron', 'bouchon', 'bouchu', 'boudin', 'boudoirs', 'bougainvillea', 'boughs', 'bought', 'bouillabaisse', 'bouillion', 'bouillon', 'boulder', 'boule', 'boules', 'boulevard', 'boullion', 'boulot', 'bound', 'bountiful', 'bouqet', 'bouquet', 'bouquetgarni', 'bouquetiere', 'bouquets', 'bourbon', 'bourgogne', 'bourguignon', 'boursault', 'boursin', 'bouvet', 'bovril', 'bow', 'bowfin', 'bowl', 'bowled', 'bowling', 'bowls', 'bowmore', 'bowtie', 'bowties', 'box', 'boxdevil', 'boxed', 'boxes', 'boy', 'boyajian', 'boyardee', 'boys', 'boysenberries', 'boysenberry', 'brabant', 'bracelets', 'brach', 'brachetto', 'brachman', 'braciola', 'braciole', 'bracken', 'brad', 'bradley', 'braeburn', 'braeburns', 'braesola', 'bragg', 'braggs', 'braid', 'braided', 'braids', 'brain', 'brains', 'braise', 'braised', 'braiser', 'braises', 'braising', 'bramble', 'bramley', 'bran', 'branca', 'branch', 'branches', 'brand', 'brandade', 'branded', 'brandied', 'brandies', 'brands', 'brandy', 'brandywine', 'branston', 'branzini', 'branzino', 'brasato', 'brat', 'brats', 'bratwurst', 'bratwursts', 'braunschweiger', 'brave', 'bravo', 'brawny', 'brazil', 'brazilian', 'brea', 'bread', 'breadcrumb', 'breadcrumbs', 'breadcumbs', 'breaded', 'breader', 'breadfruit', 'breading', 'breads', 'breadstick', 'breadsticks', 'break', 'breakage', 'breakfast', 'breaking', 'breaks', 'breakstone', 'breakstones', 'bream', 'breams', 'breast', 'breastbone', 'breasts', 'breathing', 'brebis', 'bredie', 'breeze', 'bresaola', 'bresola', 'breton', 'bretons', 'bretzel', 'brew', 'brewed', 'brewer', 'brewers', 'brewery', 'brewing', 'breyers', 'briana', 'briannas', 'bric', 'brick', 'brickle', 'bricks', 'bridge', 'bridgeford', 'bridgford', 'brie', 'briefly', 'brien', 'bright', 'brighten', 'brightly', 'brik', 'brillat', 'brillet', 'brilliant', 'brin', 'brinata', 'brine', 'brinecured', 'brined', 'bring', 'brining', 'brinjal', 'briny', 'brioche', 'brioches', 'briquets', 'briquettes', 'brisee', 'brisket', 'briskets', 'brisling', 'bristle', 'bristol', 'brisée', 'british', 'brittany', 'brittle', 'brizard', 'bro', 'broad', 'broadbent', 'broccoflower', 'broccoli', 'broccolini', 'broccollini', 'broiche', 'broil', 'broiled', 'broiler', 'broiling', 'broke', 'broken', 'bromated', 'broncbuster', 'brone', 'bronze', 'bronzing', 'bronzino', 'brook', 'brooklyn', 'brooks', 'broom', 'brot', 'broth', 'brother', 'brothers', 'broths', 'brought', 'brown', 'browned', 'brownie', 'brownies', 'browning', 'browns', 'brownulated', 'bruce', 'bruder', 'bruise', 'bruised', 'brujo', 'brulee', 'bruleed', 'bruleeing', 'brun', 'brune', 'brunet', 'bruniose', 'bruno', 'brunois', 'brunoise', 'brunoised', 'bruschetta', 'brush', 'brushed', 'brushes', 'brushing', 'brussel', 'brussels', 'brussles', 'brut', 'brute', 'bruxelles', 'bryant', 'brûlée', 'bual', 'bubba', 'bubbies', 'bubble', 'bubblegum', 'bubbling', 'bubbly', 'bucare', 'bucatini', 'bucatoni', 'buccatini', 'bucco', 'buch', 'buchanan', 'bucheron', 'buchu', 'buck', 'buckets', 'bucking', 'buckle', 'buckler', 'buckwheat', 'buco', 'bud', 'buddha', 'buddies', 'buddig', 'budget', 'buds', 'budweiser', 'buena', 'buerre', 'bufala', 'bufalo', 'buff', 'buffalo', 'buffalotrace', 'buffel', 'buffered', 'bufula', 'bug', 'buganvilia', 'bugles', 'bugs', 'build', 'buitoni', 'bulb', 'bulbs', 'bulgar', 'bulgarian', 'bulghur', 'bulgogi', 'bulgur', 'bulk', 'bull', 'bulleit', 'bullion', 'bullseye', 'bullwhip', 'bullying', 'bumble', 'bump', 'bumpy', 'bun', 'bunch', 'bunched', 'bunches', 'bunchs', 'bundle', 'bundled', 'bundles', 'bundnerfleisch', 'bundt', 'buniato', 'bunnies', 'bunnonstick', 'bunny', 'buns', 'bunuelo', 'buon', 'buonitalia', 'bupound', 'bupounds', 'buratta', 'burbank', 'burbot', 'burdock', 'burg', 'burgel', 'burger', 'burgers', 'burgundian', 'burgundies', 'burgundy', 'burlap', 'burman', 'burmese', 'burn', 'burned', 'burner', 'burners', 'burnet', 'burnett', 'burning', 'burnt', 'burp', 'burrata', 'burratta', 'burrell', 'burricotti', 'burrito', 'burritos', 'buschs', 'bush', 'bushel', 'bushels', 'bushi', 'bushmills', 'bustelo', 'buster', 'butane', 'butch', 'butcher', 'butchered', 'butchers', 'buter', 'butler', 'butt', 'butte', 'butter', 'butterball', 'butterbean', 'butterbeans', 'buttercake', 'buttercream', 'buttercreams', 'buttercrunch', 'buttercup', 'buttered', 'butterfinger', 'butterfingers', 'butterfish', 'butterflied', 'butterflies', 'butterfly', 'butterflyed', 'butterground', 'butterhead', 'buttering', 'butterkase', 'butterkäse', 'buttermik', 'buttermilk', 'butternut', 'butternuts', 'butters', 'butterscotch', 'buttershots', 'butterworth', 'buttery', 'button', 'buttons', 'butts', 'buxton', 'buy', 'buying', 'bv', 'bypass', 'byrd', 'byron', 'byrrh', 'bâtarde', 'bâtards', 'bärenjäger', 'béarnaise', 'béchamel', 'bénédictine', 'bûcheron', 'ca', 'cabbage', 'cabbages', 'cabello', 'cabernet', 'cabin', 'cabo', 'cabot', 'cabra', 'cabrales', 'cacacha', 'cacao', 'cacciata', 'cacciatore', 'cacciocavallo', 'cacereña', 'cachaca', 'cachaza', 'cachaça', 'cachere', 'cacho', 'cachucha', 'cacik', 'cacio', 'caciocavallo', 'caciotta', 'cacique', 'caciqus', 'cacoa', 'cactus', 'cadbury', 'caesar', 'cafe', 'cafedumonde', 'caffe', 'caffeinated', 'caffeine', 'caffè', 'café', 'cage', 'cages', 'cai', 'caja', 'cajeta', 'cajon', 'cajun', 'cajungrocer', 'cake', 'cakes', 'cakey', 'caking', 'cal', 'calabacitas', 'calabash', 'calabasitas', 'calabaza', 'calabazas', 'calabrese', 'calabria', 'calabrian', 'calabro', 'calamansi', 'calamari', 'calamata', 'calamyra', 'calaspara', 'calasparra', 'calcium', 'calcots', 'calendula', 'calf', 'calgary', 'caliente', 'california', 'californian', 'calimyra', 'calimyrna', 'call', 'callaloo', 'calle', 'callebaut', 'callebaux', 'called', 'callender', 'callets', 'callies', 'calling', 'callipo', 'calls', 'calmata', 'calmyrna', 'calorie', 'calories', 'calrose', 'calumet', 'calvados', 'calves', 'calymyra', 'calypso', 'calyxes', 'calzone', 'calzones', 'camargue', 'cambazola', 'cambazzola', 'cambodian', 'cambozola', 'camellia', 'camembert', 'cameo', 'camomile', 'campagne', 'campagnelle', 'campanelle', 'campania', 'campari', 'campbell', 'campbells', 'camper', 'campfire', 'camphor', 'campo', 'camus', 'cana', 'canada', 'canadian', 'canal', 'canard', 'canaroli', 'canary', 'canasta', 'canchita', 'candied', 'candies', 'candiquick', 'candiquik', 'candle', 'candlenut', 'candlenuts', 'candles', 'candy', 'candyquik', 'cane', 'canela', 'canella', 'canelli', 'canellini', 'canellinni', 'canes', 'canestriped', 'canilla', 'canister', 'canisters', 'cannabis', 'canned', 'cannelini', 'cannellili', 'cannellini', 'cannelloni', 'canneloni', 'canner', 'canning', 'cannoli', 'cannolicchi', 'cannonau', 'cannot', 'canoes', 'canoga', 'canola', 'cans', 'cantal', 'cantaloupe', 'cantaloupes', 'cantare', 'canteloupe', 'canton', 'cantonese', 'cantuccini', 'canvas', 'canyon', 'caol', 'cap', 'capacity', 'capacola', 'cape', 'capel', 'capelin', 'capelletti', 'capelli', 'capellini', 'caper', 'caperberries', 'capers', 'capfuls', 'capicola', 'capicolla', 'capital', 'capocollo', 'capocolo', 'capon', 'caponata', 'capons', 'capote', 'cappacola', 'capped', 'cappelletti', 'cappellini', 'cappicola', 'cappicolla', 'cappocola', 'cappuccino', 'caprese', 'capriccio', 'capricious', 'capriole', 'caps', 'capsican', 'capsicum', 'capsicums', 'capsule', 'capsules', 'captain', 'capuccino', 'caputo', 'cara', 'carabineros', 'caracao', 'caracque', 'caraebe', 'carafa', 'caraibe', 'caraje', 'carambola', 'carambolas', 'caramel', 'caramelize', 'caramelized', 'caramelizing', 'caramels', 'carapace', 'carapelli', 'carat', 'caravan', 'caravella', 'caravelle', 'caraway', 'carb', 'carbohydrate', 'carbohydrates', 'carbon', 'carbonara', 'carbonate', 'carbonated', 'carbonation', 'carboy', 'carbquik', 'carbs', 'carcass', 'carcasse', 'carcasses', 'card', 'cardamom', 'cardamoms', 'cardamon', 'cardboard', 'cardomoms', 'cardomon', 'cardoons', 'cards', 'care', 'careful', 'carefully', 'cargamanto', 'cargo', 'caribbean', 'caribe', 'caribou', 'carl', 'carlini', 'carlo', 'carlsbad', 'carmelized', 'carmels', 'carmody', 'carnaroli', 'carnation', 'carnations', 'carne', 'carnitas', 'carnival', 'carob', 'carolans', 'carolina', 'carom', 'carp', 'carpaccio', 'carpano', 'carpenter', 'carpet', 'carr', 'carrageen', 'carrageenan', 'carriage', 'carries', 'carroll', 'carrot', 'carrots', 'carrott', 'carry', 'carta', 'cartilage', 'cartilege', 'carton', 'cartons', 'carved', 'carving', 'casa', 'casaba', 'casamigos', 'casar', 'casarecce', 'casbah', 'cascabel', 'cascabele', 'cascable', 'cascade', 'cascadian', 'case', 'casera', 'caserecci', 'cases', 'casey', 'cashew', 'cashews', 'casing', 'casings', 'cask', 'cassarecce', 'cassarecci', 'cassata', 'cassava', 'cassavas', 'casse', 'casserole', 'casseroles', 'cassia', 'cassis', 'cast', 'castelfranco', 'castellane', 'castelluccio', 'castelmagno', 'castelrosso', 'castelvetrano', 'caster', 'castings', 'castor', 'cat', 'catalan', 'catalina', 'catalogue', 'catamount', 'catch', 'catching', 'catelli', 'caterpillar', 'catfish', 'catskill', 'catsup', 'cattleman', 'cattlemen', 'cauda', 'caught', 'caul', 'cauldron', 'cauliflower', 'cause', 'caution', 'cava', 'cavaillon', 'cavair', 'cavalle', 'cavallion', 'cavatapi', 'cavatappi', 'cavatelli', 'cave', 'cavender', 'cavetelle', 'caviar', 'cavities', 'cavity', 'cavolo', 'cayenne', 'cayennes', 'cayennne', 'cazuela', 'cb', 'cc', 'ccconsp', 'ccmi', 'ccq', 'cd', 'cebollas', 'cecchi', 'cecco', 'ceci', 'cedar', 'cel', 'celebrant', 'celebration', 'celeery', 'celeriac', 'celeriacs', 'celery', 'celeryseeds', 'celestial', 'cellantani', 'cellars', 'cellentani', 'cello', 'cellophane', 'celtic', 'cemita', 'cent', 'centenario', 'centennial', 'center', 'centercut', 'centerpiece', 'centers', 'centimeter', 'centimeters', 'cento', 'central', 'centre', 'century', 'cep', 'cepes', 'ceramic', 'cereal', 'cereals', 'ceres', 'cerignola', 'ceringola', 'cermanic', 'certain', 'certifed', 'certified', 'certo', 'cervantes', 'cerveza', 'ces', 'cetara', 'cevender', 'ceviche', 'ceylon', 'cfu', 'cha', 'chaa', 'chaat', 'chabis', 'chablis', 'chabrin', 'chachere', 'chai', 'chain', 'challa', 'challah', 'challenge', 'chalupas', 'cham', 'chambord', 'chambourcin', 'chambourd', 'chamomile', 'champagne', 'champignon', 'champignons', 'championship', 'chana', 'chanco', 'chandon', 'chang', 'changbai', 'change', 'changed', 'changes', 'changing', 'channa', 'channel', 'chantaboon', 'chanterelle', 'chanterelles', 'chantilly', 'chaokoh', 'chapati', 'chapatis', 'chapatti', 'chappati', 'chaps', 'chapssal', 'char', 'charantes', 'charbay', 'charcoal', 'charcoals', 'charcuterie', 'chard', 'chardonnay', 'charentais', 'charentes', 'charge', 'charged', 'chargers', 'charleston', 'charlotte', 'charmoula', 'charms', 'charolais', 'charra', 'charred', 'charro', 'chartreuse', 'chat', 'chateau', 'chateaubriand', 'chateaubriands', 'chatham', 'chaurice', 'chavignol', 'chavrie', 'chayote', 'chayotes', 'cheap', 'cheaper', 'check', 'checked', 'checking', 'checks', 'cheddar', 'cheddarwurst', 'chee', 'cheek', 'cheeks', 'cheerios', 'cheery', 'cheese', 'cheesecake', 'cheesecloth', 'cheesee', 'cheesemaking', 'cheeses', 'cheesesoft', 'cheesier', 'cheesy', 'cheetos', 'cheez', 'chef', 'chefmaster', 'chefs', 'chefshop', 'chenel', 'chenin', 'cheo', 'cheong', 'cherie', 'cherimoya', 'chermoula', 'cherokee', 'cherries', 'cherry', 'cherrystone', 'cherrywood', 'cherub', 'chervil', 'cheryl', 'chesapeake', 'cheshire', 'chess', 'chessman', 'chessmen', 'chest', 'chester', 'chestnut', 'chestnuts', 'cheung', 'chevon', 'chevre', 'chevril', 'chevrion', 'chevrot', 'chewable', 'chewier', 'chewing', 'chews', 'chewy', 'chex', 'cheyenne', 'chi', 'chia', 'chianti', 'chicago', 'chicharones', 'chicharron', 'chicharrones', 'chicharrón', 'chicharrónes', 'chichicapa', 'chick', 'chicken', 'chickenor', 'chickens', 'chickpea', 'chickpeas', 'chicks', 'chickweed', 'chiclets', 'chico', 'chicories', 'chicory', 'chicos', 'chien', 'chiew', 'chiffinade', 'chiffon', 'chiffonad', 'chiffonade', 'chiffonaded', 'chiffonnade', 'chifonnade', 'chihuahua', 'chihuahuah', 'chihuaua', 'chihuhua', 'chik', 'chilaca', 'chilcostles', 'childhood', 'children', 'chile', 'chilean', 'chiles', 'chiletepin', 'chilhuacle', 'chilhuacles', 'chili', 'chilie', 'chilies', 'chilies_packed', 'chilis', 'chill', 'chilled', 'chilledchinese', 'chilles', 'chilli', 'chillies', 'chilling', 'chillis', 'chilpotles', 'chiltepin', 'chimay', 'chimayo', 'chimichangas', 'chimichurri', 'chimichuurri', 'chimney', 'china', 'chinaco', 'chinato', 'chinatown', 'chincoteague', 'chine', 'chined', 'chinese', 'ching', 'chinkiang', 'chinks', 'chinned', 'chino', 'chinois', 'chinook', 'chinos', 'chinquoteague', 'chiogga', 'chioggia', 'chip', 'chipits', 'chiplote', 'chiplotes', 'chipolata', 'chipolte', 'chipoltes', 'chipoltle', 'chipotle', 'chipotles', 'chipped', 'chips', 'chiquita', 'chitarra', 'chitterlings', 'chive', 'chives', 'chlies', 'chloe', 'chlorella', 'chloride', 'chlorinated', 'chobani', 'choc', 'chocho', 'choclo', 'chocoholics', 'chocolat', 'chocolate', 'chocolates', 'chocolatey', 'chocolatier', 'chocolaty', 'choi', 'choice', 'choices', 'choke', 'chokecherry', 'chokes', 'choko', 'cholent', 'cholesterol', 'cholula', 'chong', 'choose', 'choosing', 'chop', 'chopmeat', 'choppe', 'chopped', 'choppedcan', 'chopping', 'choppped', 'chops', 'chopstick', 'chopsticks', 'chord', 'choricero', 'chorico', 'chorize', 'chorizo', 'chorizos', 'choron', 'chou', 'choucroute', 'chourico', 'chouriho', 'chouriço', 'choux', 'chow', 'chowchow', 'chowder', 'choy', 'choya', 'chris', 'christening', 'christian', 'christina', 'christmas', 'christophene', 'christophenes', 'christopher', 'christophine', 'chrysanthemum', 'chu', 'chua', 'chub', 'chubby', 'chubritsa', 'chubs', 'chuck', 'chucks', 'chuka', 'chukkar', 'chulpe', 'chum', 'chun', 'chunk', 'chunked', 'chunks', 'chunky', 'churned', 'churrasco', 'churrascos', 'churrera', 'churro', 'churros', 'chutney', 'chutneys', 'chèvre', 'ciabatta', 'ciabbata', 'ciao', 'cicely', 'ciclón', 'cider', 'cigar', 'cigarette', 'cigarettes', 'cigarillos', 'cigars', 'cilanto', 'cilantro', 'ciliegine', 'ciliegini', 'ciliengine', 'cima', 'cin', 'cinammon', 'cinamon', 'cinch', 'cincinnati', 'cinco', 'cinderella', 'cindy', 'cinghiale', 'cinnamo', 'cinnamon', 'cinzano', 'cioccolato', 'cioppino', 'cipolini', 'cipolinni', 'cipolline', 'cipollini', 'cipollinis', 'cippoline', 'cippolini', 'cippolline', 'cipriani', 'circle', 'circles', 'circo', 'circular', 'circus', 'ciroc', 'cistanche', 'cit', 'citarella', 'citrate', 'citric', 'citroen', 'citron', 'citronette', 'citrus', 'citruses', 'citrusy', 'citterio', 'city', 'ck', 'cl', 'clabber', 'clabbered', 'clam', 'clamato', 'clams', 'clamshell', 'clancy', 'clara', 'claret', 'clarified', 'clarifying', 'clarita', 'clark', 'clasen', 'clasico', 'classic', 'classicmac', 'classico', 'classics', 'claussen', 'claw', 'claws', 'clay', 'clayton', 'clean', 'cleaned', 'cleaners', 'cleaning', 'cleanly', 'clear', 'clearcreekdistillery', 'clearjel', 'cleaver', 'clement', 'clementine', 'clementines', 'clerk', 'clever', 'click', 'cling', 'clinging', 'clings', 'clingstone', 'clip', 'clipped', 'clips', 'clizuel', 'cloaks', 'clod', 'close', 'closed', 'closer', 'cloth', 'clothbound', 'cloths', 'clotted', 'cloud', 'cloudberry', 'clouds', 'cloudy', 'clove', 'cloved', 'clover', 'cloverleaf', 'cloves', 'clovis', 'club', 'cluizel', 'clumps', 'cluster', 'clusters', 'clásico', 'clément', 'cm', 'co', 'coach', 'coal', 'coalho', 'coals', 'coaps', 'coarse', 'coarsely', 'coarsemesh', 'coarser', 'coarsley', 'coarsly', 'coast', 'coastal', 'coastline', 'coat', 'coated', 'coating', 'coatings', 'coax', 'cob', 'cobb', 'cobbler', 'cobblestone', 'cobia', 'cobs', 'coca', 'cocchi', 'cochon', 'cochons', 'cocina', 'cock', 'cockatiels', 'cockels', 'cockles', 'cocktail', 'cocktails', 'coco', 'cocoa', 'coconut', 'coconutmilk', 'coconuts', 'cocotte', 'cocowhip', 'cocozelle', 'cod', 'coddled', 'coddler', 'code', 'codfish', 'coeur', 'coffee', 'coffeecake', 'cog', 'cognac', 'coho', 'coiled', 'coils', 'coin', 'coined', 'coins', 'cointreau', 'cointreu', 'cojita', 'cojito', 'coke', 'cola', 'colaciones', 'colada', 'colander', 'colatura', 'colavita', 'colbert', 'colby', 'colcannon', 'cold', 'coldbrew', 'colder', 'coldheavy', 'cole', 'coleman', 'coleslaw', 'collagen', 'collapsed', 'collapsible', 'collapsing', 'collar', 'collard', 'collards', 'collars', 'collect', 'collection', 'collections', 'college', 'collins', 'colman', 'colmans', 'colomba', 'colombian', 'colombiano', 'colonata', 'colonnata', 'color', 'colorado', 'colored', 'colorful', 'coloring', 'colorings', 'colorless', 'colors', 'colossal', 'colour', 'colouring', 'colours', 'columbia', 'columbian', 'com', 'comal', 'comb', 'combination', 'combinations', 'combinbation', 'combine', 'combined', 'combining', 'combo', 'come', 'comeback', 'comercially', 'comes', 'comfort', 'comfortable', 'comice', 'comino', 'commercial', 'commercially', 'common', 'commonly', 'como', 'compact', 'company', 'comparable', 'compari', 'compartment', 'compass', 'competition', 'complement', 'complements', 'completa', 'complete', 'completely', 'complex', 'complexity', 'compliment', 'component', 'components', 'composed', 'compote', 'compound', 'compounds', 'compressed', 'comstock', 'comte', 'comté', 'con', 'conagra', 'concasse', 'concassed', 'concassee', 'concentrate', 'concentrated', 'concepción', 'concern', 'conch', 'conchiglie', 'conchiglioni', 'concord', 'condensed', 'condiment', 'condiments', 'cone', 'conecuh', 'cones', 'coney', 'confection', 'confectionary', 'confectioner', 'confectioners', 'confectionery', 'confetti', 'confit', 'confused', 'conical', 'conjunction', 'conmemorativo', 'connected', 'connecting', 'connective', 'connects', 'connie', 'conserve', 'consider', 'considered', 'consistency', 'consisting', 'consomme', 'consommé', 'constructed', 'construction', 'consult', 'consume', 'consumed', 'consumme', 'contact', 'contadina', 'contain', 'container', 'containers', 'containing', 'contains', 'containters', 'content', 'contents', 'continue', 'continuous', 'contreau', 'conventional', 'conversation', 'converted', 'cook', 'cooke', 'cooked', 'cookedbutterflied', 'cooker', 'cookers', 'cookie', 'cookies', 'cookiesepi', 'cooking', 'cooks', 'cookware', 'cool', 'coole', 'cooled', 'cooler', 'cooling', 'coooked', 'cooper', 'coors', 'copacola', 'cope', 'copicolla', 'coppa', 'coppacola', 'copper', 'copyright', 'coquito', 'coral', 'corano', 'corazon', 'corazón', 'corbina', 'cord', 'corded', 'cordial', 'cording', 'cordon', 'cordycep', 'core', 'cored', 'corer', 'cores', 'coriander', 'corinthian', 'cork', 'corks', 'corkscrew', 'corkscrews', 'corky', 'corm', 'corn', 'cornbread', 'corncob', 'corncobs', 'corned', 'corner', 'corners', 'cornet', 'cornets', 'cornflake', 'cornflakes', 'cornflour', 'cornhusks', 'cornichon', 'cornichons', 'cornish', 'cornishon', 'cornishons', 'cornmeal', 'cornnuts', 'corns', 'cornstarch', 'cornstick', 'cornuts', 'corny', 'corona', 'coronita', 'correct', 'corrugated', 'cortado', 'cortland', 'corvina', 'cos', 'cosmo', 'cosmopolitan', 'cost', 'costa', 'costco', 'costena', 'costeno', 'costenos', 'costeño', 'costoluto', 'cote', 'cotechino', 'cotes', 'cotija', 'cotixa', 'cotswold', 'cotta', 'cottage', 'cottas', 'cotto', 'cotton', 'cottonseed', 'coucous', 'could', 'coulis', 'counces', 'count', 'counter', 'counters', 'countertop', 'country', 'countryside', 'countrystyle', 'county', 'coup', 'coupe', 'couple', 'couplers', 'courgette', 'courgettes', 'course', 'coursely', 'court', 'courtesy', 'courtland', 'courvoisier', 'cous', 'couscous', 'couscousiere', 'couscoussière', 'couverture', 'cove', 'cover', 'covered', 'covering', 'covers', 'coverture', 'coves', 'cow', 'cowboy', 'cowboys', 'cowgirl', 'cowpeas', 'cows', 'cox', 'coyote', 'cr', 'crab', 'crabapple', 'crabapples', 'crabcake', 'crabmeat', 'crabs', 'crabsticks', 'crack', 'cracked', 'cracker', 'crackers', 'cracking', 'crackle', 'crackled', 'cracklin', 'cracklings', 'cracklins', 'cracks', 'craft', 'crafts', 'craftsetc', 'craig', 'craisins', 'cran', 'cranberries', 'cranberry', 'cranked', 'cranks', 'crate', 'crave', 'crawfish', 'crawler', 'crayfish', 'crazy', 'cream', 'creamaccompaniment', 'creame', 'creamed', 'creamer', 'creamery', 'creaminess', 'creamless', 'creamy', 'create', 'creating', 'creations', 'creative', 'creature', 'creatures', 'credit', 'creek', 'creepy', 'crem', 'crema', 'creme', 'cremes', 'cremim', 'cremini', 'creminis', 'cremino', 'cremodan', 'crenshaw', 'crenshaws', 'creole', 'crepe', 'crepes', 'crescent', 'crescents', 'crescenza', 'cresenza', 'cress', 'crest', 'creste', 'cretan', 'cricket', 'cried', 'crimini', 'criminis', 'crimni', 'crimped', 'crimson', 'crinkle', 'crinkles', 'crinkly', 'criolla', 'criollas', 'criollo', 'crisco', 'crisp', 'crispbread', 'crispcooked', 'crispearls', 'crisped', 'crisper', 'crispies', 'crispin', 'crisping', 'crispix', 'crispleaves', 'crisply', 'crispness', 'crisps', 'crispy', 'criss', 'crisscross', 'crisscrossed', 'cristianos', 'critter', 'crme', 'croaker', 'crock', 'crocker', 'crocks', 'croissant', 'croissants', 'croix', 'crooked', 'crookneck', 'croque', 'croquembouche', 'croquettes', 'cros', 'crosnes', 'cross', 'crosscut', 'crosse', 'crosses', 'crosshatch', 'crosshatches', 'crossways', 'crosswire', 'crosswise', 'crostata', 'crostini', 'crostone', 'crottins', 'croustades', 'croutes', 'crouton', 'croutons', 'crowd', 'crowder', 'crown', 'crowns', 'crucolo', 'cruda', 'crudite', 'crudites', 'crudité', 'crudités', 'cruise', 'crullers', 'crumb', 'crumbed', 'crumble', 'crumbled', 'crumbledcorn', 'crumbles', 'crumbling', 'crumbly', 'crumbs', 'crumpet', 'crumpets', 'crunch', 'crunched', 'crunchies', 'crunchiness', 'crunchy', 'crush', 'crushed', 'crushedtomatoes', 'crushing', 'crust', 'crustaceans', 'crusted', 'crustier', 'crusting', 'crustless', 'crusts', 'crusty', 'crutini', 'cruz', 'cruzan', 'cryovac', 'crystal', 'crystalized', 'crystalline', 'crystallized', 'crystallizing', 'crystals', 'crème', 'crème_dishes', 'créme', 'créole', 'crêpe', 'crêpes', 'csabai', 'ct', 'cu', 'cuaraco', 'cuarenta', 'cuban', 'cubanella', 'cubanelle', 'cubanelles', 'cubanero', 'cubano', 'cube', 'cubeb', 'cubebs', 'cubed', 'cubes', 'cubic', 'cubitos', 'cucumber', 'cucumbers', 'cuervo', 'cuisine', 'cuke', 'cukes', 'culantro', 'culhane', 'culinary', 'culinarydistrict', 'culinarygrade', 'cull', 'culls', 'cultivated', 'culture', 'cultured', 'cultures', 'cumberland', 'cumberlands', 'cumin', 'cuminseed', 'cup', 'cupagar', 'cuparugula', 'cupboard', 'cupc', 'cupcake', 'cupcakes', 'cupcassis', 'cupchapati', 'cupchicken', 'cupcup', 'cupdill', 'cupful', 'cupgingered', 'cupgrated', 'cuphazelnuts', 'cupoil', 'cupoloroso', 'cuppesto', 'cuppine', 'cupplus', 'cupquinoa', 'cups', 'cupsall', 'cupsautéed', 'cupschicken', 'cupsespagnole', 'cupsfresh', 'cupsgiblet', 'cupshachiya', 'cupsherb', 'cupsimple', 'cupslaxmi', 'cupslow', 'cupsmexican', 'cupspanko', 'cupspeanut', 'cupspickling', 'cupsrich', 'cupstomato', 'cupsturkey', 'cupswinter', 'cupunsalted', 'cupunsweetened', 'cupwhole', 'cura', 'curacao', 'curaco', 'curahao', 'curaçao', 'curd', 'curds', 'cure', 'cured', 'curing', 'curl', 'curled', 'curling', 'curls', 'curly', 'curlyleafed', 'currant', 'currants', 'current', 'currently', 'curried', 'curry', 'curtains', 'curtido', 'curtis', 'curve', 'curved', 'cushaw', 'cushion', 'cusp', 'custard', 'cut', 'cute', 'cuties', 'cutinto', 'cutlet', 'cutlets', 'cutouts', 'cuts', 'cutter', 'cutters', 'cutting', 'cuttings', 'cuttle', 'cuttlefish', 'cuz', 'cylinder', 'cylinders', 'cylindrical', 'cynar', 'cypress', 'czar', 'cèpe', 'cèpes', 'cîroc', 'côte', 'côtes', 'da', 'daal', 'dab', 'dabob', 'dacquoise', 'dad', 'daddy', 'daechu', 'daffodil', 'dahl', 'dai', 'daikon', 'daiquiri', 'dairy', 'daisies', 'daisy', 'daiya', 'dake', 'dakos', 'dakota', 'dakotana', 'dal', 'dalchini', 'dale', 'dalfour', 'dallies', 'dalmatia', 'dam', 'damaged', 'damiana', 'damn', 'damp', 'dampen', 'dampened', 'damson', 'damsons', 'dancing', 'dandelion', 'dandelions', 'dang', 'dangmyun', 'daniel', 'daniele', 'daniels', 'danish', 'dannon', 'dar', 'dariole', 'darjeeling', 'dark', 'darker', 'darkest', 'darkly', 'darne', 'darned', 'darning', 'dartagnan', 'das', 'dash', 'dasheen', 'dashes', 'dashi', 'dashida', 'dasz', 'date', 'dates', 'datil', 'dau', 'daube', 'daun', 'daurade', 'dave', 'davero', 'david', 'day', 'dayboat', 'daylily', 'dayold', 'days', 'daz', 'dazs', 'de', 'dea', 'dead', 'deal', 'dealer', 'dean', 'deandeluca', 'death', 'debeaked', 'debearded', 'debeared', 'deboned', 'deborah', 'debris', 'decadent', 'decaf', 'decaffeinated', 'decals', 'dececco', 'decedent', 'decent', 'decide', 'deciliters', 'deckle', 'decor', 'decorate', 'decorated', 'decorating', 'decoration', 'decorations', 'decorative', 'decoratively', 'decorator', 'decorators', 'decored', 'decors', 'decrusted', 'dedicated', 'deen', 'deep', 'deeper', 'deepfat', 'deepfrying', 'deeply', 'deer', 'defatted', 'defined', 'definitely', 'defrost', 'defrosted', 'defrosting', 'deg', 'degerminated', 'deglat', 'deglaze', 'deglazed', 'deglazing', 'deglet', 'degli', 'degreased', 'degree', 'degrees', 'degroff', 'degu', 'dehusked', 'dehydrated', 'dei', 'dekuyper', 'del', 'delallo', 'delaurentiis', 'deli', 'delia', 'delicacy', 'delicata', 'delicate', 'delicately', 'delicatessen', 'delicatessens', 'delicatta', 'delices', 'delicioso', 'delicious', 'delight', 'delightfulls', 'delites', 'delmarva', 'delmonico', 'delphinium', 'deluca', 'deluxe', 'delverde', 'demarara', 'demerara', 'demerera', 'demererra', 'demi', 'demiglace', 'demineralized', 'demitasse', 'den', 'dende', 'dendê', 'denerved', 'dense', 'densely', 'denta', 'dente', 'denuded', 'denver', 'department', 'departments', 'depend', 'depending', 'depends', 'deposits', 'depot', 'depth', 'derby', 'deribbed', 'des', 'desalinate', 'desalted', 'deschutes', 'descibed', 'described', 'description', 'deseeded', 'desert', 'desiccated', 'design', 'designs', 'desilked', 'desirable', 'desire', 'desired', 'desiree', 'dessert', 'desserts', 'dessertspoon', 'dessicated', 'destalked', 'destemmed', 'destoned', 'destrooper', 'destroys', 'detached', 'detailing', 'details', 'determine', 'determined', 'detox', 'devained', 'devein', 'deveined', 'deveining', 'deviant', 'deviened', 'devil', 'deviled', 'devils', 'devined', 'devon', 'devonshire', 'dew', 'dextrose', 'dha', 'dhal', 'di', 'diablo', 'diagonal', 'diagonally', 'diagonals', 'diakon', 'diameter', 'diameters', 'diamond', 'diamonds', 'diasatic', 'diastatic', 'diavlo', 'diavolo', 'dice', 'diced', 'dicedsmall', 'dicedv', 'dices', 'dicing', 'dickel', 'dickenson', 'dickensons', 'dickinson', 'die', 'diego', 'diet', 'dietz', 'difference', 'different', 'difficult', 'dig', 'digestif', 'digestive', 'digiorno', 'digital', 'dijon', 'dijonnaise', 'dijonstyle', 'dill', 'dilled', 'dillon', 'dillor', 'dillweed', 'dilly', 'dilute', 'diluted', 'dilution', 'dim', 'dime', 'dimensional', 'dimple', 'ding', 'dingle', 'dinner', 'dino', 'dinosaur', 'dip', 'diplomat', 'diplomatico', 'dipped', 'dipper', 'dippers', 'dippin', 'dipping', 'dips', 'direct', 'directed', 'directions', 'directly', 'directs', 'dirt', 'dirty', 'disagreeable', 'disaranno', 'disaronno', 'disc', 'discard', 'discarded', 'discarding', 'disclaimer', 'disco', 'discoloration', 'discolored', 'discoloring', 'discolouring', 'discos', 'discount', 'discretion', 'discs', 'dish', 'disher', 'dishes', 'dishtowels', 'dishwasher', 'disinfected', 'disjointed', 'disk', 'disks', 'disney', 'display', 'disposable', 'dissipate', 'dissolve', 'dissolved', 'dissolves', 'dissolving', 'distilled', 'distillers', 'distillery', 'distilling', 'distinctive', 'distribute', 'distributes', 'distributors', 'ditali', 'ditalini', 'ditaloni', 'ditto', 'divan', 'divded', 'diver', 'divers', 'divide', 'divided', 'divined', 'divinity', 'dixie', 'dixon', 'diy', 'djan', 'djion', 'doce', 'dock', 'docked', 'doctored', 'dodge', 'dodoni', 'doenjang', 'dofu', 'dog', 'dogfish', 'dogs', 'doily', 'dolce', 'dolcelatte', 'dole', 'dolin', 'doll', 'dollar', 'dollop', 'dolloping', 'dollops', 'dolphinfish', 'domain', 'domaine', 'dome', 'domed', 'domestic', 'dominant', 'dominic', 'dominican', 'domino', 'dominoes', 'dona', 'done', 'doneness', 'donettes', 'dong', 'donkey', 'donner', 'donnie', 'donot', 'dont', 'donut', 'donuts', 'doon', 'doone', 'door', 'dop', 'dopiaza', 'doppio', 'dorade', 'dorado', 'dorados', 'doritos', 'dorot', 'dortmunder', 'dory', 'dos', 'dot', 'dots', 'dotting', 'dou', 'doubanjiang', 'double', 'doubleline', 'doublepeeled', 'dough', 'dougha', 'doughboy', 'doughnut', 'doughnuts', 'doughs', 'douglas', 'doul', 'dounceen', 'doux', 'dove', 'dover', 'doves', 'dowel', 'dowels', 'downy', 'doz', 'doze', 'dozen', 'dozens', 'doña', 'dpdspirits', 'dr', 'draft', 'dragee', 'dragees', 'dragon', 'dragées', 'drain', 'drained', 'drainedand', 'draining', 'drake', 'dram', 'dramatic', 'dramatically', 'drambuie', 'draught', 'draw', 'drawn', 'dreaded', 'dream', 'dreamfields', 'dredge', 'dredging', 'dressed', 'dresses', 'dressing', 'dressings', 'dreyer', 'dribble', 'dried', 'drier', 'drifts', 'drink', 'drinking', 'drinks', 'drip', 'dripping', 'drippings', 'drippy', 'drips', 'driveway', 'drizzing', 'drizzle', 'drizzled', 'drizzles', 'drizzling', 'drmcdougall', 'dromedary', 'drop', 'dropperful', 'dropperfuls', 'dropping', 'drops', 'droste', 'drudging', 'drum', 'drumattached', 'drumette', 'drumettes', 'drummers', 'drummette', 'drummettes', 'drummies', 'drums', 'drumstick', 'drumsticks', 'drunken', 'dry', 'dryer', 'drying', 'dryroasted', 'drys', 'du', 'dubliner', 'dubonnet', 'duck', 'duckling', 'ducklings', 'ducks', 'duct', 'due', 'duero', 'duff', 'dufour', 'duke', 'dukkah', 'dul', 'dulce', 'dulces', 'dulche', 'dull', 'dulse', 'dum', 'dumpling', 'dumplings', 'duncan', 'dungeness', 'dungenesss', 'dungeoness', 'dunkables', 'dunkel', 'dunkers', 'dunkin', 'dunking', 'dunlop', 'dunya', 'duo', 'duoz', 'duqesne', 'durad', 'durian', 'durkee', 'durkees', 'duro', 'durum', 'dusseldorf', 'dust', 'dusted', 'duster', 'dusting', 'dutch', 'dutched', 'duty', 'duvel', 'duxelle', 'duxelles', 'dwarf', 'dye', 'dyed', 'dyeing', 'dyes', 'dylan', 'dylans', 'dynasty', 'délices', 'ea', 'eagle', 'ear', 'earl', 'earlier', 'early', 'earmuffs', 'ears', 'earth', 'earthbound', 'earthenware', 'earthgrains', 'earthy', 'earwigged', 'easier', 'easiest', 'easily', 'east', 'easter', 'eastern', 'easy', 'eat', 'eaten', 'eating', 'eats', 'eau', 'ebay', 'ebi', 'echalion', 'echinacea', 'echo', 'eckrich', 'eclair', 'ecolier', 'economic', 'economical', 'ect', 'ed', 'edam', 'edamame', 'edamames', 'eddie', 'edelman', 'edelmann', 'eden', 'edenblend', 'edenfoods', 'edge', 'edged', 'edges', 'edible', 'edibles', 'edith', 'edition', 'editor', 'editors', 'edmond', 'edmund', 'edward', 'edy', 'ee', 'eel', 'eels', 'effect', 'effective', 'effen', 'efficient', 'eg', 'egg', 'eggbeater', 'eggcups', 'eggland', 'egglant', 'eggless', 'eggnog', 'eggo', 'eggology', 'eggplant', 'eggplants', 'eggroll', 'eggs', 'eggsfinishing', 'eggshell', 'eggshells', 'eggwash', 'eggwhite', 'eggy', 'egrave', 'egyptian', 'eight', 'eighteen', 'eighth', 'eighths', 'eights', 'eiswein', 'either', 'el', 'elaborate', 'elaichi', 'elan', 'elastic', 'elberta', 'elbo', 'elbow', 'elbows', 'elderberries', 'elderberry', 'elderflower', 'elderflowers', 'eleanora', 'electric', 'elements', 'elephant', 'eleve', 'elgin', 'elijah', 'eliminate', 'elimination', 'elite', 'elixer', 'elixir', 'elizabeth', 'elk', 'ellen', 'else', 'em', 'email', 'emailing', 'embasa', 'embassa', 'embellish', 'embers', 'emerald', 'emergency', 'emergo', 'emeril', 'emillion', 'emmanthal', 'emmental', 'emmentaler', 'emmentaller', 'emmenthal', 'emmenthaler', 'emmer', 'emon', 'empanada', 'empanadas', 'empire', 'emptied', 'empty', 'emulsification', 'emulsified', 'emulsifier', 'emulsion', 'en', 'enamel', 'enameled', 'encanto', 'encases', 'enchilada', 'enchiladas', 'enchilado', 'enclose', 'enclosed', 'encona', 'encrusted', 'end', 'endive', 'endives', 'endless', 'ends', 'enebro', 'ener', 'energy', 'england', 'english', 'enhanced', 'enhancer', 'enjoy', 'enlich', 'eno', 'enoki', 'enokis', 'enough', 'enriched', 'ensalada', 'ental', 'entenmann', 'entertaining', 'entertainment', 'enthusiast', 'entilde', 'entire', 'entirely', 'entrecotes', 'entree', 'entremet', 'envelope', 'envelopes', 'environmentally', 'envy', 'eo', 'epasote', 'epazote', 'epee', 'epi', 'epices', 'epilobium', 'epis', 'episode', 'epoisse', 'equal', 'equaling', 'equally', 'equals', 'equates', 'equator', 'equatoriale', 'equatorially', 'equators', 'equimpent', 'equipment', 'equis', 'equivalent', 'equpment', 'er', 'erawan', 'erenghi', 'erengi', 'erh', 'eringi', 'eros', 'eryngii', 'erythritol', 'es', 'escabeche', 'escabèche', 'escalopes', 'escargot', 'escargots', 'escarole', 'escolar', 'escovitch', 'espagnole', 'especial', 'especially', 'espelette', 'espellette', 'esplette', 'espoons', 'espresso', 'espressos', 'espumas', 'esque', 'essa', 'essence', 'essencia', 'essensia', 'essential', 'essentials', 'essex', 'estate', 'etalon', 'etc', 'etched', 'ethiopian', 'ethmix', 'ethnic', 'ethnicgrocer', 'etorki', 'etouffee', 'etsy', 'ette', 'eureka', 'europe', 'european', 'europeanstyle', 'eva', 'evan', 'evans', 'evaporated', 'evaporates', 'eve', 'even', 'evening', 'evenly', 'eveque', 'ever', 'everclear', 'everglades', 'every', 'everyday', 'everyone', 'everything', 'evian', 'evicerated', 'eviscerated', 'evoo', 'ew', 'ex', 'exact', 'example', 'exceed', 'excellence', 'excellent', 'except', 'excerpted', 'excess', 'excessively', 'exclude', 'excluding', 'exhibit', 'exopat', 'exotic', 'exotics', 'expeller', 'expensive', 'expiration', 'explain', 'explained', 'exploding', 'explorateur', 'explorator', 'expose', 'exposing', 'express', 'expresso', 'ext', 'extact', 'exterior', 'external', 'extinct', 'extinguisher', 'extra', 'extrac', 'extract', 'extracted', 'extractor', 'extracts', 'extrafirm', 'extralarge', 'extras', 'extrasharp', 'extravirgin', 'extreme', 'extremely', 'eye', 'eyeball', 'eyeballs', 'eyed', 'eyes', 'ez', 'ezekiel', 'fabada', 'fabbri', 'fabes', 'fabric', 'fabrics', 'face', 'faceted', 'facilitate', 'facing', 'factory', 'facts', 'fage', 'fah', 'fail', 'faint', 'fair', 'fairly', 'faith', 'fajita', 'fajitas', 'falafel', 'falernum', 'fall', 'fallen', 'fallot', 'fallow', 'falls', 'famie', 'familia', 'family', 'famous', 'famouschocolate', 'fan', 'fancy', 'fanned', 'fans', 'fanta', 'fantail', 'fantasma', 'fantasy', 'far', 'farang', 'fare', 'farfalle', 'farfalline', 'farfallini', 'farfel', 'farfelle', 'farina', 'farinata', 'farinha', 'farl', 'farm', 'farmed', 'farmer', 'farmers', 'farmhouse', 'farmland', 'farms', 'farmstead', 'faro', 'farofa', 'farro', 'farron', 'farrotto', 'fashion', 'fashioned', 'fast', 'faster', 'fat', 'fatback', 'fats', 'fattened', 'fatter', 'fattier', 'fatty', 'faugier', 'faux', 'fava', 'favas', 'favored', 'favorite', 'favoriteprepared', 'favorites', 'fax', 'fe', 'feather', 'feathers', 'feathery', 'fed', 'fedelini', 'fee', 'feed', 'feel', 'feeling', 'feet', 'feisty', 'felicitas', 'felt', 'feltner', 'female', 'femur', 'fen', 'fence', 'fenix', 'fennel', 'fentimans', 'fenugreek', 'fera', 'fermentation', 'fermented', 'fermentee', 'fermentor', 'fern', 'fernet', 'ferns', 'fernshoots', 'ferrand', 'ferula', 'feshly', 'feta', 'fetta', 'fette', 'fettuccine', 'fettuccini', 'fettucine', 'fettucini', 'feuillantine', 'feuille', 'feuilletine', 'feullantine', 'fever', 'fewer', 'fiber', 'fiberous', 'fibers', 'fibrous', 'ficelle', 'ficelles', 'fiddlehead', 'fiddleheads', 'fideo', 'fideos', 'fideus', 'field', 'fieri', 'fiery', 'fiesta', 'fife', 'fifteen', 'fifth', 'fifths', 'fig', 'figlets', 'figs', 'figurine', 'filaments', 'filberts', 'file', 'filet', 'filets', 'filing', 'filipino', 'filippo', 'fill', 'filled', 'fillers', 'fillet', 'filleted', 'fillets', 'filling', 'fillings', 'fillo', 'film', 'filo', 'filter', 'filtered', 'filters', 'filé', 'fin', 'final', 'finally', 'financier', 'find', 'findit', 'fine', 'fined', 'finely', 'finelychopped', 'finelydiced', 'finelygrated', 'finelyminced', 'finemesh', 'finer', 'fines', 'finest', 'finger', 'fingered', 'fingerling', 'fingerlings', 'fingers', 'fingertips', 'fini', 'finish', 'finished', 'finishing', 'finlandia', 'finley', 'finn', 'finnan', 'finnish', 'finns', 'fino', 'finocchiona', 'finochionna', 'fins', 'fiore', 'fiorentini', 'fiori', 'fiour', 'fir', 'fire', 'fireball', 'firecracker', 'firefly', 'firehouse', 'fireplace', 'fireproof', 'fireroasted', 'fires', 'fireweed', 'firewood', 'firm', 'firmed', 'firmer', 'firmish', 'firmly', 'first', 'fiselle', 'fish', 'fishcakes', 'fisher', 'fishing', 'fishmonger', 'fishy', 'fist', 'fistful', 'fistfuls', 'fistsized', 'fit', 'fitini', 'fits', 'fitted', 'fitting', 'fitzgerald', 'five', 'fivespice', 'fix', 'fixin', 'fixing', 'fixings', 'fizz', 'fizzier', 'fizzy', 'fl', 'fla', 'flagelot', 'flageolet', 'flageolets', 'flags', 'flagship', 'flake', 'flaked', 'flakes', 'flaking', 'flaky', 'flambe', 'flambeed', 'flambeing', 'flame', 'flamed', 'flameproof', 'flames', 'flan', 'flanc', 'flanged', 'flank', 'flanken', 'flap', 'flapjacks', 'flaps', 'flared', 'flaring', 'flash', 'flask', 'flat', 'flatbread', 'flatbreads', 'flatfish', 'flatiron', 'flatleaf', 'flatout', 'flats', 'flatten', 'flattened', 'flattening', 'flatter', 'flautas', 'flavor', 'flavored', 'flavorful', 'flavoring', 'flavorings', 'flavorless', 'flavors', 'flavoured', 'flax', 'flaxseed', 'flaxseeds', 'flay', 'flea', 'fleck', 'flecked', 'fleischmann', 'fleishmann', 'flemish', 'flesh', 'fleshed', 'fleshly', 'fleshy', 'fleur', 'flex', 'flexible', 'flies', 'flint', 'flip', 'flippers', 'flipping', 'flipsides', 'float', 'floc', 'floor', 'floppy', 'flor', 'floral', 'florentine', 'florentines', 'florentyna', 'floret', 'florets', 'florettes', 'florida', 'floridian', 'florio', 'florist', 'floss', 'flot', 'flott', 'floud', 'flounder', 'flounders', 'flour', 'floured', 'flouring', 'flourless', 'flours', 'floury', 'flow', 'flower', 'flowerets', 'flowerettes', 'flowering', 'flowerlets', 'flowers', 'flowery', 'floz', 'fluff', 'fluffed', 'fluffy', 'fluid', 'fluke', 'flush', 'flushed', 'flute', 'fluted', 'flutes', 'fly', 'flying', 'fnely', 'fo', 'foam', 'foamed', 'foaming', 'foamy', 'focaccia', 'foccaccia', 'foccacia', 'fog', 'foglie', 'foie', 'foil', 'fol', 'fold', 'folded', 'folding', 'foley', 'folger', 'folgers', 'follow', 'following', 'follows', 'folows', 'fond', 'fondant', 'fonds', 'fondue', 'fonduta', 'fong', 'font', 'fontal', 'fontana', 'fontina', 'fontinella', 'food', 'foodnetwork', 'foods', 'fools', 'foot', 'football', 'footballs', 'footlong', 'footnote', 'foraged', 'forbes', 'forbidden', 'force', 'forced', 'fordhook', 'fordough', 'fords', 'fordusting', 'forefinger', 'foreleg', 'forell', 'forelle', 'forelli', 'foreshanks', 'forest', 'forester', 'forgarnish', 'forget', 'fork', 'forked', 'forks', 'form', 'formaggino', 'formed', 'forming', 'forms', 'formula', 'forravioli', 'forrest', 'forseasoning', 'forserving', 'forsprinkling', 'forte', 'fortified', 'fortifying', 'fortress', 'fortrimmed', 'fortune', 'fortunes', 'forturkey', 'forty', 'foster', 'fougasse', 'found', 'foundation', 'founders', 'fountain', 'four', 'fourme', 'fours', 'fourteen', 'fourth', 'fourths', 'fowl', 'fox', 'foxtrot', 'fra', 'frache', 'fractions', 'fraeche', 'fragmented', 'fragments', 'fragrant', 'fraiche', 'frais', 'fraise', 'fraises', 'fraiîhe', 'framboise', 'frames', 'fran', 'franc', 'france', 'francisco', 'franco', 'frangelica', 'frangelico', 'frangipane', 'frank', 'frankfurter', 'frankfurters', 'franklin', 'franks', 'franny', 'frappuccino', 'frascati', 'fraser', 'fratelli', 'fraìche', 'fraîche', 'fraîhe', 'fraïche', 'freah', 'freak', 'fred', 'free', 'freekeh', 'freerange', 'freesias', 'freestone', 'freeze', 'freezer', 'freezing', 'fregola', 'fregula', 'freia', 'freixenet', 'frekeh', 'french', 'frenched', 'frencher', 'fresca', 'fresco', 'fresh', 'freshbasil', 'freshdirect', 'freshed', 'fresher', 'freshest', 'freshlovage', 'freshly', 'freshlyground', 'freshwater', 'freshy', 'fresly', 'fresno', 'frexinet', 'fri', 'fribourgeois', 'fricassee', 'frico', 'friday', 'fridge', 'fried', 'frieda', 'friend', 'friendly', 'friendship', 'fries', 'friggiarelli', 'frijoles', 'frik', 'frika', 'frill', 'frills', 'fris', 'frisee', 'friselle', 'frisje', 'frisky', 'frissee', 'frisée', 'fritas', 'frites', 'frito', 'fritos', 'fritter', 'fritters', 'fritzi', 'friulano', 'friut', 'frizzled', 'frizzling', 'fro', 'frog', 'frogs', 'frolla', 'froma', 'fromage', 'fromager', 'frombasic', 'fromo', 'fromprime', 'frond', 'fronds', 'front', 'frontera', 'frontier', 'froot', 'frooties', 'frost', 'frosted', 'frosting', 'frostingepi', 'frostings', 'frosty', 'froth', 'frothed', 'frothiness', 'frothy', 'froz', 'frozen', 'frozenange', 'fructose', 'fruit', 'fruitcake', 'fruited', 'fruitiest', 'fruits', 'fruity', 'frutti', 'fry', 'fryer', 'fryers', 'frying', 'frymix', 'frypan', 'frères', 'frîache', 'fu', 'fucus', 'fudge', 'fudgy', 'fuerte', 'fufu', 'fugasa', 'fuggles', 'fugi', 'fuhrman', 'fuissé', 'fuji', 'fujis', 'fukunishiki', 'ful', 'full', 'fulls', 'fully', 'fuls', 'fulton', 'fulvi', 'fume', 'fumes', 'fumet', 'fumi', 'fun', 'funfetti', 'funghi', 'fungi', 'fungicides', 'fungus', 'fungusamongus', 'funked', 'funky', 'funnel', 'furikake', 'furikaki', 'furukake', 'fusili', 'fusilli', 'fusion', 'fuss', 'fussili', 'futonaga', 'future', 'fuyu', 'fuzz', 'fuzzy', 'fève', 'ga', 'gabriel', 'gabriele', 'gadgets', 'gaeta', 'gaga', 'gai', 'gal', 'gala', 'galahad', 'galanga', 'galangal', 'galani', 'galco', 'galette', 'galettes', 'galia', 'galiano', 'galletas', 'galliano', 'gallo', 'gallon', 'gallonfish', 'gallonhrimp', 'gallons', 'gamberoni', 'game', 'gammon', 'gan', 'ganache', 'gandules', 'garae', 'garage', 'garam', 'garbage', 'garbanzo', 'garbanzos', 'garbonzo', 'garde', 'gardein', 'garden', 'gardenburger', 'gardenia', 'garganelli', 'gargano', 'gari', 'garinsh', 'garland', 'garli', 'garlic', 'garlicky', 'garlicpowder', 'garlicwurst', 'garnacha', 'garnet', 'garni', 'garnier', 'garning', 'garnis', 'garnish', 'garnished', 'garnishes', 'garnishhalibut', 'garnishing', 'garnsih', 'garolic', 'garrotxa', 'garten', 'garu', 'garum', 'gas', 'gascone', 'gaspar', 'gastrique', 'gastronomie', 'gastronomy', 'gated', 'gather', 'gathered', 'gator', 'gatorade', 'gaufrette', 'gaufrettes', 'gauge', 'gaujillo', 'gavottes', 'gay', 'gayle', 'gazpacho', 'gdl', 'gear', 'gebhardt', 'geechee', 'geese', 'gefilte', 'gel', 'gelatin', 'gelatine', 'gelatinous', 'gelato', 'gelee', 'gelled', 'gels', 'gem', 'gemelli', 'gemellini', 'gems', 'general', 'generally', 'generic', 'generous', 'generously', 'genmai', 'gennaro', 'genoa', 'genoise', 'genovese', 'gentiane', 'gentle', 'gentleman', 'gently', 'gentlycleaned', 'genuine', 'genutine', 'geoduck', 'geoff', 'george', 'georgia', 'georgian', 'geound', 'gephart', 'geranium', 'geraniums', 'gerbera', 'gerhardt', 'germ', 'germain', 'germaine', 'german', 'germinated', 'germs', 'gervertztraminer', 'get', 'getting', 'gewurtztraminer', 'gewurztraminer', 'gewürztraminer', 'gf', 'gh', 'ghanoush', 'ghee', 'gherkin', 'gherkins', 'ghiradelli', 'ghirardelli', 'ghirdelli', 'ghost', 'ghosts', 'gia', 'giada', 'gianduja', 'giandujia', 'giant', 'giardella', 'giardineria', 'giardiniera', 'giblet', 'giblets', 'gibson', 'gift', 'gigante', 'gigantes', 'gigi', 'gigli', 'gigondas', 'gilded', 'gilka', 'gill', 'gilled', 'gills', 'gim', 'gimme', 'gin', 'gina', 'ginersnaps', 'gingelly', 'ginger', 'gingerade', 'gingerbread', 'gingered', 'gingeroot', 'gingerroot', 'gingersnap', 'gingersnaps', 'gingersnapz', 'gingerv', 'gingery', 'gingko', 'ginjo', 'ginkgo', 'ginko', 'ginseng', 'gioi', 'giorno', 'girard', 'girardelli', 'giri', 'girl', 'girls', 'giroles', 'girolles', 'giuliano', 'giusto', 'give', 'gives', 'giving', 'gizmos', 'gizzard', 'gizzards', 'gjetost', 'glac', 'glacage', 'glace', 'glaced', 'glaceed', 'glacer', 'glaces', 'glacé', 'glacéed', 'glacés', 'glad', 'glass', 'glasses', 'glassine', 'glassware', 'glaze', 'glazed', 'glazeepi', 'glazing', 'glen', 'glenfiddich', 'glenn', 'glitter', 'global', 'globe', 'gloopy', 'glory', 'gloss', 'glossing', 'glossy', 'gloucester', 'glove', 'gloves', 'glucose', 'glue', 'glug', 'glugs', 'glutamate', 'gluten', 'glutino', 'glutinous', 'glycerin', 'glycerine', 'gm', 'gmo', 'gnocchetti', 'gnocchi', 'gnocci', 'gnochetti', 'gnudi', 'go', 'goan', 'goat', 'goats', 'goblets', 'gobo', 'gocho', 'gochu', 'gochuchang', 'gochugaru', 'gochujang', 'goddess', 'godello', 'godiva', 'gods', 'goes', 'goggles', 'gogh', 'gohan', 'going', 'goji', 'gojuchang', 'gold', 'golden', 'goldenbells', 'goldfish', 'goldhen', 'goldings', 'goldish', 'goldleafcompany', 'golds', 'goldschlager', 'goldschlagger', 'goldschläger', 'goldust', 'golen', 'golf', 'goma', 'gomashio', 'gomatare', 'gomme', 'gone', 'gongonzola', 'gonna', 'gonsalves', 'gonzolves', 'goo', 'goobers', 'good', 'goodbar', 'goodies', 'goodman', 'goodness', 'goodquality', 'goods', 'goodwill', 'gooey', 'goop', 'goose', 'gooseberries', 'gooseberry', 'goot', 'gordon', 'goreng', 'gorgeous', 'gorgonzola', 'gosling', 'goslings', 'got', 'gouda', 'goudenband', 'gougeres', 'goulash', 'gound', 'gourd', 'gourmandise', 'gourmet', 'gown', 'goya', 'goyoza', 'grace', 'grade', 'gradually', 'graduated', 'grady', 'grafton', 'graham', 'grahams', 'grain', 'grained', 'grains', 'grainy', 'gram', 'grams', 'gran', 'grana', 'grand', 'grandma', 'grandmother', 'grands', 'granita', 'granite', 'granny', 'grano', 'granola', 'granualted', 'granular', 'granulated', 'granule', 'granules', 'grape', 'grapefruit', 'grapefruits', 'grapefuit', 'grapes', 'grapeseed', 'grapeskin', 'grapevine', 'grappa', 'gras', 'grasp', 'grass', 'grasshopper', 'grasshoppers', 'grate', 'grated', 'gratedfresh', 'gratedkosher', 'grater', 'graters', 'grates', 'gratin', 'grating', 'gratings', 'grave', 'gravenstein', 'gravenstien', 'gravity', 'gravlax', 'gravy', 'gravymaster', 'gray', 'grease', 'greased', 'greasing', 'great', 'greater', 'greatest', 'greatly', 'grechetto', 'greco', 'greece', 'greek', 'green', 'greener', 'greenery', 'greening', 'greenings', 'greenish', 'greenline', 'greens', 'greentomatoes', 'gremolada', 'gremolata', 'grenache', 'grenadine', 'gressingham', 'grey', 'gribenes', 'gribines', 'griddle', 'griddled', 'griddling', 'grigio', 'grill', 'grille', 'grilled', 'grillers', 'grillin', 'grilling', 'grillmates', 'grillotine', 'grind', 'grinded', 'grinder', 'grinders', 'grinding', 'grindings', 'grinds', 'grins', 'griottes', 'gris', 'grissini', 'gristle', 'grit', 'grits', 'gritted', 'gritty', 'groat', 'groats', 'grocer', 'groceries', 'grocers', 'grocery', 'grolsch', 'grooved', 'gros', 'grosso', 'ground', 'groundblack', 'grounded', 'groundnut', 'grounds', 'groundyellow', 'grouper', 'groups', 'grouse', 'grove', 'grow', 'grown', 'grreen', 'gruet', 'gruner', 'gruy', 'gruyere', 'gruyáre', 'gruyère', 'gruyére', 'grüner', 'gua', 'guacamole', 'guadeloupean', 'guadeloupian', 'guajillo', 'guajillos', 'guanabana', 'guanciale', 'guapo', 'guar', 'guarana', 'guard', 'guardian', 'guascas', 'guava', 'guavas', 'guedge', 'guerito', 'guero', 'guerrero', 'guess', 'guest', 'guests', 'gueze', 'guide', 'guideline', 'guidelines', 'guijilb', 'guijillo', 'guilia', 'guilin', 'guiltless', 'guindilla', 'guinea', 'guinness', 'guittard', 'gulden', 'gulf', 'gum', 'gumball', 'gumballs', 'gumbo', 'gumdrop', 'gumdrops', 'gummi', 'gummies', 'gummy', 'gums', 'gun', 'gundillas', 'gunpowder', 'guntur', 'gurih', 'gurroxta', 'guru', 'gusano', 'gushy', 'gustiamo', 'gusto', 'gut', 'guts', 'gutted', 'guy', 'guyaba', 'guys', 'guérande', 'gwa', 'gwaltney', 'gwen', 'gyoza', 'gypsum', 'gypsy', 'gyro', 'gyromitre', 'gz', 'génoise', 'gênoise', 'ha', 'haagen', 'haas', 'habana', 'habanera', 'habanero', 'habaneros', 'habas', 'habañero', 'habenaro', 'habenero', 'habeneros', 'habichuela', 'hachiya', 'hacienda', 'hacked', 'hackleback', 'haco', 'haddie', 'haddock', 'haeng', 'hafi', 'haiga', 'hair', 'hairy', 'haitian', 'hajikami', 'hake', 'hakurei', 'hakusai', 'hakusan', 'haldi', 'halen', 'half', 'halfed', 'halfway', 'halibut', 'hall', 'halloumi', 'hallow', 'halloween', 'halo', 'haloumi', 'halvah', 'halve', 'halved', 'halves', 'ham', 'hamachi', 'hamakua', 'hamburger', 'hamburgers', 'hamersley', 'hamlin', 'hammer', 'hampton', 'hamptons', 'hams', 'han', 'hana', 'hand', 'handcrushed', 'handcut', 'handful', 'handfull', 'handfulls', 'handfuls', 'handheld', 'handi', 'handle', 'handled', 'handles', 'handling', 'handmade', 'handpicked', 'hands', 'handwritten', 'handy', 'hang', 'hangar', 'hanger', 'hanging', 'hanna', 'hannout', 'hanout', 'hansen', 'hansens', 'hanshimiji', 'hanut', 'happy', 'hapuku', 'haralson', 'harbors', 'hard', 'hardboiled', 'hardcooked', 'hardened', 'hardening', 'hardens', 'hardneck', 'hardware', 'hardwood', 'hardy', 'hare', 'haribo', 'haricorts', 'haricot', 'haricots', 'harina', 'harisa', 'harissa', 'harlem', 'harley', 'harmless', 'haroseth', 'harp', 'hartshorn', 'harusame', 'harvati', 'harvest', 'harvested', 'harvey', 'harveys', 'hash', 'hashbrown', 'hashbrowns', 'hass', 'hassel', 'hat', 'hatch', 'hats', 'haunch', 'haupia', 'haute', 'havarti', 'hawaii', 'hawaiian', 'hawayei', 'hawk', 'hawthorn', 'hay', 'hayman', 'haystack', 'haystacks', 'haze', 'hazel', 'hazelnut', 'hazelnuts', 'hazlenut', 'head', 'headed', 'headless', 'headnote', 'heads', 'headsac', 'heal', 'health', 'healthy', 'heaped', 'heaping', 'hears', 'heart', 'hearts', 'hearty', 'heat', 'heated', 'heath', 'heather', 'heating', 'heatproof', 'heats', 'heavier', 'heavily', 'heavy', 'heavyduty', 'hebrew', 'heckers', 'hedgehog', 'hedgehogs', 'heel', 'heels', 'heering', 'hefeweizen', 'hefeweizenstyle', 'hefty', 'height', 'heightens', 'heineken', 'heinekin', 'heinz', 'heir', 'heirloom', 'heirlooms', 'hekka', 'held', 'helix', 'hell', 'hellfire', 'hellman', 'hellmann', 'help', 'helper', 'helpers', 'helpful', 'helps', 'hemisphere', 'hemispherical', 'hemp', 'hen', 'hendrick', 'hendricks', 'hengstenberg', 'hennessey', 'hennessy', 'henry', 'hens', 'herb', 'herbal', 'herbamare', 'herbed', 'herbes', 'herbs', 'herbsaint', 'herby', 'herdez', 'herding', 'heritage', 'herman', 'hero', 'heroes', 'herradura', 'herring', 'herrings', 'hersey', 'hershey', 'hersheys', 'herzog', 'hg', 'hi', 'hibachi', 'hibiki', 'hibiscus', 'hick', 'hickory', 'hidalgo', 'hidden', 'hide', 'hiding', 'hierba', 'hierbabuena', 'high', 'higher', 'highest', 'highland', 'highly', 'highquality', 'hijiki', 'hill', 'hillbilly', 'hills', 'hillshire', 'himachi', 'himalayan', 'hime', 'hind', 'hindquarter', 'hine', 'hines', 'hing', 'hinged', 'hint', 'hios', 'hip', 'hips', 'hiram', 'hispanic', 'hits', 'hiyashi', 'hiziki', 'ho', 'hoagie', 'hoagies', 'hobby', 'hoboken', 'hock', 'hocks', 'hodgson', 'hoegaarden', 'hog', 'hogfish', 'hogie', 'hogwash', 'hoisin', 'hoja', 'hojiblanca', 'hokusetsu', 'hold', 'holders', 'holding', 'holds', 'hole', 'holes', 'holiday', 'holidays', 'holland', 'hollandaise', 'hollandaze', 'hollow', 'hollowed', 'hollows', 'holly', 'holy', 'homade', 'home', 'homegrown', 'homemade', 'homemadetype', 'homestyle', 'hometown', 'hominy', 'hommarus', 'homogenized', 'hon', 'hondashi', 'honest', 'honey', 'honeybell', 'honeycomb', 'honeycrisp', 'honeydew', 'honeydews', 'honeyed', 'honeynut', 'honeysuckle', 'hong', 'honing', 'honkers', 'honshimeji', 'hooch', 'hood', 'hoof', 'hook', 'hooligan', 'hoop', 'hooters', 'hoover', 'hop', 'hopefully', 'hopped', 'hoppers', 'hoppy', 'hops', 'hor', 'horchata', 'horizon', 'horizontal', 'horizontally', 'hormel', 'hormone', 'horn', 'horned', 'hornitos', 'hors', 'horseradish', 'horticultural', 'hose', 'hoshi', 'hosin', 'hostess', 'hot', 'hotchkiss', 'hotdog', 'hotdogs', 'hotel', 'hotels', 'hothoney', 'hothouse', 'hotness', 'hots', 'hotsauce', 'hotshortbread', 'hotter', 'hottest', 'houdini', 'hour', 'hours', 'house', 'household', 'houses', 'houton', 'hovmastarsas', 'however', 'hoy', 'hp', 'hpnotiq', 'hreavy', 'href', 'hsing', 'html', 'http', 'hu', 'huacatay', 'hubbard', 'huckleberries', 'huckleberry', 'hudson', 'hudsonvalleyfoiegras', 'hudsonville', 'hues', 'huge', 'hugs', 'huichol', 'huitlacoche', 'hukilau', 'hull', 'hulled', 'hum', 'humboldt', 'humbolt', 'hummus', 'hunan', 'hundred', 'hung', 'hungarian', 'hungry', 'hunk', 'hunks', 'hunt', 'hunter', 'hunts', 'hunza', 'hurry', 'hush', 'hushpuppies', 'hushpuppy', 'husk', 'husked', 'husks', 'huy', 'hy', 'hydrangea', 'hydrate', 'hydrated', 'hydrating', 'hydro', 'hydrogenated', 'hydromel', 'hydroponic', 'hydroxide', 'hyssop', 'häagen', 'hôtel', 'ian', 'ib', 'ibarra', 'iberian', 'iberico', 'ice', 'iceberg', 'iceberglettuce', 'icebox', 'iceburg', 'icecold', 'icecream', 'iced', 'icelandic', 'icepop', 'ich', 'ichimi', 'icicle', 'icing', 'icingepi', 'icings', 'id', 'ida', 'idaho', 'idahoan', 'idahos', 'ideal', 'ideally', 'ideas', 'identical', 'identification', 'identified', 'idiazabal', 'idiazábal', 'ie', 'ignite', 'igourmet', 'ii', 'ike', 'ikea', 'ikura', 'il', 'ila', 'ilha', 'illabo', 'illet', 'ilmercatoitaliano', 'imagine', 'imitation', 'immaculate', 'immature', 'immediately', 'immerse', 'immersion', 'impart', 'impasta', 'impastata', 'imperia', 'imperial', 'imperials', 'important', 'imported', 'imports', 'impromptu', 'improvise', 'impurities', 'impériale', 'imu', 'ina', 'inadobo', 'inamona', 'inari', 'inboiling', 'inc', 'inca', 'ince', 'inch', 'inchalmond', 'inchcubes', 'inchdice', 'inche', 'inches', 'inchesand', 'inchlong', 'inchpieces', 'incht', 'inchthick', 'inchwide', 'incision', 'inck', 'include', 'included', 'includes', 'including', 'incorporate', 'increase', 'increased', 'increments', 'incubator', 'indentations', 'indents', 'index', 'india', 'indian', 'indiana', 'indianblend', 'indicated', 'indicates', 'indies', 'indirect', 'indispensable', 'individual', 'individually', 'indonesian', 'indoor', 'indulgence', 'inedible', 'inexpensive', 'infant', 'info', 'information', 'infornate', 'infuse', 'infused', 'infusing', 'infusion', 'infusions', 'ingesting', 'inglehoffer', 'ingredient', 'ingredients', 'inh', 'inhalf', 'inhes', 'injectable', 'injected', 'injection', 'injector', 'injera', 'ink', 'inn', 'inna', 'innards', 'inner', 'innermost', 'inniskillin', 'innovasian', 'inpursuitoftea', 'ins', 'insam', 'insanely', 'insects', 'insert', 'inserted', 'inserting', 'inside', 'insides', 'insist', 'inspirations', 'inspired', 'inspires', 'insta', 'instacure', 'instant', 'instead', 'instructed', 'instruction', 'instructions', 'insufficient', 'insulated', 'intact', 'intake', 'intense', 'intensely', 'interesting', 'interfere', 'interior', 'international', 'intervals', 'intestines', 'inthe', 'intoquarters', 'intro', 'invented', 'invert', 'invertase', 'inverted', 'investment', 'iodized', 'iowsodium', 'ipa', 'ipswich', 'iqf', 'iranian', 'iraty', 'irgin', 'iriko', 'irises', 'irish', 'iron', 'irregular', 'irregularly', 'irvine', 'isaiah', 'isaly', 'ish', 'island', 'islands', 'islay', 'isle', 'isnecessary', 'isolate', 'isomalt', 'israel', 'israeli', 'issue', 'italia', 'italian', 'italiano', 'italy', 'item', 'items', 'ivanhoe', 'ivoire', 'ivory', 'ivy', 'ja', 'jack', 'jackcheese', 'jacked', 'jackets', 'jackfruit', 'jacobsen', 'jaegermeister', 'jagermeister', 'jaggery', 'jagody', 'jake', 'jalape', 'jalapeno', 'jalapenos', 'jalapenños', 'jalapeo', 'jalapeos', 'jalapeño', 'jalapeños', 'jalapño', 'jalepeno', 'jalepenos', 'jalepeño', 'jalopeno', 'jalopenos', 'jalpenenos', 'jalpeno', 'jam', 'jamaica', 'jamaican', 'jambalaya', 'jambon', 'jameed', 'james', 'jameson', 'jamiaca', 'jamie', 'jamon', 'jams', 'jamón', 'jan', 'jane', 'janette', 'jang', 'jantaboon', 'jap', 'japan', 'japanese', 'japanesse', 'japapeños', 'japones', 'japonica', 'jar', 'jarlsberg', 'jarlsburg', 'jarred', 'jarritos', 'jars', 'jarslberg', 'jasmati', 'jasmin', 'jasmine', 'jaune', 'java', 'javin', 'jay', 'jazz', 'jazzed', 'jb', 'jd', 'jdk', 'jean', 'jeanne', 'jeera', 'jefe', 'jeff', 'jel', 'jell', 'jellied', 'jellies', 'jello', 'jells', 'jelly', 'jellybeans', 'jellyroll', 'jellyrolls', 'jemima', 'jen', 'jenever', 'jenkins', 'jenlain', 'jennie', 'jerez', 'jerk', 'jerked', 'jerky', 'jerry', 'jersey', 'jerusalem', 'jet', 'jeung', 'jewel', 'jewels', 'jewish', 'jfg', 'jiang', 'jicama', 'jicamas', 'jicima', 'jif', 'jiffy', 'jigger', 'jiggers', 'jim', 'jimenez', 'jimmies', 'jimmy', 'jims', 'jitomate', 'jivara', 'joaquin', 'joconde', 'joe', 'joes', 'joh', 'johannesburg', 'johannisberg', 'john', 'johnagold', 'johnanisberg', 'johnnie', 'johnny', 'johnnycake', 'johnson', 'johnsonville', 'joi', 'joint', 'jointed', 'joints', 'jolly', 'jolokia', 'jonagold', 'jonah', 'jonathan', 'jonathans', 'jones', 'jordan', 'jos', 'jose', 'jouët', 'jowl', 'jowls', 'joy', 'joyva', 'jp', 'jqa', 'jr', 'judgment', 'judiciously', 'judy', 'jug', 'juht', 'juic', 'juicd', 'juice', 'juiceb', 'juiced', 'juicer', 'juices', 'juicier', 'juiciness', 'juicing', 'juicy', 'juilenne', 'juilenned', 'juilienne', 'juilienned', 'jujube', 'jujubes', 'jujyfruits', 'julep', 'jules', 'julia', 'julienne', 'julienned', 'juliennes', 'julio', 'julliene', 'julliened', 'jullienned', 'jumbo', 'jumex', 'jump', 'jung', 'jungle', 'junior', 'juniper', 'junlianned', 'junmai', 'junípero', 'jura', 'jus', 'justice', 'justin', 'justover', 'jut', 'jwala', 'jícama', 'kaali', 'kabanos', 'kabinett', 'kabob', 'kabobs', 'kabocha', 'kaboucha', 'kabsa', 'kacang', 'kacha', 'kadhai', 'kadota', 'kaese', 'kaffir', 'kafir', 'kahl', 'kahlu', 'kahlua', 'kahlza', 'kahlú', 'kahlúa', 'kahlûa', 'kahula', 'kai', 'kaiser', 'kaisers', 'kaitafi', 'kaiware', 'kala', 'kalamansi', 'kalamanta', 'kalamari', 'kalamata', 'kalamatas', 'kalbi', 'kale', 'kalhua', 'kalimyrna', 'kalonji', 'kalua', 'kaluha', 'kalustyan', 'kalustyans', 'kalúa', 'kam', 'kamaboko', 'kame', 'kampot', 'kamut', 'kangaroo', 'kansas', 'kantong', 'kaolin', 'kaong', 'kaori', 'kapusta', 'karashi', 'karat', 'kari', 'karo', 'karpoor', 'karu', 'karv', 'kary', 'kasandrino', 'kase', 'kasha', 'kashi', 'kashkaval', 'kashmiri', 'kasih', 'kasoori', 'kassari', 'kasseri', 'kastoori', 'kasturi', 'kasuri', 'kat', 'kataife', 'kataifi', 'katakuriko', 'kathleen', 'katie', 'katinka', 'katsu', 'katsuo', 'katsuobushi', 'katz', 'kauai', 'kavli', 'kawari', 'kay', 'kc', 'keahole', 'kearn', 'keawe', 'kebab', 'kebabs', 'kebbe', 'kebobs', 'kecap', 'kechap', 'kee', 'keebler', 'keel', 'keen', 'keep', 'keeping', 'keeps', 'kefalograviera', 'kefalotiri', 'kefalotyri', 'keffir', 'kefir', 'keg', 'keiser', 'keisers', 'kekchi', 'kellogg', 'kelly', 'kelp', 'kemp', 'ken', 'kendra', 'kendraskitchen', 'kenko', 'kennabeck', 'kennebeck', 'kenny', 'kensington', 'kent', 'kentjoer', 'kentucky', 'kept', 'kern', 'kernel', 'kernels', 'kerns', 'kerr', 'kerrygold', 'ketchup', 'ketel', 'ketjap', 'kettle', 'kettlepizza', 'kewpie', 'key', 'keys', 'keystone', 'kg', 'kha', 'khakhra', 'khao', 'khmer', 'khorasan', 'khua', 'khus', 'kibbeh', 'kick', 'kicked', 'kickin', 'kid', 'kiddush', 'kidney', 'kidneys', 'kids', 'kielbasa', 'kii', 'kikkoman', 'kill', 'killa', 'killed', 'kilo', 'kilogram', 'kilograms', 'kilos', 'kim', 'kimchee', 'kimchi', 'kimelweck', 'kin', 'kind', 'kindlin', 'kinds', 'king', 'kingarthurflour', 'kings', 'kingsford', 'kingui', 'kinh', 'kinome', 'kippered', 'kippers', 'kir', 'kirbies', 'kirby', 'kirin', 'kirkland', 'kirkwood', 'kirmizi', 'kirsch', 'kirschwasser', 'kirsh', 'kirshwasser', 'kishke', 'kiss', 'kissed', 'kisses', 'kit', 'kitchen', 'kitchenmarket', 'kitchens', 'kite', 'kiwi', 'kiwifruit', 'kiwifruits', 'kiwis', 'kix', 'kizami', 'klondike', 'kluski', 'knackwurst', 'knafe', 'knead', 'kneaded', 'kneading', 'knee', 'knife', 'knipla', 'knish', 'knives', 'knob', 'knobs', 'knock', 'knocking', 'knockwurst', 'knoephla', 'knorr', 'knot', 'knots', 'knott', 'knotted', 'know', 'known', 'knox', 'knoxx', 'knuckle', 'knuckles', 'knudsen', 'ko', 'koala', 'koamart', 'kobe', 'kocher', 'kochi', 'kochujang', 'kochukaru', 'kodiak', 'koeksisters', 'koftas', 'kohlrabi', 'kohlrabies', 'kohu', 'koji', 'kojuchang', 'kokuho', 'kolbasi', 'komatsuna', 'kombu', 'kombucha', 'kona', 'konbu', 'kong', 'konriko', 'kool', 'koon', 'korbel', 'korean', 'korma', 'korn', 'kosari', 'koseret', 'kosh', 'kosher', 'koshersalt', 'kosherstyle', 'koshi', 'koshian', 'kosho', 'kovbasa', 'kraft', 'kraken', 'kraprao', 'kraut', 'krayana', 'krazy', 'kreplach', 'kriek', 'krimpets', 'krinkel', 'krinos', 'kris', 'krisp', 'krispies', 'kroeung', 'kroger', 'krogstad', 'krupuk', 'kruse', 'krusteaz', 'kucai', 'kuchela', 'kucho', 'kudzu', 'kuei', 'kugelhopf', 'kugelhupf', 'kukui', 'kula', 'kum', 'kumamoto', 'kumamotos', 'kumara', 'kummelweck', 'kumquat', 'kumquats', 'kumquatsepi', 'kumu', 'kumumoto', 'kung', 'kunomoto', 'kuri', 'kuro', 'kurobuta', 'kuza', 'kvass', 'kwanzaa', 'kway', 'ky', 'kyoto', 'kümmel', 'la', 'labatts', 'label', 'labeled', 'labels', 'labne', 'labneh', 'laboiteny', 'lace', 'laces', 'lacey', 'lacinato', 'lacing', 'lack', 'lacquer', 'lacquered', 'lacroix', 'lactaid', 'lactate', 'lacto', 'lactose', 'lacy', 'laden', 'ladle', 'ladolemono', 'lady', 'ladyfinger', 'ladyfingers', 'lafe', 'laffy', 'lagavulin', 'lager', 'lagerstyle', 'laguiole', 'lagunitas', 'laird', 'lait', 'lake', 'lakefront', 'lakes', 'lakeside', 'laksa', 'lalah', 'lamb', 'lambic', 'lambrusco', 'lambs', 'lame', 'lamill', 'lamp', 'lan', 'lancashire', 'lancaster', 'lancelot', 'land', 'langhan', 'langostines', 'langostino', 'langostinos', 'langoustine', 'langoustines', 'lanka', 'lankan', 'lantana', 'lantern', 'lap', 'lapchang', 'lapchong', 'lapchongs', 'laphroaig', 'laphroiag', 'lapsang', 'laquercia', 'lard', 'larded', 'larding', 'lardo', 'lardon', 'lardons', 'lardoons', 'large', 'largefrench', 'largely', 'larger', 'largest', 'largish', 'lars', 'lasagna', 'lasagne', 'lasagnette', 'last', 'late', 'later', 'laterally', 'latex', 'latienda', 'latik', 'latin', 'latina', 'latino', 'latke', 'latkes', 'latourangelle', 'latte', 'latter', 'lattice', 'lauer', 'laughing', 'laura', 'laurel', 'laurentiis', 'lava', 'lavang', 'lavash', 'lavazza', 'lavender', 'laver', 'lavosh', 'law', 'lawry', 'laxmi', 'lay', 'layer', 'layered', 'layering', 'layers', 'lazy', 'lazzaroni', 'lb', 'lbs', 'le', 'lea', 'leaaves', 'lead', 'leaf', 'leafed', 'leafs', 'leafy', 'lean', 'leaner', 'leanest', 'leanness', 'least', 'leather', 'leathers', 'leatherwood', 'leathery', 'leave', 'leaved', 'leavener', 'leavening', 'leaves', 'leavesfinely', 'leaving', 'lebanese', 'lebkuchen', 'leblon', 'lebneh', 'leche', 'lechera', 'leches', 'lechón', 'lecithin', 'lee', 'leek', 'leeks', 'leeners', 'leer', 'lefse', 'left', 'leftover', 'leftovers', 'leg', 'legs', 'legthwise', 'legumes', 'leicester', 'leidenheimer', 'lek', 'lekvar', 'lemon', 'lemonade', 'lemoncello', 'lemongrass', 'lemons', 'lemony', 'lemonzest', 'lend', 'lenghthwise', 'lenghtwise', 'lengkuas', 'length', 'lengths', 'lengthways', 'lengthwise', 'lengua', 'lenticchie', 'lentil', 'lentilles', 'lentils', 'leo', 'leon', 'leonardo', 'leones', 'lepicerie', 'lescure', 'less', 'lesueur', 'let', 'letters', 'lettuce', 'lettuces', 'levain', 'level', 'leveled', 'leveling', 'levels', 'leves', 'lexington', 'leyden', 'lg', 'li', 'lian', 'libby', 'liberal', 'liberty', 'lichee', 'lick', 'licor', 'licorice', 'lid', 'lids', 'lie', 'liefman', 'liege', 'lievito', 'life', 'lifesavers', 'lift', 'lifter', 'ligament', 'light', 'lightbrown', 'lighten', 'lightened', 'lighter', 'lighting', 'lightlife', 'lightly', 'lightlysweetened', 'lightning', 'lighttasting', 'lightweight', 'liguria', 'ligurian', 'like', 'liked', 'likes', 'liking', 'lil', 'lilies', 'lilikoi', 'lillet', 'lilly', 'lily', 'lima', 'limas', 'limburger', 'lime', 'limeade', 'limejuice', 'limes', 'limestone', 'limezest', 'limited', 'limo', 'limon', 'limonada', 'limonata', 'limoncello', 'limoncillo', 'limone', 'limu', 'linch', 'lindemans', 'lindor', 'lindsay', 'lindt', 'lindy', 'line', 'lined', 'linen', 'liner', 'liners', 'lines', 'ling', 'lingcod', 'lingham', 'lingonberries', 'lingonberry', 'lingots', 'lingui', 'linguica', 'linguine', 'linguinetti', 'linguini', 'linguisa', 'linguiça', 'lini', 'linie', 'lining', 'link', 'linkback', 'linked', 'links', 'linquini', 'linseed', 'linseeds', 'lint', 'lion', 'lionel', 'lionfish', 'lip', 'lipped', 'lips', 'lipton', 'liquada', 'liquefied', 'liquefy', 'liquer', 'liqueuer', 'liqueur', 'liqueurs', 'liquid', 'liquids', 'liquified', 'liquor', 'liquorice', 'liquors', 'lis', 'lisbon', 'lisci', 'liscie', 'list', 'listed', 'listing', 'lit', 'litchi', 'litchis', 'lite', 'liter', 'literally', 'liters', 'litre', 'litres', 'little', 'littleneck', 'littlenecks', 'live', 'liver', 'liverot', 'livers', 'liverwurst', 'lizano', 'llama', 'lo', 'loa', 'load', 'loading', 'loads', 'loaf', 'loafs', 'loaves', 'loavescorn', 'lobe', 'lobes', 'lobster', 'lobsters', 'loc', 'local', 'locally', 'locate', 'located', 'locatella', 'locatelli', 'locked', 'lockhart', 'loco', 'loconut', 'locoto', 'locust', 'locusts', 'log', 'logan', 'loganberries', 'logs', 'loin', 'loinback', 'loins', 'lola', 'lolla', 'lollipop', 'lollipops', 'lollo', 'lombardo', 'lomi', 'lomo', 'london', 'lone', 'long', 'longaniza', 'longer', 'longevity', 'longgrain', 'longhorn', 'longon', 'longway', 'longways', 'longwise', 'loofah', 'look', 'looks', 'loom', 'loomi', 'loop', 'looped', 'loops', 'loose', 'loosely', 'loosen', 'loosened', 'looza', 'lop', 'lopez', 'loquat', 'loquats', 'lorann', 'lord', 'lorenzo', 'lorna', 'lorraine', 'los', 'losher', 'lost', 'lot', 'lots', 'lotta', 'lotus', 'louie', 'louis', 'louisiana', 'loukanika', 'loup', 'lour', 'loute', 'lovage', 'love', 'loveless', 'lovely', 'lover', 'lovers', 'low', 'lowcountry', 'lower', 'lowering', 'lowery', 'lowfat', 'lowry', 'lowsalt', 'lowsodium', 'lox', 'loóza', 'lpound', 'lt', 'ltd', 'lttle', 'lu', 'lua', 'luau', 'lubricating', 'luca', 'lucini', 'luck', 'lucknow', 'lucknowi', 'lucky', 'lucques', 'lucía', 'lug', 'luganega', 'luger', 'lugs', 'lukanka', 'luke', 'lukewarm', 'lulo', 'lumaconi', 'lumb', 'lumber', 'lumberyards', 'lump', 'lumpfish', 'lumpia', 'lumpias', 'lumps', 'lumpy', 'luna', 'lunazul', 'lunch', 'luncheon', 'lunchmate', 'lunchmeat', 'lundberg', 'lung', 'lunghi', 'luo', 'lup', 'lupe', 'luscious', 'lustau', 'luster', 'lusterdust', 'luxardo', 'lychee', 'lychees', 'lying', 'lyle', 'lyles', 'lynnhaven', 'lyons', 'lópez', 'mac', 'maca', 'macadamia', 'macadamias', 'macademia', 'macapuno', 'macaron', 'macaronade', 'macaroni', 'macarons', 'macaroon', 'macaroons', 'maccheroncini', 'macchiato', 'mace', 'macedonian', 'macerated', 'machaca', 'machacado', 'mache', 'machine', 'machines', 'machj', 'machlin', 'macho', 'machos', 'macintosh', 'mackeral', 'mackerel', 'mackerels', 'mackeson', 'macon', 'macoun', 'macouns', 'macrina', 'macsagna', 'madagascan', 'madagascar', 'maddalena', 'made', 'madeira', 'madeleine', 'madeleines', 'madiera', 'madras', 'maduro', 'maduros', 'mae', 'maekrua', 'mafalda', 'mafalde', 'mafaldine', 'maftoul', 'magazine', 'maggi', 'maggie', 'maggies', 'maggots', 'magi', 'magic', 'magical', 'magnesium', 'magnet', 'magnetized', 'magnificent', 'magnum', 'magpie', 'magret', 'magrets', 'maguey', 'maguro', 'mahal', 'maharaja', 'mahatma', 'mahi', 'mahimahi', 'mahlab', 'mahleb', 'mahlepi', 'mahoganies', 'mahogany', 'mahon', 'mahón', 'mai', 'maid', 'maida', 'maiden', 'maifun', 'mail', 'maille', 'main', 'maine', 'maison', 'maitake', 'maitakes', 'maitaké', 'maiz', 'maize', 'maizena', 'maja', 'majhoul', 'majool', 'major', 'majoram', 'make', 'maker', 'makers', 'makes', 'maki', 'making', 'makisu', 'mako', 'makroot', 'malabar', 'malaga', 'malagkit', 'malagueta', 'malanga', 'malaysian', 'malbec', 'maldon', 'male', 'maleguata', 'malfade', 'malibu', 'malitol', 'mallard', 'malleable', 'mallet', 'malloreddus', 'malmsey', 'malpecque', 'malpecques', 'malpeque', 'malpeques', 'malt', 'malta', 'maltaise', 'maltas', 'malted', 'maltesers', 'maltodextrin', 'maltose', 'mam', 'mama', 'maman', 'mame', 'mamey', 'mamita', 'mamma', 'mamé', 'man', 'manageable', 'mancego', 'manchego', 'mandarin', 'mandarine', 'mandarins', 'mandolin', 'mandoline', 'mandrange', 'mandrin', 'mangetout', 'mango', 'mangoes', 'mangos', 'mangteout', 'manhattan', 'manicotti', 'manie', 'manila', 'manilla', 'manioc', 'manis', 'manischewitz', 'manishevitz', 'manié', 'manjar', 'manjari', 'manner', 'manoa', 'manouri', 'manteca', 'mantis', 'manto', 'manual', 'manufacturer', 'manufacturing', 'manuka', 'manwich', 'many', 'manzanella', 'manzanilla', 'manzanillas', 'manzanillo', 'manzano', 'mao', 'maple', 'mapled', 'maque', 'mar', 'mara', 'marabo', 'maracino', 'maracuyá', 'maras', 'marasala', 'marasca', 'maraschino', 'marash', 'maraska', 'marble', 'marbled', 'marbleized', 'marbles', 'marc', 'marcela', 'marché', 'marcona', 'marcos', 'mardi', 'mardigrasday', 'mare', 'margarine', 'margarita', 'margaritas', 'margaritaville', 'margerine', 'margherita', 'maria', 'mariage', 'mariani', 'marias', 'marichu', 'marie', 'marigold', 'marigolds', 'marina', 'marinade', 'marinades', 'marinara', 'marinate', 'marinated', 'marinating', 'mariner', 'marion', 'marionberries', 'marionberry', 'maris', 'marjoram', 'mark', 'marked', 'marker', 'markers', 'market', 'markethallfoods', 'markets', 'marlin', 'marmalade', 'marmellata', 'marmite', 'marnano', 'marnier', 'marnique', 'maroon', 'married', 'marron', 'marrons', 'marrow', 'marrowbones', 'mars', 'marsala', 'marscapone', 'marscarpone', 'marshmallow', 'marshmallows', 'marteen', 'martha', 'martin', 'martina', 'martinelli', 'martini', 'martiniquan', 'martiniquen', 'maruchan', 'marukan', 'mary', 'maryland', 'marys', 'marzano', 'marzanos', 'marzeh', 'marzen', 'marzetti', 'marzettis', 'marzipan', 'maría', 'masa', 'masago', 'masala', 'masami', 'masarepa', 'mascarpone', 'mascato', 'masche', 'maseca', 'mash', 'mashed', 'masher', 'mashers', 'mashing', 'mask', 'masking', 'mason', 'masoor', 'mass', 'massala', 'massaman', 'massenez', 'massey', 'master', 'masterpiece', 'mastic', 'masur', 'mat', 'match', 'matcha', 'matchbox', 'matches', 'matchlike', 'matchsicks', 'matchstick', 'matchsticks', 'matchsticksize', 'mate', 'material', 'mates', 'mathilde', 'matilde', 'matjes', 'mats', 'matsuhisa', 'matsutake', 'matsutaké', 'matter', 'mature', 'matured', 'matza', 'matzah', 'matzahs', 'matzo', 'matzoh', 'matzohs', 'matzos', 'maui', 'mauna', 'maure', 'mauro', 'maw', 'max', 'maximum', 'maxwell', 'may', 'mayer', 'mayo', 'mayocoba', 'mayonaise', 'mayonaisse', 'mayonnais', 'mayonnaise', 'mayonniase', 'maytag', 'mazama', 'mazi', 'mazin', 'mazola', 'maíz', 'maître', 'mcbride', 'mccain', 'mccann', 'mccaul', 'mcclure', 'mccollum', 'mccollums', 'mccormick', 'mccoy', 'mcewens', 'mche', 'mcintosh', 'mckenzie', 'mct', 'mcvities', 'mead', 'meal', 'mealworm', 'mealy', 'mean', 'means', 'meanwhile', 'measure', 'measured', 'measurement', 'measurements', 'measures', 'measuring', 'meat', 'meatball', 'meatballs', 'meatless', 'meatloaf', 'meatloaves', 'meats', 'meaty', 'meaux', 'mecos', 'mecox', 'med', 'medaglia', 'medal', 'medallion', 'medallions', 'media', 'medicinals', 'medieval', 'mediterranean', 'medium', 'mediumdry', 'mediumground', 'mediumlarge', 'mediumsize', 'mediumsized', 'mediumtolarge', 'medjool', 'medley', 'medoc', 'mei', 'mein', 'mejhoul', 'melange', 'melba', 'meld', 'melegueta', 'melissa', 'melissas', 'mellocreme', 'mellon', 'mellow', 'mellowest', 'melon', 'melonballer', 'melons', 'melt', 'meltable', 'melted', 'melting', 'melts', 'melty', 'member', 'members', 'membrane', 'membranes', 'membrillo', 'memory', 'mempachi', 'memphis', 'men', 'menemsha', 'menengi', 'menlo', 'menma', 'menonita', 'mentaiko', 'menthe', 'mentos', 'mer', 'mercants', 'mercillos', 'merckens', 'merengue', 'merguez', 'meringue', 'meringues', 'meritage', 'merkts', 'merleton', 'merlot', 'mermalada', 'merry', 'mesa', 'mescal', 'mesclun', 'mesculun', 'meselun', 'mesh', 'meshed', 'meslcun', 'mesophilic', 'mesquite', 'mestemacher', 'metal', 'metallic', 'metaxa', 'meted', 'methe', 'methi', 'method', 'methods', 'metsuyan', 'mex', 'mexciano', 'mexene', 'mexi', 'mexican', 'mexicana', 'mexicanos', 'mexico', 'mexicorn', 'mexicos', 'meyer', 'meyers', 'mezcal', 'mezze', 'mezzetta', 'mezzi', 'mg', 'mgd', 'mi', 'mia', 'miami', 'mian', 'michael', 'miche', 'michel', 'michelada', 'michele', 'michelob', 'michigan', 'michter', 'michu', 'micro', 'microgreens', 'microplane', 'microwavable', 'microwave', 'microwaveable', 'microwaved', 'microwaving', 'mid', 'middle', 'middleneck', 'middlenecks', 'midel', 'midgees', 'midgie', 'midnight', 'midori', 'mie', 'mien', 'migas', 'might', 'mighty', 'mignon', 'mignonette', 'mignons', 'mik', 'mikado', 'mike', 'milanese', 'milano', 'mild', 'milder', 'mildest', 'mildflavored', 'mildly', 'mililiters', 'milk', 'milkballs', 'milkfat', 'milkfish', 'milkimchi', 'milksalt', 'milkshake', 'milkshakes', 'milky', 'mill', 'milled', 'miller', 'millet', 'milligan', 'millileters', 'milliletes', 'milliliter', 'milliliters', 'millimeters', 'millionaire', 'milliters', 'mills', 'milman', 'mimolette', 'min', 'mince', 'minced', 'mincemeat', 'minces', 'mincing', 'mind', 'mindy', 'mined', 'mineirastyle', 'miner', 'mineral', 'minervois', 'minestrone', 'ming', 'mini', 'miniature', 'miniatures', 'minimally', 'minimum', 'minis', 'miniscule', 'minneola', 'minneolas', 'minor', 'minors', 'mins', 'mint', 'minted', 'mints', 'minty', 'minus', 'minute', 'minutes', 'minuti', 'minze', 'mirabo', 'miracle', 'miracles', 'mirasol', 'mire', 'miren', 'mirepoix', 'mirin', 'mirliton', 'mirlitons', 'miscellaneous', 'mislabeled', 'misleadingly', 'miso', 'miss', 'mission', 'mississippi', 'missouri', 'mist', 'mista', 'mister', 'mistika', 'misting', 'mitica', 'mitsuba', 'mitts', 'mix', 'mixed', 'mixer', 'mixers', 'mixes', 'mixing', 'mixoflour', 'mixture', 'miyataki', 'mizithra', 'mizuma', 'mizun', 'mizuna', 'mizuno', 'ml', 'mlo', 'mm', 'mo', 'moano', 'moby', 'mocha', 'mochas', 'mochi', 'mochiko', 'mock', 'mocktail', 'mocktails', 'modela', 'modeling', 'modelo', 'modena', 'moderate', 'moderately', 'modern', 'modestly', 'modified', 'modjeskas', 'moe', 'moet', 'mograbiah', 'mogridder', 'mohala', 'moi', 'moida', 'moist', 'moisten', 'moistened', 'moistening', 'moisture', 'mojito', 'mojo', 'molasses', 'molcajete', 'mold', 'molding', 'moldo', 'molds', 'mole', 'molecular', 'molho', 'molida', 'molido', 'mom', 'momiji', 'momo', 'momokawa', 'momoya', 'mon', 'monaco', 'monde', 'money', 'monger', 'mongetto', 'mongolian', 'monica', 'monin', 'monitor', 'monjunis', 'monk', 'monkey', 'monkfish', 'mono', 'monosodium', 'monsieur', 'mont', 'montagne', 'montagnolo', 'montalcino', 'montana', 'montasio', 'monte', 'montebello', 'montenegro', 'montepulciano', 'monteray', 'monterey', 'monterrey', 'montery', 'montessoriservices', 'montgomery', 'month', 'months', 'montrachet', 'montreal', 'monument', 'moo', 'moon', 'moonfish', 'moong', 'moonglow', 'moons', 'moonshine', 'moore', 'moorea', 'moorehouse', 'moose', 'mop', 'mopping', 'morado', 'morcilla', 'mordelo', 'morefruit', 'morel', 'morelino', 'morello', 'morels', 'morena', 'mores', 'moretti', 'morgan', 'mori', 'morilla', 'moringa', 'morita', 'moritas', 'mornay', 'morning', 'morningstar', 'moroccan', 'moros', 'morph', 'mors', 'morsel', 'morsels', 'mort', 'morta', 'mortadella', 'mortar', 'morteau', 'morton', 'moscatel', 'moscato', 'moscovy', 'mosel', 'moselle', 'moser', 'moss', 'mostaccioli', 'mostaciolli', 'mostarda', 'mostly', 'mosto', 'mote', 'mother', 'moto', 'motorvatin', 'mott', 'mottled', 'mou', 'moulard', 'moulds', 'mounded', 'mounding', 'mounds', 'mount', 'mountain', 'mourvedre', 'moussaka', 'mousse', 'mousseline', 'mousserons', 'moutai', 'moutarde', 'mouth', 'mouths', 'mouton', 'move', 'movie', 'mozza', 'mozzarella', 'mozzerella', 'mp', 'mr', 'mrs', 'ms', 'msc', 'msg', 'mt', 'mu', 'much', 'muchi', 'mud', 'muddle', 'muddled', 'muddler', 'muddlers', 'muddling', 'mudfish', 'mudslide', 'muenster', 'muesli', 'mueslix', 'muffaletta', 'muffin', 'muffins', 'muffuletta', 'mug', 'mugellana', 'mugs', 'muhammara', 'muhummara', 'mui', 'muir', 'muji', 'mulaeto', 'mulato', 'mulatto', 'mulberries', 'mull', 'mulled', 'mullet', 'mullets', 'mulling', 'multi', 'multicolored', 'multigrain', 'multivitimin', 'mulukhiyya', 'mulyeot', 'mummy', 'munchkin', 'mung', 'mungo', 'munich', 'munster', 'murcott', 'murphy', 'murray', 'murrayscheese', 'muscadavo', 'muscade', 'muscadet', 'muscat', 'muscatel', 'muscato', 'muscavado', 'muscle', 'muscles', 'muscovado', 'muscovy', 'mush', 'mushed', 'mushroom', 'mushrooms', 'mushrroms', 'mushy', 'musica', 'musketeers', 'muskmelon', 'muslin', 'mussel', 'musselman', 'mussels', 'must', 'mustar', 'mustard', 'mustards', 'mutabal', 'mutard', 'mutsu', 'mutti', 'mutton', 'muu', 'myer', 'myers', 'mymouné', 'mystery', 'mysticana', 'mystique', 'myun', 'myzithra', 'mâche', 'mâcon', 'märzen', 'mélange', 'ménage', 'místico', 'mõn', 'mûre', 'münster', 'naam', 'naan', 'naans', 'nabisco', 'nacho', 'nachos', 'naga', 'naganegi', 'nage', 'nahm', 'nail', 'naked', 'nam', 'nama', 'name', 'nameko', 'namm', 'nan', 'nance', 'nancy', 'nanno', 'nano', 'nantucket', 'napa', 'napastyle', 'napkin', 'napkins', 'naples', 'napolean', 'napoleon', 'napoletana', 'napoli', 'napoléon', 'nappa', 'naranja', 'naranjilla', 'nardone', 'narrow', 'narrowest', 'narrowing', 'naruto', 'nashi', 'nasi', 'nasoya', 'nasturtium', 'nasturtiumblossoms', 'nasturtiums', 'nata', 'national', 'nationwide', 'native', 'natto', 'natural', 'naturally', 'naturals', 'naturalstyle', 'nature', 'naturegg', 'naturel', 'naturesweet', 'naturipe', 'naughty', 'naval', 'navan', 'navel', 'navels', 'navy', 'nbsp', 'nd', 'nduja', 'neal', 'neapolitan', 'near', 'nearby', 'nearly', 'neat', 'neatly', 'necco', 'necessary', 'neck', 'necklace', 'necklaces', 'necks', 'nectar', 'nectarine', 'nectarines', 'need', 'needed', 'needle', 'needled', 'needlenose', 'needles', 'needs', 'neeeded', 'neely', 'neelys', 'neem', 'neera', 'neese', 'negi', 'negimaki', 'negra', 'negro', 'negros', 'neilsen', 'neither', 'nell', 'nellie', 'neolly', 'neon', 'neopolitan', 'nepenthe', 'nephew', 'nepitella', 'nera', 'nerds', 'nerigoma', 'neriume', 'nero', 'neroli', 'nerved', 'nescafe', 'nesquick', 'nesquik', 'nest', 'nestle', 'nestles', 'nestlé', 'nests', 'net', 'nets', 'netted', 'netting', 'nettle', 'nettles', 'neuchatel', 'neufchatel', 'neufchaåtel', 'neufchtel', 'neufchâtel', 'neutral', 'neutrally', 'nevada', 'never', 'new', 'newburg', 'newcastle', 'newfoundland', 'newman', 'newmans', 'newsom', 'newspaper', 'newtons', 'next', 'ngo', 'nguyen', 'nh', 'nib', 'nibbed', 'nibblets', 'nibby', 'niblet', 'niblets', 'nibs', 'niccoise', 'nice', 'nicely', 'nicer', 'nickel', 'nickelsize', 'nicois', 'nicoise', 'nielsen', 'nigari', 'nigella', 'night', 'nigiri', 'nigoise', 'nik', 'nikka', 'nilla', 'niman', 'nine', 'ninepin', 'ninety', 'ningbo', 'nino', 'nioise', 'nip', 'nipitella', 'nissin', 'nitrate', 'nitrogen', 'nix', 'nixtamal', 'niçois', 'niçoise', 'nm', 'noble', 'nobu', 'noc', 'nocello', 'noche', 'nodine', 'nog', 'nohi', 'nohu', 'noilly', 'noir', 'noisette', 'non', 'nona', 'nonalcoholic', 'nonalkalized', 'nonats', 'nondairy', 'nondark', 'none', 'nonfat', 'nonflammable', 'nonhomogenized', 'nonhydrogenated', 'nonino', 'nonmeat', 'nonna', 'nono', 'nonorganic', 'nonpareil', 'nonpareils', 'nonpariel', 'nonpereil', 'nonpoisonous', 'nonreactive', 'nonstick', 'nonsweet', 'nonsweetened', 'nontoxic', 'nonya', 'noo', 'noodle', 'noodles', 'noor', 'nopal', 'nopales', 'nopalitos', 'nordica', 'nori', 'normally', 'norman', 'north', 'northern', 'northwest', 'northwoods', 'norwegian', 'nose', 'nosed', 'noses', 'nostraline', 'notch', 'notched', 'note', 'noted', 'notes', 'nothing', 'notice', 'notte', 'nouc', 'nougat', 'nougatine', 'nour', 'nouvelle', 'nova', 'novello', 'novelty', 'noyaux', 'ntild', 'ntlde', 'nto', 'nu', 'nub', 'nubs', 'nucoa', 'nudies', 'nueske', 'nugget', 'nuggets', 'number', 'numerously', 'nuoc', 'nut', 'nutella', 'nutmeats', 'nutmeg', 'nutmegs', 'nutmet', 'nutrageous', 'nutri', 'nutrition', 'nutritional', 'nutritious', 'nuts', 'nutter', 'nuttier', 'nutty', 'ny', 'nyc', 'nylon', 'nyons', 'nyora', 'oak', 'oakheart', 'oakleaf', 'oaks', 'oaky', 'oasis', 'oat', 'oatcakes', 'oatmeal', 'oats', 'oaxaca', 'oaxacan', 'oba', 'oban', 'oblaten', 'oblique', 'oblong', 'obsessed', 'oc', 'ocane', 'occasionally', 'occurring', 'ocean', 'octagonal', 'october', 'octoberfest', 'octopus', 'octopuses', 'ocute', 'odd', 'odense', 'odessa', 'odom', 'oeil', 'oeleck', 'oelek', 'oetker', 'oeuvre', 'oeuvres', 'offcuts', 'offers', 'offset', 'often', 'ognori', 'ogo', 'ogonori', 'ogorki', 'ohba', 'ohnuts', 'ohrani', 'oi', 'oikos', 'oil', 'oilcured', 'oiled', 'oilepi', 'oilgin', 'oiling', 'oilpacked', 'oils', 'oily', 'oince', 'oives', 'oj', 'ok', 'oka', 'okay', 'okinawan', 'okra', 'okras', 'oktoberfest', 'olallieberries', 'old', 'oldbay', 'olde', 'older', 'oldfashioned', 'oldmaple', 'oldsouth', 'ole', 'oleic', 'olek', 'oleo', 'olio', 'olivada', 'olive', 'olivenation', 'olives', 'olivia', 'olla', 'oloroso', 'olympia', 'om', 'omani', 'omega', 'omelet', 'omelets', 'omelette', 'omit', 'omitted', 'omitting', 'onaga', 'onaise', 'ondine', 'one', 'ones', 'onetik', 'onion', 'onionpowder', 'onions', 'oniony', 'online', 'ono', 'onto', 'ooey', 'ooking', 'oolong', 'oonce', 'oounce', 'oounces', 'opah', 'opakapaka', 'opal', 'opaque', 'open', 'opened', 'opening', 'openings', 'opo', 'opposed', 'opposite', 'opt', 'optioinal', 'option', 'optiona', 'optional', 'optionally', 'options', 'orache', 'orah', 'orange', 'orangeliqueur', 'orangerie', 'oranges', 'orangina', 'orata', 'orate', 'orb', 'orbieu', 'orcebollitas', 'orchard', 'orchid', 'orchids', 'orchopped', 'orcreole', 'order', 'ordered', 'ore', 'orecchiette', 'orechiette', 'oregano', 'oregno', 'oregon', 'oregonmushrooms', 'oreo', 'oreos', 'orfresh', 'orfuji', 'organi', 'organic', 'organically', 'organiceggs', 'organicjuiceusa', 'organs', 'orgeat', 'orginale', 'oriental', 'original', 'originale', 'originally', 'originals', 'orlando', 'orleans', 'ornament', 'ornamental', 'ornaments', 'oro', 'oroshiepi', 'oroweat', 'orrechiette', 'orrington', 'orshrimp', 'ortega', 'orthai', 'ortiz', 'orvieto', 'orwhiting', 'orzata', 'orzo', 'orzotto', 'orégano', 'osborne', 'oscar', 'oscars', 'osetra', 'oshibako', 'oso', 'ososweet', 'ossau', 'ossetra', 'osso', 'ossobuco', 'ostrich', 'ot', 'otafuku', 'others', 'otherwise', 'otter', 'otto', 'ottogi', 'oumce', 'ounc', 'ounce', 'ounceahi', 'ouncec', 'ouncecan', 'ouncecs', 'ounces', 'ouncescavatappi', 'ouncesroast', 'ounch', 'ouncse', 'ounds', 'outdoor', 'outer', 'outerbridges', 'outfitted', 'outs', 'outside', 'outward', 'ouzo', 'oval', 'ovalette', 'ovalettes', 'ovalpie', 'ovals', 'ovaltine', 'oven', 'ovengold', 'ovenproof', 'ovenready', 'overbaked', 'overbrown', 'overcooked', 'overflowing', 'overgrown', 'overholt', 'overipe', 'overlapping', 'overly', 'overnight', 'overprocess', 'overproof', 'overripe', 'oversize', 'oversized', 'ovoline', 'owderchutney', 'owens', 'ox', 'oxheart', 'oxidation', 'oxidize', 'oxo', 'oxtail', 'oxtails', 'oyster', 'oysters', 'oz', 'ozfinely', 'pa', 'pabana', 'pablano', 'pabst', 'pac', 'paca', 'paccheri', 'pace', 'pacific', 'pacifico', 'pack', 'packag', 'package', 'packaged', 'packageenoki', 'packages', 'packaging', 'packed', 'packer', 'packet', 'packetactive', 'packets', 'packing', 'packs', 'pad', 'padana', 'padano', 'paddle', 'paddlefish', 'paddles', 'paddy', 'padella', 'padi', 'padron', 'padrón', 'pads', 'paella', 'paese', 'page', 'pahole', 'pailettes', 'paillard', 'paillards', 'paillete', 'paillettes', 'pain', 'pains', 'paint', 'paintbrush', 'paintbrushes', 'painting', 'paints', 'pair', 'pairs', 'paisano', 'pak', 'pakistani', 'palais', 'pale', 'palegreen', 'paleo', 'palettes', 'palm', 'palmetto', 'palmful', 'palmfuls', 'palmiers', 'palms', 'palo', 'paloma', 'palouse', 'palumbo', 'pam', 'pama', 'pambazos', 'pamela', 'pan', 'panang', 'panatone', 'panca', 'pancake', 'pancakes', 'pancetta', 'panch', 'pancit', 'panco', 'panda', 'pandan', 'pandanus', 'pandoro', 'pane', 'paneer', 'panel', 'panela', 'panels', 'panera', 'paneriso', 'panettone', 'panfried', 'panfrying', 'panhandle', 'panini', 'panino', 'paniolo', 'panko', 'panna', 'panni', 'panquehue', 'pans', 'panseared', 'pansies', 'pansy', 'pantelleria', 'pantherfanz', 'pantry', 'pants', 'panzanella', 'pao', 'papa', 'papaccelle', 'papads', 'papadums', 'papaer', 'papalo', 'papardelle', 'papas', 'papaya', 'papayas', 'papayiannides', 'papelon', 'paper', 'paperpanettone', 'papers', 'papery', 'papillon', 'papillote', 'papillotes', 'pappadams', 'pappadelle', 'pappadoums', 'pappadums', 'pappardelle', 'pappy', 'paprika', 'par', 'paradis', 'paradise', 'paraffin', 'paratha', 'parbaked', 'parboiled', 'parched', 'parchment', 'parcooked', 'pared', 'pareil', 'pareils', 'parents', 'pareve', 'parfait', 'parfaits', 'parilla', 'paring', 'paris', 'parisian', 'parisienne', 'park', 'parkay', 'parker', 'parkette', 'parley', 'parlor', 'parlour', 'parlsey', 'parm', 'parma', 'parmagiano', 'parmeasan', 'parmesan', 'parmesean', 'parmiagano', 'parmigano', 'parmiggiano', 'parmigian', 'parmigiana', 'parmigianino', 'parmigianno', 'parmigiano', 'parmiginao', 'parmigino', 'parrano', 'parrot', 'parsely', 'parsley', 'parslied', 'parsnip', 'parsnips', 'part', 'parted', 'partial', 'partially', 'particles', 'particular', 'partida', 'partiers', 'parties', 'partly', 'partridge', 'partridges', 'parts', 'partskim', 'partsminced', 'partway', 'party', 'parve', 'pasa', 'pasilla', 'pasillas', 'paso', 'pass', 'passata', 'passed', 'passing', 'passion', 'passionfruit', 'passito', 'passover', 'passvoer', 'past', 'pasta', 'pastas', 'paste', 'paste_', 'pasted', 'pastel', 'pastene', 'pastes', 'pasteurized', 'pastificio', 'pastilla', 'pastillage', 'pastilles', 'pastina', 'pastini', 'pastis', 'pastor', 'pastourma', 'pastrami', 'pastries', 'pastry', 'pasture', 'pastured', 'pasty', 'pat', 'pata', 'patagonian', 'patak', 'patch', 'patches', 'pate', 'patek', 'patent', 'pates', 'path', 'patience', 'patis', 'patissiere', 'patna', 'pato', 'patobrand', 'patron', 'pats', 'patted', 'pattern', 'patterns', 'patterson', 'pattie', 'patties', 'patting', 'pattipan', 'patty', 'pattypan', 'paté', 'paul', 'paula', 'pav', 'pave', 'pavo', 'paw', 'pawpaw', 'paychauds', 'paysanne', 'pazzo', 'pb', 'pbte', 'pc', 'pe', 'pea', 'peaberry', 'peach', 'peaches', 'peachtree', 'peak', 'peaked', 'peaks', 'pealed', 'peanut', 'peanuts', 'pear', 'pearl', 'pearled', 'pearlini', 'pearlized', 'pearls', 'pearly', 'pears', 'peas', 'peasant', 'peashoots', 'peaty', 'pebble', 'pebbles', 'pebbly', 'pecan', 'pecans', 'peccorino', 'pechaud', 'peche', 'peck', 'peconika', 'pecorina', 'pecorino', 'pectin', 'pectoral', 'pedro', 'pee', 'peeky', 'peekytoe', 'peel', 'peeled', 'peeler', 'peeling', 'peelings', 'peels', 'peen', 'peep', 'peeped', 'peeper', 'peeps', 'peewee', 'peg', 'pei', 'pekin', 'peking', 'pekoe', 'pelargonium', 'pelati', 'peled', 'pellegrino', 'pellets', 'pelligrino', 'peltier', 'pelvic', 'pemaquid', 'pen', 'pencil', 'pencils', 'pendery', 'pendleton', 'pendula', 'penetration', 'penn', 'penne', 'pennette', 'pennies', 'pennington', 'pennoni', 'pennsylvania', 'penny', 'pens', 'penzey', 'penzeys', 'penzy', 'people', 'pepar', 'pepato', 'pepe', 'pepepr', 'peper', 'peperconcini', 'peperonata', 'peperoncini', 'peperoncino', 'peperonciono', 'pepers', 'pepi', 'pepita', 'pepitas', 'pepitos', 'peppa', 'peppadew', 'peppadews', 'peppadrops', 'peppar', 'peppe', 'pepper', 'peppercorn', 'peppercorns', 'peppercress', 'peppered', 'pepperidge', 'pepperincini', 'pepperjack', 'pepperkosher', 'pepperleaf', 'peppermill', 'peppermint', 'peppermints', 'pepperoncillo', 'pepperoncini', 'pepperoncinis', 'pepperoncino', 'pepperoni', 'peppers', 'peppery', 'peppes', 'peppino', 'pepppercorns', 'pepps', 'pequen', 'pequillo', 'pequin', 'pequins', 'pequín', 'per', 'peral', 'percatelli', 'percent', 'percentage', 'perch', 'perching', 'perciatelli', 'percnet', 'perdue', 'perfect', 'perfection', 'perfectly', 'perforated', 'performer', 'perhaps', 'peri', 'periginotti', 'perigord', 'perigueux', 'perilla', 'periods', 'periwinkles', 'perk', 'perlato', 'perle', 'perline', 'perlini', 'permitting', 'pernigotti', 'pernil', 'pernod', 'pernot', 'peroni', 'perrier', 'perrin', 'perrins', 'perry', 'persian', 'persillade', 'persimmon', 'persimmons', 'persimons', 'person', 'personal', 'persons', 'peru', 'perugina', 'peruvian', 'pesce', 'pesticide', 'pesticides', 'pestie', 'pestle', 'pesto', 'pet', 'petal', 'petals', 'pete', 'peter', 'petes', 'petit', 'petite', 'petits', 'petrale', 'peychaud', 'pfeffernuse', 'pharmacy', 'phartz', 'pheasant', 'pheasants', 'phil', 'philadelphia', 'phillips', 'philly', 'philo', 'phin', 'phlox', 'pho', 'phon', 'phoran', 'phoron', 'phosphate', 'photograph', 'phrik', 'phu', 'phyllo', 'pi', 'piacere', 'piadine', 'piave', 'pica', 'picada', 'picadillo', 'picanha', 'picante', 'picapeppa', 'picatta', 'piccalilli', 'piccalilly', 'piccante', 'piccolini', 'picholine', 'picholines', 'pici', 'pick', 'pickapeppa', 'picked', 'pickeled', 'pickerel', 'pickin', 'pickle', 'pickled', 'pickles', 'pickling', 'picks', 'picnic', 'pico', 'picoline', 'picolo', 'picon', 'picot', 'pict', 'pictsweet', 'picual', 'pie', 'piece', 'pieceparmesan', 'pieces', 'piecrust', 'piecrusts', 'pied', 'pieepi', 'pienza', 'pierce', 'pierced', 'pierogi', 'pierogie', 'pierogies', 'pierogis', 'pierre', 'pies', 'pig', 'pigeon', 'pigeons', 'pignole', 'pignoli', 'pignolia', 'pignolis', 'pigs', 'pigskin', 'pik', 'pike', 'pikeplacefish', 'pilaf', 'pilchards', 'pile', 'piling', 'pill', 'pillow', 'pillows', 'pillowy', 'pillsbury', 'piloncillo', 'pilot', 'pilpelchuma', 'pils', 'pilsner', 'pilsners', 'piment', 'pimenta', 'pimente', 'pimentn', 'pimento', 'pimenton', 'pimentos', 'pimentín', 'pimentón', 'pimiento', 'pimientoes', 'pimientos', 'pimm', 'pimms', 'pin', 'pina', 'pinapple', 'pinapples', 'pinbones', 'pinch', 'pinched', 'pinches', 'pine', 'pineapple', 'pineapples', 'pineau', 'pined', 'pinenuts', 'ping', 'pinhead', 'pink', 'pinkerton', 'pinkie', 'pinky', 'pinnacle', 'pinon', 'pinot', 'pinquito', 'pins', 'pint', 'pintcherry', 'pinto', 'pints', 'pintu', 'pinwheels', 'pinza', 'pinzimonio', 'pioneer', 'pioppini', 'pipe', 'piped', 'pipen', 'piper', 'piperade', 'piperrada', 'pipette', 'pipettes', 'pipian', 'piping', 'pippies', 'pippin', 'pippins', 'pips', 'piquant', 'piquante', 'piquet', 'piquillo', 'piquillos', 'piquin', 'piri', 'piroline', 'pirouette', 'pirouline', 'pirozhki', 'pisco', 'pista', 'pistachio', 'pistachios', 'pistaschios', 'pistils', 'pistoles', 'pistolette', 'pistolettes', 'pistols', 'pistou', 'pit', 'pita', 'pitas', 'pitaya', 'pitch', 'pitcher', 'pitchers', 'pith', 'piths', 'pithy', 'pits', 'pitt', 'pitted', 'pitter', 'pitting', 'pixie', 'pizza', 'pizzaria', 'pizzas', 'pizzella', 'pizzelle', 'pizzelles', 'pizzeria', 'pizzetta', 'pizzettes', 'pizzoccheri', 'pizzocheri', 'pk', 'pkg', 'pkgs', 'pla', 'place', 'placed', 'places', 'placing', 'plah', 'plain', 'plainly', 'plaintain', 'plan', 'plane', 'plank', 'planking', 'planks', 'plans', 'plant', 'plantain', 'plantains', 'plantation', 'planters', 'plants', 'plaque', 'plastic', 'plata', 'platano', 'plate', 'plates', 'platform', 'plating', 'platino', 'platinum', 'platter', 'platters', 'player', 'pleasant', 'please', 'pleased', 'pleated', 'plenty', 'pleurote', 'pliable', 'pliers', 'plo', 'plochman', 'ploughman', 'ploy', 'plu', 'pluches', 'plucked', 'plucots', 'plugra', 'plugrá', 'plum', 'plumcots', 'plump', 'plumped', 'plumpjack', 'plums', 'plunge', 'plunged', 'pluot', 'pluots', 'plus', 'pluse', 'plushes', 'plusmore', 'plymouth', 'plywood', 'po', 'poached', 'poacher', 'poaching', 'poblano', 'poblanos', 'pocket', 'pocketless', 'pockets', 'pocky', 'pod', 'podded', 'pods', 'poha', 'poi', 'poilane', 'point', 'pointed', 'pointer', 'points', 'poire', 'poires', 'pois', 'poisonous', 'poivrade', 'poix', 'pok', 'poke', 'poked', 'poker', 'polaner', 'polar', 'polbano', 'pole', 'polenta', 'polentaepi', 'poles', 'polish', 'polished', 'politely', 'polka', 'pollack', 'pollen', 'pollo', 'pollock', 'polpette', 'polpetti', 'polska', 'polskie', 'polycarbonate', 'polydextrose', 'pom', 'pomace', 'pomade', 'pomegranante', 'pomegranate', 'pomegranates', 'pomegrante', 'pomelo', 'pomelos', 'pomery', 'pomfret', 'pomi', 'pommace', 'pommary', 'pommelo', 'pommeray', 'pommerey', 'pommeroy', 'pommery', 'pommes', 'pomodori', 'pomodoro', 'pomona', 'pompano', 'pompelmo', 'pomì', 'pond', 'pong', 'ponies', 'pont', 'pony', 'ponzu', 'poolish', 'poon', 'pop', 'popaa', 'popchips', 'popcorn', 'poplar', 'popover', 'popovers', 'poppadoms', 'poppadum', 'popped', 'popper', 'poppers', 'popping', 'poppy', 'poppyseed', 'poppyseeds', 'pops', 'popsicle', 'popsicles', 'popsticks', 'porchetta', 'porcini', 'porcinis', 'porgies', 'porgy', 'pork', 'porkchops', 'porkloin', 'porous', 'porridge', 'port', 'portabella', 'portabellas', 'portabello', 'portabellos', 'porter', 'porterhouse', 'porters', 'portion', 'portioned', 'portions', 'portland', 'portobella', 'portobellini', 'portobello', 'portobellos', 'portuguese', 'position', 'posole', 'possibilities', 'possible', 'possibly', 'post', 'postrio', 'pot', 'potage', 'potaoes', 'potaotes', 'potassium', 'potato', 'potatoes', 'potatos', 'potion', 'potpourri', 'pots', 'potsticker', 'potstickers', 'potted', 'potters', 'pouch', 'pouches', 'poudre', 'pouilly', 'poulet', 'poultry', 'poumd', 'pound', 'poundcakes', 'pounded', 'pounder', 'poundmaple', 'poundrotelle', 'pounds', 'poundschayote', 'poundsrusset', 'pouns', 'poupon', 'pour', 'pourable', 'pourableconsistency', 'poured', 'pouring', 'pourpose', 'poussin', 'poussins', 'povilho', 'powder', 'powdered', 'powders', 'powdery', 'power', 'powered', 'powerful', 'powers', 'pozole', 'practically', 'prague', 'prairie', 'praline', 'pralines', 'prao', 'prat', 'prawn', 'prawns', 'pray', 'pre', 'prebaked', 'preboiled', 'precedes', 'precious', 'precise', 'precisely', 'precooked', 'precut', 'predominantly', 'prefer', 'preferabbly', 'preferable', 'preferably', 'preferablyy', 'prefered', 'preference', 'preferrably', 'preferred', 'preferredmeats', 'prefers', 'preformed', 'prego', 'preheat', 'preheated', 'preheating', 'premade', 'premelted', 'premier', 'premiere', 'premium', 'premixed', 'prep', 'prepackaged', 'preparation', 'prepare', 'prepared', 'preparedbasic', 'preparing', 'prepped', 'prepping', 'prerolled', 'present', 'presentation', 'preserve', 'preserved', 'preserves', 'preserving', 'preshaped', 'preshredded', 'presidente', 'presifted', 'presliced', 'presoaked', 'press', 'pressed', 'presses', 'pressing', 'pressure', 'pressurized', 'presunto', 'prettier', 'pretty', 'pretzel', 'pretzels', 'prevent', 'prevents', 'previous', 'previously', 'prewashed', 'priano', 'priced', 'prichard', 'pricked', 'prickly', 'pride', 'prik', 'primal', 'primarily', 'primary', 'primavera', 'prime', 'primes', 'priming', 'primitivo', 'primrose', 'prince', 'princella', 'princess', 'pringles', 'printable', 'printed', 'prior', 'pristine', 'private', 'probably', 'probe', 'probiotic', 'problem', 'procedure', 'proceed', 'process', 'processed', 'processer', 'processor', 'prociutto', 'procuitto', 'produce', 'produced', 'producer', 'produces', 'producing', 'product', 'products', 'professional', 'profiterole', 'profiteroles', 'profusely', 'progresso', 'prohibition', 'promasa', 'promised', 'promises', 'prong', 'pronged', 'pronounced', 'pronto', 'proof', 'proofed', 'proofing', 'propane', 'properly', 'proportions', 'propose', 'prosciutto', 'prosciuuto', 'proscuitto', 'proscutto', 'prosecco', 'prossecco', 'protean', 'protect', 'protective', 'protein', 'proteins', 'proto', 'provel', 'provencal', 'provencale', 'provence', 'provenhal', 'provençe', 'provides', 'provimi', 'provini', 'provolone', 'prudhomme', 'pruitt', 'prum', 'prune', 'prunelle', 'prunes', 'psychedelic', 'psyllium', 'pt', 'ptitim', 'pts', 'pté', 'pu', 'pub', 'puchased', 'pucker', 'puckled', 'puddin', 'pudding', 'puddings', 'pueblo', 'puerto', 'puff', 'puffcorn', 'puffed', 'puffs', 'puffy', 'pugliese', 'pul', 'pulique', 'pull', 'pulla', 'pulled', 'pulling', 'pullman', 'pulp', 'pulpy', 'pulque', 'pulse', 'pulsed', 'pulses', 'pulsing', 'pulverize', 'pulverized', 'pumpernickel', 'pumpernikel', 'pumpkin', 'pumpkins', 'pumpkinseed', 'pumpkinseeds', 'pumps', 'puna', 'punch', 'punched', 'punctured', 'punds', 'pungent', 'punnet', 'puntarella', 'puntarelle', 'pupils', 'puppadum', 'puppies', 'puppy', 'pur', 'pura', 'puran', 'purchase', 'purchased', 'purchasedpanettone', 'purchasing', 'pure', 'puree', 'pureed', 'pureeing', 'purees', 'purely', 'purereal', 'purevanilla', 'pureé', 'purged', 'purging', 'puri', 'purified', 'puritan', 'purlsoho', 'purple', 'purples', 'purpletop', 'purpose', 'purposeflour', 'purposes', 'purred', 'purse', 'purses', 'purslane', 'purveyor', 'purée', 'puréed', 'pushcart', 'pushed', 'pushpin', 'puss', 'pusser', 'put', 'puttanesca', 'putter', 'putting', 'putty', 'puy', 'puya', 'pyongo', 'pyramid', 'pyrex', 'páté', 'pâche', 'pâte', 'pâté', 'pébeyre', 'périgord', 'pêches', 'qimiq', 'qt', 'qts', 'quady', 'quahog', 'quahogs', 'quail', 'quails', 'quaker', 'qualita', 'qualities', 'quality', 'quantities', 'quantity', 'quark', 'quart', 'quarted', 'quarter', 'quarterd', 'quartered', 'quarters', 'quartersized', 'quartet', 'quarts', 'quartt', 'quatre', 'quatres', 'que', 'quebec', 'queen', 'queens', 'queijo', 'quemada', 'quenelle', 'quenelles', 'quervo', 'quesadilla', 'quesadillas', 'quesillo', 'queso', 'quiche', 'quick', 'quickbread', 'quickcooking', 'quickest', 'quickie', 'quickly', 'quickrise', 'quik', 'quill', 'quills', 'quina', 'quince', 'quinces', 'quinoa', 'quinquina', 'quins', 'quite', 'quoc', 'quorn', 'qwa', 'raab', 'rabbit', 'rabbits', 'rabe', 'rablespoon', 'racha', 'rachael', 'rachel', 'rack', 'racks', 'raclette', 'raddichio', 'radiator', 'radiatore', 'radiatori', 'radicchio', 'radish', 'radishes', 'radishs', 'raffaello', 'raffia', 'ragged', 'ragout', 'ragoût', 'ragu', 'ragù', 'ragú', 'rahr', 'rai', 'rain', 'rainbow', 'rainbows', 'rainbowy', 'rainier', 'raised', 'raisin', 'raising', 'raisins', 'raisons', 'raita', 'rajas', 'rajma', 'rajun', 'raki', 'ram', 'raman', 'ramazotti', 'rambutan', 'ramekin', 'ramekins', 'ramen', 'ramp', 'ramps', 'ramyonsari', 'ramyun', 'ran', 'ranch', 'rancher', 'ranchera', 'rancherito', 'ranchero', 'ranchers', 'rancho', 'random', 'range', 'ranging', 'rani', 'rao', 'raosted', 'rapa', 'rape', 'rapeseed', 'rapid', 'rapidrise', 'rapine', 'rapini', 'rapunzel', 'rare', 'ras', 'rasam', 'rasberry', 'rascasse', 'rasher', 'rashers', 'rasoted', 'rasp', 'raspberries', 'raspberriesor', 'raspberry', 'rasped', 'ratatouille', 'rate', 'rated', 'rathbun', 'rather', 'ratio', 'rats', 'rattle', 'rattler', 'rattlesnake', 'rau', 'rava', 'raveggiolo', 'ravenswood', 'ravigote', 'ravioletti', 'ravioli', 'raw', 'rawmesan', 'ray', 'rayu', 'razberi', 'razor', 'razors', 'razz', 'razzleberry', 'razzmatazz', 'rbgh', 'rbol', 'rbst', 'rd', 'rds', 'reach', 'reached', 'reaches', 'reactive', 'read', 'readily', 'reads', 'ready', 'real', 'realemon', 'realfruit', 'realime', 'really', 'reames', 'rear', 'reasonably', 'reata', 'reblochon', 'recado', 'recaito', 'recao', 'reccomended', 'receive', 'recently', 'recipe', 'recipeepi', 'recipegnocchi', 'recipehazelnut', 'recipelemon', 'recipelink', 'recipelinkand', 'recipelinkor', 'recipelinkpie', 'recipes', 'recipesfrozen', 'recipespastry', 'recipespâte', 'recips', 'recomended', 'recommend', 'recommende', 'recommended', 'recommends', 'recommened', 'reconstitituted', 'reconstitute', 'reconstituted', 'reconstituting', 'recorked', 'rectangle', 'rectangles', 'rectangular', 'red', 'redbor', 'redbreast', 'redcurrants', 'reddi', 'redfish', 'redhot', 'redi', 'redmond', 'redpack', 'reds', 'redskin', 'redskinned', 'reduce', 'reduced', 'reducedfat', 'reduces', 'reducing', 'reduction', 'reed', 'reese', 'reeser', 'refer', 'referred', 'refilling', 'refine', 'refined', 'refiner', 'refreshed', 'refreshing', 'refried', 'refrigerate', 'refrigerated', 'refrigerator', 'refritos', 'regale', 'regalice', 'regan', 'regans', 'reggano', 'reggiano', 'regiano', 'reginetti', 'region', 'regional', 'regions', 'regular', 'regulating', 'reheat', 'reheated', 'reheating', 'rehrucken', 'rehydrate', 'rehydrated', 'reims', 'reindeer', 'reine', 'reinette', 'reinforced', 'reisling', 'rejuvelac', 'relative', 'relatively', 'release', 'released', 'reliable', 'relish', 'relishes', 'relleno', 'remain', 'remainder', 'remaining', 'remains', 'remnants', 'remonce', 'remote', 'remoulade', 'removable', 'removal', 'remove', 'removed', 'removedand', 'removedfrom', 'removing', 'remy', 'rendang', 'render', 'rendered', 'rendering', 'renderings', 'rendezvous', 'renee', 'rennet', 'repetitive', 'replace', 'replaced', 'replacement', 'replacer', 'replacing', 'reposada', 'reposado', 'reprodepot', 'republic', 'reputable', 'requeson', 'request', 'requezon', 'require', 'required', 'requirements', 'requires', 'resealable', 'resemble', 'resembles', 'resembling', 'reser', 'reserva', 'reserve', 'reserved', 'reserve½', 'reserving', 'reshampatti', 'residual', 'residue', 'resifted', 'resin', 'resistant', 'resort', 'resources', 'respect', 'respectively', 'responsibly', 'resposado', 'rest', 'restaurant', 'restaurants', 'rested', 'resting', 'result', 'resulting', 'results', 'retain', 'retained', 'retaining', 'retied', 'retrieval', 'retro', 'retsina', 'return', 'reuben', 'reusable', 'reuse', 'reveal', 'reverse', 'rey', 'reyes', 'reynaldo', 'reynolds', 'rhine', 'rhizome', 'rhode', 'rhodes', 'rhododendron', 'rhone', 'rhubarb', 'rhum', 'rhône', 'ria', 'riazul', 'rib', 'ribbed', 'ribbon', 'ribbons', 'ribcage', 'ribena', 'ribera', 'ribeye', 'riblets', 'ribs', 'ribsteak', 'ric', 'rican', 'ricard', 'rice', 'riced', 'ricer', 'rices', 'riceselect', 'ricestick', 'rich', 'richard', 'richardson', 'richer', 'richly', 'richness', 'ricipe', 'rick', 'rickeys', 'ricotta', 'ridge', 'ridged', 'ridgemont', 'ridges', 'riesling', 'rigata', 'rigate', 'rigati', 'rigatoni', 'right', 'rigotte', 'rim', 'riming', 'rimless', 'rimmed', 'rimmer', 'rimming', 'rims', 'rinced', 'rind', 'rinded', 'rindless', 'rinds', 'ring', 'ringlets', 'rings', 'rinse', 'rinsed', 'rinses', 'rinsing', 'rioja', 'rip', 'ripasso', 'ripe', 'ripen', 'ripened', 'ripeness', 'ripped', 'ripple', 'rippled', 'riscossa', 'rise', 'risen', 'rising', 'riso', 'risotto', 'rissole', 'ristretto', 'rittenhouse', 'ritz', 'rivels', 'river', 'rivera', 'riviera', 'riz', 'rm', 'ro', 'road', 'roadside', 'roast', 'roasted', 'roaster', 'roasters', 'roasting', 'roasts', 'robalo', 'robb', 'robby', 'robert', 'robertson', 'robin', 'robiola', 'robiolina', 'robiolla', 'robiolo', 'robot', 'robust', 'robusto', 'roca', 'rocco', 'rock', 'rocket', 'rockfish', 'rocks', 'rockweed', 'rocky', 'rocoto', 'rod', 'rods', 'roe', 'roelli', 'roes', 'rogers', 'rogue', 'roja', 'rojo', 'rojos', 'rok', 'roka', 'roker', 'roland', 'roll', 'rolled', 'roller', 'rolling', 'rolls', 'rolo', 'rolos', 'roma', 'romaine', 'roman', 'romanesco', 'romanian', 'romano', 'romanoff', 'romanos', 'romas', 'rome', 'romesco', 'rompope', 'ron', 'roncal', 'rondele', 'rondin', 'roni', 'ronnybrook', 'ronzoni', 'rood', 'roof', 'rooibos', 'room', 'roomtemp', 'roomtemperature', 'rooster', 'root', 'rootbeer', 'rootlets', 'rootr', 'roots', 'rope', 'ropes', 'roquefort', 'rosa', 'rosangel', 'rosario', 'rosarita', 'rosato', 'rose', 'rosebud', 'rosebuds', 'rosehip', 'rosehips', 'roseland', 'rosella', 'rosemary', 'rosepetals', 'roses', 'rosette', 'rosettes', 'rosewater', 'rosey', 'rossa', 'rossi', 'rosso', 'rosti', 'rosé', 'rotary', 'rotating', 'rotel', 'rotelle', 'roth', 'rothman', 'roti', 'rotini', 'rotis', 'rotisserie', 'rouet', 'rougaroux', 'rouge', 'rouges', 'rouget', 'rough', 'roughly', 'roughlychopped', 'roughy', 'rouille', 'roulade', 'rouladen', 'roulades', 'round', 'rounded', 'rounder', 'rounds', 'rounemup', 'route', 'roux', 'row', 'rows', 'royal', 'royale', 'royaltine', 'rromano', 'rserved', 'ru', 'rub', 'rubbed', 'rubber', 'rubbery', 'rubbing', 'ruby', 'rucola', 'rudy', 'ruffle', 'ruffled', 'ruffles', 'ruford', 'ruin', 'ruined', 'ruis', 'ruler', 'rulez', 'rum', 'rumchata', 'rump', 'rumple', 'rumps', 'run', 'runner', 'runnier', 'running', 'runny', 'runs', 'runts', 'rush', 'rusks', 'russa', 'russet', 'russets', 'russett', 'russian', 'rust', 'rustic', 'rustica', 'rustically', 'rustichella', 'rustique', 'rutabaga', 'rutabagas', 'ruth', 'ruwer', 'rye', 'ryvita', 'rémoulade', 'sa', 'saambhar', 'saar', 'saba', 'sabarot', 'sabatino', 'sabayon', 'sable', 'sablee', 'sablefish', 'sablés', 'saboogoo', 'sabor', 'sabra', 'sabut', 'sac', 'saccharine', 'sachet', 'sachets', 'sack', 'sacks', 'saco', 'sacramanto', 'sacramento', 'sacs', 'saddle', 'saddles', 'saeujeot', 'saewoo', 'saewujeot', 'saf', 'safale', 'safe', 'safety', 'safflower', 'saffron', 'saga', 'saganaki', 'sagatiba', 'sage', 'sago', 'sahadis', 'sahara', 'sai', 'said', 'saifun', 'saigon', 'saikyo', 'sailor', 'sailorjerry', 'saint', 'sake', 'saki', 'sakonnet', 'saku', 'sakura', 'saké', 'sal', 'salad', 'salada', 'saladisi', 'salads', 'salal', 'salam', 'salamandra', 'salami', 'salamis', 'salasa', 'salata', 'salchicon', 'salemville', 'sales', 'salet', 'salferino', 'salicornia', 'salinity', 'salisbury', 'salmon', 'salmonberries', 'salmonella', 'salmuera', 'salpicao', 'salsa', 'salsaepi', 'salsas', 'salsify', 'salsita', 'salt', 'saltand', 'salted', 'saltedsunflower', 'saltfish', 'saltier', 'saltine', 'saltines', 'saltiness', 'salting', 'saltor', 'saltpeter', 'salts', 'saltwater', 'saltworks', 'saltwort', 'salty', 'salumi', 'salut', 'salvadoran', 'salvadorena', 'salvation', 'sam', 'saman', 'samba', 'sambaal', 'sambal', 'sambar', 'sambazon', 'sambel', 'sambhar', 'sambol', 'sambuca', 'sami', 'sammies', 'sammy', 'samoas', 'samosa', 'samp', 'samuel', 'san', 'sancerre', 'sanctuaire', 'sand', 'sandalwood', 'sandbakkel', 'sandblasted', 'sanddab', 'sandies', 'sanding', 'sandra', 'sandwich', 'sandwiched', 'sandwiches', 'sandwiching', 'sandy', 'sangiovese', 'sangria', 'sangrita', 'sanitized', 'sans', 'sansho', 'sansyo', 'santa', 'sante', 'santo', 'sanuf', 'sanuki', 'sapote', 'sapotes', 'sapp', 'sapphire', 'sapporo', 'sara', 'saracene', 'saran', 'sarda', 'sardegna', 'sardi', 'sardine', 'sardines', 'sardinian', 'sardo', 'sargento', 'saronno', 'sarsaparilla', 'sarticious', 'sarvecchio', 'sashimi', 'sasho', 'saskatoon', 'sassafras', 'sassafrass', 'sassy', 'sat', 'satay', 'sate', 'satin', 'sativa', 'sato', 'satsuma', 'satsumas', 'saturated', 'saturei', 'saturn', 'sau', 'sauce', 'sauced', 'saucee', 'sauceepi', 'sauceless', 'saucepan', 'saucepot', 'saucer', 'sauces', 'saucisse', 'saucisson', 'saucy', 'sauerbraten', 'sauerkraut', 'saumur', 'saury', 'sausage', 'sausageapple', 'sausagemaker', 'sausagemeat', 'sausages', 'saute', 'sauteed', 'sauteeing', 'sauteing', 'sauterne', 'sauternes', 'sauté', 'sautéed', 'sautéing', 'sauvignon', 'sauza', 'savagnin', 'savannah', 'savarin', 'save', 'saved', 'savers', 'saveur', 'savignon', 'savina', 'saving', 'savings', 'savoiardi', 'savoie', 'savonna', 'savor', 'savory', 'savoryspiceshop', 'savoury', 'savoy', 'saw', 'sawdust', 'sawed', 'sawmill', 'sawn', 'sawtooth', 'sawyer', 'say', 'sazon', 'sazonador', 'sazón', 'sc', 'scald', 'scalded', 'scaldedmilk', 'scalding', 'scale', 'scaled', 'scales', 'scallion', 'scallions', 'scallop', 'scalloped', 'scallopine', 'scallopini', 'scallops', 'scaloppine', 'scaloppini', 'scalped', 'scamorza', 'scamp', 'scampi', 'scandinavian', 'scansano', 'scant', 'scape', 'scapes', 'scarf', 'scarlet', 'scarmoza', 'scarpariello', 'scarves', 'scary', 'scattering', 'scented', 'scents', 'schar', 'scharfen', 'scharffen', 'scharffenberger', 'schezuan', 'schichimi', 'schilling', 'schlagobers', 'schmaltz', 'schmear', 'schmearing', 'schmidts', 'schnapps', 'school', 'schrager', 'schubert', 'schupf', 'schweppes', 'scissor', 'scissored', 'scissors', 'scleaned', 'scollops', 'scone', 'scones', 'scoop', 'scooped', 'scooper', 'scooping', 'scoops', 'scorching', 'score', 'scored', 'scorpion', 'scotch', 'scotia', 'scott', 'scottish', 'scout', 'scouting', 'scramble', 'scrambled', 'scrape', 'scraped', 'scraper', 'scrapes', 'scrapings', 'scrapped', 'scrapple', 'scraps', 'scratch', 'screen', 'screw', 'scribners', 'scrod', 'scrubbed', 'scrumpy', 'scubed', 'scudder', 'scungili', 'scungillli', 'scuro', 'se', 'sea', 'seabass', 'seafood', 'seagram', 'seal', 'sealable', 'sealed', 'sealing', 'seam', 'seamless', 'seams', 'seapak', 'sear', 'search', 'searching', 'seared', 'searing', 'seashell', 'seaside', 'season', 'seasonal', 'seasonally', 'seasoned', 'seasoning', 'seasonings', 'seasons', 'seat', 'seattle', 'seaweed', 'sec', 'seca', 'secco', 'seckel', 'seckle', 'seco', 'second', 'secondary', 'seconds', 'secret', 'secrets', 'sectio', 'section', 'sectioned', 'sections', 'secure', 'secured', 'securely', 'securing', 'sedaris', 'sediment', 'see', 'seed', 'seeded', 'seedless', 'seedlings', 'seedpods', 'seeds', 'seedy', 'seeeded', 'seek', 'seekers', 'seelect', 'seeled', 'seem', 'seems', 'segment', 'segmented', 'segments', 'seitan', 'sel', 'select', 'selected', 'selection', 'selections', 'selecto', 'self', 'sell', 'seller', 'sells', 'seltzer', 'semi', 'semiaged', 'semiboneless', 'semicircles', 'semidried', 'semidry', 'semifreddo', 'semipearled', 'semiripe', 'semiseet', 'semisoft', 'semisweet', 'semolina', 'semolino', 'sen', 'sencha', 'sendai', 'senna', 'sensations', 'sense', 'sensitive', 'sent', 'separate', 'separated', 'separately', 'separator', 'seperated', 'seppie', 'seraring', 'sercial', 'serena', 'serendipity', 'seresin', 'serious', 'seriously', 'serpent', 'serpentini', 'serrano', 'serranos', 'serrated', 'serrrano', 'serve', 'served', 'servered', 'service', 'serviceberries', 'serving', 'servings', 'servintg', 'sesame', 'sespe', 'set', 'sets', 'setting', 'settle', 'settled', 'sev', 'seven', 'sevens', 'several', 'severe', 'seville', 'seviyan', 'sevruga', 'sfq', 'shaarya', 'shabu', 'shad', 'shade', 'shades', 'shado', 'shadow', 'shagbark', 'shahi', 'shake', 'shaken', 'shaker', 'shakers', 'shakes', 'shaking', 'shakka', 'shall', 'shallot', 'shallots', 'shallow', 'shame', 'shandong', 'shanghai', 'shanghainese', 'shank', 'shankless', 'shanks', 'shannon', 'shanton', 'shao', 'shaohsing', 'shaoshing', 'shaosing', 'shaoxing', 'shape', 'shaped', 'shaped_coeur', 'shapes', 'shaping', 'shards', 'sharffen', 'shari', 'shark', 'sharlyn', 'sharp', 'sharpened', 'sharpest', 'sharpness', 'shasha', 'shave', 'shaved', 'shaven', 'shaver', 'shaving', 'shavings', 'shavingw', 'shawarma', 'shears', 'sheath', 'sheba', 'shed', 'sheep', 'sheepherding', 'sheeps', 'sheepshead', 'sheer', 'sheet', 'sheets', 'sheiks', 'shelburne', 'shelby', 'shelf', 'shell', 'shelled', 'shellfish', 'shelling', 'shells', 'shemeji', 'shenandoah', 'shephard', 'shepherd', 'sherbert', 'sherbet', 'sherry', 'shi', 'shichimi', 'shield', 'shigoku', 'shiitake', 'shiitakes', 'shiitaké', 'shilling', 'shimeji', 'shimmery', 'shims', 'shiméji', 'shin', 'shinbone', 'shine', 'shiner', 'shingles', 'shingo', 'shins', 'shinshu', 'shiny', 'ship', 'shipped', 'shipping', 'shir', 'shiracca', 'shirakiku', 'shirataki', 'shiraz', 'shiro', 'shishito', 'shiso', 'shitake', 'shitakes', 'shittake', 'shlivovitz', 'shoa', 'shoaxing', 'shochu', 'shock', 'shocked', 'shoe', 'shoepeg', 'shoestring', 'shoestrings', 'shoga', 'shoot', 'shoots', 'shop', 'shopped', 'shopping', 'shops', 'shopsmart', 'shore', 'short', 'shortbread', 'shortbreads', 'shortcake', 'shortcakes', 'shortcrust', 'shortcut', 'shortcuts', 'shorten', 'shortening', 'shorter', 'shortgrain', 'shortribs', 'shortway', 'shot', 'shots', 'shoulder', 'shoulders', 'shovel', 'shovels', 'show', 'shower', 'showing', 'shoyu', 'shreaded', 'shred', 'shredded', 'shredder', 'shredding', 'shreds', 'shrimp', 'shrimps', 'shrimpshells', 'shrink', 'shriracha', 'shropshire', 'shrub', 'shrubb', 'shu', 'shucked', 'shumai', 'shungiku', 'shurley', 'shwarma', 'shy', 'siberian', 'sic', 'sichimi', 'sichuan', 'sicilia', 'sicilian', 'siciliano', 'side', 'sided', 'sides', 'sidra', 'sierra', 'sieve', 'sieved', 'siew', 'sift', 'sifted', 'sifter', 'sifting', 'sign', 'signature', 'silan', 'silicone', 'silk', 'silked', 'silken', 'silks', 'silky', 'silly', 'silpain', 'silpat', 'silpats', 'silvana', 'silver', 'silverbeet', 'silvered', 'silverside', 'silverskin', 'silverware', 'similar', 'similarly', 'simmer', 'simmered', 'simmering', 'simple', 'simplest', 'simplot', 'simply', 'simplynature', 'simulation', 'simón', 'sin', 'since', 'sinew', 'sinews', 'sing', 'singed', 'singing', 'single', 'singles', 'sini', 'siphon', 'sipping', 'sir', 'siracha', 'sirah', 'sirena', 'sirloin', 'sirloins', 'sirop', 'sister', 'sit', 'site', 'sites', 'sits', 'situations', 'siu', 'six', 'sixounce', 'sixteen', 'sixths', 'sixty', 'size', 'sized', 'sizes', 'skane', 'skate', 'skeins', 'skeletons', 'skewed', 'skewer', 'skewered', 'skewering', 'skewers', 'ski', 'skillet', 'skillets', 'skim', 'skimmed', 'skimmer', 'skimmings', 'skin', 'skinless', 'skinned', 'skinny', 'skins', 'skinsv', 'skip', 'skipped', 'skipping', 'skippy', 'skirt', 'skirts', 'skittles', 'skor', 'skordalia', 'sky', 'skyline', 'skymeals', 'skyy', 'slab', 'slabs', 'slacken', 'slaked', 'slant', 'slanting', 'slap', 'slashes', 'slashing', 'slat', 'slate', 'slather', 'slathering', 'slaughtered', 'slaw', 'sleeve', 'sleeves', 'slender', 'slice', 'sliceable', 'sliced', 'slicer', 'slices', 'slicied', 'slicing', 'slide', 'slided', 'slider', 'sliders', 'slight', 'slightly', 'slim', 'slimy', 'slipped', 'slipper', 'slippery', 'slit', 'slits', 'sliver', 'slivered', 'slivers', 'slivovitz', 'slivowitz', 'sloe', 'sloping', 'sloppy', 'slotted', 'slow', 'slowly', 'slump', 'slurry', 'slush', 'slushes', 'smack', 'smacks', 'small', 'smaller', 'smallest', 'smallish', 'smart', 'smarter', 'smarties', 'smash', 'smashed', 'smeared', 'smearing', 'smell', 'smells', 'smelt', 'smelts', 'smen', 'smh', 'smidgen', 'smirnoff', 'smith', 'smithfield', 'smiths', 'smoke', 'smoked', 'smokehaus', 'smokehouse', 'smoker', 'smokes', 'smokey', 'smokie', 'smokier', 'smokies', 'smokin', 'smokiness', 'smoking', 'smokra', 'smoky', 'smooth', 'smoothed', 'smoothes', 'smoothie', 'smoothies', 'smoothly', 'smother', 'smothered', 'smucker', 'smuckers', 'smyrna', 'snack', 'snacks', 'snags', 'snail', 'snails', 'snake', 'snakehead', 'snakeroot', 'snakes', 'snap', 'snapped', 'snapper', 'snappers', 'snapping', 'snapple', 'snappper', 'snappy', 'snaps', 'snatching', 'snicker', 'snickerdoodle', 'snickers', 'snip', 'snipped', 'snippets', 'snipping', 'snips', 'sno', 'snook', 'snout', 'snow', 'snowball', 'snowdrop', 'snowflake', 'snowman', 'snowpea', 'snowpeas', 'snowy', 'snyder', 'soak', 'soaked', 'soaking', 'soaks', 'soave', 'soba', 'sobrasada', 'sochu', 'social', 'société', 'sockeye', 'soda', 'sode', 'sodium', 'sofia', 'sofra', 'sofrito', 'soft', 'softasilk', 'softball', 'soften', 'softened', 'softenend', 'softer', 'softly', 'softshell', 'soggy', 'soho', 'soi', 'soju', 'solar', 'sold', 'soldier', 'soldiers', 'sole', 'solera', 'soles', 'solid', 'solidified', 'solidify', 'solidly', 'solidpack', 'solids', 'solo', 'solomonov', 'soluble', 'solution', 'sombra', 'somen', 'something', 'sometimes', 'somewhat', 'somewhere', 'son', 'sonoma', 'sons', 'soochong', 'sooji', 'sooks', 'soom', 'soon', 'sop', 'sopa', 'sopes', 'sopping', 'soppresata', 'soppresatta', 'soppressata', 'soprafina', 'soprasata', 'soprassata', 'sopresatta', 'sopressata', 'sorbet', 'sorbets', 'sorbetto', 'sorbitol', 'sorghum', 'sorrel', 'sorrento', 'sort', 'sorted', 'sortilège', 'sorts', 'sosa', 'sottocenare', 'sottocenere', 'soubise', 'souchang', 'souchong', 'souffle', 'souffles', 'soufflé', 'souflle', 'soul', 'sound', 'sounds', 'soup', 'soups', 'soupspoon', 'soupspoons', 'soupy', 'sour', 'sourball', 'source', 'sources', 'sourdough', 'soured', 'sours', 'soursop', 'sourwood', 'sous', 'south', 'southeast', 'southern', 'southside', 'southwest', 'southwestern', 'souvlaki', 'soy', 'soya', 'soybean', 'soybeans', 'soymilk', 'sozan', 'spa', 'space', 'spaetzle', 'spaetzlemaker', 'spagettini', 'spaghetti', 'spaghettini', 'spagna', 'spago', 'spain', 'spam', 'spamcetta', 'spamrizo', 'spanish', 'spanishtable', 'spare', 'spareribs', 'sparingly', 'sparking', 'sparkle', 'sparkler', 'sparkling', 'sparkly', 'spartan', 'spash', 'spatchcock', 'spatchcocked', 'spatlese', 'spatula', 'spatulas', 'spatzle', 'speak', 'spear', 'spearmint', 'spears', 'special', 'speciality', 'specially', 'specials', 'specialties', 'specialty', 'species', 'specific', 'specified', 'speck', 'speckled', 'specs', 'spectrum', 'spectrumorganics', 'speculoos', 'speed', 'speedway', 'speedy', 'spell', 'spelt', 'spent', 'spezzatino', 'sphere', 'spheres', 'spherical', 'spherification', 'spice', 'spicebarn', 'spiced', 'spices', 'spicier', 'spiciness', 'spicy', 'spider', 'spiders', 'spidini', 'spiedie', 'spies', 'spike', 'spiked', 'spikes', 'spiking', 'spilt', 'spin', 'spinach', 'spinachspaetzle', 'spinaci', 'spine', 'spines', 'spinich', 'spinner', 'spiny', 'spiral', 'spiraled', 'spiralized', 'spirals', 'spire', 'spirit', 'spirited', 'spirits', 'spiru', 'spirulina', 'spit', 'splash', 'splashes', 'splenda', 'split', 'spoil', 'sponge', 'spongecake', 'sponged', 'spongy', 'spontaneity', 'spookie', 'spoon', 'spoonable', 'spoonechocolated', 'spooned', 'spoonful', 'spoonfuls', 'spoons', 'sport', 'sports', 'spot', 'spots', 'spotted', 'spotty', 'spout', 'spouts', 'spray', 'sprayc', 'sprayed', 'spraying', 'sprays', 'spread', 'spreadable', 'spreadables', 'spreading', 'spree', 'sprig', 'sprightly', 'sprigs', 'spring', 'springform', 'springroll', 'springs', 'springwater', 'sprinking', 'sprinkle', 'sprinkled', 'sprinkles', 'sprinkling', 'sprite', 'spritz', 'spritzed', 'spritzer', 'spritzing', 'sprout', 'sprouted', 'sprouting', 'sprouts', 'spuds', 'spumante', 'spumanti', 'spun', 'spy', 'sqeezed', 'squab', 'squabs', 'squacquerone', 'square', 'squared', 'squares', 'squash', 'squashed', 'squashes', 'squat', 'squeezable', 'squeeze', 'squeezed', 'squeezes', 'squeezing', 'squezed', 'squid', 'squidge', 'squidges', 'squids', 'squirrelfish', 'squirrelly', 'squirrels', 'squirt', 'squirting', 'squirts', 'squish', 'squishable', 'sri', 'sriacha', 'sriracha', 'srirachi', 'ssticks', 'ssupermarkets', 'ssäm', 'ssämjang', 'st', 'stabilize', 'stabilizer', 'stabilizers', 'stabilizing', 'stable', 'staccotisso', 'stack', 'stackable', 'stacked', 'stackers', 'stacks', 'stacy', 'stage', 'stainless', 'staked', 'stale', 'staled', 'stalk', 'stalks', 'stalky', 'stamen', 'stamens', 'stamp', 'stamping', 'stamps', 'stand', 'standard', 'standing', 'stands', 'star', 'starbucks', 'starburst', 'starbursts', 'starch', 'starchiness', 'starchy', 'starfruit', 'starkist', 'starlight', 'starr', 'stars', 'start', 'started', 'starter', 'starters', 'starting', 'state', 'states', 'stay', 'staybrite', 'stayman', 'steady', 'steak', 'steaked', 'steakhouse', 'steakhunter', 'steaks', 'steaky', 'steal', 'steam', 'steamcrisp', 'steamed', 'steamer', 'steamers', 'steamfresh', 'steaming', 'steel', 'steelhead', 'steels', 'steen', 'steep', 'steeped', 'steeping', 'steer', 'stella', 'stellini', 'stem', 'stemed', 'stemmed', 'stems', 'stencil', 'stenciling', 'stencils', 'step', 'stephanie', 'sterile', 'sterilized', 'sterling', 'sternum', 'steve', 'stevia', 'stew', 'stewed', 'stewing', 'stews', 'stick', 'sticker', 'stickers', 'stickiness', 'sticking', 'sticklike', 'sticks', 'sticky', 'stiff', 'stiffer', 'stiffly', 'stifly', 'still', 'stilton', 'stinging', 'stinky', 'stir', 'stirred', 'stirrer', 'stirrers', 'stirring', 'stirrings', 'stix', 'stoc', 'stocca', 'stock', 'stocked', 'stockers', 'stockfish', 'stockpot', 'stockpots', 'stocks', 'stolen', 'stoli', 'stolichnaya', 'stomach', 'stone', 'stoned', 'stonefruit', 'stoneground', 'stonemill', 'stones', 'stonewall', 'stonyfield', 'stop', 'storage', 'store', 'storebought', 'stored', 'stores', 'storing', 'stormy', 'stouffers', 'stout', 'stoutbeer', 'stove', 'stovetop', 'straccetti', 'stracchino', 'stracciatella', 'straciatella', 'straight', 'strain', 'strained', 'strainer', 'strainers', 'straining', 'strand', 'strands', 'strap', 'strasbourg', 'strauss', 'straw', 'strawberries', 'strawberry', 'straws', 'stray', 'streaky', 'stream', 'streamers', 'streaming', 'street', 'strega', 'strength', 'strengths', 'stretched', 'stretcher', 'stretching', 'streusel', 'strictly', 'strike', 'string', 'stringed', 'stringless', 'strings', 'stringy', 'strip', 'stripe', 'striped', 'striper', 'stripes', 'striploin', 'stripped', 'stripping', 'strips', 'stroganoff', 'stroke', 'strong', 'strongbow', 'stronger', 'strongly', 'strozzapreti', 'strozzopretti', 'strudel', 'strudels', 'struffoli', 'strung', 'stubb', 'stubbs', 'stuck', 'studded', 'studding', 'studs', 'stuf', 'stuff', 'stuffed', 'stuffer', 'stuffin', 'stuffing', 'stumps', 'stumptown', 'sturdily', 'sturdy', 'sturgeon', 'stutzman', 'style', 'stylebreadcrumbs', 'styled', 'styles', 'styrofoam', 'su', 'suagr', 'sub', 'submarine', 'submerge', 'submerged', 'subs', 'subsitiuted', 'substance', 'substitite', 'substitiute', 'substituded', 'substitute', 'substituted', 'substitutes', 'substitution', 'substitutions', 'subtle', 'sucanant', 'sucanat', 'success', 'successfully', 'succotash', 'suchi', 'suckers', 'suckin', 'sucking', 'suckling', 'sucralose', 'sucre', 'sucree', 'sucrie', 'sucrolose', 'sucrose', 'sucrée', 'sucuk', 'suet', 'sueu', 'sueur', 'suffice', 'sufficiently', 'suga', 'sugaar', 'sugar', 'sugarcane', 'sugarcoated', 'sugarcraft', 'sugared', 'sugaring', 'sugarless', 'sugarplum', 'sugars', 'sugartwin', 'sugarworks', 'sugei', 'suggest', 'suggested', 'suggestion', 'suggestions', 'suggests', 'sugo', 'sui', 'suisse', 'suit', 'suitable', 'suits', 'suji', 'sukhi', 'sukiyaki', 'sulfur', 'sulmitti', 'sultana', 'sultanas', 'sum', 'sumac', 'sumakh', 'summer', 'summersweet', 'summery', 'sun', 'sunburst', 'sunchoke', 'sunchokes', 'sundae', 'sundaes', 'sunday', 'sundried', 'suneli', 'sunflower', 'sung', 'sungold', 'sunny', 'sunnyd', 'sunomono', 'sunrise', 'sunset', 'sunshine', 'sunsweet', 'suntan', 'suntory', 'sup', 'super', 'superfine', 'superfino', 'superior', 'superiortouch', 'supermakets', 'supermarket', 'supermarkets', 'supermoist', 'superpremium', 'supersized', 'supersweet', 'supper', 'supplement', 'supplemented', 'supplier', 'suppliers', 'supplies', 'supply', 'support', 'supreme', 'supremed', 'supremes', 'supremo', 'suprêmes', 'sur', 'sure', 'surface', 'surfaces', 'surfing', 'surgical', 'suribachi', 'surimi', 'surlatable', 'surprise', 'surprising', 'surrounded', 'surrounding', 'surry', 'sushi', 'susie', 'sustainability', 'sustainable', 'sustainably', 'sutffed', 'sutter', 'sutton', 'suze', 'suzette', 'suzie', 'svedka', 'sw', 'swad', 'swai', 'swamp', 'swan', 'swans', 'swanson', 'swansons', 'swap', 'swatch', 'swaure', 'sweat', 'sweated', 'sweating', 'swedes', 'swedish', 'sweep', 'sweeping', 'sweet', 'sweetastic', 'sweetbread', 'sweetbreads', 'sweeten', 'sweetened', 'sweetener', 'sweetening', 'sweeter', 'sweetex', 'sweetgrass', 'sweetned', 'sweetner', 'sweetness', 'sweets', 'sweety', 'swimmer', 'swirl', 'swirled', 'swirling', 'swirls', 'swirly', 'swise', 'swiss', 'swissroll', 'switzerland', 'swivel', 'swizzle', 'swizzles', 'swordfish', 'swordlike', 'swords', 'sylvia', 'symmetrical', 'syphon', 'syrah', 'syrian', 'syrup', 'syrupepi', 'syrups', 'syrupy', 'sysco', 'szechuan', 'szechwan', 'szeged', 'szegedy', 'szu', 'taaka', 'tab', 'tabasco', 'tabb', 'tabbouleh', 'tabelspoon', 'tabil', 'table', 'tableapoons', 'tablebspoon', 'tablebspoons', 'tablecloth', 'tablepoon', 'tablepoons', 'tablepsoon', 'tablepsoons', 'tables', 'tablesalt', 'tablesepoon', 'tablesoon', 'tablesoons', 'tablesooon', 'tablespan', 'tablespons', 'tablespoon', 'tablespoona', 'tablespooncandied', 'tablespoonclarified', 'tablespoonfresh', 'tablespoonful', 'tablespoonfuls', 'tablespoonroom', 'tablespoons', 'tablespoonsbanana', 'tablespoonsbutter', 'tablespoonscanola', 'tablespoonsesame', 'tablespoonsfinely', 'tablespoonsgranulated', 'tablespoonsimple', 'tablespoonsketchup', 'tablespoonsmirin', 'tablespoonsn', 'tablespoonspine', 'tablespoonss', 'tablespoonssesame', 'tablespoonssorghum', 'tablespoonsunsalted', 'tablespooon', 'tablespooons', 'tablespoosn', 'tablet', 'tablets', 'tablspoon', 'tablspoons', 'tabs', 'tac', 'taco', 'tacos', 'tacs', 'tact', 'taffy', 'tagalongs', 'tagarin', 'taggascia', 'taggiasca', 'tagiatelle', 'tagine', 'tagliardi', 'tagliarelle', 'tagliarini', 'tagliatelle', 'tagliolini', 'tags', 'taha', 'tahdig', 'tahina', 'tahini', 'tahitian', 'tai', 'tail', 'tailed', 'tailgator', 'tails', 'taiwanese', 'taj', 'tajin', 'tajín', 'take', 'taken', 'takeout', 'takes', 'tako', 'takuan', 'talapia', 'talavera', 'taleggio', 'talk', 'tall', 'tallegio', 'tallman', 'tallow', 'tally', 'tam', 'tamal', 'tamale', 'tamales', 'tamari', 'tamarillo', 'tamarillos', 'tamarind', 'tamarinds', 'tamazula', 'tame', 'tamicon', 'tamis', 'tamp', 'tan', 'tandoori', 'tang', 'tangelo', 'tangelos', 'tangerine', 'tangerines', 'tangeringes', 'tango', 'tanguary', 'tangy', 'tank', 'tannic', 'tanqueray', 'tant', 'tap', 'tapanade', 'tapatio', 'tape', 'tapenade', 'tapered', 'tapestry', 'tapioca', 'tapped', 'taquitos', 'taragna', 'taragon', 'tarama', 'taramasalata', 'tarantulas', 'tarator', 'tarbais', 'tardio', 'tardivo', 'target', 'tarka', 'taro', 'taros', 'tarp', 'tarragon', 'tarro', 'tart', 'tartar', 'tartare', 'tartaric', 'tartelette', 'tarter', 'tartine', 'tartlet', 'tartlett', 'tartness', 'tarts', 'tartufo', 'tasajo', 'tasmania', 'tasmanian', 'tasse', 'tasso', 'tast', 'taste', 'tasted', 'tastefresh', 'tastefully', 'taster', 'tasters', 'tastes', 'tastier', 'tasting', 'tastings', 'tasty', 'tastykake', 'tat', 'tate', 'tater', 'tates', 'tatse', 'tatsoi', 'tatuma', 'tau', 'taupiniere', 'taurasi', 'tavern', 'tawa', 'tawny', 'taylor', 'taza', 'tazo', 'tb', 'tbls', 'tbps', 'tbs', 'tbsp', 'tbsps', 'tea', 'teaaspoon', 'teabag', 'teabags', 'teacher', 'teacups', 'teadpoons', 'teapoon', 'teapot', 'teapsoon', 'teapsoons', 'teaque', 'tear', 'teardrop', 'tearing', 'teas', 'teasoon', 'teasoons', 'teasopoon', 'teaspon', 'teasponns', 'teaspons', 'teaspoom', 'teaspoon', 'teaspoondijon', 'teaspooned', 'teaspoonfenugreek', 'teaspoonfreshly', 'teaspoonfuls', 'teaspoonj', 'teaspoons', 'teaspooon', 'teaspooons', 'teaspsoon', 'tecate', 'technically', 'technique', 'teddy', 'teeny', 'teeth', 'teff', 'teflon', 'tehina', 'tein', 'tejava', 'tel', 'teleme', 'telera', 'teleras', 'tellicherry', 'telme', 'temp', 'tempeh', 'temper', 'temperatur', 'temperature', 'temperatured', 'temperatures', 'tempere', 'tempered', 'tempering', 'template', 'templates', 'temple', 'temporarily', 'temptin', 'tempura', 'ten', 'tender', 'tenderflake', 'tenderized', 'tenderizer', 'tenderizing', 'tenderlions', 'tenderloin', 'tenderloins', 'tenderness', 'tenders', 'tendon', 'tendons', 'tendril', 'tendrils', 'tends', 'tenkasu', 'tennessee', 'tennet', 'tenneyson', 'tennis', 'tentacles', 'tenticles', 'teotitlán', 'teow', 'tepid', 'tequila', 'tequilla', 'teres', 'teriyaki', 'terlingua', 'terra', 'terracotta', 'terrasonoma', 'terrific', 'terrine', 'terry', 'tesoro', 'tespoon', 'test', 'testa', 'tester', 'testicles', 'testing', 'tetilla', 'tex', 'texas', 'texmati', 'texture', 'textured', 'textures', 'texturize', 'texturized', 'tg', 'tgi', 'th', 'thai', 'thailand', 'thanksgiving', 'thassos', 'thaw', 'thawed', 'thawedfrom', 'thawing', 'theatre', 'thebaking', 'theme', 'themed', 'therefore', 'thermidor', 'thermometer', 'thermos', 'thespicehouse', 'thick', 'thicken', 'thickened', 'thickener', 'thickeners', 'thickening', 'thicker', 'thickest', 'thickly', 'thickness', 'thickslices', 'thigh', 'thighbone', 'thighs', 'thily', 'thimble', 'thin', 'thing', 'things', 'think', 'thinluy', 'thinly', 'thinlysliced', 'thinned', 'thinner', 'thinnest', 'thinning', 'thins', 'third', 'thirds', 'thirty', 'thof', 'thomas', 'thompson', 'thoor', 'thorns', 'thorny', 'thoroughly', 'though', 'thoureads', 'thousand', 'thread', 'threaded', 'threadfin', 'threadlike', 'threads', 'three', 'throughly', 'throughout', 'throw', 'ths', 'thumb', 'thumbelina', 'thumbnail', 'thumbs', 'thyme', 'thymeepi', 'thymeor', 'thymes', 'ti', 'tia', 'tiamaria', 'tiare', 'tic', 'tidbits', 'tie', 'tied', 'tiedcornstarch', 'tienda', 'tiers', 'ties', 'tiga', 'tigadege', 'tiger', 'tight', 'tighten', 'tightly', 'tikka', 'til', 'tilapia', 'tilda', 'tile', 'tilefish', 'tiles', 'till', 'tillamook', 'tillen', 'tilt', 'timbale', 'timbales', 'time', 'timer', 'times', 'timmed', 'tin', 'tines', 'tinfoil', 'ting', 'tinkyada', 'tinned', 'tinny', 'tins', 'tinted', 'tinting', 'tinto', 'tiny', 'tio', 'tip', 'tiparos', 'tipo', 'tipped', 'tips', 'tiramisu', 'tiramisù', 'tire', 'tires', 'tissue', 'tissues', 'titanfood', 'tito', 'tk', 'tm', 'tma', 'toast', 'toasted', 'toastedcoarsely', 'toastedcooled', 'toastedepi', 'toastedin', 'toaster', 'toasting', 'toasts', 'toated', 'tobacco', 'toban', 'tobanjan', 'tobarashi', 'tobasco', 'tobbiko', 'tobiko', 'tobler', 'toblerone', 'today', 'todd', 'toe', 'toenjang', 'toes', 'toffee', 'tofu', 'tofutti', 'togarashi', 'togerashi', 'together', 'toi', 'tojolote', 'tokai', 'tokay', 'tokyo', 'tolerance', 'tolerant', 'toll', 'tollhouse', 'tolstoi', 'tom', 'tomahawk', 'tomalley', 'tomao', 'tomat', 'tomates', 'tomatillas', 'tomatillo', 'tomatillos', 'tomato', 'tomatoes', 'tomatos', 'tombstones', 'tomme', 'tommy', 'tomoatoes', 'tomolives', 'tomorrow', 'tomotillos', 'tomyo', 'ton', 'tonatto', 'tone', 'tones', 'tonette', 'toney', 'tong', 'tongs', 'tongue', 'tongues', 'tonic', 'tonka', 'tonkatsu', 'tonnarelli', 'tonnino', 'tony', 'toogarashi', 'tool', 'tools', 'toor', 'tooth', 'toothpick', 'toothpicks', 'tootsie', 'toovar', 'toover', 'top', 'topfen', 'topika', 'topiko', 'topneck', 'topped', 'topper', 'toppers', 'topping', 'toppings', 'tops', 'toraji', 'torani', 'torch', 'torched', 'torchon', 'torino', 'torn', 'tornup', 'toro', 'toros', 'torpedo', 'torre', 'torrentes', 'torrone', 'torrontes', 'torta', 'tortas', 'torte', 'tortelli', 'tortellini', 'tortelloni', 'tortiglioni', 'tortilla', 'tortillas', 'tortoni', 'tortue', 'tosaka', 'tosazu', 'toscano', 'toschi', 'toss', 'tossed', 'tossing', 'tossingg', 'tostada', 'tostadas', 'tostaditas', 'tostado', 'tostidos', 'tostito', 'tostitos', 'tostonera', 'total', 'totaling', 'totally', 'totani', 'totillas', 'tots', 'totsoi', 'touch', 'tough', 'toughest', 'toulouse', 'toum', 'tournedos', 'tournee', 'tourneed', 'towel', 'toweling', 'towels', 'town', 'townhouse', 'townline', 'townsend', 'toxic', 'trablit', 'trace', 'traces', 'track', 'trader', 'tradicional', 'trading', 'tradition', 'traditional', 'traditionally', 'tradizionale', 'tragacanth', 'trahana', 'trail', 'trang', 'trans', 'transfat', 'transfer', 'transfers', 'translation', 'translucent', 'transparent', 'trapani', 'trapping', 'trappist', 'traviso', 'tray', 'trays', 'treacle', 'treasure', 'treat', 'treated', 'treating', 'treats', 'trebbiano', 'tree', 'treetop', 'trefoil', 'tremblaye', 'tremor', 'trenette', 'trenne', 'tres', 'tresfoil', 'trevisano', 'treviso', 'tri', 'triangle', 'triangles', 'triangular', 'tribe', 'trick', 'tricked', 'tricolor', 'tricolored', 'tried', 'trifle', 'triggerfish', 'triglyceride', 'trigo', 'trillado', 'trim', 'trimmed', 'trimmedand', 'trimming', 'trimmings', 'trimolene', 'trimoline', 'trinidad', 'trinity', 'trio', 'trip', 'tripe', 'tripel', 'triple', 'triplesec', 'tripoline', 'tripolini', 'triscuit', 'triscuits', 'trisha', 'triticale', 'trockenbeerenauslese', 'trois', 'trompe', 'trompette', 'trompettes', 'tropea', 'tropical', 'tropicana', 'trotter', 'trotters', 'trouble', 'trout', 'true', 'truffle', 'truffled', 'truffles', 'truffleyaki', 'truly', 'trumpet', 'trumpets', 'trumps', 'trung', 'trungnguyen', 'trunks', 'truroots', 'trussed', 'trusted', 'truth', 'truvia', 'try', 'tsai', 'tsang', 'tsatsiki', 'tsp', 'tsps', 'tteok', 'tuaca', 'tub', 'tubatini', 'tube', 'tubers', 'tubes', 'tubetini', 'tubetinni', 'tubetti', 'tubettini', 'tubs', 'tubular', 'tuck', 'tuckaway', 'tucked', 'tuile', 'tuiles', 'tulip', 'tulips', 'tumbler', 'tumeric', 'tuna', 'tune', 'tung', 'tunisian', 'tuong', 'tupelo', 'tupperware', 'tur', 'turban', 'turbinado', 'turbinando', 'turbodog', 'turbot', 'turducken', 'tureen', 'turkey', 'turkeys', 'turkish', 'turmeric', 'turn', 'turned', 'turning', 'turnip', 'turnips', 'turnover', 'turnovers', 'turnpike', 'turns', 'turntable', 'turtle', 'tuscan', 'tuscany', 'tutto', 'tuttopan', 'tuttorosso', 'tuvar', 'tvp', 'tweezers', 'twelve', 'twenty', 'twice', 'twig', 'twigs', 'twin', 'twine', 'twining', 'twinkies', 'twist', 'twisted', 'twisting', 'twists', 'twix', 'twizzler', 'twizzlers', 'two', 'tying', 'tyj', 'type', 'types', 'typically', 'tyson', 'tzatziki', 'tìa', 'tía', 'tõgarashi', 'ube', 'udi', 'udon', 'ugy__', 'uhr', 'uhu', 'uk', 'ukranian', 'uku', 'ulek', 'ultimate', 'ultimates', 'ultra', 'ultracreamy', 'ultragrain', 'ultrapasteurized', 'ultratex', 'ultrathin', 'umbels', 'umbrella', 'umbrellas', 'umbrian', 'ume', 'umeboshi', 'un', 'una', 'unable', 'unaged', 'unagi', 'unappetizing', 'unavailable', 'unbaked', 'unbeaten', 'unblanched', 'unbleached', 'unblemished', 'unbroken', 'unbromated', 'uncertain', 'unchopped', 'uncle', 'uncleaned', 'uncoated', 'unconverted', 'uncooked', 'uncored', 'uncovered', 'uncracked', 'uncured', 'uncut', 'undamaged', 'undecorated', 'undercooked', 'underripe', 'undiluted', 'undrained', 'undyed', 'uneeda', 'unenriched', 'uneven', 'unexpected', 'unfilled', 'unfiltered', 'unflavored', 'unfold', 'unfolded', 'unfrosted', 'unglazed', 'ungreased', 'unheated', 'unhulled', 'unhusked', 'unhydrogenated', 'uni', 'uniform', 'uniformly', 'uniq', 'unique', 'united', 'units', 'univer', 'unless', 'unlike', 'unmelted', 'unmolded', 'unmolding', 'unopened', 'unpacked', 'unpasteurized', 'unpeeled', 'unpicked', 'unpitted', 'unpopped', 'unprepared', 'unprocessed', 'unrefined', 'unrinsed', 'unripe', 'unripened', 'unrisen', 'unroasted', 'unroll', 'unrolled', 'unsalted', 'unscaled', 'unscented', 'unseasoned', 'unseeded', 'unseparated', 'unsettling', 'unshelled', 'unshucked', 'unsifted', 'unskinned', 'unsliced', 'unsmoked', 'unsoaked', 'unsplit', 'unsprayed', 'unssalted', 'unstuffed', 'unsulfered', 'unsulfured', 'unsulphered', 'unsulphured', 'unsweeted', 'unsweetend', 'unsweetened', 'untempered', 'unthawed', 'untied', 'untoasted', 'untorn', 'untreated', 'untrimmed', 'unused', 'unusual', 'unwanted', 'unwashed', 'unwaxed', 'unwrap', 'unwrapped', 'unwrinkled', 'unzested', 'upholstery', 'upland', 'uplandscheese', 'upon', 'upper', 'upright', 'ups', 'upscale', 'upside', 'uptown', 'urad', 'urbani', 'urchin', 'urchins', 'urfa', 'us', 'usable', 'usda', 'use', 'used', 'uses', 'using', 'usingers', 'usli', 'uster', 'usually', 'usukuchi', 'utah', 'utensils', 'utes', 'utility', 'utskho', 'utz', 'uv', 'uwajimaya', 'vaca', 'vaccuum', 'vacherin', 'vacu', 'vacuum', 'vadouvan', 'vahlrohna', 'vahlrona', 'val', 'valdeon', 'valdeón', 'valencay', 'valencia', 'valenciana', 'valentina', 'valentine', 'valerian', 'valhrona', 'vali', 'valle', 'valley', 'valor', 'valpolicella', 'valrhona', 'valrohna', 'value', 'vampire', 'van', 'vandermint', 'vanil', 'vanilla', 'vanille', 'varenikes', 'vareniki', 'vareniky', 'varenyky', 'variant', 'variation', 'variations', 'variegated', 'varies', 'varietal', 'varietals', 'varieties', 'variety', 'various', 'vark', 'vary', 'varying', 'vase', 'vaseline', 'vases', 'vasterbotten', 'vaurenwurst', 'vay', 'veal', 'veau', 'veaukosher', 'vecchio', 'veev', 'veg', 'vega', 'vegan', 'veganaise', 'vegannaise', 'vegata', 'vegemite', 'vegenaise', 'vegesal', 'vegeta', 'vegetable', 'vegetables', 'vegetarian', 'veggie', 'veggies', 'vegi', 'vegoladas', 'vein', 'veined', 'veins', 'veiny', 'veloute', 'velouté', 'veltliner', 'velveeta', 'velvet', 'velveta', 'velvety', 'venda', 'vendor', 'venezuelan', 'venice', 'venise', 'venison', 'venom', 'vent', 'ventreche', 'ventresca', 'ventrèche', 'venus', 'ver', 'vera', 'veracruz', 'verbena', 'verde', 'verdejo', 'verdelho', 'verdes', 'verdicchio', 'verges', 'verify', 'verjuice', 'verjus', 'vermentino', 'vermicelli', 'vermont', 'vermoth', 'vermouth', 'vernis', 'vernors', 'vero', 'verona', 'veronese', 'versa', 'versawhip', 'version', 'vert', 'verte', 'vertical', 'vertically', 'verts', 'vessel', 'vessels', 'vezzena', 'vh', 'via', 'vial', 'vialone', 'viande', 'vibrant', 'vic', 'vichy', 'victor', 'victoria', 'victorias', 'vidahlia', 'vidal', 'vidalia', 'vidalias', 'vidallia', 'vide', 'vie', 'vienna', 'viennese', 'vietnamese', 'vietti', 'vieux', 'vigin', 'vignettes', 'vigo', 'vigorously', 'vikos', 'village', 'vin', 'vinagre', 'vinagreta', 'vinagrette', 'vinaigrette', 'vinci', 'vincotto', 'vindaloo', 'vine', 'vineagar', 'vined', 'vinegar', 'vinegared', 'vinegary', 'vinegrar', 'vinegrette', 'vineripe', 'vineripened', 'vines', 'vineyard', 'vingear', 'vinho', 'vinigar', 'vino', 'vintage', 'vintners', 'viognier', 'violas', 'violet', 'violets', 'violette', 'virgin', 'virginia', 'virginiatraditions', 'virigin', 'viscera', 'visible', 'visit', 'vita', 'vital', 'vitalicious', 'vitamin', 'vitaminutes', 'vitamix', 'vitar', 'vitatops', 'viura', 'vivi', 'vlahotyri', 'vlasic', 'vmh', 'vodka', 'vol', 'vollrath', 'volta', 'volume', 'vongole', 'voodoo', 'vosges', 'voskos', 'vs', 'vsop', 'vya', 'västerbotten', 'waan', 'wabo', 'wadi', 'wadmalaw', 'wafer', 'wafers', 'waffle', 'waffles', 'wages', 'wagon', 'wagyu', 'wah', 'wahoo', 'waipio', 'wait', 'waiting', 'wakame', 'walden', 'walker', 'walkers', 'walkerswood', 'wall', 'walla', 'walled', 'wallet', 'walleye', 'walnut', 'walnuts', 'wan', 'wand', 'wangs', 'want', 'wants', 'war', 'warabi', 'warm', 'warmed', 'warmer', 'warming', 'warn', 'warqa', 'warrensburg', 'warrior', 'wasa', 'wasabe', 'wasabi', 'wasatch', 'wasbi', 'wash', 'washcloths', 'washed', 'washing', 'washington', 'waste', 'watch', 'watchers', 'watching', 'water', 'watercolor', 'watercress', 'waterlogged', 'watermelon', 'watermelons', 'waterpacked', 'waterproof', 'waters', 'watery', 'watkins', 'watrecress', 'watson', 'waves', 'wavy', 'wax', 'waxed', 'waxy', 'way', 'wayne', 'ways', 'weak', 'weakfish', 'wear', 'wearing', 'weave', 'weaver', 'web', 'webbing', 'weber', 'weblike', 'webstaurantstore', 'wedding', 'wedge', 'wedged', 'wedges', 'wedgesfor', 'wee', 'weed', 'weeds', 'week', 'weeks', 'weelicious', 'weenies', 'weeny', 'wegmans', 'wehani', 'wehlener', 'weigh', 'weighed', 'weighing', 'weighs', 'weight', 'weighted', 'weighting', 'weights', 'weiner', 'weiners', 'weird', 'weisenberger', 'weisenbergers', 'weisswurst', 'weke', 'welch', 'welfare', 'well', 'wellfleet', 'wells', 'wensleydale', 'wernesgruner', 'werther', 'wesson', 'west', 'western', 'westphalian', 'wet', 'whack', 'whacked', 'whale', 'whatever', 'wheat', 'wheatberries', 'wheatberry', 'wheatgrass', 'wheaties', 'wheatmeal', 'wheats', 'wheel', 'wheels', 'wherever', 'whether', 'whey', 'whichever', 'whip', 'whipped', 'whipping', 'whips', 'whirlfloc', 'whisk', 'whisked', 'whiskey', 'whisking', 'whisky', 'whisper', 'whit', 'white', 'whitebase', 'whitefish', 'whitelily', 'whitener', 'whites', 'whitestriped', 'whitewater', 'whitewine', 'whiting', 'whittled', 'whiz', 'whlpping', 'whole', 'wholechicken', 'wholegrain', 'wholemeal', 'wholemilk', 'wholesome', 'wholespice', 'wholewheat', 'wholle', 'wholly', 'whoopie', 'whoppers', 'wick', 'wicked', 'wickedgoodcharcoal', 'wickham', 'wide', 'widefat', 'widely', 'wider', 'width', 'widths', 'widthwise', 'wiener', 'wieners', 'wienies', 'wiht', 'wilco', 'wild', 'wildfire', 'wildflower', 'wildflowers', 'willamette', 'william', 'williams', 'williamsburg', 'willie', 'willingham', 'willy', 'wilson', 'wilsons', 'wilted', 'wilting', 'wilton', 'wimpy', 'wine', 'wineglass', 'wines', 'winesap', 'winesaps', 'winevinegar', 'wing', 'wingettes', 'wings', 'wingtips', 'wining', 'winning', 'winter', 'wintergreen', 'wip', 'wipe', 'wiped', 'wiping', 'wire', 'wired', 'wisconsin', 'wise', 'wish', 'wishbone', 'wispy', 'witch', 'withered', 'within', 'withjuice', 'without', 'withstand', 'witlofs', 'wok', 'wolf', 'wolfberries', 'wolffer', 'wonder', 'wonderful', 'wonderfully', 'wonders', 'wondra', 'wong', 'wonton', 'wontons', 'wood', 'woodchuck', 'woodcock', 'woodear', 'wooded', 'wooden', 'woodford', 'woodiest', 'woodruff', 'woods', 'woodsy', 'woody', 'woodyard', 'worcestershire', 'worcestershirek', 'worchershire', 'worchester', 'worchestershire', 'worecestershire', 'work', 'worked', 'working', 'works', 'worksurface', 'world', 'worldclass', 'worm', 'worms', 'wormwood', 'worstershire', 'worth', 'would', 'woven', 'wrap', 'wrapped', 'wrapper', 'wrappers', 'wrapping', 'wraps', 'wray', 'wreckfish', 'wright', 'wrinkled', 'writer', 'writing', 'wrote', 'wrung', 'wt', 'wursts', 'wuwei', 'wuyi', 'www', 'wyeast', 'xadbought', 'xadinch', 'xadincluding', 'xadraised', 'xadsized', 'xadvirgin', 'xantham', 'xanthan', 'xanthum', 'xeres', 'ximenez', 'ximénez', 'xinch', 'xing', 'xiong', 'xo', 'xochitl', 'xocolatl', 'xtabentún', 'xuxu', 'xx', 'xylitol', 'ya', 'yabbies', 'yacon', 'yakari', 'yaki', 'yakidofu', 'yakinori', 'yakisoba', 'yam', 'yamasa', 'yamazaki', 'yams', 'yard', 'yards', 'yarrow', 'yautia', 'yautía', 'yazzo', 'year', 'yearling', 'years', 'yearwood', 'yeast', 'yeasts', 'yeasty', 'yee', 'yeild', 'yeilding', 'yellow', 'yellowedge', 'yellowfin', 'yellowfoot', 'yellowish', 'yellows', 'yellowtail', 'yen', 'yerba', 'yes', 'yet', 'yete', 'yia', 'yieh', 'yield', 'yielding', 'yields', 'yodel', 'yoghurt', 'yogi', 'yogurt', 'yok', 'yoke', 'yokes', 'yol', 'yolk', 'yolks', 'yoplait', 'york', 'yorkshire', 'youdon', 'young', 'youprefer', 'yu', 'yuba', 'yuca', 'yucas', 'yucatan', 'yucatecan', 'yucca', 'yucon', 'yuen', 'yuengling', 'yufka', 'yuka', 'yukon', 'yukons', 'yum', 'yummy', 'yuzo', 'yuzu', 'yuzupassion', 'yves', 'za', 'zaanse', 'zaatar', 'zabaglione', 'zacapa', 'zahter', 'zambra', 'zamora', 'zang', 'zanshõ', 'zante', 'zapallo', 'zapper', 'zarame', 'zarda', 'zatar', 'zatarain', 'zatarains', 'zatarian', 'zaâtar', 'zealand', 'zebra', 'zebras', 'zen', 'zentini', 'zereshk', 'zergüt', 'zero', 'zes', 'zest', 'zested', 'zestepi', 'zester', 'zesting', 'zests', 'zestthy', 'zesty', 'zhoug', 'zibibbo', 'zico', 'zin', 'zinfandel', 'zinfindel', 'zing', 'zinger', 'zingermans', 'zings', 'zip', 'ziti', 'zombie', 'zone', 'zoo', 'zubrowka', 'zucchini', 'zucchinis', 'zuchinni', 'zutano', 'zweiback', 'zwieback', 'ángel', 'árbol', 'ème', 'épices', 'éspices', 'ñame', 'ño', 'úa', 'źrbol', 'ﬁne', 'ﬁnely', 'ﬂour']\n"
     ]
    }
   ],
   "source": [
    "tf_vectorizer = TfidfVectorizer(stop_words=stopwords_nltk)\n",
    "ingr_tfidf = tf_vectorizer.fit_transform(corpus)\n",
    "\n",
    "print(tf_vectorizer.get_feature_names())"
   ]
  },
  {
   "cell_type": "markdown",
   "metadata": {},
   "source": [
    "# Dimensionality Reduction"
   ]
  },
  {
   "cell_type": "markdown",
   "metadata": {},
   "source": [
    "## Recipe Box (120k dataset)"
   ]
  },
  {
   "cell_type": "markdown",
   "metadata": {},
   "source": [
    "* CV+LSA\n",
    "* CV+NMF\n",
    "* TFIDF+LSA\n",
    "* TFIDF+NMF\n",
    "* LDA?"
   ]
  },
  {
   "cell_type": "markdown",
   "metadata": {},
   "source": [
    "### Count Vectorized LSA, RB data"
   ]
  },
  {
   "cell_type": "code",
   "execution_count": 38,
   "metadata": {
    "ExecuteTime": {
     "end_time": "2019-11-14T06:30:01.256957Z",
     "start_time": "2019-11-14T06:29:57.865876Z"
    }
   },
   "outputs": [
    {
     "data": {
      "text/plain": [
       "array([0.0984525 , 0.06934334, 0.04334735, 0.03047431, 0.02522847,\n",
       "       0.02132186, 0.01917213, 0.01757555, 0.01656025, 0.01562784])"
      ]
     },
     "execution_count": 38,
     "metadata": {},
     "output_type": "execute_result"
    }
   ],
   "source": [
    "#dim reduction (LSA) on rb data, ingredients column only:\n",
    "#corpus = data_ingr  in 1.4.2\n",
    "#ct_vectorizer = CountVectorizer(stop_words=stopwords_nltk)\n",
    "#ingr_ct = ct_vectorizer.fit_transform(corpus)\n",
    "\n",
    "lsa_10 = TruncatedSVD(10)  \n",
    "rb_lsa_10 = lsa_10.fit_transform(ingr_ct)\n",
    "lsa_10.explained_variance_ratio_"
   ]
  },
  {
   "cell_type": "code",
   "execution_count": 39,
   "metadata": {
    "ExecuteTime": {
     "end_time": "2019-11-14T06:30:01.297141Z",
     "start_time": "2019-11-14T06:30:01.259893Z"
    }
   },
   "outputs": [
    {
     "name": "stdout",
     "output_type": "stream",
     "text": [
      "\n",
      "Topic  0\n",
      "cup, teaspoon, tablespoons, chopped, cups, salt, pepper, ground, fresh, tablespoon\n",
      "\n",
      "Topic  1\n",
      "chopped, pepper, fresh, tablespoons, oil, olive, garlic, black, freshly, tablespoon\n",
      "\n",
      "Topic  2\n",
      "teaspoon, ground, salt, powder, teaspoons, sugar, cups, tablespoons, baking, flour\n",
      "\n",
      "Topic  3\n",
      "tablespoons, cups, sugar, butter, ounces, unsalted, flour, large, cut, cream\n",
      "\n",
      "Topic  4\n",
      "chopped, cups, ounce, ounces, finely, cream, cheese, package, teaspoon, onion\n",
      "\n",
      "Topic  5\n",
      "cups, ounce, pepper, sliced, ounces, salt, black, cut, cheese, ground\n",
      "\n",
      "Topic  6\n",
      "ounce, tablespoons, package, cheese, ounces, cream, sauce, drained, taste, shredded\n",
      "\n",
      "Topic  7\n",
      "fresh, cut, inch, teaspoon, ounces, sliced, juice, peeled, ounce, pieces\n",
      "\n",
      "Topic  8\n",
      "tablespoon, sauce, cups, minced, sugar, powder, juice, fresh, teaspoons, water\n",
      "\n",
      "Topic  9\n",
      "ounces, tablespoon, freshly, ground, butter, salt, finely, kosher, cream, unsalted\n"
     ]
    }
   ],
   "source": [
    "project4_functions.display_topics(lsa_10, ct_vectorizer.get_feature_names(), 10) "
   ]
  },
  {
   "cell_type": "markdown",
   "metadata": {},
   "source": [
    "CtVectorizer purely based on counts, quantities (teaspoons) show up the most! TF-IDF might make more sense. Also could add more stopwords"
   ]
  },
  {
   "cell_type": "markdown",
   "metadata": {},
   "source": [
    "### TF-IDF, LSA"
   ]
  },
  {
   "cell_type": "code",
   "execution_count": 85,
   "metadata": {
    "ExecuteTime": {
     "end_time": "2019-11-14T07:30:20.572782Z",
     "start_time": "2019-11-14T07:30:18.789553Z"
    }
   },
   "outputs": [
    {
     "data": {
      "text/plain": [
       "array([0.01022719, 0.02758804, 0.01023832, 0.0093126 , 0.0084785 ,\n",
       "       0.00803698, 0.00748933, 0.00697543, 0.00666047, 0.00614031])"
      ]
     },
     "execution_count": 85,
     "metadata": {},
     "output_type": "execute_result"
    }
   ],
   "source": [
    "#TF-IDF from 1.4.3 above:\n",
    "#vectorizer = TfidfVectorizer(stop_words=stopwords_nltk)\n",
    "#ingr_tfidf = vectorizer.fit_transform(corpus)\n",
    "\n",
    "#lsa_10 = TruncatedSVD(10)  \n",
    "tf_lsa_10 = lsa_10.fit_transform(ingr_tfidf)\n",
    "lsa_10.explained_variance_ratio_"
   ]
  },
  {
   "cell_type": "code",
   "execution_count": 41,
   "metadata": {
    "ExecuteTime": {
     "end_time": "2019-11-14T06:30:03.943895Z",
     "start_time": "2019-11-14T06:30:03.907239Z"
    }
   },
   "outputs": [
    {
     "name": "stdout",
     "output_type": "stream",
     "text": [
      "\n",
      "Topic  0\n",
      "cup, teaspoon, tablespoons, chopped, cups, ground, salt, tablespoon, pepper, sugar\n",
      "\n",
      "Topic  1\n",
      "sugar, cup, vanilla, baking, extract, flour, teaspoon, cups, purpose, butter\n",
      "\n",
      "Topic  2\n",
      "ounce, package, cheese, cream, cup, shredded, ounces, drained, mix, chocolate\n",
      "\n",
      "Topic  3\n",
      "teaspoon, ground, ounce, powder, pepper, taste, dried, onion, diced, sauce\n",
      "\n",
      "Topic  4\n",
      "cup, chopped, juice, fresh, white, lime, tablespoon, water, sugar, lemon\n",
      "\n",
      "Topic  5\n",
      "juice, lemon, ounce, tablespoon, teaspoon, orange, sauce, lime, tablespoons, sugar\n",
      "\n",
      "Topic  6\n",
      "cut, inch, sliced, cups, pieces, sauce, peeled, chicken, water, thinly\n",
      "\n",
      "Topic  7\n",
      "cup, cheese, sliced, parmesan, grated, vinegar, taste, oil, freshly, shredded\n",
      "\n",
      "Topic  8\n",
      "tablespoons, cups, tablespoon, teaspoons, flour, sauce, purpose, water, minced, chicken\n",
      "\n",
      "Topic  9\n",
      "chocolate, sauce, tablespoons, cream, chopped, tablespoon, ounces, heavy, butter, finely\n"
     ]
    }
   ],
   "source": [
    "project4_functions.display_topics(lsa_10, tf_vectorizer.get_feature_names(), 10)"
   ]
  },
  {
   "cell_type": "code",
   "execution_count": 42,
   "metadata": {
    "ExecuteTime": {
     "end_time": "2019-11-14T06:30:03.952876Z",
     "start_time": "2019-11-14T06:30:03.948820Z"
    }
   },
   "outputs": [],
   "source": [
    "#still get lots of tablespoons and cups, need more cleaning\n",
    "#put them into stopwords? table/teaspoons, cups, ounces\n",
    "#OR: do stemming before tokenization? phrase tagging/lemmatization? only keep nouns of ingr names"
   ]
  },
  {
   "cell_type": "markdown",
   "metadata": {},
   "source": [
    "### Count Vectorized NMF, RB data"
   ]
  },
  {
   "cell_type": "code",
   "execution_count": 43,
   "metadata": {
    "ExecuteTime": {
     "end_time": "2019-11-14T06:30:20.594837Z",
     "start_time": "2019-11-14T06:30:03.955823Z"
    }
   },
   "outputs": [],
   "source": [
    "nmf_10 = NMF(10) \n",
    "rb_nmf_10 = nmf_10.fit_transform(ingr_ct) "
   ]
  },
  {
   "cell_type": "code",
   "execution_count": 44,
   "metadata": {
    "ExecuteTime": {
     "end_time": "2019-11-14T06:30:20.626822Z",
     "start_time": "2019-11-14T06:30:20.597608Z"
    }
   },
   "outputs": [
    {
     "name": "stdout",
     "output_type": "stream",
     "text": [
      "\n",
      "Topic  0\n",
      "cup, sugar, butter, white, flour, cream, water, juice, milk, cheese\n",
      "\n",
      "Topic  1\n",
      "tablespoons, butter, sauce, unsalted, plus, oil, juice, lemon, salt, fresh\n",
      "\n",
      "Topic  2\n",
      "teaspoon, ground, powder, salt, dried, cinnamon, teaspoons, baking, sugar, flour\n",
      "\n",
      "Topic  3\n",
      "cups, sugar, butter, flour, vanilla, teaspoons, purpose, extract, salt, baking\n",
      "\n",
      "Topic  4\n",
      "chopped, fresh, finely, cups, onion, garlic, parsley, leaves, coarsely, cloves\n",
      "\n",
      "Topic  5\n",
      "pepper, ground, salt, black, freshly, oil, olive, kosher, garlic, red\n",
      "\n",
      "Topic  6\n",
      "ounce, package, cheese, drained, diced, cream, taste, shredded, onion, beans\n",
      "\n",
      "Topic  7\n",
      "cut, fresh, inch, sliced, peeled, large, oil, pound, pieces, thinly\n",
      "\n",
      "Topic  8\n",
      "tablespoon, sauce, minced, oil, garlic, fresh, juice, vinegar, soy, lemon\n",
      "\n",
      "Topic  9\n",
      "ounces, cheese, cream, chocolate, butter, grated, unsalted, heavy, plus, sliced\n"
     ]
    }
   ],
   "source": [
    "project4_functions.display_topics(nmf_10, ct_vectorizer.get_feature_names(), 10)"
   ]
  },
  {
   "cell_type": "code",
   "execution_count": 45,
   "metadata": {
    "ExecuteTime": {
     "end_time": "2019-11-14T06:30:20.633235Z",
     "start_time": "2019-11-14T06:30:20.629568Z"
    }
   },
   "outputs": [],
   "source": [
    "#these nmf topics seem to make more sense"
   ]
  },
  {
   "cell_type": "markdown",
   "metadata": {},
   "source": [
    "### TF-IDF, NMF, RB data\n"
   ]
  },
  {
   "cell_type": "code",
   "execution_count": 46,
   "metadata": {
    "ExecuteTime": {
     "end_time": "2019-11-14T06:30:49.405456Z",
     "start_time": "2019-11-14T06:30:20.636071Z"
    }
   },
   "outputs": [],
   "source": [
    "nmf_10 = NMF(10) \n",
    "rbtf_nmf_10 = nmf_10.fit_transform(ingr_tfidf)  #using tfidf results from 2.3.4"
   ]
  },
  {
   "cell_type": "code",
   "execution_count": 47,
   "metadata": {
    "ExecuteTime": {
     "end_time": "2019-11-14T06:30:49.455601Z",
     "start_time": "2019-11-14T06:30:49.407789Z"
    }
   },
   "outputs": [
    {
     "name": "stdout",
     "output_type": "stream",
     "text": [
      "\n",
      "Topic  0\n",
      "chopped, finely, diced, fresh, onion, cups, green, red, bell, parsley\n",
      "\n",
      "Topic  1\n",
      "teaspoon, ground, cinnamon, dried, salt, powder, pepper, black, nutmeg, cumin\n",
      "\n",
      "Topic  2\n",
      "ounce, package, cheese, shredded, drained, cream, mix, frozen, cheddar, cans\n",
      "\n",
      "Topic  3\n",
      "tablespoon, sauce, tablespoons, minced, taste, garlic, oil, soy, pepper, vinegar\n",
      "\n",
      "Topic  4\n",
      "freshly, olive, oil, pepper, black, extra, kosher, virgin, salt, ground\n",
      "\n",
      "Topic  5\n",
      "juice, lemon, fresh, orange, lime, zest, tablespoons, ice, garnish, mint\n",
      "\n",
      "Topic  6\n",
      "cut, inch, pieces, sliced, peeled, slices, thick, large, thinly, pound\n",
      "\n",
      "Topic  7\n",
      "cup, sugar, white, brown, water, packed, butter, milk, egg, coconut\n",
      "\n",
      "Topic  8\n",
      "cups, baking, flour, purpose, teaspoons, sugar, powder, eggs, soda, extract\n",
      "\n",
      "Topic  9\n",
      "cream, chocolate, vanilla, sugar, extract, ounces, unsalted, butter, tablespoons, room\n"
     ]
    }
   ],
   "source": [
    "project4_functions.display_topics(nmf_10, tf_vectorizer.get_feature_names(), 10)"
   ]
  },
  {
   "cell_type": "code",
   "execution_count": 48,
   "metadata": {
    "ExecuteTime": {
     "end_time": "2019-11-14T06:30:49.468826Z",
     "start_time": "2019-11-14T06:30:49.464658Z"
    }
   },
   "outputs": [],
   "source": [
    "\n",
    "#**tune TF-IDF parameters? look into docs\n",
    "#**also: GridSearchCV to find how many topics/ks to use?? sklearn doc example\n"
   ]
  },
  {
   "cell_type": "markdown",
   "metadata": {},
   "source": [
    "## Further preprocessing to get more meaningful topics"
   ]
  },
  {
   "cell_type": "markdown",
   "metadata": {},
   "source": [
    "### Add more stopwords before dim reduction\n",
    "-- lemmatize first? before vectorizer (still in word space)"
   ]
  },
  {
   "cell_type": "code",
   "execution_count": 49,
   "metadata": {
    "ExecuteTime": {
     "end_time": "2019-11-14T06:30:49.479270Z",
     "start_time": "2019-11-14T06:30:49.472198Z"
    }
   },
   "outputs": [
    {
     "name": "stdout",
     "output_type": "stream",
     "text": [
      "193\n"
     ]
    }
   ],
   "source": [
    "stopwords_ingr = stopwords_nltk #build upon previous custom stopwords (2.1) which included ADVERTISEMENT\n",
    "stopwords_ingr.extend(['tablespoon', 'teaspoon', 'cup', 'ounce', 'pound', 'tablespoons', 'teaspoons', 'cups', 'ounces', 'pounds','inch','inches']) \n",
    "print(len(stopwords_ingr))#when run cell again, keeps getting extended"
   ]
  },
  {
   "cell_type": "markdown",
   "metadata": {},
   "source": [
    "### Count Vectorized LSA, new stopwords"
   ]
  },
  {
   "cell_type": "code",
   "execution_count": 58,
   "metadata": {
    "ExecuteTime": {
     "end_time": "2019-11-14T06:48:54.281013Z",
     "start_time": "2019-11-14T06:48:46.626603Z"
    },
    "collapsed": true
   },
   "outputs": [
    {
     "name": "stdout",
     "output_type": "stream",
     "text": [
      "['_about', '_gravié_ra', '_hoong', 'aa', 'aalborg', 'aale', 'aaron', 'aarons', 'aarti', 'aattachment', 'ab', 'abalone', 'abasco', 'abbaye', 'abita', 'able', 'abondance', 'aborio', 'aborrio', 'abruzzese', 'abruzzo', 'absente', 'absinth', 'absinthe', 'absolut', 'absolute', 'absolutely', 'absorb', 'abuelita', 'abura', 'aburaage', 'aburage', 'abut', 'ac', 'acacia', 'acado', 'acai', 'accent', 'accents', 'acceptable', 'accepted', 'access', 'accommodate', 'accompanied', 'accompaniment', 'accompaniments', 'accompany', 'accompanying', 'accordian', 'according', 'accordingly', 'accordion', 'accuracy', 'accurately', 'acerola', 'acetate', 'aceto', 'achieve', 'achilleos', 'achiote', 'achoite', 'acholado', 'acid', 'acidic', 'acidity', 'acidophilus', 'acids', 'acidulated', 'acini', 'acitron', 'ackee', 'ackees', 'acommpaniment', 'acorn', 'acorns', 'acquello', 'across', 'acrylic', 'act', 'acting', 'activa', 'activate', 'activated', 'active', 'activedry', 'acto', 'acts', 'actually', 'adam', 'adams', 'add', 'added', 'adding', 'addition', 'additional', 'additions', 'additives', 'adds', 'adductor', 'ade', 'adhesive', 'adige', 'adjoining', 'adjust', 'adjustable', 'adjusted', 'adjusting', 'adjustments', 'adobe', 'adobo', 'adorning', 'adovada', 'adriana', 'adrianascaravan', 'aduki', 'adult', 'adults', 'advance', 'adventurous', 'advieh', 'advise', 'advocaat', 'adzuki', 'aejado', 'aerated', 'aerosol', 'affect', 'affinois', 'affixed', 'afford', 'affordable', 'affumicata', 'african', 'africantradingco', 'afterglow', 'afterwards', 'agar', 'agave', 'age', 'aged', 'agent', 'agents', 'aggressively', 'agitated', 'aglianico', 'agnolotti', 'agria', 'agricole', 'agridulce', 'agrodolce', 'agruadiente', 'agrumato', 'agua', 'aguardiente', 'agur', 'ahead', 'ahi', 'aid', 'aidell', 'aidells', 'ail', 'ailoi', 'aioli', 'air', 'airhead', 'airheads', 'airline', 'airplane', 'airtight', 'aisle', 'aisles', 'aitchbone', 'aj', 'ajawain', 'ajawin', 'aje', 'aji', 'ajices', 'ajicitos', 'ajies', 'ajika', 'ajinomoto', 'ajishio', 'ajo', 'ajowan', 'ajvar', 'ajwain', 'ajì', 'ají', 'ajíes', 'ajíí', 'aka', 'akawi', 'akazu', 'akika', 'akkawi', 'al', 'alabama', 'aladdin', 'alae', 'alaea', 'alamang', 'alarm', 'alaska', 'alaskan', 'alba', 'albacore', 'albareino', 'albarino', 'albariño', 'albemarle', 'albert', 'albumen', 'alcaparrado', 'alcohol', 'alcoholic', 'alcoholized', 'alden', 'alder', 'alderwood', 'ale', 'aleppo', 'alesmith', 'alessi', 'alex', 'alexander', 'alexia', 'alfafa', 'alfalfa', 'alfonse', 'alfonso', 'alfredo', 'algae', 'alginate', 'alici', 'aligot', 'alioli', 'alize', 'alizé', 'alkalized', 'alla', 'allepo', 'allergies', 'allergy', 'alligator', 'allnatural', 'allow', 'allowance', 'allowed', 'allows', 'allpurpose', 'allspic', 'allspice', 'allspiced', 'allspiece', 'allumette', 'allwhites', 'almandine', 'almibar', 'almond', 'almondmilk', 'almonds', 'almost', 'aloe', 'aloha', 'along', 'alongside', 'alouette', 'aloutte', 'alpha', 'alphabet', 'alphabets', 'alphonso', 'alpina', 'alpine', 'already', 'alsatian', 'also', 'alt', 'alterative', 'alternating', 'alternative', 'alternatively', 'alternatives', 'although', 'altitude', 'alto', 'altogether', 'alton', 'alum', 'aluminum', 'always', 'amagansett', 'amaise', 'amalfi', 'amandes', 'amantillado', 'amaranth', 'amarena', 'amareto', 'amaretti', 'amaretto', 'amarilla', 'amarillo', 'amaro', 'amarone', 'amarreto', 'amatriciana', 'amaz', 'amazing', 'amazon', 'amazonas', 'amba', 'ambar', 'amber', 'amberjack', 'ambert', 'ambessa', 'ambra', 'ambrosia', 'amchoor', 'amchur', 'amd', 'amer', 'america', 'american', 'americano', 'amino', 'aminos', 'amish', 'ammaretti', 'ammonia', 'ammonium', 'among', 'amontillado', 'amore', 'amoretti', 'amoroso', 'amount', 'amounts', 'amour', 'ample', 'amstel', 'amsterdam', 'amy', 'anadama', 'anaheim', 'anaheims', 'anahiem', 'analog', 'anapakaya', 'anasazi', 'anato', 'anatomy', 'anatto', 'ancho', 'anchor', 'anchos', 'anchovies', 'anchovy', 'anchoy', 'ancient', 'ancones', 'andall', 'andalusian', 'andcurried', 'andcut', 'anddiced', 'anddrained', 'andean', 'anderson', 'andes', 'andgizzard', 'andouille', 'andre', 'andrew', 'andrinsed', 'andré', 'andspicy', 'anejo', 'anelletti', 'anemic', 'angel', 'angeleno', 'angeles', 'angeli', 'angelica', 'angelicas', 'angelino', 'angelo', 'anglaise', 'angle', 'angled', 'angostura', 'angry', 'angus', 'animal', 'animals', 'anise', 'aniseed', 'aniseeds', 'aniseflavored', 'anisette', 'anjou', 'ankle', 'anko', 'ann', 'annaheim', 'annato', 'annatoo', 'annatto', 'anne', 'annes', 'annie', 'anniversary', 'anocho', 'another', 'ans', 'ansjovis', 'anson', 'antebellum', 'antelope', 'antennae', 'anthotyro', 'anti', 'antibiotic', 'antica', 'antipasta', 'antipasti', 'antipasto', 'antler', 'anton', 'antonis', 'ants', 'anything', 'anyway', 'ao', 'aol', 'aonori', 'aosta', 'ap', 'apart', 'apeach', 'apecial', 'aperitif', 'aperitivo', 'aperol', 'apfel', 'apiece', 'appealing', 'appear', 'appendage', 'appenzeller', 'appetizer', 'appetizers', 'apple', 'applegate', 'applejack', 'apples', 'applesauce', 'appleton', 'applewood', 'applicable', 'application', 'approimately', 'appropriate', 'approx', 'approximate', 'approximately', 'approximatly', 'appétit', 'apricot', 'apricots', 'apriplums', 'apriums', 'apron', 'aquafaba', 'aquavit', 'arabic', 'arachide', 'araguani', 'arak', 'arame', 'aranciata', 'arbequina', 'arbol', 'arbols', 'arborio', 'arborrio', 'archer', 'archide', 'archway', 'arctic', 'ardbeg', 'area', 'areas', 'arent', 'arepa', 'arepas', 'arequipe', 'argan', 'argentine', 'argentinean', 'argentinian', 'argo', 'aria', 'ariel', 'arils', 'arirangkimchee', 'arizona', 'arkansas', 'arm', 'armagnac', 'armanino', 'armenian', 'arms', 'army', 'arnold', 'aroma', 'aromatic', 'aromatics', 'around', 'aroy', 'arrabbiata', 'arrabiata', 'arrack', 'arrange', 'arranged', 'arrangements', 'array', 'arriving', 'arrow', 'arrowhead', 'arrowroot', 'arroz', 'arrugula', 'art', 'artagnan', 'arthur', 'artic', 'artichoke', 'artichokes', 'artificial', 'artisan', 'artisanal', 'artist', 'artois', 'arts', 'arugala', 'arugula', 'asada', 'asadas', 'asader', 'asadero', 'asado', 'asafetida', 'asafoetida', 'asahi', 'ascolane', 'ascorbic', 'ascurried', 'asfoetida', 'ash', 'asiago', 'asian', 'asiansesame', 'aside', 'asil', 'ask', 'asorbic', 'asparagus', 'aspartame', 'aspen', 'aspic', 'aspics', 'assam', 'assemble', 'assembling', 'assembly', 'assertive', 'assi', 'assored', 'assorted', 'assortment', 'asthai', 'asti', 'aston', 'astronaut', 'asturian', 'astwix', 'asuki', 'aswad', 'atar', 'ateco', 'athenos', 'athens', 'athos', 'atkinson', 'atlantic', 'atomic', 'atomized', 'atomizer', 'atop', 'atroom', 'atta', 'attached', 'attachment', 'attachments', 'attika', 'atural', 'au', 'aubergine', 'aubergines', 'audacious', 'aunt', 'auslese', 'australian', 'austrian', 'authentic', 'autrefois', 'autry', 'autumn', 'auvergne', 'aux', 'avacodo', 'avaiable', 'availability', 'available', 'avenue', 'average', 'averagesized', 'averna', 'avery', 'avgolemono', 'aviation', 'avocado', 'avocadoes', 'avocados', 'avoid', 'avola', 'avruga', 'award', 'away', 'awesome', 'ax', 'axiote', 'aylmer', 'azafran', 'azedo', 'azejo', 'aztec', 'azuki', 'azul', 'açai', 'açaí', 'aïoli', 'añejo', 'añjo', 'ba', 'bab', 'baba', 'babcock', 'babies', 'babka', 'baby', 'babyback', 'babybel', 'bac', 'bacala', 'bacalao', 'bacalhau', 'bacardi', 'baccala', 'baccalao', 'baccalà', 'bachelor', 'baci', 'bacio', 'back', 'backbone', 'backbones', 'backdraft', 'backfin', 'backs', 'backside', 'backstrap', 'bacon', 'baconnaise', 'bad', 'badi', 'badia', 'bads', 'baerenjaeger', 'baernwurst', 'bafaat', 'bag', 'bagel', 'bagels', 'bagette', 'bagfuls', 'bagged', 'baggie', 'bagna', 'bagoong', 'bags', 'baguet', 'baguette', 'baguettes', 'bahaman', 'bahamian', 'baharat', 'bahn', 'bai', 'bailey', 'baileys', 'bain', 'bait', 'baja', 'bajan', 'bake', 'baked', 'bakehouse', 'baker', 'bakeries', 'bakers', 'bakery', 'bakeware', 'baking', 'baklava', 'balance', 'balanced', 'balancer', 'balaton', 'balchao', 'balcones', 'bali', 'balinese', 'ball', 'balled', 'baller', 'ballerina', 'balloons', 'ballpark', 'balls', 'ballymaloe', 'balm', 'balsalmic', 'balsam', 'balsamic', 'balsamico', 'baltimore', 'bam', 'bambino', 'bamboo', 'ban', 'banan', 'banana', 'bananas', 'banane', 'bananes', 'band', 'bandera', 'bands', 'banfi', 'banged', 'banger', 'bangers', 'bangus', 'banh', 'banilla', 'banks', 'banneton', 'bannock', 'banon', 'banquet', 'banyuls', 'bao', 'baobab', 'baquette', 'baquettes', 'bar', 'barbacoa', 'barbados', 'barbancourt', 'barbara', 'barbecue', 'barbecued', 'barbeque', 'barbequed', 'barbera', 'barberries', 'barbieri', 'barcelona', 'barding', 'bare', 'barefoot', 'barely', 'barhi', 'barilla', 'bark', 'barlett', 'barley', 'barlotti', 'barn', 'barnagate', 'barolo', 'barquette', 'barramundi', 'barrel', 'barrios', 'barron', 'barry', 'bars', 'barsol', 'barspoon', 'bartenura', 'bartlett', 'bartletts', 'basa', 'base', 'baseball', 'based', 'bases', 'bashed', 'basic', 'basically', 'basics', 'basil', 'basin', 'basis', 'basket', 'baskets', 'basmati', 'basmatic', 'basque', 'bass', 'bassett', 'baste', 'basted', 'baster', 'basting', 'bat', 'batard', 'batardes', 'batata', 'batatas', 'batavia', 'batch', 'batches', 'bath', 'baton', 'batonnet', 'batonnets', 'batons', 'bats', 'batter', 'battera', 'battered', 'batty', 'bauernwurst', 'bauli', 'bavarian', 'bavaroise', 'bavette', 'bay', 'bayleaf', 'baynols', 'bayonne', 'bayou', 'bazmati', 'bbq', 'bc', 'beach', 'bead', 'beaded', 'beak', 'beaked', 'beaks', 'beam', 'bean', 'beancurd', 'beanquinoa', 'beans', 'beansprouts', 'bear', 'beard', 'bearded', 'beards', 'bearnaise', 'bears', 'beat', 'beaten', 'beater', 'beaters', 'beating', 'beau', 'beaufort', 'beaujolais', 'beaume', 'beaumes', 'beauregard', 'beausoleil', 'beautiful', 'beautifully', 'beauty', 'beaver', 'becel', 'bechamel', 'beck', 'become', 'becomes', 'becoming', 'bed', 'bedding', 'bee', 'beech', 'beecher', 'beef', 'beefaroni', 'beefeater', 'beefsteak', 'beefsteaks', 'beefy', 'beer', 'beerbit', 'beeren', 'beers', 'bees', 'beeswax', 'beet', 'beetroot', 'beetroots', 'beets', 'begin', 'beginner', 'beginning', 'begins', 'begonia', 'behind', 'beignets', 'bel', 'belacan', 'belachan', 'belge', 'belgian', 'belgioioso', 'belgium', 'believe', 'belize', 'belizean', 'bell', 'bella', 'bellas', 'belle', 'belles', 'bellflower', 'bellied', 'bellies', 'bello', 'belloc', 'bellpepper', 'bells', 'bellweather', 'bellwether', 'belly', 'belon', 'belons', 'belt', 'beltane', 'belts', 'beluga', 'belvedere', 'ben', 'bench', 'bend', 'beneath', 'benedict', 'benedictine', 'benefiber', 'bengal', 'bengali', 'beni', 'benita', 'benne', 'bennet', 'benny', 'benriner', 'benton', 'berbere', 'berentzen', 'berg', 'bergamot', 'berger', 'berio', 'berkshire', 'bermuda', 'bermudan', 'bernheim', 'berried', 'berries', 'berry', 'berryhill', 'bertman', 'bertolli', 'beryl', 'beryls', 'besan', 'besciamella', 'best', 'bestquality', 'besugo', 'bet', 'betel', 'better', 'betty', 'betutu', 'beurre', 'beverage', 'beverages', 'bevmo', 'bewley', 'bewleys', 'beyond', 'bhaji', 'bhut', 'bianco', 'bias', 'bib', 'bibb', 'biber', 'bibimbap', 'bicarbonate', 'bichamel', 'bicolored', 'biere', 'big', 'biga', 'bigelow', 'bigerades', 'bigeye', 'bigger', 'biggest', 'bijol', 'bilbao', 'bile', 'bill', 'billie', 'billion', 'biloba', 'biltmore', 'bin', 'bind', 'binding', 'bing', 'bins', 'bintjes', 'birch', 'bird', 'birds', 'birthday', 'biryani', 'biscayne', 'biscoff', 'biscos', 'biscotatto', 'biscott', 'biscotti', 'biscottiepi', 'biscuit', 'biscuits', 'bishop', 'biskra', 'bison', 'bisque', 'bisquettes', 'bisquick', 'bistro', 'bit', 'bite', 'bites', 'bitesize', 'bitesized', 'bits', 'bitter', 'bittering', 'bittermens', 'bitterness', 'bitters', 'bittersweet', 'biznaga', 'bière', 'blaak', 'blacan', 'black', 'blackberries', 'blackberry', 'blackcurrant', 'blackened', 'blackening', 'blackeye', 'blackeyed', 'blackfish', 'blackforest', 'blackpepper', 'blacks', 'blackseedless', 'blackstrap', 'blackwell', 'blade', 'bladed', 'blades', 'blair', 'blanc', 'blanca', 'blancas', 'blanch', 'blanche', 'blanched', 'blanching', 'blanco', 'blancs', 'blandy', 'blank', 'blankets', 'blanton', 'blast', 'blaukraut', 'bleach', 'bleached', 'blemish', 'blemishes', 'blend', 'blended', 'blender', 'blending', 'blends', 'bleu', 'bleuet', 'blind', 'blini', 'blinis', 'blintzes', 'blis', 'bliss', 'blistered', 'blitzed', 'block', 'blocks', 'blond', 'blonde', 'blondies', 'blood', 'bloodline', 'bloodlines', 'bloody', 'bloomed', 'blooming', 'blooms', 'blossom', 'blossoms', 'blotted', 'blow', 'blowfish', 'blown', 'blowtorch', 'blt', 'blue', 'blueberries', 'blueberry', 'bluecoat', 'bluefin', 'bluefini', 'bluefish', 'bluegill', 'bluepoint', 'bluepoints', 'blues', 'bluffton', 'bo', 'boal', 'boar', 'board', 'boards', 'boars', 'boat', 'boats', 'boatswain', 'bob', 'bobby', 'bobbyflay', 'boboli', 'bobolis', 'bobsredmill', 'bobwhite', 'boca', 'boccacini', 'boccalone', 'boccancini', 'boccincini', 'boccocini', 'bocconcini', 'bock', 'bockwurst', 'boconccini', 'bodied', 'bodies', 'body', 'bodysacs', 'bog', 'boi', 'boil', 'boiled', 'boiler', 'boiling', 'boiron', 'bois', 'boisserie', 'boite', 'bok', 'bokchoy', 'bolar', 'bold', 'bolder', 'boletes', 'boleti', 'boletus', 'bolillo', 'bolillos', 'bolo', 'bologna', 'bolognese', 'bols', 'bolt', 'bolted', 'bomba', 'bombay', 'bombe', 'bomboloni', 'bon', 'bonajuto', 'bonal', 'bonbon', 'bonbons', 'bonded', 'bone', 'boned', 'boneless', 'bones', 'boneyard', 'bongo', 'boniato', 'boniatos', 'boning', 'bonito', 'bonne', 'bonnet', 'bonnets', 'bonny', 'boo', 'boodles', 'book', 'bookbinder', 'boolgogi', 'boost', 'boosters', 'boosting', 'booze', 'boquerones', 'boquerónes', 'borage', 'bordeaux', 'bordelaise', 'borden', 'border', 'borlotti', 'borlotto', 'borowik', 'borscht', 'bosc', 'bosch', 'boschetto', 'bosco', 'boscoli', 'boskop', 'boston', 'botan', 'bother', 'botija', 'botstle', 'bott', 'bottarga', 'bottle', 'bottled', 'bottlegin', 'bottleneck', 'bottles', 'bottom', 'bottomed', 'bottoms', 'bou', 'bouche', 'boucheron', 'bouchon', 'bouchu', 'boudin', 'boudoirs', 'bougainvillea', 'boughs', 'bought', 'bouillabaisse', 'bouillion', 'bouillon', 'boulder', 'boule', 'boules', 'boulevard', 'boullion', 'boulot', 'bound', 'bountiful', 'bouqet', 'bouquet', 'bouquetgarni', 'bouquetiere', 'bouquets', 'bourbon', 'bourgogne', 'bourguignon', 'boursault', 'boursin', 'bouvet', 'bovril', 'bow', 'bowfin', 'bowl', 'bowled', 'bowling', 'bowls', 'bowmore', 'bowtie', 'bowties', 'box', 'boxdevil', 'boxed', 'boxes', 'boy', 'boyajian', 'boyardee', 'boys', 'boysenberries', 'boysenberry', 'brabant', 'bracelets', 'brach', 'brachetto', 'brachman', 'braciola', 'braciole', 'bracken', 'brad', 'bradley', 'braeburn', 'braeburns', 'braesola', 'bragg', 'braggs', 'braid', 'braided', 'braids', 'brain', 'brains', 'braise', 'braised', 'braiser', 'braises', 'braising', 'bramble', 'bramley', 'bran', 'branca', 'branch', 'branches', 'brand', 'brandade', 'branded', 'brandied', 'brandies', 'brands', 'brandy', 'brandywine', 'branston', 'branzini', 'branzino', 'brasato', 'brat', 'brats', 'bratwurst', 'bratwursts', 'braunschweiger', 'brave', 'bravo', 'brawny', 'brazil', 'brazilian', 'brea', 'bread', 'breadcrumb', 'breadcrumbs', 'breadcumbs', 'breaded', 'breader', 'breadfruit', 'breading', 'breads', 'breadstick', 'breadsticks', 'break', 'breakage', 'breakfast', 'breaking', 'breaks', 'breakstone', 'breakstones', 'bream', 'breams', 'breast', 'breastbone', 'breasts', 'breathing', 'brebis', 'bredie', 'breeze', 'bresaola', 'bresola', 'breton', 'bretons', 'bretzel', 'brew', 'brewed', 'brewer', 'brewers', 'brewery', 'brewing', 'breyers', 'briana', 'briannas', 'bric', 'brick', 'brickle', 'bricks', 'bridge', 'bridgeford', 'bridgford', 'brie', 'briefly', 'brien', 'bright', 'brighten', 'brightly', 'brik', 'brillat', 'brillet', 'brilliant', 'brin', 'brinata', 'brine', 'brinecured', 'brined', 'bring', 'brining', 'brinjal', 'briny', 'brioche', 'brioches', 'briquets', 'briquettes', 'brisee', 'brisket', 'briskets', 'brisling', 'bristle', 'bristol', 'brisée', 'british', 'brittany', 'brittle', 'brizard', 'bro', 'broad', 'broadbent', 'broccoflower', 'broccoli', 'broccolini', 'broccollini', 'broiche', 'broil', 'broiled', 'broiler', 'broiling', 'broke', 'broken', 'bromated', 'broncbuster', 'brone', 'bronze', 'bronzing', 'bronzino', 'brook', 'brooklyn', 'brooks', 'broom', 'brot', 'broth', 'brother', 'brothers', 'broths', 'brought', 'brown', 'browned', 'brownie', 'brownies', 'browning', 'browns', 'brownulated', 'bruce', 'bruder', 'bruise', 'bruised', 'brujo', 'brulee', 'bruleed', 'bruleeing', 'brun', 'brune', 'brunet', 'bruniose', 'bruno', 'brunois', 'brunoise', 'brunoised', 'bruschetta', 'brush', 'brushed', 'brushes', 'brushing', 'brussel', 'brussels', 'brussles', 'brut', 'brute', 'bruxelles', 'bryant', 'brûlée', 'bual', 'bubba', 'bubbies', 'bubble', 'bubblegum', 'bubbling', 'bubbly', 'bucare', 'bucatini', 'bucatoni', 'buccatini', 'bucco', 'buch', 'buchanan', 'bucheron', 'buchu', 'buck', 'buckets', 'bucking', 'buckle', 'buckler', 'buckwheat', 'buco', 'bud', 'buddha', 'buddies', 'buddig', 'budget', 'buds', 'budweiser', 'buena', 'buerre', 'bufala', 'bufalo', 'buff', 'buffalo', 'buffalotrace', 'buffel', 'buffered', 'bufula', 'bug', 'buganvilia', 'bugles', 'bugs', 'build', 'buitoni', 'bulb', 'bulbs', 'bulgar', 'bulgarian', 'bulghur', 'bulgogi', 'bulgur', 'bulk', 'bull', 'bulleit', 'bullion', 'bullseye', 'bullwhip', 'bullying', 'bumble', 'bump', 'bumpy', 'bun', 'bunch', 'bunched', 'bunches', 'bunchs', 'bundle', 'bundled', 'bundles', 'bundnerfleisch', 'bundt', 'buniato', 'bunnies', 'bunnonstick', 'bunny', 'buns', 'bunuelo', 'buon', 'buonitalia', 'bupound', 'bupounds', 'buratta', 'burbank', 'burbot', 'burdock', 'burg', 'burgel', 'burger', 'burgers', 'burgundian', 'burgundies', 'burgundy', 'burlap', 'burman', 'burmese', 'burn', 'burned', 'burner', 'burners', 'burnet', 'burnett', 'burning', 'burnt', 'burp', 'burrata', 'burratta', 'burrell', 'burricotti', 'burrito', 'burritos', 'buschs', 'bush', 'bushel', 'bushels', 'bushi', 'bushmills', 'bustelo', 'buster', 'butane', 'butch', 'butcher', 'butchered', 'butchers', 'buter', 'butler', 'butt', 'butte', 'butter', 'butterball', 'butterbean', 'butterbeans', 'buttercake', 'buttercream', 'buttercreams', 'buttercrunch', 'buttercup', 'buttered', 'butterfinger', 'butterfingers', 'butterfish', 'butterflied', 'butterflies', 'butterfly', 'butterflyed', 'butterground', 'butterhead', 'buttering', 'butterkase', 'butterkäse', 'buttermik', 'buttermilk', 'butternut', 'butternuts', 'butters', 'butterscotch', 'buttershots', 'butterworth', 'buttery', 'button', 'buttons', 'butts', 'buxton', 'buy', 'buying', 'bv', 'bypass', 'byrd', 'byron', 'byrrh', 'bâtarde', 'bâtards', 'bärenjäger', 'béarnaise', 'béchamel', 'bénédictine', 'bûcheron', 'ca', 'cabbage', 'cabbages', 'cabello', 'cabernet', 'cabin', 'cabo', 'cabot', 'cabra', 'cabrales', 'cacacha', 'cacao', 'cacciata', 'cacciatore', 'cacciocavallo', 'cacereña', 'cachaca', 'cachaza', 'cachaça', 'cachere', 'cacho', 'cachucha', 'cacik', 'cacio', 'caciocavallo', 'caciotta', 'cacique', 'caciqus', 'cacoa', 'cactus', 'cadbury', 'caesar', 'cafe', 'cafedumonde', 'caffe', 'caffeinated', 'caffeine', 'caffè', 'café', 'cage', 'cages', 'cai', 'caja', 'cajeta', 'cajon', 'cajun', 'cajungrocer', 'cake', 'cakes', 'cakey', 'caking', 'cal', 'calabacitas', 'calabash', 'calabasitas', 'calabaza', 'calabazas', 'calabrese', 'calabria', 'calabrian', 'calabro', 'calamansi', 'calamari', 'calamata', 'calamyra', 'calaspara', 'calasparra', 'calcium', 'calcots', 'calendula', 'calf', 'calgary', 'caliente', 'california', 'californian', 'calimyra', 'calimyrna', 'call', 'callaloo', 'calle', 'callebaut', 'callebaux', 'called', 'callender', 'callets', 'callies', 'calling', 'callipo', 'calls', 'calmata', 'calmyrna', 'calorie', 'calories', 'calrose', 'calumet', 'calvados', 'calves', 'calymyra', 'calypso', 'calyxes', 'calzone', 'calzones', 'camargue', 'cambazola', 'cambazzola', 'cambodian', 'cambozola', 'camellia', 'camembert', 'cameo', 'camomile', 'campagne', 'campagnelle', 'campanelle', 'campania', 'campari', 'campbell', 'campbells', 'camper', 'campfire', 'camphor', 'campo', 'camus', 'cana', 'canada', 'canadian', 'canal', 'canard', 'canaroli', 'canary', 'canasta', 'canchita', 'candied', 'candies', 'candiquick', 'candiquik', 'candle', 'candlenut', 'candlenuts', 'candles', 'candy', 'candyquik', 'cane', 'canela', 'canella', 'canelli', 'canellini', 'canellinni', 'canes', 'canestriped', 'canilla', 'canister', 'canisters', 'cannabis', 'canned', 'cannelini', 'cannellili', 'cannellini', 'cannelloni', 'canneloni', 'canner', 'canning', 'cannoli', 'cannolicchi', 'cannonau', 'cannot', 'canoes', 'canoga', 'canola', 'cans', 'cantal', 'cantaloupe', 'cantaloupes', 'cantare', 'canteloupe', 'canton', 'cantonese', 'cantuccini', 'canvas', 'canyon', 'caol', 'cap', 'capacity', 'capacola', 'cape', 'capel', 'capelin', 'capelletti', 'capelli', 'capellini', 'caper', 'caperberries', 'capers', 'capfuls', 'capicola', 'capicolla', 'capital', 'capocollo', 'capocolo', 'capon', 'caponata', 'capons', 'capote', 'cappacola', 'capped', 'cappelletti', 'cappellini', 'cappicola', 'cappicolla', 'cappocola', 'cappuccino', 'caprese', 'capriccio', 'capricious', 'capriole', 'caps', 'capsican', 'capsicum', 'capsicums', 'capsule', 'capsules', 'captain', 'capuccino', 'caputo', 'cara', 'carabineros', 'caracao', 'caracque', 'caraebe', 'carafa', 'caraibe', 'caraje', 'carambola', 'carambolas', 'caramel', 'caramelize', 'caramelized', 'caramelizing', 'caramels', 'carapace', 'carapelli', 'carat', 'caravan', 'caravella', 'caravelle', 'caraway', 'carb', 'carbohydrate', 'carbohydrates', 'carbon', 'carbonara', 'carbonate', 'carbonated', 'carbonation', 'carboy', 'carbquik', 'carbs', 'carcass', 'carcasse', 'carcasses', 'card', 'cardamom', 'cardamoms', 'cardamon', 'cardboard', 'cardomoms', 'cardomon', 'cardoons', 'cards', 'care', 'careful', 'carefully', 'cargamanto', 'cargo', 'caribbean', 'caribe', 'caribou', 'carl', 'carlini', 'carlo', 'carlsbad', 'carmelized', 'carmels', 'carmody', 'carnaroli', 'carnation', 'carnations', 'carne', 'carnitas', 'carnival', 'carob', 'carolans', 'carolina', 'carom', 'carp', 'carpaccio', 'carpano', 'carpenter', 'carpet', 'carr', 'carrageen', 'carrageenan', 'carriage', 'carries', 'carroll', 'carrot', 'carrots', 'carrott', 'carry', 'carta', 'cartilage', 'cartilege', 'carton', 'cartons', 'carved', 'carving', 'casa', 'casaba', 'casamigos', 'casar', 'casarecce', 'casbah', 'cascabel', 'cascabele', 'cascable', 'cascade', 'cascadian', 'case', 'casera', 'caserecci', 'cases', 'casey', 'cashew', 'cashews', 'casing', 'casings', 'cask', 'cassarecce', 'cassarecci', 'cassata', 'cassava', 'cassavas', 'casse', 'casserole', 'casseroles', 'cassia', 'cassis', 'cast', 'castelfranco', 'castellane', 'castelluccio', 'castelmagno', 'castelrosso', 'castelvetrano', 'caster', 'castings', 'castor', 'cat', 'catalan', 'catalina', 'catalogue', 'catamount', 'catch', 'catching', 'catelli', 'caterpillar', 'catfish', 'catskill', 'catsup', 'cattleman', 'cattlemen', 'cauda', 'caught', 'caul', 'cauldron', 'cauliflower', 'cause', 'caution', 'cava', 'cavaillon', 'cavair', 'cavalle', 'cavallion', 'cavatapi', 'cavatappi', 'cavatelli', 'cave', 'cavender', 'cavetelle', 'caviar', 'cavities', 'cavity', 'cavolo', 'cayenne', 'cayennes', 'cayennne', 'cazuela', 'cb', 'cc', 'ccconsp', 'ccmi', 'ccq', 'cd', 'cebollas', 'cecchi', 'cecco', 'ceci', 'cedar', 'cel', 'celebrant', 'celebration', 'celeery', 'celeriac', 'celeriacs', 'celery', 'celeryseeds', 'celestial', 'cellantani', 'cellars', 'cellentani', 'cello', 'cellophane', 'celtic', 'cemita', 'cent', 'centenario', 'centennial', 'center', 'centercut', 'centerpiece', 'centers', 'centimeter', 'centimeters', 'cento', 'central', 'centre', 'century', 'cep', 'cepes', 'ceramic', 'cereal', 'cereals', 'ceres', 'cerignola', 'ceringola', 'cermanic', 'certain', 'certifed', 'certified', 'certo', 'cervantes', 'cerveza', 'ces', 'cetara', 'cevender', 'ceviche', 'ceylon', 'cfu', 'cha', 'chaa', 'chaat', 'chabis', 'chablis', 'chabrin', 'chachere', 'chai', 'chain', 'challa', 'challah', 'challenge', 'chalupas', 'cham', 'chambord', 'chambourcin', 'chambourd', 'chamomile', 'champagne', 'champignon', 'champignons', 'championship', 'chana', 'chanco', 'chandon', 'chang', 'changbai', 'change', 'changed', 'changes', 'changing', 'channa', 'channel', 'chantaboon', 'chanterelle', 'chanterelles', 'chantilly', 'chaokoh', 'chapati', 'chapatis', 'chapatti', 'chappati', 'chaps', 'chapssal', 'char', 'charantes', 'charbay', 'charcoal', 'charcoals', 'charcuterie', 'chard', 'chardonnay', 'charentais', 'charentes', 'charge', 'charged', 'chargers', 'charleston', 'charlotte', 'charmoula', 'charms', 'charolais', 'charra', 'charred', 'charro', 'chartreuse', 'chat', 'chateau', 'chateaubriand', 'chateaubriands', 'chatham', 'chaurice', 'chavignol', 'chavrie', 'chayote', 'chayotes', 'cheap', 'cheaper', 'check', 'checked', 'checking', 'checks', 'cheddar', 'cheddarwurst', 'chee', 'cheek', 'cheeks', 'cheerios', 'cheery', 'cheese', 'cheesecake', 'cheesecloth', 'cheesee', 'cheesemaking', 'cheeses', 'cheesesoft', 'cheesier', 'cheesy', 'cheetos', 'cheez', 'chef', 'chefmaster', 'chefs', 'chefshop', 'chenel', 'chenin', 'cheo', 'cheong', 'cherie', 'cherimoya', 'chermoula', 'cherokee', 'cherries', 'cherry', 'cherrystone', 'cherrywood', 'cherub', 'chervil', 'cheryl', 'chesapeake', 'cheshire', 'chess', 'chessman', 'chessmen', 'chest', 'chester', 'chestnut', 'chestnuts', 'cheung', 'chevon', 'chevre', 'chevril', 'chevrion', 'chevrot', 'chewable', 'chewier', 'chewing', 'chews', 'chewy', 'chex', 'cheyenne', 'chi', 'chia', 'chianti', 'chicago', 'chicharones', 'chicharron', 'chicharrones', 'chicharrón', 'chicharrónes', 'chichicapa', 'chick', 'chicken', 'chickenor', 'chickens', 'chickpea', 'chickpeas', 'chicks', 'chickweed', 'chiclets', 'chico', 'chicories', 'chicory', 'chicos', 'chien', 'chiew', 'chiffinade', 'chiffon', 'chiffonad', 'chiffonade', 'chiffonaded', 'chiffonnade', 'chifonnade', 'chihuahua', 'chihuahuah', 'chihuaua', 'chihuhua', 'chik', 'chilaca', 'chilcostles', 'childhood', 'children', 'chile', 'chilean', 'chiles', 'chiletepin', 'chilhuacle', 'chilhuacles', 'chili', 'chilie', 'chilies', 'chilies_packed', 'chilis', 'chill', 'chilled', 'chilledchinese', 'chilles', 'chilli', 'chillies', 'chilling', 'chillis', 'chilpotles', 'chiltepin', 'chimay', 'chimayo', 'chimichangas', 'chimichurri', 'chimichuurri', 'chimney', 'china', 'chinaco', 'chinato', 'chinatown', 'chincoteague', 'chine', 'chined', 'chinese', 'ching', 'chinkiang', 'chinks', 'chinned', 'chino', 'chinois', 'chinook', 'chinos', 'chinquoteague', 'chiogga', 'chioggia', 'chip', 'chipits', 'chiplote', 'chiplotes', 'chipolata', 'chipolte', 'chipoltes', 'chipoltle', 'chipotle', 'chipotles', 'chipped', 'chips', 'chiquita', 'chitarra', 'chitterlings', 'chive', 'chives', 'chlies', 'chloe', 'chlorella', 'chloride', 'chlorinated', 'chobani', 'choc', 'chocho', 'choclo', 'chocoholics', 'chocolat', 'chocolate', 'chocolates', 'chocolatey', 'chocolatier', 'chocolaty', 'choi', 'choice', 'choices', 'choke', 'chokecherry', 'chokes', 'choko', 'cholent', 'cholesterol', 'cholula', 'chong', 'choose', 'choosing', 'chop', 'chopmeat', 'choppe', 'chopped', 'choppedcan', 'chopping', 'choppped', 'chops', 'chopstick', 'chopsticks', 'chord', 'choricero', 'chorico', 'chorize', 'chorizo', 'chorizos', 'choron', 'chou', 'choucroute', 'chourico', 'chouriho', 'chouriço', 'choux', 'chow', 'chowchow', 'chowder', 'choy', 'choya', 'chris', 'christening', 'christian', 'christina', 'christmas', 'christophene', 'christophenes', 'christopher', 'christophine', 'chrysanthemum', 'chu', 'chua', 'chub', 'chubby', 'chubritsa', 'chubs', 'chuck', 'chucks', 'chuka', 'chukkar', 'chulpe', 'chum', 'chun', 'chunk', 'chunked', 'chunks', 'chunky', 'churned', 'churrasco', 'churrascos', 'churrera', 'churro', 'churros', 'chutney', 'chutneys', 'chèvre', 'ciabatta', 'ciabbata', 'ciao', 'cicely', 'ciclón', 'cider', 'cigar', 'cigarette', 'cigarettes', 'cigarillos', 'cigars', 'cilanto', 'cilantro', 'ciliegine', 'ciliegini', 'ciliengine', 'cima', 'cin', 'cinammon', 'cinamon', 'cinch', 'cincinnati', 'cinco', 'cinderella', 'cindy', 'cinghiale', 'cinnamo', 'cinnamon', 'cinzano', 'cioccolato', 'cioppino', 'cipolini', 'cipolinni', 'cipolline', 'cipollini', 'cipollinis', 'cippoline', 'cippolini', 'cippolline', 'cipriani', 'circle', 'circles', 'circo', 'circular', 'circus', 'ciroc', 'cistanche', 'cit', 'citarella', 'citrate', 'citric', 'citroen', 'citron', 'citronette', 'citrus', 'citruses', 'citrusy', 'citterio', 'city', 'ck', 'cl', 'clabber', 'clabbered', 'clam', 'clamato', 'clams', 'clamshell', 'clancy', 'clara', 'claret', 'clarified', 'clarifying', 'clarita', 'clark', 'clasen', 'clasico', 'classic', 'classicmac', 'classico', 'classics', 'claussen', 'claw', 'claws', 'clay', 'clayton', 'clean', 'cleaned', 'cleaners', 'cleaning', 'cleanly', 'clear', 'clearcreekdistillery', 'clearjel', 'cleaver', 'clement', 'clementine', 'clementines', 'clerk', 'clever', 'click', 'cling', 'clinging', 'clings', 'clingstone', 'clip', 'clipped', 'clips', 'clizuel', 'cloaks', 'clod', 'close', 'closed', 'closer', 'cloth', 'clothbound', 'cloths', 'clotted', 'cloud', 'cloudberry', 'clouds', 'cloudy', 'clove', 'cloved', 'clover', 'cloverleaf', 'cloves', 'clovis', 'club', 'cluizel', 'clumps', 'cluster', 'clusters', 'clásico', 'clément', 'cm', 'co', 'coach', 'coal', 'coalho', 'coals', 'coaps', 'coarse', 'coarsely', 'coarsemesh', 'coarser', 'coarsley', 'coarsly', 'coast', 'coastal', 'coastline', 'coat', 'coated', 'coating', 'coatings', 'coax', 'cob', 'cobb', 'cobbler', 'cobblestone', 'cobia', 'cobs', 'coca', 'cocchi', 'cochon', 'cochons', 'cocina', 'cock', 'cockatiels', 'cockels', 'cockles', 'cocktail', 'cocktails', 'coco', 'cocoa', 'coconut', 'coconutmilk', 'coconuts', 'cocotte', 'cocowhip', 'cocozelle', 'cod', 'coddled', 'coddler', 'code', 'codfish', 'coeur', 'coffee', 'coffeecake', 'cog', 'cognac', 'coho', 'coiled', 'coils', 'coin', 'coined', 'coins', 'cointreau', 'cointreu', 'cojita', 'cojito', 'coke', 'cola', 'colaciones', 'colada', 'colander', 'colatura', 'colavita', 'colbert', 'colby', 'colcannon', 'cold', 'coldbrew', 'colder', 'coldheavy', 'cole', 'coleman', 'coleslaw', 'collagen', 'collapsed', 'collapsible', 'collapsing', 'collar', 'collard', 'collards', 'collars', 'collect', 'collection', 'collections', 'college', 'collins', 'colman', 'colmans', 'colomba', 'colombian', 'colombiano', 'colonata', 'colonnata', 'color', 'colorado', 'colored', 'colorful', 'coloring', 'colorings', 'colorless', 'colors', 'colossal', 'colour', 'colouring', 'colours', 'columbia', 'columbian', 'com', 'comal', 'comb', 'combination', 'combinations', 'combinbation', 'combine', 'combined', 'combining', 'combo', 'come', 'comeback', 'comercially', 'comes', 'comfort', 'comfortable', 'comice', 'comino', 'commercial', 'commercially', 'common', 'commonly', 'como', 'compact', 'company', 'comparable', 'compari', 'compartment', 'compass', 'competition', 'complement', 'complements', 'completa', 'complete', 'completely', 'complex', 'complexity', 'compliment', 'component', 'components', 'composed', 'compote', 'compound', 'compounds', 'compressed', 'comstock', 'comte', 'comté', 'con', 'conagra', 'concasse', 'concassed', 'concassee', 'concentrate', 'concentrated', 'concepción', 'concern', 'conch', 'conchiglie', 'conchiglioni', 'concord', 'condensed', 'condiment', 'condiments', 'cone', 'conecuh', 'cones', 'coney', 'confection', 'confectionary', 'confectioner', 'confectioners', 'confectionery', 'confetti', 'confit', 'confused', 'conical', 'conjunction', 'conmemorativo', 'connected', 'connecting', 'connective', 'connects', 'connie', 'conserve', 'consider', 'considered', 'consistency', 'consisting', 'consomme', 'consommé', 'constructed', 'construction', 'consult', 'consume', 'consumed', 'consumme', 'contact', 'contadina', 'contain', 'container', 'containers', 'containing', 'contains', 'containters', 'content', 'contents', 'continue', 'continuous', 'contreau', 'conventional', 'conversation', 'converted', 'cook', 'cooke', 'cooked', 'cookedbutterflied', 'cooker', 'cookers', 'cookie', 'cookies', 'cookiesepi', 'cooking', 'cooks', 'cookware', 'cool', 'coole', 'cooled', 'cooler', 'cooling', 'coooked', 'cooper', 'coors', 'copacola', 'cope', 'copicolla', 'coppa', 'coppacola', 'copper', 'copyright', 'coquito', 'coral', 'corano', 'corazon', 'corazón', 'corbina', 'cord', 'corded', 'cordial', 'cording', 'cordon', 'cordycep', 'core', 'cored', 'corer', 'cores', 'coriander', 'corinthian', 'cork', 'corks', 'corkscrew', 'corkscrews', 'corky', 'corm', 'corn', 'cornbread', 'corncob', 'corncobs', 'corned', 'corner', 'corners', 'cornet', 'cornets', 'cornflake', 'cornflakes', 'cornflour', 'cornhusks', 'cornichon', 'cornichons', 'cornish', 'cornishon', 'cornishons', 'cornmeal', 'cornnuts', 'corns', 'cornstarch', 'cornstick', 'cornuts', 'corny', 'corona', 'coronita', 'correct', 'corrugated', 'cortado', 'cortland', 'corvina', 'cos', 'cosmo', 'cosmopolitan', 'cost', 'costa', 'costco', 'costena', 'costeno', 'costenos', 'costeño', 'costoluto', 'cote', 'cotechino', 'cotes', 'cotija', 'cotixa', 'cotswold', 'cotta', 'cottage', 'cottas', 'cotto', 'cotton', 'cottonseed', 'coucous', 'could', 'coulis', 'counces', 'count', 'counter', 'counters', 'countertop', 'country', 'countryside', 'countrystyle', 'county', 'coup', 'coupe', 'couple', 'couplers', 'courgette', 'courgettes', 'course', 'coursely', 'court', 'courtesy', 'courtland', 'courvoisier', 'cous', 'couscous', 'couscousiere', 'couscoussière', 'couverture', 'cove', 'cover', 'covered', 'covering', 'covers', 'coverture', 'coves', 'cow', 'cowboy', 'cowboys', 'cowgirl', 'cowpeas', 'cows', 'cox', 'coyote', 'cr', 'crab', 'crabapple', 'crabapples', 'crabcake', 'crabmeat', 'crabs', 'crabsticks', 'crack', 'cracked', 'cracker', 'crackers', 'cracking', 'crackle', 'crackled', 'cracklin', 'cracklings', 'cracklins', 'cracks', 'craft', 'crafts', 'craftsetc', 'craig', 'craisins', 'cran', 'cranberries', 'cranberry', 'cranked', 'cranks', 'crate', 'crave', 'crawfish', 'crawler', 'crayfish', 'crazy', 'cream', 'creamaccompaniment', 'creame', 'creamed', 'creamer', 'creamery', 'creaminess', 'creamless', 'creamy', 'create', 'creating', 'creations', 'creative', 'creature', 'creatures', 'credit', 'creek', 'creepy', 'crem', 'crema', 'creme', 'cremes', 'cremim', 'cremini', 'creminis', 'cremino', 'cremodan', 'crenshaw', 'crenshaws', 'creole', 'crepe', 'crepes', 'crescent', 'crescents', 'crescenza', 'cresenza', 'cress', 'crest', 'creste', 'cretan', 'cricket', 'cried', 'crimini', 'criminis', 'crimni', 'crimped', 'crimson', 'crinkle', 'crinkles', 'crinkly', 'criolla', 'criollas', 'criollo', 'crisco', 'crisp', 'crispbread', 'crispcooked', 'crispearls', 'crisped', 'crisper', 'crispies', 'crispin', 'crisping', 'crispix', 'crispleaves', 'crisply', 'crispness', 'crisps', 'crispy', 'criss', 'crisscross', 'crisscrossed', 'cristianos', 'critter', 'crme', 'croaker', 'crock', 'crocker', 'crocks', 'croissant', 'croissants', 'croix', 'crooked', 'crookneck', 'croque', 'croquembouche', 'croquettes', 'cros', 'crosnes', 'cross', 'crosscut', 'crosse', 'crosses', 'crosshatch', 'crosshatches', 'crossways', 'crosswire', 'crosswise', 'crostata', 'crostini', 'crostone', 'crottins', 'croustades', 'croutes', 'crouton', 'croutons', 'crowd', 'crowder', 'crown', 'crowns', 'crucolo', 'cruda', 'crudite', 'crudites', 'crudité', 'crudités', 'cruise', 'crullers', 'crumb', 'crumbed', 'crumble', 'crumbled', 'crumbledcorn', 'crumbles', 'crumbling', 'crumbly', 'crumbs', 'crumpet', 'crumpets', 'crunch', 'crunched', 'crunchies', 'crunchiness', 'crunchy', 'crush', 'crushed', 'crushedtomatoes', 'crushing', 'crust', 'crustaceans', 'crusted', 'crustier', 'crusting', 'crustless', 'crusts', 'crusty', 'crutini', 'cruz', 'cruzan', 'cryovac', 'crystal', 'crystalized', 'crystalline', 'crystallized', 'crystallizing', 'crystals', 'crème', 'crème_dishes', 'créme', 'créole', 'crêpe', 'crêpes', 'csabai', 'ct', 'cu', 'cuaraco', 'cuarenta', 'cuban', 'cubanella', 'cubanelle', 'cubanelles', 'cubanero', 'cubano', 'cube', 'cubeb', 'cubebs', 'cubed', 'cubes', 'cubic', 'cubitos', 'cucumber', 'cucumbers', 'cuervo', 'cuisine', 'cuke', 'cukes', 'culantro', 'culhane', 'culinary', 'culinarydistrict', 'culinarygrade', 'cull', 'culls', 'cultivated', 'culture', 'cultured', 'cultures', 'cumberland', 'cumberlands', 'cumin', 'cuminseed', 'cupagar', 'cuparugula', 'cupboard', 'cupc', 'cupcake', 'cupcakes', 'cupcassis', 'cupchapati', 'cupchicken', 'cupcup', 'cupdill', 'cupful', 'cupgingered', 'cupgrated', 'cuphazelnuts', 'cupoil', 'cupoloroso', 'cuppesto', 'cuppine', 'cupplus', 'cupquinoa', 'cupsall', 'cupsautéed', 'cupschicken', 'cupsespagnole', 'cupsfresh', 'cupsgiblet', 'cupshachiya', 'cupsherb', 'cupsimple', 'cupslaxmi', 'cupslow', 'cupsmexican', 'cupspanko', 'cupspeanut', 'cupspickling', 'cupsrich', 'cupstomato', 'cupsturkey', 'cupswinter', 'cupunsalted', 'cupunsweetened', 'cupwhole', 'cura', 'curacao', 'curaco', 'curahao', 'curaçao', 'curd', 'curds', 'cure', 'cured', 'curing', 'curl', 'curled', 'curling', 'curls', 'curly', 'curlyleafed', 'currant', 'currants', 'current', 'currently', 'curried', 'curry', 'curtains', 'curtido', 'curtis', 'curve', 'curved', 'cushaw', 'cushion', 'cusp', 'custard', 'cut', 'cute', 'cuties', 'cutinto', 'cutlet', 'cutlets', 'cutouts', 'cuts', 'cutter', 'cutters', 'cutting', 'cuttings', 'cuttle', 'cuttlefish', 'cuz', 'cylinder', 'cylinders', 'cylindrical', 'cynar', 'cypress', 'czar', 'cèpe', 'cèpes', 'cîroc', 'côte', 'côtes', 'da', 'daal', 'dab', 'dabob', 'dacquoise', 'dad', 'daddy', 'daechu', 'daffodil', 'dahl', 'dai', 'daikon', 'daiquiri', 'dairy', 'daisies', 'daisy', 'daiya', 'dake', 'dakos', 'dakota', 'dakotana', 'dal', 'dalchini', 'dale', 'dalfour', 'dallies', 'dalmatia', 'dam', 'damaged', 'damiana', 'damn', 'damp', 'dampen', 'dampened', 'damson', 'damsons', 'dancing', 'dandelion', 'dandelions', 'dang', 'dangmyun', 'daniel', 'daniele', 'daniels', 'danish', 'dannon', 'dar', 'dariole', 'darjeeling', 'dark', 'darker', 'darkest', 'darkly', 'darne', 'darned', 'darning', 'dartagnan', 'das', 'dash', 'dasheen', 'dashes', 'dashi', 'dashida', 'dasz', 'date', 'dates', 'datil', 'dau', 'daube', 'daun', 'daurade', 'dave', 'davero', 'david', 'day', 'dayboat', 'daylily', 'dayold', 'days', 'daz', 'dazs', 'de', 'dea', 'dead', 'deal', 'dealer', 'dean', 'deandeluca', 'death', 'debeaked', 'debearded', 'debeared', 'deboned', 'deborah', 'debris', 'decadent', 'decaf', 'decaffeinated', 'decals', 'dececco', 'decedent', 'decent', 'decide', 'deciliters', 'deckle', 'decor', 'decorate', 'decorated', 'decorating', 'decoration', 'decorations', 'decorative', 'decoratively', 'decorator', 'decorators', 'decored', 'decors', 'decrusted', 'dedicated', 'deen', 'deep', 'deeper', 'deepfat', 'deepfrying', 'deeply', 'deer', 'defatted', 'defined', 'definitely', 'defrost', 'defrosted', 'defrosting', 'deg', 'degerminated', 'deglat', 'deglaze', 'deglazed', 'deglazing', 'deglet', 'degli', 'degreased', 'degree', 'degrees', 'degroff', 'degu', 'dehusked', 'dehydrated', 'dei', 'dekuyper', 'del', 'delallo', 'delaurentiis', 'deli', 'delia', 'delicacy', 'delicata', 'delicate', 'delicately', 'delicatessen', 'delicatessens', 'delicatta', 'delices', 'delicioso', 'delicious', 'delight', 'delightfulls', 'delites', 'delmarva', 'delmonico', 'delphinium', 'deluca', 'deluxe', 'delverde', 'demarara', 'demerara', 'demerera', 'demererra', 'demi', 'demiglace', 'demineralized', 'demitasse', 'den', 'dende', 'dendê', 'denerved', 'dense', 'densely', 'denta', 'dente', 'denuded', 'denver', 'department', 'departments', 'depend', 'depending', 'depends', 'deposits', 'depot', 'depth', 'derby', 'deribbed', 'des', 'desalinate', 'desalted', 'deschutes', 'descibed', 'described', 'description', 'deseeded', 'desert', 'desiccated', 'design', 'designs', 'desilked', 'desirable', 'desire', 'desired', 'desiree', 'dessert', 'desserts', 'dessertspoon', 'dessicated', 'destalked', 'destemmed', 'destoned', 'destrooper', 'destroys', 'detached', 'detailing', 'details', 'determine', 'determined', 'detox', 'devained', 'devein', 'deveined', 'deveining', 'deviant', 'deviened', 'devil', 'deviled', 'devils', 'devined', 'devon', 'devonshire', 'dew', 'dextrose', 'dha', 'dhal', 'di', 'diablo', 'diagonal', 'diagonally', 'diagonals', 'diakon', 'diameter', 'diameters', 'diamond', 'diamonds', 'diasatic', 'diastatic', 'diavlo', 'diavolo', 'dice', 'diced', 'dicedsmall', 'dicedv', 'dices', 'dicing', 'dickel', 'dickenson', 'dickensons', 'dickinson', 'die', 'diego', 'diet', 'dietz', 'difference', 'different', 'difficult', 'dig', 'digestif', 'digestive', 'digiorno', 'digital', 'dijon', 'dijonnaise', 'dijonstyle', 'dill', 'dilled', 'dillon', 'dillor', 'dillweed', 'dilly', 'dilute', 'diluted', 'dilution', 'dim', 'dime', 'dimensional', 'dimple', 'ding', 'dingle', 'dinner', 'dino', 'dinosaur', 'dip', 'diplomat', 'diplomatico', 'dipped', 'dipper', 'dippers', 'dippin', 'dipping', 'dips', 'direct', 'directed', 'directions', 'directly', 'directs', 'dirt', 'dirty', 'disagreeable', 'disaranno', 'disaronno', 'disc', 'discard', 'discarded', 'discarding', 'disclaimer', 'disco', 'discoloration', 'discolored', 'discoloring', 'discolouring', 'discos', 'discount', 'discretion', 'discs', 'dish', 'disher', 'dishes', 'dishtowels', 'dishwasher', 'disinfected', 'disjointed', 'disk', 'disks', 'disney', 'display', 'disposable', 'dissipate', 'dissolve', 'dissolved', 'dissolves', 'dissolving', 'distilled', 'distillers', 'distillery', 'distilling', 'distinctive', 'distribute', 'distributes', 'distributors', 'ditali', 'ditalini', 'ditaloni', 'ditto', 'divan', 'divded', 'diver', 'divers', 'divide', 'divided', 'divined', 'divinity', 'dixie', 'dixon', 'diy', 'djan', 'djion', 'doce', 'dock', 'docked', 'doctored', 'dodge', 'dodoni', 'doenjang', 'dofu', 'dog', 'dogfish', 'dogs', 'doily', 'dolce', 'dolcelatte', 'dole', 'dolin', 'doll', 'dollar', 'dollop', 'dolloping', 'dollops', 'dolphinfish', 'domain', 'domaine', 'dome', 'domed', 'domestic', 'dominant', 'dominic', 'dominican', 'domino', 'dominoes', 'dona', 'done', 'doneness', 'donettes', 'dong', 'donkey', 'donner', 'donnie', 'donot', 'dont', 'donut', 'donuts', 'doon', 'doone', 'door', 'dop', 'dopiaza', 'doppio', 'dorade', 'dorado', 'dorados', 'doritos', 'dorot', 'dortmunder', 'dory', 'dos', 'dot', 'dots', 'dotting', 'dou', 'doubanjiang', 'double', 'doubleline', 'doublepeeled', 'dough', 'dougha', 'doughboy', 'doughnut', 'doughnuts', 'doughs', 'douglas', 'doul', 'dounceen', 'doux', 'dove', 'dover', 'doves', 'dowel', 'dowels', 'downy', 'doz', 'doze', 'dozen', 'dozens', 'doña', 'dpdspirits', 'dr', 'draft', 'dragee', 'dragees', 'dragon', 'dragées', 'drain', 'drained', 'drainedand', 'draining', 'drake', 'dram', 'dramatic', 'dramatically', 'drambuie', 'draught', 'draw', 'drawn', 'dreaded', 'dream', 'dreamfields', 'dredge', 'dredging', 'dressed', 'dresses', 'dressing', 'dressings', 'dreyer', 'dribble', 'dried', 'drier', 'drifts', 'drink', 'drinking', 'drinks', 'drip', 'dripping', 'drippings', 'drippy', 'drips', 'driveway', 'drizzing', 'drizzle', 'drizzled', 'drizzles', 'drizzling', 'drmcdougall', 'dromedary', 'drop', 'dropperful', 'dropperfuls', 'dropping', 'drops', 'droste', 'drudging', 'drum', 'drumattached', 'drumette', 'drumettes', 'drummers', 'drummette', 'drummettes', 'drummies', 'drums', 'drumstick', 'drumsticks', 'drunken', 'dry', 'dryer', 'drying', 'dryroasted', 'drys', 'du', 'dubliner', 'dubonnet', 'duck', 'duckling', 'ducklings', 'ducks', 'duct', 'due', 'duero', 'duff', 'dufour', 'duke', 'dukkah', 'dul', 'dulce', 'dulces', 'dulche', 'dull', 'dulse', 'dum', 'dumpling', 'dumplings', 'duncan', 'dungeness', 'dungenesss', 'dungeoness', 'dunkables', 'dunkel', 'dunkers', 'dunkin', 'dunking', 'dunlop', 'dunya', 'duo', 'duoz', 'duqesne', 'durad', 'durian', 'durkee', 'durkees', 'duro', 'durum', 'dusseldorf', 'dust', 'dusted', 'duster', 'dusting', 'dutch', 'dutched', 'duty', 'duvel', 'duxelle', 'duxelles', 'dwarf', 'dye', 'dyed', 'dyeing', 'dyes', 'dylan', 'dylans', 'dynasty', 'délices', 'ea', 'eagle', 'ear', 'earl', 'earlier', 'early', 'earmuffs', 'ears', 'earth', 'earthbound', 'earthenware', 'earthgrains', 'earthy', 'earwigged', 'easier', 'easiest', 'easily', 'east', 'easter', 'eastern', 'easy', 'eat', 'eaten', 'eating', 'eats', 'eau', 'ebay', 'ebi', 'echalion', 'echinacea', 'echo', 'eckrich', 'eclair', 'ecolier', 'economic', 'economical', 'ect', 'ed', 'edam', 'edamame', 'edamames', 'eddie', 'edelman', 'edelmann', 'eden', 'edenblend', 'edenfoods', 'edge', 'edged', 'edges', 'edible', 'edibles', 'edith', 'edition', 'editor', 'editors', 'edmond', 'edmund', 'edward', 'edy', 'ee', 'eel', 'eels', 'effect', 'effective', 'effen', 'efficient', 'eg', 'egg', 'eggbeater', 'eggcups', 'eggland', 'egglant', 'eggless', 'eggnog', 'eggo', 'eggology', 'eggplant', 'eggplants', 'eggroll', 'eggs', 'eggsfinishing', 'eggshell', 'eggshells', 'eggwash', 'eggwhite', 'eggy', 'egrave', 'egyptian', 'eight', 'eighteen', 'eighth', 'eighths', 'eights', 'eiswein', 'either', 'el', 'elaborate', 'elaichi', 'elan', 'elastic', 'elberta', 'elbo', 'elbow', 'elbows', 'elderberries', 'elderberry', 'elderflower', 'elderflowers', 'eleanora', 'electric', 'elements', 'elephant', 'eleve', 'elgin', 'elijah', 'eliminate', 'elimination', 'elite', 'elixer', 'elixir', 'elizabeth', 'elk', 'ellen', 'else', 'em', 'email', 'emailing', 'embasa', 'embassa', 'embellish', 'embers', 'emerald', 'emergency', 'emergo', 'emeril', 'emillion', 'emmanthal', 'emmental', 'emmentaler', 'emmentaller', 'emmenthal', 'emmenthaler', 'emmer', 'emon', 'empanada', 'empanadas', 'empire', 'emptied', 'empty', 'emulsification', 'emulsified', 'emulsifier', 'emulsion', 'en', 'enamel', 'enameled', 'encanto', 'encases', 'enchilada', 'enchiladas', 'enchilado', 'enclose', 'enclosed', 'encona', 'encrusted', 'end', 'endive', 'endives', 'endless', 'ends', 'enebro', 'ener', 'energy', 'england', 'english', 'enhanced', 'enhancer', 'enjoy', 'enlich', 'eno', 'enoki', 'enokis', 'enough', 'enriched', 'ensalada', 'ental', 'entenmann', 'entertaining', 'entertainment', 'enthusiast', 'entilde', 'entire', 'entirely', 'entrecotes', 'entree', 'entremet', 'envelope', 'envelopes', 'environmentally', 'envy', 'eo', 'epasote', 'epazote', 'epee', 'epi', 'epices', 'epilobium', 'epis', 'episode', 'epoisse', 'equal', 'equaling', 'equally', 'equals', 'equates', 'equator', 'equatoriale', 'equatorially', 'equators', 'equimpent', 'equipment', 'equis', 'equivalent', 'equpment', 'er', 'erawan', 'erenghi', 'erengi', 'erh', 'eringi', 'eros', 'eryngii', 'erythritol', 'es', 'escabeche', 'escabèche', 'escalopes', 'escargot', 'escargots', 'escarole', 'escolar', 'escovitch', 'espagnole', 'especial', 'especially', 'espelette', 'espellette', 'esplette', 'espoons', 'espresso', 'espressos', 'espumas', 'esque', 'essa', 'essence', 'essencia', 'essensia', 'essential', 'essentials', 'essex', 'estate', 'etalon', 'etc', 'etched', 'ethiopian', 'ethmix', 'ethnic', 'ethnicgrocer', 'etorki', 'etouffee', 'etsy', 'ette', 'eureka', 'europe', 'european', 'europeanstyle', 'eva', 'evan', 'evans', 'evaporated', 'evaporates', 'eve', 'even', 'evening', 'evenly', 'eveque', 'ever', 'everclear', 'everglades', 'every', 'everyday', 'everyone', 'everything', 'evian', 'evicerated', 'eviscerated', 'evoo', 'ew', 'ex', 'exact', 'example', 'exceed', 'excellence', 'excellent', 'except', 'excerpted', 'excess', 'excessively', 'exclude', 'excluding', 'exhibit', 'exopat', 'exotic', 'exotics', 'expeller', 'expensive', 'expiration', 'explain', 'explained', 'exploding', 'explorateur', 'explorator', 'expose', 'exposing', 'express', 'expresso', 'ext', 'extact', 'exterior', 'external', 'extinct', 'extinguisher', 'extra', 'extrac', 'extract', 'extracted', 'extractor', 'extracts', 'extrafirm', 'extralarge', 'extras', 'extrasharp', 'extravirgin', 'extreme', 'extremely', 'eye', 'eyeball', 'eyeballs', 'eyed', 'eyes', 'ez', 'ezekiel', 'fabada', 'fabbri', 'fabes', 'fabric', 'fabrics', 'face', 'faceted', 'facilitate', 'facing', 'factory', 'facts', 'fage', 'fah', 'fail', 'faint', 'fair', 'fairly', 'faith', 'fajita', 'fajitas', 'falafel', 'falernum', 'fall', 'fallen', 'fallot', 'fallow', 'falls', 'famie', 'familia', 'family', 'famous', 'famouschocolate', 'fan', 'fancy', 'fanned', 'fans', 'fanta', 'fantail', 'fantasma', 'fantasy', 'far', 'farang', 'fare', 'farfalle', 'farfalline', 'farfallini', 'farfel', 'farfelle', 'farina', 'farinata', 'farinha', 'farl', 'farm', 'farmed', 'farmer', 'farmers', 'farmhouse', 'farmland', 'farms', 'farmstead', 'faro', 'farofa', 'farro', 'farron', 'farrotto', 'fashion', 'fashioned', 'fast', 'faster', 'fat', 'fatback', 'fats', 'fattened', 'fatter', 'fattier', 'fatty', 'faugier', 'faux', 'fava', 'favas', 'favored', 'favorite', 'favoriteprepared', 'favorites', 'fax', 'fe', 'feather', 'feathers', 'feathery', 'fed', 'fedelini', 'fee', 'feed', 'feel', 'feeling', 'feet', 'feisty', 'felicitas', 'felt', 'feltner', 'female', 'femur', 'fen', 'fence', 'fenix', 'fennel', 'fentimans', 'fenugreek', 'fera', 'fermentation', 'fermented', 'fermentee', 'fermentor', 'fern', 'fernet', 'ferns', 'fernshoots', 'ferrand', 'ferula', 'feshly', 'feta', 'fetta', 'fette', 'fettuccine', 'fettuccini', 'fettucine', 'fettucini', 'feuillantine', 'feuille', 'feuilletine', 'feullantine', 'fever', 'fewer', 'fiber', 'fiberous', 'fibers', 'fibrous', 'ficelle', 'ficelles', 'fiddlehead', 'fiddleheads', 'fideo', 'fideos', 'fideus', 'field', 'fieri', 'fiery', 'fiesta', 'fife', 'fifteen', 'fifth', 'fifths', 'fig', 'figlets', 'figs', 'figurine', 'filaments', 'filberts', 'file', 'filet', 'filets', 'filing', 'filipino', 'filippo', 'fill', 'filled', 'fillers', 'fillet', 'filleted', 'fillets', 'filling', 'fillings', 'fillo', 'film', 'filo', 'filter', 'filtered', 'filters', 'filé', 'fin', 'final', 'finally', 'financier', 'find', 'findit', 'fine', 'fined', 'finely', 'finelychopped', 'finelydiced', 'finelygrated', 'finelyminced', 'finemesh', 'finer', 'fines', 'finest', 'finger', 'fingered', 'fingerling', 'fingerlings', 'fingers', 'fingertips', 'fini', 'finish', 'finished', 'finishing', 'finlandia', 'finley', 'finn', 'finnan', 'finnish', 'finns', 'fino', 'finocchiona', 'finochionna', 'fins', 'fiore', 'fiorentini', 'fiori', 'fiour', 'fir', 'fire', 'fireball', 'firecracker', 'firefly', 'firehouse', 'fireplace', 'fireproof', 'fireroasted', 'fires', 'fireweed', 'firewood', 'firm', 'firmed', 'firmer', 'firmish', 'firmly', 'first', 'fiselle', 'fish', 'fishcakes', 'fisher', 'fishing', 'fishmonger', 'fishy', 'fist', 'fistful', 'fistfuls', 'fistsized', 'fit', 'fitini', 'fits', 'fitted', 'fitting', 'fitzgerald', 'five', 'fivespice', 'fix', 'fixin', 'fixing', 'fixings', 'fizz', 'fizzier', 'fizzy', 'fl', 'fla', 'flagelot', 'flageolet', 'flageolets', 'flags', 'flagship', 'flake', 'flaked', 'flakes', 'flaking', 'flaky', 'flambe', 'flambeed', 'flambeing', 'flame', 'flamed', 'flameproof', 'flames', 'flan', 'flanc', 'flanged', 'flank', 'flanken', 'flap', 'flapjacks', 'flaps', 'flared', 'flaring', 'flash', 'flask', 'flat', 'flatbread', 'flatbreads', 'flatfish', 'flatiron', 'flatleaf', 'flatout', 'flats', 'flatten', 'flattened', 'flattening', 'flatter', 'flautas', 'flavor', 'flavored', 'flavorful', 'flavoring', 'flavorings', 'flavorless', 'flavors', 'flavoured', 'flax', 'flaxseed', 'flaxseeds', 'flay', 'flea', 'fleck', 'flecked', 'fleischmann', 'fleishmann', 'flemish', 'flesh', 'fleshed', 'fleshly', 'fleshy', 'fleur', 'flex', 'flexible', 'flies', 'flint', 'flip', 'flippers', 'flipping', 'flipsides', 'float', 'floc', 'floor', 'floppy', 'flor', 'floral', 'florentine', 'florentines', 'florentyna', 'floret', 'florets', 'florettes', 'florida', 'floridian', 'florio', 'florist', 'floss', 'flot', 'flott', 'floud', 'flounder', 'flounders', 'flour', 'floured', 'flouring', 'flourless', 'flours', 'floury', 'flow', 'flower', 'flowerets', 'flowerettes', 'flowering', 'flowerlets', 'flowers', 'flowery', 'floz', 'fluff', 'fluffed', 'fluffy', 'fluid', 'fluke', 'flush', 'flushed', 'flute', 'fluted', 'flutes', 'fly', 'flying', 'fnely', 'fo', 'foam', 'foamed', 'foaming', 'foamy', 'focaccia', 'foccaccia', 'foccacia', 'fog', 'foglie', 'foie', 'foil', 'fol', 'fold', 'folded', 'folding', 'foley', 'folger', 'folgers', 'follow', 'following', 'follows', 'folows', 'fond', 'fondant', 'fonds', 'fondue', 'fonduta', 'fong', 'font', 'fontal', 'fontana', 'fontina', 'fontinella', 'food', 'foodnetwork', 'foods', 'fools', 'foot', 'football', 'footballs', 'footlong', 'footnote', 'foraged', 'forbes', 'forbidden', 'force', 'forced', 'fordhook', 'fordough', 'fords', 'fordusting', 'forefinger', 'foreleg', 'forell', 'forelle', 'forelli', 'foreshanks', 'forest', 'forester', 'forgarnish', 'forget', 'fork', 'forked', 'forks', 'form', 'formaggino', 'formed', 'forming', 'forms', 'formula', 'forravioli', 'forrest', 'forseasoning', 'forserving', 'forsprinkling', 'forte', 'fortified', 'fortifying', 'fortress', 'fortrimmed', 'fortune', 'fortunes', 'forturkey', 'forty', 'foster', 'fougasse', 'found', 'foundation', 'founders', 'fountain', 'four', 'fourme', 'fours', 'fourteen', 'fourth', 'fourths', 'fowl', 'fox', 'foxtrot', 'fra', 'frache', 'fractions', 'fraeche', 'fragmented', 'fragments', 'fragrant', 'fraiche', 'frais', 'fraise', 'fraises', 'fraiîhe', 'framboise', 'frames', 'fran', 'franc', 'france', 'francisco', 'franco', 'frangelica', 'frangelico', 'frangipane', 'frank', 'frankfurter', 'frankfurters', 'franklin', 'franks', 'franny', 'frappuccino', 'frascati', 'fraser', 'fratelli', 'fraìche', 'fraîche', 'fraîhe', 'fraïche', 'freah', 'freak', 'fred', 'free', 'freekeh', 'freerange', 'freesias', 'freestone', 'freeze', 'freezer', 'freezing', 'fregola', 'fregula', 'freia', 'freixenet', 'frekeh', 'french', 'frenched', 'frencher', 'fresca', 'fresco', 'fresh', 'freshbasil', 'freshdirect', 'freshed', 'fresher', 'freshest', 'freshlovage', 'freshly', 'freshlyground', 'freshwater', 'freshy', 'fresly', 'fresno', 'frexinet', 'fri', 'fribourgeois', 'fricassee', 'frico', 'friday', 'fridge', 'fried', 'frieda', 'friend', 'friendly', 'friendship', 'fries', 'friggiarelli', 'frijoles', 'frik', 'frika', 'frill', 'frills', 'fris', 'frisee', 'friselle', 'frisje', 'frisky', 'frissee', 'frisée', 'fritas', 'frites', 'frito', 'fritos', 'fritter', 'fritters', 'fritzi', 'friulano', 'friut', 'frizzled', 'frizzling', 'fro', 'frog', 'frogs', 'frolla', 'froma', 'fromage', 'fromager', 'frombasic', 'fromo', 'fromprime', 'frond', 'fronds', 'front', 'frontera', 'frontier', 'froot', 'frooties', 'frost', 'frosted', 'frosting', 'frostingepi', 'frostings', 'frosty', 'froth', 'frothed', 'frothiness', 'frothy', 'froz', 'frozen', 'frozenange', 'fructose', 'fruit', 'fruitcake', 'fruited', 'fruitiest', 'fruits', 'fruity', 'frutti', 'fry', 'fryer', 'fryers', 'frying', 'frymix', 'frypan', 'frères', 'frîache', 'fu', 'fucus', 'fudge', 'fudgy', 'fuerte', 'fufu', 'fugasa', 'fuggles', 'fugi', 'fuhrman', 'fuissé', 'fuji', 'fujis', 'fukunishiki', 'ful', 'full', 'fulls', 'fully', 'fuls', 'fulton', 'fulvi', 'fume', 'fumes', 'fumet', 'fumi', 'fun', 'funfetti', 'funghi', 'fungi', 'fungicides', 'fungus', 'fungusamongus', 'funked', 'funky', 'funnel', 'furikake', 'furikaki', 'furukake', 'fusili', 'fusilli', 'fusion', 'fuss', 'fussili', 'futonaga', 'future', 'fuyu', 'fuzz', 'fuzzy', 'fève', 'ga', 'gabriel', 'gabriele', 'gadgets', 'gaeta', 'gaga', 'gai', 'gal', 'gala', 'galahad', 'galanga', 'galangal', 'galani', 'galco', 'galette', 'galettes', 'galia', 'galiano', 'galletas', 'galliano', 'gallo', 'gallon', 'gallonfish', 'gallonhrimp', 'gallons', 'gamberoni', 'game', 'gammon', 'gan', 'ganache', 'gandules', 'garae', 'garage', 'garam', 'garbage', 'garbanzo', 'garbanzos', 'garbonzo', 'garde', 'gardein', 'garden', 'gardenburger', 'gardenia', 'garganelli', 'gargano', 'gari', 'garinsh', 'garland', 'garli', 'garlic', 'garlicky', 'garlicpowder', 'garlicwurst', 'garnacha', 'garnet', 'garni', 'garnier', 'garning', 'garnis', 'garnish', 'garnished', 'garnishes', 'garnishhalibut', 'garnishing', 'garnsih', 'garolic', 'garrotxa', 'garten', 'garu', 'garum', 'gas', 'gascone', 'gaspar', 'gastrique', 'gastronomie', 'gastronomy', 'gated', 'gather', 'gathered', 'gator', 'gatorade', 'gaufrette', 'gaufrettes', 'gauge', 'gaujillo', 'gavottes', 'gay', 'gayle', 'gazpacho', 'gdl', 'gear', 'gebhardt', 'geechee', 'geese', 'gefilte', 'gel', 'gelatin', 'gelatine', 'gelatinous', 'gelato', 'gelee', 'gelled', 'gels', 'gem', 'gemelli', 'gemellini', 'gems', 'general', 'generally', 'generic', 'generous', 'generously', 'genmai', 'gennaro', 'genoa', 'genoise', 'genovese', 'gentiane', 'gentle', 'gentleman', 'gently', 'gentlycleaned', 'genuine', 'genutine', 'geoduck', 'geoff', 'george', 'georgia', 'georgian', 'geound', 'gephart', 'geranium', 'geraniums', 'gerbera', 'gerhardt', 'germ', 'germain', 'germaine', 'german', 'germinated', 'germs', 'gervertztraminer', 'get', 'getting', 'gewurtztraminer', 'gewurztraminer', 'gewürztraminer', 'gf', 'gh', 'ghanoush', 'ghee', 'gherkin', 'gherkins', 'ghiradelli', 'ghirardelli', 'ghirdelli', 'ghost', 'ghosts', 'gia', 'giada', 'gianduja', 'giandujia', 'giant', 'giardella', 'giardineria', 'giardiniera', 'giblet', 'giblets', 'gibson', 'gift', 'gigante', 'gigantes', 'gigi', 'gigli', 'gigondas', 'gilded', 'gilka', 'gill', 'gilled', 'gills', 'gim', 'gimme', 'gin', 'gina', 'ginersnaps', 'gingelly', 'ginger', 'gingerade', 'gingerbread', 'gingered', 'gingeroot', 'gingerroot', 'gingersnap', 'gingersnaps', 'gingersnapz', 'gingerv', 'gingery', 'gingko', 'ginjo', 'ginkgo', 'ginko', 'ginseng', 'gioi', 'giorno', 'girard', 'girardelli', 'giri', 'girl', 'girls', 'giroles', 'girolles', 'giuliano', 'giusto', 'give', 'gives', 'giving', 'gizmos', 'gizzard', 'gizzards', 'gjetost', 'glac', 'glacage', 'glace', 'glaced', 'glaceed', 'glacer', 'glaces', 'glacé', 'glacéed', 'glacés', 'glad', 'glass', 'glasses', 'glassine', 'glassware', 'glaze', 'glazed', 'glazeepi', 'glazing', 'glen', 'glenfiddich', 'glenn', 'glitter', 'global', 'globe', 'gloopy', 'glory', 'gloss', 'glossing', 'glossy', 'gloucester', 'glove', 'gloves', 'glucose', 'glue', 'glug', 'glugs', 'glutamate', 'gluten', 'glutino', 'glutinous', 'glycerin', 'glycerine', 'gm', 'gmo', 'gnocchetti', 'gnocchi', 'gnocci', 'gnochetti', 'gnudi', 'go', 'goan', 'goat', 'goats', 'goblets', 'gobo', 'gocho', 'gochu', 'gochuchang', 'gochugaru', 'gochujang', 'goddess', 'godello', 'godiva', 'gods', 'goes', 'goggles', 'gogh', 'gohan', 'going', 'goji', 'gojuchang', 'gold', 'golden', 'goldenbells', 'goldfish', 'goldhen', 'goldings', 'goldish', 'goldleafcompany', 'golds', 'goldschlager', 'goldschlagger', 'goldschläger', 'goldust', 'golen', 'golf', 'goma', 'gomashio', 'gomatare', 'gomme', 'gone', 'gongonzola', 'gonna', 'gonsalves', 'gonzolves', 'goo', 'goobers', 'good', 'goodbar', 'goodies', 'goodman', 'goodness', 'goodquality', 'goods', 'goodwill', 'gooey', 'goop', 'goose', 'gooseberries', 'gooseberry', 'goot', 'gordon', 'goreng', 'gorgeous', 'gorgonzola', 'gosling', 'goslings', 'got', 'gouda', 'goudenband', 'gougeres', 'goulash', 'gound', 'gourd', 'gourmandise', 'gourmet', 'gown', 'goya', 'goyoza', 'grace', 'grade', 'gradually', 'graduated', 'grady', 'grafton', 'graham', 'grahams', 'grain', 'grained', 'grains', 'grainy', 'gram', 'grams', 'gran', 'grana', 'grand', 'grandma', 'grandmother', 'grands', 'granita', 'granite', 'granny', 'grano', 'granola', 'granualted', 'granular', 'granulated', 'granule', 'granules', 'grape', 'grapefruit', 'grapefruits', 'grapefuit', 'grapes', 'grapeseed', 'grapeskin', 'grapevine', 'grappa', 'gras', 'grasp', 'grass', 'grasshopper', 'grasshoppers', 'grate', 'grated', 'gratedfresh', 'gratedkosher', 'grater', 'graters', 'grates', 'gratin', 'grating', 'gratings', 'grave', 'gravenstein', 'gravenstien', 'gravity', 'gravlax', 'gravy', 'gravymaster', 'gray', 'grease', 'greased', 'greasing', 'great', 'greater', 'greatest', 'greatly', 'grechetto', 'greco', 'greece', 'greek', 'green', 'greener', 'greenery', 'greening', 'greenings', 'greenish', 'greenline', 'greens', 'greentomatoes', 'gremolada', 'gremolata', 'grenache', 'grenadine', 'gressingham', 'grey', 'gribenes', 'gribines', 'griddle', 'griddled', 'griddling', 'grigio', 'grill', 'grille', 'grilled', 'grillers', 'grillin', 'grilling', 'grillmates', 'grillotine', 'grind', 'grinded', 'grinder', 'grinders', 'grinding', 'grindings', 'grinds', 'grins', 'griottes', 'gris', 'grissini', 'gristle', 'grit', 'grits', 'gritted', 'gritty', 'groat', 'groats', 'grocer', 'groceries', 'grocers', 'grocery', 'grolsch', 'grooved', 'gros', 'grosso', 'ground', 'groundblack', 'grounded', 'groundnut', 'grounds', 'groundyellow', 'grouper', 'groups', 'grouse', 'grove', 'grow', 'grown', 'grreen', 'gruet', 'gruner', 'gruy', 'gruyere', 'gruyáre', 'gruyère', 'gruyére', 'grüner', 'gua', 'guacamole', 'guadeloupean', 'guadeloupian', 'guajillo', 'guajillos', 'guanabana', 'guanciale', 'guapo', 'guar', 'guarana', 'guard', 'guardian', 'guascas', 'guava', 'guavas', 'guedge', 'guerito', 'guero', 'guerrero', 'guess', 'guest', 'guests', 'gueze', 'guide', 'guideline', 'guidelines', 'guijilb', 'guijillo', 'guilia', 'guilin', 'guiltless', 'guindilla', 'guinea', 'guinness', 'guittard', 'gulden', 'gulf', 'gum', 'gumball', 'gumballs', 'gumbo', 'gumdrop', 'gumdrops', 'gummi', 'gummies', 'gummy', 'gums', 'gun', 'gundillas', 'gunpowder', 'guntur', 'gurih', 'gurroxta', 'guru', 'gusano', 'gushy', 'gustiamo', 'gusto', 'gut', 'guts', 'gutted', 'guy', 'guyaba', 'guys', 'guérande', 'gwa', 'gwaltney', 'gwen', 'gyoza', 'gypsum', 'gypsy', 'gyro', 'gyromitre', 'gz', 'génoise', 'gênoise', 'ha', 'haagen', 'haas', 'habana', 'habanera', 'habanero', 'habaneros', 'habas', 'habañero', 'habenaro', 'habenero', 'habeneros', 'habichuela', 'hachiya', 'hacienda', 'hacked', 'hackleback', 'haco', 'haddie', 'haddock', 'haeng', 'hafi', 'haiga', 'hair', 'hairy', 'haitian', 'hajikami', 'hake', 'hakurei', 'hakusai', 'hakusan', 'haldi', 'halen', 'half', 'halfed', 'halfway', 'halibut', 'hall', 'halloumi', 'hallow', 'halloween', 'halo', 'haloumi', 'halvah', 'halve', 'halved', 'halves', 'ham', 'hamachi', 'hamakua', 'hamburger', 'hamburgers', 'hamersley', 'hamlin', 'hammer', 'hampton', 'hamptons', 'hams', 'han', 'hana', 'hand', 'handcrushed', 'handcut', 'handful', 'handfull', 'handfulls', 'handfuls', 'handheld', 'handi', 'handle', 'handled', 'handles', 'handling', 'handmade', 'handpicked', 'hands', 'handwritten', 'handy', 'hang', 'hangar', 'hanger', 'hanging', 'hanna', 'hannout', 'hanout', 'hansen', 'hansens', 'hanshimiji', 'hanut', 'happy', 'hapuku', 'haralson', 'harbors', 'hard', 'hardboiled', 'hardcooked', 'hardened', 'hardening', 'hardens', 'hardneck', 'hardware', 'hardwood', 'hardy', 'hare', 'haribo', 'haricorts', 'haricot', 'haricots', 'harina', 'harisa', 'harissa', 'harlem', 'harley', 'harmless', 'haroseth', 'harp', 'hartshorn', 'harusame', 'harvati', 'harvest', 'harvested', 'harvey', 'harveys', 'hash', 'hashbrown', 'hashbrowns', 'hass', 'hassel', 'hat', 'hatch', 'hats', 'haunch', 'haupia', 'haute', 'havarti', 'hawaii', 'hawaiian', 'hawayei', 'hawk', 'hawthorn', 'hay', 'hayman', 'haystack', 'haystacks', 'haze', 'hazel', 'hazelnut', 'hazelnuts', 'hazlenut', 'head', 'headed', 'headless', 'headnote', 'heads', 'headsac', 'heal', 'health', 'healthy', 'heaped', 'heaping', 'hears', 'heart', 'hearts', 'hearty', 'heat', 'heated', 'heath', 'heather', 'heating', 'heatproof', 'heats', 'heavier', 'heavily', 'heavy', 'heavyduty', 'hebrew', 'heckers', 'hedgehog', 'hedgehogs', 'heel', 'heels', 'heering', 'hefeweizen', 'hefeweizenstyle', 'hefty', 'height', 'heightens', 'heineken', 'heinekin', 'heinz', 'heir', 'heirloom', 'heirlooms', 'hekka', 'held', 'helix', 'hell', 'hellfire', 'hellman', 'hellmann', 'help', 'helper', 'helpers', 'helpful', 'helps', 'hemisphere', 'hemispherical', 'hemp', 'hen', 'hendrick', 'hendricks', 'hengstenberg', 'hennessey', 'hennessy', 'henry', 'hens', 'herb', 'herbal', 'herbamare', 'herbed', 'herbes', 'herbs', 'herbsaint', 'herby', 'herdez', 'herding', 'heritage', 'herman', 'hero', 'heroes', 'herradura', 'herring', 'herrings', 'hersey', 'hershey', 'hersheys', 'herzog', 'hg', 'hi', 'hibachi', 'hibiki', 'hibiscus', 'hick', 'hickory', 'hidalgo', 'hidden', 'hide', 'hiding', 'hierba', 'hierbabuena', 'high', 'higher', 'highest', 'highland', 'highly', 'highquality', 'hijiki', 'hill', 'hillbilly', 'hills', 'hillshire', 'himachi', 'himalayan', 'hime', 'hind', 'hindquarter', 'hine', 'hines', 'hing', 'hinged', 'hint', 'hios', 'hip', 'hips', 'hiram', 'hispanic', 'hits', 'hiyashi', 'hiziki', 'ho', 'hoagie', 'hoagies', 'hobby', 'hoboken', 'hock', 'hocks', 'hodgson', 'hoegaarden', 'hog', 'hogfish', 'hogie', 'hogwash', 'hoisin', 'hoja', 'hojiblanca', 'hokusetsu', 'hold', 'holders', 'holding', 'holds', 'hole', 'holes', 'holiday', 'holidays', 'holland', 'hollandaise', 'hollandaze', 'hollow', 'hollowed', 'hollows', 'holly', 'holy', 'homade', 'home', 'homegrown', 'homemade', 'homemadetype', 'homestyle', 'hometown', 'hominy', 'hommarus', 'homogenized', 'hon', 'hondashi', 'honest', 'honey', 'honeybell', 'honeycomb', 'honeycrisp', 'honeydew', 'honeydews', 'honeyed', 'honeynut', 'honeysuckle', 'hong', 'honing', 'honkers', 'honshimeji', 'hooch', 'hood', 'hoof', 'hook', 'hooligan', 'hoop', 'hooters', 'hoover', 'hop', 'hopefully', 'hopped', 'hoppers', 'hoppy', 'hops', 'hor', 'horchata', 'horizon', 'horizontal', 'horizontally', 'hormel', 'hormone', 'horn', 'horned', 'hornitos', 'hors', 'horseradish', 'horticultural', 'hose', 'hoshi', 'hosin', 'hostess', 'hot', 'hotchkiss', 'hotdog', 'hotdogs', 'hotel', 'hotels', 'hothoney', 'hothouse', 'hotness', 'hots', 'hotsauce', 'hotshortbread', 'hotter', 'hottest', 'houdini', 'hour', 'hours', 'house', 'household', 'houses', 'houton', 'hovmastarsas', 'however', 'hoy', 'hp', 'hpnotiq', 'hreavy', 'href', 'hsing', 'html', 'http', 'hu', 'huacatay', 'hubbard', 'huckleberries', 'huckleberry', 'hudson', 'hudsonvalleyfoiegras', 'hudsonville', 'hues', 'huge', 'hugs', 'huichol', 'huitlacoche', 'hukilau', 'hull', 'hulled', 'hum', 'humboldt', 'humbolt', 'hummus', 'hunan', 'hundred', 'hung', 'hungarian', 'hungry', 'hunk', 'hunks', 'hunt', 'hunter', 'hunts', 'hunza', 'hurry', 'hush', 'hushpuppies', 'hushpuppy', 'husk', 'husked', 'husks', 'huy', 'hy', 'hydrangea', 'hydrate', 'hydrated', 'hydrating', 'hydro', 'hydrogenated', 'hydromel', 'hydroponic', 'hydroxide', 'hyssop', 'häagen', 'hôtel', 'ian', 'ib', 'ibarra', 'iberian', 'iberico', 'ice', 'iceberg', 'iceberglettuce', 'icebox', 'iceburg', 'icecold', 'icecream', 'iced', 'icelandic', 'icepop', 'ich', 'ichimi', 'icicle', 'icing', 'icingepi', 'icings', 'id', 'ida', 'idaho', 'idahoan', 'idahos', 'ideal', 'ideally', 'ideas', 'identical', 'identification', 'identified', 'idiazabal', 'idiazábal', 'ie', 'ignite', 'igourmet', 'ii', 'ike', 'ikea', 'ikura', 'il', 'ila', 'ilha', 'illabo', 'illet', 'ilmercatoitaliano', 'imagine', 'imitation', 'immaculate', 'immature', 'immediately', 'immerse', 'immersion', 'impart', 'impasta', 'impastata', 'imperia', 'imperial', 'imperials', 'important', 'imported', 'imports', 'impromptu', 'improvise', 'impurities', 'impériale', 'imu', 'ina', 'inadobo', 'inamona', 'inari', 'inboiling', 'inc', 'inca', 'ince', 'inchalmond', 'inchcubes', 'inchdice', 'inche', 'inchesand', 'inchlong', 'inchpieces', 'incht', 'inchthick', 'inchwide', 'incision', 'inck', 'include', 'included', 'includes', 'including', 'incorporate', 'increase', 'increased', 'increments', 'incubator', 'indentations', 'indents', 'index', 'india', 'indian', 'indiana', 'indianblend', 'indicated', 'indicates', 'indies', 'indirect', 'indispensable', 'individual', 'individually', 'indonesian', 'indoor', 'indulgence', 'inedible', 'inexpensive', 'infant', 'info', 'information', 'infornate', 'infuse', 'infused', 'infusing', 'infusion', 'infusions', 'ingesting', 'inglehoffer', 'ingredient', 'ingredients', 'inh', 'inhalf', 'inhes', 'injectable', 'injected', 'injection', 'injector', 'injera', 'ink', 'inn', 'inna', 'innards', 'inner', 'innermost', 'inniskillin', 'innovasian', 'inpursuitoftea', 'ins', 'insam', 'insanely', 'insects', 'insert', 'inserted', 'inserting', 'inside', 'insides', 'insist', 'inspirations', 'inspired', 'inspires', 'insta', 'instacure', 'instant', 'instead', 'instructed', 'instruction', 'instructions', 'insufficient', 'insulated', 'intact', 'intake', 'intense', 'intensely', 'interesting', 'interfere', 'interior', 'international', 'intervals', 'intestines', 'inthe', 'intoquarters', 'intro', 'invented', 'invert', 'invertase', 'inverted', 'investment', 'iodized', 'iowsodium', 'ipa', 'ipswich', 'iqf', 'iranian', 'iraty', 'irgin', 'iriko', 'irises', 'irish', 'iron', 'irregular', 'irregularly', 'irvine', 'isaiah', 'isaly', 'ish', 'island', 'islands', 'islay', 'isle', 'isnecessary', 'isolate', 'isomalt', 'israel', 'israeli', 'issue', 'italia', 'italian', 'italiano', 'italy', 'item', 'items', 'ivanhoe', 'ivoire', 'ivory', 'ivy', 'ja', 'jack', 'jackcheese', 'jacked', 'jackets', 'jackfruit', 'jacobsen', 'jaegermeister', 'jagermeister', 'jaggery', 'jagody', 'jake', 'jalape', 'jalapeno', 'jalapenos', 'jalapenños', 'jalapeo', 'jalapeos', 'jalapeño', 'jalapeños', 'jalapño', 'jalepeno', 'jalepenos', 'jalepeño', 'jalopeno', 'jalopenos', 'jalpenenos', 'jalpeno', 'jam', 'jamaica', 'jamaican', 'jambalaya', 'jambon', 'jameed', 'james', 'jameson', 'jamiaca', 'jamie', 'jamon', 'jams', 'jamón', 'jan', 'jane', 'janette', 'jang', 'jantaboon', 'jap', 'japan', 'japanese', 'japanesse', 'japapeños', 'japones', 'japonica', 'jar', 'jarlsberg', 'jarlsburg', 'jarred', 'jarritos', 'jars', 'jarslberg', 'jasmati', 'jasmin', 'jasmine', 'jaune', 'java', 'javin', 'jay', 'jazz', 'jazzed', 'jb', 'jd', 'jdk', 'jean', 'jeanne', 'jeera', 'jefe', 'jeff', 'jel', 'jell', 'jellied', 'jellies', 'jello', 'jells', 'jelly', 'jellybeans', 'jellyroll', 'jellyrolls', 'jemima', 'jen', 'jenever', 'jenkins', 'jenlain', 'jennie', 'jerez', 'jerk', 'jerked', 'jerky', 'jerry', 'jersey', 'jerusalem', 'jet', 'jeung', 'jewel', 'jewels', 'jewish', 'jfg', 'jiang', 'jicama', 'jicamas', 'jicima', 'jif', 'jiffy', 'jigger', 'jiggers', 'jim', 'jimenez', 'jimmies', 'jimmy', 'jims', 'jitomate', 'jivara', 'joaquin', 'joconde', 'joe', 'joes', 'joh', 'johannesburg', 'johannisberg', 'john', 'johnagold', 'johnanisberg', 'johnnie', 'johnny', 'johnnycake', 'johnson', 'johnsonville', 'joi', 'joint', 'jointed', 'joints', 'jolly', 'jolokia', 'jonagold', 'jonah', 'jonathan', 'jonathans', 'jones', 'jordan', 'jos', 'jose', 'jouët', 'jowl', 'jowls', 'joy', 'joyva', 'jp', 'jqa', 'jr', 'judgment', 'judiciously', 'judy', 'jug', 'juht', 'juic', 'juicd', 'juice', 'juiceb', 'juiced', 'juicer', 'juices', 'juicier', 'juiciness', 'juicing', 'juicy', 'juilenne', 'juilenned', 'juilienne', 'juilienned', 'jujube', 'jujubes', 'jujyfruits', 'julep', 'jules', 'julia', 'julienne', 'julienned', 'juliennes', 'julio', 'julliene', 'julliened', 'jullienned', 'jumbo', 'jumex', 'jump', 'jung', 'jungle', 'junior', 'juniper', 'junlianned', 'junmai', 'junípero', 'jura', 'jus', 'justice', 'justin', 'justover', 'jut', 'jwala', 'jícama', 'kaali', 'kabanos', 'kabinett', 'kabob', 'kabobs', 'kabocha', 'kaboucha', 'kabsa', 'kacang', 'kacha', 'kadhai', 'kadota', 'kaese', 'kaffir', 'kafir', 'kahl', 'kahlu', 'kahlua', 'kahlza', 'kahlú', 'kahlúa', 'kahlûa', 'kahula', 'kai', 'kaiser', 'kaisers', 'kaitafi', 'kaiware', 'kala', 'kalamansi', 'kalamanta', 'kalamari', 'kalamata', 'kalamatas', 'kalbi', 'kale', 'kalhua', 'kalimyrna', 'kalonji', 'kalua', 'kaluha', 'kalustyan', 'kalustyans', 'kalúa', 'kam', 'kamaboko', 'kame', 'kampot', 'kamut', 'kangaroo', 'kansas', 'kantong', 'kaolin', 'kaong', 'kaori', 'kapusta', 'karashi', 'karat', 'kari', 'karo', 'karpoor', 'karu', 'karv', 'kary', 'kasandrino', 'kase', 'kasha', 'kashi', 'kashkaval', 'kashmiri', 'kasih', 'kasoori', 'kassari', 'kasseri', 'kastoori', 'kasturi', 'kasuri', 'kat', 'kataife', 'kataifi', 'katakuriko', 'kathleen', 'katie', 'katinka', 'katsu', 'katsuo', 'katsuobushi', 'katz', 'kauai', 'kavli', 'kawari', 'kay', 'kc', 'keahole', 'kearn', 'keawe', 'kebab', 'kebabs', 'kebbe', 'kebobs', 'kecap', 'kechap', 'kee', 'keebler', 'keel', 'keen', 'keep', 'keeping', 'keeps', 'kefalograviera', 'kefalotiri', 'kefalotyri', 'keffir', 'kefir', 'keg', 'keiser', 'keisers', 'kekchi', 'kellogg', 'kelly', 'kelp', 'kemp', 'ken', 'kendra', 'kendraskitchen', 'kenko', 'kennabeck', 'kennebeck', 'kenny', 'kensington', 'kent', 'kentjoer', 'kentucky', 'kept', 'kern', 'kernel', 'kernels', 'kerns', 'kerr', 'kerrygold', 'ketchup', 'ketel', 'ketjap', 'kettle', 'kettlepizza', 'kewpie', 'key', 'keys', 'keystone', 'kg', 'kha', 'khakhra', 'khao', 'khmer', 'khorasan', 'khua', 'khus', 'kibbeh', 'kick', 'kicked', 'kickin', 'kid', 'kiddush', 'kidney', 'kidneys', 'kids', 'kielbasa', 'kii', 'kikkoman', 'kill', 'killa', 'killed', 'kilo', 'kilogram', 'kilograms', 'kilos', 'kim', 'kimchee', 'kimchi', 'kimelweck', 'kin', 'kind', 'kindlin', 'kinds', 'king', 'kingarthurflour', 'kings', 'kingsford', 'kingui', 'kinh', 'kinome', 'kippered', 'kippers', 'kir', 'kirbies', 'kirby', 'kirin', 'kirkland', 'kirkwood', 'kirmizi', 'kirsch', 'kirschwasser', 'kirsh', 'kirshwasser', 'kishke', 'kiss', 'kissed', 'kisses', 'kit', 'kitchen', 'kitchenmarket', 'kitchens', 'kite', 'kiwi', 'kiwifruit', 'kiwifruits', 'kiwis', 'kix', 'kizami', 'klondike', 'kluski', 'knackwurst', 'knafe', 'knead', 'kneaded', 'kneading', 'knee', 'knife', 'knipla', 'knish', 'knives', 'knob', 'knobs', 'knock', 'knocking', 'knockwurst', 'knoephla', 'knorr', 'knot', 'knots', 'knott', 'knotted', 'know', 'known', 'knox', 'knoxx', 'knuckle', 'knuckles', 'knudsen', 'ko', 'koala', 'koamart', 'kobe', 'kocher', 'kochi', 'kochujang', 'kochukaru', 'kodiak', 'koeksisters', 'koftas', 'kohlrabi', 'kohlrabies', 'kohu', 'koji', 'kojuchang', 'kokuho', 'kolbasi', 'komatsuna', 'kombu', 'kombucha', 'kona', 'konbu', 'kong', 'konriko', 'kool', 'koon', 'korbel', 'korean', 'korma', 'korn', 'kosari', 'koseret', 'kosh', 'kosher', 'koshersalt', 'kosherstyle', 'koshi', 'koshian', 'kosho', 'kovbasa', 'kraft', 'kraken', 'kraprao', 'kraut', 'krayana', 'krazy', 'kreplach', 'kriek', 'krimpets', 'krinkel', 'krinos', 'kris', 'krisp', 'krispies', 'kroeung', 'kroger', 'krogstad', 'krupuk', 'kruse', 'krusteaz', 'kucai', 'kuchela', 'kucho', 'kudzu', 'kuei', 'kugelhopf', 'kugelhupf', 'kukui', 'kula', 'kum', 'kumamoto', 'kumamotos', 'kumara', 'kummelweck', 'kumquat', 'kumquats', 'kumquatsepi', 'kumu', 'kumumoto', 'kung', 'kunomoto', 'kuri', 'kuro', 'kurobuta', 'kuza', 'kvass', 'kwanzaa', 'kway', 'ky', 'kyoto', 'kümmel', 'la', 'labatts', 'label', 'labeled', 'labels', 'labne', 'labneh', 'laboiteny', 'lace', 'laces', 'lacey', 'lacinato', 'lacing', 'lack', 'lacquer', 'lacquered', 'lacroix', 'lactaid', 'lactate', 'lacto', 'lactose', 'lacy', 'laden', 'ladle', 'ladolemono', 'lady', 'ladyfinger', 'ladyfingers', 'lafe', 'laffy', 'lagavulin', 'lager', 'lagerstyle', 'laguiole', 'lagunitas', 'laird', 'lait', 'lake', 'lakefront', 'lakes', 'lakeside', 'laksa', 'lalah', 'lamb', 'lambic', 'lambrusco', 'lambs', 'lame', 'lamill', 'lamp', 'lan', 'lancashire', 'lancaster', 'lancelot', 'land', 'langhan', 'langostines', 'langostino', 'langostinos', 'langoustine', 'langoustines', 'lanka', 'lankan', 'lantana', 'lantern', 'lap', 'lapchang', 'lapchong', 'lapchongs', 'laphroaig', 'laphroiag', 'lapsang', 'laquercia', 'lard', 'larded', 'larding', 'lardo', 'lardon', 'lardons', 'lardoons', 'large', 'largefrench', 'largely', 'larger', 'largest', 'largish', 'lars', 'lasagna', 'lasagne', 'lasagnette', 'last', 'late', 'later', 'laterally', 'latex', 'latienda', 'latik', 'latin', 'latina', 'latino', 'latke', 'latkes', 'latourangelle', 'latte', 'latter', 'lattice', 'lauer', 'laughing', 'laura', 'laurel', 'laurentiis', 'lava', 'lavang', 'lavash', 'lavazza', 'lavender', 'laver', 'lavosh', 'law', 'lawry', 'laxmi', 'lay', 'layer', 'layered', 'layering', 'layers', 'lazy', 'lazzaroni', 'lb', 'lbs', 'le', 'lea', 'leaaves', 'lead', 'leaf', 'leafed', 'leafs', 'leafy', 'lean', 'leaner', 'leanest', 'leanness', 'least', 'leather', 'leathers', 'leatherwood', 'leathery', 'leave', 'leaved', 'leavener', 'leavening', 'leaves', 'leavesfinely', 'leaving', 'lebanese', 'lebkuchen', 'leblon', 'lebneh', 'leche', 'lechera', 'leches', 'lechón', 'lecithin', 'lee', 'leek', 'leeks', 'leeners', 'leer', 'lefse', 'left', 'leftover', 'leftovers', 'leg', 'legs', 'legthwise', 'legumes', 'leicester', 'leidenheimer', 'lek', 'lekvar', 'lemon', 'lemonade', 'lemoncello', 'lemongrass', 'lemons', 'lemony', 'lemonzest', 'lend', 'lenghthwise', 'lenghtwise', 'lengkuas', 'length', 'lengths', 'lengthways', 'lengthwise', 'lengua', 'lenticchie', 'lentil', 'lentilles', 'lentils', 'leo', 'leon', 'leonardo', 'leones', 'lepicerie', 'lescure', 'less', 'lesueur', 'let', 'letters', 'lettuce', 'lettuces', 'levain', 'level', 'leveled', 'leveling', 'levels', 'leves', 'lexington', 'leyden', 'lg', 'li', 'lian', 'libby', 'liberal', 'liberty', 'lichee', 'lick', 'licor', 'licorice', 'lid', 'lids', 'lie', 'liefman', 'liege', 'lievito', 'life', 'lifesavers', 'lift', 'lifter', 'ligament', 'light', 'lightbrown', 'lighten', 'lightened', 'lighter', 'lighting', 'lightlife', 'lightly', 'lightlysweetened', 'lightning', 'lighttasting', 'lightweight', 'liguria', 'ligurian', 'like', 'liked', 'likes', 'liking', 'lil', 'lilies', 'lilikoi', 'lillet', 'lilly', 'lily', 'lima', 'limas', 'limburger', 'lime', 'limeade', 'limejuice', 'limes', 'limestone', 'limezest', 'limited', 'limo', 'limon', 'limonada', 'limonata', 'limoncello', 'limoncillo', 'limone', 'limu', 'linch', 'lindemans', 'lindor', 'lindsay', 'lindt', 'lindy', 'line', 'lined', 'linen', 'liner', 'liners', 'lines', 'ling', 'lingcod', 'lingham', 'lingonberries', 'lingonberry', 'lingots', 'lingui', 'linguica', 'linguine', 'linguinetti', 'linguini', 'linguisa', 'linguiça', 'lini', 'linie', 'lining', 'link', 'linkback', 'linked', 'links', 'linquini', 'linseed', 'linseeds', 'lint', 'lion', 'lionel', 'lionfish', 'lip', 'lipped', 'lips', 'lipton', 'liquada', 'liquefied', 'liquefy', 'liquer', 'liqueuer', 'liqueur', 'liqueurs', 'liquid', 'liquids', 'liquified', 'liquor', 'liquorice', 'liquors', 'lis', 'lisbon', 'lisci', 'liscie', 'list', 'listed', 'listing', 'lit', 'litchi', 'litchis', 'lite', 'liter', 'literally', 'liters', 'litre', 'litres', 'little', 'littleneck', 'littlenecks', 'live', 'liver', 'liverot', 'livers', 'liverwurst', 'lizano', 'llama', 'lo', 'loa', 'load', 'loading', 'loads', 'loaf', 'loafs', 'loaves', 'loavescorn', 'lobe', 'lobes', 'lobster', 'lobsters', 'loc', 'local', 'locally', 'locate', 'located', 'locatella', 'locatelli', 'locked', 'lockhart', 'loco', 'loconut', 'locoto', 'locust', 'locusts', 'log', 'logan', 'loganberries', 'logs', 'loin', 'loinback', 'loins', 'lola', 'lolla', 'lollipop', 'lollipops', 'lollo', 'lombardo', 'lomi', 'lomo', 'london', 'lone', 'long', 'longaniza', 'longer', 'longevity', 'longgrain', 'longhorn', 'longon', 'longway', 'longways', 'longwise', 'loofah', 'look', 'looks', 'loom', 'loomi', 'loop', 'looped', 'loops', 'loose', 'loosely', 'loosen', 'loosened', 'looza', 'lop', 'lopez', 'loquat', 'loquats', 'lorann', 'lord', 'lorenzo', 'lorna', 'lorraine', 'los', 'losher', 'lost', 'lot', 'lots', 'lotta', 'lotus', 'louie', 'louis', 'louisiana', 'loukanika', 'loup', 'lour', 'loute', 'lovage', 'love', 'loveless', 'lovely', 'lover', 'lovers', 'low', 'lowcountry', 'lower', 'lowering', 'lowery', 'lowfat', 'lowry', 'lowsalt', 'lowsodium', 'lox', 'loóza', 'lpound', 'lt', 'ltd', 'lttle', 'lu', 'lua', 'luau', 'lubricating', 'luca', 'lucini', 'luck', 'lucknow', 'lucknowi', 'lucky', 'lucques', 'lucía', 'lug', 'luganega', 'luger', 'lugs', 'lukanka', 'luke', 'lukewarm', 'lulo', 'lumaconi', 'lumb', 'lumber', 'lumberyards', 'lump', 'lumpfish', 'lumpia', 'lumpias', 'lumps', 'lumpy', 'luna', 'lunazul', 'lunch', 'luncheon', 'lunchmate', 'lunchmeat', 'lundberg', 'lung', 'lunghi', 'luo', 'lup', 'lupe', 'luscious', 'lustau', 'luster', 'lusterdust', 'luxardo', 'lychee', 'lychees', 'lying', 'lyle', 'lyles', 'lynnhaven', 'lyons', 'lópez', 'mac', 'maca', 'macadamia', 'macadamias', 'macademia', 'macapuno', 'macaron', 'macaronade', 'macaroni', 'macarons', 'macaroon', 'macaroons', 'maccheroncini', 'macchiato', 'mace', 'macedonian', 'macerated', 'machaca', 'machacado', 'mache', 'machine', 'machines', 'machj', 'machlin', 'macho', 'machos', 'macintosh', 'mackeral', 'mackerel', 'mackerels', 'mackeson', 'macon', 'macoun', 'macouns', 'macrina', 'macsagna', 'madagascan', 'madagascar', 'maddalena', 'made', 'madeira', 'madeleine', 'madeleines', 'madiera', 'madras', 'maduro', 'maduros', 'mae', 'maekrua', 'mafalda', 'mafalde', 'mafaldine', 'maftoul', 'magazine', 'maggi', 'maggie', 'maggies', 'maggots', 'magi', 'magic', 'magical', 'magnesium', 'magnet', 'magnetized', 'magnificent', 'magnum', 'magpie', 'magret', 'magrets', 'maguey', 'maguro', 'mahal', 'maharaja', 'mahatma', 'mahi', 'mahimahi', 'mahlab', 'mahleb', 'mahlepi', 'mahoganies', 'mahogany', 'mahon', 'mahón', 'mai', 'maid', 'maida', 'maiden', 'maifun', 'mail', 'maille', 'main', 'maine', 'maison', 'maitake', 'maitakes', 'maitaké', 'maiz', 'maize', 'maizena', 'maja', 'majhoul', 'majool', 'major', 'majoram', 'make', 'maker', 'makers', 'makes', 'maki', 'making', 'makisu', 'mako', 'makroot', 'malabar', 'malaga', 'malagkit', 'malagueta', 'malanga', 'malaysian', 'malbec', 'maldon', 'male', 'maleguata', 'malfade', 'malibu', 'malitol', 'mallard', 'malleable', 'mallet', 'malloreddus', 'malmsey', 'malpecque', 'malpecques', 'malpeque', 'malpeques', 'malt', 'malta', 'maltaise', 'maltas', 'malted', 'maltesers', 'maltodextrin', 'maltose', 'mam', 'mama', 'maman', 'mame', 'mamey', 'mamita', 'mamma', 'mamé', 'man', 'manageable', 'mancego', 'manchego', 'mandarin', 'mandarine', 'mandarins', 'mandolin', 'mandoline', 'mandrange', 'mandrin', 'mangetout', 'mango', 'mangoes', 'mangos', 'mangteout', 'manhattan', 'manicotti', 'manie', 'manila', 'manilla', 'manioc', 'manis', 'manischewitz', 'manishevitz', 'manié', 'manjar', 'manjari', 'manner', 'manoa', 'manouri', 'manteca', 'mantis', 'manto', 'manual', 'manufacturer', 'manufacturing', 'manuka', 'manwich', 'many', 'manzanella', 'manzanilla', 'manzanillas', 'manzanillo', 'manzano', 'mao', 'maple', 'mapled', 'maque', 'mar', 'mara', 'marabo', 'maracino', 'maracuyá', 'maras', 'marasala', 'marasca', 'maraschino', 'marash', 'maraska', 'marble', 'marbled', 'marbleized', 'marbles', 'marc', 'marcela', 'marché', 'marcona', 'marcos', 'mardi', 'mardigrasday', 'mare', 'margarine', 'margarita', 'margaritas', 'margaritaville', 'margerine', 'margherita', 'maria', 'mariage', 'mariani', 'marias', 'marichu', 'marie', 'marigold', 'marigolds', 'marina', 'marinade', 'marinades', 'marinara', 'marinate', 'marinated', 'marinating', 'mariner', 'marion', 'marionberries', 'marionberry', 'maris', 'marjoram', 'mark', 'marked', 'marker', 'markers', 'market', 'markethallfoods', 'markets', 'marlin', 'marmalade', 'marmellata', 'marmite', 'marnano', 'marnier', 'marnique', 'maroon', 'married', 'marron', 'marrons', 'marrow', 'marrowbones', 'mars', 'marsala', 'marscapone', 'marscarpone', 'marshmallow', 'marshmallows', 'marteen', 'martha', 'martin', 'martina', 'martinelli', 'martini', 'martiniquan', 'martiniquen', 'maruchan', 'marukan', 'mary', 'maryland', 'marys', 'marzano', 'marzanos', 'marzeh', 'marzen', 'marzetti', 'marzettis', 'marzipan', 'maría', 'masa', 'masago', 'masala', 'masami', 'masarepa', 'mascarpone', 'mascato', 'masche', 'maseca', 'mash', 'mashed', 'masher', 'mashers', 'mashing', 'mask', 'masking', 'mason', 'masoor', 'mass', 'massala', 'massaman', 'massenez', 'massey', 'master', 'masterpiece', 'mastic', 'masur', 'mat', 'match', 'matcha', 'matchbox', 'matches', 'matchlike', 'matchsicks', 'matchstick', 'matchsticks', 'matchsticksize', 'mate', 'material', 'mates', 'mathilde', 'matilde', 'matjes', 'mats', 'matsuhisa', 'matsutake', 'matsutaké', 'matter', 'mature', 'matured', 'matza', 'matzah', 'matzahs', 'matzo', 'matzoh', 'matzohs', 'matzos', 'maui', 'mauna', 'maure', 'mauro', 'maw', 'max', 'maximum', 'maxwell', 'may', 'mayer', 'mayo', 'mayocoba', 'mayonaise', 'mayonaisse', 'mayonnais', 'mayonnaise', 'mayonniase', 'maytag', 'mazama', 'mazi', 'mazin', 'mazola', 'maíz', 'maître', 'mcbride', 'mccain', 'mccann', 'mccaul', 'mcclure', 'mccollum', 'mccollums', 'mccormick', 'mccoy', 'mcewens', 'mche', 'mcintosh', 'mckenzie', 'mct', 'mcvities', 'mead', 'meal', 'mealworm', 'mealy', 'mean', 'means', 'meanwhile', 'measure', 'measured', 'measurement', 'measurements', 'measures', 'measuring', 'meat', 'meatball', 'meatballs', 'meatless', 'meatloaf', 'meatloaves', 'meats', 'meaty', 'meaux', 'mecos', 'mecox', 'med', 'medaglia', 'medal', 'medallion', 'medallions', 'media', 'medicinals', 'medieval', 'mediterranean', 'medium', 'mediumdry', 'mediumground', 'mediumlarge', 'mediumsize', 'mediumsized', 'mediumtolarge', 'medjool', 'medley', 'medoc', 'mei', 'mein', 'mejhoul', 'melange', 'melba', 'meld', 'melegueta', 'melissa', 'melissas', 'mellocreme', 'mellon', 'mellow', 'mellowest', 'melon', 'melonballer', 'melons', 'melt', 'meltable', 'melted', 'melting', 'melts', 'melty', 'member', 'members', 'membrane', 'membranes', 'membrillo', 'memory', 'mempachi', 'memphis', 'men', 'menemsha', 'menengi', 'menlo', 'menma', 'menonita', 'mentaiko', 'menthe', 'mentos', 'mer', 'mercants', 'mercillos', 'merckens', 'merengue', 'merguez', 'meringue', 'meringues', 'meritage', 'merkts', 'merleton', 'merlot', 'mermalada', 'merry', 'mesa', 'mescal', 'mesclun', 'mesculun', 'meselun', 'mesh', 'meshed', 'meslcun', 'mesophilic', 'mesquite', 'mestemacher', 'metal', 'metallic', 'metaxa', 'meted', 'methe', 'methi', 'method', 'methods', 'metsuyan', 'mex', 'mexciano', 'mexene', 'mexi', 'mexican', 'mexicana', 'mexicanos', 'mexico', 'mexicorn', 'mexicos', 'meyer', 'meyers', 'mezcal', 'mezze', 'mezzetta', 'mezzi', 'mg', 'mgd', 'mi', 'mia', 'miami', 'mian', 'michael', 'miche', 'michel', 'michelada', 'michele', 'michelob', 'michigan', 'michter', 'michu', 'micro', 'microgreens', 'microplane', 'microwavable', 'microwave', 'microwaveable', 'microwaved', 'microwaving', 'mid', 'middle', 'middleneck', 'middlenecks', 'midel', 'midgees', 'midgie', 'midnight', 'midori', 'mie', 'mien', 'migas', 'might', 'mighty', 'mignon', 'mignonette', 'mignons', 'mik', 'mikado', 'mike', 'milanese', 'milano', 'mild', 'milder', 'mildest', 'mildflavored', 'mildly', 'mililiters', 'milk', 'milkballs', 'milkfat', 'milkfish', 'milkimchi', 'milksalt', 'milkshake', 'milkshakes', 'milky', 'mill', 'milled', 'miller', 'millet', 'milligan', 'millileters', 'milliletes', 'milliliter', 'milliliters', 'millimeters', 'millionaire', 'milliters', 'mills', 'milman', 'mimolette', 'min', 'mince', 'minced', 'mincemeat', 'minces', 'mincing', 'mind', 'mindy', 'mined', 'mineirastyle', 'miner', 'mineral', 'minervois', 'minestrone', 'ming', 'mini', 'miniature', 'miniatures', 'minimally', 'minimum', 'minis', 'miniscule', 'minneola', 'minneolas', 'minor', 'minors', 'mins', 'mint', 'minted', 'mints', 'minty', 'minus', 'minute', 'minutes', 'minuti', 'minze', 'mirabo', 'miracle', 'miracles', 'mirasol', 'mire', 'miren', 'mirepoix', 'mirin', 'mirliton', 'mirlitons', 'miscellaneous', 'mislabeled', 'misleadingly', 'miso', 'miss', 'mission', 'mississippi', 'missouri', 'mist', 'mista', 'mister', 'mistika', 'misting', 'mitica', 'mitsuba', 'mitts', 'mix', 'mixed', 'mixer', 'mixers', 'mixes', 'mixing', 'mixoflour', 'mixture', 'miyataki', 'mizithra', 'mizuma', 'mizun', 'mizuna', 'mizuno', 'ml', 'mlo', 'mm', 'mo', 'moano', 'moby', 'mocha', 'mochas', 'mochi', 'mochiko', 'mock', 'mocktail', 'mocktails', 'modela', 'modeling', 'modelo', 'modena', 'moderate', 'moderately', 'modern', 'modestly', 'modified', 'modjeskas', 'moe', 'moet', 'mograbiah', 'mogridder', 'mohala', 'moi', 'moida', 'moist', 'moisten', 'moistened', 'moistening', 'moisture', 'mojito', 'mojo', 'molasses', 'molcajete', 'mold', 'molding', 'moldo', 'molds', 'mole', 'molecular', 'molho', 'molida', 'molido', 'mom', 'momiji', 'momo', 'momokawa', 'momoya', 'mon', 'monaco', 'monde', 'money', 'monger', 'mongetto', 'mongolian', 'monica', 'monin', 'monitor', 'monjunis', 'monk', 'monkey', 'monkfish', 'mono', 'monosodium', 'monsieur', 'mont', 'montagne', 'montagnolo', 'montalcino', 'montana', 'montasio', 'monte', 'montebello', 'montenegro', 'montepulciano', 'monteray', 'monterey', 'monterrey', 'montery', 'montessoriservices', 'montgomery', 'month', 'months', 'montrachet', 'montreal', 'monument', 'moo', 'moon', 'moonfish', 'moong', 'moonglow', 'moons', 'moonshine', 'moore', 'moorea', 'moorehouse', 'moose', 'mop', 'mopping', 'morado', 'morcilla', 'mordelo', 'morefruit', 'morel', 'morelino', 'morello', 'morels', 'morena', 'mores', 'moretti', 'morgan', 'mori', 'morilla', 'moringa', 'morita', 'moritas', 'mornay', 'morning', 'morningstar', 'moroccan', 'moros', 'morph', 'mors', 'morsel', 'morsels', 'mort', 'morta', 'mortadella', 'mortar', 'morteau', 'morton', 'moscatel', 'moscato', 'moscovy', 'mosel', 'moselle', 'moser', 'moss', 'mostaccioli', 'mostaciolli', 'mostarda', 'mostly', 'mosto', 'mote', 'mother', 'moto', 'motorvatin', 'mott', 'mottled', 'mou', 'moulard', 'moulds', 'mounded', 'mounding', 'mounds', 'mount', 'mountain', 'mourvedre', 'moussaka', 'mousse', 'mousseline', 'mousserons', 'moutai', 'moutarde', 'mouth', 'mouths', 'mouton', 'move', 'movie', 'mozza', 'mozzarella', 'mozzerella', 'mp', 'mr', 'mrs', 'ms', 'msc', 'msg', 'mt', 'mu', 'much', 'muchi', 'mud', 'muddle', 'muddled', 'muddler', 'muddlers', 'muddling', 'mudfish', 'mudslide', 'muenster', 'muesli', 'mueslix', 'muffaletta', 'muffin', 'muffins', 'muffuletta', 'mug', 'mugellana', 'mugs', 'muhammara', 'muhummara', 'mui', 'muir', 'muji', 'mulaeto', 'mulato', 'mulatto', 'mulberries', 'mull', 'mulled', 'mullet', 'mullets', 'mulling', 'multi', 'multicolored', 'multigrain', 'multivitimin', 'mulukhiyya', 'mulyeot', 'mummy', 'munchkin', 'mung', 'mungo', 'munich', 'munster', 'murcott', 'murphy', 'murray', 'murrayscheese', 'muscadavo', 'muscade', 'muscadet', 'muscat', 'muscatel', 'muscato', 'muscavado', 'muscle', 'muscles', 'muscovado', 'muscovy', 'mush', 'mushed', 'mushroom', 'mushrooms', 'mushrroms', 'mushy', 'musica', 'musketeers', 'muskmelon', 'muslin', 'mussel', 'musselman', 'mussels', 'must', 'mustar', 'mustard', 'mustards', 'mutabal', 'mutard', 'mutsu', 'mutti', 'mutton', 'muu', 'myer', 'myers', 'mymouné', 'mystery', 'mysticana', 'mystique', 'myun', 'myzithra', 'mâche', 'mâcon', 'märzen', 'mélange', 'ménage', 'místico', 'mõn', 'mûre', 'münster', 'naam', 'naan', 'naans', 'nabisco', 'nacho', 'nachos', 'naga', 'naganegi', 'nage', 'nahm', 'nail', 'naked', 'nam', 'nama', 'name', 'nameko', 'namm', 'nan', 'nance', 'nancy', 'nanno', 'nano', 'nantucket', 'napa', 'napastyle', 'napkin', 'napkins', 'naples', 'napolean', 'napoleon', 'napoletana', 'napoli', 'napoléon', 'nappa', 'naranja', 'naranjilla', 'nardone', 'narrow', 'narrowest', 'narrowing', 'naruto', 'nashi', 'nasi', 'nasoya', 'nasturtium', 'nasturtiumblossoms', 'nasturtiums', 'nata', 'national', 'nationwide', 'native', 'natto', 'natural', 'naturally', 'naturals', 'naturalstyle', 'nature', 'naturegg', 'naturel', 'naturesweet', 'naturipe', 'naughty', 'naval', 'navan', 'navel', 'navels', 'navy', 'nbsp', 'nd', 'nduja', 'neal', 'neapolitan', 'near', 'nearby', 'nearly', 'neat', 'neatly', 'necco', 'necessary', 'neck', 'necklace', 'necklaces', 'necks', 'nectar', 'nectarine', 'nectarines', 'need', 'needed', 'needle', 'needled', 'needlenose', 'needles', 'needs', 'neeeded', 'neely', 'neelys', 'neem', 'neera', 'neese', 'negi', 'negimaki', 'negra', 'negro', 'negros', 'neilsen', 'neither', 'nell', 'nellie', 'neolly', 'neon', 'neopolitan', 'nepenthe', 'nephew', 'nepitella', 'nera', 'nerds', 'nerigoma', 'neriume', 'nero', 'neroli', 'nerved', 'nescafe', 'nesquick', 'nesquik', 'nest', 'nestle', 'nestles', 'nestlé', 'nests', 'net', 'nets', 'netted', 'netting', 'nettle', 'nettles', 'neuchatel', 'neufchatel', 'neufchaåtel', 'neufchtel', 'neufchâtel', 'neutral', 'neutrally', 'nevada', 'never', 'new', 'newburg', 'newcastle', 'newfoundland', 'newman', 'newmans', 'newsom', 'newspaper', 'newtons', 'next', 'ngo', 'nguyen', 'nh', 'nib', 'nibbed', 'nibblets', 'nibby', 'niblet', 'niblets', 'nibs', 'niccoise', 'nice', 'nicely', 'nicer', 'nickel', 'nickelsize', 'nicois', 'nicoise', 'nielsen', 'nigari', 'nigella', 'night', 'nigiri', 'nigoise', 'nik', 'nikka', 'nilla', 'niman', 'nine', 'ninepin', 'ninety', 'ningbo', 'nino', 'nioise', 'nip', 'nipitella', 'nissin', 'nitrate', 'nitrogen', 'nix', 'nixtamal', 'niçois', 'niçoise', 'nm', 'noble', 'nobu', 'noc', 'nocello', 'noche', 'nodine', 'nog', 'nohi', 'nohu', 'noilly', 'noir', 'noisette', 'non', 'nona', 'nonalcoholic', 'nonalkalized', 'nonats', 'nondairy', 'nondark', 'none', 'nonfat', 'nonflammable', 'nonhomogenized', 'nonhydrogenated', 'nonino', 'nonmeat', 'nonna', 'nono', 'nonorganic', 'nonpareil', 'nonpareils', 'nonpariel', 'nonpereil', 'nonpoisonous', 'nonreactive', 'nonstick', 'nonsweet', 'nonsweetened', 'nontoxic', 'nonya', 'noo', 'noodle', 'noodles', 'noor', 'nopal', 'nopales', 'nopalitos', 'nordica', 'nori', 'normally', 'norman', 'north', 'northern', 'northwest', 'northwoods', 'norwegian', 'nose', 'nosed', 'noses', 'nostraline', 'notch', 'notched', 'note', 'noted', 'notes', 'nothing', 'notice', 'notte', 'nouc', 'nougat', 'nougatine', 'nour', 'nouvelle', 'nova', 'novello', 'novelty', 'noyaux', 'ntild', 'ntlde', 'nto', 'nu', 'nub', 'nubs', 'nucoa', 'nudies', 'nueske', 'nugget', 'nuggets', 'number', 'numerously', 'nuoc', 'nut', 'nutella', 'nutmeats', 'nutmeg', 'nutmegs', 'nutmet', 'nutrageous', 'nutri', 'nutrition', 'nutritional', 'nutritious', 'nuts', 'nutter', 'nuttier', 'nutty', 'ny', 'nyc', 'nylon', 'nyons', 'nyora', 'oak', 'oakheart', 'oakleaf', 'oaks', 'oaky', 'oasis', 'oat', 'oatcakes', 'oatmeal', 'oats', 'oaxaca', 'oaxacan', 'oba', 'oban', 'oblaten', 'oblique', 'oblong', 'obsessed', 'oc', 'ocane', 'occasionally', 'occurring', 'ocean', 'octagonal', 'october', 'octoberfest', 'octopus', 'octopuses', 'ocute', 'odd', 'odense', 'odessa', 'odom', 'oeil', 'oeleck', 'oelek', 'oetker', 'oeuvre', 'oeuvres', 'offcuts', 'offers', 'offset', 'often', 'ognori', 'ogo', 'ogonori', 'ogorki', 'ohba', 'ohnuts', 'ohrani', 'oi', 'oikos', 'oil', 'oilcured', 'oiled', 'oilepi', 'oilgin', 'oiling', 'oilpacked', 'oils', 'oily', 'oince', 'oives', 'oj', 'ok', 'oka', 'okay', 'okinawan', 'okra', 'okras', 'oktoberfest', 'olallieberries', 'old', 'oldbay', 'olde', 'older', 'oldfashioned', 'oldmaple', 'oldsouth', 'ole', 'oleic', 'olek', 'oleo', 'olio', 'olivada', 'olive', 'olivenation', 'olives', 'olivia', 'olla', 'oloroso', 'olympia', 'om', 'omani', 'omega', 'omelet', 'omelets', 'omelette', 'omit', 'omitted', 'omitting', 'onaga', 'onaise', 'ondine', 'one', 'ones', 'onetik', 'onion', 'onionpowder', 'onions', 'oniony', 'online', 'ono', 'onto', 'ooey', 'ooking', 'oolong', 'oonce', 'oounce', 'oounces', 'opah', 'opakapaka', 'opal', 'opaque', 'open', 'opened', 'opening', 'openings', 'opo', 'opposed', 'opposite', 'opt', 'optioinal', 'option', 'optiona', 'optional', 'optionally', 'options', 'orache', 'orah', 'orange', 'orangeliqueur', 'orangerie', 'oranges', 'orangina', 'orata', 'orate', 'orb', 'orbieu', 'orcebollitas', 'orchard', 'orchid', 'orchids', 'orchopped', 'orcreole', 'order', 'ordered', 'ore', 'orecchiette', 'orechiette', 'oregano', 'oregno', 'oregon', 'oregonmushrooms', 'oreo', 'oreos', 'orfresh', 'orfuji', 'organi', 'organic', 'organically', 'organiceggs', 'organicjuiceusa', 'organs', 'orgeat', 'orginale', 'oriental', 'original', 'originale', 'originally', 'originals', 'orlando', 'orleans', 'ornament', 'ornamental', 'ornaments', 'oro', 'oroshiepi', 'oroweat', 'orrechiette', 'orrington', 'orshrimp', 'ortega', 'orthai', 'ortiz', 'orvieto', 'orwhiting', 'orzata', 'orzo', 'orzotto', 'orégano', 'osborne', 'oscar', 'oscars', 'osetra', 'oshibako', 'oso', 'ososweet', 'ossau', 'ossetra', 'osso', 'ossobuco', 'ostrich', 'ot', 'otafuku', 'others', 'otherwise', 'otter', 'otto', 'ottogi', 'oumce', 'ounc', 'ounceahi', 'ouncec', 'ouncecan', 'ouncecs', 'ouncescavatappi', 'ouncesroast', 'ounch', 'ouncse', 'ounds', 'outdoor', 'outer', 'outerbridges', 'outfitted', 'outs', 'outside', 'outward', 'ouzo', 'oval', 'ovalette', 'ovalettes', 'ovalpie', 'ovals', 'ovaltine', 'oven', 'ovengold', 'ovenproof', 'ovenready', 'overbaked', 'overbrown', 'overcooked', 'overflowing', 'overgrown', 'overholt', 'overipe', 'overlapping', 'overly', 'overnight', 'overprocess', 'overproof', 'overripe', 'oversize', 'oversized', 'ovoline', 'owderchutney', 'owens', 'ox', 'oxheart', 'oxidation', 'oxidize', 'oxo', 'oxtail', 'oxtails', 'oyster', 'oysters', 'oz', 'ozfinely', 'pa', 'pabana', 'pablano', 'pabst', 'pac', 'paca', 'paccheri', 'pace', 'pacific', 'pacifico', 'pack', 'packag', 'package', 'packaged', 'packageenoki', 'packages', 'packaging', 'packed', 'packer', 'packet', 'packetactive', 'packets', 'packing', 'packs', 'pad', 'padana', 'padano', 'paddle', 'paddlefish', 'paddles', 'paddy', 'padella', 'padi', 'padron', 'padrón', 'pads', 'paella', 'paese', 'page', 'pahole', 'pailettes', 'paillard', 'paillards', 'paillete', 'paillettes', 'pain', 'pains', 'paint', 'paintbrush', 'paintbrushes', 'painting', 'paints', 'pair', 'pairs', 'paisano', 'pak', 'pakistani', 'palais', 'pale', 'palegreen', 'paleo', 'palettes', 'palm', 'palmetto', 'palmful', 'palmfuls', 'palmiers', 'palms', 'palo', 'paloma', 'palouse', 'palumbo', 'pam', 'pama', 'pambazos', 'pamela', 'pan', 'panang', 'panatone', 'panca', 'pancake', 'pancakes', 'pancetta', 'panch', 'pancit', 'panco', 'panda', 'pandan', 'pandanus', 'pandoro', 'pane', 'paneer', 'panel', 'panela', 'panels', 'panera', 'paneriso', 'panettone', 'panfried', 'panfrying', 'panhandle', 'panini', 'panino', 'paniolo', 'panko', 'panna', 'panni', 'panquehue', 'pans', 'panseared', 'pansies', 'pansy', 'pantelleria', 'pantherfanz', 'pantry', 'pants', 'panzanella', 'pao', 'papa', 'papaccelle', 'papads', 'papadums', 'papaer', 'papalo', 'papardelle', 'papas', 'papaya', 'papayas', 'papayiannides', 'papelon', 'paper', 'paperpanettone', 'papers', 'papery', 'papillon', 'papillote', 'papillotes', 'pappadams', 'pappadelle', 'pappadoums', 'pappadums', 'pappardelle', 'pappy', 'paprika', 'par', 'paradis', 'paradise', 'paraffin', 'paratha', 'parbaked', 'parboiled', 'parched', 'parchment', 'parcooked', 'pared', 'pareil', 'pareils', 'parents', 'pareve', 'parfait', 'parfaits', 'parilla', 'paring', 'paris', 'parisian', 'parisienne', 'park', 'parkay', 'parker', 'parkette', 'parley', 'parlor', 'parlour', 'parlsey', 'parm', 'parma', 'parmagiano', 'parmeasan', 'parmesan', 'parmesean', 'parmiagano', 'parmigano', 'parmiggiano', 'parmigian', 'parmigiana', 'parmigianino', 'parmigianno', 'parmigiano', 'parmiginao', 'parmigino', 'parrano', 'parrot', 'parsely', 'parsley', 'parslied', 'parsnip', 'parsnips', 'part', 'parted', 'partial', 'partially', 'particles', 'particular', 'partida', 'partiers', 'parties', 'partly', 'partridge', 'partridges', 'parts', 'partskim', 'partsminced', 'partway', 'party', 'parve', 'pasa', 'pasilla', 'pasillas', 'paso', 'pass', 'passata', 'passed', 'passing', 'passion', 'passionfruit', 'passito', 'passover', 'passvoer', 'past', 'pasta', 'pastas', 'paste', 'paste_', 'pasted', 'pastel', 'pastene', 'pastes', 'pasteurized', 'pastificio', 'pastilla', 'pastillage', 'pastilles', 'pastina', 'pastini', 'pastis', 'pastor', 'pastourma', 'pastrami', 'pastries', 'pastry', 'pasture', 'pastured', 'pasty', 'pat', 'pata', 'patagonian', 'patak', 'patch', 'patches', 'pate', 'patek', 'patent', 'pates', 'path', 'patience', 'patis', 'patissiere', 'patna', 'pato', 'patobrand', 'patron', 'pats', 'patted', 'pattern', 'patterns', 'patterson', 'pattie', 'patties', 'patting', 'pattipan', 'patty', 'pattypan', 'paté', 'paul', 'paula', 'pav', 'pave', 'pavo', 'paw', 'pawpaw', 'paychauds', 'paysanne', 'pazzo', 'pb', 'pbte', 'pc', 'pe', 'pea', 'peaberry', 'peach', 'peaches', 'peachtree', 'peak', 'peaked', 'peaks', 'pealed', 'peanut', 'peanuts', 'pear', 'pearl', 'pearled', 'pearlini', 'pearlized', 'pearls', 'pearly', 'pears', 'peas', 'peasant', 'peashoots', 'peaty', 'pebble', 'pebbles', 'pebbly', 'pecan', 'pecans', 'peccorino', 'pechaud', 'peche', 'peck', 'peconika', 'pecorina', 'pecorino', 'pectin', 'pectoral', 'pedro', 'pee', 'peeky', 'peekytoe', 'peel', 'peeled', 'peeler', 'peeling', 'peelings', 'peels', 'peen', 'peep', 'peeped', 'peeper', 'peeps', 'peewee', 'peg', 'pei', 'pekin', 'peking', 'pekoe', 'pelargonium', 'pelati', 'peled', 'pellegrino', 'pellets', 'pelligrino', 'peltier', 'pelvic', 'pemaquid', 'pen', 'pencil', 'pencils', 'pendery', 'pendleton', 'pendula', 'penetration', 'penn', 'penne', 'pennette', 'pennies', 'pennington', 'pennoni', 'pennsylvania', 'penny', 'pens', 'penzey', 'penzeys', 'penzy', 'people', 'pepar', 'pepato', 'pepe', 'pepepr', 'peper', 'peperconcini', 'peperonata', 'peperoncini', 'peperoncino', 'peperonciono', 'pepers', 'pepi', 'pepita', 'pepitas', 'pepitos', 'peppa', 'peppadew', 'peppadews', 'peppadrops', 'peppar', 'peppe', 'pepper', 'peppercorn', 'peppercorns', 'peppercress', 'peppered', 'pepperidge', 'pepperincini', 'pepperjack', 'pepperkosher', 'pepperleaf', 'peppermill', 'peppermint', 'peppermints', 'pepperoncillo', 'pepperoncini', 'pepperoncinis', 'pepperoncino', 'pepperoni', 'peppers', 'peppery', 'peppes', 'peppino', 'pepppercorns', 'pepps', 'pequen', 'pequillo', 'pequin', 'pequins', 'pequín', 'per', 'peral', 'percatelli', 'percent', 'percentage', 'perch', 'perching', 'perciatelli', 'percnet', 'perdue', 'perfect', 'perfection', 'perfectly', 'perforated', 'performer', 'perhaps', 'peri', 'periginotti', 'perigord', 'perigueux', 'perilla', 'periods', 'periwinkles', 'perk', 'perlato', 'perle', 'perline', 'perlini', 'permitting', 'pernigotti', 'pernil', 'pernod', 'pernot', 'peroni', 'perrier', 'perrin', 'perrins', 'perry', 'persian', 'persillade', 'persimmon', 'persimmons', 'persimons', 'person', 'personal', 'persons', 'peru', 'perugina', 'peruvian', 'pesce', 'pesticide', 'pesticides', 'pestie', 'pestle', 'pesto', 'pet', 'petal', 'petals', 'pete', 'peter', 'petes', 'petit', 'petite', 'petits', 'petrale', 'peychaud', 'pfeffernuse', 'pharmacy', 'phartz', 'pheasant', 'pheasants', 'phil', 'philadelphia', 'phillips', 'philly', 'philo', 'phin', 'phlox', 'pho', 'phon', 'phoran', 'phoron', 'phosphate', 'photograph', 'phrik', 'phu', 'phyllo', 'pi', 'piacere', 'piadine', 'piave', 'pica', 'picada', 'picadillo', 'picanha', 'picante', 'picapeppa', 'picatta', 'piccalilli', 'piccalilly', 'piccante', 'piccolini', 'picholine', 'picholines', 'pici', 'pick', 'pickapeppa', 'picked', 'pickeled', 'pickerel', 'pickin', 'pickle', 'pickled', 'pickles', 'pickling', 'picks', 'picnic', 'pico', 'picoline', 'picolo', 'picon', 'picot', 'pict', 'pictsweet', 'picual', 'pie', 'piece', 'pieceparmesan', 'pieces', 'piecrust', 'piecrusts', 'pied', 'pieepi', 'pienza', 'pierce', 'pierced', 'pierogi', 'pierogie', 'pierogies', 'pierogis', 'pierre', 'pies', 'pig', 'pigeon', 'pigeons', 'pignole', 'pignoli', 'pignolia', 'pignolis', 'pigs', 'pigskin', 'pik', 'pike', 'pikeplacefish', 'pilaf', 'pilchards', 'pile', 'piling', 'pill', 'pillow', 'pillows', 'pillowy', 'pillsbury', 'piloncillo', 'pilot', 'pilpelchuma', 'pils', 'pilsner', 'pilsners', 'piment', 'pimenta', 'pimente', 'pimentn', 'pimento', 'pimenton', 'pimentos', 'pimentín', 'pimentón', 'pimiento', 'pimientoes', 'pimientos', 'pimm', 'pimms', 'pin', 'pina', 'pinapple', 'pinapples', 'pinbones', 'pinch', 'pinched', 'pinches', 'pine', 'pineapple', 'pineapples', 'pineau', 'pined', 'pinenuts', 'ping', 'pinhead', 'pink', 'pinkerton', 'pinkie', 'pinky', 'pinnacle', 'pinon', 'pinot', 'pinquito', 'pins', 'pint', 'pintcherry', 'pinto', 'pints', 'pintu', 'pinwheels', 'pinza', 'pinzimonio', 'pioneer', 'pioppini', 'pipe', 'piped', 'pipen', 'piper', 'piperade', 'piperrada', 'pipette', 'pipettes', 'pipian', 'piping', 'pippies', 'pippin', 'pippins', 'pips', 'piquant', 'piquante', 'piquet', 'piquillo', 'piquillos', 'piquin', 'piri', 'piroline', 'pirouette', 'pirouline', 'pirozhki', 'pisco', 'pista', 'pistachio', 'pistachios', 'pistaschios', 'pistils', 'pistoles', 'pistolette', 'pistolettes', 'pistols', 'pistou', 'pit', 'pita', 'pitas', 'pitaya', 'pitch', 'pitcher', 'pitchers', 'pith', 'piths', 'pithy', 'pits', 'pitt', 'pitted', 'pitter', 'pitting', 'pixie', 'pizza', 'pizzaria', 'pizzas', 'pizzella', 'pizzelle', 'pizzelles', 'pizzeria', 'pizzetta', 'pizzettes', 'pizzoccheri', 'pizzocheri', 'pk', 'pkg', 'pkgs', 'pla', 'place', 'placed', 'places', 'placing', 'plah', 'plain', 'plainly', 'plaintain', 'plan', 'plane', 'plank', 'planking', 'planks', 'plans', 'plant', 'plantain', 'plantains', 'plantation', 'planters', 'plants', 'plaque', 'plastic', 'plata', 'platano', 'plate', 'plates', 'platform', 'plating', 'platino', 'platinum', 'platter', 'platters', 'player', 'pleasant', 'please', 'pleased', 'pleated', 'plenty', 'pleurote', 'pliable', 'pliers', 'plo', 'plochman', 'ploughman', 'ploy', 'plu', 'pluches', 'plucked', 'plucots', 'plugra', 'plugrá', 'plum', 'plumcots', 'plump', 'plumped', 'plumpjack', 'plums', 'plunge', 'plunged', 'pluot', 'pluots', 'plus', 'pluse', 'plushes', 'plusmore', 'plymouth', 'plywood', 'po', 'poached', 'poacher', 'poaching', 'poblano', 'poblanos', 'pocket', 'pocketless', 'pockets', 'pocky', 'pod', 'podded', 'pods', 'poha', 'poi', 'poilane', 'point', 'pointed', 'pointer', 'points', 'poire', 'poires', 'pois', 'poisonous', 'poivrade', 'poix', 'pok', 'poke', 'poked', 'poker', 'polaner', 'polar', 'polbano', 'pole', 'polenta', 'polentaepi', 'poles', 'polish', 'polished', 'politely', 'polka', 'pollack', 'pollen', 'pollo', 'pollock', 'polpette', 'polpetti', 'polska', 'polskie', 'polycarbonate', 'polydextrose', 'pom', 'pomace', 'pomade', 'pomegranante', 'pomegranate', 'pomegranates', 'pomegrante', 'pomelo', 'pomelos', 'pomery', 'pomfret', 'pomi', 'pommace', 'pommary', 'pommelo', 'pommeray', 'pommerey', 'pommeroy', 'pommery', 'pommes', 'pomodori', 'pomodoro', 'pomona', 'pompano', 'pompelmo', 'pomì', 'pond', 'pong', 'ponies', 'pont', 'pony', 'ponzu', 'poolish', 'poon', 'pop', 'popaa', 'popchips', 'popcorn', 'poplar', 'popover', 'popovers', 'poppadoms', 'poppadum', 'popped', 'popper', 'poppers', 'popping', 'poppy', 'poppyseed', 'poppyseeds', 'pops', 'popsicle', 'popsicles', 'popsticks', 'porchetta', 'porcini', 'porcinis', 'porgies', 'porgy', 'pork', 'porkchops', 'porkloin', 'porous', 'porridge', 'port', 'portabella', 'portabellas', 'portabello', 'portabellos', 'porter', 'porterhouse', 'porters', 'portion', 'portioned', 'portions', 'portland', 'portobella', 'portobellini', 'portobello', 'portobellos', 'portuguese', 'position', 'posole', 'possibilities', 'possible', 'possibly', 'post', 'postrio', 'pot', 'potage', 'potaoes', 'potaotes', 'potassium', 'potato', 'potatoes', 'potatos', 'potion', 'potpourri', 'pots', 'potsticker', 'potstickers', 'potted', 'potters', 'pouch', 'pouches', 'poudre', 'pouilly', 'poulet', 'poultry', 'poumd', 'poundcakes', 'pounded', 'pounder', 'poundmaple', 'poundrotelle', 'poundschayote', 'poundsrusset', 'pouns', 'poupon', 'pour', 'pourable', 'pourableconsistency', 'poured', 'pouring', 'pourpose', 'poussin', 'poussins', 'povilho', 'powder', 'powdered', 'powders', 'powdery', 'power', 'powered', 'powerful', 'powers', 'pozole', 'practically', 'prague', 'prairie', 'praline', 'pralines', 'prao', 'prat', 'prawn', 'prawns', 'pray', 'pre', 'prebaked', 'preboiled', 'precedes', 'precious', 'precise', 'precisely', 'precooked', 'precut', 'predominantly', 'prefer', 'preferabbly', 'preferable', 'preferably', 'preferablyy', 'prefered', 'preference', 'preferrably', 'preferred', 'preferredmeats', 'prefers', 'preformed', 'prego', 'preheat', 'preheated', 'preheating', 'premade', 'premelted', 'premier', 'premiere', 'premium', 'premixed', 'prep', 'prepackaged', 'preparation', 'prepare', 'prepared', 'preparedbasic', 'preparing', 'prepped', 'prepping', 'prerolled', 'present', 'presentation', 'preserve', 'preserved', 'preserves', 'preserving', 'preshaped', 'preshredded', 'presidente', 'presifted', 'presliced', 'presoaked', 'press', 'pressed', 'presses', 'pressing', 'pressure', 'pressurized', 'presunto', 'prettier', 'pretty', 'pretzel', 'pretzels', 'prevent', 'prevents', 'previous', 'previously', 'prewashed', 'priano', 'priced', 'prichard', 'pricked', 'prickly', 'pride', 'prik', 'primal', 'primarily', 'primary', 'primavera', 'prime', 'primes', 'priming', 'primitivo', 'primrose', 'prince', 'princella', 'princess', 'pringles', 'printable', 'printed', 'prior', 'pristine', 'private', 'probably', 'probe', 'probiotic', 'problem', 'procedure', 'proceed', 'process', 'processed', 'processer', 'processor', 'prociutto', 'procuitto', 'produce', 'produced', 'producer', 'produces', 'producing', 'product', 'products', 'professional', 'profiterole', 'profiteroles', 'profusely', 'progresso', 'prohibition', 'promasa', 'promised', 'promises', 'prong', 'pronged', 'pronounced', 'pronto', 'proof', 'proofed', 'proofing', 'propane', 'properly', 'proportions', 'propose', 'prosciutto', 'prosciuuto', 'proscuitto', 'proscutto', 'prosecco', 'prossecco', 'protean', 'protect', 'protective', 'protein', 'proteins', 'proto', 'provel', 'provencal', 'provencale', 'provence', 'provenhal', 'provençe', 'provides', 'provimi', 'provini', 'provolone', 'prudhomme', 'pruitt', 'prum', 'prune', 'prunelle', 'prunes', 'psychedelic', 'psyllium', 'pt', 'ptitim', 'pts', 'pté', 'pu', 'pub', 'puchased', 'pucker', 'puckled', 'puddin', 'pudding', 'puddings', 'pueblo', 'puerto', 'puff', 'puffcorn', 'puffed', 'puffs', 'puffy', 'pugliese', 'pul', 'pulique', 'pull', 'pulla', 'pulled', 'pulling', 'pullman', 'pulp', 'pulpy', 'pulque', 'pulse', 'pulsed', 'pulses', 'pulsing', 'pulverize', 'pulverized', 'pumpernickel', 'pumpernikel', 'pumpkin', 'pumpkins', 'pumpkinseed', 'pumpkinseeds', 'pumps', 'puna', 'punch', 'punched', 'punctured', 'punds', 'pungent', 'punnet', 'puntarella', 'puntarelle', 'pupils', 'puppadum', 'puppies', 'puppy', 'pur', 'pura', 'puran', 'purchase', 'purchased', 'purchasedpanettone', 'purchasing', 'pure', 'puree', 'pureed', 'pureeing', 'purees', 'purely', 'purereal', 'purevanilla', 'pureé', 'purged', 'purging', 'puri', 'purified', 'puritan', 'purlsoho', 'purple', 'purples', 'purpletop', 'purpose', 'purposeflour', 'purposes', 'purred', 'purse', 'purses', 'purslane', 'purveyor', 'purée', 'puréed', 'pushcart', 'pushed', 'pushpin', 'puss', 'pusser', 'put', 'puttanesca', 'putter', 'putting', 'putty', 'puy', 'puya', 'pyongo', 'pyramid', 'pyrex', 'páté', 'pâche', 'pâte', 'pâté', 'pébeyre', 'périgord', 'pêches', 'qimiq', 'qt', 'qts', 'quady', 'quahog', 'quahogs', 'quail', 'quails', 'quaker', 'qualita', 'qualities', 'quality', 'quantities', 'quantity', 'quark', 'quart', 'quarted', 'quarter', 'quarterd', 'quartered', 'quarters', 'quartersized', 'quartet', 'quarts', 'quartt', 'quatre', 'quatres', 'que', 'quebec', 'queen', 'queens', 'queijo', 'quemada', 'quenelle', 'quenelles', 'quervo', 'quesadilla', 'quesadillas', 'quesillo', 'queso', 'quiche', 'quick', 'quickbread', 'quickcooking', 'quickest', 'quickie', 'quickly', 'quickrise', 'quik', 'quill', 'quills', 'quina', 'quince', 'quinces', 'quinoa', 'quinquina', 'quins', 'quite', 'quoc', 'quorn', 'qwa', 'raab', 'rabbit', 'rabbits', 'rabe', 'rablespoon', 'racha', 'rachael', 'rachel', 'rack', 'racks', 'raclette', 'raddichio', 'radiator', 'radiatore', 'radiatori', 'radicchio', 'radish', 'radishes', 'radishs', 'raffaello', 'raffia', 'ragged', 'ragout', 'ragoût', 'ragu', 'ragù', 'ragú', 'rahr', 'rai', 'rain', 'rainbow', 'rainbows', 'rainbowy', 'rainier', 'raised', 'raisin', 'raising', 'raisins', 'raisons', 'raita', 'rajas', 'rajma', 'rajun', 'raki', 'ram', 'raman', 'ramazotti', 'rambutan', 'ramekin', 'ramekins', 'ramen', 'ramp', 'ramps', 'ramyonsari', 'ramyun', 'ran', 'ranch', 'rancher', 'ranchera', 'rancherito', 'ranchero', 'ranchers', 'rancho', 'random', 'range', 'ranging', 'rani', 'rao', 'raosted', 'rapa', 'rape', 'rapeseed', 'rapid', 'rapidrise', 'rapine', 'rapini', 'rapunzel', 'rare', 'ras', 'rasam', 'rasberry', 'rascasse', 'rasher', 'rashers', 'rasoted', 'rasp', 'raspberries', 'raspberriesor', 'raspberry', 'rasped', 'ratatouille', 'rate', 'rated', 'rathbun', 'rather', 'ratio', 'rats', 'rattle', 'rattler', 'rattlesnake', 'rau', 'rava', 'raveggiolo', 'ravenswood', 'ravigote', 'ravioletti', 'ravioli', 'raw', 'rawmesan', 'ray', 'rayu', 'razberi', 'razor', 'razors', 'razz', 'razzleberry', 'razzmatazz', 'rbgh', 'rbol', 'rbst', 'rd', 'rds', 'reach', 'reached', 'reaches', 'reactive', 'read', 'readily', 'reads', 'ready', 'real', 'realemon', 'realfruit', 'realime', 'really', 'reames', 'rear', 'reasonably', 'reata', 'reblochon', 'recado', 'recaito', 'recao', 'reccomended', 'receive', 'recently', 'recipe', 'recipeepi', 'recipegnocchi', 'recipehazelnut', 'recipelemon', 'recipelink', 'recipelinkand', 'recipelinkor', 'recipelinkpie', 'recipes', 'recipesfrozen', 'recipespastry', 'recipespâte', 'recips', 'recomended', 'recommend', 'recommende', 'recommended', 'recommends', 'recommened', 'reconstitituted', 'reconstitute', 'reconstituted', 'reconstituting', 'recorked', 'rectangle', 'rectangles', 'rectangular', 'red', 'redbor', 'redbreast', 'redcurrants', 'reddi', 'redfish', 'redhot', 'redi', 'redmond', 'redpack', 'reds', 'redskin', 'redskinned', 'reduce', 'reduced', 'reducedfat', 'reduces', 'reducing', 'reduction', 'reed', 'reese', 'reeser', 'refer', 'referred', 'refilling', 'refine', 'refined', 'refiner', 'refreshed', 'refreshing', 'refried', 'refrigerate', 'refrigerated', 'refrigerator', 'refritos', 'regale', 'regalice', 'regan', 'regans', 'reggano', 'reggiano', 'regiano', 'reginetti', 'region', 'regional', 'regions', 'regular', 'regulating', 'reheat', 'reheated', 'reheating', 'rehrucken', 'rehydrate', 'rehydrated', 'reims', 'reindeer', 'reine', 'reinette', 'reinforced', 'reisling', 'rejuvelac', 'relative', 'relatively', 'release', 'released', 'reliable', 'relish', 'relishes', 'relleno', 'remain', 'remainder', 'remaining', 'remains', 'remnants', 'remonce', 'remote', 'remoulade', 'removable', 'removal', 'remove', 'removed', 'removedand', 'removedfrom', 'removing', 'remy', 'rendang', 'render', 'rendered', 'rendering', 'renderings', 'rendezvous', 'renee', 'rennet', 'repetitive', 'replace', 'replaced', 'replacement', 'replacer', 'replacing', 'reposada', 'reposado', 'reprodepot', 'republic', 'reputable', 'requeson', 'request', 'requezon', 'require', 'required', 'requirements', 'requires', 'resealable', 'resemble', 'resembles', 'resembling', 'reser', 'reserva', 'reserve', 'reserved', 'reserve½', 'reserving', 'reshampatti', 'residual', 'residue', 'resifted', 'resin', 'resistant', 'resort', 'resources', 'respect', 'respectively', 'responsibly', 'resposado', 'rest', 'restaurant', 'restaurants', 'rested', 'resting', 'result', 'resulting', 'results', 'retain', 'retained', 'retaining', 'retied', 'retrieval', 'retro', 'retsina', 'return', 'reuben', 'reusable', 'reuse', 'reveal', 'reverse', 'rey', 'reyes', 'reynaldo', 'reynolds', 'rhine', 'rhizome', 'rhode', 'rhodes', 'rhododendron', 'rhone', 'rhubarb', 'rhum', 'rhône', 'ria', 'riazul', 'rib', 'ribbed', 'ribbon', 'ribbons', 'ribcage', 'ribena', 'ribera', 'ribeye', 'riblets', 'ribs', 'ribsteak', 'ric', 'rican', 'ricard', 'rice', 'riced', 'ricer', 'rices', 'riceselect', 'ricestick', 'rich', 'richard', 'richardson', 'richer', 'richly', 'richness', 'ricipe', 'rick', 'rickeys', 'ricotta', 'ridge', 'ridged', 'ridgemont', 'ridges', 'riesling', 'rigata', 'rigate', 'rigati', 'rigatoni', 'right', 'rigotte', 'rim', 'riming', 'rimless', 'rimmed', 'rimmer', 'rimming', 'rims', 'rinced', 'rind', 'rinded', 'rindless', 'rinds', 'ring', 'ringlets', 'rings', 'rinse', 'rinsed', 'rinses', 'rinsing', 'rioja', 'rip', 'ripasso', 'ripe', 'ripen', 'ripened', 'ripeness', 'ripped', 'ripple', 'rippled', 'riscossa', 'rise', 'risen', 'rising', 'riso', 'risotto', 'rissole', 'ristretto', 'rittenhouse', 'ritz', 'rivels', 'river', 'rivera', 'riviera', 'riz', 'rm', 'ro', 'road', 'roadside', 'roast', 'roasted', 'roaster', 'roasters', 'roasting', 'roasts', 'robalo', 'robb', 'robby', 'robert', 'robertson', 'robin', 'robiola', 'robiolina', 'robiolla', 'robiolo', 'robot', 'robust', 'robusto', 'roca', 'rocco', 'rock', 'rocket', 'rockfish', 'rocks', 'rockweed', 'rocky', 'rocoto', 'rod', 'rods', 'roe', 'roelli', 'roes', 'rogers', 'rogue', 'roja', 'rojo', 'rojos', 'rok', 'roka', 'roker', 'roland', 'roll', 'rolled', 'roller', 'rolling', 'rolls', 'rolo', 'rolos', 'roma', 'romaine', 'roman', 'romanesco', 'romanian', 'romano', 'romanoff', 'romanos', 'romas', 'rome', 'romesco', 'rompope', 'ron', 'roncal', 'rondele', 'rondin', 'roni', 'ronnybrook', 'ronzoni', 'rood', 'roof', 'rooibos', 'room', 'roomtemp', 'roomtemperature', 'rooster', 'root', 'rootbeer', 'rootlets', 'rootr', 'roots', 'rope', 'ropes', 'roquefort', 'rosa', 'rosangel', 'rosario', 'rosarita', 'rosato', 'rose', 'rosebud', 'rosebuds', 'rosehip', 'rosehips', 'roseland', 'rosella', 'rosemary', 'rosepetals', 'roses', 'rosette', 'rosettes', 'rosewater', 'rosey', 'rossa', 'rossi', 'rosso', 'rosti', 'rosé', 'rotary', 'rotating', 'rotel', 'rotelle', 'roth', 'rothman', 'roti', 'rotini', 'rotis', 'rotisserie', 'rouet', 'rougaroux', 'rouge', 'rouges', 'rouget', 'rough', 'roughly', 'roughlychopped', 'roughy', 'rouille', 'roulade', 'rouladen', 'roulades', 'round', 'rounded', 'rounder', 'rounds', 'rounemup', 'route', 'roux', 'row', 'rows', 'royal', 'royale', 'royaltine', 'rromano', 'rserved', 'ru', 'rub', 'rubbed', 'rubber', 'rubbery', 'rubbing', 'ruby', 'rucola', 'rudy', 'ruffle', 'ruffled', 'ruffles', 'ruford', 'ruin', 'ruined', 'ruis', 'ruler', 'rulez', 'rum', 'rumchata', 'rump', 'rumple', 'rumps', 'run', 'runner', 'runnier', 'running', 'runny', 'runs', 'runts', 'rush', 'rusks', 'russa', 'russet', 'russets', 'russett', 'russian', 'rust', 'rustic', 'rustica', 'rustically', 'rustichella', 'rustique', 'rutabaga', 'rutabagas', 'ruth', 'ruwer', 'rye', 'ryvita', 'rémoulade', 'sa', 'saambhar', 'saar', 'saba', 'sabarot', 'sabatino', 'sabayon', 'sable', 'sablee', 'sablefish', 'sablés', 'saboogoo', 'sabor', 'sabra', 'sabut', 'sac', 'saccharine', 'sachet', 'sachets', 'sack', 'sacks', 'saco', 'sacramanto', 'sacramento', 'sacs', 'saddle', 'saddles', 'saeujeot', 'saewoo', 'saewujeot', 'saf', 'safale', 'safe', 'safety', 'safflower', 'saffron', 'saga', 'saganaki', 'sagatiba', 'sage', 'sago', 'sahadis', 'sahara', 'sai', 'said', 'saifun', 'saigon', 'saikyo', 'sailor', 'sailorjerry', 'saint', 'sake', 'saki', 'sakonnet', 'saku', 'sakura', 'saké', 'sal', 'salad', 'salada', 'saladisi', 'salads', 'salal', 'salam', 'salamandra', 'salami', 'salamis', 'salasa', 'salata', 'salchicon', 'salemville', 'sales', 'salet', 'salferino', 'salicornia', 'salinity', 'salisbury', 'salmon', 'salmonberries', 'salmonella', 'salmuera', 'salpicao', 'salsa', 'salsaepi', 'salsas', 'salsify', 'salsita', 'salt', 'saltand', 'salted', 'saltedsunflower', 'saltfish', 'saltier', 'saltine', 'saltines', 'saltiness', 'salting', 'saltor', 'saltpeter', 'salts', 'saltwater', 'saltworks', 'saltwort', 'salty', 'salumi', 'salut', 'salvadoran', 'salvadorena', 'salvation', 'sam', 'saman', 'samba', 'sambaal', 'sambal', 'sambar', 'sambazon', 'sambel', 'sambhar', 'sambol', 'sambuca', 'sami', 'sammies', 'sammy', 'samoas', 'samosa', 'samp', 'samuel', 'san', 'sancerre', 'sanctuaire', 'sand', 'sandalwood', 'sandbakkel', 'sandblasted', 'sanddab', 'sandies', 'sanding', 'sandra', 'sandwich', 'sandwiched', 'sandwiches', 'sandwiching', 'sandy', 'sangiovese', 'sangria', 'sangrita', 'sanitized', 'sans', 'sansho', 'sansyo', 'santa', 'sante', 'santo', 'sanuf', 'sanuki', 'sapote', 'sapotes', 'sapp', 'sapphire', 'sapporo', 'sara', 'saracene', 'saran', 'sarda', 'sardegna', 'sardi', 'sardine', 'sardines', 'sardinian', 'sardo', 'sargento', 'saronno', 'sarsaparilla', 'sarticious', 'sarvecchio', 'sashimi', 'sasho', 'saskatoon', 'sassafras', 'sassafrass', 'sassy', 'sat', 'satay', 'sate', 'satin', 'sativa', 'sato', 'satsuma', 'satsumas', 'saturated', 'saturei', 'saturn', 'sau', 'sauce', 'sauced', 'saucee', 'sauceepi', 'sauceless', 'saucepan', 'saucepot', 'saucer', 'sauces', 'saucisse', 'saucisson', 'saucy', 'sauerbraten', 'sauerkraut', 'saumur', 'saury', 'sausage', 'sausageapple', 'sausagemaker', 'sausagemeat', 'sausages', 'saute', 'sauteed', 'sauteeing', 'sauteing', 'sauterne', 'sauternes', 'sauté', 'sautéed', 'sautéing', 'sauvignon', 'sauza', 'savagnin', 'savannah', 'savarin', 'save', 'saved', 'savers', 'saveur', 'savignon', 'savina', 'saving', 'savings', 'savoiardi', 'savoie', 'savonna', 'savor', 'savory', 'savoryspiceshop', 'savoury', 'savoy', 'saw', 'sawdust', 'sawed', 'sawmill', 'sawn', 'sawtooth', 'sawyer', 'say', 'sazon', 'sazonador', 'sazón', 'sc', 'scald', 'scalded', 'scaldedmilk', 'scalding', 'scale', 'scaled', 'scales', 'scallion', 'scallions', 'scallop', 'scalloped', 'scallopine', 'scallopini', 'scallops', 'scaloppine', 'scaloppini', 'scalped', 'scamorza', 'scamp', 'scampi', 'scandinavian', 'scansano', 'scant', 'scape', 'scapes', 'scarf', 'scarlet', 'scarmoza', 'scarpariello', 'scarves', 'scary', 'scattering', 'scented', 'scents', 'schar', 'scharfen', 'scharffen', 'scharffenberger', 'schezuan', 'schichimi', 'schilling', 'schlagobers', 'schmaltz', 'schmear', 'schmearing', 'schmidts', 'schnapps', 'school', 'schrager', 'schubert', 'schupf', 'schweppes', 'scissor', 'scissored', 'scissors', 'scleaned', 'scollops', 'scone', 'scones', 'scoop', 'scooped', 'scooper', 'scooping', 'scoops', 'scorching', 'score', 'scored', 'scorpion', 'scotch', 'scotia', 'scott', 'scottish', 'scout', 'scouting', 'scramble', 'scrambled', 'scrape', 'scraped', 'scraper', 'scrapes', 'scrapings', 'scrapped', 'scrapple', 'scraps', 'scratch', 'screen', 'screw', 'scribners', 'scrod', 'scrubbed', 'scrumpy', 'scubed', 'scudder', 'scungili', 'scungillli', 'scuro', 'se', 'sea', 'seabass', 'seafood', 'seagram', 'seal', 'sealable', 'sealed', 'sealing', 'seam', 'seamless', 'seams', 'seapak', 'sear', 'search', 'searching', 'seared', 'searing', 'seashell', 'seaside', 'season', 'seasonal', 'seasonally', 'seasoned', 'seasoning', 'seasonings', 'seasons', 'seat', 'seattle', 'seaweed', 'sec', 'seca', 'secco', 'seckel', 'seckle', 'seco', 'second', 'secondary', 'seconds', 'secret', 'secrets', 'sectio', 'section', 'sectioned', 'sections', 'secure', 'secured', 'securely', 'securing', 'sedaris', 'sediment', 'see', 'seed', 'seeded', 'seedless', 'seedlings', 'seedpods', 'seeds', 'seedy', 'seeeded', 'seek', 'seekers', 'seelect', 'seeled', 'seem', 'seems', 'segment', 'segmented', 'segments', 'seitan', 'sel', 'select', 'selected', 'selection', 'selections', 'selecto', 'self', 'sell', 'seller', 'sells', 'seltzer', 'semi', 'semiaged', 'semiboneless', 'semicircles', 'semidried', 'semidry', 'semifreddo', 'semipearled', 'semiripe', 'semiseet', 'semisoft', 'semisweet', 'semolina', 'semolino', 'sen', 'sencha', 'sendai', 'senna', 'sensations', 'sense', 'sensitive', 'sent', 'separate', 'separated', 'separately', 'separator', 'seperated', 'seppie', 'seraring', 'sercial', 'serena', 'serendipity', 'seresin', 'serious', 'seriously', 'serpent', 'serpentini', 'serrano', 'serranos', 'serrated', 'serrrano', 'serve', 'served', 'servered', 'service', 'serviceberries', 'serving', 'servings', 'servintg', 'sesame', 'sespe', 'set', 'sets', 'setting', 'settle', 'settled', 'sev', 'seven', 'sevens', 'several', 'severe', 'seville', 'seviyan', 'sevruga', 'sfq', 'shaarya', 'shabu', 'shad', 'shade', 'shades', 'shado', 'shadow', 'shagbark', 'shahi', 'shake', 'shaken', 'shaker', 'shakers', 'shakes', 'shaking', 'shakka', 'shall', 'shallot', 'shallots', 'shallow', 'shame', 'shandong', 'shanghai', 'shanghainese', 'shank', 'shankless', 'shanks', 'shannon', 'shanton', 'shao', 'shaohsing', 'shaoshing', 'shaosing', 'shaoxing', 'shape', 'shaped', 'shaped_coeur', 'shapes', 'shaping', 'shards', 'sharffen', 'shari', 'shark', 'sharlyn', 'sharp', 'sharpened', 'sharpest', 'sharpness', 'shasha', 'shave', 'shaved', 'shaven', 'shaver', 'shaving', 'shavings', 'shavingw', 'shawarma', 'shears', 'sheath', 'sheba', 'shed', 'sheep', 'sheepherding', 'sheeps', 'sheepshead', 'sheer', 'sheet', 'sheets', 'sheiks', 'shelburne', 'shelby', 'shelf', 'shell', 'shelled', 'shellfish', 'shelling', 'shells', 'shemeji', 'shenandoah', 'shephard', 'shepherd', 'sherbert', 'sherbet', 'sherry', 'shi', 'shichimi', 'shield', 'shigoku', 'shiitake', 'shiitakes', 'shiitaké', 'shilling', 'shimeji', 'shimmery', 'shims', 'shiméji', 'shin', 'shinbone', 'shine', 'shiner', 'shingles', 'shingo', 'shins', 'shinshu', 'shiny', 'ship', 'shipped', 'shipping', 'shir', 'shiracca', 'shirakiku', 'shirataki', 'shiraz', 'shiro', 'shishito', 'shiso', 'shitake', 'shitakes', 'shittake', 'shlivovitz', 'shoa', 'shoaxing', 'shochu', 'shock', 'shocked', 'shoe', 'shoepeg', 'shoestring', 'shoestrings', 'shoga', 'shoot', 'shoots', 'shop', 'shopped', 'shopping', 'shops', 'shopsmart', 'shore', 'short', 'shortbread', 'shortbreads', 'shortcake', 'shortcakes', 'shortcrust', 'shortcut', 'shortcuts', 'shorten', 'shortening', 'shorter', 'shortgrain', 'shortribs', 'shortway', 'shot', 'shots', 'shoulder', 'shoulders', 'shovel', 'shovels', 'show', 'shower', 'showing', 'shoyu', 'shreaded', 'shred', 'shredded', 'shredder', 'shredding', 'shreds', 'shrimp', 'shrimps', 'shrimpshells', 'shrink', 'shriracha', 'shropshire', 'shrub', 'shrubb', 'shu', 'shucked', 'shumai', 'shungiku', 'shurley', 'shwarma', 'shy', 'siberian', 'sic', 'sichimi', 'sichuan', 'sicilia', 'sicilian', 'siciliano', 'side', 'sided', 'sides', 'sidra', 'sierra', 'sieve', 'sieved', 'siew', 'sift', 'sifted', 'sifter', 'sifting', 'sign', 'signature', 'silan', 'silicone', 'silk', 'silked', 'silken', 'silks', 'silky', 'silly', 'silpain', 'silpat', 'silpats', 'silvana', 'silver', 'silverbeet', 'silvered', 'silverside', 'silverskin', 'silverware', 'similar', 'similarly', 'simmer', 'simmered', 'simmering', 'simple', 'simplest', 'simplot', 'simply', 'simplynature', 'simulation', 'simón', 'sin', 'since', 'sinew', 'sinews', 'sing', 'singed', 'singing', 'single', 'singles', 'sini', 'siphon', 'sipping', 'sir', 'siracha', 'sirah', 'sirena', 'sirloin', 'sirloins', 'sirop', 'sister', 'sit', 'site', 'sites', 'sits', 'situations', 'siu', 'six', 'sixounce', 'sixteen', 'sixths', 'sixty', 'size', 'sized', 'sizes', 'skane', 'skate', 'skeins', 'skeletons', 'skewed', 'skewer', 'skewered', 'skewering', 'skewers', 'ski', 'skillet', 'skillets', 'skim', 'skimmed', 'skimmer', 'skimmings', 'skin', 'skinless', 'skinned', 'skinny', 'skins', 'skinsv', 'skip', 'skipped', 'skipping', 'skippy', 'skirt', 'skirts', 'skittles', 'skor', 'skordalia', 'sky', 'skyline', 'skymeals', 'skyy', 'slab', 'slabs', 'slacken', 'slaked', 'slant', 'slanting', 'slap', 'slashes', 'slashing', 'slat', 'slate', 'slather', 'slathering', 'slaughtered', 'slaw', 'sleeve', 'sleeves', 'slender', 'slice', 'sliceable', 'sliced', 'slicer', 'slices', 'slicied', 'slicing', 'slide', 'slided', 'slider', 'sliders', 'slight', 'slightly', 'slim', 'slimy', 'slipped', 'slipper', 'slippery', 'slit', 'slits', 'sliver', 'slivered', 'slivers', 'slivovitz', 'slivowitz', 'sloe', 'sloping', 'sloppy', 'slotted', 'slow', 'slowly', 'slump', 'slurry', 'slush', 'slushes', 'smack', 'smacks', 'small', 'smaller', 'smallest', 'smallish', 'smart', 'smarter', 'smarties', 'smash', 'smashed', 'smeared', 'smearing', 'smell', 'smells', 'smelt', 'smelts', 'smen', 'smh', 'smidgen', 'smirnoff', 'smith', 'smithfield', 'smiths', 'smoke', 'smoked', 'smokehaus', 'smokehouse', 'smoker', 'smokes', 'smokey', 'smokie', 'smokier', 'smokies', 'smokin', 'smokiness', 'smoking', 'smokra', 'smoky', 'smooth', 'smoothed', 'smoothes', 'smoothie', 'smoothies', 'smoothly', 'smother', 'smothered', 'smucker', 'smuckers', 'smyrna', 'snack', 'snacks', 'snags', 'snail', 'snails', 'snake', 'snakehead', 'snakeroot', 'snakes', 'snap', 'snapped', 'snapper', 'snappers', 'snapping', 'snapple', 'snappper', 'snappy', 'snaps', 'snatching', 'snicker', 'snickerdoodle', 'snickers', 'snip', 'snipped', 'snippets', 'snipping', 'snips', 'sno', 'snook', 'snout', 'snow', 'snowball', 'snowdrop', 'snowflake', 'snowman', 'snowpea', 'snowpeas', 'snowy', 'snyder', 'soak', 'soaked', 'soaking', 'soaks', 'soave', 'soba', 'sobrasada', 'sochu', 'social', 'société', 'sockeye', 'soda', 'sode', 'sodium', 'sofia', 'sofra', 'sofrito', 'soft', 'softasilk', 'softball', 'soften', 'softened', 'softenend', 'softer', 'softly', 'softshell', 'soggy', 'soho', 'soi', 'soju', 'solar', 'sold', 'soldier', 'soldiers', 'sole', 'solera', 'soles', 'solid', 'solidified', 'solidify', 'solidly', 'solidpack', 'solids', 'solo', 'solomonov', 'soluble', 'solution', 'sombra', 'somen', 'something', 'sometimes', 'somewhat', 'somewhere', 'son', 'sonoma', 'sons', 'soochong', 'sooji', 'sooks', 'soom', 'soon', 'sop', 'sopa', 'sopes', 'sopping', 'soppresata', 'soppresatta', 'soppressata', 'soprafina', 'soprasata', 'soprassata', 'sopresatta', 'sopressata', 'sorbet', 'sorbets', 'sorbetto', 'sorbitol', 'sorghum', 'sorrel', 'sorrento', 'sort', 'sorted', 'sortilège', 'sorts', 'sosa', 'sottocenare', 'sottocenere', 'soubise', 'souchang', 'souchong', 'souffle', 'souffles', 'soufflé', 'souflle', 'soul', 'sound', 'sounds', 'soup', 'soups', 'soupspoon', 'soupspoons', 'soupy', 'sour', 'sourball', 'source', 'sources', 'sourdough', 'soured', 'sours', 'soursop', 'sourwood', 'sous', 'south', 'southeast', 'southern', 'southside', 'southwest', 'southwestern', 'souvlaki', 'soy', 'soya', 'soybean', 'soybeans', 'soymilk', 'sozan', 'spa', 'space', 'spaetzle', 'spaetzlemaker', 'spagettini', 'spaghetti', 'spaghettini', 'spagna', 'spago', 'spain', 'spam', 'spamcetta', 'spamrizo', 'spanish', 'spanishtable', 'spare', 'spareribs', 'sparingly', 'sparking', 'sparkle', 'sparkler', 'sparkling', 'sparkly', 'spartan', 'spash', 'spatchcock', 'spatchcocked', 'spatlese', 'spatula', 'spatulas', 'spatzle', 'speak', 'spear', 'spearmint', 'spears', 'special', 'speciality', 'specially', 'specials', 'specialties', 'specialty', 'species', 'specific', 'specified', 'speck', 'speckled', 'specs', 'spectrum', 'spectrumorganics', 'speculoos', 'speed', 'speedway', 'speedy', 'spell', 'spelt', 'spent', 'spezzatino', 'sphere', 'spheres', 'spherical', 'spherification', 'spice', 'spicebarn', 'spiced', 'spices', 'spicier', 'spiciness', 'spicy', 'spider', 'spiders', 'spidini', 'spiedie', 'spies', 'spike', 'spiked', 'spikes', 'spiking', 'spilt', 'spin', 'spinach', 'spinachspaetzle', 'spinaci', 'spine', 'spines', 'spinich', 'spinner', 'spiny', 'spiral', 'spiraled', 'spiralized', 'spirals', 'spire', 'spirit', 'spirited', 'spirits', 'spiru', 'spirulina', 'spit', 'splash', 'splashes', 'splenda', 'split', 'spoil', 'sponge', 'spongecake', 'sponged', 'spongy', 'spontaneity', 'spookie', 'spoon', 'spoonable', 'spoonechocolated', 'spooned', 'spoonful', 'spoonfuls', 'spoons', 'sport', 'sports', 'spot', 'spots', 'spotted', 'spotty', 'spout', 'spouts', 'spray', 'sprayc', 'sprayed', 'spraying', 'sprays', 'spread', 'spreadable', 'spreadables', 'spreading', 'spree', 'sprig', 'sprightly', 'sprigs', 'spring', 'springform', 'springroll', 'springs', 'springwater', 'sprinking', 'sprinkle', 'sprinkled', 'sprinkles', 'sprinkling', 'sprite', 'spritz', 'spritzed', 'spritzer', 'spritzing', 'sprout', 'sprouted', 'sprouting', 'sprouts', 'spuds', 'spumante', 'spumanti', 'spun', 'spy', 'sqeezed', 'squab', 'squabs', 'squacquerone', 'square', 'squared', 'squares', 'squash', 'squashed', 'squashes', 'squat', 'squeezable', 'squeeze', 'squeezed', 'squeezes', 'squeezing', 'squezed', 'squid', 'squidge', 'squidges', 'squids', 'squirrelfish', 'squirrelly', 'squirrels', 'squirt', 'squirting', 'squirts', 'squish', 'squishable', 'sri', 'sriacha', 'sriracha', 'srirachi', 'ssticks', 'ssupermarkets', 'ssäm', 'ssämjang', 'st', 'stabilize', 'stabilizer', 'stabilizers', 'stabilizing', 'stable', 'staccotisso', 'stack', 'stackable', 'stacked', 'stackers', 'stacks', 'stacy', 'stage', 'stainless', 'staked', 'stale', 'staled', 'stalk', 'stalks', 'stalky', 'stamen', 'stamens', 'stamp', 'stamping', 'stamps', 'stand', 'standard', 'standing', 'stands', 'star', 'starbucks', 'starburst', 'starbursts', 'starch', 'starchiness', 'starchy', 'starfruit', 'starkist', 'starlight', 'starr', 'stars', 'start', 'started', 'starter', 'starters', 'starting', 'state', 'states', 'stay', 'staybrite', 'stayman', 'steady', 'steak', 'steaked', 'steakhouse', 'steakhunter', 'steaks', 'steaky', 'steal', 'steam', 'steamcrisp', 'steamed', 'steamer', 'steamers', 'steamfresh', 'steaming', 'steel', 'steelhead', 'steels', 'steen', 'steep', 'steeped', 'steeping', 'steer', 'stella', 'stellini', 'stem', 'stemed', 'stemmed', 'stems', 'stencil', 'stenciling', 'stencils', 'step', 'stephanie', 'sterile', 'sterilized', 'sterling', 'sternum', 'steve', 'stevia', 'stew', 'stewed', 'stewing', 'stews', 'stick', 'sticker', 'stickers', 'stickiness', 'sticking', 'sticklike', 'sticks', 'sticky', 'stiff', 'stiffer', 'stiffly', 'stifly', 'still', 'stilton', 'stinging', 'stinky', 'stir', 'stirred', 'stirrer', 'stirrers', 'stirring', 'stirrings', 'stix', 'stoc', 'stocca', 'stock', 'stocked', 'stockers', 'stockfish', 'stockpot', 'stockpots', 'stocks', 'stolen', 'stoli', 'stolichnaya', 'stomach', 'stone', 'stoned', 'stonefruit', 'stoneground', 'stonemill', 'stones', 'stonewall', 'stonyfield', 'stop', 'storage', 'store', 'storebought', 'stored', 'stores', 'storing', 'stormy', 'stouffers', 'stout', 'stoutbeer', 'stove', 'stovetop', 'straccetti', 'stracchino', 'stracciatella', 'straciatella', 'straight', 'strain', 'strained', 'strainer', 'strainers', 'straining', 'strand', 'strands', 'strap', 'strasbourg', 'strauss', 'straw', 'strawberries', 'strawberry', 'straws', 'stray', 'streaky', 'stream', 'streamers', 'streaming', 'street', 'strega', 'strength', 'strengths', 'stretched', 'stretcher', 'stretching', 'streusel', 'strictly', 'strike', 'string', 'stringed', 'stringless', 'strings', 'stringy', 'strip', 'stripe', 'striped', 'striper', 'stripes', 'striploin', 'stripped', 'stripping', 'strips', 'stroganoff', 'stroke', 'strong', 'strongbow', 'stronger', 'strongly', 'strozzapreti', 'strozzopretti', 'strudel', 'strudels', 'struffoli', 'strung', 'stubb', 'stubbs', 'stuck', 'studded', 'studding', 'studs', 'stuf', 'stuff', 'stuffed', 'stuffer', 'stuffin', 'stuffing', 'stumps', 'stumptown', 'sturdily', 'sturdy', 'sturgeon', 'stutzman', 'style', 'stylebreadcrumbs', 'styled', 'styles', 'styrofoam', 'su', 'suagr', 'sub', 'submarine', 'submerge', 'submerged', 'subs', 'subsitiuted', 'substance', 'substitite', 'substitiute', 'substituded', 'substitute', 'substituted', 'substitutes', 'substitution', 'substitutions', 'subtle', 'sucanant', 'sucanat', 'success', 'successfully', 'succotash', 'suchi', 'suckers', 'suckin', 'sucking', 'suckling', 'sucralose', 'sucre', 'sucree', 'sucrie', 'sucrolose', 'sucrose', 'sucrée', 'sucuk', 'suet', 'sueu', 'sueur', 'suffice', 'sufficiently', 'suga', 'sugaar', 'sugar', 'sugarcane', 'sugarcoated', 'sugarcraft', 'sugared', 'sugaring', 'sugarless', 'sugarplum', 'sugars', 'sugartwin', 'sugarworks', 'sugei', 'suggest', 'suggested', 'suggestion', 'suggestions', 'suggests', 'sugo', 'sui', 'suisse', 'suit', 'suitable', 'suits', 'suji', 'sukhi', 'sukiyaki', 'sulfur', 'sulmitti', 'sultana', 'sultanas', 'sum', 'sumac', 'sumakh', 'summer', 'summersweet', 'summery', 'sun', 'sunburst', 'sunchoke', 'sunchokes', 'sundae', 'sundaes', 'sunday', 'sundried', 'suneli', 'sunflower', 'sung', 'sungold', 'sunny', 'sunnyd', 'sunomono', 'sunrise', 'sunset', 'sunshine', 'sunsweet', 'suntan', 'suntory', 'sup', 'super', 'superfine', 'superfino', 'superior', 'superiortouch', 'supermakets', 'supermarket', 'supermarkets', 'supermoist', 'superpremium', 'supersized', 'supersweet', 'supper', 'supplement', 'supplemented', 'supplier', 'suppliers', 'supplies', 'supply', 'support', 'supreme', 'supremed', 'supremes', 'supremo', 'suprêmes', 'sur', 'sure', 'surface', 'surfaces', 'surfing', 'surgical', 'suribachi', 'surimi', 'surlatable', 'surprise', 'surprising', 'surrounded', 'surrounding', 'surry', 'sushi', 'susie', 'sustainability', 'sustainable', 'sustainably', 'sutffed', 'sutter', 'sutton', 'suze', 'suzette', 'suzie', 'svedka', 'sw', 'swad', 'swai', 'swamp', 'swan', 'swans', 'swanson', 'swansons', 'swap', 'swatch', 'swaure', 'sweat', 'sweated', 'sweating', 'swedes', 'swedish', 'sweep', 'sweeping', 'sweet', 'sweetastic', 'sweetbread', 'sweetbreads', 'sweeten', 'sweetened', 'sweetener', 'sweetening', 'sweeter', 'sweetex', 'sweetgrass', 'sweetned', 'sweetner', 'sweetness', 'sweets', 'sweety', 'swimmer', 'swirl', 'swirled', 'swirling', 'swirls', 'swirly', 'swise', 'swiss', 'swissroll', 'switzerland', 'swivel', 'swizzle', 'swizzles', 'swordfish', 'swordlike', 'swords', 'sylvia', 'symmetrical', 'syphon', 'syrah', 'syrian', 'syrup', 'syrupepi', 'syrups', 'syrupy', 'sysco', 'szechuan', 'szechwan', 'szeged', 'szegedy', 'szu', 'taaka', 'tab', 'tabasco', 'tabb', 'tabbouleh', 'tabelspoon', 'tabil', 'table', 'tableapoons', 'tablebspoon', 'tablebspoons', 'tablecloth', 'tablepoon', 'tablepoons', 'tablepsoon', 'tablepsoons', 'tables', 'tablesalt', 'tablesepoon', 'tablesoon', 'tablesoons', 'tablesooon', 'tablespan', 'tablespons', 'tablespoona', 'tablespooncandied', 'tablespoonclarified', 'tablespoonfresh', 'tablespoonful', 'tablespoonfuls', 'tablespoonroom', 'tablespoonsbanana', 'tablespoonsbutter', 'tablespoonscanola', 'tablespoonsesame', 'tablespoonsfinely', 'tablespoonsgranulated', 'tablespoonsimple', 'tablespoonsketchup', 'tablespoonsmirin', 'tablespoonsn', 'tablespoonspine', 'tablespoonss', 'tablespoonssesame', 'tablespoonssorghum', 'tablespoonsunsalted', 'tablespooon', 'tablespooons', 'tablespoosn', 'tablet', 'tablets', 'tablspoon', 'tablspoons', 'tabs', 'tac', 'taco', 'tacos', 'tacs', 'tact', 'taffy', 'tagalongs', 'tagarin', 'taggascia', 'taggiasca', 'tagiatelle', 'tagine', 'tagliardi', 'tagliarelle', 'tagliarini', 'tagliatelle', 'tagliolini', 'tags', 'taha', 'tahdig', 'tahina', 'tahini', 'tahitian', 'tai', 'tail', 'tailed', 'tailgator', 'tails', 'taiwanese', 'taj', 'tajin', 'tajín', 'take', 'taken', 'takeout', 'takes', 'tako', 'takuan', 'talapia', 'talavera', 'taleggio', 'talk', 'tall', 'tallegio', 'tallman', 'tallow', 'tally', 'tam', 'tamal', 'tamale', 'tamales', 'tamari', 'tamarillo', 'tamarillos', 'tamarind', 'tamarinds', 'tamazula', 'tame', 'tamicon', 'tamis', 'tamp', 'tan', 'tandoori', 'tang', 'tangelo', 'tangelos', 'tangerine', 'tangerines', 'tangeringes', 'tango', 'tanguary', 'tangy', 'tank', 'tannic', 'tanqueray', 'tant', 'tap', 'tapanade', 'tapatio', 'tape', 'tapenade', 'tapered', 'tapestry', 'tapioca', 'tapped', 'taquitos', 'taragna', 'taragon', 'tarama', 'taramasalata', 'tarantulas', 'tarator', 'tarbais', 'tardio', 'tardivo', 'target', 'tarka', 'taro', 'taros', 'tarp', 'tarragon', 'tarro', 'tart', 'tartar', 'tartare', 'tartaric', 'tartelette', 'tarter', 'tartine', 'tartlet', 'tartlett', 'tartness', 'tarts', 'tartufo', 'tasajo', 'tasmania', 'tasmanian', 'tasse', 'tasso', 'tast', 'taste', 'tasted', 'tastefresh', 'tastefully', 'taster', 'tasters', 'tastes', 'tastier', 'tasting', 'tastings', 'tasty', 'tastykake', 'tat', 'tate', 'tater', 'tates', 'tatse', 'tatsoi', 'tatuma', 'tau', 'taupiniere', 'taurasi', 'tavern', 'tawa', 'tawny', 'taylor', 'taza', 'tazo', 'tb', 'tbls', 'tbps', 'tbs', 'tbsp', 'tbsps', 'tea', 'teaaspoon', 'teabag', 'teabags', 'teacher', 'teacups', 'teadpoons', 'teapoon', 'teapot', 'teapsoon', 'teapsoons', 'teaque', 'tear', 'teardrop', 'tearing', 'teas', 'teasoon', 'teasoons', 'teasopoon', 'teaspon', 'teasponns', 'teaspons', 'teaspoom', 'teaspoondijon', 'teaspooned', 'teaspoonfenugreek', 'teaspoonfreshly', 'teaspoonfuls', 'teaspoonj', 'teaspooon', 'teaspooons', 'teaspsoon', 'tecate', 'technically', 'technique', 'teddy', 'teeny', 'teeth', 'teff', 'teflon', 'tehina', 'tein', 'tejava', 'tel', 'teleme', 'telera', 'teleras', 'tellicherry', 'telme', 'temp', 'tempeh', 'temper', 'temperatur', 'temperature', 'temperatured', 'temperatures', 'tempere', 'tempered', 'tempering', 'template', 'templates', 'temple', 'temporarily', 'temptin', 'tempura', 'ten', 'tender', 'tenderflake', 'tenderized', 'tenderizer', 'tenderizing', 'tenderlions', 'tenderloin', 'tenderloins', 'tenderness', 'tenders', 'tendon', 'tendons', 'tendril', 'tendrils', 'tends', 'tenkasu', 'tennessee', 'tennet', 'tenneyson', 'tennis', 'tentacles', 'tenticles', 'teotitlán', 'teow', 'tepid', 'tequila', 'tequilla', 'teres', 'teriyaki', 'terlingua', 'terra', 'terracotta', 'terrasonoma', 'terrific', 'terrine', 'terry', 'tesoro', 'tespoon', 'test', 'testa', 'tester', 'testicles', 'testing', 'tetilla', 'tex', 'texas', 'texmati', 'texture', 'textured', 'textures', 'texturize', 'texturized', 'tg', 'tgi', 'th', 'thai', 'thailand', 'thanksgiving', 'thassos', 'thaw', 'thawed', 'thawedfrom', 'thawing', 'theatre', 'thebaking', 'theme', 'themed', 'therefore', 'thermidor', 'thermometer', 'thermos', 'thespicehouse', 'thick', 'thicken', 'thickened', 'thickener', 'thickeners', 'thickening', 'thicker', 'thickest', 'thickly', 'thickness', 'thickslices', 'thigh', 'thighbone', 'thighs', 'thily', 'thimble', 'thin', 'thing', 'things', 'think', 'thinluy', 'thinly', 'thinlysliced', 'thinned', 'thinner', 'thinnest', 'thinning', 'thins', 'third', 'thirds', 'thirty', 'thof', 'thomas', 'thompson', 'thoor', 'thorns', 'thorny', 'thoroughly', 'though', 'thoureads', 'thousand', 'thread', 'threaded', 'threadfin', 'threadlike', 'threads', 'three', 'throughly', 'throughout', 'throw', 'ths', 'thumb', 'thumbelina', 'thumbnail', 'thumbs', 'thyme', 'thymeepi', 'thymeor', 'thymes', 'ti', 'tia', 'tiamaria', 'tiare', 'tic', 'tidbits', 'tie', 'tied', 'tiedcornstarch', 'tienda', 'tiers', 'ties', 'tiga', 'tigadege', 'tiger', 'tight', 'tighten', 'tightly', 'tikka', 'til', 'tilapia', 'tilda', 'tile', 'tilefish', 'tiles', 'till', 'tillamook', 'tillen', 'tilt', 'timbale', 'timbales', 'time', 'timer', 'times', 'timmed', 'tin', 'tines', 'tinfoil', 'ting', 'tinkyada', 'tinned', 'tinny', 'tins', 'tinted', 'tinting', 'tinto', 'tiny', 'tio', 'tip', 'tiparos', 'tipo', 'tipped', 'tips', 'tiramisu', 'tiramisù', 'tire', 'tires', 'tissue', 'tissues', 'titanfood', 'tito', 'tk', 'tm', 'tma', 'toast', 'toasted', 'toastedcoarsely', 'toastedcooled', 'toastedepi', 'toastedin', 'toaster', 'toasting', 'toasts', 'toated', 'tobacco', 'toban', 'tobanjan', 'tobarashi', 'tobasco', 'tobbiko', 'tobiko', 'tobler', 'toblerone', 'today', 'todd', 'toe', 'toenjang', 'toes', 'toffee', 'tofu', 'tofutti', 'togarashi', 'togerashi', 'together', 'toi', 'tojolote', 'tokai', 'tokay', 'tokyo', 'tolerance', 'tolerant', 'toll', 'tollhouse', 'tolstoi', 'tom', 'tomahawk', 'tomalley', 'tomao', 'tomat', 'tomates', 'tomatillas', 'tomatillo', 'tomatillos', 'tomato', 'tomatoes', 'tomatos', 'tombstones', 'tomme', 'tommy', 'tomoatoes', 'tomolives', 'tomorrow', 'tomotillos', 'tomyo', 'ton', 'tonatto', 'tone', 'tones', 'tonette', 'toney', 'tong', 'tongs', 'tongue', 'tongues', 'tonic', 'tonka', 'tonkatsu', 'tonnarelli', 'tonnino', 'tony', 'toogarashi', 'tool', 'tools', 'toor', 'tooth', 'toothpick', 'toothpicks', 'tootsie', 'toovar', 'toover', 'top', 'topfen', 'topika', 'topiko', 'topneck', 'topped', 'topper', 'toppers', 'topping', 'toppings', 'tops', 'toraji', 'torani', 'torch', 'torched', 'torchon', 'torino', 'torn', 'tornup', 'toro', 'toros', 'torpedo', 'torre', 'torrentes', 'torrone', 'torrontes', 'torta', 'tortas', 'torte', 'tortelli', 'tortellini', 'tortelloni', 'tortiglioni', 'tortilla', 'tortillas', 'tortoni', 'tortue', 'tosaka', 'tosazu', 'toscano', 'toschi', 'toss', 'tossed', 'tossing', 'tossingg', 'tostada', 'tostadas', 'tostaditas', 'tostado', 'tostidos', 'tostito', 'tostitos', 'tostonera', 'total', 'totaling', 'totally', 'totani', 'totillas', 'tots', 'totsoi', 'touch', 'tough', 'toughest', 'toulouse', 'toum', 'tournedos', 'tournee', 'tourneed', 'towel', 'toweling', 'towels', 'town', 'townhouse', 'townline', 'townsend', 'toxic', 'trablit', 'trace', 'traces', 'track', 'trader', 'tradicional', 'trading', 'tradition', 'traditional', 'traditionally', 'tradizionale', 'tragacanth', 'trahana', 'trail', 'trang', 'trans', 'transfat', 'transfer', 'transfers', 'translation', 'translucent', 'transparent', 'trapani', 'trapping', 'trappist', 'traviso', 'tray', 'trays', 'treacle', 'treasure', 'treat', 'treated', 'treating', 'treats', 'trebbiano', 'tree', 'treetop', 'trefoil', 'tremblaye', 'tremor', 'trenette', 'trenne', 'tres', 'tresfoil', 'trevisano', 'treviso', 'tri', 'triangle', 'triangles', 'triangular', 'tribe', 'trick', 'tricked', 'tricolor', 'tricolored', 'tried', 'trifle', 'triggerfish', 'triglyceride', 'trigo', 'trillado', 'trim', 'trimmed', 'trimmedand', 'trimming', 'trimmings', 'trimolene', 'trimoline', 'trinidad', 'trinity', 'trio', 'trip', 'tripe', 'tripel', 'triple', 'triplesec', 'tripoline', 'tripolini', 'triscuit', 'triscuits', 'trisha', 'triticale', 'trockenbeerenauslese', 'trois', 'trompe', 'trompette', 'trompettes', 'tropea', 'tropical', 'tropicana', 'trotter', 'trotters', 'trouble', 'trout', 'true', 'truffle', 'truffled', 'truffles', 'truffleyaki', 'truly', 'trumpet', 'trumpets', 'trumps', 'trung', 'trungnguyen', 'trunks', 'truroots', 'trussed', 'trusted', 'truth', 'truvia', 'try', 'tsai', 'tsang', 'tsatsiki', 'tsp', 'tsps', 'tteok', 'tuaca', 'tub', 'tubatini', 'tube', 'tubers', 'tubes', 'tubetini', 'tubetinni', 'tubetti', 'tubettini', 'tubs', 'tubular', 'tuck', 'tuckaway', 'tucked', 'tuile', 'tuiles', 'tulip', 'tulips', 'tumbler', 'tumeric', 'tuna', 'tune', 'tung', 'tunisian', 'tuong', 'tupelo', 'tupperware', 'tur', 'turban', 'turbinado', 'turbinando', 'turbodog', 'turbot', 'turducken', 'tureen', 'turkey', 'turkeys', 'turkish', 'turmeric', 'turn', 'turned', 'turning', 'turnip', 'turnips', 'turnover', 'turnovers', 'turnpike', 'turns', 'turntable', 'turtle', 'tuscan', 'tuscany', 'tutto', 'tuttopan', 'tuttorosso', 'tuvar', 'tvp', 'tweezers', 'twelve', 'twenty', 'twice', 'twig', 'twigs', 'twin', 'twine', 'twining', 'twinkies', 'twist', 'twisted', 'twisting', 'twists', 'twix', 'twizzler', 'twizzlers', 'two', 'tying', 'tyj', 'type', 'types', 'typically', 'tyson', 'tzatziki', 'tìa', 'tía', 'tõgarashi', 'ube', 'udi', 'udon', 'ugy__', 'uhr', 'uhu', 'uk', 'ukranian', 'uku', 'ulek', 'ultimate', 'ultimates', 'ultra', 'ultracreamy', 'ultragrain', 'ultrapasteurized', 'ultratex', 'ultrathin', 'umbels', 'umbrella', 'umbrellas', 'umbrian', 'ume', 'umeboshi', 'un', 'una', 'unable', 'unaged', 'unagi', 'unappetizing', 'unavailable', 'unbaked', 'unbeaten', 'unblanched', 'unbleached', 'unblemished', 'unbroken', 'unbromated', 'uncertain', 'unchopped', 'uncle', 'uncleaned', 'uncoated', 'unconverted', 'uncooked', 'uncored', 'uncovered', 'uncracked', 'uncured', 'uncut', 'undamaged', 'undecorated', 'undercooked', 'underripe', 'undiluted', 'undrained', 'undyed', 'uneeda', 'unenriched', 'uneven', 'unexpected', 'unfilled', 'unfiltered', 'unflavored', 'unfold', 'unfolded', 'unfrosted', 'unglazed', 'ungreased', 'unheated', 'unhulled', 'unhusked', 'unhydrogenated', 'uni', 'uniform', 'uniformly', 'uniq', 'unique', 'united', 'units', 'univer', 'unless', 'unlike', 'unmelted', 'unmolded', 'unmolding', 'unopened', 'unpacked', 'unpasteurized', 'unpeeled', 'unpicked', 'unpitted', 'unpopped', 'unprepared', 'unprocessed', 'unrefined', 'unrinsed', 'unripe', 'unripened', 'unrisen', 'unroasted', 'unroll', 'unrolled', 'unsalted', 'unscaled', 'unscented', 'unseasoned', 'unseeded', 'unseparated', 'unsettling', 'unshelled', 'unshucked', 'unsifted', 'unskinned', 'unsliced', 'unsmoked', 'unsoaked', 'unsplit', 'unsprayed', 'unssalted', 'unstuffed', 'unsulfered', 'unsulfured', 'unsulphered', 'unsulphured', 'unsweeted', 'unsweetend', 'unsweetened', 'untempered', 'unthawed', 'untied', 'untoasted', 'untorn', 'untreated', 'untrimmed', 'unused', 'unusual', 'unwanted', 'unwashed', 'unwaxed', 'unwrap', 'unwrapped', 'unwrinkled', 'unzested', 'upholstery', 'upland', 'uplandscheese', 'upon', 'upper', 'upright', 'ups', 'upscale', 'upside', 'uptown', 'urad', 'urbani', 'urchin', 'urchins', 'urfa', 'us', 'usable', 'usda', 'use', 'used', 'uses', 'using', 'usingers', 'usli', 'uster', 'usually', 'usukuchi', 'utah', 'utensils', 'utes', 'utility', 'utskho', 'utz', 'uv', 'uwajimaya', 'vaca', 'vaccuum', 'vacherin', 'vacu', 'vacuum', 'vadouvan', 'vahlrohna', 'vahlrona', 'val', 'valdeon', 'valdeón', 'valencay', 'valencia', 'valenciana', 'valentina', 'valentine', 'valerian', 'valhrona', 'vali', 'valle', 'valley', 'valor', 'valpolicella', 'valrhona', 'valrohna', 'value', 'vampire', 'van', 'vandermint', 'vanil', 'vanilla', 'vanille', 'varenikes', 'vareniki', 'vareniky', 'varenyky', 'variant', 'variation', 'variations', 'variegated', 'varies', 'varietal', 'varietals', 'varieties', 'variety', 'various', 'vark', 'vary', 'varying', 'vase', 'vaseline', 'vases', 'vasterbotten', 'vaurenwurst', 'vay', 'veal', 'veau', 'veaukosher', 'vecchio', 'veev', 'veg', 'vega', 'vegan', 'veganaise', 'vegannaise', 'vegata', 'vegemite', 'vegenaise', 'vegesal', 'vegeta', 'vegetable', 'vegetables', 'vegetarian', 'veggie', 'veggies', 'vegi', 'vegoladas', 'vein', 'veined', 'veins', 'veiny', 'veloute', 'velouté', 'veltliner', 'velveeta', 'velvet', 'velveta', 'velvety', 'venda', 'vendor', 'venezuelan', 'venice', 'venise', 'venison', 'venom', 'vent', 'ventreche', 'ventresca', 'ventrèche', 'venus', 'ver', 'vera', 'veracruz', 'verbena', 'verde', 'verdejo', 'verdelho', 'verdes', 'verdicchio', 'verges', 'verify', 'verjuice', 'verjus', 'vermentino', 'vermicelli', 'vermont', 'vermoth', 'vermouth', 'vernis', 'vernors', 'vero', 'verona', 'veronese', 'versa', 'versawhip', 'version', 'vert', 'verte', 'vertical', 'vertically', 'verts', 'vessel', 'vessels', 'vezzena', 'vh', 'via', 'vial', 'vialone', 'viande', 'vibrant', 'vic', 'vichy', 'victor', 'victoria', 'victorias', 'vidahlia', 'vidal', 'vidalia', 'vidalias', 'vidallia', 'vide', 'vie', 'vienna', 'viennese', 'vietnamese', 'vietti', 'vieux', 'vigin', 'vignettes', 'vigo', 'vigorously', 'vikos', 'village', 'vin', 'vinagre', 'vinagreta', 'vinagrette', 'vinaigrette', 'vinci', 'vincotto', 'vindaloo', 'vine', 'vineagar', 'vined', 'vinegar', 'vinegared', 'vinegary', 'vinegrar', 'vinegrette', 'vineripe', 'vineripened', 'vines', 'vineyard', 'vingear', 'vinho', 'vinigar', 'vino', 'vintage', 'vintners', 'viognier', 'violas', 'violet', 'violets', 'violette', 'virgin', 'virginia', 'virginiatraditions', 'virigin', 'viscera', 'visible', 'visit', 'vita', 'vital', 'vitalicious', 'vitamin', 'vitaminutes', 'vitamix', 'vitar', 'vitatops', 'viura', 'vivi', 'vlahotyri', 'vlasic', 'vmh', 'vodka', 'vol', 'vollrath', 'volta', 'volume', 'vongole', 'voodoo', 'vosges', 'voskos', 'vs', 'vsop', 'vya', 'västerbotten', 'waan', 'wabo', 'wadi', 'wadmalaw', 'wafer', 'wafers', 'waffle', 'waffles', 'wages', 'wagon', 'wagyu', 'wah', 'wahoo', 'waipio', 'wait', 'waiting', 'wakame', 'walden', 'walker', 'walkers', 'walkerswood', 'wall', 'walla', 'walled', 'wallet', 'walleye', 'walnut', 'walnuts', 'wan', 'wand', 'wangs', 'want', 'wants', 'war', 'warabi', 'warm', 'warmed', 'warmer', 'warming', 'warn', 'warqa', 'warrensburg', 'warrior', 'wasa', 'wasabe', 'wasabi', 'wasatch', 'wasbi', 'wash', 'washcloths', 'washed', 'washing', 'washington', 'waste', 'watch', 'watchers', 'watching', 'water', 'watercolor', 'watercress', 'waterlogged', 'watermelon', 'watermelons', 'waterpacked', 'waterproof', 'waters', 'watery', 'watkins', 'watrecress', 'watson', 'waves', 'wavy', 'wax', 'waxed', 'waxy', 'way', 'wayne', 'ways', 'weak', 'weakfish', 'wear', 'wearing', 'weave', 'weaver', 'web', 'webbing', 'weber', 'weblike', 'webstaurantstore', 'wedding', 'wedge', 'wedged', 'wedges', 'wedgesfor', 'wee', 'weed', 'weeds', 'week', 'weeks', 'weelicious', 'weenies', 'weeny', 'wegmans', 'wehani', 'wehlener', 'weigh', 'weighed', 'weighing', 'weighs', 'weight', 'weighted', 'weighting', 'weights', 'weiner', 'weiners', 'weird', 'weisenberger', 'weisenbergers', 'weisswurst', 'weke', 'welch', 'welfare', 'well', 'wellfleet', 'wells', 'wensleydale', 'wernesgruner', 'werther', 'wesson', 'west', 'western', 'westphalian', 'wet', 'whack', 'whacked', 'whale', 'whatever', 'wheat', 'wheatberries', 'wheatberry', 'wheatgrass', 'wheaties', 'wheatmeal', 'wheats', 'wheel', 'wheels', 'wherever', 'whether', 'whey', 'whichever', 'whip', 'whipped', 'whipping', 'whips', 'whirlfloc', 'whisk', 'whisked', 'whiskey', 'whisking', 'whisky', 'whisper', 'whit', 'white', 'whitebase', 'whitefish', 'whitelily', 'whitener', 'whites', 'whitestriped', 'whitewater', 'whitewine', 'whiting', 'whittled', 'whiz', 'whlpping', 'whole', 'wholechicken', 'wholegrain', 'wholemeal', 'wholemilk', 'wholesome', 'wholespice', 'wholewheat', 'wholle', 'wholly', 'whoopie', 'whoppers', 'wick', 'wicked', 'wickedgoodcharcoal', 'wickham', 'wide', 'widefat', 'widely', 'wider', 'width', 'widths', 'widthwise', 'wiener', 'wieners', 'wienies', 'wiht', 'wilco', 'wild', 'wildfire', 'wildflower', 'wildflowers', 'willamette', 'william', 'williams', 'williamsburg', 'willie', 'willingham', 'willy', 'wilson', 'wilsons', 'wilted', 'wilting', 'wilton', 'wimpy', 'wine', 'wineglass', 'wines', 'winesap', 'winesaps', 'winevinegar', 'wing', 'wingettes', 'wings', 'wingtips', 'wining', 'winning', 'winter', 'wintergreen', 'wip', 'wipe', 'wiped', 'wiping', 'wire', 'wired', 'wisconsin', 'wise', 'wish', 'wishbone', 'wispy', 'witch', 'withered', 'within', 'withjuice', 'without', 'withstand', 'witlofs', 'wok', 'wolf', 'wolfberries', 'wolffer', 'wonder', 'wonderful', 'wonderfully', 'wonders', 'wondra', 'wong', 'wonton', 'wontons', 'wood', 'woodchuck', 'woodcock', 'woodear', 'wooded', 'wooden', 'woodford', 'woodiest', 'woodruff', 'woods', 'woodsy', 'woody', 'woodyard', 'worcestershire', 'worcestershirek', 'worchershire', 'worchester', 'worchestershire', 'worecestershire', 'work', 'worked', 'working', 'works', 'worksurface', 'world', 'worldclass', 'worm', 'worms', 'wormwood', 'worstershire', 'worth', 'would', 'woven', 'wrap', 'wrapped', 'wrapper', 'wrappers', 'wrapping', 'wraps', 'wray', 'wreckfish', 'wright', 'wrinkled', 'writer', 'writing', 'wrote', 'wrung', 'wt', 'wursts', 'wuwei', 'wuyi', 'www', 'wyeast', 'xadbought', 'xadinch', 'xadincluding', 'xadraised', 'xadsized', 'xadvirgin', 'xantham', 'xanthan', 'xanthum', 'xeres', 'ximenez', 'ximénez', 'xinch', 'xing', 'xiong', 'xo', 'xochitl', 'xocolatl', 'xtabentún', 'xuxu', 'xx', 'xylitol', 'ya', 'yabbies', 'yacon', 'yakari', 'yaki', 'yakidofu', 'yakinori', 'yakisoba', 'yam', 'yamasa', 'yamazaki', 'yams', 'yard', 'yards', 'yarrow', 'yautia', 'yautía', 'yazzo', 'year', 'yearling', 'years', 'yearwood', 'yeast', 'yeasts', 'yeasty', 'yee', 'yeild', 'yeilding', 'yellow', 'yellowedge', 'yellowfin', 'yellowfoot', 'yellowish', 'yellows', 'yellowtail', 'yen', 'yerba', 'yes', 'yet', 'yete', 'yia', 'yieh', 'yield', 'yielding', 'yields', 'yodel', 'yoghurt', 'yogi', 'yogurt', 'yok', 'yoke', 'yokes', 'yol', 'yolk', 'yolks', 'yoplait', 'york', 'yorkshire', 'youdon', 'young', 'youprefer', 'yu', 'yuba', 'yuca', 'yucas', 'yucatan', 'yucatecan', 'yucca', 'yucon', 'yuen', 'yuengling', 'yufka', 'yuka', 'yukon', 'yukons', 'yum', 'yummy', 'yuzo', 'yuzu', 'yuzupassion', 'yves', 'za', 'zaanse', 'zaatar', 'zabaglione', 'zacapa', 'zahter', 'zambra', 'zamora', 'zang', 'zanshõ', 'zante', 'zapallo', 'zapper', 'zarame', 'zarda', 'zatar', 'zatarain', 'zatarains', 'zatarian', 'zaâtar', 'zealand', 'zebra', 'zebras', 'zen', 'zentini', 'zereshk', 'zergüt', 'zero', 'zes', 'zest', 'zested', 'zestepi', 'zester', 'zesting', 'zests', 'zestthy', 'zesty', 'zhoug', 'zibibbo', 'zico', 'zin', 'zinfandel', 'zinfindel', 'zing', 'zinger', 'zingermans', 'zings', 'zip', 'ziti', 'zombie', 'zone', 'zoo', 'zubrowka', 'zucchini', 'zucchinis', 'zuchinni', 'zutano', 'zweiback', 'zwieback', 'ángel', 'árbol', 'ème', 'épices', 'éspices', 'ñame', 'ño', 'úa', 'źrbol', 'ﬁne', 'ﬁnely', 'ﬂour']\n"
     ]
    }
   ],
   "source": [
    "corpus = data_ingr\n",
    "ct_vec = CountVectorizer(stop_words=stopwords_ingr)\n",
    "\n",
    "ingr_ct = ct_vec.fit_transform(corpus)\n",
    "print(ct_vec.get_feature_names())"
   ]
  },
  {
   "cell_type": "code",
   "execution_count": 59,
   "metadata": {
    "ExecuteTime": {
     "end_time": "2019-11-14T06:48:56.457928Z",
     "start_time": "2019-11-14T06:48:54.283350Z"
    }
   },
   "outputs": [
    {
     "data": {
      "text/plain": [
       "array([0.077878  , 0.04956887, 0.03222251, 0.0239461 , 0.0187538 ,\n",
       "       0.01574651, 0.01457998, 0.0140046 , 0.0137279 , 0.01202109])"
      ]
     },
     "execution_count": 59,
     "metadata": {},
     "output_type": "execute_result"
    }
   ],
   "source": [
    "#previously, dim reduction, 10 topics:\n",
    "#lsa_10 = TruncatedSVD(10)  \n",
    "#ct_lsa_10 = lsa_10.fit_transform(ingr_ct)\n",
    "ct_lsa_10 = lsa_10.fit_transform(ingr_ct)\n",
    "lsa_10.explained_variance_ratio_"
   ]
  },
  {
   "cell_type": "code",
   "execution_count": 55,
   "metadata": {
    "ExecuteTime": {
     "end_time": "2019-11-14T06:47:42.240929Z",
     "start_time": "2019-11-14T06:47:42.182501Z"
    }
   },
   "outputs": [
    {
     "name": "stdout",
     "output_type": "stream",
     "text": [
      "\n",
      "Topic  0\n",
      "chopped, salt, pepper, fresh, ground, oil, black, garlic, olive, freshly, sliced, large, red, finely, sugar, cut, butter, onion, leaves, minced\n",
      "\n",
      "Topic  1\n",
      "sugar, butter, flour, vanilla, purpose, extract, baking, cream, unsalted, powder, salt, eggs, egg, milk, chocolate, large, white, brown, temperature, room\n",
      "\n",
      "Topic  2\n",
      "ground, pepper, black, salt, freshly, oil, kosher, sliced, olive, minced, diced, vinegar, red, garlic, sauce, thinly, cut, taste, extra, virgin\n",
      "\n",
      "Topic  3\n",
      "fresh, sliced, cut, juice, lemon, oil, thinly, leaves, olive, large, peeled, minced, extra, virgin, pieces, plus, lime, sugar, halved, orange\n",
      "\n",
      "Topic  4\n",
      "fresh, ground, freshly, lemon, juice, kosher, black, leaves, finely, grated, salt, parsley, extra, plus, zest, virgin, cinnamon, olive, orange, unsalted\n",
      "\n",
      "Topic  5\n",
      "fresh, ground, sauce, juice, sugar, minced, diced, lime, sliced, ginger, taste, green, white, onion, cinnamon, cilantro, water, brown, soy, powder\n",
      "\n",
      "Topic  6\n",
      "cut, large, peeled, pieces, ground, butter, unsalted, freshly, chicken, medium, slices, cubes, small, potatoes, black, stick, celery, carrots, thick, broth\n",
      "\n",
      "Topic  7\n",
      "sliced, cheese, thinly, cream, grated, freshly, butter, shredded, package, parmesan, cheddar, black, fresh, slices, kosher, bread, ground, unsalted, heavy, mushrooms\n",
      "\n",
      "Topic  8\n",
      "diced, cheese, pepper, minced, cream, taste, butter, fresh, salt, shredded, grated, chicken, package, garlic, onion, parmesan, unsalted, heavy, cheddar, milk\n",
      "\n",
      "Topic  9\n",
      "pepper, red, juice, diced, finely, lemon, salt, freshly, sugar, kosher, bell, black, lime, vinegar, orange, sliced, unsalted, seeded, recipe, small\n"
     ]
    }
   ],
   "source": [
    "project4_functions.display_topics(lsa_10, ct_vec.get_feature_names(), 20) "
   ]
  },
  {
   "cell_type": "markdown",
   "metadata": {},
   "source": [
    "### TF-IDF, LSA, with new stopwords"
   ]
  },
  {
   "cell_type": "code",
   "execution_count": 70,
   "metadata": {
    "ExecuteTime": {
     "end_time": "2019-11-14T06:58:00.172837Z",
     "start_time": "2019-11-14T06:57:52.427380Z"
    },
    "collapsed": true
   },
   "outputs": [
    {
     "name": "stdout",
     "output_type": "stream",
     "text": [
      "['_about', '_gravié_ra', '_hoong', 'aa', 'aalborg', 'aale', 'aaron', 'aarons', 'aarti', 'aattachment', 'ab', 'abalone', 'abasco', 'abbaye', 'abita', 'able', 'abondance', 'aborio', 'aborrio', 'abruzzese', 'abruzzo', 'absente', 'absinth', 'absinthe', 'absolut', 'absolute', 'absolutely', 'absorb', 'abuelita', 'abura', 'aburaage', 'aburage', 'abut', 'ac', 'acacia', 'acado', 'acai', 'accent', 'accents', 'acceptable', 'accepted', 'access', 'accommodate', 'accompanied', 'accompaniment', 'accompaniments', 'accompany', 'accompanying', 'accordian', 'according', 'accordingly', 'accordion', 'accuracy', 'accurately', 'acerola', 'acetate', 'aceto', 'achieve', 'achilleos', 'achiote', 'achoite', 'acholado', 'acid', 'acidic', 'acidity', 'acidophilus', 'acids', 'acidulated', 'acini', 'acitron', 'ackee', 'ackees', 'acommpaniment', 'acorn', 'acorns', 'acquello', 'across', 'acrylic', 'act', 'acting', 'activa', 'activate', 'activated', 'active', 'activedry', 'acto', 'acts', 'actually', 'adam', 'adams', 'add', 'added', 'adding', 'addition', 'additional', 'additions', 'additives', 'adds', 'adductor', 'ade', 'adhesive', 'adige', 'adjoining', 'adjust', 'adjustable', 'adjusted', 'adjusting', 'adjustments', 'adobe', 'adobo', 'adorning', 'adovada', 'adriana', 'adrianascaravan', 'aduki', 'adult', 'adults', 'advance', 'adventurous', 'advieh', 'advise', 'advocaat', 'adzuki', 'aejado', 'aerated', 'aerosol', 'affect', 'affinois', 'affixed', 'afford', 'affordable', 'affumicata', 'african', 'africantradingco', 'afterglow', 'afterwards', 'agar', 'agave', 'age', 'aged', 'agent', 'agents', 'aggressively', 'agitated', 'aglianico', 'agnolotti', 'agria', 'agricole', 'agridulce', 'agrodolce', 'agruadiente', 'agrumato', 'agua', 'aguardiente', 'agur', 'ahead', 'ahi', 'aid', 'aidell', 'aidells', 'ail', 'ailoi', 'aioli', 'air', 'airhead', 'airheads', 'airline', 'airplane', 'airtight', 'aisle', 'aisles', 'aitchbone', 'aj', 'ajawain', 'ajawin', 'aje', 'aji', 'ajices', 'ajicitos', 'ajies', 'ajika', 'ajinomoto', 'ajishio', 'ajo', 'ajowan', 'ajvar', 'ajwain', 'ajì', 'ají', 'ajíes', 'ajíí', 'aka', 'akawi', 'akazu', 'akika', 'akkawi', 'al', 'alabama', 'aladdin', 'alae', 'alaea', 'alamang', 'alarm', 'alaska', 'alaskan', 'alba', 'albacore', 'albareino', 'albarino', 'albariño', 'albemarle', 'albert', 'albumen', 'alcaparrado', 'alcohol', 'alcoholic', 'alcoholized', 'alden', 'alder', 'alderwood', 'ale', 'aleppo', 'alesmith', 'alessi', 'alex', 'alexander', 'alexia', 'alfafa', 'alfalfa', 'alfonse', 'alfonso', 'alfredo', 'algae', 'alginate', 'alici', 'aligot', 'alioli', 'alize', 'alizé', 'alkalized', 'alla', 'allepo', 'allergies', 'allergy', 'alligator', 'allnatural', 'allow', 'allowance', 'allowed', 'allows', 'allpurpose', 'allspic', 'allspice', 'allspiced', 'allspiece', 'allumette', 'allwhites', 'almandine', 'almibar', 'almond', 'almondmilk', 'almonds', 'almost', 'aloe', 'aloha', 'along', 'alongside', 'alouette', 'aloutte', 'alpha', 'alphabet', 'alphabets', 'alphonso', 'alpina', 'alpine', 'already', 'alsatian', 'also', 'alt', 'alterative', 'alternating', 'alternative', 'alternatively', 'alternatives', 'although', 'altitude', 'alto', 'altogether', 'alton', 'alum', 'aluminum', 'always', 'amagansett', 'amaise', 'amalfi', 'amandes', 'amantillado', 'amaranth', 'amarena', 'amareto', 'amaretti', 'amaretto', 'amarilla', 'amarillo', 'amaro', 'amarone', 'amarreto', 'amatriciana', 'amaz', 'amazing', 'amazon', 'amazonas', 'amba', 'ambar', 'amber', 'amberjack', 'ambert', 'ambessa', 'ambra', 'ambrosia', 'amchoor', 'amchur', 'amd', 'amer', 'america', 'american', 'americano', 'amino', 'aminos', 'amish', 'ammaretti', 'ammonia', 'ammonium', 'among', 'amontillado', 'amore', 'amoretti', 'amoroso', 'amount', 'amounts', 'amour', 'ample', 'amstel', 'amsterdam', 'amy', 'anadama', 'anaheim', 'anaheims', 'anahiem', 'analog', 'anapakaya', 'anasazi', 'anato', 'anatomy', 'anatto', 'ancho', 'anchor', 'anchos', 'anchovies', 'anchovy', 'anchoy', 'ancient', 'ancones', 'andall', 'andalusian', 'andcurried', 'andcut', 'anddiced', 'anddrained', 'andean', 'anderson', 'andes', 'andgizzard', 'andouille', 'andre', 'andrew', 'andrinsed', 'andré', 'andspicy', 'anejo', 'anelletti', 'anemic', 'angel', 'angeleno', 'angeles', 'angeli', 'angelica', 'angelicas', 'angelino', 'angelo', 'anglaise', 'angle', 'angled', 'angostura', 'angry', 'angus', 'animal', 'animals', 'anise', 'aniseed', 'aniseeds', 'aniseflavored', 'anisette', 'anjou', 'ankle', 'anko', 'ann', 'annaheim', 'annato', 'annatoo', 'annatto', 'anne', 'annes', 'annie', 'anniversary', 'anocho', 'another', 'ans', 'ansjovis', 'anson', 'antebellum', 'antelope', 'antennae', 'anthotyro', 'anti', 'antibiotic', 'antica', 'antipasta', 'antipasti', 'antipasto', 'antler', 'anton', 'antonis', 'ants', 'anything', 'anyway', 'ao', 'aol', 'aonori', 'aosta', 'ap', 'apart', 'apeach', 'apecial', 'aperitif', 'aperitivo', 'aperol', 'apfel', 'apiece', 'appealing', 'appear', 'appendage', 'appenzeller', 'appetizer', 'appetizers', 'apple', 'applegate', 'applejack', 'apples', 'applesauce', 'appleton', 'applewood', 'applicable', 'application', 'approimately', 'appropriate', 'approx', 'approximate', 'approximately', 'approximatly', 'appétit', 'apricot', 'apricots', 'apriplums', 'apriums', 'apron', 'aquafaba', 'aquavit', 'arabic', 'arachide', 'araguani', 'arak', 'arame', 'aranciata', 'arbequina', 'arbol', 'arbols', 'arborio', 'arborrio', 'archer', 'archide', 'archway', 'arctic', 'ardbeg', 'area', 'areas', 'arent', 'arepa', 'arepas', 'arequipe', 'argan', 'argentine', 'argentinean', 'argentinian', 'argo', 'aria', 'ariel', 'arils', 'arirangkimchee', 'arizona', 'arkansas', 'arm', 'armagnac', 'armanino', 'armenian', 'arms', 'army', 'arnold', 'aroma', 'aromatic', 'aromatics', 'around', 'aroy', 'arrabbiata', 'arrabiata', 'arrack', 'arrange', 'arranged', 'arrangements', 'array', 'arriving', 'arrow', 'arrowhead', 'arrowroot', 'arroz', 'arrugula', 'art', 'artagnan', 'arthur', 'artic', 'artichoke', 'artichokes', 'artificial', 'artisan', 'artisanal', 'artist', 'artois', 'arts', 'arugala', 'arugula', 'asada', 'asadas', 'asader', 'asadero', 'asado', 'asafetida', 'asafoetida', 'asahi', 'ascolane', 'ascorbic', 'ascurried', 'asfoetida', 'ash', 'asiago', 'asian', 'asiansesame', 'aside', 'asil', 'ask', 'asorbic', 'asparagus', 'aspartame', 'aspen', 'aspic', 'aspics', 'assam', 'assemble', 'assembling', 'assembly', 'assertive', 'assi', 'assored', 'assorted', 'assortment', 'asthai', 'asti', 'aston', 'astronaut', 'asturian', 'astwix', 'asuki', 'aswad', 'atar', 'ateco', 'athenos', 'athens', 'athos', 'atkinson', 'atlantic', 'atomic', 'atomized', 'atomizer', 'atop', 'atroom', 'atta', 'attached', 'attachment', 'attachments', 'attika', 'atural', 'au', 'aubergine', 'aubergines', 'audacious', 'aunt', 'auslese', 'australian', 'austrian', 'authentic', 'autrefois', 'autry', 'autumn', 'auvergne', 'aux', 'avacodo', 'avaiable', 'availability', 'available', 'avenue', 'average', 'averagesized', 'averna', 'avery', 'avgolemono', 'aviation', 'avocado', 'avocadoes', 'avocados', 'avoid', 'avola', 'avruga', 'award', 'away', 'awesome', 'ax', 'axiote', 'aylmer', 'azafran', 'azedo', 'azejo', 'aztec', 'azuki', 'azul', 'açai', 'açaí', 'aïoli', 'añejo', 'añjo', 'ba', 'bab', 'baba', 'babcock', 'babies', 'babka', 'baby', 'babyback', 'babybel', 'bac', 'bacala', 'bacalao', 'bacalhau', 'bacardi', 'baccala', 'baccalao', 'baccalà', 'bachelor', 'baci', 'bacio', 'back', 'backbone', 'backbones', 'backdraft', 'backfin', 'backs', 'backside', 'backstrap', 'bacon', 'baconnaise', 'bad', 'badi', 'badia', 'bads', 'baerenjaeger', 'baernwurst', 'bafaat', 'bag', 'bagel', 'bagels', 'bagette', 'bagfuls', 'bagged', 'baggie', 'bagna', 'bagoong', 'bags', 'baguet', 'baguette', 'baguettes', 'bahaman', 'bahamian', 'baharat', 'bahn', 'bai', 'bailey', 'baileys', 'bain', 'bait', 'baja', 'bajan', 'bake', 'baked', 'bakehouse', 'baker', 'bakeries', 'bakers', 'bakery', 'bakeware', 'baking', 'baklava', 'balance', 'balanced', 'balancer', 'balaton', 'balchao', 'balcones', 'bali', 'balinese', 'ball', 'balled', 'baller', 'ballerina', 'balloons', 'ballpark', 'balls', 'ballymaloe', 'balm', 'balsalmic', 'balsam', 'balsamic', 'balsamico', 'baltimore', 'bam', 'bambino', 'bamboo', 'ban', 'banan', 'banana', 'bananas', 'banane', 'bananes', 'band', 'bandera', 'bands', 'banfi', 'banged', 'banger', 'bangers', 'bangus', 'banh', 'banilla', 'banks', 'banneton', 'bannock', 'banon', 'banquet', 'banyuls', 'bao', 'baobab', 'baquette', 'baquettes', 'bar', 'barbacoa', 'barbados', 'barbancourt', 'barbara', 'barbecue', 'barbecued', 'barbeque', 'barbequed', 'barbera', 'barberries', 'barbieri', 'barcelona', 'barding', 'bare', 'barefoot', 'barely', 'barhi', 'barilla', 'bark', 'barlett', 'barley', 'barlotti', 'barn', 'barnagate', 'barolo', 'barquette', 'barramundi', 'barrel', 'barrios', 'barron', 'barry', 'bars', 'barsol', 'barspoon', 'bartenura', 'bartlett', 'bartletts', 'basa', 'base', 'baseball', 'based', 'bases', 'bashed', 'basic', 'basically', 'basics', 'basil', 'basin', 'basis', 'basket', 'baskets', 'basmati', 'basmatic', 'basque', 'bass', 'bassett', 'baste', 'basted', 'baster', 'basting', 'bat', 'batard', 'batardes', 'batata', 'batatas', 'batavia', 'batch', 'batches', 'bath', 'baton', 'batonnet', 'batonnets', 'batons', 'bats', 'batter', 'battera', 'battered', 'batty', 'bauernwurst', 'bauli', 'bavarian', 'bavaroise', 'bavette', 'bay', 'bayleaf', 'baynols', 'bayonne', 'bayou', 'bazmati', 'bbq', 'bc', 'beach', 'bead', 'beaded', 'beak', 'beaked', 'beaks', 'beam', 'bean', 'beancurd', 'beanquinoa', 'beans', 'beansprouts', 'bear', 'beard', 'bearded', 'beards', 'bearnaise', 'bears', 'beat', 'beaten', 'beater', 'beaters', 'beating', 'beau', 'beaufort', 'beaujolais', 'beaume', 'beaumes', 'beauregard', 'beausoleil', 'beautiful', 'beautifully', 'beauty', 'beaver', 'becel', 'bechamel', 'beck', 'become', 'becomes', 'becoming', 'bed', 'bedding', 'bee', 'beech', 'beecher', 'beef', 'beefaroni', 'beefeater', 'beefsteak', 'beefsteaks', 'beefy', 'beer', 'beerbit', 'beeren', 'beers', 'bees', 'beeswax', 'beet', 'beetroot', 'beetroots', 'beets', 'begin', 'beginner', 'beginning', 'begins', 'begonia', 'behind', 'beignets', 'bel', 'belacan', 'belachan', 'belge', 'belgian', 'belgioioso', 'belgium', 'believe', 'belize', 'belizean', 'bell', 'bella', 'bellas', 'belle', 'belles', 'bellflower', 'bellied', 'bellies', 'bello', 'belloc', 'bellpepper', 'bells', 'bellweather', 'bellwether', 'belly', 'belon', 'belons', 'belt', 'beltane', 'belts', 'beluga', 'belvedere', 'ben', 'bench', 'bend', 'beneath', 'benedict', 'benedictine', 'benefiber', 'bengal', 'bengali', 'beni', 'benita', 'benne', 'bennet', 'benny', 'benriner', 'benton', 'berbere', 'berentzen', 'berg', 'bergamot', 'berger', 'berio', 'berkshire', 'bermuda', 'bermudan', 'bernheim', 'berried', 'berries', 'berry', 'berryhill', 'bertman', 'bertolli', 'beryl', 'beryls', 'besan', 'besciamella', 'best', 'bestquality', 'besugo', 'bet', 'betel', 'better', 'betty', 'betutu', 'beurre', 'beverage', 'beverages', 'bevmo', 'bewley', 'bewleys', 'beyond', 'bhaji', 'bhut', 'bianco', 'bias', 'bib', 'bibb', 'biber', 'bibimbap', 'bicarbonate', 'bichamel', 'bicolored', 'biere', 'big', 'biga', 'bigelow', 'bigerades', 'bigeye', 'bigger', 'biggest', 'bijol', 'bilbao', 'bile', 'bill', 'billie', 'billion', 'biloba', 'biltmore', 'bin', 'bind', 'binding', 'bing', 'bins', 'bintjes', 'birch', 'bird', 'birds', 'birthday', 'biryani', 'biscayne', 'biscoff', 'biscos', 'biscotatto', 'biscott', 'biscotti', 'biscottiepi', 'biscuit', 'biscuits', 'bishop', 'biskra', 'bison', 'bisque', 'bisquettes', 'bisquick', 'bistro', 'bit', 'bite', 'bites', 'bitesize', 'bitesized', 'bits', 'bitter', 'bittering', 'bittermens', 'bitterness', 'bitters', 'bittersweet', 'biznaga', 'bière', 'blaak', 'blacan', 'black', 'blackberries', 'blackberry', 'blackcurrant', 'blackened', 'blackening', 'blackeye', 'blackeyed', 'blackfish', 'blackforest', 'blackpepper', 'blacks', 'blackseedless', 'blackstrap', 'blackwell', 'blade', 'bladed', 'blades', 'blair', 'blanc', 'blanca', 'blancas', 'blanch', 'blanche', 'blanched', 'blanching', 'blanco', 'blancs', 'blandy', 'blank', 'blankets', 'blanton', 'blast', 'blaukraut', 'bleach', 'bleached', 'blemish', 'blemishes', 'blend', 'blended', 'blender', 'blending', 'blends', 'bleu', 'bleuet', 'blind', 'blini', 'blinis', 'blintzes', 'blis', 'bliss', 'blistered', 'blitzed', 'block', 'blocks', 'blond', 'blonde', 'blondies', 'blood', 'bloodline', 'bloodlines', 'bloody', 'bloomed', 'blooming', 'blooms', 'blossom', 'blossoms', 'blotted', 'blow', 'blowfish', 'blown', 'blowtorch', 'blt', 'blue', 'blueberries', 'blueberry', 'bluecoat', 'bluefin', 'bluefini', 'bluefish', 'bluegill', 'bluepoint', 'bluepoints', 'blues', 'bluffton', 'bo', 'boal', 'boar', 'board', 'boards', 'boars', 'boat', 'boats', 'boatswain', 'bob', 'bobby', 'bobbyflay', 'boboli', 'bobolis', 'bobsredmill', 'bobwhite', 'boca', 'boccacini', 'boccalone', 'boccancini', 'boccincini', 'boccocini', 'bocconcini', 'bock', 'bockwurst', 'boconccini', 'bodied', 'bodies', 'body', 'bodysacs', 'bog', 'boi', 'boil', 'boiled', 'boiler', 'boiling', 'boiron', 'bois', 'boisserie', 'boite', 'bok', 'bokchoy', 'bolar', 'bold', 'bolder', 'boletes', 'boleti', 'boletus', 'bolillo', 'bolillos', 'bolo', 'bologna', 'bolognese', 'bols', 'bolt', 'bolted', 'bomba', 'bombay', 'bombe', 'bomboloni', 'bon', 'bonajuto', 'bonal', 'bonbon', 'bonbons', 'bonded', 'bone', 'boned', 'boneless', 'bones', 'boneyard', 'bongo', 'boniato', 'boniatos', 'boning', 'bonito', 'bonne', 'bonnet', 'bonnets', 'bonny', 'boo', 'boodles', 'book', 'bookbinder', 'boolgogi', 'boost', 'boosters', 'boosting', 'booze', 'boquerones', 'boquerónes', 'borage', 'bordeaux', 'bordelaise', 'borden', 'border', 'borlotti', 'borlotto', 'borowik', 'borscht', 'bosc', 'bosch', 'boschetto', 'bosco', 'boscoli', 'boskop', 'boston', 'botan', 'bother', 'botija', 'botstle', 'bott', 'bottarga', 'bottle', 'bottled', 'bottlegin', 'bottleneck', 'bottles', 'bottom', 'bottomed', 'bottoms', 'bou', 'bouche', 'boucheron', 'bouchon', 'bouchu', 'boudin', 'boudoirs', 'bougainvillea', 'boughs', 'bought', 'bouillabaisse', 'bouillion', 'bouillon', 'boulder', 'boule', 'boules', 'boulevard', 'boullion', 'boulot', 'bound', 'bountiful', 'bouqet', 'bouquet', 'bouquetgarni', 'bouquetiere', 'bouquets', 'bourbon', 'bourgogne', 'bourguignon', 'boursault', 'boursin', 'bouvet', 'bovril', 'bow', 'bowfin', 'bowl', 'bowled', 'bowling', 'bowls', 'bowmore', 'bowtie', 'bowties', 'box', 'boxdevil', 'boxed', 'boxes', 'boy', 'boyajian', 'boyardee', 'boys', 'boysenberries', 'boysenberry', 'brabant', 'bracelets', 'brach', 'brachetto', 'brachman', 'braciola', 'braciole', 'bracken', 'brad', 'bradley', 'braeburn', 'braeburns', 'braesola', 'bragg', 'braggs', 'braid', 'braided', 'braids', 'brain', 'brains', 'braise', 'braised', 'braiser', 'braises', 'braising', 'bramble', 'bramley', 'bran', 'branca', 'branch', 'branches', 'brand', 'brandade', 'branded', 'brandied', 'brandies', 'brands', 'brandy', 'brandywine', 'branston', 'branzini', 'branzino', 'brasato', 'brat', 'brats', 'bratwurst', 'bratwursts', 'braunschweiger', 'brave', 'bravo', 'brawny', 'brazil', 'brazilian', 'brea', 'bread', 'breadcrumb', 'breadcrumbs', 'breadcumbs', 'breaded', 'breader', 'breadfruit', 'breading', 'breads', 'breadstick', 'breadsticks', 'break', 'breakage', 'breakfast', 'breaking', 'breaks', 'breakstone', 'breakstones', 'bream', 'breams', 'breast', 'breastbone', 'breasts', 'breathing', 'brebis', 'bredie', 'breeze', 'bresaola', 'bresola', 'breton', 'bretons', 'bretzel', 'brew', 'brewed', 'brewer', 'brewers', 'brewery', 'brewing', 'breyers', 'briana', 'briannas', 'bric', 'brick', 'brickle', 'bricks', 'bridge', 'bridgeford', 'bridgford', 'brie', 'briefly', 'brien', 'bright', 'brighten', 'brightly', 'brik', 'brillat', 'brillet', 'brilliant', 'brin', 'brinata', 'brine', 'brinecured', 'brined', 'bring', 'brining', 'brinjal', 'briny', 'brioche', 'brioches', 'briquets', 'briquettes', 'brisee', 'brisket', 'briskets', 'brisling', 'bristle', 'bristol', 'brisée', 'british', 'brittany', 'brittle', 'brizard', 'bro', 'broad', 'broadbent', 'broccoflower', 'broccoli', 'broccolini', 'broccollini', 'broiche', 'broil', 'broiled', 'broiler', 'broiling', 'broke', 'broken', 'bromated', 'broncbuster', 'brone', 'bronze', 'bronzing', 'bronzino', 'brook', 'brooklyn', 'brooks', 'broom', 'brot', 'broth', 'brother', 'brothers', 'broths', 'brought', 'brown', 'browned', 'brownie', 'brownies', 'browning', 'browns', 'brownulated', 'bruce', 'bruder', 'bruise', 'bruised', 'brujo', 'brulee', 'bruleed', 'bruleeing', 'brun', 'brune', 'brunet', 'bruniose', 'bruno', 'brunois', 'brunoise', 'brunoised', 'bruschetta', 'brush', 'brushed', 'brushes', 'brushing', 'brussel', 'brussels', 'brussles', 'brut', 'brute', 'bruxelles', 'bryant', 'brûlée', 'bual', 'bubba', 'bubbies', 'bubble', 'bubblegum', 'bubbling', 'bubbly', 'bucare', 'bucatini', 'bucatoni', 'buccatini', 'bucco', 'buch', 'buchanan', 'bucheron', 'buchu', 'buck', 'buckets', 'bucking', 'buckle', 'buckler', 'buckwheat', 'buco', 'bud', 'buddha', 'buddies', 'buddig', 'budget', 'buds', 'budweiser', 'buena', 'buerre', 'bufala', 'bufalo', 'buff', 'buffalo', 'buffalotrace', 'buffel', 'buffered', 'bufula', 'bug', 'buganvilia', 'bugles', 'bugs', 'build', 'buitoni', 'bulb', 'bulbs', 'bulgar', 'bulgarian', 'bulghur', 'bulgogi', 'bulgur', 'bulk', 'bull', 'bulleit', 'bullion', 'bullseye', 'bullwhip', 'bullying', 'bumble', 'bump', 'bumpy', 'bun', 'bunch', 'bunched', 'bunches', 'bunchs', 'bundle', 'bundled', 'bundles', 'bundnerfleisch', 'bundt', 'buniato', 'bunnies', 'bunnonstick', 'bunny', 'buns', 'bunuelo', 'buon', 'buonitalia', 'bupound', 'bupounds', 'buratta', 'burbank', 'burbot', 'burdock', 'burg', 'burgel', 'burger', 'burgers', 'burgundian', 'burgundies', 'burgundy', 'burlap', 'burman', 'burmese', 'burn', 'burned', 'burner', 'burners', 'burnet', 'burnett', 'burning', 'burnt', 'burp', 'burrata', 'burratta', 'burrell', 'burricotti', 'burrito', 'burritos', 'buschs', 'bush', 'bushel', 'bushels', 'bushi', 'bushmills', 'bustelo', 'buster', 'butane', 'butch', 'butcher', 'butchered', 'butchers', 'buter', 'butler', 'butt', 'butte', 'butter', 'butterball', 'butterbean', 'butterbeans', 'buttercake', 'buttercream', 'buttercreams', 'buttercrunch', 'buttercup', 'buttered', 'butterfinger', 'butterfingers', 'butterfish', 'butterflied', 'butterflies', 'butterfly', 'butterflyed', 'butterground', 'butterhead', 'buttering', 'butterkase', 'butterkäse', 'buttermik', 'buttermilk', 'butternut', 'butternuts', 'butters', 'butterscotch', 'buttershots', 'butterworth', 'buttery', 'button', 'buttons', 'butts', 'buxton', 'buy', 'buying', 'bv', 'bypass', 'byrd', 'byron', 'byrrh', 'bâtarde', 'bâtards', 'bärenjäger', 'béarnaise', 'béchamel', 'bénédictine', 'bûcheron', 'ca', 'cabbage', 'cabbages', 'cabello', 'cabernet', 'cabin', 'cabo', 'cabot', 'cabra', 'cabrales', 'cacacha', 'cacao', 'cacciata', 'cacciatore', 'cacciocavallo', 'cacereña', 'cachaca', 'cachaza', 'cachaça', 'cachere', 'cacho', 'cachucha', 'cacik', 'cacio', 'caciocavallo', 'caciotta', 'cacique', 'caciqus', 'cacoa', 'cactus', 'cadbury', 'caesar', 'cafe', 'cafedumonde', 'caffe', 'caffeinated', 'caffeine', 'caffè', 'café', 'cage', 'cages', 'cai', 'caja', 'cajeta', 'cajon', 'cajun', 'cajungrocer', 'cake', 'cakes', 'cakey', 'caking', 'cal', 'calabacitas', 'calabash', 'calabasitas', 'calabaza', 'calabazas', 'calabrese', 'calabria', 'calabrian', 'calabro', 'calamansi', 'calamari', 'calamata', 'calamyra', 'calaspara', 'calasparra', 'calcium', 'calcots', 'calendula', 'calf', 'calgary', 'caliente', 'california', 'californian', 'calimyra', 'calimyrna', 'call', 'callaloo', 'calle', 'callebaut', 'callebaux', 'called', 'callender', 'callets', 'callies', 'calling', 'callipo', 'calls', 'calmata', 'calmyrna', 'calorie', 'calories', 'calrose', 'calumet', 'calvados', 'calves', 'calymyra', 'calypso', 'calyxes', 'calzone', 'calzones', 'camargue', 'cambazola', 'cambazzola', 'cambodian', 'cambozola', 'camellia', 'camembert', 'cameo', 'camomile', 'campagne', 'campagnelle', 'campanelle', 'campania', 'campari', 'campbell', 'campbells', 'camper', 'campfire', 'camphor', 'campo', 'camus', 'cana', 'canada', 'canadian', 'canal', 'canard', 'canaroli', 'canary', 'canasta', 'canchita', 'candied', 'candies', 'candiquick', 'candiquik', 'candle', 'candlenut', 'candlenuts', 'candles', 'candy', 'candyquik', 'cane', 'canela', 'canella', 'canelli', 'canellini', 'canellinni', 'canes', 'canestriped', 'canilla', 'canister', 'canisters', 'cannabis', 'canned', 'cannelini', 'cannellili', 'cannellini', 'cannelloni', 'canneloni', 'canner', 'canning', 'cannoli', 'cannolicchi', 'cannonau', 'cannot', 'canoes', 'canoga', 'canola', 'cans', 'cantal', 'cantaloupe', 'cantaloupes', 'cantare', 'canteloupe', 'canton', 'cantonese', 'cantuccini', 'canvas', 'canyon', 'caol', 'cap', 'capacity', 'capacola', 'cape', 'capel', 'capelin', 'capelletti', 'capelli', 'capellini', 'caper', 'caperberries', 'capers', 'capfuls', 'capicola', 'capicolla', 'capital', 'capocollo', 'capocolo', 'capon', 'caponata', 'capons', 'capote', 'cappacola', 'capped', 'cappelletti', 'cappellini', 'cappicola', 'cappicolla', 'cappocola', 'cappuccino', 'caprese', 'capriccio', 'capricious', 'capriole', 'caps', 'capsican', 'capsicum', 'capsicums', 'capsule', 'capsules', 'captain', 'capuccino', 'caputo', 'cara', 'carabineros', 'caracao', 'caracque', 'caraebe', 'carafa', 'caraibe', 'caraje', 'carambola', 'carambolas', 'caramel', 'caramelize', 'caramelized', 'caramelizing', 'caramels', 'carapace', 'carapelli', 'carat', 'caravan', 'caravella', 'caravelle', 'caraway', 'carb', 'carbohydrate', 'carbohydrates', 'carbon', 'carbonara', 'carbonate', 'carbonated', 'carbonation', 'carboy', 'carbquik', 'carbs', 'carcass', 'carcasse', 'carcasses', 'card', 'cardamom', 'cardamoms', 'cardamon', 'cardboard', 'cardomoms', 'cardomon', 'cardoons', 'cards', 'care', 'careful', 'carefully', 'cargamanto', 'cargo', 'caribbean', 'caribe', 'caribou', 'carl', 'carlini', 'carlo', 'carlsbad', 'carmelized', 'carmels', 'carmody', 'carnaroli', 'carnation', 'carnations', 'carne', 'carnitas', 'carnival', 'carob', 'carolans', 'carolina', 'carom', 'carp', 'carpaccio', 'carpano', 'carpenter', 'carpet', 'carr', 'carrageen', 'carrageenan', 'carriage', 'carries', 'carroll', 'carrot', 'carrots', 'carrott', 'carry', 'carta', 'cartilage', 'cartilege', 'carton', 'cartons', 'carved', 'carving', 'casa', 'casaba', 'casamigos', 'casar', 'casarecce', 'casbah', 'cascabel', 'cascabele', 'cascable', 'cascade', 'cascadian', 'case', 'casera', 'caserecci', 'cases', 'casey', 'cashew', 'cashews', 'casing', 'casings', 'cask', 'cassarecce', 'cassarecci', 'cassata', 'cassava', 'cassavas', 'casse', 'casserole', 'casseroles', 'cassia', 'cassis', 'cast', 'castelfranco', 'castellane', 'castelluccio', 'castelmagno', 'castelrosso', 'castelvetrano', 'caster', 'castings', 'castor', 'cat', 'catalan', 'catalina', 'catalogue', 'catamount', 'catch', 'catching', 'catelli', 'caterpillar', 'catfish', 'catskill', 'catsup', 'cattleman', 'cattlemen', 'cauda', 'caught', 'caul', 'cauldron', 'cauliflower', 'cause', 'caution', 'cava', 'cavaillon', 'cavair', 'cavalle', 'cavallion', 'cavatapi', 'cavatappi', 'cavatelli', 'cave', 'cavender', 'cavetelle', 'caviar', 'cavities', 'cavity', 'cavolo', 'cayenne', 'cayennes', 'cayennne', 'cazuela', 'cb', 'cc', 'ccconsp', 'ccmi', 'ccq', 'cd', 'cebollas', 'cecchi', 'cecco', 'ceci', 'cedar', 'cel', 'celebrant', 'celebration', 'celeery', 'celeriac', 'celeriacs', 'celery', 'celeryseeds', 'celestial', 'cellantani', 'cellars', 'cellentani', 'cello', 'cellophane', 'celtic', 'cemita', 'cent', 'centenario', 'centennial', 'center', 'centercut', 'centerpiece', 'centers', 'centimeter', 'centimeters', 'cento', 'central', 'centre', 'century', 'cep', 'cepes', 'ceramic', 'cereal', 'cereals', 'ceres', 'cerignola', 'ceringola', 'cermanic', 'certain', 'certifed', 'certified', 'certo', 'cervantes', 'cerveza', 'ces', 'cetara', 'cevender', 'ceviche', 'ceylon', 'cfu', 'cha', 'chaa', 'chaat', 'chabis', 'chablis', 'chabrin', 'chachere', 'chai', 'chain', 'challa', 'challah', 'challenge', 'chalupas', 'cham', 'chambord', 'chambourcin', 'chambourd', 'chamomile', 'champagne', 'champignon', 'champignons', 'championship', 'chana', 'chanco', 'chandon', 'chang', 'changbai', 'change', 'changed', 'changes', 'changing', 'channa', 'channel', 'chantaboon', 'chanterelle', 'chanterelles', 'chantilly', 'chaokoh', 'chapati', 'chapatis', 'chapatti', 'chappati', 'chaps', 'chapssal', 'char', 'charantes', 'charbay', 'charcoal', 'charcoals', 'charcuterie', 'chard', 'chardonnay', 'charentais', 'charentes', 'charge', 'charged', 'chargers', 'charleston', 'charlotte', 'charmoula', 'charms', 'charolais', 'charra', 'charred', 'charro', 'chartreuse', 'chat', 'chateau', 'chateaubriand', 'chateaubriands', 'chatham', 'chaurice', 'chavignol', 'chavrie', 'chayote', 'chayotes', 'cheap', 'cheaper', 'check', 'checked', 'checking', 'checks', 'cheddar', 'cheddarwurst', 'chee', 'cheek', 'cheeks', 'cheerios', 'cheery', 'cheese', 'cheesecake', 'cheesecloth', 'cheesee', 'cheesemaking', 'cheeses', 'cheesesoft', 'cheesier', 'cheesy', 'cheetos', 'cheez', 'chef', 'chefmaster', 'chefs', 'chefshop', 'chenel', 'chenin', 'cheo', 'cheong', 'cherie', 'cherimoya', 'chermoula', 'cherokee', 'cherries', 'cherry', 'cherrystone', 'cherrywood', 'cherub', 'chervil', 'cheryl', 'chesapeake', 'cheshire', 'chess', 'chessman', 'chessmen', 'chest', 'chester', 'chestnut', 'chestnuts', 'cheung', 'chevon', 'chevre', 'chevril', 'chevrion', 'chevrot', 'chewable', 'chewier', 'chewing', 'chews', 'chewy', 'chex', 'cheyenne', 'chi', 'chia', 'chianti', 'chicago', 'chicharones', 'chicharron', 'chicharrones', 'chicharrón', 'chicharrónes', 'chichicapa', 'chick', 'chicken', 'chickenor', 'chickens', 'chickpea', 'chickpeas', 'chicks', 'chickweed', 'chiclets', 'chico', 'chicories', 'chicory', 'chicos', 'chien', 'chiew', 'chiffinade', 'chiffon', 'chiffonad', 'chiffonade', 'chiffonaded', 'chiffonnade', 'chifonnade', 'chihuahua', 'chihuahuah', 'chihuaua', 'chihuhua', 'chik', 'chilaca', 'chilcostles', 'childhood', 'children', 'chile', 'chilean', 'chiles', 'chiletepin', 'chilhuacle', 'chilhuacles', 'chili', 'chilie', 'chilies', 'chilies_packed', 'chilis', 'chill', 'chilled', 'chilledchinese', 'chilles', 'chilli', 'chillies', 'chilling', 'chillis', 'chilpotles', 'chiltepin', 'chimay', 'chimayo', 'chimichangas', 'chimichurri', 'chimichuurri', 'chimney', 'china', 'chinaco', 'chinato', 'chinatown', 'chincoteague', 'chine', 'chined', 'chinese', 'ching', 'chinkiang', 'chinks', 'chinned', 'chino', 'chinois', 'chinook', 'chinos', 'chinquoteague', 'chiogga', 'chioggia', 'chip', 'chipits', 'chiplote', 'chiplotes', 'chipolata', 'chipolte', 'chipoltes', 'chipoltle', 'chipotle', 'chipotles', 'chipped', 'chips', 'chiquita', 'chitarra', 'chitterlings', 'chive', 'chives', 'chlies', 'chloe', 'chlorella', 'chloride', 'chlorinated', 'chobani', 'choc', 'chocho', 'choclo', 'chocoholics', 'chocolat', 'chocolate', 'chocolates', 'chocolatey', 'chocolatier', 'chocolaty', 'choi', 'choice', 'choices', 'choke', 'chokecherry', 'chokes', 'choko', 'cholent', 'cholesterol', 'cholula', 'chong', 'choose', 'choosing', 'chop', 'chopmeat', 'choppe', 'chopped', 'choppedcan', 'chopping', 'choppped', 'chops', 'chopstick', 'chopsticks', 'chord', 'choricero', 'chorico', 'chorize', 'chorizo', 'chorizos', 'choron', 'chou', 'choucroute', 'chourico', 'chouriho', 'chouriço', 'choux', 'chow', 'chowchow', 'chowder', 'choy', 'choya', 'chris', 'christening', 'christian', 'christina', 'christmas', 'christophene', 'christophenes', 'christopher', 'christophine', 'chrysanthemum', 'chu', 'chua', 'chub', 'chubby', 'chubritsa', 'chubs', 'chuck', 'chucks', 'chuka', 'chukkar', 'chulpe', 'chum', 'chun', 'chunk', 'chunked', 'chunks', 'chunky', 'churned', 'churrasco', 'churrascos', 'churrera', 'churro', 'churros', 'chutney', 'chutneys', 'chèvre', 'ciabatta', 'ciabbata', 'ciao', 'cicely', 'ciclón', 'cider', 'cigar', 'cigarette', 'cigarettes', 'cigarillos', 'cigars', 'cilanto', 'cilantro', 'ciliegine', 'ciliegini', 'ciliengine', 'cima', 'cin', 'cinammon', 'cinamon', 'cinch', 'cincinnati', 'cinco', 'cinderella', 'cindy', 'cinghiale', 'cinnamo', 'cinnamon', 'cinzano', 'cioccolato', 'cioppino', 'cipolini', 'cipolinni', 'cipolline', 'cipollini', 'cipollinis', 'cippoline', 'cippolini', 'cippolline', 'cipriani', 'circle', 'circles', 'circo', 'circular', 'circus', 'ciroc', 'cistanche', 'cit', 'citarella', 'citrate', 'citric', 'citroen', 'citron', 'citronette', 'citrus', 'citruses', 'citrusy', 'citterio', 'city', 'ck', 'cl', 'clabber', 'clabbered', 'clam', 'clamato', 'clams', 'clamshell', 'clancy', 'clara', 'claret', 'clarified', 'clarifying', 'clarita', 'clark', 'clasen', 'clasico', 'classic', 'classicmac', 'classico', 'classics', 'claussen', 'claw', 'claws', 'clay', 'clayton', 'clean', 'cleaned', 'cleaners', 'cleaning', 'cleanly', 'clear', 'clearcreekdistillery', 'clearjel', 'cleaver', 'clement', 'clementine', 'clementines', 'clerk', 'clever', 'click', 'cling', 'clinging', 'clings', 'clingstone', 'clip', 'clipped', 'clips', 'clizuel', 'cloaks', 'clod', 'close', 'closed', 'closer', 'cloth', 'clothbound', 'cloths', 'clotted', 'cloud', 'cloudberry', 'clouds', 'cloudy', 'clove', 'cloved', 'clover', 'cloverleaf', 'cloves', 'clovis', 'club', 'cluizel', 'clumps', 'cluster', 'clusters', 'clásico', 'clément', 'cm', 'co', 'coach', 'coal', 'coalho', 'coals', 'coaps', 'coarse', 'coarsely', 'coarsemesh', 'coarser', 'coarsley', 'coarsly', 'coast', 'coastal', 'coastline', 'coat', 'coated', 'coating', 'coatings', 'coax', 'cob', 'cobb', 'cobbler', 'cobblestone', 'cobia', 'cobs', 'coca', 'cocchi', 'cochon', 'cochons', 'cocina', 'cock', 'cockatiels', 'cockels', 'cockles', 'cocktail', 'cocktails', 'coco', 'cocoa', 'coconut', 'coconutmilk', 'coconuts', 'cocotte', 'cocowhip', 'cocozelle', 'cod', 'coddled', 'coddler', 'code', 'codfish', 'coeur', 'coffee', 'coffeecake', 'cog', 'cognac', 'coho', 'coiled', 'coils', 'coin', 'coined', 'coins', 'cointreau', 'cointreu', 'cojita', 'cojito', 'coke', 'cola', 'colaciones', 'colada', 'colander', 'colatura', 'colavita', 'colbert', 'colby', 'colcannon', 'cold', 'coldbrew', 'colder', 'coldheavy', 'cole', 'coleman', 'coleslaw', 'collagen', 'collapsed', 'collapsible', 'collapsing', 'collar', 'collard', 'collards', 'collars', 'collect', 'collection', 'collections', 'college', 'collins', 'colman', 'colmans', 'colomba', 'colombian', 'colombiano', 'colonata', 'colonnata', 'color', 'colorado', 'colored', 'colorful', 'coloring', 'colorings', 'colorless', 'colors', 'colossal', 'colour', 'colouring', 'colours', 'columbia', 'columbian', 'com', 'comal', 'comb', 'combination', 'combinations', 'combinbation', 'combine', 'combined', 'combining', 'combo', 'come', 'comeback', 'comercially', 'comes', 'comfort', 'comfortable', 'comice', 'comino', 'commercial', 'commercially', 'common', 'commonly', 'como', 'compact', 'company', 'comparable', 'compari', 'compartment', 'compass', 'competition', 'complement', 'complements', 'completa', 'complete', 'completely', 'complex', 'complexity', 'compliment', 'component', 'components', 'composed', 'compote', 'compound', 'compounds', 'compressed', 'comstock', 'comte', 'comté', 'con', 'conagra', 'concasse', 'concassed', 'concassee', 'concentrate', 'concentrated', 'concepción', 'concern', 'conch', 'conchiglie', 'conchiglioni', 'concord', 'condensed', 'condiment', 'condiments', 'cone', 'conecuh', 'cones', 'coney', 'confection', 'confectionary', 'confectioner', 'confectioners', 'confectionery', 'confetti', 'confit', 'confused', 'conical', 'conjunction', 'conmemorativo', 'connected', 'connecting', 'connective', 'connects', 'connie', 'conserve', 'consider', 'considered', 'consistency', 'consisting', 'consomme', 'consommé', 'constructed', 'construction', 'consult', 'consume', 'consumed', 'consumme', 'contact', 'contadina', 'contain', 'container', 'containers', 'containing', 'contains', 'containters', 'content', 'contents', 'continue', 'continuous', 'contreau', 'conventional', 'conversation', 'converted', 'cook', 'cooke', 'cooked', 'cookedbutterflied', 'cooker', 'cookers', 'cookie', 'cookies', 'cookiesepi', 'cooking', 'cooks', 'cookware', 'cool', 'coole', 'cooled', 'cooler', 'cooling', 'coooked', 'cooper', 'coors', 'copacola', 'cope', 'copicolla', 'coppa', 'coppacola', 'copper', 'copyright', 'coquito', 'coral', 'corano', 'corazon', 'corazón', 'corbina', 'cord', 'corded', 'cordial', 'cording', 'cordon', 'cordycep', 'core', 'cored', 'corer', 'cores', 'coriander', 'corinthian', 'cork', 'corks', 'corkscrew', 'corkscrews', 'corky', 'corm', 'corn', 'cornbread', 'corncob', 'corncobs', 'corned', 'corner', 'corners', 'cornet', 'cornets', 'cornflake', 'cornflakes', 'cornflour', 'cornhusks', 'cornichon', 'cornichons', 'cornish', 'cornishon', 'cornishons', 'cornmeal', 'cornnuts', 'corns', 'cornstarch', 'cornstick', 'cornuts', 'corny', 'corona', 'coronita', 'correct', 'corrugated', 'cortado', 'cortland', 'corvina', 'cos', 'cosmo', 'cosmopolitan', 'cost', 'costa', 'costco', 'costena', 'costeno', 'costenos', 'costeño', 'costoluto', 'cote', 'cotechino', 'cotes', 'cotija', 'cotixa', 'cotswold', 'cotta', 'cottage', 'cottas', 'cotto', 'cotton', 'cottonseed', 'coucous', 'could', 'coulis', 'counces', 'count', 'counter', 'counters', 'countertop', 'country', 'countryside', 'countrystyle', 'county', 'coup', 'coupe', 'couple', 'couplers', 'courgette', 'courgettes', 'course', 'coursely', 'court', 'courtesy', 'courtland', 'courvoisier', 'cous', 'couscous', 'couscousiere', 'couscoussière', 'couverture', 'cove', 'cover', 'covered', 'covering', 'covers', 'coverture', 'coves', 'cow', 'cowboy', 'cowboys', 'cowgirl', 'cowpeas', 'cows', 'cox', 'coyote', 'cr', 'crab', 'crabapple', 'crabapples', 'crabcake', 'crabmeat', 'crabs', 'crabsticks', 'crack', 'cracked', 'cracker', 'crackers', 'cracking', 'crackle', 'crackled', 'cracklin', 'cracklings', 'cracklins', 'cracks', 'craft', 'crafts', 'craftsetc', 'craig', 'craisins', 'cran', 'cranberries', 'cranberry', 'cranked', 'cranks', 'crate', 'crave', 'crawfish', 'crawler', 'crayfish', 'crazy', 'cream', 'creamaccompaniment', 'creame', 'creamed', 'creamer', 'creamery', 'creaminess', 'creamless', 'creamy', 'create', 'creating', 'creations', 'creative', 'creature', 'creatures', 'credit', 'creek', 'creepy', 'crem', 'crema', 'creme', 'cremes', 'cremim', 'cremini', 'creminis', 'cremino', 'cremodan', 'crenshaw', 'crenshaws', 'creole', 'crepe', 'crepes', 'crescent', 'crescents', 'crescenza', 'cresenza', 'cress', 'crest', 'creste', 'cretan', 'cricket', 'cried', 'crimini', 'criminis', 'crimni', 'crimped', 'crimson', 'crinkle', 'crinkles', 'crinkly', 'criolla', 'criollas', 'criollo', 'crisco', 'crisp', 'crispbread', 'crispcooked', 'crispearls', 'crisped', 'crisper', 'crispies', 'crispin', 'crisping', 'crispix', 'crispleaves', 'crisply', 'crispness', 'crisps', 'crispy', 'criss', 'crisscross', 'crisscrossed', 'cristianos', 'critter', 'crme', 'croaker', 'crock', 'crocker', 'crocks', 'croissant', 'croissants', 'croix', 'crooked', 'crookneck', 'croque', 'croquembouche', 'croquettes', 'cros', 'crosnes', 'cross', 'crosscut', 'crosse', 'crosses', 'crosshatch', 'crosshatches', 'crossways', 'crosswire', 'crosswise', 'crostata', 'crostini', 'crostone', 'crottins', 'croustades', 'croutes', 'crouton', 'croutons', 'crowd', 'crowder', 'crown', 'crowns', 'crucolo', 'cruda', 'crudite', 'crudites', 'crudité', 'crudités', 'cruise', 'crullers', 'crumb', 'crumbed', 'crumble', 'crumbled', 'crumbledcorn', 'crumbles', 'crumbling', 'crumbly', 'crumbs', 'crumpet', 'crumpets', 'crunch', 'crunched', 'crunchies', 'crunchiness', 'crunchy', 'crush', 'crushed', 'crushedtomatoes', 'crushing', 'crust', 'crustaceans', 'crusted', 'crustier', 'crusting', 'crustless', 'crusts', 'crusty', 'crutini', 'cruz', 'cruzan', 'cryovac', 'crystal', 'crystalized', 'crystalline', 'crystallized', 'crystallizing', 'crystals', 'crème', 'crème_dishes', 'créme', 'créole', 'crêpe', 'crêpes', 'csabai', 'ct', 'cu', 'cuaraco', 'cuarenta', 'cuban', 'cubanella', 'cubanelle', 'cubanelles', 'cubanero', 'cubano', 'cube', 'cubeb', 'cubebs', 'cubed', 'cubes', 'cubic', 'cubitos', 'cucumber', 'cucumbers', 'cuervo', 'cuisine', 'cuke', 'cukes', 'culantro', 'culhane', 'culinary', 'culinarydistrict', 'culinarygrade', 'cull', 'culls', 'cultivated', 'culture', 'cultured', 'cultures', 'cumberland', 'cumberlands', 'cumin', 'cuminseed', 'cupagar', 'cuparugula', 'cupboard', 'cupc', 'cupcake', 'cupcakes', 'cupcassis', 'cupchapati', 'cupchicken', 'cupcup', 'cupdill', 'cupful', 'cupgingered', 'cupgrated', 'cuphazelnuts', 'cupoil', 'cupoloroso', 'cuppesto', 'cuppine', 'cupplus', 'cupquinoa', 'cupsall', 'cupsautéed', 'cupschicken', 'cupsespagnole', 'cupsfresh', 'cupsgiblet', 'cupshachiya', 'cupsherb', 'cupsimple', 'cupslaxmi', 'cupslow', 'cupsmexican', 'cupspanko', 'cupspeanut', 'cupspickling', 'cupsrich', 'cupstomato', 'cupsturkey', 'cupswinter', 'cupunsalted', 'cupunsweetened', 'cupwhole', 'cura', 'curacao', 'curaco', 'curahao', 'curaçao', 'curd', 'curds', 'cure', 'cured', 'curing', 'curl', 'curled', 'curling', 'curls', 'curly', 'curlyleafed', 'currant', 'currants', 'current', 'currently', 'curried', 'curry', 'curtains', 'curtido', 'curtis', 'curve', 'curved', 'cushaw', 'cushion', 'cusp', 'custard', 'cut', 'cute', 'cuties', 'cutinto', 'cutlet', 'cutlets', 'cutouts', 'cuts', 'cutter', 'cutters', 'cutting', 'cuttings', 'cuttle', 'cuttlefish', 'cuz', 'cylinder', 'cylinders', 'cylindrical', 'cynar', 'cypress', 'czar', 'cèpe', 'cèpes', 'cîroc', 'côte', 'côtes', 'da', 'daal', 'dab', 'dabob', 'dacquoise', 'dad', 'daddy', 'daechu', 'daffodil', 'dahl', 'dai', 'daikon', 'daiquiri', 'dairy', 'daisies', 'daisy', 'daiya', 'dake', 'dakos', 'dakota', 'dakotana', 'dal', 'dalchini', 'dale', 'dalfour', 'dallies', 'dalmatia', 'dam', 'damaged', 'damiana', 'damn', 'damp', 'dampen', 'dampened', 'damson', 'damsons', 'dancing', 'dandelion', 'dandelions', 'dang', 'dangmyun', 'daniel', 'daniele', 'daniels', 'danish', 'dannon', 'dar', 'dariole', 'darjeeling', 'dark', 'darker', 'darkest', 'darkly', 'darne', 'darned', 'darning', 'dartagnan', 'das', 'dash', 'dasheen', 'dashes', 'dashi', 'dashida', 'dasz', 'date', 'dates', 'datil', 'dau', 'daube', 'daun', 'daurade', 'dave', 'davero', 'david', 'day', 'dayboat', 'daylily', 'dayold', 'days', 'daz', 'dazs', 'de', 'dea', 'dead', 'deal', 'dealer', 'dean', 'deandeluca', 'death', 'debeaked', 'debearded', 'debeared', 'deboned', 'deborah', 'debris', 'decadent', 'decaf', 'decaffeinated', 'decals', 'dececco', 'decedent', 'decent', 'decide', 'deciliters', 'deckle', 'decor', 'decorate', 'decorated', 'decorating', 'decoration', 'decorations', 'decorative', 'decoratively', 'decorator', 'decorators', 'decored', 'decors', 'decrusted', 'dedicated', 'deen', 'deep', 'deeper', 'deepfat', 'deepfrying', 'deeply', 'deer', 'defatted', 'defined', 'definitely', 'defrost', 'defrosted', 'defrosting', 'deg', 'degerminated', 'deglat', 'deglaze', 'deglazed', 'deglazing', 'deglet', 'degli', 'degreased', 'degree', 'degrees', 'degroff', 'degu', 'dehusked', 'dehydrated', 'dei', 'dekuyper', 'del', 'delallo', 'delaurentiis', 'deli', 'delia', 'delicacy', 'delicata', 'delicate', 'delicately', 'delicatessen', 'delicatessens', 'delicatta', 'delices', 'delicioso', 'delicious', 'delight', 'delightfulls', 'delites', 'delmarva', 'delmonico', 'delphinium', 'deluca', 'deluxe', 'delverde', 'demarara', 'demerara', 'demerera', 'demererra', 'demi', 'demiglace', 'demineralized', 'demitasse', 'den', 'dende', 'dendê', 'denerved', 'dense', 'densely', 'denta', 'dente', 'denuded', 'denver', 'department', 'departments', 'depend', 'depending', 'depends', 'deposits', 'depot', 'depth', 'derby', 'deribbed', 'des', 'desalinate', 'desalted', 'deschutes', 'descibed', 'described', 'description', 'deseeded', 'desert', 'desiccated', 'design', 'designs', 'desilked', 'desirable', 'desire', 'desired', 'desiree', 'dessert', 'desserts', 'dessertspoon', 'dessicated', 'destalked', 'destemmed', 'destoned', 'destrooper', 'destroys', 'detached', 'detailing', 'details', 'determine', 'determined', 'detox', 'devained', 'devein', 'deveined', 'deveining', 'deviant', 'deviened', 'devil', 'deviled', 'devils', 'devined', 'devon', 'devonshire', 'dew', 'dextrose', 'dha', 'dhal', 'di', 'diablo', 'diagonal', 'diagonally', 'diagonals', 'diakon', 'diameter', 'diameters', 'diamond', 'diamonds', 'diasatic', 'diastatic', 'diavlo', 'diavolo', 'dice', 'diced', 'dicedsmall', 'dicedv', 'dices', 'dicing', 'dickel', 'dickenson', 'dickensons', 'dickinson', 'die', 'diego', 'diet', 'dietz', 'difference', 'different', 'difficult', 'dig', 'digestif', 'digestive', 'digiorno', 'digital', 'dijon', 'dijonnaise', 'dijonstyle', 'dill', 'dilled', 'dillon', 'dillor', 'dillweed', 'dilly', 'dilute', 'diluted', 'dilution', 'dim', 'dime', 'dimensional', 'dimple', 'ding', 'dingle', 'dinner', 'dino', 'dinosaur', 'dip', 'diplomat', 'diplomatico', 'dipped', 'dipper', 'dippers', 'dippin', 'dipping', 'dips', 'direct', 'directed', 'directions', 'directly', 'directs', 'dirt', 'dirty', 'disagreeable', 'disaranno', 'disaronno', 'disc', 'discard', 'discarded', 'discarding', 'disclaimer', 'disco', 'discoloration', 'discolored', 'discoloring', 'discolouring', 'discos', 'discount', 'discretion', 'discs', 'dish', 'disher', 'dishes', 'dishtowels', 'dishwasher', 'disinfected', 'disjointed', 'disk', 'disks', 'disney', 'display', 'disposable', 'dissipate', 'dissolve', 'dissolved', 'dissolves', 'dissolving', 'distilled', 'distillers', 'distillery', 'distilling', 'distinctive', 'distribute', 'distributes', 'distributors', 'ditali', 'ditalini', 'ditaloni', 'ditto', 'divan', 'divded', 'diver', 'divers', 'divide', 'divided', 'divined', 'divinity', 'dixie', 'dixon', 'diy', 'djan', 'djion', 'doce', 'dock', 'docked', 'doctored', 'dodge', 'dodoni', 'doenjang', 'dofu', 'dog', 'dogfish', 'dogs', 'doily', 'dolce', 'dolcelatte', 'dole', 'dolin', 'doll', 'dollar', 'dollop', 'dolloping', 'dollops', 'dolphinfish', 'domain', 'domaine', 'dome', 'domed', 'domestic', 'dominant', 'dominic', 'dominican', 'domino', 'dominoes', 'dona', 'done', 'doneness', 'donettes', 'dong', 'donkey', 'donner', 'donnie', 'donot', 'dont', 'donut', 'donuts', 'doon', 'doone', 'door', 'dop', 'dopiaza', 'doppio', 'dorade', 'dorado', 'dorados', 'doritos', 'dorot', 'dortmunder', 'dory', 'dos', 'dot', 'dots', 'dotting', 'dou', 'doubanjiang', 'double', 'doubleline', 'doublepeeled', 'dough', 'dougha', 'doughboy', 'doughnut', 'doughnuts', 'doughs', 'douglas', 'doul', 'dounceen', 'doux', 'dove', 'dover', 'doves', 'dowel', 'dowels', 'downy', 'doz', 'doze', 'dozen', 'dozens', 'doña', 'dpdspirits', 'dr', 'draft', 'dragee', 'dragees', 'dragon', 'dragées', 'drain', 'drained', 'drainedand', 'draining', 'drake', 'dram', 'dramatic', 'dramatically', 'drambuie', 'draught', 'draw', 'drawn', 'dreaded', 'dream', 'dreamfields', 'dredge', 'dredging', 'dressed', 'dresses', 'dressing', 'dressings', 'dreyer', 'dribble', 'dried', 'drier', 'drifts', 'drink', 'drinking', 'drinks', 'drip', 'dripping', 'drippings', 'drippy', 'drips', 'driveway', 'drizzing', 'drizzle', 'drizzled', 'drizzles', 'drizzling', 'drmcdougall', 'dromedary', 'drop', 'dropperful', 'dropperfuls', 'dropping', 'drops', 'droste', 'drudging', 'drum', 'drumattached', 'drumette', 'drumettes', 'drummers', 'drummette', 'drummettes', 'drummies', 'drums', 'drumstick', 'drumsticks', 'drunken', 'dry', 'dryer', 'drying', 'dryroasted', 'drys', 'du', 'dubliner', 'dubonnet', 'duck', 'duckling', 'ducklings', 'ducks', 'duct', 'due', 'duero', 'duff', 'dufour', 'duke', 'dukkah', 'dul', 'dulce', 'dulces', 'dulche', 'dull', 'dulse', 'dum', 'dumpling', 'dumplings', 'duncan', 'dungeness', 'dungenesss', 'dungeoness', 'dunkables', 'dunkel', 'dunkers', 'dunkin', 'dunking', 'dunlop', 'dunya', 'duo', 'duoz', 'duqesne', 'durad', 'durian', 'durkee', 'durkees', 'duro', 'durum', 'dusseldorf', 'dust', 'dusted', 'duster', 'dusting', 'dutch', 'dutched', 'duty', 'duvel', 'duxelle', 'duxelles', 'dwarf', 'dye', 'dyed', 'dyeing', 'dyes', 'dylan', 'dylans', 'dynasty', 'délices', 'ea', 'eagle', 'ear', 'earl', 'earlier', 'early', 'earmuffs', 'ears', 'earth', 'earthbound', 'earthenware', 'earthgrains', 'earthy', 'earwigged', 'easier', 'easiest', 'easily', 'east', 'easter', 'eastern', 'easy', 'eat', 'eaten', 'eating', 'eats', 'eau', 'ebay', 'ebi', 'echalion', 'echinacea', 'echo', 'eckrich', 'eclair', 'ecolier', 'economic', 'economical', 'ect', 'ed', 'edam', 'edamame', 'edamames', 'eddie', 'edelman', 'edelmann', 'eden', 'edenblend', 'edenfoods', 'edge', 'edged', 'edges', 'edible', 'edibles', 'edith', 'edition', 'editor', 'editors', 'edmond', 'edmund', 'edward', 'edy', 'ee', 'eel', 'eels', 'effect', 'effective', 'effen', 'efficient', 'eg', 'egg', 'eggbeater', 'eggcups', 'eggland', 'egglant', 'eggless', 'eggnog', 'eggo', 'eggology', 'eggplant', 'eggplants', 'eggroll', 'eggs', 'eggsfinishing', 'eggshell', 'eggshells', 'eggwash', 'eggwhite', 'eggy', 'egrave', 'egyptian', 'eight', 'eighteen', 'eighth', 'eighths', 'eights', 'eiswein', 'either', 'el', 'elaborate', 'elaichi', 'elan', 'elastic', 'elberta', 'elbo', 'elbow', 'elbows', 'elderberries', 'elderberry', 'elderflower', 'elderflowers', 'eleanora', 'electric', 'elements', 'elephant', 'eleve', 'elgin', 'elijah', 'eliminate', 'elimination', 'elite', 'elixer', 'elixir', 'elizabeth', 'elk', 'ellen', 'else', 'em', 'email', 'emailing', 'embasa', 'embassa', 'embellish', 'embers', 'emerald', 'emergency', 'emergo', 'emeril', 'emillion', 'emmanthal', 'emmental', 'emmentaler', 'emmentaller', 'emmenthal', 'emmenthaler', 'emmer', 'emon', 'empanada', 'empanadas', 'empire', 'emptied', 'empty', 'emulsification', 'emulsified', 'emulsifier', 'emulsion', 'en', 'enamel', 'enameled', 'encanto', 'encases', 'enchilada', 'enchiladas', 'enchilado', 'enclose', 'enclosed', 'encona', 'encrusted', 'end', 'endive', 'endives', 'endless', 'ends', 'enebro', 'ener', 'energy', 'england', 'english', 'enhanced', 'enhancer', 'enjoy', 'enlich', 'eno', 'enoki', 'enokis', 'enough', 'enriched', 'ensalada', 'ental', 'entenmann', 'entertaining', 'entertainment', 'enthusiast', 'entilde', 'entire', 'entirely', 'entrecotes', 'entree', 'entremet', 'envelope', 'envelopes', 'environmentally', 'envy', 'eo', 'epasote', 'epazote', 'epee', 'epi', 'epices', 'epilobium', 'epis', 'episode', 'epoisse', 'equal', 'equaling', 'equally', 'equals', 'equates', 'equator', 'equatoriale', 'equatorially', 'equators', 'equimpent', 'equipment', 'equis', 'equivalent', 'equpment', 'er', 'erawan', 'erenghi', 'erengi', 'erh', 'eringi', 'eros', 'eryngii', 'erythritol', 'es', 'escabeche', 'escabèche', 'escalopes', 'escargot', 'escargots', 'escarole', 'escolar', 'escovitch', 'espagnole', 'especial', 'especially', 'espelette', 'espellette', 'esplette', 'espoons', 'espresso', 'espressos', 'espumas', 'esque', 'essa', 'essence', 'essencia', 'essensia', 'essential', 'essentials', 'essex', 'estate', 'etalon', 'etc', 'etched', 'ethiopian', 'ethmix', 'ethnic', 'ethnicgrocer', 'etorki', 'etouffee', 'etsy', 'ette', 'eureka', 'europe', 'european', 'europeanstyle', 'eva', 'evan', 'evans', 'evaporated', 'evaporates', 'eve', 'even', 'evening', 'evenly', 'eveque', 'ever', 'everclear', 'everglades', 'every', 'everyday', 'everyone', 'everything', 'evian', 'evicerated', 'eviscerated', 'evoo', 'ew', 'ex', 'exact', 'example', 'exceed', 'excellence', 'excellent', 'except', 'excerpted', 'excess', 'excessively', 'exclude', 'excluding', 'exhibit', 'exopat', 'exotic', 'exotics', 'expeller', 'expensive', 'expiration', 'explain', 'explained', 'exploding', 'explorateur', 'explorator', 'expose', 'exposing', 'express', 'expresso', 'ext', 'extact', 'exterior', 'external', 'extinct', 'extinguisher', 'extra', 'extrac', 'extract', 'extracted', 'extractor', 'extracts', 'extrafirm', 'extralarge', 'extras', 'extrasharp', 'extravirgin', 'extreme', 'extremely', 'eye', 'eyeball', 'eyeballs', 'eyed', 'eyes', 'ez', 'ezekiel', 'fabada', 'fabbri', 'fabes', 'fabric', 'fabrics', 'face', 'faceted', 'facilitate', 'facing', 'factory', 'facts', 'fage', 'fah', 'fail', 'faint', 'fair', 'fairly', 'faith', 'fajita', 'fajitas', 'falafel', 'falernum', 'fall', 'fallen', 'fallot', 'fallow', 'falls', 'famie', 'familia', 'family', 'famous', 'famouschocolate', 'fan', 'fancy', 'fanned', 'fans', 'fanta', 'fantail', 'fantasma', 'fantasy', 'far', 'farang', 'fare', 'farfalle', 'farfalline', 'farfallini', 'farfel', 'farfelle', 'farina', 'farinata', 'farinha', 'farl', 'farm', 'farmed', 'farmer', 'farmers', 'farmhouse', 'farmland', 'farms', 'farmstead', 'faro', 'farofa', 'farro', 'farron', 'farrotto', 'fashion', 'fashioned', 'fast', 'faster', 'fat', 'fatback', 'fats', 'fattened', 'fatter', 'fattier', 'fatty', 'faugier', 'faux', 'fava', 'favas', 'favored', 'favorite', 'favoriteprepared', 'favorites', 'fax', 'fe', 'feather', 'feathers', 'feathery', 'fed', 'fedelini', 'fee', 'feed', 'feel', 'feeling', 'feet', 'feisty', 'felicitas', 'felt', 'feltner', 'female', 'femur', 'fen', 'fence', 'fenix', 'fennel', 'fentimans', 'fenugreek', 'fera', 'fermentation', 'fermented', 'fermentee', 'fermentor', 'fern', 'fernet', 'ferns', 'fernshoots', 'ferrand', 'ferula', 'feshly', 'feta', 'fetta', 'fette', 'fettuccine', 'fettuccini', 'fettucine', 'fettucini', 'feuillantine', 'feuille', 'feuilletine', 'feullantine', 'fever', 'fewer', 'fiber', 'fiberous', 'fibers', 'fibrous', 'ficelle', 'ficelles', 'fiddlehead', 'fiddleheads', 'fideo', 'fideos', 'fideus', 'field', 'fieri', 'fiery', 'fiesta', 'fife', 'fifteen', 'fifth', 'fifths', 'fig', 'figlets', 'figs', 'figurine', 'filaments', 'filberts', 'file', 'filet', 'filets', 'filing', 'filipino', 'filippo', 'fill', 'filled', 'fillers', 'fillet', 'filleted', 'fillets', 'filling', 'fillings', 'fillo', 'film', 'filo', 'filter', 'filtered', 'filters', 'filé', 'fin', 'final', 'finally', 'financier', 'find', 'findit', 'fine', 'fined', 'finely', 'finelychopped', 'finelydiced', 'finelygrated', 'finelyminced', 'finemesh', 'finer', 'fines', 'finest', 'finger', 'fingered', 'fingerling', 'fingerlings', 'fingers', 'fingertips', 'fini', 'finish', 'finished', 'finishing', 'finlandia', 'finley', 'finn', 'finnan', 'finnish', 'finns', 'fino', 'finocchiona', 'finochionna', 'fins', 'fiore', 'fiorentini', 'fiori', 'fiour', 'fir', 'fire', 'fireball', 'firecracker', 'firefly', 'firehouse', 'fireplace', 'fireproof', 'fireroasted', 'fires', 'fireweed', 'firewood', 'firm', 'firmed', 'firmer', 'firmish', 'firmly', 'first', 'fiselle', 'fish', 'fishcakes', 'fisher', 'fishing', 'fishmonger', 'fishy', 'fist', 'fistful', 'fistfuls', 'fistsized', 'fit', 'fitini', 'fits', 'fitted', 'fitting', 'fitzgerald', 'five', 'fivespice', 'fix', 'fixin', 'fixing', 'fixings', 'fizz', 'fizzier', 'fizzy', 'fl', 'fla', 'flagelot', 'flageolet', 'flageolets', 'flags', 'flagship', 'flake', 'flaked', 'flakes', 'flaking', 'flaky', 'flambe', 'flambeed', 'flambeing', 'flame', 'flamed', 'flameproof', 'flames', 'flan', 'flanc', 'flanged', 'flank', 'flanken', 'flap', 'flapjacks', 'flaps', 'flared', 'flaring', 'flash', 'flask', 'flat', 'flatbread', 'flatbreads', 'flatfish', 'flatiron', 'flatleaf', 'flatout', 'flats', 'flatten', 'flattened', 'flattening', 'flatter', 'flautas', 'flavor', 'flavored', 'flavorful', 'flavoring', 'flavorings', 'flavorless', 'flavors', 'flavoured', 'flax', 'flaxseed', 'flaxseeds', 'flay', 'flea', 'fleck', 'flecked', 'fleischmann', 'fleishmann', 'flemish', 'flesh', 'fleshed', 'fleshly', 'fleshy', 'fleur', 'flex', 'flexible', 'flies', 'flint', 'flip', 'flippers', 'flipping', 'flipsides', 'float', 'floc', 'floor', 'floppy', 'flor', 'floral', 'florentine', 'florentines', 'florentyna', 'floret', 'florets', 'florettes', 'florida', 'floridian', 'florio', 'florist', 'floss', 'flot', 'flott', 'floud', 'flounder', 'flounders', 'flour', 'floured', 'flouring', 'flourless', 'flours', 'floury', 'flow', 'flower', 'flowerets', 'flowerettes', 'flowering', 'flowerlets', 'flowers', 'flowery', 'floz', 'fluff', 'fluffed', 'fluffy', 'fluid', 'fluke', 'flush', 'flushed', 'flute', 'fluted', 'flutes', 'fly', 'flying', 'fnely', 'fo', 'foam', 'foamed', 'foaming', 'foamy', 'focaccia', 'foccaccia', 'foccacia', 'fog', 'foglie', 'foie', 'foil', 'fol', 'fold', 'folded', 'folding', 'foley', 'folger', 'folgers', 'follow', 'following', 'follows', 'folows', 'fond', 'fondant', 'fonds', 'fondue', 'fonduta', 'fong', 'font', 'fontal', 'fontana', 'fontina', 'fontinella', 'food', 'foodnetwork', 'foods', 'fools', 'foot', 'football', 'footballs', 'footlong', 'footnote', 'foraged', 'forbes', 'forbidden', 'force', 'forced', 'fordhook', 'fordough', 'fords', 'fordusting', 'forefinger', 'foreleg', 'forell', 'forelle', 'forelli', 'foreshanks', 'forest', 'forester', 'forgarnish', 'forget', 'fork', 'forked', 'forks', 'form', 'formaggino', 'formed', 'forming', 'forms', 'formula', 'forravioli', 'forrest', 'forseasoning', 'forserving', 'forsprinkling', 'forte', 'fortified', 'fortifying', 'fortress', 'fortrimmed', 'fortune', 'fortunes', 'forturkey', 'forty', 'foster', 'fougasse', 'found', 'foundation', 'founders', 'fountain', 'four', 'fourme', 'fours', 'fourteen', 'fourth', 'fourths', 'fowl', 'fox', 'foxtrot', 'fra', 'frache', 'fractions', 'fraeche', 'fragmented', 'fragments', 'fragrant', 'fraiche', 'frais', 'fraise', 'fraises', 'fraiîhe', 'framboise', 'frames', 'fran', 'franc', 'france', 'francisco', 'franco', 'frangelica', 'frangelico', 'frangipane', 'frank', 'frankfurter', 'frankfurters', 'franklin', 'franks', 'franny', 'frappuccino', 'frascati', 'fraser', 'fratelli', 'fraìche', 'fraîche', 'fraîhe', 'fraïche', 'freah', 'freak', 'fred', 'free', 'freekeh', 'freerange', 'freesias', 'freestone', 'freeze', 'freezer', 'freezing', 'fregola', 'fregula', 'freia', 'freixenet', 'frekeh', 'french', 'frenched', 'frencher', 'fresca', 'fresco', 'fresh', 'freshbasil', 'freshdirect', 'freshed', 'fresher', 'freshest', 'freshlovage', 'freshly', 'freshlyground', 'freshwater', 'freshy', 'fresly', 'fresno', 'frexinet', 'fri', 'fribourgeois', 'fricassee', 'frico', 'friday', 'fridge', 'fried', 'frieda', 'friend', 'friendly', 'friendship', 'fries', 'friggiarelli', 'frijoles', 'frik', 'frika', 'frill', 'frills', 'fris', 'frisee', 'friselle', 'frisje', 'frisky', 'frissee', 'frisée', 'fritas', 'frites', 'frito', 'fritos', 'fritter', 'fritters', 'fritzi', 'friulano', 'friut', 'frizzled', 'frizzling', 'fro', 'frog', 'frogs', 'frolla', 'froma', 'fromage', 'fromager', 'frombasic', 'fromo', 'fromprime', 'frond', 'fronds', 'front', 'frontera', 'frontier', 'froot', 'frooties', 'frost', 'frosted', 'frosting', 'frostingepi', 'frostings', 'frosty', 'froth', 'frothed', 'frothiness', 'frothy', 'froz', 'frozen', 'frozenange', 'fructose', 'fruit', 'fruitcake', 'fruited', 'fruitiest', 'fruits', 'fruity', 'frutti', 'fry', 'fryer', 'fryers', 'frying', 'frymix', 'frypan', 'frères', 'frîache', 'fu', 'fucus', 'fudge', 'fudgy', 'fuerte', 'fufu', 'fugasa', 'fuggles', 'fugi', 'fuhrman', 'fuissé', 'fuji', 'fujis', 'fukunishiki', 'ful', 'full', 'fulls', 'fully', 'fuls', 'fulton', 'fulvi', 'fume', 'fumes', 'fumet', 'fumi', 'fun', 'funfetti', 'funghi', 'fungi', 'fungicides', 'fungus', 'fungusamongus', 'funked', 'funky', 'funnel', 'furikake', 'furikaki', 'furukake', 'fusili', 'fusilli', 'fusion', 'fuss', 'fussili', 'futonaga', 'future', 'fuyu', 'fuzz', 'fuzzy', 'fève', 'ga', 'gabriel', 'gabriele', 'gadgets', 'gaeta', 'gaga', 'gai', 'gal', 'gala', 'galahad', 'galanga', 'galangal', 'galani', 'galco', 'galette', 'galettes', 'galia', 'galiano', 'galletas', 'galliano', 'gallo', 'gallon', 'gallonfish', 'gallonhrimp', 'gallons', 'gamberoni', 'game', 'gammon', 'gan', 'ganache', 'gandules', 'garae', 'garage', 'garam', 'garbage', 'garbanzo', 'garbanzos', 'garbonzo', 'garde', 'gardein', 'garden', 'gardenburger', 'gardenia', 'garganelli', 'gargano', 'gari', 'garinsh', 'garland', 'garli', 'garlic', 'garlicky', 'garlicpowder', 'garlicwurst', 'garnacha', 'garnet', 'garni', 'garnier', 'garning', 'garnis', 'garnish', 'garnished', 'garnishes', 'garnishhalibut', 'garnishing', 'garnsih', 'garolic', 'garrotxa', 'garten', 'garu', 'garum', 'gas', 'gascone', 'gaspar', 'gastrique', 'gastronomie', 'gastronomy', 'gated', 'gather', 'gathered', 'gator', 'gatorade', 'gaufrette', 'gaufrettes', 'gauge', 'gaujillo', 'gavottes', 'gay', 'gayle', 'gazpacho', 'gdl', 'gear', 'gebhardt', 'geechee', 'geese', 'gefilte', 'gel', 'gelatin', 'gelatine', 'gelatinous', 'gelato', 'gelee', 'gelled', 'gels', 'gem', 'gemelli', 'gemellini', 'gems', 'general', 'generally', 'generic', 'generous', 'generously', 'genmai', 'gennaro', 'genoa', 'genoise', 'genovese', 'gentiane', 'gentle', 'gentleman', 'gently', 'gentlycleaned', 'genuine', 'genutine', 'geoduck', 'geoff', 'george', 'georgia', 'georgian', 'geound', 'gephart', 'geranium', 'geraniums', 'gerbera', 'gerhardt', 'germ', 'germain', 'germaine', 'german', 'germinated', 'germs', 'gervertztraminer', 'get', 'getting', 'gewurtztraminer', 'gewurztraminer', 'gewürztraminer', 'gf', 'gh', 'ghanoush', 'ghee', 'gherkin', 'gherkins', 'ghiradelli', 'ghirardelli', 'ghirdelli', 'ghost', 'ghosts', 'gia', 'giada', 'gianduja', 'giandujia', 'giant', 'giardella', 'giardineria', 'giardiniera', 'giblet', 'giblets', 'gibson', 'gift', 'gigante', 'gigantes', 'gigi', 'gigli', 'gigondas', 'gilded', 'gilka', 'gill', 'gilled', 'gills', 'gim', 'gimme', 'gin', 'gina', 'ginersnaps', 'gingelly', 'ginger', 'gingerade', 'gingerbread', 'gingered', 'gingeroot', 'gingerroot', 'gingersnap', 'gingersnaps', 'gingersnapz', 'gingerv', 'gingery', 'gingko', 'ginjo', 'ginkgo', 'ginko', 'ginseng', 'gioi', 'giorno', 'girard', 'girardelli', 'giri', 'girl', 'girls', 'giroles', 'girolles', 'giuliano', 'giusto', 'give', 'gives', 'giving', 'gizmos', 'gizzard', 'gizzards', 'gjetost', 'glac', 'glacage', 'glace', 'glaced', 'glaceed', 'glacer', 'glaces', 'glacé', 'glacéed', 'glacés', 'glad', 'glass', 'glasses', 'glassine', 'glassware', 'glaze', 'glazed', 'glazeepi', 'glazing', 'glen', 'glenfiddich', 'glenn', 'glitter', 'global', 'globe', 'gloopy', 'glory', 'gloss', 'glossing', 'glossy', 'gloucester', 'glove', 'gloves', 'glucose', 'glue', 'glug', 'glugs', 'glutamate', 'gluten', 'glutino', 'glutinous', 'glycerin', 'glycerine', 'gm', 'gmo', 'gnocchetti', 'gnocchi', 'gnocci', 'gnochetti', 'gnudi', 'go', 'goan', 'goat', 'goats', 'goblets', 'gobo', 'gocho', 'gochu', 'gochuchang', 'gochugaru', 'gochujang', 'goddess', 'godello', 'godiva', 'gods', 'goes', 'goggles', 'gogh', 'gohan', 'going', 'goji', 'gojuchang', 'gold', 'golden', 'goldenbells', 'goldfish', 'goldhen', 'goldings', 'goldish', 'goldleafcompany', 'golds', 'goldschlager', 'goldschlagger', 'goldschläger', 'goldust', 'golen', 'golf', 'goma', 'gomashio', 'gomatare', 'gomme', 'gone', 'gongonzola', 'gonna', 'gonsalves', 'gonzolves', 'goo', 'goobers', 'good', 'goodbar', 'goodies', 'goodman', 'goodness', 'goodquality', 'goods', 'goodwill', 'gooey', 'goop', 'goose', 'gooseberries', 'gooseberry', 'goot', 'gordon', 'goreng', 'gorgeous', 'gorgonzola', 'gosling', 'goslings', 'got', 'gouda', 'goudenband', 'gougeres', 'goulash', 'gound', 'gourd', 'gourmandise', 'gourmet', 'gown', 'goya', 'goyoza', 'grace', 'grade', 'gradually', 'graduated', 'grady', 'grafton', 'graham', 'grahams', 'grain', 'grained', 'grains', 'grainy', 'gram', 'grams', 'gran', 'grana', 'grand', 'grandma', 'grandmother', 'grands', 'granita', 'granite', 'granny', 'grano', 'granola', 'granualted', 'granular', 'granulated', 'granule', 'granules', 'grape', 'grapefruit', 'grapefruits', 'grapefuit', 'grapes', 'grapeseed', 'grapeskin', 'grapevine', 'grappa', 'gras', 'grasp', 'grass', 'grasshopper', 'grasshoppers', 'grate', 'grated', 'gratedfresh', 'gratedkosher', 'grater', 'graters', 'grates', 'gratin', 'grating', 'gratings', 'grave', 'gravenstein', 'gravenstien', 'gravity', 'gravlax', 'gravy', 'gravymaster', 'gray', 'grease', 'greased', 'greasing', 'great', 'greater', 'greatest', 'greatly', 'grechetto', 'greco', 'greece', 'greek', 'green', 'greener', 'greenery', 'greening', 'greenings', 'greenish', 'greenline', 'greens', 'greentomatoes', 'gremolada', 'gremolata', 'grenache', 'grenadine', 'gressingham', 'grey', 'gribenes', 'gribines', 'griddle', 'griddled', 'griddling', 'grigio', 'grill', 'grille', 'grilled', 'grillers', 'grillin', 'grilling', 'grillmates', 'grillotine', 'grind', 'grinded', 'grinder', 'grinders', 'grinding', 'grindings', 'grinds', 'grins', 'griottes', 'gris', 'grissini', 'gristle', 'grit', 'grits', 'gritted', 'gritty', 'groat', 'groats', 'grocer', 'groceries', 'grocers', 'grocery', 'grolsch', 'grooved', 'gros', 'grosso', 'ground', 'groundblack', 'grounded', 'groundnut', 'grounds', 'groundyellow', 'grouper', 'groups', 'grouse', 'grove', 'grow', 'grown', 'grreen', 'gruet', 'gruner', 'gruy', 'gruyere', 'gruyáre', 'gruyère', 'gruyére', 'grüner', 'gua', 'guacamole', 'guadeloupean', 'guadeloupian', 'guajillo', 'guajillos', 'guanabana', 'guanciale', 'guapo', 'guar', 'guarana', 'guard', 'guardian', 'guascas', 'guava', 'guavas', 'guedge', 'guerito', 'guero', 'guerrero', 'guess', 'guest', 'guests', 'gueze', 'guide', 'guideline', 'guidelines', 'guijilb', 'guijillo', 'guilia', 'guilin', 'guiltless', 'guindilla', 'guinea', 'guinness', 'guittard', 'gulden', 'gulf', 'gum', 'gumball', 'gumballs', 'gumbo', 'gumdrop', 'gumdrops', 'gummi', 'gummies', 'gummy', 'gums', 'gun', 'gundillas', 'gunpowder', 'guntur', 'gurih', 'gurroxta', 'guru', 'gusano', 'gushy', 'gustiamo', 'gusto', 'gut', 'guts', 'gutted', 'guy', 'guyaba', 'guys', 'guérande', 'gwa', 'gwaltney', 'gwen', 'gyoza', 'gypsum', 'gypsy', 'gyro', 'gyromitre', 'gz', 'génoise', 'gênoise', 'ha', 'haagen', 'haas', 'habana', 'habanera', 'habanero', 'habaneros', 'habas', 'habañero', 'habenaro', 'habenero', 'habeneros', 'habichuela', 'hachiya', 'hacienda', 'hacked', 'hackleback', 'haco', 'haddie', 'haddock', 'haeng', 'hafi', 'haiga', 'hair', 'hairy', 'haitian', 'hajikami', 'hake', 'hakurei', 'hakusai', 'hakusan', 'haldi', 'halen', 'half', 'halfed', 'halfway', 'halibut', 'hall', 'halloumi', 'hallow', 'halloween', 'halo', 'haloumi', 'halvah', 'halve', 'halved', 'halves', 'ham', 'hamachi', 'hamakua', 'hamburger', 'hamburgers', 'hamersley', 'hamlin', 'hammer', 'hampton', 'hamptons', 'hams', 'han', 'hana', 'hand', 'handcrushed', 'handcut', 'handful', 'handfull', 'handfulls', 'handfuls', 'handheld', 'handi', 'handle', 'handled', 'handles', 'handling', 'handmade', 'handpicked', 'hands', 'handwritten', 'handy', 'hang', 'hangar', 'hanger', 'hanging', 'hanna', 'hannout', 'hanout', 'hansen', 'hansens', 'hanshimiji', 'hanut', 'happy', 'hapuku', 'haralson', 'harbors', 'hard', 'hardboiled', 'hardcooked', 'hardened', 'hardening', 'hardens', 'hardneck', 'hardware', 'hardwood', 'hardy', 'hare', 'haribo', 'haricorts', 'haricot', 'haricots', 'harina', 'harisa', 'harissa', 'harlem', 'harley', 'harmless', 'haroseth', 'harp', 'hartshorn', 'harusame', 'harvati', 'harvest', 'harvested', 'harvey', 'harveys', 'hash', 'hashbrown', 'hashbrowns', 'hass', 'hassel', 'hat', 'hatch', 'hats', 'haunch', 'haupia', 'haute', 'havarti', 'hawaii', 'hawaiian', 'hawayei', 'hawk', 'hawthorn', 'hay', 'hayman', 'haystack', 'haystacks', 'haze', 'hazel', 'hazelnut', 'hazelnuts', 'hazlenut', 'head', 'headed', 'headless', 'headnote', 'heads', 'headsac', 'heal', 'health', 'healthy', 'heaped', 'heaping', 'hears', 'heart', 'hearts', 'hearty', 'heat', 'heated', 'heath', 'heather', 'heating', 'heatproof', 'heats', 'heavier', 'heavily', 'heavy', 'heavyduty', 'hebrew', 'heckers', 'hedgehog', 'hedgehogs', 'heel', 'heels', 'heering', 'hefeweizen', 'hefeweizenstyle', 'hefty', 'height', 'heightens', 'heineken', 'heinekin', 'heinz', 'heir', 'heirloom', 'heirlooms', 'hekka', 'held', 'helix', 'hell', 'hellfire', 'hellman', 'hellmann', 'help', 'helper', 'helpers', 'helpful', 'helps', 'hemisphere', 'hemispherical', 'hemp', 'hen', 'hendrick', 'hendricks', 'hengstenberg', 'hennessey', 'hennessy', 'henry', 'hens', 'herb', 'herbal', 'herbamare', 'herbed', 'herbes', 'herbs', 'herbsaint', 'herby', 'herdez', 'herding', 'heritage', 'herman', 'hero', 'heroes', 'herradura', 'herring', 'herrings', 'hersey', 'hershey', 'hersheys', 'herzog', 'hg', 'hi', 'hibachi', 'hibiki', 'hibiscus', 'hick', 'hickory', 'hidalgo', 'hidden', 'hide', 'hiding', 'hierba', 'hierbabuena', 'high', 'higher', 'highest', 'highland', 'highly', 'highquality', 'hijiki', 'hill', 'hillbilly', 'hills', 'hillshire', 'himachi', 'himalayan', 'hime', 'hind', 'hindquarter', 'hine', 'hines', 'hing', 'hinged', 'hint', 'hios', 'hip', 'hips', 'hiram', 'hispanic', 'hits', 'hiyashi', 'hiziki', 'ho', 'hoagie', 'hoagies', 'hobby', 'hoboken', 'hock', 'hocks', 'hodgson', 'hoegaarden', 'hog', 'hogfish', 'hogie', 'hogwash', 'hoisin', 'hoja', 'hojiblanca', 'hokusetsu', 'hold', 'holders', 'holding', 'holds', 'hole', 'holes', 'holiday', 'holidays', 'holland', 'hollandaise', 'hollandaze', 'hollow', 'hollowed', 'hollows', 'holly', 'holy', 'homade', 'home', 'homegrown', 'homemade', 'homemadetype', 'homestyle', 'hometown', 'hominy', 'hommarus', 'homogenized', 'hon', 'hondashi', 'honest', 'honey', 'honeybell', 'honeycomb', 'honeycrisp', 'honeydew', 'honeydews', 'honeyed', 'honeynut', 'honeysuckle', 'hong', 'honing', 'honkers', 'honshimeji', 'hooch', 'hood', 'hoof', 'hook', 'hooligan', 'hoop', 'hooters', 'hoover', 'hop', 'hopefully', 'hopped', 'hoppers', 'hoppy', 'hops', 'hor', 'horchata', 'horizon', 'horizontal', 'horizontally', 'hormel', 'hormone', 'horn', 'horned', 'hornitos', 'hors', 'horseradish', 'horticultural', 'hose', 'hoshi', 'hosin', 'hostess', 'hot', 'hotchkiss', 'hotdog', 'hotdogs', 'hotel', 'hotels', 'hothoney', 'hothouse', 'hotness', 'hots', 'hotsauce', 'hotshortbread', 'hotter', 'hottest', 'houdini', 'hour', 'hours', 'house', 'household', 'houses', 'houton', 'hovmastarsas', 'however', 'hoy', 'hp', 'hpnotiq', 'hreavy', 'href', 'hsing', 'html', 'http', 'hu', 'huacatay', 'hubbard', 'huckleberries', 'huckleberry', 'hudson', 'hudsonvalleyfoiegras', 'hudsonville', 'hues', 'huge', 'hugs', 'huichol', 'huitlacoche', 'hukilau', 'hull', 'hulled', 'hum', 'humboldt', 'humbolt', 'hummus', 'hunan', 'hundred', 'hung', 'hungarian', 'hungry', 'hunk', 'hunks', 'hunt', 'hunter', 'hunts', 'hunza', 'hurry', 'hush', 'hushpuppies', 'hushpuppy', 'husk', 'husked', 'husks', 'huy', 'hy', 'hydrangea', 'hydrate', 'hydrated', 'hydrating', 'hydro', 'hydrogenated', 'hydromel', 'hydroponic', 'hydroxide', 'hyssop', 'häagen', 'hôtel', 'ian', 'ib', 'ibarra', 'iberian', 'iberico', 'ice', 'iceberg', 'iceberglettuce', 'icebox', 'iceburg', 'icecold', 'icecream', 'iced', 'icelandic', 'icepop', 'ich', 'ichimi', 'icicle', 'icing', 'icingepi', 'icings', 'id', 'ida', 'idaho', 'idahoan', 'idahos', 'ideal', 'ideally', 'ideas', 'identical', 'identification', 'identified', 'idiazabal', 'idiazábal', 'ie', 'ignite', 'igourmet', 'ii', 'ike', 'ikea', 'ikura', 'il', 'ila', 'ilha', 'illabo', 'illet', 'ilmercatoitaliano', 'imagine', 'imitation', 'immaculate', 'immature', 'immediately', 'immerse', 'immersion', 'impart', 'impasta', 'impastata', 'imperia', 'imperial', 'imperials', 'important', 'imported', 'imports', 'impromptu', 'improvise', 'impurities', 'impériale', 'imu', 'ina', 'inadobo', 'inamona', 'inari', 'inboiling', 'inc', 'inca', 'ince', 'inchalmond', 'inchcubes', 'inchdice', 'inche', 'inchesand', 'inchlong', 'inchpieces', 'incht', 'inchthick', 'inchwide', 'incision', 'inck', 'include', 'included', 'includes', 'including', 'incorporate', 'increase', 'increased', 'increments', 'incubator', 'indentations', 'indents', 'index', 'india', 'indian', 'indiana', 'indianblend', 'indicated', 'indicates', 'indies', 'indirect', 'indispensable', 'individual', 'individually', 'indonesian', 'indoor', 'indulgence', 'inedible', 'inexpensive', 'infant', 'info', 'information', 'infornate', 'infuse', 'infused', 'infusing', 'infusion', 'infusions', 'ingesting', 'inglehoffer', 'ingredient', 'ingredients', 'inh', 'inhalf', 'inhes', 'injectable', 'injected', 'injection', 'injector', 'injera', 'ink', 'inn', 'inna', 'innards', 'inner', 'innermost', 'inniskillin', 'innovasian', 'inpursuitoftea', 'ins', 'insam', 'insanely', 'insects', 'insert', 'inserted', 'inserting', 'inside', 'insides', 'insist', 'inspirations', 'inspired', 'inspires', 'insta', 'instacure', 'instant', 'instead', 'instructed', 'instruction', 'instructions', 'insufficient', 'insulated', 'intact', 'intake', 'intense', 'intensely', 'interesting', 'interfere', 'interior', 'international', 'intervals', 'intestines', 'inthe', 'intoquarters', 'intro', 'invented', 'invert', 'invertase', 'inverted', 'investment', 'iodized', 'iowsodium', 'ipa', 'ipswich', 'iqf', 'iranian', 'iraty', 'irgin', 'iriko', 'irises', 'irish', 'iron', 'irregular', 'irregularly', 'irvine', 'isaiah', 'isaly', 'ish', 'island', 'islands', 'islay', 'isle', 'isnecessary', 'isolate', 'isomalt', 'israel', 'israeli', 'issue', 'italia', 'italian', 'italiano', 'italy', 'item', 'items', 'ivanhoe', 'ivoire', 'ivory', 'ivy', 'ja', 'jack', 'jackcheese', 'jacked', 'jackets', 'jackfruit', 'jacobsen', 'jaegermeister', 'jagermeister', 'jaggery', 'jagody', 'jake', 'jalape', 'jalapeno', 'jalapenos', 'jalapenños', 'jalapeo', 'jalapeos', 'jalapeño', 'jalapeños', 'jalapño', 'jalepeno', 'jalepenos', 'jalepeño', 'jalopeno', 'jalopenos', 'jalpenenos', 'jalpeno', 'jam', 'jamaica', 'jamaican', 'jambalaya', 'jambon', 'jameed', 'james', 'jameson', 'jamiaca', 'jamie', 'jamon', 'jams', 'jamón', 'jan', 'jane', 'janette', 'jang', 'jantaboon', 'jap', 'japan', 'japanese', 'japanesse', 'japapeños', 'japones', 'japonica', 'jar', 'jarlsberg', 'jarlsburg', 'jarred', 'jarritos', 'jars', 'jarslberg', 'jasmati', 'jasmin', 'jasmine', 'jaune', 'java', 'javin', 'jay', 'jazz', 'jazzed', 'jb', 'jd', 'jdk', 'jean', 'jeanne', 'jeera', 'jefe', 'jeff', 'jel', 'jell', 'jellied', 'jellies', 'jello', 'jells', 'jelly', 'jellybeans', 'jellyroll', 'jellyrolls', 'jemima', 'jen', 'jenever', 'jenkins', 'jenlain', 'jennie', 'jerez', 'jerk', 'jerked', 'jerky', 'jerry', 'jersey', 'jerusalem', 'jet', 'jeung', 'jewel', 'jewels', 'jewish', 'jfg', 'jiang', 'jicama', 'jicamas', 'jicima', 'jif', 'jiffy', 'jigger', 'jiggers', 'jim', 'jimenez', 'jimmies', 'jimmy', 'jims', 'jitomate', 'jivara', 'joaquin', 'joconde', 'joe', 'joes', 'joh', 'johannesburg', 'johannisberg', 'john', 'johnagold', 'johnanisberg', 'johnnie', 'johnny', 'johnnycake', 'johnson', 'johnsonville', 'joi', 'joint', 'jointed', 'joints', 'jolly', 'jolokia', 'jonagold', 'jonah', 'jonathan', 'jonathans', 'jones', 'jordan', 'jos', 'jose', 'jouët', 'jowl', 'jowls', 'joy', 'joyva', 'jp', 'jqa', 'jr', 'judgment', 'judiciously', 'judy', 'jug', 'juht', 'juic', 'juicd', 'juice', 'juiceb', 'juiced', 'juicer', 'juices', 'juicier', 'juiciness', 'juicing', 'juicy', 'juilenne', 'juilenned', 'juilienne', 'juilienned', 'jujube', 'jujubes', 'jujyfruits', 'julep', 'jules', 'julia', 'julienne', 'julienned', 'juliennes', 'julio', 'julliene', 'julliened', 'jullienned', 'jumbo', 'jumex', 'jump', 'jung', 'jungle', 'junior', 'juniper', 'junlianned', 'junmai', 'junípero', 'jura', 'jus', 'justice', 'justin', 'justover', 'jut', 'jwala', 'jícama', 'kaali', 'kabanos', 'kabinett', 'kabob', 'kabobs', 'kabocha', 'kaboucha', 'kabsa', 'kacang', 'kacha', 'kadhai', 'kadota', 'kaese', 'kaffir', 'kafir', 'kahl', 'kahlu', 'kahlua', 'kahlza', 'kahlú', 'kahlúa', 'kahlûa', 'kahula', 'kai', 'kaiser', 'kaisers', 'kaitafi', 'kaiware', 'kala', 'kalamansi', 'kalamanta', 'kalamari', 'kalamata', 'kalamatas', 'kalbi', 'kale', 'kalhua', 'kalimyrna', 'kalonji', 'kalua', 'kaluha', 'kalustyan', 'kalustyans', 'kalúa', 'kam', 'kamaboko', 'kame', 'kampot', 'kamut', 'kangaroo', 'kansas', 'kantong', 'kaolin', 'kaong', 'kaori', 'kapusta', 'karashi', 'karat', 'kari', 'karo', 'karpoor', 'karu', 'karv', 'kary', 'kasandrino', 'kase', 'kasha', 'kashi', 'kashkaval', 'kashmiri', 'kasih', 'kasoori', 'kassari', 'kasseri', 'kastoori', 'kasturi', 'kasuri', 'kat', 'kataife', 'kataifi', 'katakuriko', 'kathleen', 'katie', 'katinka', 'katsu', 'katsuo', 'katsuobushi', 'katz', 'kauai', 'kavli', 'kawari', 'kay', 'kc', 'keahole', 'kearn', 'keawe', 'kebab', 'kebabs', 'kebbe', 'kebobs', 'kecap', 'kechap', 'kee', 'keebler', 'keel', 'keen', 'keep', 'keeping', 'keeps', 'kefalograviera', 'kefalotiri', 'kefalotyri', 'keffir', 'kefir', 'keg', 'keiser', 'keisers', 'kekchi', 'kellogg', 'kelly', 'kelp', 'kemp', 'ken', 'kendra', 'kendraskitchen', 'kenko', 'kennabeck', 'kennebeck', 'kenny', 'kensington', 'kent', 'kentjoer', 'kentucky', 'kept', 'kern', 'kernel', 'kernels', 'kerns', 'kerr', 'kerrygold', 'ketchup', 'ketel', 'ketjap', 'kettle', 'kettlepizza', 'kewpie', 'key', 'keys', 'keystone', 'kg', 'kha', 'khakhra', 'khao', 'khmer', 'khorasan', 'khua', 'khus', 'kibbeh', 'kick', 'kicked', 'kickin', 'kid', 'kiddush', 'kidney', 'kidneys', 'kids', 'kielbasa', 'kii', 'kikkoman', 'kill', 'killa', 'killed', 'kilo', 'kilogram', 'kilograms', 'kilos', 'kim', 'kimchee', 'kimchi', 'kimelweck', 'kin', 'kind', 'kindlin', 'kinds', 'king', 'kingarthurflour', 'kings', 'kingsford', 'kingui', 'kinh', 'kinome', 'kippered', 'kippers', 'kir', 'kirbies', 'kirby', 'kirin', 'kirkland', 'kirkwood', 'kirmizi', 'kirsch', 'kirschwasser', 'kirsh', 'kirshwasser', 'kishke', 'kiss', 'kissed', 'kisses', 'kit', 'kitchen', 'kitchenmarket', 'kitchens', 'kite', 'kiwi', 'kiwifruit', 'kiwifruits', 'kiwis', 'kix', 'kizami', 'klondike', 'kluski', 'knackwurst', 'knafe', 'knead', 'kneaded', 'kneading', 'knee', 'knife', 'knipla', 'knish', 'knives', 'knob', 'knobs', 'knock', 'knocking', 'knockwurst', 'knoephla', 'knorr', 'knot', 'knots', 'knott', 'knotted', 'know', 'known', 'knox', 'knoxx', 'knuckle', 'knuckles', 'knudsen', 'ko', 'koala', 'koamart', 'kobe', 'kocher', 'kochi', 'kochujang', 'kochukaru', 'kodiak', 'koeksisters', 'koftas', 'kohlrabi', 'kohlrabies', 'kohu', 'koji', 'kojuchang', 'kokuho', 'kolbasi', 'komatsuna', 'kombu', 'kombucha', 'kona', 'konbu', 'kong', 'konriko', 'kool', 'koon', 'korbel', 'korean', 'korma', 'korn', 'kosari', 'koseret', 'kosh', 'kosher', 'koshersalt', 'kosherstyle', 'koshi', 'koshian', 'kosho', 'kovbasa', 'kraft', 'kraken', 'kraprao', 'kraut', 'krayana', 'krazy', 'kreplach', 'kriek', 'krimpets', 'krinkel', 'krinos', 'kris', 'krisp', 'krispies', 'kroeung', 'kroger', 'krogstad', 'krupuk', 'kruse', 'krusteaz', 'kucai', 'kuchela', 'kucho', 'kudzu', 'kuei', 'kugelhopf', 'kugelhupf', 'kukui', 'kula', 'kum', 'kumamoto', 'kumamotos', 'kumara', 'kummelweck', 'kumquat', 'kumquats', 'kumquatsepi', 'kumu', 'kumumoto', 'kung', 'kunomoto', 'kuri', 'kuro', 'kurobuta', 'kuza', 'kvass', 'kwanzaa', 'kway', 'ky', 'kyoto', 'kümmel', 'la', 'labatts', 'label', 'labeled', 'labels', 'labne', 'labneh', 'laboiteny', 'lace', 'laces', 'lacey', 'lacinato', 'lacing', 'lack', 'lacquer', 'lacquered', 'lacroix', 'lactaid', 'lactate', 'lacto', 'lactose', 'lacy', 'laden', 'ladle', 'ladolemono', 'lady', 'ladyfinger', 'ladyfingers', 'lafe', 'laffy', 'lagavulin', 'lager', 'lagerstyle', 'laguiole', 'lagunitas', 'laird', 'lait', 'lake', 'lakefront', 'lakes', 'lakeside', 'laksa', 'lalah', 'lamb', 'lambic', 'lambrusco', 'lambs', 'lame', 'lamill', 'lamp', 'lan', 'lancashire', 'lancaster', 'lancelot', 'land', 'langhan', 'langostines', 'langostino', 'langostinos', 'langoustine', 'langoustines', 'lanka', 'lankan', 'lantana', 'lantern', 'lap', 'lapchang', 'lapchong', 'lapchongs', 'laphroaig', 'laphroiag', 'lapsang', 'laquercia', 'lard', 'larded', 'larding', 'lardo', 'lardon', 'lardons', 'lardoons', 'large', 'largefrench', 'largely', 'larger', 'largest', 'largish', 'lars', 'lasagna', 'lasagne', 'lasagnette', 'last', 'late', 'later', 'laterally', 'latex', 'latienda', 'latik', 'latin', 'latina', 'latino', 'latke', 'latkes', 'latourangelle', 'latte', 'latter', 'lattice', 'lauer', 'laughing', 'laura', 'laurel', 'laurentiis', 'lava', 'lavang', 'lavash', 'lavazza', 'lavender', 'laver', 'lavosh', 'law', 'lawry', 'laxmi', 'lay', 'layer', 'layered', 'layering', 'layers', 'lazy', 'lazzaroni', 'lb', 'lbs', 'le', 'lea', 'leaaves', 'lead', 'leaf', 'leafed', 'leafs', 'leafy', 'lean', 'leaner', 'leanest', 'leanness', 'least', 'leather', 'leathers', 'leatherwood', 'leathery', 'leave', 'leaved', 'leavener', 'leavening', 'leaves', 'leavesfinely', 'leaving', 'lebanese', 'lebkuchen', 'leblon', 'lebneh', 'leche', 'lechera', 'leches', 'lechón', 'lecithin', 'lee', 'leek', 'leeks', 'leeners', 'leer', 'lefse', 'left', 'leftover', 'leftovers', 'leg', 'legs', 'legthwise', 'legumes', 'leicester', 'leidenheimer', 'lek', 'lekvar', 'lemon', 'lemonade', 'lemoncello', 'lemongrass', 'lemons', 'lemony', 'lemonzest', 'lend', 'lenghthwise', 'lenghtwise', 'lengkuas', 'length', 'lengths', 'lengthways', 'lengthwise', 'lengua', 'lenticchie', 'lentil', 'lentilles', 'lentils', 'leo', 'leon', 'leonardo', 'leones', 'lepicerie', 'lescure', 'less', 'lesueur', 'let', 'letters', 'lettuce', 'lettuces', 'levain', 'level', 'leveled', 'leveling', 'levels', 'leves', 'lexington', 'leyden', 'lg', 'li', 'lian', 'libby', 'liberal', 'liberty', 'lichee', 'lick', 'licor', 'licorice', 'lid', 'lids', 'lie', 'liefman', 'liege', 'lievito', 'life', 'lifesavers', 'lift', 'lifter', 'ligament', 'light', 'lightbrown', 'lighten', 'lightened', 'lighter', 'lighting', 'lightlife', 'lightly', 'lightlysweetened', 'lightning', 'lighttasting', 'lightweight', 'liguria', 'ligurian', 'like', 'liked', 'likes', 'liking', 'lil', 'lilies', 'lilikoi', 'lillet', 'lilly', 'lily', 'lima', 'limas', 'limburger', 'lime', 'limeade', 'limejuice', 'limes', 'limestone', 'limezest', 'limited', 'limo', 'limon', 'limonada', 'limonata', 'limoncello', 'limoncillo', 'limone', 'limu', 'linch', 'lindemans', 'lindor', 'lindsay', 'lindt', 'lindy', 'line', 'lined', 'linen', 'liner', 'liners', 'lines', 'ling', 'lingcod', 'lingham', 'lingonberries', 'lingonberry', 'lingots', 'lingui', 'linguica', 'linguine', 'linguinetti', 'linguini', 'linguisa', 'linguiça', 'lini', 'linie', 'lining', 'link', 'linkback', 'linked', 'links', 'linquini', 'linseed', 'linseeds', 'lint', 'lion', 'lionel', 'lionfish', 'lip', 'lipped', 'lips', 'lipton', 'liquada', 'liquefied', 'liquefy', 'liquer', 'liqueuer', 'liqueur', 'liqueurs', 'liquid', 'liquids', 'liquified', 'liquor', 'liquorice', 'liquors', 'lis', 'lisbon', 'lisci', 'liscie', 'list', 'listed', 'listing', 'lit', 'litchi', 'litchis', 'lite', 'liter', 'literally', 'liters', 'litre', 'litres', 'little', 'littleneck', 'littlenecks', 'live', 'liver', 'liverot', 'livers', 'liverwurst', 'lizano', 'llama', 'lo', 'loa', 'load', 'loading', 'loads', 'loaf', 'loafs', 'loaves', 'loavescorn', 'lobe', 'lobes', 'lobster', 'lobsters', 'loc', 'local', 'locally', 'locate', 'located', 'locatella', 'locatelli', 'locked', 'lockhart', 'loco', 'loconut', 'locoto', 'locust', 'locusts', 'log', 'logan', 'loganberries', 'logs', 'loin', 'loinback', 'loins', 'lola', 'lolla', 'lollipop', 'lollipops', 'lollo', 'lombardo', 'lomi', 'lomo', 'london', 'lone', 'long', 'longaniza', 'longer', 'longevity', 'longgrain', 'longhorn', 'longon', 'longway', 'longways', 'longwise', 'loofah', 'look', 'looks', 'loom', 'loomi', 'loop', 'looped', 'loops', 'loose', 'loosely', 'loosen', 'loosened', 'looza', 'lop', 'lopez', 'loquat', 'loquats', 'lorann', 'lord', 'lorenzo', 'lorna', 'lorraine', 'los', 'losher', 'lost', 'lot', 'lots', 'lotta', 'lotus', 'louie', 'louis', 'louisiana', 'loukanika', 'loup', 'lour', 'loute', 'lovage', 'love', 'loveless', 'lovely', 'lover', 'lovers', 'low', 'lowcountry', 'lower', 'lowering', 'lowery', 'lowfat', 'lowry', 'lowsalt', 'lowsodium', 'lox', 'loóza', 'lpound', 'lt', 'ltd', 'lttle', 'lu', 'lua', 'luau', 'lubricating', 'luca', 'lucini', 'luck', 'lucknow', 'lucknowi', 'lucky', 'lucques', 'lucía', 'lug', 'luganega', 'luger', 'lugs', 'lukanka', 'luke', 'lukewarm', 'lulo', 'lumaconi', 'lumb', 'lumber', 'lumberyards', 'lump', 'lumpfish', 'lumpia', 'lumpias', 'lumps', 'lumpy', 'luna', 'lunazul', 'lunch', 'luncheon', 'lunchmate', 'lunchmeat', 'lundberg', 'lung', 'lunghi', 'luo', 'lup', 'lupe', 'luscious', 'lustau', 'luster', 'lusterdust', 'luxardo', 'lychee', 'lychees', 'lying', 'lyle', 'lyles', 'lynnhaven', 'lyons', 'lópez', 'mac', 'maca', 'macadamia', 'macadamias', 'macademia', 'macapuno', 'macaron', 'macaronade', 'macaroni', 'macarons', 'macaroon', 'macaroons', 'maccheroncini', 'macchiato', 'mace', 'macedonian', 'macerated', 'machaca', 'machacado', 'mache', 'machine', 'machines', 'machj', 'machlin', 'macho', 'machos', 'macintosh', 'mackeral', 'mackerel', 'mackerels', 'mackeson', 'macon', 'macoun', 'macouns', 'macrina', 'macsagna', 'madagascan', 'madagascar', 'maddalena', 'made', 'madeira', 'madeleine', 'madeleines', 'madiera', 'madras', 'maduro', 'maduros', 'mae', 'maekrua', 'mafalda', 'mafalde', 'mafaldine', 'maftoul', 'magazine', 'maggi', 'maggie', 'maggies', 'maggots', 'magi', 'magic', 'magical', 'magnesium', 'magnet', 'magnetized', 'magnificent', 'magnum', 'magpie', 'magret', 'magrets', 'maguey', 'maguro', 'mahal', 'maharaja', 'mahatma', 'mahi', 'mahimahi', 'mahlab', 'mahleb', 'mahlepi', 'mahoganies', 'mahogany', 'mahon', 'mahón', 'mai', 'maid', 'maida', 'maiden', 'maifun', 'mail', 'maille', 'main', 'maine', 'maison', 'maitake', 'maitakes', 'maitaké', 'maiz', 'maize', 'maizena', 'maja', 'majhoul', 'majool', 'major', 'majoram', 'make', 'maker', 'makers', 'makes', 'maki', 'making', 'makisu', 'mako', 'makroot', 'malabar', 'malaga', 'malagkit', 'malagueta', 'malanga', 'malaysian', 'malbec', 'maldon', 'male', 'maleguata', 'malfade', 'malibu', 'malitol', 'mallard', 'malleable', 'mallet', 'malloreddus', 'malmsey', 'malpecque', 'malpecques', 'malpeque', 'malpeques', 'malt', 'malta', 'maltaise', 'maltas', 'malted', 'maltesers', 'maltodextrin', 'maltose', 'mam', 'mama', 'maman', 'mame', 'mamey', 'mamita', 'mamma', 'mamé', 'man', 'manageable', 'mancego', 'manchego', 'mandarin', 'mandarine', 'mandarins', 'mandolin', 'mandoline', 'mandrange', 'mandrin', 'mangetout', 'mango', 'mangoes', 'mangos', 'mangteout', 'manhattan', 'manicotti', 'manie', 'manila', 'manilla', 'manioc', 'manis', 'manischewitz', 'manishevitz', 'manié', 'manjar', 'manjari', 'manner', 'manoa', 'manouri', 'manteca', 'mantis', 'manto', 'manual', 'manufacturer', 'manufacturing', 'manuka', 'manwich', 'many', 'manzanella', 'manzanilla', 'manzanillas', 'manzanillo', 'manzano', 'mao', 'maple', 'mapled', 'maque', 'mar', 'mara', 'marabo', 'maracino', 'maracuyá', 'maras', 'marasala', 'marasca', 'maraschino', 'marash', 'maraska', 'marble', 'marbled', 'marbleized', 'marbles', 'marc', 'marcela', 'marché', 'marcona', 'marcos', 'mardi', 'mardigrasday', 'mare', 'margarine', 'margarita', 'margaritas', 'margaritaville', 'margerine', 'margherita', 'maria', 'mariage', 'mariani', 'marias', 'marichu', 'marie', 'marigold', 'marigolds', 'marina', 'marinade', 'marinades', 'marinara', 'marinate', 'marinated', 'marinating', 'mariner', 'marion', 'marionberries', 'marionberry', 'maris', 'marjoram', 'mark', 'marked', 'marker', 'markers', 'market', 'markethallfoods', 'markets', 'marlin', 'marmalade', 'marmellata', 'marmite', 'marnano', 'marnier', 'marnique', 'maroon', 'married', 'marron', 'marrons', 'marrow', 'marrowbones', 'mars', 'marsala', 'marscapone', 'marscarpone', 'marshmallow', 'marshmallows', 'marteen', 'martha', 'martin', 'martina', 'martinelli', 'martini', 'martiniquan', 'martiniquen', 'maruchan', 'marukan', 'mary', 'maryland', 'marys', 'marzano', 'marzanos', 'marzeh', 'marzen', 'marzetti', 'marzettis', 'marzipan', 'maría', 'masa', 'masago', 'masala', 'masami', 'masarepa', 'mascarpone', 'mascato', 'masche', 'maseca', 'mash', 'mashed', 'masher', 'mashers', 'mashing', 'mask', 'masking', 'mason', 'masoor', 'mass', 'massala', 'massaman', 'massenez', 'massey', 'master', 'masterpiece', 'mastic', 'masur', 'mat', 'match', 'matcha', 'matchbox', 'matches', 'matchlike', 'matchsicks', 'matchstick', 'matchsticks', 'matchsticksize', 'mate', 'material', 'mates', 'mathilde', 'matilde', 'matjes', 'mats', 'matsuhisa', 'matsutake', 'matsutaké', 'matter', 'mature', 'matured', 'matza', 'matzah', 'matzahs', 'matzo', 'matzoh', 'matzohs', 'matzos', 'maui', 'mauna', 'maure', 'mauro', 'maw', 'max', 'maximum', 'maxwell', 'may', 'mayer', 'mayo', 'mayocoba', 'mayonaise', 'mayonaisse', 'mayonnais', 'mayonnaise', 'mayonniase', 'maytag', 'mazama', 'mazi', 'mazin', 'mazola', 'maíz', 'maître', 'mcbride', 'mccain', 'mccann', 'mccaul', 'mcclure', 'mccollum', 'mccollums', 'mccormick', 'mccoy', 'mcewens', 'mche', 'mcintosh', 'mckenzie', 'mct', 'mcvities', 'mead', 'meal', 'mealworm', 'mealy', 'mean', 'means', 'meanwhile', 'measure', 'measured', 'measurement', 'measurements', 'measures', 'measuring', 'meat', 'meatball', 'meatballs', 'meatless', 'meatloaf', 'meatloaves', 'meats', 'meaty', 'meaux', 'mecos', 'mecox', 'med', 'medaglia', 'medal', 'medallion', 'medallions', 'media', 'medicinals', 'medieval', 'mediterranean', 'medium', 'mediumdry', 'mediumground', 'mediumlarge', 'mediumsize', 'mediumsized', 'mediumtolarge', 'medjool', 'medley', 'medoc', 'mei', 'mein', 'mejhoul', 'melange', 'melba', 'meld', 'melegueta', 'melissa', 'melissas', 'mellocreme', 'mellon', 'mellow', 'mellowest', 'melon', 'melonballer', 'melons', 'melt', 'meltable', 'melted', 'melting', 'melts', 'melty', 'member', 'members', 'membrane', 'membranes', 'membrillo', 'memory', 'mempachi', 'memphis', 'men', 'menemsha', 'menengi', 'menlo', 'menma', 'menonita', 'mentaiko', 'menthe', 'mentos', 'mer', 'mercants', 'mercillos', 'merckens', 'merengue', 'merguez', 'meringue', 'meringues', 'meritage', 'merkts', 'merleton', 'merlot', 'mermalada', 'merry', 'mesa', 'mescal', 'mesclun', 'mesculun', 'meselun', 'mesh', 'meshed', 'meslcun', 'mesophilic', 'mesquite', 'mestemacher', 'metal', 'metallic', 'metaxa', 'meted', 'methe', 'methi', 'method', 'methods', 'metsuyan', 'mex', 'mexciano', 'mexene', 'mexi', 'mexican', 'mexicana', 'mexicanos', 'mexico', 'mexicorn', 'mexicos', 'meyer', 'meyers', 'mezcal', 'mezze', 'mezzetta', 'mezzi', 'mg', 'mgd', 'mi', 'mia', 'miami', 'mian', 'michael', 'miche', 'michel', 'michelada', 'michele', 'michelob', 'michigan', 'michter', 'michu', 'micro', 'microgreens', 'microplane', 'microwavable', 'microwave', 'microwaveable', 'microwaved', 'microwaving', 'mid', 'middle', 'middleneck', 'middlenecks', 'midel', 'midgees', 'midgie', 'midnight', 'midori', 'mie', 'mien', 'migas', 'might', 'mighty', 'mignon', 'mignonette', 'mignons', 'mik', 'mikado', 'mike', 'milanese', 'milano', 'mild', 'milder', 'mildest', 'mildflavored', 'mildly', 'mililiters', 'milk', 'milkballs', 'milkfat', 'milkfish', 'milkimchi', 'milksalt', 'milkshake', 'milkshakes', 'milky', 'mill', 'milled', 'miller', 'millet', 'milligan', 'millileters', 'milliletes', 'milliliter', 'milliliters', 'millimeters', 'millionaire', 'milliters', 'mills', 'milman', 'mimolette', 'min', 'mince', 'minced', 'mincemeat', 'minces', 'mincing', 'mind', 'mindy', 'mined', 'mineirastyle', 'miner', 'mineral', 'minervois', 'minestrone', 'ming', 'mini', 'miniature', 'miniatures', 'minimally', 'minimum', 'minis', 'miniscule', 'minneola', 'minneolas', 'minor', 'minors', 'mins', 'mint', 'minted', 'mints', 'minty', 'minus', 'minute', 'minutes', 'minuti', 'minze', 'mirabo', 'miracle', 'miracles', 'mirasol', 'mire', 'miren', 'mirepoix', 'mirin', 'mirliton', 'mirlitons', 'miscellaneous', 'mislabeled', 'misleadingly', 'miso', 'miss', 'mission', 'mississippi', 'missouri', 'mist', 'mista', 'mister', 'mistika', 'misting', 'mitica', 'mitsuba', 'mitts', 'mix', 'mixed', 'mixer', 'mixers', 'mixes', 'mixing', 'mixoflour', 'mixture', 'miyataki', 'mizithra', 'mizuma', 'mizun', 'mizuna', 'mizuno', 'ml', 'mlo', 'mm', 'mo', 'moano', 'moby', 'mocha', 'mochas', 'mochi', 'mochiko', 'mock', 'mocktail', 'mocktails', 'modela', 'modeling', 'modelo', 'modena', 'moderate', 'moderately', 'modern', 'modestly', 'modified', 'modjeskas', 'moe', 'moet', 'mograbiah', 'mogridder', 'mohala', 'moi', 'moida', 'moist', 'moisten', 'moistened', 'moistening', 'moisture', 'mojito', 'mojo', 'molasses', 'molcajete', 'mold', 'molding', 'moldo', 'molds', 'mole', 'molecular', 'molho', 'molida', 'molido', 'mom', 'momiji', 'momo', 'momokawa', 'momoya', 'mon', 'monaco', 'monde', 'money', 'monger', 'mongetto', 'mongolian', 'monica', 'monin', 'monitor', 'monjunis', 'monk', 'monkey', 'monkfish', 'mono', 'monosodium', 'monsieur', 'mont', 'montagne', 'montagnolo', 'montalcino', 'montana', 'montasio', 'monte', 'montebello', 'montenegro', 'montepulciano', 'monteray', 'monterey', 'monterrey', 'montery', 'montessoriservices', 'montgomery', 'month', 'months', 'montrachet', 'montreal', 'monument', 'moo', 'moon', 'moonfish', 'moong', 'moonglow', 'moons', 'moonshine', 'moore', 'moorea', 'moorehouse', 'moose', 'mop', 'mopping', 'morado', 'morcilla', 'mordelo', 'morefruit', 'morel', 'morelino', 'morello', 'morels', 'morena', 'mores', 'moretti', 'morgan', 'mori', 'morilla', 'moringa', 'morita', 'moritas', 'mornay', 'morning', 'morningstar', 'moroccan', 'moros', 'morph', 'mors', 'morsel', 'morsels', 'mort', 'morta', 'mortadella', 'mortar', 'morteau', 'morton', 'moscatel', 'moscato', 'moscovy', 'mosel', 'moselle', 'moser', 'moss', 'mostaccioli', 'mostaciolli', 'mostarda', 'mostly', 'mosto', 'mote', 'mother', 'moto', 'motorvatin', 'mott', 'mottled', 'mou', 'moulard', 'moulds', 'mounded', 'mounding', 'mounds', 'mount', 'mountain', 'mourvedre', 'moussaka', 'mousse', 'mousseline', 'mousserons', 'moutai', 'moutarde', 'mouth', 'mouths', 'mouton', 'move', 'movie', 'mozza', 'mozzarella', 'mozzerella', 'mp', 'mr', 'mrs', 'ms', 'msc', 'msg', 'mt', 'mu', 'much', 'muchi', 'mud', 'muddle', 'muddled', 'muddler', 'muddlers', 'muddling', 'mudfish', 'mudslide', 'muenster', 'muesli', 'mueslix', 'muffaletta', 'muffin', 'muffins', 'muffuletta', 'mug', 'mugellana', 'mugs', 'muhammara', 'muhummara', 'mui', 'muir', 'muji', 'mulaeto', 'mulato', 'mulatto', 'mulberries', 'mull', 'mulled', 'mullet', 'mullets', 'mulling', 'multi', 'multicolored', 'multigrain', 'multivitimin', 'mulukhiyya', 'mulyeot', 'mummy', 'munchkin', 'mung', 'mungo', 'munich', 'munster', 'murcott', 'murphy', 'murray', 'murrayscheese', 'muscadavo', 'muscade', 'muscadet', 'muscat', 'muscatel', 'muscato', 'muscavado', 'muscle', 'muscles', 'muscovado', 'muscovy', 'mush', 'mushed', 'mushroom', 'mushrooms', 'mushrroms', 'mushy', 'musica', 'musketeers', 'muskmelon', 'muslin', 'mussel', 'musselman', 'mussels', 'must', 'mustar', 'mustard', 'mustards', 'mutabal', 'mutard', 'mutsu', 'mutti', 'mutton', 'muu', 'myer', 'myers', 'mymouné', 'mystery', 'mysticana', 'mystique', 'myun', 'myzithra', 'mâche', 'mâcon', 'märzen', 'mélange', 'ménage', 'místico', 'mõn', 'mûre', 'münster', 'naam', 'naan', 'naans', 'nabisco', 'nacho', 'nachos', 'naga', 'naganegi', 'nage', 'nahm', 'nail', 'naked', 'nam', 'nama', 'name', 'nameko', 'namm', 'nan', 'nance', 'nancy', 'nanno', 'nano', 'nantucket', 'napa', 'napastyle', 'napkin', 'napkins', 'naples', 'napolean', 'napoleon', 'napoletana', 'napoli', 'napoléon', 'nappa', 'naranja', 'naranjilla', 'nardone', 'narrow', 'narrowest', 'narrowing', 'naruto', 'nashi', 'nasi', 'nasoya', 'nasturtium', 'nasturtiumblossoms', 'nasturtiums', 'nata', 'national', 'nationwide', 'native', 'natto', 'natural', 'naturally', 'naturals', 'naturalstyle', 'nature', 'naturegg', 'naturel', 'naturesweet', 'naturipe', 'naughty', 'naval', 'navan', 'navel', 'navels', 'navy', 'nbsp', 'nd', 'nduja', 'neal', 'neapolitan', 'near', 'nearby', 'nearly', 'neat', 'neatly', 'necco', 'necessary', 'neck', 'necklace', 'necklaces', 'necks', 'nectar', 'nectarine', 'nectarines', 'need', 'needed', 'needle', 'needled', 'needlenose', 'needles', 'needs', 'neeeded', 'neely', 'neelys', 'neem', 'neera', 'neese', 'negi', 'negimaki', 'negra', 'negro', 'negros', 'neilsen', 'neither', 'nell', 'nellie', 'neolly', 'neon', 'neopolitan', 'nepenthe', 'nephew', 'nepitella', 'nera', 'nerds', 'nerigoma', 'neriume', 'nero', 'neroli', 'nerved', 'nescafe', 'nesquick', 'nesquik', 'nest', 'nestle', 'nestles', 'nestlé', 'nests', 'net', 'nets', 'netted', 'netting', 'nettle', 'nettles', 'neuchatel', 'neufchatel', 'neufchaåtel', 'neufchtel', 'neufchâtel', 'neutral', 'neutrally', 'nevada', 'never', 'new', 'newburg', 'newcastle', 'newfoundland', 'newman', 'newmans', 'newsom', 'newspaper', 'newtons', 'next', 'ngo', 'nguyen', 'nh', 'nib', 'nibbed', 'nibblets', 'nibby', 'niblet', 'niblets', 'nibs', 'niccoise', 'nice', 'nicely', 'nicer', 'nickel', 'nickelsize', 'nicois', 'nicoise', 'nielsen', 'nigari', 'nigella', 'night', 'nigiri', 'nigoise', 'nik', 'nikka', 'nilla', 'niman', 'nine', 'ninepin', 'ninety', 'ningbo', 'nino', 'nioise', 'nip', 'nipitella', 'nissin', 'nitrate', 'nitrogen', 'nix', 'nixtamal', 'niçois', 'niçoise', 'nm', 'noble', 'nobu', 'noc', 'nocello', 'noche', 'nodine', 'nog', 'nohi', 'nohu', 'noilly', 'noir', 'noisette', 'non', 'nona', 'nonalcoholic', 'nonalkalized', 'nonats', 'nondairy', 'nondark', 'none', 'nonfat', 'nonflammable', 'nonhomogenized', 'nonhydrogenated', 'nonino', 'nonmeat', 'nonna', 'nono', 'nonorganic', 'nonpareil', 'nonpareils', 'nonpariel', 'nonpereil', 'nonpoisonous', 'nonreactive', 'nonstick', 'nonsweet', 'nonsweetened', 'nontoxic', 'nonya', 'noo', 'noodle', 'noodles', 'noor', 'nopal', 'nopales', 'nopalitos', 'nordica', 'nori', 'normally', 'norman', 'north', 'northern', 'northwest', 'northwoods', 'norwegian', 'nose', 'nosed', 'noses', 'nostraline', 'notch', 'notched', 'note', 'noted', 'notes', 'nothing', 'notice', 'notte', 'nouc', 'nougat', 'nougatine', 'nour', 'nouvelle', 'nova', 'novello', 'novelty', 'noyaux', 'ntild', 'ntlde', 'nto', 'nu', 'nub', 'nubs', 'nucoa', 'nudies', 'nueske', 'nugget', 'nuggets', 'number', 'numerously', 'nuoc', 'nut', 'nutella', 'nutmeats', 'nutmeg', 'nutmegs', 'nutmet', 'nutrageous', 'nutri', 'nutrition', 'nutritional', 'nutritious', 'nuts', 'nutter', 'nuttier', 'nutty', 'ny', 'nyc', 'nylon', 'nyons', 'nyora', 'oak', 'oakheart', 'oakleaf', 'oaks', 'oaky', 'oasis', 'oat', 'oatcakes', 'oatmeal', 'oats', 'oaxaca', 'oaxacan', 'oba', 'oban', 'oblaten', 'oblique', 'oblong', 'obsessed', 'oc', 'ocane', 'occasionally', 'occurring', 'ocean', 'octagonal', 'october', 'octoberfest', 'octopus', 'octopuses', 'ocute', 'odd', 'odense', 'odessa', 'odom', 'oeil', 'oeleck', 'oelek', 'oetker', 'oeuvre', 'oeuvres', 'offcuts', 'offers', 'offset', 'often', 'ognori', 'ogo', 'ogonori', 'ogorki', 'ohba', 'ohnuts', 'ohrani', 'oi', 'oikos', 'oil', 'oilcured', 'oiled', 'oilepi', 'oilgin', 'oiling', 'oilpacked', 'oils', 'oily', 'oince', 'oives', 'oj', 'ok', 'oka', 'okay', 'okinawan', 'okra', 'okras', 'oktoberfest', 'olallieberries', 'old', 'oldbay', 'olde', 'older', 'oldfashioned', 'oldmaple', 'oldsouth', 'ole', 'oleic', 'olek', 'oleo', 'olio', 'olivada', 'olive', 'olivenation', 'olives', 'olivia', 'olla', 'oloroso', 'olympia', 'om', 'omani', 'omega', 'omelet', 'omelets', 'omelette', 'omit', 'omitted', 'omitting', 'onaga', 'onaise', 'ondine', 'one', 'ones', 'onetik', 'onion', 'onionpowder', 'onions', 'oniony', 'online', 'ono', 'onto', 'ooey', 'ooking', 'oolong', 'oonce', 'oounce', 'oounces', 'opah', 'opakapaka', 'opal', 'opaque', 'open', 'opened', 'opening', 'openings', 'opo', 'opposed', 'opposite', 'opt', 'optioinal', 'option', 'optiona', 'optional', 'optionally', 'options', 'orache', 'orah', 'orange', 'orangeliqueur', 'orangerie', 'oranges', 'orangina', 'orata', 'orate', 'orb', 'orbieu', 'orcebollitas', 'orchard', 'orchid', 'orchids', 'orchopped', 'orcreole', 'order', 'ordered', 'ore', 'orecchiette', 'orechiette', 'oregano', 'oregno', 'oregon', 'oregonmushrooms', 'oreo', 'oreos', 'orfresh', 'orfuji', 'organi', 'organic', 'organically', 'organiceggs', 'organicjuiceusa', 'organs', 'orgeat', 'orginale', 'oriental', 'original', 'originale', 'originally', 'originals', 'orlando', 'orleans', 'ornament', 'ornamental', 'ornaments', 'oro', 'oroshiepi', 'oroweat', 'orrechiette', 'orrington', 'orshrimp', 'ortega', 'orthai', 'ortiz', 'orvieto', 'orwhiting', 'orzata', 'orzo', 'orzotto', 'orégano', 'osborne', 'oscar', 'oscars', 'osetra', 'oshibako', 'oso', 'ososweet', 'ossau', 'ossetra', 'osso', 'ossobuco', 'ostrich', 'ot', 'otafuku', 'others', 'otherwise', 'otter', 'otto', 'ottogi', 'oumce', 'ounc', 'ounceahi', 'ouncec', 'ouncecan', 'ouncecs', 'ouncescavatappi', 'ouncesroast', 'ounch', 'ouncse', 'ounds', 'outdoor', 'outer', 'outerbridges', 'outfitted', 'outs', 'outside', 'outward', 'ouzo', 'oval', 'ovalette', 'ovalettes', 'ovalpie', 'ovals', 'ovaltine', 'oven', 'ovengold', 'ovenproof', 'ovenready', 'overbaked', 'overbrown', 'overcooked', 'overflowing', 'overgrown', 'overholt', 'overipe', 'overlapping', 'overly', 'overnight', 'overprocess', 'overproof', 'overripe', 'oversize', 'oversized', 'ovoline', 'owderchutney', 'owens', 'ox', 'oxheart', 'oxidation', 'oxidize', 'oxo', 'oxtail', 'oxtails', 'oyster', 'oysters', 'oz', 'ozfinely', 'pa', 'pabana', 'pablano', 'pabst', 'pac', 'paca', 'paccheri', 'pace', 'pacific', 'pacifico', 'pack', 'packag', 'package', 'packaged', 'packageenoki', 'packages', 'packaging', 'packed', 'packer', 'packet', 'packetactive', 'packets', 'packing', 'packs', 'pad', 'padana', 'padano', 'paddle', 'paddlefish', 'paddles', 'paddy', 'padella', 'padi', 'padron', 'padrón', 'pads', 'paella', 'paese', 'page', 'pahole', 'pailettes', 'paillard', 'paillards', 'paillete', 'paillettes', 'pain', 'pains', 'paint', 'paintbrush', 'paintbrushes', 'painting', 'paints', 'pair', 'pairs', 'paisano', 'pak', 'pakistani', 'palais', 'pale', 'palegreen', 'paleo', 'palettes', 'palm', 'palmetto', 'palmful', 'palmfuls', 'palmiers', 'palms', 'palo', 'paloma', 'palouse', 'palumbo', 'pam', 'pama', 'pambazos', 'pamela', 'pan', 'panang', 'panatone', 'panca', 'pancake', 'pancakes', 'pancetta', 'panch', 'pancit', 'panco', 'panda', 'pandan', 'pandanus', 'pandoro', 'pane', 'paneer', 'panel', 'panela', 'panels', 'panera', 'paneriso', 'panettone', 'panfried', 'panfrying', 'panhandle', 'panini', 'panino', 'paniolo', 'panko', 'panna', 'panni', 'panquehue', 'pans', 'panseared', 'pansies', 'pansy', 'pantelleria', 'pantherfanz', 'pantry', 'pants', 'panzanella', 'pao', 'papa', 'papaccelle', 'papads', 'papadums', 'papaer', 'papalo', 'papardelle', 'papas', 'papaya', 'papayas', 'papayiannides', 'papelon', 'paper', 'paperpanettone', 'papers', 'papery', 'papillon', 'papillote', 'papillotes', 'pappadams', 'pappadelle', 'pappadoums', 'pappadums', 'pappardelle', 'pappy', 'paprika', 'par', 'paradis', 'paradise', 'paraffin', 'paratha', 'parbaked', 'parboiled', 'parched', 'parchment', 'parcooked', 'pared', 'pareil', 'pareils', 'parents', 'pareve', 'parfait', 'parfaits', 'parilla', 'paring', 'paris', 'parisian', 'parisienne', 'park', 'parkay', 'parker', 'parkette', 'parley', 'parlor', 'parlour', 'parlsey', 'parm', 'parma', 'parmagiano', 'parmeasan', 'parmesan', 'parmesean', 'parmiagano', 'parmigano', 'parmiggiano', 'parmigian', 'parmigiana', 'parmigianino', 'parmigianno', 'parmigiano', 'parmiginao', 'parmigino', 'parrano', 'parrot', 'parsely', 'parsley', 'parslied', 'parsnip', 'parsnips', 'part', 'parted', 'partial', 'partially', 'particles', 'particular', 'partida', 'partiers', 'parties', 'partly', 'partridge', 'partridges', 'parts', 'partskim', 'partsminced', 'partway', 'party', 'parve', 'pasa', 'pasilla', 'pasillas', 'paso', 'pass', 'passata', 'passed', 'passing', 'passion', 'passionfruit', 'passito', 'passover', 'passvoer', 'past', 'pasta', 'pastas', 'paste', 'paste_', 'pasted', 'pastel', 'pastene', 'pastes', 'pasteurized', 'pastificio', 'pastilla', 'pastillage', 'pastilles', 'pastina', 'pastini', 'pastis', 'pastor', 'pastourma', 'pastrami', 'pastries', 'pastry', 'pasture', 'pastured', 'pasty', 'pat', 'pata', 'patagonian', 'patak', 'patch', 'patches', 'pate', 'patek', 'patent', 'pates', 'path', 'patience', 'patis', 'patissiere', 'patna', 'pato', 'patobrand', 'patron', 'pats', 'patted', 'pattern', 'patterns', 'patterson', 'pattie', 'patties', 'patting', 'pattipan', 'patty', 'pattypan', 'paté', 'paul', 'paula', 'pav', 'pave', 'pavo', 'paw', 'pawpaw', 'paychauds', 'paysanne', 'pazzo', 'pb', 'pbte', 'pc', 'pe', 'pea', 'peaberry', 'peach', 'peaches', 'peachtree', 'peak', 'peaked', 'peaks', 'pealed', 'peanut', 'peanuts', 'pear', 'pearl', 'pearled', 'pearlini', 'pearlized', 'pearls', 'pearly', 'pears', 'peas', 'peasant', 'peashoots', 'peaty', 'pebble', 'pebbles', 'pebbly', 'pecan', 'pecans', 'peccorino', 'pechaud', 'peche', 'peck', 'peconika', 'pecorina', 'pecorino', 'pectin', 'pectoral', 'pedro', 'pee', 'peeky', 'peekytoe', 'peel', 'peeled', 'peeler', 'peeling', 'peelings', 'peels', 'peen', 'peep', 'peeped', 'peeper', 'peeps', 'peewee', 'peg', 'pei', 'pekin', 'peking', 'pekoe', 'pelargonium', 'pelati', 'peled', 'pellegrino', 'pellets', 'pelligrino', 'peltier', 'pelvic', 'pemaquid', 'pen', 'pencil', 'pencils', 'pendery', 'pendleton', 'pendula', 'penetration', 'penn', 'penne', 'pennette', 'pennies', 'pennington', 'pennoni', 'pennsylvania', 'penny', 'pens', 'penzey', 'penzeys', 'penzy', 'people', 'pepar', 'pepato', 'pepe', 'pepepr', 'peper', 'peperconcini', 'peperonata', 'peperoncini', 'peperoncino', 'peperonciono', 'pepers', 'pepi', 'pepita', 'pepitas', 'pepitos', 'peppa', 'peppadew', 'peppadews', 'peppadrops', 'peppar', 'peppe', 'pepper', 'peppercorn', 'peppercorns', 'peppercress', 'peppered', 'pepperidge', 'pepperincini', 'pepperjack', 'pepperkosher', 'pepperleaf', 'peppermill', 'peppermint', 'peppermints', 'pepperoncillo', 'pepperoncini', 'pepperoncinis', 'pepperoncino', 'pepperoni', 'peppers', 'peppery', 'peppes', 'peppino', 'pepppercorns', 'pepps', 'pequen', 'pequillo', 'pequin', 'pequins', 'pequín', 'per', 'peral', 'percatelli', 'percent', 'percentage', 'perch', 'perching', 'perciatelli', 'percnet', 'perdue', 'perfect', 'perfection', 'perfectly', 'perforated', 'performer', 'perhaps', 'peri', 'periginotti', 'perigord', 'perigueux', 'perilla', 'periods', 'periwinkles', 'perk', 'perlato', 'perle', 'perline', 'perlini', 'permitting', 'pernigotti', 'pernil', 'pernod', 'pernot', 'peroni', 'perrier', 'perrin', 'perrins', 'perry', 'persian', 'persillade', 'persimmon', 'persimmons', 'persimons', 'person', 'personal', 'persons', 'peru', 'perugina', 'peruvian', 'pesce', 'pesticide', 'pesticides', 'pestie', 'pestle', 'pesto', 'pet', 'petal', 'petals', 'pete', 'peter', 'petes', 'petit', 'petite', 'petits', 'petrale', 'peychaud', 'pfeffernuse', 'pharmacy', 'phartz', 'pheasant', 'pheasants', 'phil', 'philadelphia', 'phillips', 'philly', 'philo', 'phin', 'phlox', 'pho', 'phon', 'phoran', 'phoron', 'phosphate', 'photograph', 'phrik', 'phu', 'phyllo', 'pi', 'piacere', 'piadine', 'piave', 'pica', 'picada', 'picadillo', 'picanha', 'picante', 'picapeppa', 'picatta', 'piccalilli', 'piccalilly', 'piccante', 'piccolini', 'picholine', 'picholines', 'pici', 'pick', 'pickapeppa', 'picked', 'pickeled', 'pickerel', 'pickin', 'pickle', 'pickled', 'pickles', 'pickling', 'picks', 'picnic', 'pico', 'picoline', 'picolo', 'picon', 'picot', 'pict', 'pictsweet', 'picual', 'pie', 'piece', 'pieceparmesan', 'pieces', 'piecrust', 'piecrusts', 'pied', 'pieepi', 'pienza', 'pierce', 'pierced', 'pierogi', 'pierogie', 'pierogies', 'pierogis', 'pierre', 'pies', 'pig', 'pigeon', 'pigeons', 'pignole', 'pignoli', 'pignolia', 'pignolis', 'pigs', 'pigskin', 'pik', 'pike', 'pikeplacefish', 'pilaf', 'pilchards', 'pile', 'piling', 'pill', 'pillow', 'pillows', 'pillowy', 'pillsbury', 'piloncillo', 'pilot', 'pilpelchuma', 'pils', 'pilsner', 'pilsners', 'piment', 'pimenta', 'pimente', 'pimentn', 'pimento', 'pimenton', 'pimentos', 'pimentín', 'pimentón', 'pimiento', 'pimientoes', 'pimientos', 'pimm', 'pimms', 'pin', 'pina', 'pinapple', 'pinapples', 'pinbones', 'pinch', 'pinched', 'pinches', 'pine', 'pineapple', 'pineapples', 'pineau', 'pined', 'pinenuts', 'ping', 'pinhead', 'pink', 'pinkerton', 'pinkie', 'pinky', 'pinnacle', 'pinon', 'pinot', 'pinquito', 'pins', 'pint', 'pintcherry', 'pinto', 'pints', 'pintu', 'pinwheels', 'pinza', 'pinzimonio', 'pioneer', 'pioppini', 'pipe', 'piped', 'pipen', 'piper', 'piperade', 'piperrada', 'pipette', 'pipettes', 'pipian', 'piping', 'pippies', 'pippin', 'pippins', 'pips', 'piquant', 'piquante', 'piquet', 'piquillo', 'piquillos', 'piquin', 'piri', 'piroline', 'pirouette', 'pirouline', 'pirozhki', 'pisco', 'pista', 'pistachio', 'pistachios', 'pistaschios', 'pistils', 'pistoles', 'pistolette', 'pistolettes', 'pistols', 'pistou', 'pit', 'pita', 'pitas', 'pitaya', 'pitch', 'pitcher', 'pitchers', 'pith', 'piths', 'pithy', 'pits', 'pitt', 'pitted', 'pitter', 'pitting', 'pixie', 'pizza', 'pizzaria', 'pizzas', 'pizzella', 'pizzelle', 'pizzelles', 'pizzeria', 'pizzetta', 'pizzettes', 'pizzoccheri', 'pizzocheri', 'pk', 'pkg', 'pkgs', 'pla', 'place', 'placed', 'places', 'placing', 'plah', 'plain', 'plainly', 'plaintain', 'plan', 'plane', 'plank', 'planking', 'planks', 'plans', 'plant', 'plantain', 'plantains', 'plantation', 'planters', 'plants', 'plaque', 'plastic', 'plata', 'platano', 'plate', 'plates', 'platform', 'plating', 'platino', 'platinum', 'platter', 'platters', 'player', 'pleasant', 'please', 'pleased', 'pleated', 'plenty', 'pleurote', 'pliable', 'pliers', 'plo', 'plochman', 'ploughman', 'ploy', 'plu', 'pluches', 'plucked', 'plucots', 'plugra', 'plugrá', 'plum', 'plumcots', 'plump', 'plumped', 'plumpjack', 'plums', 'plunge', 'plunged', 'pluot', 'pluots', 'plus', 'pluse', 'plushes', 'plusmore', 'plymouth', 'plywood', 'po', 'poached', 'poacher', 'poaching', 'poblano', 'poblanos', 'pocket', 'pocketless', 'pockets', 'pocky', 'pod', 'podded', 'pods', 'poha', 'poi', 'poilane', 'point', 'pointed', 'pointer', 'points', 'poire', 'poires', 'pois', 'poisonous', 'poivrade', 'poix', 'pok', 'poke', 'poked', 'poker', 'polaner', 'polar', 'polbano', 'pole', 'polenta', 'polentaepi', 'poles', 'polish', 'polished', 'politely', 'polka', 'pollack', 'pollen', 'pollo', 'pollock', 'polpette', 'polpetti', 'polska', 'polskie', 'polycarbonate', 'polydextrose', 'pom', 'pomace', 'pomade', 'pomegranante', 'pomegranate', 'pomegranates', 'pomegrante', 'pomelo', 'pomelos', 'pomery', 'pomfret', 'pomi', 'pommace', 'pommary', 'pommelo', 'pommeray', 'pommerey', 'pommeroy', 'pommery', 'pommes', 'pomodori', 'pomodoro', 'pomona', 'pompano', 'pompelmo', 'pomì', 'pond', 'pong', 'ponies', 'pont', 'pony', 'ponzu', 'poolish', 'poon', 'pop', 'popaa', 'popchips', 'popcorn', 'poplar', 'popover', 'popovers', 'poppadoms', 'poppadum', 'popped', 'popper', 'poppers', 'popping', 'poppy', 'poppyseed', 'poppyseeds', 'pops', 'popsicle', 'popsicles', 'popsticks', 'porchetta', 'porcini', 'porcinis', 'porgies', 'porgy', 'pork', 'porkchops', 'porkloin', 'porous', 'porridge', 'port', 'portabella', 'portabellas', 'portabello', 'portabellos', 'porter', 'porterhouse', 'porters', 'portion', 'portioned', 'portions', 'portland', 'portobella', 'portobellini', 'portobello', 'portobellos', 'portuguese', 'position', 'posole', 'possibilities', 'possible', 'possibly', 'post', 'postrio', 'pot', 'potage', 'potaoes', 'potaotes', 'potassium', 'potato', 'potatoes', 'potatos', 'potion', 'potpourri', 'pots', 'potsticker', 'potstickers', 'potted', 'potters', 'pouch', 'pouches', 'poudre', 'pouilly', 'poulet', 'poultry', 'poumd', 'poundcakes', 'pounded', 'pounder', 'poundmaple', 'poundrotelle', 'poundschayote', 'poundsrusset', 'pouns', 'poupon', 'pour', 'pourable', 'pourableconsistency', 'poured', 'pouring', 'pourpose', 'poussin', 'poussins', 'povilho', 'powder', 'powdered', 'powders', 'powdery', 'power', 'powered', 'powerful', 'powers', 'pozole', 'practically', 'prague', 'prairie', 'praline', 'pralines', 'prao', 'prat', 'prawn', 'prawns', 'pray', 'pre', 'prebaked', 'preboiled', 'precedes', 'precious', 'precise', 'precisely', 'precooked', 'precut', 'predominantly', 'prefer', 'preferabbly', 'preferable', 'preferably', 'preferablyy', 'prefered', 'preference', 'preferrably', 'preferred', 'preferredmeats', 'prefers', 'preformed', 'prego', 'preheat', 'preheated', 'preheating', 'premade', 'premelted', 'premier', 'premiere', 'premium', 'premixed', 'prep', 'prepackaged', 'preparation', 'prepare', 'prepared', 'preparedbasic', 'preparing', 'prepped', 'prepping', 'prerolled', 'present', 'presentation', 'preserve', 'preserved', 'preserves', 'preserving', 'preshaped', 'preshredded', 'presidente', 'presifted', 'presliced', 'presoaked', 'press', 'pressed', 'presses', 'pressing', 'pressure', 'pressurized', 'presunto', 'prettier', 'pretty', 'pretzel', 'pretzels', 'prevent', 'prevents', 'previous', 'previously', 'prewashed', 'priano', 'priced', 'prichard', 'pricked', 'prickly', 'pride', 'prik', 'primal', 'primarily', 'primary', 'primavera', 'prime', 'primes', 'priming', 'primitivo', 'primrose', 'prince', 'princella', 'princess', 'pringles', 'printable', 'printed', 'prior', 'pristine', 'private', 'probably', 'probe', 'probiotic', 'problem', 'procedure', 'proceed', 'process', 'processed', 'processer', 'processor', 'prociutto', 'procuitto', 'produce', 'produced', 'producer', 'produces', 'producing', 'product', 'products', 'professional', 'profiterole', 'profiteroles', 'profusely', 'progresso', 'prohibition', 'promasa', 'promised', 'promises', 'prong', 'pronged', 'pronounced', 'pronto', 'proof', 'proofed', 'proofing', 'propane', 'properly', 'proportions', 'propose', 'prosciutto', 'prosciuuto', 'proscuitto', 'proscutto', 'prosecco', 'prossecco', 'protean', 'protect', 'protective', 'protein', 'proteins', 'proto', 'provel', 'provencal', 'provencale', 'provence', 'provenhal', 'provençe', 'provides', 'provimi', 'provini', 'provolone', 'prudhomme', 'pruitt', 'prum', 'prune', 'prunelle', 'prunes', 'psychedelic', 'psyllium', 'pt', 'ptitim', 'pts', 'pté', 'pu', 'pub', 'puchased', 'pucker', 'puckled', 'puddin', 'pudding', 'puddings', 'pueblo', 'puerto', 'puff', 'puffcorn', 'puffed', 'puffs', 'puffy', 'pugliese', 'pul', 'pulique', 'pull', 'pulla', 'pulled', 'pulling', 'pullman', 'pulp', 'pulpy', 'pulque', 'pulse', 'pulsed', 'pulses', 'pulsing', 'pulverize', 'pulverized', 'pumpernickel', 'pumpernikel', 'pumpkin', 'pumpkins', 'pumpkinseed', 'pumpkinseeds', 'pumps', 'puna', 'punch', 'punched', 'punctured', 'punds', 'pungent', 'punnet', 'puntarella', 'puntarelle', 'pupils', 'puppadum', 'puppies', 'puppy', 'pur', 'pura', 'puran', 'purchase', 'purchased', 'purchasedpanettone', 'purchasing', 'pure', 'puree', 'pureed', 'pureeing', 'purees', 'purely', 'purereal', 'purevanilla', 'pureé', 'purged', 'purging', 'puri', 'purified', 'puritan', 'purlsoho', 'purple', 'purples', 'purpletop', 'purpose', 'purposeflour', 'purposes', 'purred', 'purse', 'purses', 'purslane', 'purveyor', 'purée', 'puréed', 'pushcart', 'pushed', 'pushpin', 'puss', 'pusser', 'put', 'puttanesca', 'putter', 'putting', 'putty', 'puy', 'puya', 'pyongo', 'pyramid', 'pyrex', 'páté', 'pâche', 'pâte', 'pâté', 'pébeyre', 'périgord', 'pêches', 'qimiq', 'qt', 'qts', 'quady', 'quahog', 'quahogs', 'quail', 'quails', 'quaker', 'qualita', 'qualities', 'quality', 'quantities', 'quantity', 'quark', 'quart', 'quarted', 'quarter', 'quarterd', 'quartered', 'quarters', 'quartersized', 'quartet', 'quarts', 'quartt', 'quatre', 'quatres', 'que', 'quebec', 'queen', 'queens', 'queijo', 'quemada', 'quenelle', 'quenelles', 'quervo', 'quesadilla', 'quesadillas', 'quesillo', 'queso', 'quiche', 'quick', 'quickbread', 'quickcooking', 'quickest', 'quickie', 'quickly', 'quickrise', 'quik', 'quill', 'quills', 'quina', 'quince', 'quinces', 'quinoa', 'quinquina', 'quins', 'quite', 'quoc', 'quorn', 'qwa', 'raab', 'rabbit', 'rabbits', 'rabe', 'rablespoon', 'racha', 'rachael', 'rachel', 'rack', 'racks', 'raclette', 'raddichio', 'radiator', 'radiatore', 'radiatori', 'radicchio', 'radish', 'radishes', 'radishs', 'raffaello', 'raffia', 'ragged', 'ragout', 'ragoût', 'ragu', 'ragù', 'ragú', 'rahr', 'rai', 'rain', 'rainbow', 'rainbows', 'rainbowy', 'rainier', 'raised', 'raisin', 'raising', 'raisins', 'raisons', 'raita', 'rajas', 'rajma', 'rajun', 'raki', 'ram', 'raman', 'ramazotti', 'rambutan', 'ramekin', 'ramekins', 'ramen', 'ramp', 'ramps', 'ramyonsari', 'ramyun', 'ran', 'ranch', 'rancher', 'ranchera', 'rancherito', 'ranchero', 'ranchers', 'rancho', 'random', 'range', 'ranging', 'rani', 'rao', 'raosted', 'rapa', 'rape', 'rapeseed', 'rapid', 'rapidrise', 'rapine', 'rapini', 'rapunzel', 'rare', 'ras', 'rasam', 'rasberry', 'rascasse', 'rasher', 'rashers', 'rasoted', 'rasp', 'raspberries', 'raspberriesor', 'raspberry', 'rasped', 'ratatouille', 'rate', 'rated', 'rathbun', 'rather', 'ratio', 'rats', 'rattle', 'rattler', 'rattlesnake', 'rau', 'rava', 'raveggiolo', 'ravenswood', 'ravigote', 'ravioletti', 'ravioli', 'raw', 'rawmesan', 'ray', 'rayu', 'razberi', 'razor', 'razors', 'razz', 'razzleberry', 'razzmatazz', 'rbgh', 'rbol', 'rbst', 'rd', 'rds', 'reach', 'reached', 'reaches', 'reactive', 'read', 'readily', 'reads', 'ready', 'real', 'realemon', 'realfruit', 'realime', 'really', 'reames', 'rear', 'reasonably', 'reata', 'reblochon', 'recado', 'recaito', 'recao', 'reccomended', 'receive', 'recently', 'recipe', 'recipeepi', 'recipegnocchi', 'recipehazelnut', 'recipelemon', 'recipelink', 'recipelinkand', 'recipelinkor', 'recipelinkpie', 'recipes', 'recipesfrozen', 'recipespastry', 'recipespâte', 'recips', 'recomended', 'recommend', 'recommende', 'recommended', 'recommends', 'recommened', 'reconstitituted', 'reconstitute', 'reconstituted', 'reconstituting', 'recorked', 'rectangle', 'rectangles', 'rectangular', 'red', 'redbor', 'redbreast', 'redcurrants', 'reddi', 'redfish', 'redhot', 'redi', 'redmond', 'redpack', 'reds', 'redskin', 'redskinned', 'reduce', 'reduced', 'reducedfat', 'reduces', 'reducing', 'reduction', 'reed', 'reese', 'reeser', 'refer', 'referred', 'refilling', 'refine', 'refined', 'refiner', 'refreshed', 'refreshing', 'refried', 'refrigerate', 'refrigerated', 'refrigerator', 'refritos', 'regale', 'regalice', 'regan', 'regans', 'reggano', 'reggiano', 'regiano', 'reginetti', 'region', 'regional', 'regions', 'regular', 'regulating', 'reheat', 'reheated', 'reheating', 'rehrucken', 'rehydrate', 'rehydrated', 'reims', 'reindeer', 'reine', 'reinette', 'reinforced', 'reisling', 'rejuvelac', 'relative', 'relatively', 'release', 'released', 'reliable', 'relish', 'relishes', 'relleno', 'remain', 'remainder', 'remaining', 'remains', 'remnants', 'remonce', 'remote', 'remoulade', 'removable', 'removal', 'remove', 'removed', 'removedand', 'removedfrom', 'removing', 'remy', 'rendang', 'render', 'rendered', 'rendering', 'renderings', 'rendezvous', 'renee', 'rennet', 'repetitive', 'replace', 'replaced', 'replacement', 'replacer', 'replacing', 'reposada', 'reposado', 'reprodepot', 'republic', 'reputable', 'requeson', 'request', 'requezon', 'require', 'required', 'requirements', 'requires', 'resealable', 'resemble', 'resembles', 'resembling', 'reser', 'reserva', 'reserve', 'reserved', 'reserve½', 'reserving', 'reshampatti', 'residual', 'residue', 'resifted', 'resin', 'resistant', 'resort', 'resources', 'respect', 'respectively', 'responsibly', 'resposado', 'rest', 'restaurant', 'restaurants', 'rested', 'resting', 'result', 'resulting', 'results', 'retain', 'retained', 'retaining', 'retied', 'retrieval', 'retro', 'retsina', 'return', 'reuben', 'reusable', 'reuse', 'reveal', 'reverse', 'rey', 'reyes', 'reynaldo', 'reynolds', 'rhine', 'rhizome', 'rhode', 'rhodes', 'rhododendron', 'rhone', 'rhubarb', 'rhum', 'rhône', 'ria', 'riazul', 'rib', 'ribbed', 'ribbon', 'ribbons', 'ribcage', 'ribena', 'ribera', 'ribeye', 'riblets', 'ribs', 'ribsteak', 'ric', 'rican', 'ricard', 'rice', 'riced', 'ricer', 'rices', 'riceselect', 'ricestick', 'rich', 'richard', 'richardson', 'richer', 'richly', 'richness', 'ricipe', 'rick', 'rickeys', 'ricotta', 'ridge', 'ridged', 'ridgemont', 'ridges', 'riesling', 'rigata', 'rigate', 'rigati', 'rigatoni', 'right', 'rigotte', 'rim', 'riming', 'rimless', 'rimmed', 'rimmer', 'rimming', 'rims', 'rinced', 'rind', 'rinded', 'rindless', 'rinds', 'ring', 'ringlets', 'rings', 'rinse', 'rinsed', 'rinses', 'rinsing', 'rioja', 'rip', 'ripasso', 'ripe', 'ripen', 'ripened', 'ripeness', 'ripped', 'ripple', 'rippled', 'riscossa', 'rise', 'risen', 'rising', 'riso', 'risotto', 'rissole', 'ristretto', 'rittenhouse', 'ritz', 'rivels', 'river', 'rivera', 'riviera', 'riz', 'rm', 'ro', 'road', 'roadside', 'roast', 'roasted', 'roaster', 'roasters', 'roasting', 'roasts', 'robalo', 'robb', 'robby', 'robert', 'robertson', 'robin', 'robiola', 'robiolina', 'robiolla', 'robiolo', 'robot', 'robust', 'robusto', 'roca', 'rocco', 'rock', 'rocket', 'rockfish', 'rocks', 'rockweed', 'rocky', 'rocoto', 'rod', 'rods', 'roe', 'roelli', 'roes', 'rogers', 'rogue', 'roja', 'rojo', 'rojos', 'rok', 'roka', 'roker', 'roland', 'roll', 'rolled', 'roller', 'rolling', 'rolls', 'rolo', 'rolos', 'roma', 'romaine', 'roman', 'romanesco', 'romanian', 'romano', 'romanoff', 'romanos', 'romas', 'rome', 'romesco', 'rompope', 'ron', 'roncal', 'rondele', 'rondin', 'roni', 'ronnybrook', 'ronzoni', 'rood', 'roof', 'rooibos', 'room', 'roomtemp', 'roomtemperature', 'rooster', 'root', 'rootbeer', 'rootlets', 'rootr', 'roots', 'rope', 'ropes', 'roquefort', 'rosa', 'rosangel', 'rosario', 'rosarita', 'rosato', 'rose', 'rosebud', 'rosebuds', 'rosehip', 'rosehips', 'roseland', 'rosella', 'rosemary', 'rosepetals', 'roses', 'rosette', 'rosettes', 'rosewater', 'rosey', 'rossa', 'rossi', 'rosso', 'rosti', 'rosé', 'rotary', 'rotating', 'rotel', 'rotelle', 'roth', 'rothman', 'roti', 'rotini', 'rotis', 'rotisserie', 'rouet', 'rougaroux', 'rouge', 'rouges', 'rouget', 'rough', 'roughly', 'roughlychopped', 'roughy', 'rouille', 'roulade', 'rouladen', 'roulades', 'round', 'rounded', 'rounder', 'rounds', 'rounemup', 'route', 'roux', 'row', 'rows', 'royal', 'royale', 'royaltine', 'rromano', 'rserved', 'ru', 'rub', 'rubbed', 'rubber', 'rubbery', 'rubbing', 'ruby', 'rucola', 'rudy', 'ruffle', 'ruffled', 'ruffles', 'ruford', 'ruin', 'ruined', 'ruis', 'ruler', 'rulez', 'rum', 'rumchata', 'rump', 'rumple', 'rumps', 'run', 'runner', 'runnier', 'running', 'runny', 'runs', 'runts', 'rush', 'rusks', 'russa', 'russet', 'russets', 'russett', 'russian', 'rust', 'rustic', 'rustica', 'rustically', 'rustichella', 'rustique', 'rutabaga', 'rutabagas', 'ruth', 'ruwer', 'rye', 'ryvita', 'rémoulade', 'sa', 'saambhar', 'saar', 'saba', 'sabarot', 'sabatino', 'sabayon', 'sable', 'sablee', 'sablefish', 'sablés', 'saboogoo', 'sabor', 'sabra', 'sabut', 'sac', 'saccharine', 'sachet', 'sachets', 'sack', 'sacks', 'saco', 'sacramanto', 'sacramento', 'sacs', 'saddle', 'saddles', 'saeujeot', 'saewoo', 'saewujeot', 'saf', 'safale', 'safe', 'safety', 'safflower', 'saffron', 'saga', 'saganaki', 'sagatiba', 'sage', 'sago', 'sahadis', 'sahara', 'sai', 'said', 'saifun', 'saigon', 'saikyo', 'sailor', 'sailorjerry', 'saint', 'sake', 'saki', 'sakonnet', 'saku', 'sakura', 'saké', 'sal', 'salad', 'salada', 'saladisi', 'salads', 'salal', 'salam', 'salamandra', 'salami', 'salamis', 'salasa', 'salata', 'salchicon', 'salemville', 'sales', 'salet', 'salferino', 'salicornia', 'salinity', 'salisbury', 'salmon', 'salmonberries', 'salmonella', 'salmuera', 'salpicao', 'salsa', 'salsaepi', 'salsas', 'salsify', 'salsita', 'salt', 'saltand', 'salted', 'saltedsunflower', 'saltfish', 'saltier', 'saltine', 'saltines', 'saltiness', 'salting', 'saltor', 'saltpeter', 'salts', 'saltwater', 'saltworks', 'saltwort', 'salty', 'salumi', 'salut', 'salvadoran', 'salvadorena', 'salvation', 'sam', 'saman', 'samba', 'sambaal', 'sambal', 'sambar', 'sambazon', 'sambel', 'sambhar', 'sambol', 'sambuca', 'sami', 'sammies', 'sammy', 'samoas', 'samosa', 'samp', 'samuel', 'san', 'sancerre', 'sanctuaire', 'sand', 'sandalwood', 'sandbakkel', 'sandblasted', 'sanddab', 'sandies', 'sanding', 'sandra', 'sandwich', 'sandwiched', 'sandwiches', 'sandwiching', 'sandy', 'sangiovese', 'sangria', 'sangrita', 'sanitized', 'sans', 'sansho', 'sansyo', 'santa', 'sante', 'santo', 'sanuf', 'sanuki', 'sapote', 'sapotes', 'sapp', 'sapphire', 'sapporo', 'sara', 'saracene', 'saran', 'sarda', 'sardegna', 'sardi', 'sardine', 'sardines', 'sardinian', 'sardo', 'sargento', 'saronno', 'sarsaparilla', 'sarticious', 'sarvecchio', 'sashimi', 'sasho', 'saskatoon', 'sassafras', 'sassafrass', 'sassy', 'sat', 'satay', 'sate', 'satin', 'sativa', 'sato', 'satsuma', 'satsumas', 'saturated', 'saturei', 'saturn', 'sau', 'sauce', 'sauced', 'saucee', 'sauceepi', 'sauceless', 'saucepan', 'saucepot', 'saucer', 'sauces', 'saucisse', 'saucisson', 'saucy', 'sauerbraten', 'sauerkraut', 'saumur', 'saury', 'sausage', 'sausageapple', 'sausagemaker', 'sausagemeat', 'sausages', 'saute', 'sauteed', 'sauteeing', 'sauteing', 'sauterne', 'sauternes', 'sauté', 'sautéed', 'sautéing', 'sauvignon', 'sauza', 'savagnin', 'savannah', 'savarin', 'save', 'saved', 'savers', 'saveur', 'savignon', 'savina', 'saving', 'savings', 'savoiardi', 'savoie', 'savonna', 'savor', 'savory', 'savoryspiceshop', 'savoury', 'savoy', 'saw', 'sawdust', 'sawed', 'sawmill', 'sawn', 'sawtooth', 'sawyer', 'say', 'sazon', 'sazonador', 'sazón', 'sc', 'scald', 'scalded', 'scaldedmilk', 'scalding', 'scale', 'scaled', 'scales', 'scallion', 'scallions', 'scallop', 'scalloped', 'scallopine', 'scallopini', 'scallops', 'scaloppine', 'scaloppini', 'scalped', 'scamorza', 'scamp', 'scampi', 'scandinavian', 'scansano', 'scant', 'scape', 'scapes', 'scarf', 'scarlet', 'scarmoza', 'scarpariello', 'scarves', 'scary', 'scattering', 'scented', 'scents', 'schar', 'scharfen', 'scharffen', 'scharffenberger', 'schezuan', 'schichimi', 'schilling', 'schlagobers', 'schmaltz', 'schmear', 'schmearing', 'schmidts', 'schnapps', 'school', 'schrager', 'schubert', 'schupf', 'schweppes', 'scissor', 'scissored', 'scissors', 'scleaned', 'scollops', 'scone', 'scones', 'scoop', 'scooped', 'scooper', 'scooping', 'scoops', 'scorching', 'score', 'scored', 'scorpion', 'scotch', 'scotia', 'scott', 'scottish', 'scout', 'scouting', 'scramble', 'scrambled', 'scrape', 'scraped', 'scraper', 'scrapes', 'scrapings', 'scrapped', 'scrapple', 'scraps', 'scratch', 'screen', 'screw', 'scribners', 'scrod', 'scrubbed', 'scrumpy', 'scubed', 'scudder', 'scungili', 'scungillli', 'scuro', 'se', 'sea', 'seabass', 'seafood', 'seagram', 'seal', 'sealable', 'sealed', 'sealing', 'seam', 'seamless', 'seams', 'seapak', 'sear', 'search', 'searching', 'seared', 'searing', 'seashell', 'seaside', 'season', 'seasonal', 'seasonally', 'seasoned', 'seasoning', 'seasonings', 'seasons', 'seat', 'seattle', 'seaweed', 'sec', 'seca', 'secco', 'seckel', 'seckle', 'seco', 'second', 'secondary', 'seconds', 'secret', 'secrets', 'sectio', 'section', 'sectioned', 'sections', 'secure', 'secured', 'securely', 'securing', 'sedaris', 'sediment', 'see', 'seed', 'seeded', 'seedless', 'seedlings', 'seedpods', 'seeds', 'seedy', 'seeeded', 'seek', 'seekers', 'seelect', 'seeled', 'seem', 'seems', 'segment', 'segmented', 'segments', 'seitan', 'sel', 'select', 'selected', 'selection', 'selections', 'selecto', 'self', 'sell', 'seller', 'sells', 'seltzer', 'semi', 'semiaged', 'semiboneless', 'semicircles', 'semidried', 'semidry', 'semifreddo', 'semipearled', 'semiripe', 'semiseet', 'semisoft', 'semisweet', 'semolina', 'semolino', 'sen', 'sencha', 'sendai', 'senna', 'sensations', 'sense', 'sensitive', 'sent', 'separate', 'separated', 'separately', 'separator', 'seperated', 'seppie', 'seraring', 'sercial', 'serena', 'serendipity', 'seresin', 'serious', 'seriously', 'serpent', 'serpentini', 'serrano', 'serranos', 'serrated', 'serrrano', 'serve', 'served', 'servered', 'service', 'serviceberries', 'serving', 'servings', 'servintg', 'sesame', 'sespe', 'set', 'sets', 'setting', 'settle', 'settled', 'sev', 'seven', 'sevens', 'several', 'severe', 'seville', 'seviyan', 'sevruga', 'sfq', 'shaarya', 'shabu', 'shad', 'shade', 'shades', 'shado', 'shadow', 'shagbark', 'shahi', 'shake', 'shaken', 'shaker', 'shakers', 'shakes', 'shaking', 'shakka', 'shall', 'shallot', 'shallots', 'shallow', 'shame', 'shandong', 'shanghai', 'shanghainese', 'shank', 'shankless', 'shanks', 'shannon', 'shanton', 'shao', 'shaohsing', 'shaoshing', 'shaosing', 'shaoxing', 'shape', 'shaped', 'shaped_coeur', 'shapes', 'shaping', 'shards', 'sharffen', 'shari', 'shark', 'sharlyn', 'sharp', 'sharpened', 'sharpest', 'sharpness', 'shasha', 'shave', 'shaved', 'shaven', 'shaver', 'shaving', 'shavings', 'shavingw', 'shawarma', 'shears', 'sheath', 'sheba', 'shed', 'sheep', 'sheepherding', 'sheeps', 'sheepshead', 'sheer', 'sheet', 'sheets', 'sheiks', 'shelburne', 'shelby', 'shelf', 'shell', 'shelled', 'shellfish', 'shelling', 'shells', 'shemeji', 'shenandoah', 'shephard', 'shepherd', 'sherbert', 'sherbet', 'sherry', 'shi', 'shichimi', 'shield', 'shigoku', 'shiitake', 'shiitakes', 'shiitaké', 'shilling', 'shimeji', 'shimmery', 'shims', 'shiméji', 'shin', 'shinbone', 'shine', 'shiner', 'shingles', 'shingo', 'shins', 'shinshu', 'shiny', 'ship', 'shipped', 'shipping', 'shir', 'shiracca', 'shirakiku', 'shirataki', 'shiraz', 'shiro', 'shishito', 'shiso', 'shitake', 'shitakes', 'shittake', 'shlivovitz', 'shoa', 'shoaxing', 'shochu', 'shock', 'shocked', 'shoe', 'shoepeg', 'shoestring', 'shoestrings', 'shoga', 'shoot', 'shoots', 'shop', 'shopped', 'shopping', 'shops', 'shopsmart', 'shore', 'short', 'shortbread', 'shortbreads', 'shortcake', 'shortcakes', 'shortcrust', 'shortcut', 'shortcuts', 'shorten', 'shortening', 'shorter', 'shortgrain', 'shortribs', 'shortway', 'shot', 'shots', 'shoulder', 'shoulders', 'shovel', 'shovels', 'show', 'shower', 'showing', 'shoyu', 'shreaded', 'shred', 'shredded', 'shredder', 'shredding', 'shreds', 'shrimp', 'shrimps', 'shrimpshells', 'shrink', 'shriracha', 'shropshire', 'shrub', 'shrubb', 'shu', 'shucked', 'shumai', 'shungiku', 'shurley', 'shwarma', 'shy', 'siberian', 'sic', 'sichimi', 'sichuan', 'sicilia', 'sicilian', 'siciliano', 'side', 'sided', 'sides', 'sidra', 'sierra', 'sieve', 'sieved', 'siew', 'sift', 'sifted', 'sifter', 'sifting', 'sign', 'signature', 'silan', 'silicone', 'silk', 'silked', 'silken', 'silks', 'silky', 'silly', 'silpain', 'silpat', 'silpats', 'silvana', 'silver', 'silverbeet', 'silvered', 'silverside', 'silverskin', 'silverware', 'similar', 'similarly', 'simmer', 'simmered', 'simmering', 'simple', 'simplest', 'simplot', 'simply', 'simplynature', 'simulation', 'simón', 'sin', 'since', 'sinew', 'sinews', 'sing', 'singed', 'singing', 'single', 'singles', 'sini', 'siphon', 'sipping', 'sir', 'siracha', 'sirah', 'sirena', 'sirloin', 'sirloins', 'sirop', 'sister', 'sit', 'site', 'sites', 'sits', 'situations', 'siu', 'six', 'sixounce', 'sixteen', 'sixths', 'sixty', 'size', 'sized', 'sizes', 'skane', 'skate', 'skeins', 'skeletons', 'skewed', 'skewer', 'skewered', 'skewering', 'skewers', 'ski', 'skillet', 'skillets', 'skim', 'skimmed', 'skimmer', 'skimmings', 'skin', 'skinless', 'skinned', 'skinny', 'skins', 'skinsv', 'skip', 'skipped', 'skipping', 'skippy', 'skirt', 'skirts', 'skittles', 'skor', 'skordalia', 'sky', 'skyline', 'skymeals', 'skyy', 'slab', 'slabs', 'slacken', 'slaked', 'slant', 'slanting', 'slap', 'slashes', 'slashing', 'slat', 'slate', 'slather', 'slathering', 'slaughtered', 'slaw', 'sleeve', 'sleeves', 'slender', 'slice', 'sliceable', 'sliced', 'slicer', 'slices', 'slicied', 'slicing', 'slide', 'slided', 'slider', 'sliders', 'slight', 'slightly', 'slim', 'slimy', 'slipped', 'slipper', 'slippery', 'slit', 'slits', 'sliver', 'slivered', 'slivers', 'slivovitz', 'slivowitz', 'sloe', 'sloping', 'sloppy', 'slotted', 'slow', 'slowly', 'slump', 'slurry', 'slush', 'slushes', 'smack', 'smacks', 'small', 'smaller', 'smallest', 'smallish', 'smart', 'smarter', 'smarties', 'smash', 'smashed', 'smeared', 'smearing', 'smell', 'smells', 'smelt', 'smelts', 'smen', 'smh', 'smidgen', 'smirnoff', 'smith', 'smithfield', 'smiths', 'smoke', 'smoked', 'smokehaus', 'smokehouse', 'smoker', 'smokes', 'smokey', 'smokie', 'smokier', 'smokies', 'smokin', 'smokiness', 'smoking', 'smokra', 'smoky', 'smooth', 'smoothed', 'smoothes', 'smoothie', 'smoothies', 'smoothly', 'smother', 'smothered', 'smucker', 'smuckers', 'smyrna', 'snack', 'snacks', 'snags', 'snail', 'snails', 'snake', 'snakehead', 'snakeroot', 'snakes', 'snap', 'snapped', 'snapper', 'snappers', 'snapping', 'snapple', 'snappper', 'snappy', 'snaps', 'snatching', 'snicker', 'snickerdoodle', 'snickers', 'snip', 'snipped', 'snippets', 'snipping', 'snips', 'sno', 'snook', 'snout', 'snow', 'snowball', 'snowdrop', 'snowflake', 'snowman', 'snowpea', 'snowpeas', 'snowy', 'snyder', 'soak', 'soaked', 'soaking', 'soaks', 'soave', 'soba', 'sobrasada', 'sochu', 'social', 'société', 'sockeye', 'soda', 'sode', 'sodium', 'sofia', 'sofra', 'sofrito', 'soft', 'softasilk', 'softball', 'soften', 'softened', 'softenend', 'softer', 'softly', 'softshell', 'soggy', 'soho', 'soi', 'soju', 'solar', 'sold', 'soldier', 'soldiers', 'sole', 'solera', 'soles', 'solid', 'solidified', 'solidify', 'solidly', 'solidpack', 'solids', 'solo', 'solomonov', 'soluble', 'solution', 'sombra', 'somen', 'something', 'sometimes', 'somewhat', 'somewhere', 'son', 'sonoma', 'sons', 'soochong', 'sooji', 'sooks', 'soom', 'soon', 'sop', 'sopa', 'sopes', 'sopping', 'soppresata', 'soppresatta', 'soppressata', 'soprafina', 'soprasata', 'soprassata', 'sopresatta', 'sopressata', 'sorbet', 'sorbets', 'sorbetto', 'sorbitol', 'sorghum', 'sorrel', 'sorrento', 'sort', 'sorted', 'sortilège', 'sorts', 'sosa', 'sottocenare', 'sottocenere', 'soubise', 'souchang', 'souchong', 'souffle', 'souffles', 'soufflé', 'souflle', 'soul', 'sound', 'sounds', 'soup', 'soups', 'soupspoon', 'soupspoons', 'soupy', 'sour', 'sourball', 'source', 'sources', 'sourdough', 'soured', 'sours', 'soursop', 'sourwood', 'sous', 'south', 'southeast', 'southern', 'southside', 'southwest', 'southwestern', 'souvlaki', 'soy', 'soya', 'soybean', 'soybeans', 'soymilk', 'sozan', 'spa', 'space', 'spaetzle', 'spaetzlemaker', 'spagettini', 'spaghetti', 'spaghettini', 'spagna', 'spago', 'spain', 'spam', 'spamcetta', 'spamrizo', 'spanish', 'spanishtable', 'spare', 'spareribs', 'sparingly', 'sparking', 'sparkle', 'sparkler', 'sparkling', 'sparkly', 'spartan', 'spash', 'spatchcock', 'spatchcocked', 'spatlese', 'spatula', 'spatulas', 'spatzle', 'speak', 'spear', 'spearmint', 'spears', 'special', 'speciality', 'specially', 'specials', 'specialties', 'specialty', 'species', 'specific', 'specified', 'speck', 'speckled', 'specs', 'spectrum', 'spectrumorganics', 'speculoos', 'speed', 'speedway', 'speedy', 'spell', 'spelt', 'spent', 'spezzatino', 'sphere', 'spheres', 'spherical', 'spherification', 'spice', 'spicebarn', 'spiced', 'spices', 'spicier', 'spiciness', 'spicy', 'spider', 'spiders', 'spidini', 'spiedie', 'spies', 'spike', 'spiked', 'spikes', 'spiking', 'spilt', 'spin', 'spinach', 'spinachspaetzle', 'spinaci', 'spine', 'spines', 'spinich', 'spinner', 'spiny', 'spiral', 'spiraled', 'spiralized', 'spirals', 'spire', 'spirit', 'spirited', 'spirits', 'spiru', 'spirulina', 'spit', 'splash', 'splashes', 'splenda', 'split', 'spoil', 'sponge', 'spongecake', 'sponged', 'spongy', 'spontaneity', 'spookie', 'spoon', 'spoonable', 'spoonechocolated', 'spooned', 'spoonful', 'spoonfuls', 'spoons', 'sport', 'sports', 'spot', 'spots', 'spotted', 'spotty', 'spout', 'spouts', 'spray', 'sprayc', 'sprayed', 'spraying', 'sprays', 'spread', 'spreadable', 'spreadables', 'spreading', 'spree', 'sprig', 'sprightly', 'sprigs', 'spring', 'springform', 'springroll', 'springs', 'springwater', 'sprinking', 'sprinkle', 'sprinkled', 'sprinkles', 'sprinkling', 'sprite', 'spritz', 'spritzed', 'spritzer', 'spritzing', 'sprout', 'sprouted', 'sprouting', 'sprouts', 'spuds', 'spumante', 'spumanti', 'spun', 'spy', 'sqeezed', 'squab', 'squabs', 'squacquerone', 'square', 'squared', 'squares', 'squash', 'squashed', 'squashes', 'squat', 'squeezable', 'squeeze', 'squeezed', 'squeezes', 'squeezing', 'squezed', 'squid', 'squidge', 'squidges', 'squids', 'squirrelfish', 'squirrelly', 'squirrels', 'squirt', 'squirting', 'squirts', 'squish', 'squishable', 'sri', 'sriacha', 'sriracha', 'srirachi', 'ssticks', 'ssupermarkets', 'ssäm', 'ssämjang', 'st', 'stabilize', 'stabilizer', 'stabilizers', 'stabilizing', 'stable', 'staccotisso', 'stack', 'stackable', 'stacked', 'stackers', 'stacks', 'stacy', 'stage', 'stainless', 'staked', 'stale', 'staled', 'stalk', 'stalks', 'stalky', 'stamen', 'stamens', 'stamp', 'stamping', 'stamps', 'stand', 'standard', 'standing', 'stands', 'star', 'starbucks', 'starburst', 'starbursts', 'starch', 'starchiness', 'starchy', 'starfruit', 'starkist', 'starlight', 'starr', 'stars', 'start', 'started', 'starter', 'starters', 'starting', 'state', 'states', 'stay', 'staybrite', 'stayman', 'steady', 'steak', 'steaked', 'steakhouse', 'steakhunter', 'steaks', 'steaky', 'steal', 'steam', 'steamcrisp', 'steamed', 'steamer', 'steamers', 'steamfresh', 'steaming', 'steel', 'steelhead', 'steels', 'steen', 'steep', 'steeped', 'steeping', 'steer', 'stella', 'stellini', 'stem', 'stemed', 'stemmed', 'stems', 'stencil', 'stenciling', 'stencils', 'step', 'stephanie', 'sterile', 'sterilized', 'sterling', 'sternum', 'steve', 'stevia', 'stew', 'stewed', 'stewing', 'stews', 'stick', 'sticker', 'stickers', 'stickiness', 'sticking', 'sticklike', 'sticks', 'sticky', 'stiff', 'stiffer', 'stiffly', 'stifly', 'still', 'stilton', 'stinging', 'stinky', 'stir', 'stirred', 'stirrer', 'stirrers', 'stirring', 'stirrings', 'stix', 'stoc', 'stocca', 'stock', 'stocked', 'stockers', 'stockfish', 'stockpot', 'stockpots', 'stocks', 'stolen', 'stoli', 'stolichnaya', 'stomach', 'stone', 'stoned', 'stonefruit', 'stoneground', 'stonemill', 'stones', 'stonewall', 'stonyfield', 'stop', 'storage', 'store', 'storebought', 'stored', 'stores', 'storing', 'stormy', 'stouffers', 'stout', 'stoutbeer', 'stove', 'stovetop', 'straccetti', 'stracchino', 'stracciatella', 'straciatella', 'straight', 'strain', 'strained', 'strainer', 'strainers', 'straining', 'strand', 'strands', 'strap', 'strasbourg', 'strauss', 'straw', 'strawberries', 'strawberry', 'straws', 'stray', 'streaky', 'stream', 'streamers', 'streaming', 'street', 'strega', 'strength', 'strengths', 'stretched', 'stretcher', 'stretching', 'streusel', 'strictly', 'strike', 'string', 'stringed', 'stringless', 'strings', 'stringy', 'strip', 'stripe', 'striped', 'striper', 'stripes', 'striploin', 'stripped', 'stripping', 'strips', 'stroganoff', 'stroke', 'strong', 'strongbow', 'stronger', 'strongly', 'strozzapreti', 'strozzopretti', 'strudel', 'strudels', 'struffoli', 'strung', 'stubb', 'stubbs', 'stuck', 'studded', 'studding', 'studs', 'stuf', 'stuff', 'stuffed', 'stuffer', 'stuffin', 'stuffing', 'stumps', 'stumptown', 'sturdily', 'sturdy', 'sturgeon', 'stutzman', 'style', 'stylebreadcrumbs', 'styled', 'styles', 'styrofoam', 'su', 'suagr', 'sub', 'submarine', 'submerge', 'submerged', 'subs', 'subsitiuted', 'substance', 'substitite', 'substitiute', 'substituded', 'substitute', 'substituted', 'substitutes', 'substitution', 'substitutions', 'subtle', 'sucanant', 'sucanat', 'success', 'successfully', 'succotash', 'suchi', 'suckers', 'suckin', 'sucking', 'suckling', 'sucralose', 'sucre', 'sucree', 'sucrie', 'sucrolose', 'sucrose', 'sucrée', 'sucuk', 'suet', 'sueu', 'sueur', 'suffice', 'sufficiently', 'suga', 'sugaar', 'sugar', 'sugarcane', 'sugarcoated', 'sugarcraft', 'sugared', 'sugaring', 'sugarless', 'sugarplum', 'sugars', 'sugartwin', 'sugarworks', 'sugei', 'suggest', 'suggested', 'suggestion', 'suggestions', 'suggests', 'sugo', 'sui', 'suisse', 'suit', 'suitable', 'suits', 'suji', 'sukhi', 'sukiyaki', 'sulfur', 'sulmitti', 'sultana', 'sultanas', 'sum', 'sumac', 'sumakh', 'summer', 'summersweet', 'summery', 'sun', 'sunburst', 'sunchoke', 'sunchokes', 'sundae', 'sundaes', 'sunday', 'sundried', 'suneli', 'sunflower', 'sung', 'sungold', 'sunny', 'sunnyd', 'sunomono', 'sunrise', 'sunset', 'sunshine', 'sunsweet', 'suntan', 'suntory', 'sup', 'super', 'superfine', 'superfino', 'superior', 'superiortouch', 'supermakets', 'supermarket', 'supermarkets', 'supermoist', 'superpremium', 'supersized', 'supersweet', 'supper', 'supplement', 'supplemented', 'supplier', 'suppliers', 'supplies', 'supply', 'support', 'supreme', 'supremed', 'supremes', 'supremo', 'suprêmes', 'sur', 'sure', 'surface', 'surfaces', 'surfing', 'surgical', 'suribachi', 'surimi', 'surlatable', 'surprise', 'surprising', 'surrounded', 'surrounding', 'surry', 'sushi', 'susie', 'sustainability', 'sustainable', 'sustainably', 'sutffed', 'sutter', 'sutton', 'suze', 'suzette', 'suzie', 'svedka', 'sw', 'swad', 'swai', 'swamp', 'swan', 'swans', 'swanson', 'swansons', 'swap', 'swatch', 'swaure', 'sweat', 'sweated', 'sweating', 'swedes', 'swedish', 'sweep', 'sweeping', 'sweet', 'sweetastic', 'sweetbread', 'sweetbreads', 'sweeten', 'sweetened', 'sweetener', 'sweetening', 'sweeter', 'sweetex', 'sweetgrass', 'sweetned', 'sweetner', 'sweetness', 'sweets', 'sweety', 'swimmer', 'swirl', 'swirled', 'swirling', 'swirls', 'swirly', 'swise', 'swiss', 'swissroll', 'switzerland', 'swivel', 'swizzle', 'swizzles', 'swordfish', 'swordlike', 'swords', 'sylvia', 'symmetrical', 'syphon', 'syrah', 'syrian', 'syrup', 'syrupepi', 'syrups', 'syrupy', 'sysco', 'szechuan', 'szechwan', 'szeged', 'szegedy', 'szu', 'taaka', 'tab', 'tabasco', 'tabb', 'tabbouleh', 'tabelspoon', 'tabil', 'table', 'tableapoons', 'tablebspoon', 'tablebspoons', 'tablecloth', 'tablepoon', 'tablepoons', 'tablepsoon', 'tablepsoons', 'tables', 'tablesalt', 'tablesepoon', 'tablesoon', 'tablesoons', 'tablesooon', 'tablespan', 'tablespons', 'tablespoona', 'tablespooncandied', 'tablespoonclarified', 'tablespoonfresh', 'tablespoonful', 'tablespoonfuls', 'tablespoonroom', 'tablespoonsbanana', 'tablespoonsbutter', 'tablespoonscanola', 'tablespoonsesame', 'tablespoonsfinely', 'tablespoonsgranulated', 'tablespoonsimple', 'tablespoonsketchup', 'tablespoonsmirin', 'tablespoonsn', 'tablespoonspine', 'tablespoonss', 'tablespoonssesame', 'tablespoonssorghum', 'tablespoonsunsalted', 'tablespooon', 'tablespooons', 'tablespoosn', 'tablet', 'tablets', 'tablspoon', 'tablspoons', 'tabs', 'tac', 'taco', 'tacos', 'tacs', 'tact', 'taffy', 'tagalongs', 'tagarin', 'taggascia', 'taggiasca', 'tagiatelle', 'tagine', 'tagliardi', 'tagliarelle', 'tagliarini', 'tagliatelle', 'tagliolini', 'tags', 'taha', 'tahdig', 'tahina', 'tahini', 'tahitian', 'tai', 'tail', 'tailed', 'tailgator', 'tails', 'taiwanese', 'taj', 'tajin', 'tajín', 'take', 'taken', 'takeout', 'takes', 'tako', 'takuan', 'talapia', 'talavera', 'taleggio', 'talk', 'tall', 'tallegio', 'tallman', 'tallow', 'tally', 'tam', 'tamal', 'tamale', 'tamales', 'tamari', 'tamarillo', 'tamarillos', 'tamarind', 'tamarinds', 'tamazula', 'tame', 'tamicon', 'tamis', 'tamp', 'tan', 'tandoori', 'tang', 'tangelo', 'tangelos', 'tangerine', 'tangerines', 'tangeringes', 'tango', 'tanguary', 'tangy', 'tank', 'tannic', 'tanqueray', 'tant', 'tap', 'tapanade', 'tapatio', 'tape', 'tapenade', 'tapered', 'tapestry', 'tapioca', 'tapped', 'taquitos', 'taragna', 'taragon', 'tarama', 'taramasalata', 'tarantulas', 'tarator', 'tarbais', 'tardio', 'tardivo', 'target', 'tarka', 'taro', 'taros', 'tarp', 'tarragon', 'tarro', 'tart', 'tartar', 'tartare', 'tartaric', 'tartelette', 'tarter', 'tartine', 'tartlet', 'tartlett', 'tartness', 'tarts', 'tartufo', 'tasajo', 'tasmania', 'tasmanian', 'tasse', 'tasso', 'tast', 'taste', 'tasted', 'tastefresh', 'tastefully', 'taster', 'tasters', 'tastes', 'tastier', 'tasting', 'tastings', 'tasty', 'tastykake', 'tat', 'tate', 'tater', 'tates', 'tatse', 'tatsoi', 'tatuma', 'tau', 'taupiniere', 'taurasi', 'tavern', 'tawa', 'tawny', 'taylor', 'taza', 'tazo', 'tb', 'tbls', 'tbps', 'tbs', 'tbsp', 'tbsps', 'tea', 'teaaspoon', 'teabag', 'teabags', 'teacher', 'teacups', 'teadpoons', 'teapoon', 'teapot', 'teapsoon', 'teapsoons', 'teaque', 'tear', 'teardrop', 'tearing', 'teas', 'teasoon', 'teasoons', 'teasopoon', 'teaspon', 'teasponns', 'teaspons', 'teaspoom', 'teaspoondijon', 'teaspooned', 'teaspoonfenugreek', 'teaspoonfreshly', 'teaspoonfuls', 'teaspoonj', 'teaspooon', 'teaspooons', 'teaspsoon', 'tecate', 'technically', 'technique', 'teddy', 'teeny', 'teeth', 'teff', 'teflon', 'tehina', 'tein', 'tejava', 'tel', 'teleme', 'telera', 'teleras', 'tellicherry', 'telme', 'temp', 'tempeh', 'temper', 'temperatur', 'temperature', 'temperatured', 'temperatures', 'tempere', 'tempered', 'tempering', 'template', 'templates', 'temple', 'temporarily', 'temptin', 'tempura', 'ten', 'tender', 'tenderflake', 'tenderized', 'tenderizer', 'tenderizing', 'tenderlions', 'tenderloin', 'tenderloins', 'tenderness', 'tenders', 'tendon', 'tendons', 'tendril', 'tendrils', 'tends', 'tenkasu', 'tennessee', 'tennet', 'tenneyson', 'tennis', 'tentacles', 'tenticles', 'teotitlán', 'teow', 'tepid', 'tequila', 'tequilla', 'teres', 'teriyaki', 'terlingua', 'terra', 'terracotta', 'terrasonoma', 'terrific', 'terrine', 'terry', 'tesoro', 'tespoon', 'test', 'testa', 'tester', 'testicles', 'testing', 'tetilla', 'tex', 'texas', 'texmati', 'texture', 'textured', 'textures', 'texturize', 'texturized', 'tg', 'tgi', 'th', 'thai', 'thailand', 'thanksgiving', 'thassos', 'thaw', 'thawed', 'thawedfrom', 'thawing', 'theatre', 'thebaking', 'theme', 'themed', 'therefore', 'thermidor', 'thermometer', 'thermos', 'thespicehouse', 'thick', 'thicken', 'thickened', 'thickener', 'thickeners', 'thickening', 'thicker', 'thickest', 'thickly', 'thickness', 'thickslices', 'thigh', 'thighbone', 'thighs', 'thily', 'thimble', 'thin', 'thing', 'things', 'think', 'thinluy', 'thinly', 'thinlysliced', 'thinned', 'thinner', 'thinnest', 'thinning', 'thins', 'third', 'thirds', 'thirty', 'thof', 'thomas', 'thompson', 'thoor', 'thorns', 'thorny', 'thoroughly', 'though', 'thoureads', 'thousand', 'thread', 'threaded', 'threadfin', 'threadlike', 'threads', 'three', 'throughly', 'throughout', 'throw', 'ths', 'thumb', 'thumbelina', 'thumbnail', 'thumbs', 'thyme', 'thymeepi', 'thymeor', 'thymes', 'ti', 'tia', 'tiamaria', 'tiare', 'tic', 'tidbits', 'tie', 'tied', 'tiedcornstarch', 'tienda', 'tiers', 'ties', 'tiga', 'tigadege', 'tiger', 'tight', 'tighten', 'tightly', 'tikka', 'til', 'tilapia', 'tilda', 'tile', 'tilefish', 'tiles', 'till', 'tillamook', 'tillen', 'tilt', 'timbale', 'timbales', 'time', 'timer', 'times', 'timmed', 'tin', 'tines', 'tinfoil', 'ting', 'tinkyada', 'tinned', 'tinny', 'tins', 'tinted', 'tinting', 'tinto', 'tiny', 'tio', 'tip', 'tiparos', 'tipo', 'tipped', 'tips', 'tiramisu', 'tiramisù', 'tire', 'tires', 'tissue', 'tissues', 'titanfood', 'tito', 'tk', 'tm', 'tma', 'toast', 'toasted', 'toastedcoarsely', 'toastedcooled', 'toastedepi', 'toastedin', 'toaster', 'toasting', 'toasts', 'toated', 'tobacco', 'toban', 'tobanjan', 'tobarashi', 'tobasco', 'tobbiko', 'tobiko', 'tobler', 'toblerone', 'today', 'todd', 'toe', 'toenjang', 'toes', 'toffee', 'tofu', 'tofutti', 'togarashi', 'togerashi', 'together', 'toi', 'tojolote', 'tokai', 'tokay', 'tokyo', 'tolerance', 'tolerant', 'toll', 'tollhouse', 'tolstoi', 'tom', 'tomahawk', 'tomalley', 'tomao', 'tomat', 'tomates', 'tomatillas', 'tomatillo', 'tomatillos', 'tomato', 'tomatoes', 'tomatos', 'tombstones', 'tomme', 'tommy', 'tomoatoes', 'tomolives', 'tomorrow', 'tomotillos', 'tomyo', 'ton', 'tonatto', 'tone', 'tones', 'tonette', 'toney', 'tong', 'tongs', 'tongue', 'tongues', 'tonic', 'tonka', 'tonkatsu', 'tonnarelli', 'tonnino', 'tony', 'toogarashi', 'tool', 'tools', 'toor', 'tooth', 'toothpick', 'toothpicks', 'tootsie', 'toovar', 'toover', 'top', 'topfen', 'topika', 'topiko', 'topneck', 'topped', 'topper', 'toppers', 'topping', 'toppings', 'tops', 'toraji', 'torani', 'torch', 'torched', 'torchon', 'torino', 'torn', 'tornup', 'toro', 'toros', 'torpedo', 'torre', 'torrentes', 'torrone', 'torrontes', 'torta', 'tortas', 'torte', 'tortelli', 'tortellini', 'tortelloni', 'tortiglioni', 'tortilla', 'tortillas', 'tortoni', 'tortue', 'tosaka', 'tosazu', 'toscano', 'toschi', 'toss', 'tossed', 'tossing', 'tossingg', 'tostada', 'tostadas', 'tostaditas', 'tostado', 'tostidos', 'tostito', 'tostitos', 'tostonera', 'total', 'totaling', 'totally', 'totani', 'totillas', 'tots', 'totsoi', 'touch', 'tough', 'toughest', 'toulouse', 'toum', 'tournedos', 'tournee', 'tourneed', 'towel', 'toweling', 'towels', 'town', 'townhouse', 'townline', 'townsend', 'toxic', 'trablit', 'trace', 'traces', 'track', 'trader', 'tradicional', 'trading', 'tradition', 'traditional', 'traditionally', 'tradizionale', 'tragacanth', 'trahana', 'trail', 'trang', 'trans', 'transfat', 'transfer', 'transfers', 'translation', 'translucent', 'transparent', 'trapani', 'trapping', 'trappist', 'traviso', 'tray', 'trays', 'treacle', 'treasure', 'treat', 'treated', 'treating', 'treats', 'trebbiano', 'tree', 'treetop', 'trefoil', 'tremblaye', 'tremor', 'trenette', 'trenne', 'tres', 'tresfoil', 'trevisano', 'treviso', 'tri', 'triangle', 'triangles', 'triangular', 'tribe', 'trick', 'tricked', 'tricolor', 'tricolored', 'tried', 'trifle', 'triggerfish', 'triglyceride', 'trigo', 'trillado', 'trim', 'trimmed', 'trimmedand', 'trimming', 'trimmings', 'trimolene', 'trimoline', 'trinidad', 'trinity', 'trio', 'trip', 'tripe', 'tripel', 'triple', 'triplesec', 'tripoline', 'tripolini', 'triscuit', 'triscuits', 'trisha', 'triticale', 'trockenbeerenauslese', 'trois', 'trompe', 'trompette', 'trompettes', 'tropea', 'tropical', 'tropicana', 'trotter', 'trotters', 'trouble', 'trout', 'true', 'truffle', 'truffled', 'truffles', 'truffleyaki', 'truly', 'trumpet', 'trumpets', 'trumps', 'trung', 'trungnguyen', 'trunks', 'truroots', 'trussed', 'trusted', 'truth', 'truvia', 'try', 'tsai', 'tsang', 'tsatsiki', 'tsp', 'tsps', 'tteok', 'tuaca', 'tub', 'tubatini', 'tube', 'tubers', 'tubes', 'tubetini', 'tubetinni', 'tubetti', 'tubettini', 'tubs', 'tubular', 'tuck', 'tuckaway', 'tucked', 'tuile', 'tuiles', 'tulip', 'tulips', 'tumbler', 'tumeric', 'tuna', 'tune', 'tung', 'tunisian', 'tuong', 'tupelo', 'tupperware', 'tur', 'turban', 'turbinado', 'turbinando', 'turbodog', 'turbot', 'turducken', 'tureen', 'turkey', 'turkeys', 'turkish', 'turmeric', 'turn', 'turned', 'turning', 'turnip', 'turnips', 'turnover', 'turnovers', 'turnpike', 'turns', 'turntable', 'turtle', 'tuscan', 'tuscany', 'tutto', 'tuttopan', 'tuttorosso', 'tuvar', 'tvp', 'tweezers', 'twelve', 'twenty', 'twice', 'twig', 'twigs', 'twin', 'twine', 'twining', 'twinkies', 'twist', 'twisted', 'twisting', 'twists', 'twix', 'twizzler', 'twizzlers', 'two', 'tying', 'tyj', 'type', 'types', 'typically', 'tyson', 'tzatziki', 'tìa', 'tía', 'tõgarashi', 'ube', 'udi', 'udon', 'ugy__', 'uhr', 'uhu', 'uk', 'ukranian', 'uku', 'ulek', 'ultimate', 'ultimates', 'ultra', 'ultracreamy', 'ultragrain', 'ultrapasteurized', 'ultratex', 'ultrathin', 'umbels', 'umbrella', 'umbrellas', 'umbrian', 'ume', 'umeboshi', 'un', 'una', 'unable', 'unaged', 'unagi', 'unappetizing', 'unavailable', 'unbaked', 'unbeaten', 'unblanched', 'unbleached', 'unblemished', 'unbroken', 'unbromated', 'uncertain', 'unchopped', 'uncle', 'uncleaned', 'uncoated', 'unconverted', 'uncooked', 'uncored', 'uncovered', 'uncracked', 'uncured', 'uncut', 'undamaged', 'undecorated', 'undercooked', 'underripe', 'undiluted', 'undrained', 'undyed', 'uneeda', 'unenriched', 'uneven', 'unexpected', 'unfilled', 'unfiltered', 'unflavored', 'unfold', 'unfolded', 'unfrosted', 'unglazed', 'ungreased', 'unheated', 'unhulled', 'unhusked', 'unhydrogenated', 'uni', 'uniform', 'uniformly', 'uniq', 'unique', 'united', 'units', 'univer', 'unless', 'unlike', 'unmelted', 'unmolded', 'unmolding', 'unopened', 'unpacked', 'unpasteurized', 'unpeeled', 'unpicked', 'unpitted', 'unpopped', 'unprepared', 'unprocessed', 'unrefined', 'unrinsed', 'unripe', 'unripened', 'unrisen', 'unroasted', 'unroll', 'unrolled', 'unsalted', 'unscaled', 'unscented', 'unseasoned', 'unseeded', 'unseparated', 'unsettling', 'unshelled', 'unshucked', 'unsifted', 'unskinned', 'unsliced', 'unsmoked', 'unsoaked', 'unsplit', 'unsprayed', 'unssalted', 'unstuffed', 'unsulfered', 'unsulfured', 'unsulphered', 'unsulphured', 'unsweeted', 'unsweetend', 'unsweetened', 'untempered', 'unthawed', 'untied', 'untoasted', 'untorn', 'untreated', 'untrimmed', 'unused', 'unusual', 'unwanted', 'unwashed', 'unwaxed', 'unwrap', 'unwrapped', 'unwrinkled', 'unzested', 'upholstery', 'upland', 'uplandscheese', 'upon', 'upper', 'upright', 'ups', 'upscale', 'upside', 'uptown', 'urad', 'urbani', 'urchin', 'urchins', 'urfa', 'us', 'usable', 'usda', 'use', 'used', 'uses', 'using', 'usingers', 'usli', 'uster', 'usually', 'usukuchi', 'utah', 'utensils', 'utes', 'utility', 'utskho', 'utz', 'uv', 'uwajimaya', 'vaca', 'vaccuum', 'vacherin', 'vacu', 'vacuum', 'vadouvan', 'vahlrohna', 'vahlrona', 'val', 'valdeon', 'valdeón', 'valencay', 'valencia', 'valenciana', 'valentina', 'valentine', 'valerian', 'valhrona', 'vali', 'valle', 'valley', 'valor', 'valpolicella', 'valrhona', 'valrohna', 'value', 'vampire', 'van', 'vandermint', 'vanil', 'vanilla', 'vanille', 'varenikes', 'vareniki', 'vareniky', 'varenyky', 'variant', 'variation', 'variations', 'variegated', 'varies', 'varietal', 'varietals', 'varieties', 'variety', 'various', 'vark', 'vary', 'varying', 'vase', 'vaseline', 'vases', 'vasterbotten', 'vaurenwurst', 'vay', 'veal', 'veau', 'veaukosher', 'vecchio', 'veev', 'veg', 'vega', 'vegan', 'veganaise', 'vegannaise', 'vegata', 'vegemite', 'vegenaise', 'vegesal', 'vegeta', 'vegetable', 'vegetables', 'vegetarian', 'veggie', 'veggies', 'vegi', 'vegoladas', 'vein', 'veined', 'veins', 'veiny', 'veloute', 'velouté', 'veltliner', 'velveeta', 'velvet', 'velveta', 'velvety', 'venda', 'vendor', 'venezuelan', 'venice', 'venise', 'venison', 'venom', 'vent', 'ventreche', 'ventresca', 'ventrèche', 'venus', 'ver', 'vera', 'veracruz', 'verbena', 'verde', 'verdejo', 'verdelho', 'verdes', 'verdicchio', 'verges', 'verify', 'verjuice', 'verjus', 'vermentino', 'vermicelli', 'vermont', 'vermoth', 'vermouth', 'vernis', 'vernors', 'vero', 'verona', 'veronese', 'versa', 'versawhip', 'version', 'vert', 'verte', 'vertical', 'vertically', 'verts', 'vessel', 'vessels', 'vezzena', 'vh', 'via', 'vial', 'vialone', 'viande', 'vibrant', 'vic', 'vichy', 'victor', 'victoria', 'victorias', 'vidahlia', 'vidal', 'vidalia', 'vidalias', 'vidallia', 'vide', 'vie', 'vienna', 'viennese', 'vietnamese', 'vietti', 'vieux', 'vigin', 'vignettes', 'vigo', 'vigorously', 'vikos', 'village', 'vin', 'vinagre', 'vinagreta', 'vinagrette', 'vinaigrette', 'vinci', 'vincotto', 'vindaloo', 'vine', 'vineagar', 'vined', 'vinegar', 'vinegared', 'vinegary', 'vinegrar', 'vinegrette', 'vineripe', 'vineripened', 'vines', 'vineyard', 'vingear', 'vinho', 'vinigar', 'vino', 'vintage', 'vintners', 'viognier', 'violas', 'violet', 'violets', 'violette', 'virgin', 'virginia', 'virginiatraditions', 'virigin', 'viscera', 'visible', 'visit', 'vita', 'vital', 'vitalicious', 'vitamin', 'vitaminutes', 'vitamix', 'vitar', 'vitatops', 'viura', 'vivi', 'vlahotyri', 'vlasic', 'vmh', 'vodka', 'vol', 'vollrath', 'volta', 'volume', 'vongole', 'voodoo', 'vosges', 'voskos', 'vs', 'vsop', 'vya', 'västerbotten', 'waan', 'wabo', 'wadi', 'wadmalaw', 'wafer', 'wafers', 'waffle', 'waffles', 'wages', 'wagon', 'wagyu', 'wah', 'wahoo', 'waipio', 'wait', 'waiting', 'wakame', 'walden', 'walker', 'walkers', 'walkerswood', 'wall', 'walla', 'walled', 'wallet', 'walleye', 'walnut', 'walnuts', 'wan', 'wand', 'wangs', 'want', 'wants', 'war', 'warabi', 'warm', 'warmed', 'warmer', 'warming', 'warn', 'warqa', 'warrensburg', 'warrior', 'wasa', 'wasabe', 'wasabi', 'wasatch', 'wasbi', 'wash', 'washcloths', 'washed', 'washing', 'washington', 'waste', 'watch', 'watchers', 'watching', 'water', 'watercolor', 'watercress', 'waterlogged', 'watermelon', 'watermelons', 'waterpacked', 'waterproof', 'waters', 'watery', 'watkins', 'watrecress', 'watson', 'waves', 'wavy', 'wax', 'waxed', 'waxy', 'way', 'wayne', 'ways', 'weak', 'weakfish', 'wear', 'wearing', 'weave', 'weaver', 'web', 'webbing', 'weber', 'weblike', 'webstaurantstore', 'wedding', 'wedge', 'wedged', 'wedges', 'wedgesfor', 'wee', 'weed', 'weeds', 'week', 'weeks', 'weelicious', 'weenies', 'weeny', 'wegmans', 'wehani', 'wehlener', 'weigh', 'weighed', 'weighing', 'weighs', 'weight', 'weighted', 'weighting', 'weights', 'weiner', 'weiners', 'weird', 'weisenberger', 'weisenbergers', 'weisswurst', 'weke', 'welch', 'welfare', 'well', 'wellfleet', 'wells', 'wensleydale', 'wernesgruner', 'werther', 'wesson', 'west', 'western', 'westphalian', 'wet', 'whack', 'whacked', 'whale', 'whatever', 'wheat', 'wheatberries', 'wheatberry', 'wheatgrass', 'wheaties', 'wheatmeal', 'wheats', 'wheel', 'wheels', 'wherever', 'whether', 'whey', 'whichever', 'whip', 'whipped', 'whipping', 'whips', 'whirlfloc', 'whisk', 'whisked', 'whiskey', 'whisking', 'whisky', 'whisper', 'whit', 'white', 'whitebase', 'whitefish', 'whitelily', 'whitener', 'whites', 'whitestriped', 'whitewater', 'whitewine', 'whiting', 'whittled', 'whiz', 'whlpping', 'whole', 'wholechicken', 'wholegrain', 'wholemeal', 'wholemilk', 'wholesome', 'wholespice', 'wholewheat', 'wholle', 'wholly', 'whoopie', 'whoppers', 'wick', 'wicked', 'wickedgoodcharcoal', 'wickham', 'wide', 'widefat', 'widely', 'wider', 'width', 'widths', 'widthwise', 'wiener', 'wieners', 'wienies', 'wiht', 'wilco', 'wild', 'wildfire', 'wildflower', 'wildflowers', 'willamette', 'william', 'williams', 'williamsburg', 'willie', 'willingham', 'willy', 'wilson', 'wilsons', 'wilted', 'wilting', 'wilton', 'wimpy', 'wine', 'wineglass', 'wines', 'winesap', 'winesaps', 'winevinegar', 'wing', 'wingettes', 'wings', 'wingtips', 'wining', 'winning', 'winter', 'wintergreen', 'wip', 'wipe', 'wiped', 'wiping', 'wire', 'wired', 'wisconsin', 'wise', 'wish', 'wishbone', 'wispy', 'witch', 'withered', 'within', 'withjuice', 'without', 'withstand', 'witlofs', 'wok', 'wolf', 'wolfberries', 'wolffer', 'wonder', 'wonderful', 'wonderfully', 'wonders', 'wondra', 'wong', 'wonton', 'wontons', 'wood', 'woodchuck', 'woodcock', 'woodear', 'wooded', 'wooden', 'woodford', 'woodiest', 'woodruff', 'woods', 'woodsy', 'woody', 'woodyard', 'worcestershire', 'worcestershirek', 'worchershire', 'worchester', 'worchestershire', 'worecestershire', 'work', 'worked', 'working', 'works', 'worksurface', 'world', 'worldclass', 'worm', 'worms', 'wormwood', 'worstershire', 'worth', 'would', 'woven', 'wrap', 'wrapped', 'wrapper', 'wrappers', 'wrapping', 'wraps', 'wray', 'wreckfish', 'wright', 'wrinkled', 'writer', 'writing', 'wrote', 'wrung', 'wt', 'wursts', 'wuwei', 'wuyi', 'www', 'wyeast', 'xadbought', 'xadinch', 'xadincluding', 'xadraised', 'xadsized', 'xadvirgin', 'xantham', 'xanthan', 'xanthum', 'xeres', 'ximenez', 'ximénez', 'xinch', 'xing', 'xiong', 'xo', 'xochitl', 'xocolatl', 'xtabentún', 'xuxu', 'xx', 'xylitol', 'ya', 'yabbies', 'yacon', 'yakari', 'yaki', 'yakidofu', 'yakinori', 'yakisoba', 'yam', 'yamasa', 'yamazaki', 'yams', 'yard', 'yards', 'yarrow', 'yautia', 'yautía', 'yazzo', 'year', 'yearling', 'years', 'yearwood', 'yeast', 'yeasts', 'yeasty', 'yee', 'yeild', 'yeilding', 'yellow', 'yellowedge', 'yellowfin', 'yellowfoot', 'yellowish', 'yellows', 'yellowtail', 'yen', 'yerba', 'yes', 'yet', 'yete', 'yia', 'yieh', 'yield', 'yielding', 'yields', 'yodel', 'yoghurt', 'yogi', 'yogurt', 'yok', 'yoke', 'yokes', 'yol', 'yolk', 'yolks', 'yoplait', 'york', 'yorkshire', 'youdon', 'young', 'youprefer', 'yu', 'yuba', 'yuca', 'yucas', 'yucatan', 'yucatecan', 'yucca', 'yucon', 'yuen', 'yuengling', 'yufka', 'yuka', 'yukon', 'yukons', 'yum', 'yummy', 'yuzo', 'yuzu', 'yuzupassion', 'yves', 'za', 'zaanse', 'zaatar', 'zabaglione', 'zacapa', 'zahter', 'zambra', 'zamora', 'zang', 'zanshõ', 'zante', 'zapallo', 'zapper', 'zarame', 'zarda', 'zatar', 'zatarain', 'zatarains', 'zatarian', 'zaâtar', 'zealand', 'zebra', 'zebras', 'zen', 'zentini', 'zereshk', 'zergüt', 'zero', 'zes', 'zest', 'zested', 'zestepi', 'zester', 'zesting', 'zests', 'zestthy', 'zesty', 'zhoug', 'zibibbo', 'zico', 'zin', 'zinfandel', 'zinfindel', 'zing', 'zinger', 'zingermans', 'zings', 'zip', 'ziti', 'zombie', 'zone', 'zoo', 'zubrowka', 'zucchini', 'zucchinis', 'zuchinni', 'zutano', 'zweiback', 'zwieback', 'ángel', 'árbol', 'ème', 'épices', 'éspices', 'ñame', 'ño', 'úa', 'źrbol', 'ﬁne', 'ﬁnely', 'ﬂour']\n"
     ]
    }
   ],
   "source": [
    "tf_vec = TfidfVectorizer(stop_words=stopwords_ingr)\n",
    "ingr_tfidf = tf_vec.fit_transform(corpus)\n",
    "\n",
    "print(tf_vec.get_feature_names())"
   ]
  },
  {
   "cell_type": "code",
   "execution_count": 84,
   "metadata": {
    "ExecuteTime": {
     "end_time": "2019-11-14T07:29:24.263360Z",
     "start_time": "2019-11-14T07:29:22.045365Z"
    }
   },
   "outputs": [],
   "source": [
    "#lsa_10 = TruncatedSVD(10)  \n",
    "tf_lsa_10 = lsa_10.fit_transform(ingr_tfidf)"
   ]
  },
  {
   "cell_type": "code",
   "execution_count": 71,
   "metadata": {
    "ExecuteTime": {
     "end_time": "2019-11-14T06:58:00.291511Z",
     "start_time": "2019-11-14T06:58:00.181965Z"
    }
   },
   "outputs": [
    {
     "name": "stdout",
     "output_type": "stream",
     "text": [
      "\n",
      "Topic  0\n",
      "chopped, salt, pepper, fresh, ground, oil, black, garlic, olive, freshly, sliced, large, red, finely, sugar, cut, butter, onion, leaves, minced\n",
      "\n",
      "Topic  1\n",
      "sugar, butter, flour, vanilla, purpose, extract, baking, cream, unsalted, powder, salt, eggs, egg, milk, chocolate, large, white, brown, temperature, room\n",
      "\n",
      "Topic  2\n",
      "ground, pepper, black, salt, freshly, oil, kosher, sliced, olive, minced, diced, vinegar, red, garlic, sauce, thinly, cut, taste, extra, virgin\n",
      "\n",
      "Topic  3\n",
      "fresh, sliced, cut, juice, lemon, oil, thinly, leaves, olive, large, peeled, minced, extra, virgin, pieces, plus, lime, sugar, halved, orange\n",
      "\n",
      "Topic  4\n",
      "fresh, ground, freshly, lemon, juice, kosher, black, leaves, finely, grated, salt, parsley, extra, zest, plus, virgin, cinnamon, olive, orange, unsalted\n",
      "\n",
      "Topic  5\n",
      "fresh, ground, sauce, juice, sugar, minced, diced, sliced, lime, ginger, taste, green, onion, white, cinnamon, cilantro, water, brown, soy, powder\n",
      "\n",
      "Topic  6\n",
      "cut, large, peeled, pieces, ground, butter, unsalted, freshly, chicken, medium, slices, small, cubes, potatoes, stick, black, celery, carrots, thick, broth\n",
      "\n",
      "Topic  7\n",
      "sliced, cheese, thinly, cream, grated, freshly, butter, shredded, package, parmesan, ground, cheddar, black, fresh, slices, kosher, bread, unsalted, mushrooms, heavy\n",
      "\n",
      "Topic  8\n",
      "diced, cheese, pepper, minced, cream, taste, fresh, butter, salt, shredded, grated, chicken, package, onion, parmesan, garlic, heavy, milk, cheddar, black\n",
      "\n",
      "Topic  9\n",
      "pepper, red, finely, juice, diced, lemon, salt, freshly, sugar, kosher, bell, lime, black, vinegar, orange, small, seeded, recipe, follows, zest\n"
     ]
    }
   ],
   "source": [
    "project4_functions.display_topics(lsa_10, tf_vec.get_feature_names(), 20) "
   ]
  },
  {
   "cell_type": "markdown",
   "metadata": {},
   "source": [
    "### Count Vectorized NMF, new stopwords"
   ]
  },
  {
   "cell_type": "code",
   "execution_count": 253,
   "metadata": {
    "ExecuteTime": {
     "end_time": "2019-11-14T09:43:48.566929Z",
     "start_time": "2019-11-14T09:42:29.534212Z"
    }
   },
   "outputs": [],
   "source": [
    "nmf_10 = NMF(10) \n",
    "rb_nmf_10 = nmf_10.fit_transform(ingr_ct) "
   ]
  },
  {
   "cell_type": "code",
   "execution_count": 254,
   "metadata": {
    "ExecuteTime": {
     "end_time": "2019-11-14T09:43:48.674499Z",
     "start_time": "2019-11-14T09:43:48.572241Z"
    }
   },
   "outputs": [
    {
     "name": "stdout",
     "output_type": "stream",
     "text": [
      "\n",
      "Topic  0\n",
      "peppa, salmonella, freshest, black, korn, butter, gros, reata, follow, grasshoppers, musselman, leave, unpitted, fine, plumpjack, flounder, pimms, threadfin, garland, canola\n",
      "\n",
      "Topic  1\n",
      "sucuk, butter, flounder, vali, salmonella, purging, cream, extra, baking, unpitted, eggplants, efficient, pourable, mildest, whip, lardo, chocolate, plumpjack, tein, rondele\n",
      "\n",
      "Topic  2\n",
      "chopped, fine, ondine, coarsely, garland, parmigiano, chicken, cloves, celery, lardo, whip, greece, tollhouse, fresca, media, pectoral, broth, ones, dragées, cilantro\n",
      "\n",
      "Topic  3\n",
      "fresca, jug, leicester, leave, lily, milman, grasshoppers, parmigiano, sprays, optionally, minneolas, garning, threadfin, zatarains, cilantro, basil, fine, plumpjack, pectoral, rosato\n",
      "\n",
      "Topic  4\n",
      "sativa, milman, garland, ohnuts, whip, cloves, sous, wasabi, ribera, chicken, vecchio, tartlett, village, pourable, dreyer, ginersnaps, peppa, serve, ondine, salmonella\n",
      "\n",
      "Topic  5\n",
      "gros, cinnamon, cumin, cloves, nuoc, pourable, beef, black, dreyer, ginersnaps, brown, allspice, coriander, ondine, pappadams, freshest, popsticks, pimms, chili, toll\n",
      "\n",
      "Topic  6\n",
      "cusp, lardo, pectoral, pict, media, slow, slaw, chicken, cubes, thawed, diavlo, carrots, pot, strip, chunks, halvah, unpitted, whitebase, reconstitituted, butter\n",
      "\n",
      "Topic  7\n",
      "slathering, thickness, reconstitituted, whip, cheese, greece, muscovy, ondine, pectoral, village, slaw, slow, halvah, thickeners, william, ones, media, thawed, shovel, lardo\n",
      "\n",
      "Topic  8\n",
      "diavolo, peppa, reconstitituted, ondine, cheese, bell, tartlett, greece, tollhouse, shovel, secure, dragées, slow, cream, beans, salmonella, paccheri, yautía, peppermints, dreyer\n",
      "\n",
      "Topic  9\n",
      "ohnuts, olek, extinct, vineyard, garland, salmonella, reconstitituted, cloves, village, william, leave, tollhouse, lardo, plumpjack, grasshoppers, basil, cheese, dreyer, parlour, vecchio\n"
     ]
    }
   ],
   "source": [
    "project4_functions.display_topics(nmf_10, ct_vectorizer.get_feature_names(), 20)"
   ]
  },
  {
   "cell_type": "code",
   "execution_count": null,
   "metadata": {},
   "outputs": [],
   "source": [
    "#nmf has some unusal words when using count-vectorized data (brand names?)"
   ]
  },
  {
   "cell_type": "code",
   "execution_count": 76,
   "metadata": {
    "ExecuteTime": {
     "end_time": "2019-11-14T06:59:26.009887Z",
     "start_time": "2019-11-14T06:59:10.964906Z"
    }
   },
   "outputs": [],
   "source": [
    "nmf_5 = NMF(5) \n",
    "rb_nmf_5 = nmf_5.fit_transform(ingr_ct) "
   ]
  },
  {
   "cell_type": "code",
   "execution_count": 81,
   "metadata": {
    "ExecuteTime": {
     "end_time": "2019-11-14T07:10:21.555280Z",
     "start_time": "2019-11-14T07:10:21.528473Z"
    }
   },
   "outputs": [
    {
     "name": "stdout",
     "output_type": "stream",
     "text": [
      "\n",
      "Topic  0\n",
      "gros, peppa, salmonella, black, freshest, ohnuts, korn, garland, diavolo, olek, tartlett, pourable, ondine, milman, cloves, sativa, grasshoppers, cheese, cumin, reata\n",
      "\n",
      "Topic  1\n",
      "sucuk, butter, flounder, salmonella, vali, purging, cream, extra, baking, unpitted, pourable, lardo, eggplants, efficient, mildest, whip, chocolate, brown, plumpjack, wasabi\n",
      "\n",
      "Topic  2\n",
      "chopped, fine, ondine, garland, chicken, greece, coarsely, peppa, cloves, parmigiano, tollhouse, reconstitituted, celery, lardo, dragées, whip, dreyer, cheese, pectoral, media\n",
      "\n",
      "Topic  3\n",
      "fresca, jug, leicester, leave, milman, ohnuts, olek, grasshoppers, lily, parmigiano, salmonella, extinct, plumpjack, sprays, vineyard, freshest, threadfin, garning, optionally, fine\n",
      "\n",
      "Topic  4\n",
      "slathering, ohnuts, cusp, reconstitituted, olek, thickness, lardo, peppa, garland, pectoral, salmonella, sativa, whip, village, ondine, pict, slow, milman, william, chicken\n"
     ]
    }
   ],
   "source": [
    "project4_functions.display_topics(nmf_5, ct_vectorizer.get_feature_names(), 20)"
   ]
  },
  {
   "cell_type": "code",
   "execution_count": null,
   "metadata": {},
   "outputs": [],
   "source": []
  },
  {
   "cell_type": "markdown",
   "metadata": {},
   "source": [
    "### TF-IDF, NMF, new stopwords\n"
   ]
  },
  {
   "cell_type": "code",
   "execution_count": 78,
   "metadata": {
    "ExecuteTime": {
     "end_time": "2019-11-14T06:59:58.313356Z",
     "start_time": "2019-11-14T06:59:26.048453Z"
    }
   },
   "outputs": [],
   "source": [
    "nmf_10 = NMF(10) \n",
    "rbtf_nmf_10 = nmf_10.fit_transform(ingr_tfidf) "
   ]
  },
  {
   "cell_type": "code",
   "execution_count": 82,
   "metadata": {
    "ExecuteTime": {
     "end_time": "2019-11-14T07:10:44.018540Z",
     "start_time": "2019-11-14T07:10:43.986132Z"
    }
   },
   "outputs": [
    {
     "name": "stdout",
     "output_type": "stream",
     "text": [
      "\n",
      "Topic  0\n",
      "gros, peppa, tartlett, black, diavolo, salmonella, freshest, ondine, pimms, cumin, cayenne, beef, pourable, pappadams, garland, dreyer, pot, cinnamon, beans, bell\n",
      "\n",
      "Topic  1\n",
      "unpitted, butter, rondele, tein, lardo, plumpjack, sterling, efficient, stewing, salmonella, flounder, korn, granualted, purging, melonballer, cusp, grasshoppers, sucuk, whitebase, pict\n",
      "\n",
      "Topic  2\n",
      "jug, leicester, fresca, optionally, lily, zatarains, sucuk, iberian, garning, wasabi, minneolas, grasshoppers, pinapples, fluffed, pectin, frothy, squared, cubes, chilled, vital\n",
      "\n",
      "Topic  3\n",
      "cheese, shovel, paccheri, cream, cheddar, grasshoppers, parlour, frothy, slaw, soul, bread, misting, mouton, textured, dragées, sodium, mildest, souchong, eggplants, condensed\n",
      "\n",
      "Topic  4\n",
      "olek, ohnuts, extinct, vineyard, freshest, leave, fresca, korn, salmonella, peppa, garland, black, cloves, milman, basil, village, william, parmigiano, reconstitituted, grasshoppers\n",
      "\n",
      "Topic  5\n",
      "chopped, fine, fresca, ondine, parmigiano, greece, coarsely, cilantro, celery, tollhouse, diavolo, secure, chicken, leave, bell, dragées, reconstitituted, broth, pectoral, media\n",
      "\n",
      "Topic  6\n",
      "slathering, cusp, thickness, pectoral, pict, reconstitituted, slaw, lardo, media, slow, thawed, halvah, pot, thickeners, strip, cored, lengkuas, greece, ones, village\n",
      "\n",
      "Topic  7\n",
      "baking, flounder, purging, sucuk, pourable, soaks, whip, eggplants, cinnamon, salmonella, butter, gros, brown, mildest, extra, shortbread, efficient, vecchio, wasabi, sodium\n",
      "\n",
      "Topic  8\n",
      "vali, extra, sucuk, chocolate, cream, mildest, heavier, semicircles, chips, confectioners, unsmoked, cocoa, efficient, sodium, brown, whip, butter, coconut, swordfish, wheatgrass\n",
      "\n",
      "Topic  9\n",
      "sativa, milman, chicken, sous, garland, ribera, serve, ohnuts, boneless, ginersnaps, ski, vecchio, hosin, village, breast, woodchuck, wasabi, cloves, whip, halve\n"
     ]
    }
   ],
   "source": [
    "project4_functions.display_topics(nmf_10, tf_vectorizer.get_feature_names(), 20)"
   ]
  },
  {
   "cell_type": "markdown",
   "metadata": {},
   "source": [
    "NMF has some unusal words, including words from other languages. Overall the NMF topics are nonsensical regardless of the number of topics. Choosing LSA for recommendations going forward."
   ]
  },
  {
   "cell_type": "markdown",
   "metadata": {},
   "source": [
    "# Find similar recipes within dataset\n",
    "## Cosine Similarity"
   ]
  },
  {
   "cell_type": "markdown",
   "metadata": {},
   "source": [
    "> cosine sim: from cos sim docs: input X, Y\n",
    "\n",
    "> X : ndarray or sparse array, shape: (n_samples_X, n_features) Input data.\n",
    "\n",
    "> Y : ndarray or sparse array, shape: (n_samples_Y, n_features) Input data. If None, the output will be the pairwise similarities between all samples in X. \n",
    "\n",
    "(previously running slowly because doing pairwise calculation between all documents in X; instead, want one vs. all)"
   ]
  },
  {
   "cell_type": "markdown",
   "metadata": {},
   "source": [
    "**Find the recipes with the highest cosine similarity to a few recipes, compare recommendations between ct-v data and tf-idf vectorized data.**"
   ]
  },
  {
   "cell_type": "markdown",
   "metadata": {},
   "source": [
    "### Count-Vectorized LSA"
   ]
  },
  {
   "cell_type": "markdown",
   "metadata": {},
   "source": [
    "#### Recipes similar to cookies"
   ]
  },
  {
   "cell_type": "code",
   "execution_count": 89,
   "metadata": {
    "ExecuteTime": {
     "end_time": "2019-11-14T07:33:27.750671Z",
     "start_time": "2019-11-14T07:33:27.743965Z"
    }
   },
   "outputs": [
    {
     "data": {
      "text/plain": [
       "title                                 Best Chocolate Chip Cookies\n",
       "ingredients     [1 cup butter, softened ADVERTISEMENT, 1 cup w...\n",
       "instructions    Preheat oven to 350 degrees F (175 degrees C)....\n",
       "Name: 3, dtype: object"
      ]
     },
     "execution_count": 89,
     "metadata": {},
     "output_type": "execute_result"
    }
   ],
   "source": [
    "data.iloc[3] #first we choose this recipe for recommendations"
   ]
  },
  {
   "cell_type": "code",
   "execution_count": 90,
   "metadata": {
    "ExecuteTime": {
     "end_time": "2019-11-14T07:33:41.056657Z",
     "start_time": "2019-11-14T07:33:40.999685Z"
    }
   },
   "outputs": [
    {
     "data": {
      "text/plain": [
       "\"[' cup butter, softened ADVERTISEMENT', ' cup white sugar ADVERTISEMENT', ' cup packed brown sugar ADVERTISEMENT', ' eggs ADVERTISEMENT', ' teaspoons vanilla extract ADVERTISEMENT', ' cups all-purpose flour ADVERTISEMENT', ' teaspoon baking soda ADVERTISEMENT', ' teaspoons hot water ADVERTISEMENT', '/ teaspoon salt ADVERTISEMENT', ' cups semisweet chocolate chips ADVERTISEMENT', ' cup chopped walnuts ADVERTISEMENT', 'ADVERTISEMENT']\""
      ]
     },
     "execution_count": 90,
     "metadata": {},
     "output_type": "execute_result"
    }
   ],
   "source": [
    "data_ingr[3] #ingredient list, before vectorizing and filtering out stopwords"
   ]
  },
  {
   "cell_type": "markdown",
   "metadata": {},
   "source": [
    "Find the cosine similarity between this recipe and the rest of the dimensionally-reduced (via LSA) dataset:"
   ]
  },
  {
   "cell_type": "code",
   "execution_count": 126,
   "metadata": {
    "ExecuteTime": {
     "end_time": "2019-11-14T07:49:09.674687Z",
     "start_time": "2019-11-14T07:49:09.627015Z"
    }
   },
   "outputs": [
    {
     "data": {
      "text/plain": [
       "array([[0.258, 0.343, 0.404, ..., 0.174, 0.609, 0.173]])"
      ]
     },
     "execution_count": 126,
     "metadata": {},
     "output_type": "execute_result"
    }
   ],
   "source": [
    "#lsa_10 = TruncatedSVD(10)  \n",
    "#ct_lsa_10 = lsa_10.fit_transform(ingr_ct)\n",
    "lsa_s_choc_ctv=cosine_similarity(ct_lsa_10[3].reshape(1, -1), ct_lsa_10).round(3) \n",
    "lsa_s_choc_ctv"
   ]
  },
  {
   "cell_type": "code",
   "execution_count": 127,
   "metadata": {
    "ExecuteTime": {
     "end_time": "2019-11-14T07:49:11.108805Z",
     "start_time": "2019-11-14T07:49:11.093533Z"
    }
   },
   "outputs": [
    {
     "data": {
      "text/plain": [
       "array([[98585, 80276, 95659, ...,  5450,  2218,     3]])"
      ]
     },
     "execution_count": 127,
     "metadata": {},
     "output_type": "execute_result"
    }
   ],
   "source": [
    "#argsort returns sorted array pf indices with their values from low to high \n",
    "lsa_s_choc_ctv.argsort()"
   ]
  },
  {
   "cell_type": "code",
   "execution_count": 128,
   "metadata": {
    "ExecuteTime": {
     "end_time": "2019-11-14T07:49:14.828532Z",
     "start_time": "2019-11-14T07:49:14.812247Z"
    }
   },
   "outputs": [
    {
     "data": {
      "text/plain": [
       "array([[    3,  2218,  5450, ..., 95659, 80276, 98585]])"
      ]
     },
     "execution_count": 128,
     "metadata": {},
     "output_type": "execute_result"
    }
   ],
   "source": [
    "a = lsa_s_choc_ctv.argsort()\n",
    "np.fliplr(a) #flip array sorted by argsort, slower though\n",
    "\n",
    "#expect the first result to be the recipe itself [3], with cosine similarity=1"
   ]
  },
  {
   "cell_type": "code",
   "execution_count": 120,
   "metadata": {
    "ExecuteTime": {
     "end_time": "2019-11-14T07:47:05.950638Z",
     "start_time": "2019-11-14T07:47:05.932256Z"
    }
   },
   "outputs": [
    {
     "data": {
      "text/plain": [
       "array([[    3, 35999, 11250, ..., 78367, 98585, 80276]])"
      ]
     },
     "execution_count": 120,
     "metadata": {},
     "output_type": "execute_result"
    }
   ],
   "source": [
    "#reverse array (-lsa_s) - sometimes order changes when flipped this way?\n",
    "#(-(lsa_s_choc)).argsort() "
   ]
  },
  {
   "cell_type": "code",
   "execution_count": 129,
   "metadata": {
    "ExecuteTime": {
     "end_time": "2019-11-14T07:49:18.134428Z",
     "start_time": "2019-11-14T07:49:18.124813Z"
    }
   },
   "outputs": [
    {
     "data": {
      "text/plain": [
       "title                  White Chocolate Macadamia Cranberry Dreams\n",
       "ingredients     [3 cups all-purpose flour ADVERTISEMENT, 3/4 t...\n",
       "instructions    In a medium bowl set aside flour, baking soda ...\n",
       "Name: 2218, dtype: object"
      ]
     },
     "execution_count": 129,
     "metadata": {},
     "output_type": "execute_result"
    }
   ],
   "source": [
    "#look at the other recipes, see if the recommendation makes sense\n",
    "data.iloc[2218]"
   ]
  },
  {
   "cell_type": "code",
   "execution_count": 132,
   "metadata": {
    "ExecuteTime": {
     "end_time": "2019-11-14T07:50:23.297350Z",
     "start_time": "2019-11-14T07:50:23.280502Z"
    }
   },
   "outputs": [
    {
     "data": {
      "text/plain": [
       "\"[' cups all-purpose flour ADVERTISEMENT', '/ teaspoon baking soda ADVERTISEMENT', '/ teaspoon salt ADVERTISEMENT', '/ cup white sugar ADVERTISEMENT', ' cup packed light brown sugar ADVERTISEMENT', ' cup butter, softened ADVERTISEMENT', ' eggs ADVERTISEMENT', ' tablespoon vanilla extract ADVERTISEMENT', ' cup vanilla baking chips ADVERTISEMENT', ' cup chopped macadamia nuts ADVERTISEMENT', ' cup dried cranberries ADVERTISEMENT', 'ADVERTISEMENT']\""
      ]
     },
     "execution_count": 132,
     "metadata": {},
     "output_type": "execute_result"
    }
   ],
   "source": [
    "data_ingr[2218]"
   ]
  },
  {
   "cell_type": "code",
   "execution_count": 130,
   "metadata": {
    "ExecuteTime": {
     "end_time": "2019-11-14T07:49:27.551685Z",
     "start_time": "2019-11-14T07:49:27.542813Z"
    }
   },
   "outputs": [
    {
     "data": {
      "text/plain": [
       "title                              Wilderness Place Lodge Cookies\n",
       "ingredients     [2 cups butter ADVERTISEMENT, 2 cups white sug...\n",
       "instructions    Preheat the oven to 350 degrees F (175 degrees...\n",
       "Name: 5450, dtype: object"
      ]
     },
     "execution_count": 130,
     "metadata": {},
     "output_type": "execute_result"
    }
   ],
   "source": [
    "data.iloc[5450]"
   ]
  },
  {
   "cell_type": "code",
   "execution_count": 133,
   "metadata": {
    "ExecuteTime": {
     "end_time": "2019-11-14T07:50:41.016620Z",
     "start_time": "2019-11-14T07:50:41.008529Z"
    }
   },
   "outputs": [
    {
     "data": {
      "text/plain": [
       "\"[' cups butter ADVERTISEMENT', ' cups white sugar ADVERTISEMENT', ' cups packed brown sugar ADVERTISEMENT', ' eggs ADVERTISEMENT', ' teaspoons vanilla extract ADVERTISEMENT', ' cups all-purpose flour ADVERTISEMENT', ' teaspoons salt ADVERTISEMENT', ' teaspoons baking soda ADVERTISEMENT', ' cups quick cooking oats ADVERTISEMENT', ' cups chocolate chips ADVERTISEMENT', ' cups chopped and toasted walnuts ADVERTISEMENT', ' cup coconut ADVERTISEMENT', ' cup raisins ADVERTISEMENT', 'ADVERTISEMENT']\""
      ]
     },
     "execution_count": 133,
     "metadata": {},
     "output_type": "execute_result"
    }
   ],
   "source": [
    "data_ingr[5450]"
   ]
  },
  {
   "cell_type": "markdown",
   "metadata": {},
   "source": [
    "Yay! It worked! The two recipes most similar to Best Chocolate Chip Cookies are also cookies with chocolate"
   ]
  },
  {
   "cell_type": "code",
   "execution_count": 135,
   "metadata": {
    "ExecuteTime": {
     "end_time": "2019-11-14T07:51:20.500605Z",
     "start_time": "2019-11-14T07:51:20.497033Z"
    }
   },
   "outputs": [],
   "source": [
    "#quickly look at the most and least similar recipes\n",
    "rev_a = np.fliplr(a)"
   ]
  },
  {
   "cell_type": "code",
   "execution_count": 136,
   "metadata": {
    "ExecuteTime": {
     "end_time": "2019-11-14T07:51:24.051235Z",
     "start_time": "2019-11-14T07:51:23.993910Z"
    }
   },
   "outputs": [
    {
     "data": {
      "text/html": [
       "<div>\n",
       "<style scoped>\n",
       "    .dataframe tbody tr th:only-of-type {\n",
       "        vertical-align: middle;\n",
       "    }\n",
       "\n",
       "    .dataframe tbody tr th {\n",
       "        vertical-align: top;\n",
       "    }\n",
       "\n",
       "    .dataframe thead th {\n",
       "        text-align: right;\n",
       "    }\n",
       "</style>\n",
       "<table border=\"1\" class=\"dataframe\">\n",
       "  <thead>\n",
       "    <tr style=\"text-align: right;\">\n",
       "      <th></th>\n",
       "      <th>title</th>\n",
       "      <th>ingredients</th>\n",
       "      <th>instructions</th>\n",
       "    </tr>\n",
       "  </thead>\n",
       "  <tbody>\n",
       "    <tr>\n",
       "      <td>3</td>\n",
       "      <td>Best Chocolate Chip Cookies</td>\n",
       "      <td>[1 cup butter, softened ADVERTISEMENT, 1 cup w...</td>\n",
       "      <td>Preheat oven to 350 degrees F (175 degrees C)....</td>\n",
       "    </tr>\n",
       "    <tr>\n",
       "      <td>2218</td>\n",
       "      <td>White Chocolate Macadamia Cranberry Dreams</td>\n",
       "      <td>[3 cups all-purpose flour ADVERTISEMENT, 3/4 t...</td>\n",
       "      <td>In a medium bowl set aside flour, baking soda ...</td>\n",
       "    </tr>\n",
       "    <tr>\n",
       "      <td>5450</td>\n",
       "      <td>Wilderness Place Lodge Cookies</td>\n",
       "      <td>[2 cups butter ADVERTISEMENT, 2 cups white sug...</td>\n",
       "      <td>Preheat the oven to 350 degrees F (175 degrees...</td>\n",
       "    </tr>\n",
       "    <tr>\n",
       "      <td>16752</td>\n",
       "      <td>Evil Cookies</td>\n",
       "      <td>[2/3 cup butter flavored shortening ADVERTISEM...</td>\n",
       "      <td>Cream together shortening and sugars, blend in...</td>\n",
       "    </tr>\n",
       "    <tr>\n",
       "      <td>6758</td>\n",
       "      <td>Golden Chocolate Chip Cookies</td>\n",
       "      <td>[1 1/8 cups all-purpose flour ADVERTISEMENT, 1...</td>\n",
       "      <td>Preheat oven to 375 degrees F ( 190 degrees C)...</td>\n",
       "    </tr>\n",
       "    <tr>\n",
       "      <td>...</td>\n",
       "      <td>...</td>\n",
       "      <td>...</td>\n",
       "      <td>...</td>\n",
       "    </tr>\n",
       "    <tr>\n",
       "      <td>116361</td>\n",
       "      <td>Frizzled Black Forest Ham</td>\n",
       "      <td>[16 very thin slices Black Forest ham (8 oz)]</td>\n",
       "      <td>Sauté ham in batches without crowding in a lar...</td>\n",
       "    </tr>\n",
       "    <tr>\n",
       "      <td>63735</td>\n",
       "      <td>Figs Wrapped in Smoked Cured Ham</td>\n",
       "      <td>[8 perfectly ripe black figs, washed and stems...</td>\n",
       "      <td>Carefully cut each fig almost in half lengthwi...</td>\n",
       "    </tr>\n",
       "    <tr>\n",
       "      <td>95659</td>\n",
       "      <td>Martini Thyme</td>\n",
       "      <td>[3 ounces gin, 3/4-ounce Chartreuse, Thyme sprig]</td>\n",
       "      <td>Add gin and Chartreuse to cocktail shaker, sti...</td>\n",
       "    </tr>\n",
       "    <tr>\n",
       "      <td>80276</td>\n",
       "      <td>Paloma Margaritas</td>\n",
       "      <td>[Photograph my Andrew Mccaul]</td>\n",
       "      <td>Fill 4 tall glasses three-quarters of the way ...</td>\n",
       "    </tr>\n",
       "    <tr>\n",
       "      <td>98585</td>\n",
       "      <td>Everything Pretzels</td>\n",
       "      <td>[Photograph by Victor Schrager]</td>\n",
       "      <td>Sprinkle 2 tablespoons grated sharp cheddar ch...</td>\n",
       "    </tr>\n",
       "  </tbody>\n",
       "</table>\n",
       "<p>124473 rows × 3 columns</p>\n",
       "</div>"
      ],
      "text/plain": [
       "                                             title  \\\n",
       "3                      Best Chocolate Chip Cookies   \n",
       "2218    White Chocolate Macadamia Cranberry Dreams   \n",
       "5450                Wilderness Place Lodge Cookies   \n",
       "16752                                 Evil Cookies   \n",
       "6758                 Golden Chocolate Chip Cookies   \n",
       "...                                            ...   \n",
       "116361                  Frizzled Black Forest Ham    \n",
       "63735             Figs Wrapped in Smoked Cured Ham   \n",
       "95659                                Martini Thyme   \n",
       "80276                            Paloma Margaritas   \n",
       "98585                          Everything Pretzels   \n",
       "\n",
       "                                              ingredients  \\\n",
       "3       [1 cup butter, softened ADVERTISEMENT, 1 cup w...   \n",
       "2218    [3 cups all-purpose flour ADVERTISEMENT, 3/4 t...   \n",
       "5450    [2 cups butter ADVERTISEMENT, 2 cups white sug...   \n",
       "16752   [2/3 cup butter flavored shortening ADVERTISEM...   \n",
       "6758    [1 1/8 cups all-purpose flour ADVERTISEMENT, 1...   \n",
       "...                                                   ...   \n",
       "116361      [16 very thin slices Black Forest ham (8 oz)]   \n",
       "63735   [8 perfectly ripe black figs, washed and stems...   \n",
       "95659   [3 ounces gin, 3/4-ounce Chartreuse, Thyme sprig]   \n",
       "80276                       [Photograph my Andrew Mccaul]   \n",
       "98585                     [Photograph by Victor Schrager]   \n",
       "\n",
       "                                             instructions  \n",
       "3       Preheat oven to 350 degrees F (175 degrees C)....  \n",
       "2218    In a medium bowl set aside flour, baking soda ...  \n",
       "5450    Preheat the oven to 350 degrees F (175 degrees...  \n",
       "16752   Cream together shortening and sugars, blend in...  \n",
       "6758    Preheat oven to 375 degrees F ( 190 degrees C)...  \n",
       "...                                                   ...  \n",
       "116361  Sauté ham in batches without crowding in a lar...  \n",
       "63735   Carefully cut each fig almost in half lengthwi...  \n",
       "95659   Add gin and Chartreuse to cocktail shaker, sti...  \n",
       "80276   Fill 4 tall glasses three-quarters of the way ...  \n",
       "98585   Sprinkle 2 tablespoons grated sharp cheddar ch...  \n",
       "\n",
       "[124473 rows x 3 columns]"
      ]
     },
     "execution_count": 136,
     "metadata": {},
     "output_type": "execute_result"
    }
   ],
   "source": [
    "data.iloc[rev_a[0]]"
   ]
  },
  {
   "cell_type": "markdown",
   "metadata": {},
   "source": [
    "I'm a bit surprised by the least-similar recipe (as I like both cookies and pretzels, and they are not that different to make). This is likely due to it having missing ingredients."
   ]
  },
  {
   "cell_type": "code",
   "execution_count": null,
   "metadata": {},
   "outputs": [],
   "source": []
  },
  {
   "cell_type": "markdown",
   "metadata": {},
   "source": [
    "#### Pot roast"
   ]
  },
  {
   "cell_type": "code",
   "execution_count": 173,
   "metadata": {
    "ExecuteTime": {
     "end_time": "2019-11-14T08:37:10.789265Z",
     "start_time": "2019-11-14T08:37:10.780305Z"
    }
   },
   "outputs": [
    {
     "data": {
      "text/plain": [
       "title                               Awesome Slow Cooker Pot Roast\n",
       "ingredients     [2 (10.75 ounce) cans condensed cream of mushr...\n",
       "instructions    In a slow cooker, mix cream of mushroom soup, ...\n",
       "Name: 1, dtype: object"
      ]
     },
     "execution_count": 173,
     "metadata": {},
     "output_type": "execute_result"
    }
   ],
   "source": [
    "data.iloc[1]"
   ]
  },
  {
   "cell_type": "code",
   "execution_count": 174,
   "metadata": {
    "ExecuteTime": {
     "end_time": "2019-11-14T08:37:30.170667Z",
     "start_time": "2019-11-14T08:37:30.129268Z"
    }
   },
   "outputs": [
    {
     "data": {
      "text/plain": [
       "array([[0.822, 1.   , 0.158, ..., 0.167, 0.07 , 0.3  ]])"
      ]
     },
     "execution_count": 174,
     "metadata": {},
     "output_type": "execute_result"
    }
   ],
   "source": [
    "lsa_s_rst_ct=cosine_similarity(ct_lsa_10[1].reshape(1, -1), ct_lsa_10).round(3) \n",
    "lsa_s_rst_ct"
   ]
  },
  {
   "cell_type": "code",
   "execution_count": 175,
   "metadata": {
    "ExecuteTime": {
     "end_time": "2019-11-14T08:37:31.788981Z",
     "start_time": "2019-11-14T08:37:31.771752Z"
    }
   },
   "outputs": [
    {
     "data": {
      "text/plain": [
       "array([[43677, 72860, 99787, ..., 35121,   451,     1]])"
      ]
     },
     "execution_count": 175,
     "metadata": {},
     "output_type": "execute_result"
    }
   ],
   "source": [
    "rst_ct = lsa_s_rst_ct.argsort()\n",
    "rst_ct"
   ]
  },
  {
   "cell_type": "code",
   "execution_count": 176,
   "metadata": {
    "ExecuteTime": {
     "end_time": "2019-11-14T08:37:44.896286Z",
     "start_time": "2019-11-14T08:37:44.888517Z"
    }
   },
   "outputs": [
    {
     "data": {
      "text/plain": [
       "array([[    1,   451, 35121, ..., 99787, 72860, 43677]])"
      ]
     },
     "execution_count": 176,
     "metadata": {},
     "output_type": "execute_result"
    }
   ],
   "source": [
    "sorted_roast_ct= np.fliplr(rst_ct) #expect the first result to be the recipe itself [3], with cosine similarity=1\n",
    "sorted_roast_ct"
   ]
  },
  {
   "cell_type": "code",
   "execution_count": 177,
   "metadata": {
    "ExecuteTime": {
     "end_time": "2019-11-14T08:38:02.496823Z",
     "start_time": "2019-11-14T08:38:02.423304Z"
    }
   },
   "outputs": [
    {
     "data": {
      "text/html": [
       "<div>\n",
       "<style scoped>\n",
       "    .dataframe tbody tr th:only-of-type {\n",
       "        vertical-align: middle;\n",
       "    }\n",
       "\n",
       "    .dataframe tbody tr th {\n",
       "        vertical-align: top;\n",
       "    }\n",
       "\n",
       "    .dataframe thead th {\n",
       "        text-align: right;\n",
       "    }\n",
       "</style>\n",
       "<table border=\"1\" class=\"dataframe\">\n",
       "  <thead>\n",
       "    <tr style=\"text-align: right;\">\n",
       "      <th></th>\n",
       "      <th>title</th>\n",
       "      <th>ingredients</th>\n",
       "      <th>instructions</th>\n",
       "    </tr>\n",
       "  </thead>\n",
       "  <tbody>\n",
       "    <tr>\n",
       "      <td>1</td>\n",
       "      <td>Awesome Slow Cooker Pot Roast</td>\n",
       "      <td>[2 (10.75 ounce) cans condensed cream of mushr...</td>\n",
       "      <td>In a slow cooker, mix cream of mushroom soup, ...</td>\n",
       "    </tr>\n",
       "    <tr>\n",
       "      <td>451</td>\n",
       "      <td>Beef Tips and Noodles</td>\n",
       "      <td>[1 pound sirloin tips, cubed ADVERTISEMENT, 1 ...</td>\n",
       "      <td>Preheat oven to 400 degrees F (200 degrees C)....</td>\n",
       "    </tr>\n",
       "    <tr>\n",
       "      <td>35121</td>\n",
       "      <td>Polish Chop Suey</td>\n",
       "      <td>[1 (16 ounce) package kluski noodles ADVERTISE...</td>\n",
       "      <td>Preheat oven to 350 degrees F (175 degrees C)....</td>\n",
       "    </tr>\n",
       "    <tr>\n",
       "      <td>1990</td>\n",
       "      <td>Pot Roast in Foil</td>\n",
       "      <td>[3 pounds bottom round ADVERTISEMENT, 1 (10.75...</td>\n",
       "      <td>Preheat oven to 300 degrees F (150 degrees C)....</td>\n",
       "    </tr>\n",
       "    <tr>\n",
       "      <td>21095</td>\n",
       "      <td>Simple Chicken Stroganoff</td>\n",
       "      <td>[1 (10.75 ounce) can condensed cream of mushro...</td>\n",
       "      <td>Preheat oven to 350 degrees F (175 degrees C)....</td>\n",
       "    </tr>\n",
       "    <tr>\n",
       "      <td>...</td>\n",
       "      <td>...</td>\n",
       "      <td>...</td>\n",
       "      <td>...</td>\n",
       "    </tr>\n",
       "    <tr>\n",
       "      <td>117733</td>\n",
       "      <td>Parmigiano-Reggiano with Balsamic Vinegar</td>\n",
       "      <td>[a 1/2-pound piece Parmigiano-Reggiano, 1 tabl...</td>\n",
       "      <td>With a small knife break parmigiano-reggiano i...</td>\n",
       "    </tr>\n",
       "    <tr>\n",
       "      <td>86134</td>\n",
       "      <td>Boozy Cherry Cola Slushies</td>\n",
       "      <td>[1 1/2 cups cherry cola, Maraschino cherries, ...</td>\n",
       "      <td>Place the cola, juice, vodka and 6 cups ice in...</td>\n",
       "    </tr>\n",
       "    <tr>\n",
       "      <td>99787</td>\n",
       "      <td>Black Velvet</td>\n",
       "      <td>[4 ounces (1/2 cup) chilled Champagne or prose...</td>\n",
       "      <td>1 Pour the Champagne into a flute or other tal...</td>\n",
       "    </tr>\n",
       "    <tr>\n",
       "      <td>72860</td>\n",
       "      <td>Tangerine-Gin Fizz</td>\n",
       "      <td>[1 shot best quality gin, 3/4 cup freshly sque...</td>\n",
       "      <td>Place Champagne flute in the freezer 10 minute...</td>\n",
       "    </tr>\n",
       "    <tr>\n",
       "      <td>43677</td>\n",
       "      <td>Lillet Brunch Martini</td>\n",
       "      <td>[1-ounce Lillet, 2 ounces freshly squeezed ora...</td>\n",
       "      <td>Add ingredients to ice filled mixing glass, sh...</td>\n",
       "    </tr>\n",
       "  </tbody>\n",
       "</table>\n",
       "<p>124473 rows × 3 columns</p>\n",
       "</div>"
      ],
      "text/plain": [
       "                                             title  \\\n",
       "1                    Awesome Slow Cooker Pot Roast   \n",
       "451                          Beef Tips and Noodles   \n",
       "35121                             Polish Chop Suey   \n",
       "1990                             Pot Roast in Foil   \n",
       "21095                    Simple Chicken Stroganoff   \n",
       "...                                            ...   \n",
       "117733  Parmigiano-Reggiano with Balsamic Vinegar    \n",
       "86134                   Boozy Cherry Cola Slushies   \n",
       "99787                                Black Velvet    \n",
       "72860                           Tangerine-Gin Fizz   \n",
       "43677                        Lillet Brunch Martini   \n",
       "\n",
       "                                              ingredients  \\\n",
       "1       [2 (10.75 ounce) cans condensed cream of mushr...   \n",
       "451     [1 pound sirloin tips, cubed ADVERTISEMENT, 1 ...   \n",
       "35121   [1 (16 ounce) package kluski noodles ADVERTISE...   \n",
       "1990    [3 pounds bottom round ADVERTISEMENT, 1 (10.75...   \n",
       "21095   [1 (10.75 ounce) can condensed cream of mushro...   \n",
       "...                                                   ...   \n",
       "117733  [a 1/2-pound piece Parmigiano-Reggiano, 1 tabl...   \n",
       "86134   [1 1/2 cups cherry cola, Maraschino cherries, ...   \n",
       "99787   [4 ounces (1/2 cup) chilled Champagne or prose...   \n",
       "72860   [1 shot best quality gin, 3/4 cup freshly sque...   \n",
       "43677   [1-ounce Lillet, 2 ounces freshly squeezed ora...   \n",
       "\n",
       "                                             instructions  \n",
       "1       In a slow cooker, mix cream of mushroom soup, ...  \n",
       "451     Preheat oven to 400 degrees F (200 degrees C)....  \n",
       "35121   Preheat oven to 350 degrees F (175 degrees C)....  \n",
       "1990    Preheat oven to 300 degrees F (150 degrees C)....  \n",
       "21095   Preheat oven to 350 degrees F (175 degrees C)....  \n",
       "...                                                   ...  \n",
       "117733  With a small knife break parmigiano-reggiano i...  \n",
       "86134   Place the cola, juice, vodka and 6 cups ice in...  \n",
       "99787   1 Pour the Champagne into a flute or other tal...  \n",
       "72860   Place Champagne flute in the freezer 10 minute...  \n",
       "43677   Add ingredients to ice filled mixing glass, sh...  \n",
       "\n",
       "[124473 rows x 3 columns]"
      ]
     },
     "execution_count": 177,
     "metadata": {},
     "output_type": "execute_result"
    }
   ],
   "source": [
    "data.iloc[sorted_roast_ct[0]]"
   ]
  },
  {
   "cell_type": "markdown",
   "metadata": {},
   "source": [
    "So it seems for this slowcooker pot roast, the count-vectorized LSA model is recommending other European meat dishes with condensed cream of mushroom soup and some kind of noodles.\n",
    "\n",
    "The 4 least similar recipes are all consistently drinks.\n",
    "\n",
    "So does it recommend drink recipes for drinks?"
   ]
  },
  {
   "cell_type": "markdown",
   "metadata": {},
   "source": [
    "#### Fizzy drink"
   ]
  },
  {
   "cell_type": "code",
   "execution_count": 178,
   "metadata": {
    "ExecuteTime": {
     "end_time": "2019-11-14T08:40:56.748987Z",
     "start_time": "2019-11-14T08:40:56.741060Z"
    }
   },
   "outputs": [
    {
     "data": {
      "text/plain": [
       "title                                          Tangerine-Gin Fizz\n",
       "ingredients     [1 shot best quality gin, 3/4 cup freshly sque...\n",
       "instructions    Place Champagne flute in the freezer 10 minute...\n",
       "Name: 72860, dtype: object"
      ]
     },
     "execution_count": 178,
     "metadata": {},
     "output_type": "execute_result"
    }
   ],
   "source": [
    "data.iloc[72860]"
   ]
  },
  {
   "cell_type": "code",
   "execution_count": 179,
   "metadata": {
    "ExecuteTime": {
     "end_time": "2019-11-14T08:41:25.820251Z",
     "start_time": "2019-11-14T08:41:25.789098Z"
    }
   },
   "outputs": [
    {
     "data": {
      "text/plain": [
       "array([[-0.12 , -0.366,  0.324, ...,  0.559,  0.681,  0.284]])"
      ]
     },
     "execution_count": 179,
     "metadata": {},
     "output_type": "execute_result"
    }
   ],
   "source": [
    "lsa_s_fizz_ct=cosine_similarity(ct_lsa_10[72860].reshape(1, -1), ct_lsa_10).round(3) \n",
    "lsa_s_fizz_ct"
   ]
  },
  {
   "cell_type": "code",
   "execution_count": 180,
   "metadata": {
    "ExecuteTime": {
     "end_time": "2019-11-14T08:41:44.006214Z",
     "start_time": "2019-11-14T08:41:43.987709Z"
    }
   },
   "outputs": [
    {
     "data": {
      "text/plain": [
       "array([[ 70434, 114214, 105377, ...,  77376,  87961,  72860]])"
      ]
     },
     "execution_count": 180,
     "metadata": {},
     "output_type": "execute_result"
    }
   ],
   "source": [
    "fizz_ct = lsa_s_fizz_ct.argsort()\n",
    "fizz_ct"
   ]
  },
  {
   "cell_type": "code",
   "execution_count": 181,
   "metadata": {
    "ExecuteTime": {
     "end_time": "2019-11-14T08:42:11.459690Z",
     "start_time": "2019-11-14T08:42:11.451506Z"
    }
   },
   "outputs": [
    {
     "data": {
      "text/plain": [
       "array([[ 72860,  87961,  77376, ..., 105377, 114214,  70434]])"
      ]
     },
     "execution_count": 181,
     "metadata": {},
     "output_type": "execute_result"
    }
   ],
   "source": [
    "sorted_fizz_ct= np.fliplr(fizz_ct) #expect the first result to be the recipe itself [3], with cosine similarity=1\n",
    "sorted_fizz_ct\n"
   ]
  },
  {
   "cell_type": "code",
   "execution_count": 187,
   "metadata": {
    "ExecuteTime": {
     "end_time": "2019-11-14T08:47:26.320678Z",
     "start_time": "2019-11-14T08:47:26.309927Z"
    }
   },
   "outputs": [
    {
     "data": {
      "text/plain": [
       "\"[' shot best quality gin', '/ cup freshly squeezed tangerine juice', 'Champagne, sparkling wine or Cava, cold, to top']\""
      ]
     },
     "execution_count": 187,
     "metadata": {},
     "output_type": "execute_result"
    }
   ],
   "source": [
    "data_ingr[72860]"
   ]
  },
  {
   "cell_type": "code",
   "execution_count": 186,
   "metadata": {
    "ExecuteTime": {
     "end_time": "2019-11-14T08:46:56.603329Z",
     "start_time": "2019-11-14T08:46:56.592020Z"
    }
   },
   "outputs": [
    {
     "data": {
      "text/plain": [
       "'[\\' cups freshly squeezed pink grapefruit juice ( to  grapefruit)\\', \\'/ cup elderflower liqueur, such as St-Germain\\', \\'/ cup Campari\\', \"Simple syrup (see Cook\\'s Note)\", \\'One -milliliter bottle sparkling wine, chilled\\']'"
      ]
     },
     "execution_count": 186,
     "metadata": {},
     "output_type": "execute_result"
    }
   ],
   "source": [
    "data_ingr[87961]"
   ]
  },
  {
   "cell_type": "code",
   "execution_count": 182,
   "metadata": {
    "ExecuteTime": {
     "end_time": "2019-11-14T08:42:22.326032Z",
     "start_time": "2019-11-14T08:42:22.012752Z"
    }
   },
   "outputs": [
    {
     "data": {
      "text/html": [
       "<div>\n",
       "<style scoped>\n",
       "    .dataframe tbody tr th:only-of-type {\n",
       "        vertical-align: middle;\n",
       "    }\n",
       "\n",
       "    .dataframe tbody tr th {\n",
       "        vertical-align: top;\n",
       "    }\n",
       "\n",
       "    .dataframe thead th {\n",
       "        text-align: right;\n",
       "    }\n",
       "</style>\n",
       "<table border=\"1\" class=\"dataframe\">\n",
       "  <thead>\n",
       "    <tr style=\"text-align: right;\">\n",
       "      <th></th>\n",
       "      <th>title</th>\n",
       "      <th>ingredients</th>\n",
       "      <th>instructions</th>\n",
       "    </tr>\n",
       "  </thead>\n",
       "  <tbody>\n",
       "    <tr>\n",
       "      <td>72860</td>\n",
       "      <td>Tangerine-Gin Fizz</td>\n",
       "      <td>[1 shot best quality gin, 3/4 cup freshly sque...</td>\n",
       "      <td>Place Champagne flute in the freezer 10 minute...</td>\n",
       "    </tr>\n",
       "    <tr>\n",
       "      <td>87961</td>\n",
       "      <td>Grapefruit Sparkle</td>\n",
       "      <td>[2 cups freshly squeezed pink grapefruit juice...</td>\n",
       "      <td>Combine the grapefruit juice, elderflower liqu...</td>\n",
       "    </tr>\n",
       "    <tr>\n",
       "      <td>77376</td>\n",
       "      <td>Real Margaritas</td>\n",
       "      <td>[1 lime, halved, Kosher salt, 1/2 cup freshly ...</td>\n",
       "      <td>If you like margaritas served in a glass with ...</td>\n",
       "    </tr>\n",
       "    <tr>\n",
       "      <td>42118</td>\n",
       "      <td>Honey Tangerine Martini</td>\n",
       "      <td>[2 ounces Absolut Mandarin, 3/4 ounce Campari,...</td>\n",
       "      <td>Shake all ingredients in an ice-filled mixing ...</td>\n",
       "    </tr>\n",
       "    <tr>\n",
       "      <td>95501</td>\n",
       "      <td>Honey Tangerine Martini</td>\n",
       "      <td>[2 ounces Absolut Mandrin, 3/4 ounce Campari, ...</td>\n",
       "      <td>Shake all ingredients in an ice-filled mixing ...</td>\n",
       "    </tr>\n",
       "    <tr>\n",
       "      <td>...</td>\n",
       "      <td>...</td>\n",
       "      <td>...</td>\n",
       "      <td>...</td>\n",
       "    </tr>\n",
       "    <tr>\n",
       "      <td>106291</td>\n",
       "      <td>Red Chili Powder</td>\n",
       "      <td>[6 dried ancho or pasilla chilies*, 6 dried gu...</td>\n",
       "      <td>Preheat oven to 350°F. Using small sharp knife...</td>\n",
       "    </tr>\n",
       "    <tr>\n",
       "      <td>48994</td>\n",
       "      <td>Ribs</td>\n",
       "      <td>[Package precooked ribs]</td>\n",
       "      <td>Place in 400 degree oven on a cookie sheet. Fo...</td>\n",
       "    </tr>\n",
       "    <tr>\n",
       "      <td>105377</td>\n",
       "      <td>Wakame</td>\n",
       "      <td>[1 ounce wakame (dried seaweed)]</td>\n",
       "      <td>Place 1 ounce wakame (dried seaweed) in a medi...</td>\n",
       "    </tr>\n",
       "    <tr>\n",
       "      <td>114214</td>\n",
       "      <td>To Cook Dried Udon Noodles</td>\n",
       "      <td>[10 ounces dried or semidried (slightly flexib...</td>\n",
       "      <td>In large stockpot, bring 4 gallons water to ro...</td>\n",
       "    </tr>\n",
       "    <tr>\n",
       "      <td>70434</td>\n",
       "      <td>European Chocolate Bark</td>\n",
       "      <td>[2 pounds (32 ounces) bittersweet chocolate, 1...</td>\n",
       "      <td>Line an 8 by 12-inch rectangular pan with parc...</td>\n",
       "    </tr>\n",
       "  </tbody>\n",
       "</table>\n",
       "<p>124473 rows × 3 columns</p>\n",
       "</div>"
      ],
      "text/plain": [
       "                              title  \\\n",
       "72860            Tangerine-Gin Fizz   \n",
       "87961            Grapefruit Sparkle   \n",
       "77376               Real Margaritas   \n",
       "42118       Honey Tangerine Martini   \n",
       "95501       Honey Tangerine Martini   \n",
       "...                             ...   \n",
       "106291            Red Chili Powder    \n",
       "48994                          Ribs   \n",
       "105377                      Wakame    \n",
       "114214  To Cook Dried Udon Noodles    \n",
       "70434       European Chocolate Bark   \n",
       "\n",
       "                                              ingredients  \\\n",
       "72860   [1 shot best quality gin, 3/4 cup freshly sque...   \n",
       "87961   [2 cups freshly squeezed pink grapefruit juice...   \n",
       "77376   [1 lime, halved, Kosher salt, 1/2 cup freshly ...   \n",
       "42118   [2 ounces Absolut Mandarin, 3/4 ounce Campari,...   \n",
       "95501   [2 ounces Absolut Mandrin, 3/4 ounce Campari, ...   \n",
       "...                                                   ...   \n",
       "106291  [6 dried ancho or pasilla chilies*, 6 dried gu...   \n",
       "48994                            [Package precooked ribs]   \n",
       "105377                   [1 ounce wakame (dried seaweed)]   \n",
       "114214  [10 ounces dried or semidried (slightly flexib...   \n",
       "70434   [2 pounds (32 ounces) bittersweet chocolate, 1...   \n",
       "\n",
       "                                             instructions  \n",
       "72860   Place Champagne flute in the freezer 10 minute...  \n",
       "87961   Combine the grapefruit juice, elderflower liqu...  \n",
       "77376   If you like margaritas served in a glass with ...  \n",
       "42118   Shake all ingredients in an ice-filled mixing ...  \n",
       "95501   Shake all ingredients in an ice-filled mixing ...  \n",
       "...                                                   ...  \n",
       "106291  Preheat oven to 350°F. Using small sharp knife...  \n",
       "48994   Place in 400 degree oven on a cookie sheet. Fo...  \n",
       "105377  Place 1 ounce wakame (dried seaweed) in a medi...  \n",
       "114214  In large stockpot, bring 4 gallons water to ro...  \n",
       "70434   Line an 8 by 12-inch rectangular pan with parc...  \n",
       "\n",
       "[124473 rows x 3 columns]"
      ]
     },
     "execution_count": 182,
     "metadata": {},
     "output_type": "execute_result"
    }
   ],
   "source": [
    "data.iloc[sorted_fizz_ct[0]]"
   ]
  },
  {
   "cell_type": "markdown",
   "metadata": {},
   "source": [
    "Yes! The top 4 most similar recipes to Tangerine-Gin Fizz are all also cocktails, and even all involve some kind of citrus fruit (tangerine, grapefruit, lime). The top recommendation, Grapefruit Sparkle, is also a fizzy drink (it probably caught the word \"sparkling\" in a topic).\n",
    "\n",
    "The least similar ones are less consistent at first glance, from ribs to wakame (Japanese seaweed salad) and chocolate. But the recommendation is topic-based, and the topics are not exclusively ingredient items (also involve some description of the items which hints at the preparation method)."
   ]
  },
  {
   "cell_type": "markdown",
   "metadata": {},
   "source": [
    "### TF-IDF LSA\n",
    "\n",
    "#### Choco cookies\n",
    "check recommendations for the same cookie recipe"
   ]
  },
  {
   "cell_type": "code",
   "execution_count": 83,
   "metadata": {
    "ExecuteTime": {
     "end_time": "2019-11-14T07:24:35.326740Z",
     "start_time": "2019-11-14T07:24:35.193867Z"
    }
   },
   "outputs": [
    {
     "data": {
      "text/plain": [
       "title                                 Best Chocolate Chip Cookies\n",
       "ingredients     [1 cup butter, softened ADVERTISEMENT, 1 cup w...\n",
       "instructions    Preheat oven to 350 degrees F (175 degrees C)....\n",
       "Name: 3, dtype: object"
      ]
     },
     "execution_count": 83,
     "metadata": {},
     "output_type": "execute_result"
    }
   ],
   "source": [
    "data.iloc[3] "
   ]
  },
  {
   "cell_type": "code",
   "execution_count": null,
   "metadata": {},
   "outputs": [],
   "source": [
    "#lsa_10 = TruncatedSVD(10)  \n",
    "#tf_lsa_10 = lsa_10.fit_transform(ingr_tfidf)"
   ]
  },
  {
   "cell_type": "code",
   "execution_count": 137,
   "metadata": {
    "ExecuteTime": {
     "end_time": "2019-11-14T07:53:02.296871Z",
     "start_time": "2019-11-14T07:53:02.251534Z"
    }
   },
   "outputs": [
    {
     "data": {
      "text/plain": [
       "array([[0.024, 0.124, 0.378, ..., 0.095, 0.407, 0.102]])"
      ]
     },
     "execution_count": 137,
     "metadata": {},
     "output_type": "execute_result"
    }
   ],
   "source": [
    "lsa_s_choc_tf=cosine_similarity(tf_lsa_10[3].reshape(1, -1), tf_lsa_10).round(3) \n",
    "lsa_s_choc_tf"
   ]
  },
  {
   "cell_type": "code",
   "execution_count": 141,
   "metadata": {
    "ExecuteTime": {
     "end_time": "2019-11-14T07:53:58.325964Z",
     "start_time": "2019-11-14T07:53:58.308245Z"
    }
   },
   "outputs": [
    {
     "data": {
      "text/plain": [
       "array([[80276, 98585, 78367, ...,  6758, 35999,     3]])"
      ]
     },
     "execution_count": 141,
     "metadata": {},
     "output_type": "execute_result"
    }
   ],
   "source": [
    "tf = lsa_s_choc_tf.argsort()\n",
    "tf"
   ]
  },
  {
   "cell_type": "code",
   "execution_count": 142,
   "metadata": {
    "ExecuteTime": {
     "end_time": "2019-11-14T07:54:03.626062Z",
     "start_time": "2019-11-14T07:54:03.620270Z"
    }
   },
   "outputs": [
    {
     "data": {
      "text/plain": [
       "array([[    3, 35999,  6758, ..., 78367, 98585, 80276]])"
      ]
     },
     "execution_count": 142,
     "metadata": {},
     "output_type": "execute_result"
    }
   ],
   "source": [
    "sorted_choc_rec_tf= np.fliplr(tf) #expect the first result to be the recipe itself [3], with cosine similarity=1\n",
    "sorted_choc_rec_tf"
   ]
  },
  {
   "cell_type": "code",
   "execution_count": 143,
   "metadata": {
    "ExecuteTime": {
     "end_time": "2019-11-14T07:54:07.987478Z",
     "start_time": "2019-11-14T07:54:07.933761Z"
    }
   },
   "outputs": [
    {
     "data": {
      "text/html": [
       "<div>\n",
       "<style scoped>\n",
       "    .dataframe tbody tr th:only-of-type {\n",
       "        vertical-align: middle;\n",
       "    }\n",
       "\n",
       "    .dataframe tbody tr th {\n",
       "        vertical-align: top;\n",
       "    }\n",
       "\n",
       "    .dataframe thead th {\n",
       "        text-align: right;\n",
       "    }\n",
       "</style>\n",
       "<table border=\"1\" class=\"dataframe\">\n",
       "  <thead>\n",
       "    <tr style=\"text-align: right;\">\n",
       "      <th></th>\n",
       "      <th>title</th>\n",
       "      <th>ingredients</th>\n",
       "      <th>instructions</th>\n",
       "    </tr>\n",
       "  </thead>\n",
       "  <tbody>\n",
       "    <tr>\n",
       "      <td>3</td>\n",
       "      <td>Best Chocolate Chip Cookies</td>\n",
       "      <td>[1 cup butter, softened ADVERTISEMENT, 1 cup w...</td>\n",
       "      <td>Preheat oven to 350 degrees F (175 degrees C)....</td>\n",
       "    </tr>\n",
       "    <tr>\n",
       "      <td>35999</td>\n",
       "      <td>Edible Chocolate Chip Cookie Dough</td>\n",
       "      <td>[1 cup butter, softened ADVERTISEMENT, 1/4 cup...</td>\n",
       "      <td>Mix butter, milk, and vanilla extract together...</td>\n",
       "    </tr>\n",
       "    <tr>\n",
       "      <td>6758</td>\n",
       "      <td>Golden Chocolate Chip Cookies</td>\n",
       "      <td>[1 1/8 cups all-purpose flour ADVERTISEMENT, 1...</td>\n",
       "      <td>Preheat oven to 375 degrees F ( 190 degrees C)...</td>\n",
       "    </tr>\n",
       "    <tr>\n",
       "      <td>16452</td>\n",
       "      <td>Caramel Pecan Cookies</td>\n",
       "      <td>[1 cup butter or margarine, softened ADVERTISE...</td>\n",
       "      <td>In a large bowl, cream together the butter, 1 ...</td>\n",
       "    </tr>\n",
       "    <tr>\n",
       "      <td>1309</td>\n",
       "      <td>Giant Chocolate Chip Cookie</td>\n",
       "      <td>[1 cup butter, softened ADVERTISEMENT, 3/4 cup...</td>\n",
       "      <td>In large bowl, beat butter, granulated sugar, ...</td>\n",
       "    </tr>\n",
       "    <tr>\n",
       "      <td>...</td>\n",
       "      <td>...</td>\n",
       "      <td>...</td>\n",
       "      <td>...</td>\n",
       "    </tr>\n",
       "    <tr>\n",
       "      <td>4286</td>\n",
       "      <td>Quick Lemon Dijon Chicken</td>\n",
       "      <td>[2 skinless, boneless chicken breast halves - ...</td>\n",
       "      <td>Place chicken in a skillet over medium heat. P...</td>\n",
       "    </tr>\n",
       "    <tr>\n",
       "      <td>15361</td>\n",
       "      <td>Steamed Mashed Cauliflower</td>\n",
       "      <td>[1 head cauliflower, cut into florets ADVERTIS...</td>\n",
       "      <td>Place cauliflower florets in a large microwave...</td>\n",
       "    </tr>\n",
       "    <tr>\n",
       "      <td>78367</td>\n",
       "      <td>Chicken Breasts with Pepper Jack and Bacon</td>\n",
       "      <td>[4 boneless, skinless chicken breasts, 4 1/4-i...</td>\n",
       "      <td>Using a sharp knife, make a wide horizontal sl...</td>\n",
       "    </tr>\n",
       "    <tr>\n",
       "      <td>98585</td>\n",
       "      <td>Everything Pretzels</td>\n",
       "      <td>[Photograph by Victor Schrager]</td>\n",
       "      <td>Sprinkle 2 tablespoons grated sharp cheddar ch...</td>\n",
       "    </tr>\n",
       "    <tr>\n",
       "      <td>80276</td>\n",
       "      <td>Paloma Margaritas</td>\n",
       "      <td>[Photograph my Andrew Mccaul]</td>\n",
       "      <td>Fill 4 tall glasses three-quarters of the way ...</td>\n",
       "    </tr>\n",
       "  </tbody>\n",
       "</table>\n",
       "<p>124473 rows × 3 columns</p>\n",
       "</div>"
      ],
      "text/plain": [
       "                                            title  \\\n",
       "3                     Best Chocolate Chip Cookies   \n",
       "35999          Edible Chocolate Chip Cookie Dough   \n",
       "6758                Golden Chocolate Chip Cookies   \n",
       "16452                       Caramel Pecan Cookies   \n",
       "1309                  Giant Chocolate Chip Cookie   \n",
       "...                                           ...   \n",
       "4286                    Quick Lemon Dijon Chicken   \n",
       "15361                  Steamed Mashed Cauliflower   \n",
       "78367  Chicken Breasts with Pepper Jack and Bacon   \n",
       "98585                         Everything Pretzels   \n",
       "80276                           Paloma Margaritas   \n",
       "\n",
       "                                             ingredients  \\\n",
       "3      [1 cup butter, softened ADVERTISEMENT, 1 cup w...   \n",
       "35999  [1 cup butter, softened ADVERTISEMENT, 1/4 cup...   \n",
       "6758   [1 1/8 cups all-purpose flour ADVERTISEMENT, 1...   \n",
       "16452  [1 cup butter or margarine, softened ADVERTISE...   \n",
       "1309   [1 cup butter, softened ADVERTISEMENT, 3/4 cup...   \n",
       "...                                                  ...   \n",
       "4286   [2 skinless, boneless chicken breast halves - ...   \n",
       "15361  [1 head cauliflower, cut into florets ADVERTIS...   \n",
       "78367  [4 boneless, skinless chicken breasts, 4 1/4-i...   \n",
       "98585                    [Photograph by Victor Schrager]   \n",
       "80276                      [Photograph my Andrew Mccaul]   \n",
       "\n",
       "                                            instructions  \n",
       "3      Preheat oven to 350 degrees F (175 degrees C)....  \n",
       "35999  Mix butter, milk, and vanilla extract together...  \n",
       "6758   Preheat oven to 375 degrees F ( 190 degrees C)...  \n",
       "16452  In a large bowl, cream together the butter, 1 ...  \n",
       "1309   In large bowl, beat butter, granulated sugar, ...  \n",
       "...                                                  ...  \n",
       "4286   Place chicken in a skillet over medium heat. P...  \n",
       "15361  Place cauliflower florets in a large microwave...  \n",
       "78367  Using a sharp knife, make a wide horizontal sl...  \n",
       "98585  Sprinkle 2 tablespoons grated sharp cheddar ch...  \n",
       "80276  Fill 4 tall glasses three-quarters of the way ...  \n",
       "\n",
       "[124473 rows x 3 columns]"
      ]
     },
     "execution_count": 143,
     "metadata": {},
     "output_type": "execute_result"
    }
   ],
   "source": [
    "data.iloc[sorted_choc_rec_tf[0]]"
   ]
  },
  {
   "cell_type": "markdown",
   "metadata": {},
   "source": [
    "The TF-IDF vectorized data with LSA seems to work better for this type of recipe. The top 4 most similar (recommended) recipes are all cookies. And other than the last two with missing ingredients, the least similar recipes are indeed quite different from chocolate chip cookies (chicken dishes and mashed cauliflower)."
   ]
  },
  {
   "cell_type": "markdown",
   "metadata": {},
   "source": [
    "#### Pot roast "
   ]
  },
  {
   "cell_type": "code",
   "execution_count": 144,
   "metadata": {
    "ExecuteTime": {
     "end_time": "2019-11-14T08:13:38.560254Z",
     "start_time": "2019-11-14T08:13:38.529509Z"
    }
   },
   "outputs": [
    {
     "data": {
      "text/plain": [
       "title                               Awesome Slow Cooker Pot Roast\n",
       "ingredients     [2 (10.75 ounce) cans condensed cream of mushr...\n",
       "instructions    In a slow cooker, mix cream of mushroom soup, ...\n",
       "Name: 1, dtype: object"
      ]
     },
     "execution_count": 144,
     "metadata": {},
     "output_type": "execute_result"
    }
   ],
   "source": [
    "data.iloc[1]"
   ]
  },
  {
   "cell_type": "code",
   "execution_count": 145,
   "metadata": {
    "ExecuteTime": {
     "end_time": "2019-11-14T08:14:11.886685Z",
     "start_time": "2019-11-14T08:14:11.836055Z"
    }
   },
   "outputs": [
    {
     "data": {
      "text/plain": [
       "array([[ 0.748,  1.   ,  0.14 , ...,  0.146, -0.014,  0.258]])"
      ]
     },
     "execution_count": 145,
     "metadata": {},
     "output_type": "execute_result"
    }
   ],
   "source": [
    "lsa_s_rst_tf=cosine_similarity(tf_lsa_10[1].reshape(1, -1), tf_lsa_10).round(3) \n",
    "lsa_s_rst_tf"
   ]
  },
  {
   "cell_type": "code",
   "execution_count": 146,
   "metadata": {
    "ExecuteTime": {
     "end_time": "2019-11-14T08:14:41.528918Z",
     "start_time": "2019-11-14T08:14:41.508837Z"
    }
   },
   "outputs": [
    {
     "data": {
      "text/plain": [
       "array([[118363,  61759,  89789, ...,    766,    451,      1]])"
      ]
     },
     "execution_count": 146,
     "metadata": {},
     "output_type": "execute_result"
    }
   ],
   "source": [
    "rst_tf = lsa_s_rst_tf.argsort()\n",
    "rst_tf"
   ]
  },
  {
   "cell_type": "code",
   "execution_count": 147,
   "metadata": {
    "ExecuteTime": {
     "end_time": "2019-11-14T08:15:29.943674Z",
     "start_time": "2019-11-14T08:15:29.938192Z"
    }
   },
   "outputs": [
    {
     "data": {
      "text/plain": [
       "array([[     1,    451,    766, ...,  89789,  61759, 118363]])"
      ]
     },
     "execution_count": 147,
     "metadata": {},
     "output_type": "execute_result"
    }
   ],
   "source": [
    "sorted_roast_tf= np.fliplr(rst_tf) #expect the first result to be the recipe itself [3], with cosine similarity=1\n",
    "sorted_roast_tf"
   ]
  },
  {
   "cell_type": "code",
   "execution_count": 154,
   "metadata": {
    "ExecuteTime": {
     "end_time": "2019-11-14T08:21:11.477083Z",
     "start_time": "2019-11-14T08:21:11.470454Z"
    }
   },
   "outputs": [
    {
     "data": {
      "text/plain": [
       "title                                       Beef Tips and Noodles\n",
       "ingredients     [1 pound sirloin tips, cubed ADVERTISEMENT, 1 ...\n",
       "instructions    Preheat oven to 400 degrees F (200 degrees C)....\n",
       "Name: 451, dtype: object"
      ]
     },
     "execution_count": 154,
     "metadata": {},
     "output_type": "execute_result"
    }
   ],
   "source": [
    "data.iloc[451]"
   ]
  },
  {
   "cell_type": "code",
   "execution_count": 150,
   "metadata": {
    "ExecuteTime": {
     "end_time": "2019-11-14T08:19:34.670417Z",
     "start_time": "2019-11-14T08:19:34.665203Z"
    }
   },
   "outputs": [
    {
     "data": {
      "text/plain": [
       "\"[' pound sirloin tips, cubed ADVERTISEMENT', ' (. ounce) can condensed cream of mushroom soup ADVERTISEMENT', ' (. ounce) package beef with onion soup mix ADVERTISEMENT', ' (. ounce) can mushrooms, drained ADVERTISEMENT', ' cup water ADVERTISEMENT', ' ( ounce) package wide egg noodles ADVERTISEMENT', 'ADVERTISEMENT']\""
      ]
     },
     "execution_count": 150,
     "metadata": {},
     "output_type": "execute_result"
    }
   ],
   "source": [
    "data_ingr[451]"
   ]
  },
  {
   "cell_type": "code",
   "execution_count": 155,
   "metadata": {
    "ExecuteTime": {
     "end_time": "2019-11-14T08:21:26.382738Z",
     "start_time": "2019-11-14T08:21:26.375317Z"
    }
   },
   "outputs": [
    {
     "data": {
      "text/plain": [
       "title                                    Slow Cooker London Broil\n",
       "ingredients     [2 pounds flank steak ADVERTISEMENT, 1 (10.75 ...\n",
       "instructions    Place meat in the bottom of the slow cooker; i...\n",
       "Name: 766, dtype: object"
      ]
     },
     "execution_count": 155,
     "metadata": {},
     "output_type": "execute_result"
    }
   ],
   "source": [
    "data.iloc[766]"
   ]
  },
  {
   "cell_type": "code",
   "execution_count": 151,
   "metadata": {
    "ExecuteTime": {
     "end_time": "2019-11-14T08:19:46.864520Z",
     "start_time": "2019-11-14T08:19:46.857380Z"
    }
   },
   "outputs": [
    {
     "data": {
      "text/plain": [
       "\"[' pounds flank steak ADVERTISEMENT', ' (. ounce) can condensed cream of mushroom soup ADVERTISEMENT', ' (. ounce) can condensed tomato soup ADVERTISEMENT', ' ( ounce) package dry onion soup mix ADVERTISEMENT', 'ADVERTISEMENT']\""
      ]
     },
     "execution_count": 151,
     "metadata": {},
     "output_type": "execute_result"
    }
   ],
   "source": [
    "data_ingr[766]"
   ]
  },
  {
   "cell_type": "code",
   "execution_count": 149,
   "metadata": {
    "ExecuteTime": {
     "end_time": "2019-11-14T08:15:56.162071Z",
     "start_time": "2019-11-14T08:15:55.301347Z"
    }
   },
   "outputs": [
    {
     "data": {
      "text/html": [
       "<div>\n",
       "<style scoped>\n",
       "    .dataframe tbody tr th:only-of-type {\n",
       "        vertical-align: middle;\n",
       "    }\n",
       "\n",
       "    .dataframe tbody tr th {\n",
       "        vertical-align: top;\n",
       "    }\n",
       "\n",
       "    .dataframe thead th {\n",
       "        text-align: right;\n",
       "    }\n",
       "</style>\n",
       "<table border=\"1\" class=\"dataframe\">\n",
       "  <thead>\n",
       "    <tr style=\"text-align: right;\">\n",
       "      <th></th>\n",
       "      <th>title</th>\n",
       "      <th>ingredients</th>\n",
       "      <th>instructions</th>\n",
       "    </tr>\n",
       "  </thead>\n",
       "  <tbody>\n",
       "    <tr>\n",
       "      <td>1</td>\n",
       "      <td>Awesome Slow Cooker Pot Roast</td>\n",
       "      <td>[2 (10.75 ounce) cans condensed cream of mushr...</td>\n",
       "      <td>In a slow cooker, mix cream of mushroom soup, ...</td>\n",
       "    </tr>\n",
       "    <tr>\n",
       "      <td>451</td>\n",
       "      <td>Beef Tips and Noodles</td>\n",
       "      <td>[1 pound sirloin tips, cubed ADVERTISEMENT, 1 ...</td>\n",
       "      <td>Preheat oven to 400 degrees F (200 degrees C)....</td>\n",
       "    </tr>\n",
       "    <tr>\n",
       "      <td>766</td>\n",
       "      <td>Slow Cooker London Broil</td>\n",
       "      <td>[2 pounds flank steak ADVERTISEMENT, 1 (10.75 ...</td>\n",
       "      <td>Place meat in the bottom of the slow cooker; i...</td>\n",
       "    </tr>\n",
       "    <tr>\n",
       "      <td>1990</td>\n",
       "      <td>Pot Roast in Foil</td>\n",
       "      <td>[3 pounds bottom round ADVERTISEMENT, 1 (10.75...</td>\n",
       "      <td>Preheat oven to 300 degrees F (150 degrees C)....</td>\n",
       "    </tr>\n",
       "    <tr>\n",
       "      <td>35121</td>\n",
       "      <td>Polish Chop Suey</td>\n",
       "      <td>[1 (16 ounce) package kluski noodles ADVERTISE...</td>\n",
       "      <td>Preheat oven to 350 degrees F (175 degrees C)....</td>\n",
       "    </tr>\n",
       "    <tr>\n",
       "      <td>...</td>\n",
       "      <td>...</td>\n",
       "      <td>...</td>\n",
       "      <td>...</td>\n",
       "    </tr>\n",
       "    <tr>\n",
       "      <td>55549</td>\n",
       "      <td>Cilantro Salt</td>\n",
       "      <td>[1 bunch cilantro leaves, 3/4 cup kosher salt,...</td>\n",
       "      <td>Place all ingredients in food processor and pu...</td>\n",
       "    </tr>\n",
       "    <tr>\n",
       "      <td>53476</td>\n",
       "      <td>Preserved Lemons</td>\n",
       "      <td>[2 to 3 lemons, 2 tablespoons kosher salt]</td>\n",
       "      <td>Watch how to make this recipe.\\nPreheat the ov...</td>\n",
       "    </tr>\n",
       "    <tr>\n",
       "      <td>89789</td>\n",
       "      <td>Five-Day Preserved Lemons</td>\n",
       "      <td>[7 lemons, 3 cinnamon sticks, 1/8 cup coriande...</td>\n",
       "      <td>Make incisions in lemon peel at 1-inch interva...</td>\n",
       "    </tr>\n",
       "    <tr>\n",
       "      <td>61759</td>\n",
       "      <td>Herbed Tuna Steaks</td>\n",
       "      <td>[3 sprigs rosemary, leaves stripped, 6 sprigs ...</td>\n",
       "      <td>Coarsely chop the rosemary, thyme and scallion...</td>\n",
       "    </tr>\n",
       "    <tr>\n",
       "      <td>118363</td>\n",
       "      <td>Lemon Granola</td>\n",
       "      <td>[1 cup old-fashioned rolled oats, 1/2 teaspoon...</td>\n",
       "      <td>1. Preheat the oven to 250°F. 2. Toss together...</td>\n",
       "    </tr>\n",
       "  </tbody>\n",
       "</table>\n",
       "<p>124473 rows × 3 columns</p>\n",
       "</div>"
      ],
      "text/plain": [
       "                                title  \\\n",
       "1       Awesome Slow Cooker Pot Roast   \n",
       "451             Beef Tips and Noodles   \n",
       "766          Slow Cooker London Broil   \n",
       "1990                Pot Roast in Foil   \n",
       "35121                Polish Chop Suey   \n",
       "...                               ...   \n",
       "55549                   Cilantro Salt   \n",
       "53476                Preserved Lemons   \n",
       "89789       Five-Day Preserved Lemons   \n",
       "61759              Herbed Tuna Steaks   \n",
       "118363                 Lemon Granola    \n",
       "\n",
       "                                              ingredients  \\\n",
       "1       [2 (10.75 ounce) cans condensed cream of mushr...   \n",
       "451     [1 pound sirloin tips, cubed ADVERTISEMENT, 1 ...   \n",
       "766     [2 pounds flank steak ADVERTISEMENT, 1 (10.75 ...   \n",
       "1990    [3 pounds bottom round ADVERTISEMENT, 1 (10.75...   \n",
       "35121   [1 (16 ounce) package kluski noodles ADVERTISE...   \n",
       "...                                                   ...   \n",
       "55549   [1 bunch cilantro leaves, 3/4 cup kosher salt,...   \n",
       "53476          [2 to 3 lemons, 2 tablespoons kosher salt]   \n",
       "89789   [7 lemons, 3 cinnamon sticks, 1/8 cup coriande...   \n",
       "61759   [3 sprigs rosemary, leaves stripped, 6 sprigs ...   \n",
       "118363  [1 cup old-fashioned rolled oats, 1/2 teaspoon...   \n",
       "\n",
       "                                             instructions  \n",
       "1       In a slow cooker, mix cream of mushroom soup, ...  \n",
       "451     Preheat oven to 400 degrees F (200 degrees C)....  \n",
       "766     Place meat in the bottom of the slow cooker; i...  \n",
       "1990    Preheat oven to 300 degrees F (150 degrees C)....  \n",
       "35121   Preheat oven to 350 degrees F (175 degrees C)....  \n",
       "...                                                   ...  \n",
       "55549   Place all ingredients in food processor and pu...  \n",
       "53476   Watch how to make this recipe.\\nPreheat the ov...  \n",
       "89789   Make incisions in lemon peel at 1-inch interva...  \n",
       "61759   Coarsely chop the rosemary, thyme and scallion...  \n",
       "118363  1. Preheat the oven to 250°F. 2. Toss together...  \n",
       "\n",
       "[124473 rows x 3 columns]"
      ]
     },
     "execution_count": 149,
     "metadata": {},
     "output_type": "execute_result"
    }
   ],
   "source": [
    "data.iloc[sorted_roast_tf[0]]"
   ]
  },
  {
   "cell_type": "code",
   "execution_count": 152,
   "metadata": {
    "ExecuteTime": {
     "end_time": "2019-11-14T08:20:01.480699Z",
     "start_time": "2019-11-14T08:20:01.472710Z"
    }
   },
   "outputs": [
    {
     "data": {
      "text/plain": [
       "\"[' cup old-fashioned rolled oats', '/ teaspoon kosher salt', ' lemons:  zested,  juiced', '/ cup honey or agave nectar', ' tablespoons grapeseed or other neutral oil, plus more for the pan']\""
      ]
     },
     "execution_count": 152,
     "metadata": {},
     "output_type": "execute_result"
    }
   ],
   "source": [
    "data_ingr[118363] #Lemon Granola, makes sense it's very different from beef roast!"
   ]
  },
  {
   "cell_type": "code",
   "execution_count": 153,
   "metadata": {
    "ExecuteTime": {
     "end_time": "2019-11-14T08:20:13.448587Z",
     "start_time": "2019-11-14T08:20:13.440218Z"
    }
   },
   "outputs": [
    {
     "data": {
      "text/plain": [
       "\"[' sprigs rosemary, leaves stripped', ' sprigs thyme, leaves stripped', ' scallions', ' tablespoons extra-virgin olive oil', ' -pound center-cut tuna steaks (about  inch thick)', 'Kosher salt and freshly ground pepper']\""
      ]
     },
     "execution_count": 153,
     "metadata": {},
     "output_type": "execute_result"
    }
   ],
   "source": [
    "data_ingr[61759]"
   ]
  },
  {
   "cell_type": "markdown",
   "metadata": {},
   "source": [
    "The top 3 recipes similar to Awesome Slow Cooker Pot Roast (including itself) are all meat recipes using some pre-made ingredients such as canned condensed soup. The second-most similar (Slow Cooker London Broil) is also a slow cooker recipe.\n",
    "\n",
    "Also the model and seems to recognize beef, pot roast, and steak as similar (good!), likely due to them being in the same topics. This also shows we probably don't need to use soft cosine similarity (might try it in the future to see how \"blurry\" it makes things).\n",
    "\n",
    "The least similar recipes have fewer ingredients, and there are quite a recipes with lemons. Although it's interesting that Herbed Tuna Steaks was considered least similar to roasts using beef steaks."
   ]
  },
  {
   "cell_type": "markdown",
   "metadata": {},
   "source": [
    "#### Tacos\n",
    "Try another, more complicated recipe:"
   ]
  },
  {
   "cell_type": "code",
   "execution_count": 156,
   "metadata": {
    "ExecuteTime": {
     "end_time": "2019-11-14T08:26:29.551761Z",
     "start_time": "2019-11-14T08:26:29.518497Z"
    }
   },
   "outputs": [
    {
     "data": {
      "text/plain": [
       "title              Jalapeño and Lime–Marinated Skirt Steak Tacos \n",
       "ingredients     [1 medium jalapeño, thinly sliced, 2 garlic cl...\n",
       "instructions    Marinate and cook the steak: Combine jalapeño,...\n",
       "Name: 124470, dtype: object"
      ]
     },
     "execution_count": 156,
     "metadata": {},
     "output_type": "execute_result"
    }
   ],
   "source": [
    "data.iloc[124470]"
   ]
  },
  {
   "cell_type": "code",
   "execution_count": 162,
   "metadata": {
    "ExecuteTime": {
     "end_time": "2019-11-14T08:27:49.435385Z",
     "start_time": "2019-11-14T08:27:49.408099Z"
    }
   },
   "outputs": [
    {
     "data": {
      "text/plain": [
       "array([[0.142, 0.146, 0.568, ..., 1.   , 0.316, 0.772]])"
      ]
     },
     "execution_count": 162,
     "metadata": {},
     "output_type": "execute_result"
    }
   ],
   "source": [
    "lsa_s_tc_tf=cosine_similarity(tf_lsa_10[124470].reshape(1, -1), tf_lsa_10).round(3) \n",
    "lsa_s_tc_tf"
   ]
  },
  {
   "cell_type": "code",
   "execution_count": 163,
   "metadata": {
    "ExecuteTime": {
     "end_time": "2019-11-14T08:27:52.043922Z",
     "start_time": "2019-11-14T08:27:52.027059Z"
    }
   },
   "outputs": [
    {
     "data": {
      "text/plain": [
       "array([[113423,   2522,  86678, ...,  96083,  66421, 124470]])"
      ]
     },
     "execution_count": 163,
     "metadata": {},
     "output_type": "execute_result"
    }
   ],
   "source": [
    "tc_tf = lsa_s_tc_tf.argsort()\n",
    "tc_tf"
   ]
  },
  {
   "cell_type": "code",
   "execution_count": 164,
   "metadata": {
    "ExecuteTime": {
     "end_time": "2019-11-14T08:27:54.561570Z",
     "start_time": "2019-11-14T08:27:54.552854Z"
    }
   },
   "outputs": [
    {
     "data": {
      "text/plain": [
       "array([[124470,  66421,  96083, ...,  86678,   2522, 113423]])"
      ]
     },
     "execution_count": 164,
     "metadata": {},
     "output_type": "execute_result"
    }
   ],
   "source": [
    "sorted_tc_tf= np.fliplr(tc_tf) #expect the first result to be the recipe itself [3], with cosine similarity=1\n",
    "sorted_tc_tf\n"
   ]
  },
  {
   "cell_type": "code",
   "execution_count": 165,
   "metadata": {
    "ExecuteTime": {
     "end_time": "2019-11-14T08:27:56.744738Z",
     "start_time": "2019-11-14T08:27:56.736173Z"
    }
   },
   "outputs": [
    {
     "data": {
      "text/plain": [
       "title                                 Green Bean and Bass Pouches\n",
       "ingredients     [1 pound trimmed fresh green beans, 1 small re...\n",
       "instructions    Preheat the oven to 425 degrees F.\\nCut off 4 ...\n",
       "Name: 66421, dtype: object"
      ]
     },
     "execution_count": 165,
     "metadata": {},
     "output_type": "execute_result"
    }
   ],
   "source": [
    "data.iloc[66421]"
   ]
  },
  {
   "cell_type": "code",
   "execution_count": 166,
   "metadata": {
    "ExecuteTime": {
     "end_time": "2019-11-14T08:28:01.409376Z",
     "start_time": "2019-11-14T08:28:01.397909Z"
    }
   },
   "outputs": [
    {
     "data": {
      "text/plain": [
       "\"[' pound trimmed fresh green beans', ' small red bell pepper, seeded and sliced', ' baby bok choy, sliced lengthwise', ' thin slices peeled fresh gingerroot', ' teaspoon ground coriander, / palmful', ' teaspoons seafood seasoning, / palmful (recommended: Old Bay)', 'Freshly ground black pepper', ' ( to -ounce) black bass or sea bass fillets', '/ cup hoisin sauce', '/ cup orange juice', ' scallions, finely chopped', ' tablespoons chopped fresh cilantro leaves']\""
      ]
     },
     "execution_count": 166,
     "metadata": {},
     "output_type": "execute_result"
    }
   ],
   "source": [
    "data_ingr[66421] #did not expect this asian fish recipe as the top rec"
   ]
  },
  {
   "cell_type": "code",
   "execution_count": 167,
   "metadata": {
    "ExecuteTime": {
     "end_time": "2019-11-14T08:28:40.983229Z",
     "start_time": "2019-11-14T08:28:40.971154Z"
    },
    "scrolled": true
   },
   "outputs": [
    {
     "data": {
      "text/plain": [
       "title                                               Nachos My Way\n",
       "ingredients     [3 large heirloom tomatoes (about 2 1/2 pounds...\n",
       "instructions    Make the salsa: Roughly chop the tomatoes, oni...\n",
       "Name: 96083, dtype: object"
      ]
     },
     "execution_count": 167,
     "metadata": {},
     "output_type": "execute_result"
    }
   ],
   "source": [
    "data.iloc[96083]"
   ]
  },
  {
   "cell_type": "code",
   "execution_count": 168,
   "metadata": {
    "ExecuteTime": {
     "end_time": "2019-11-14T08:28:54.182610Z",
     "start_time": "2019-11-14T08:28:54.173616Z"
    },
    "scrolled": true
   },
   "outputs": [
    {
     "data": {
      "text/plain": [
       "\"[' large heirloom tomatoes (about  / pounds), cored', ' large red onion', ' serrano chile pepper, stemmed', ' cup fresh cilantro (leaves and stems)', ' tablespoon Mexican beer (drink the rest!)', 'Juice of  lime', 'Kosher salt and freshly ground pepper', ' to  ounces nduja (soft Italian salami; available at boccalone.com)', ' -to--ounce bag white corn tortilla chips', ' bunch scallions, thinly sliced', ' cups canned pinto beans, drained and rinsed', 'Finely grated zest of  lime', ' radishes, thinly sliced', ' cup queso fresco', ' cup fresh corn kernels', ' tablespoons pickled jalapeno slices, drained, or more to taste', ' hass avocados', '/ cup fresh cilantro leaves']\""
      ]
     },
     "execution_count": 168,
     "metadata": {},
     "output_type": "execute_result"
    }
   ],
   "source": [
    "data_ingr[96083] #this nachos recipe is more similar to tacos"
   ]
  },
  {
   "cell_type": "code",
   "execution_count": 172,
   "metadata": {
    "ExecuteTime": {
     "end_time": "2019-11-14T08:29:58.776192Z",
     "start_time": "2019-11-14T08:29:58.011592Z"
    }
   },
   "outputs": [
    {
     "data": {
      "text/html": [
       "<div>\n",
       "<style scoped>\n",
       "    .dataframe tbody tr th:only-of-type {\n",
       "        vertical-align: middle;\n",
       "    }\n",
       "\n",
       "    .dataframe tbody tr th {\n",
       "        vertical-align: top;\n",
       "    }\n",
       "\n",
       "    .dataframe thead th {\n",
       "        text-align: right;\n",
       "    }\n",
       "</style>\n",
       "<table border=\"1\" class=\"dataframe\">\n",
       "  <thead>\n",
       "    <tr style=\"text-align: right;\">\n",
       "      <th></th>\n",
       "      <th>title</th>\n",
       "      <th>ingredients</th>\n",
       "      <th>instructions</th>\n",
       "    </tr>\n",
       "  </thead>\n",
       "  <tbody>\n",
       "    <tr>\n",
       "      <td>124470</td>\n",
       "      <td>Jalapeño and Lime–Marinated Skirt Steak Tacos</td>\n",
       "      <td>[1 medium jalapeño, thinly sliced, 2 garlic cl...</td>\n",
       "      <td>Marinate and cook the steak: Combine jalapeño,...</td>\n",
       "    </tr>\n",
       "    <tr>\n",
       "      <td>66421</td>\n",
       "      <td>Green Bean and Bass Pouches</td>\n",
       "      <td>[1 pound trimmed fresh green beans, 1 small re...</td>\n",
       "      <td>Preheat the oven to 425 degrees F.\\nCut off 4 ...</td>\n",
       "    </tr>\n",
       "    <tr>\n",
       "      <td>96083</td>\n",
       "      <td>Nachos My Way</td>\n",
       "      <td>[3 large heirloom tomatoes (about 2 1/2 pounds...</td>\n",
       "      <td>Make the salsa: Roughly chop the tomatoes, oni...</td>\n",
       "    </tr>\n",
       "    <tr>\n",
       "      <td>101864</td>\n",
       "      <td>Tequila-Lime Mahimahi Tacos</td>\n",
       "      <td>[4 tablespoons fresh lime juice, divided, 3 ta...</td>\n",
       "      <td>In a resealable plastic bag, combine 3 tablesp...</td>\n",
       "    </tr>\n",
       "    <tr>\n",
       "      <td>91230</td>\n",
       "      <td>Coconut Red Curry Sauce and Noodles</td>\n",
       "      <td>[1 tablespoon canola oil, 1/2 cup stemmed and ...</td>\n",
       "      <td>Heat the oil in a small saucepan over medium h...</td>\n",
       "    </tr>\n",
       "    <tr>\n",
       "      <td>...</td>\n",
       "      <td>...</td>\n",
       "      <td>...</td>\n",
       "      <td>...</td>\n",
       "    </tr>\n",
       "    <tr>\n",
       "      <td>73643</td>\n",
       "      <td>All-Purpose Baking Mix</td>\n",
       "      <td>[6 cups all-purpose flour, 3 tablespoons bakin...</td>\n",
       "      <td>In a large bowl combine the flour, baking powd...</td>\n",
       "    </tr>\n",
       "    <tr>\n",
       "      <td>5018</td>\n",
       "      <td>Self-Rising Flour</td>\n",
       "      <td>[1 cup all-purpose flour ADVERTISEMENT, 1/2 te...</td>\n",
       "      <td>Stir or sift together the flour, salt, and bak...</td>\n",
       "    </tr>\n",
       "    <tr>\n",
       "      <td>86678</td>\n",
       "      <td>Chocolate Flowers/Ribbon Decoration</td>\n",
       "      <td>[Chocolate plastic, Cocoa powder]</td>\n",
       "      <td>Note: 1 pound of chocolate plastic will decora...</td>\n",
       "    </tr>\n",
       "    <tr>\n",
       "      <td>2522</td>\n",
       "      <td>Fluffy Canadian Pancakes</td>\n",
       "      <td>[1 cup all-purpose flour ADVERTISEMENT, 1 tabl...</td>\n",
       "      <td>In a medium bowl, combine flour and baking pow...</td>\n",
       "    </tr>\n",
       "    <tr>\n",
       "      <td>113423</td>\n",
       "      <td>Quark (Sour Fresh Cheese)</td>\n",
       "      <td>[8 1/2 cups/2L buttermilk]</td>\n",
       "      <td>Preheat the oven to 150°F/65°C. Pour the butte...</td>\n",
       "    </tr>\n",
       "  </tbody>\n",
       "</table>\n",
       "<p>124473 rows × 3 columns</p>\n",
       "</div>"
      ],
      "text/plain": [
       "                                                 title  \\\n",
       "124470  Jalapeño and Lime–Marinated Skirt Steak Tacos    \n",
       "66421                      Green Bean and Bass Pouches   \n",
       "96083                                    Nachos My Way   \n",
       "101864                    Tequila-Lime Mahimahi Tacos    \n",
       "91230              Coconut Red Curry Sauce and Noodles   \n",
       "...                                                ...   \n",
       "73643                           All-Purpose Baking Mix   \n",
       "5018                                 Self-Rising Flour   \n",
       "86678              Chocolate Flowers/Ribbon Decoration   \n",
       "2522                          Fluffy Canadian Pancakes   \n",
       "113423                      Quark (Sour Fresh Cheese)    \n",
       "\n",
       "                                              ingredients  \\\n",
       "124470  [1 medium jalapeño, thinly sliced, 2 garlic cl...   \n",
       "66421   [1 pound trimmed fresh green beans, 1 small re...   \n",
       "96083   [3 large heirloom tomatoes (about 2 1/2 pounds...   \n",
       "101864  [4 tablespoons fresh lime juice, divided, 3 ta...   \n",
       "91230   [1 tablespoon canola oil, 1/2 cup stemmed and ...   \n",
       "...                                                   ...   \n",
       "73643   [6 cups all-purpose flour, 3 tablespoons bakin...   \n",
       "5018    [1 cup all-purpose flour ADVERTISEMENT, 1/2 te...   \n",
       "86678                   [Chocolate plastic, Cocoa powder]   \n",
       "2522    [1 cup all-purpose flour ADVERTISEMENT, 1 tabl...   \n",
       "113423                         [8 1/2 cups/2L buttermilk]   \n",
       "\n",
       "                                             instructions  \n",
       "124470  Marinate and cook the steak: Combine jalapeño,...  \n",
       "66421   Preheat the oven to 425 degrees F.\\nCut off 4 ...  \n",
       "96083   Make the salsa: Roughly chop the tomatoes, oni...  \n",
       "101864  In a resealable plastic bag, combine 3 tablesp...  \n",
       "91230   Heat the oil in a small saucepan over medium h...  \n",
       "...                                                   ...  \n",
       "73643   In a large bowl combine the flour, baking powd...  \n",
       "5018    Stir or sift together the flour, salt, and bak...  \n",
       "86678   Note: 1 pound of chocolate plastic will decora...  \n",
       "2522    In a medium bowl, combine flour and baking pow...  \n",
       "113423  Preheat the oven to 150°F/65°C. Pour the butte...  \n",
       "\n",
       "[124473 rows x 3 columns]"
      ]
     },
     "execution_count": 172,
     "metadata": {},
     "output_type": "execute_result"
    }
   ],
   "source": [
    "data.iloc[sorted_tc_tf[0]]"
   ]
  },
  {
   "cell_type": "markdown",
   "metadata": {},
   "source": [
    "The top recommendations for Jalapeño and Lime–Marinated Skirt Steak Tacos\t are quite intersting, as there are 2 Asian recipes (Fish and curry noodles) and 2 Mexican recipes (Nachos and Fish Tacos). In a way this confirmed the hunch I had that Mexican dishes popular in North America are quite similar to the popular Asian dishes.\n",
    "\n",
    "Once again the least similar recipes are mainly the ones that have very few ingredients. This makes sense as the 10 topics from LSA are mostly ingredients. If there's no overlap in ingredients, the two recipes cannot have a high cosine similarity."
   ]
  },
  {
   "cell_type": "code",
   "execution_count": null,
   "metadata": {},
   "outputs": [],
   "source": []
  },
  {
   "cell_type": "markdown",
   "metadata": {},
   "source": [
    "## Recommendation on new data"
   ]
  },
  {
   "cell_type": "markdown",
   "metadata": {},
   "source": [
    "### Small test data "
   ]
  },
  {
   "cell_type": "code",
   "execution_count": 189,
   "metadata": {
    "ExecuteTime": {
     "end_time": "2019-11-14T08:49:46.959164Z",
     "start_time": "2019-11-14T08:49:46.948980Z"
    }
   },
   "outputs": [],
   "source": [
    "#instead of scraping BBCfood, get rest of the rec sys code working first:\n",
    "testdata=pd.DataFrame(columns = [\"title\",\"ingredients\"])"
   ]
  },
  {
   "cell_type": "code",
   "execution_count": 232,
   "metadata": {
    "ExecuteTime": {
     "end_time": "2019-11-14T09:24:41.968814Z",
     "start_time": "2019-11-14T09:24:41.949240Z"
    }
   },
   "outputs": [],
   "source": [
    "inglist1=['''\n",
    "2 tablespoons reduced sodium soy sauce\n",
    "2 tablespoons freshly squeezed lime juice\n",
    "2 tablespoons canola oil, divided\n",
    "3 cloves garlic, minced\n",
    "2 teaspoons chili powder\n",
    "1 teaspoon ground cumin\n",
    "1 teaspoon dried oregano\n",
    "1 1/2 pounds skirt steak, cut into 1/2-inch pieces\n",
    "12 mini flour tortillas\n",
    "3/4 cup diced red onion\n",
    "\n",
    "1/2 cup chopped fresh cilantro leaves\n",
    "1 lime, cut into wedges\n",
    "''']\n",
    "title1='Mexican Street Tacos by DamnDelicious'"
   ]
  },
  {
   "cell_type": "code",
   "execution_count": 191,
   "metadata": {
    "ExecuteTime": {
     "end_time": "2019-11-14T08:49:49.432575Z",
     "start_time": "2019-11-14T08:49:49.428913Z"
    }
   },
   "outputs": [],
   "source": [
    "#scrape and write for loop for this?\n",
    "\n",
    "inglist2=['''375g/13oz butter\n",
    "375g/13oz dark chocolate\n",
    "6 free-range eggs\n",
    "350g/12oz caster sugar\n",
    "1 tbsp vanilla extract\n",
    "225g/8oz plain flour\n",
    "1 tsp salt\n",
    "250g/9oz white chocolate, chopped\n",
    "2 tsp icing sugar, to decorate (optional)''']\n",
    "\n",
    "title2='Double chocolate brownies'"
   ]
  },
  {
   "cell_type": "code",
   "execution_count": 234,
   "metadata": {
    "ExecuteTime": {
     "end_time": "2019-11-14T09:24:57.661736Z",
     "start_time": "2019-11-14T09:24:57.655874Z"
    }
   },
   "outputs": [],
   "source": [
    "testdatalst = []\n",
    "testdatalst.append([title1, inglist1]) \n",
    "#cheaper computationally to append list, then create df once have all the data! https://stackoverflow.com/questions/13784192/creating-an-empty-pandas-dataframe-then-filling-it?rq=1"
   ]
  },
  {
   "cell_type": "code",
   "execution_count": 235,
   "metadata": {
    "ExecuteTime": {
     "end_time": "2019-11-14T09:25:00.886028Z",
     "start_time": "2019-11-14T09:25:00.880971Z"
    }
   },
   "outputs": [],
   "source": [
    "testdatalst.append([title2, inglist2]) #need to vectorize and do lsa for one document at a time (write in function?)"
   ]
  },
  {
   "cell_type": "code",
   "execution_count": 236,
   "metadata": {
    "ExecuteTime": {
     "end_time": "2019-11-14T09:25:02.345297Z",
     "start_time": "2019-11-14T09:25:02.305299Z"
    }
   },
   "outputs": [
    {
     "data": {
      "text/html": [
       "<div>\n",
       "<style scoped>\n",
       "    .dataframe tbody tr th:only-of-type {\n",
       "        vertical-align: middle;\n",
       "    }\n",
       "\n",
       "    .dataframe tbody tr th {\n",
       "        vertical-align: top;\n",
       "    }\n",
       "\n",
       "    .dataframe thead th {\n",
       "        text-align: right;\n",
       "    }\n",
       "</style>\n",
       "<table border=\"1\" class=\"dataframe\">\n",
       "  <thead>\n",
       "    <tr style=\"text-align: right;\">\n",
       "      <th></th>\n",
       "      <th>title</th>\n",
       "      <th>ingredients</th>\n",
       "    </tr>\n",
       "  </thead>\n",
       "  <tbody>\n",
       "    <tr>\n",
       "      <td>0</td>\n",
       "      <td>Mexican Street Tacos by DamnDelicious</td>\n",
       "      <td>[\\n2 tablespoons reduced sodium soy sauce\\n2 t...</td>\n",
       "    </tr>\n",
       "    <tr>\n",
       "      <td>1</td>\n",
       "      <td>Double chocolate brownies</td>\n",
       "      <td>[375g/13oz butter\\n375g/13oz dark chocolate\\n6...</td>\n",
       "    </tr>\n",
       "  </tbody>\n",
       "</table>\n",
       "</div>"
      ],
      "text/plain": [
       "                                   title  \\\n",
       "0  Mexican Street Tacos by DamnDelicious   \n",
       "1              Double chocolate brownies   \n",
       "\n",
       "                                         ingredients  \n",
       "0  [\\n2 tablespoons reduced sodium soy sauce\\n2 t...  \n",
       "1  [375g/13oz butter\\n375g/13oz dark chocolate\\n6...  "
      ]
     },
     "execution_count": 236,
     "metadata": {},
     "output_type": "execute_result"
    }
   ],
   "source": [
    "testdf = pd.DataFrame(testdatalst, columns=[\"title\",\"ingredients\"])\n",
    "testdf"
   ]
  },
  {
   "cell_type": "markdown",
   "metadata": {},
   "source": [
    "Now have test data, can clean, vectorize, lemmatize, and calc cos similarity!\n",
    "\n",
    "Remove digits"
   ]
  },
  {
   "cell_type": "code",
   "execution_count": 237,
   "metadata": {
    "ExecuteTime": {
     "end_time": "2019-11-14T09:25:11.515137Z",
     "start_time": "2019-11-14T09:25:11.508129Z"
    }
   },
   "outputs": [],
   "source": [
    "testdf_ingr=testdf['ingredients'].apply(project4_functions.regex_nodigits_new)"
   ]
  },
  {
   "cell_type": "code",
   "execution_count": 221,
   "metadata": {
    "ExecuteTime": {
     "end_time": "2019-11-14T09:16:18.205018Z",
     "start_time": "2019-11-14T09:16:18.201109Z"
    }
   },
   "outputs": [],
   "source": [
    "##! This new document is the test set, only .transform for vectorizer and tfidf (fit on train set),\n",
    "#don't use .fit_transform on test set!"
   ]
  },
  {
   "cell_type": "markdown",
   "metadata": {},
   "source": [
    "#### Vectorize with TF-IDF\n"
   ]
  },
  {
   "cell_type": "code",
   "execution_count": 238,
   "metadata": {
    "ExecuteTime": {
     "end_time": "2019-11-14T09:25:48.048955Z",
     "start_time": "2019-11-14T09:25:14.624220Z"
    }
   },
   "outputs": [],
   "source": [
    "#previously, already fit in 2.2.3:\n",
    "tf_vec = TfidfVectorizer(stop_words=stopwords_ingr) \n",
    "ingr_tfidf = tf_vec.fit_transform(data_ingr)"
   ]
  },
  {
   "cell_type": "code",
   "execution_count": 239,
   "metadata": {
    "ExecuteTime": {
     "end_time": "2019-11-14T09:25:48.088605Z",
     "start_time": "2019-11-14T09:25:48.081470Z"
    }
   },
   "outputs": [],
   "source": [
    "testvec = tf_vec.transform(testdf_ingr)"
   ]
  },
  {
   "cell_type": "code",
   "execution_count": 240,
   "metadata": {
    "ExecuteTime": {
     "end_time": "2019-11-14T09:25:52.766048Z",
     "start_time": "2019-11-14T09:25:48.092117Z"
    }
   },
   "outputs": [],
   "source": [
    "tf_lsa_10 = lsa_10.fit_transform(ingr_tfidf)"
   ]
  },
  {
   "cell_type": "code",
   "execution_count": 241,
   "metadata": {
    "ExecuteTime": {
     "end_time": "2019-11-14T09:25:52.782434Z",
     "start_time": "2019-11-14T09:25:52.771930Z"
    }
   },
   "outputs": [
    {
     "data": {
      "text/plain": [
       "array([[ 0.33419658, -0.12563149,  0.01499724,  0.05310995, -0.18588203,\n",
       "        -0.03571862,  0.00630402,  0.01650749,  0.03764331, -0.12830529],\n",
       "       [ 0.12069486,  0.16514259,  0.01266154, -0.07114107, -0.04174894,\n",
       "         0.04710251, -0.02221173, -0.03812925, -0.07708954, -0.01729642]])"
      ]
     },
     "execution_count": 241,
     "metadata": {},
     "output_type": "execute_result"
    }
   ],
   "source": [
    "test_tf = lsa_10.transform(testvec)\n",
    "\n",
    "test_tf"
   ]
  },
  {
   "cell_type": "markdown",
   "metadata": {},
   "source": [
    "#### Cosine similarity with RB dataset\n",
    "##### Tacos"
   ]
  },
  {
   "cell_type": "code",
   "execution_count": 226,
   "metadata": {
    "ExecuteTime": {
     "end_time": "2019-11-14T09:16:25.872932Z",
     "start_time": "2019-11-14T09:16:25.846809Z"
    }
   },
   "outputs": [
    {
     "data": {
      "text/plain": [
       "array([[0.163, 0.276, 0.328, ..., 0.232, 0.378, 0.177]])"
      ]
     },
     "execution_count": 226,
     "metadata": {},
     "output_type": "execute_result"
    }
   ],
   "source": [
    "#test_csim=cosine_similarity(test_tf, tf_lsa_10).round(3) \n",
    "#test_csim"
   ]
  },
  {
   "cell_type": "code",
   "execution_count": 242,
   "metadata": {
    "ExecuteTime": {
     "end_time": "2019-11-14T09:26:06.119760Z",
     "start_time": "2019-11-14T09:26:06.074482Z"
    }
   },
   "outputs": [
    {
     "data": {
      "text/plain": [
       "array([[0.478, 0.268, 0.45 , ..., 0.731, 0.31 , 0.651]])"
      ]
     },
     "execution_count": 242,
     "metadata": {},
     "output_type": "execute_result"
    }
   ],
   "source": [
    "test_csim=cosine_similarity(test_tf[0].reshape(1,-1), tf_lsa_10).round(3) \n",
    "test_csim"
   ]
  },
  {
   "cell_type": "code",
   "execution_count": 243,
   "metadata": {
    "ExecuteTime": {
     "end_time": "2019-11-14T09:26:43.649513Z",
     "start_time": "2019-11-14T09:26:43.607838Z"
    }
   },
   "outputs": [
    {
     "data": {
      "text/plain": [
       "array([[ 14690,  79565,  11075, ...,  54409, 106414, 109282]])"
      ]
     },
     "execution_count": 243,
     "metadata": {},
     "output_type": "execute_result"
    }
   ],
   "source": [
    "csim_tacos = test_csim.argsort()\n",
    "csim_tacos"
   ]
  },
  {
   "cell_type": "code",
   "execution_count": 244,
   "metadata": {
    "ExecuteTime": {
     "end_time": "2019-11-14T09:26:57.630431Z",
     "start_time": "2019-11-14T09:26:57.621076Z"
    }
   },
   "outputs": [
    {
     "data": {
      "text/plain": [
       "array([[109282, 106414,  54409, ...,  11075,  79565,  14690]])"
      ]
     },
     "execution_count": 244,
     "metadata": {},
     "output_type": "execute_result"
    }
   ],
   "source": [
    "sorted_test_tacos= np.fliplr(csim_tacos) #expect the first result to be the recipe itself [3], with cosine similarity=1\n",
    "sorted_test_tacos"
   ]
  },
  {
   "cell_type": "code",
   "execution_count": 245,
   "metadata": {
    "ExecuteTime": {
     "end_time": "2019-11-14T09:27:06.303938Z",
     "start_time": "2019-11-14T09:27:04.980837Z"
    }
   },
   "outputs": [
    {
     "data": {
      "text/html": [
       "<div>\n",
       "<style scoped>\n",
       "    .dataframe tbody tr th:only-of-type {\n",
       "        vertical-align: middle;\n",
       "    }\n",
       "\n",
       "    .dataframe tbody tr th {\n",
       "        vertical-align: top;\n",
       "    }\n",
       "\n",
       "    .dataframe thead th {\n",
       "        text-align: right;\n",
       "    }\n",
       "</style>\n",
       "<table border=\"1\" class=\"dataframe\">\n",
       "  <thead>\n",
       "    <tr style=\"text-align: right;\">\n",
       "      <th></th>\n",
       "      <th>title</th>\n",
       "      <th>ingredients</th>\n",
       "      <th>instructions</th>\n",
       "    </tr>\n",
       "  </thead>\n",
       "  <tbody>\n",
       "    <tr>\n",
       "      <td>109282</td>\n",
       "      <td>Mushroom Fried Rice</td>\n",
       "      <td>[8 garlic cloves, 4 dried Chinese black mushro...</td>\n",
       "      <td>Thinly slice garlic. Soak dried black mushroom...</td>\n",
       "    </tr>\n",
       "    <tr>\n",
       "      <td>106414</td>\n",
       "      <td>Mushroom Fried Rice</td>\n",
       "      <td>[8 garlic cloves, 4 dried Chinese black mushro...</td>\n",
       "      <td>Thinly slice garlic. Soak dried black mushroom...</td>\n",
       "    </tr>\n",
       "    <tr>\n",
       "      <td>54409</td>\n",
       "      <td>Asian Rainbow Trout with Wilted Asian Slaw and...</td>\n",
       "      <td>[1/4 cup Asian marinade and dressing (recommen...</td>\n",
       "      <td>Drizzle the marinade on the trout fillets to l...</td>\n",
       "    </tr>\n",
       "    <tr>\n",
       "      <td>55216</td>\n",
       "      <td>Cous Cous Upma</td>\n",
       "      <td>[2 tablespoons vegetable oil, 1 teaspoon black...</td>\n",
       "      <td>In a deep nonstick skillet set over moderate h...</td>\n",
       "    </tr>\n",
       "    <tr>\n",
       "      <td>100041</td>\n",
       "      <td>Shrimp and Peppers in Spicy Tomato Sauce</td>\n",
       "      <td>[3 tablespoons olive oil, 2 1/2 tablespoons al...</td>\n",
       "      <td>In a deep 12-inch heavy skillet stir together ...</td>\n",
       "    </tr>\n",
       "    <tr>\n",
       "      <td>...</td>\n",
       "      <td>...</td>\n",
       "      <td>...</td>\n",
       "      <td>...</td>\n",
       "    </tr>\n",
       "    <tr>\n",
       "      <td>97846</td>\n",
       "      <td>Parmesan Crisps</td>\n",
       "      <td>[4 ounces Parmesan cheese]</td>\n",
       "      <td>Preheat the oven to 350 degrees. Line 2 sheet ...</td>\n",
       "    </tr>\n",
       "    <tr>\n",
       "      <td>51665</td>\n",
       "      <td>Parmesan Tuiles</td>\n",
       "      <td>[6 tablespoons Parmesan cheese]</td>\n",
       "      <td>Place a 12-inch non-stick pan over medium-high...</td>\n",
       "    </tr>\n",
       "    <tr>\n",
       "      <td>11075</td>\n",
       "      <td>Hard-Steamed Eggs</td>\n",
       "      <td>[12 eggs, at room temperature ADVERTISEMENT, A...</td>\n",
       "      <td>Place a steamer insert into a pot and fill wit...</td>\n",
       "    </tr>\n",
       "    <tr>\n",
       "      <td>79565</td>\n",
       "      <td>Cheese Platter</td>\n",
       "      <td>[French Camembert, Le Chevrot (a sharp goat ch...</td>\n",
       "      <td>Go to the best cheese shop in town and ask the...</td>\n",
       "    </tr>\n",
       "    <tr>\n",
       "      <td>14690</td>\n",
       "      <td>Mock Oatmeal</td>\n",
       "      <td>[1/2 cup ricotta cheese ADVERTISEMENT, 1 table...</td>\n",
       "      <td>In a cereal bowl, stir together the ricotta ch...</td>\n",
       "    </tr>\n",
       "  </tbody>\n",
       "</table>\n",
       "<p>124473 rows × 3 columns</p>\n",
       "</div>"
      ],
      "text/plain": [
       "                                                    title  \\\n",
       "109282                               Mushroom Fried Rice    \n",
       "106414                               Mushroom Fried Rice    \n",
       "54409   Asian Rainbow Trout with Wilted Asian Slaw and...   \n",
       "55216                                      Cous Cous Upma   \n",
       "100041          Shrimp and Peppers in Spicy Tomato Sauce    \n",
       "...                                                   ...   \n",
       "97846                                     Parmesan Crisps   \n",
       "51665                                     Parmesan Tuiles   \n",
       "11075                                   Hard-Steamed Eggs   \n",
       "79565                                      Cheese Platter   \n",
       "14690                                        Mock Oatmeal   \n",
       "\n",
       "                                              ingredients  \\\n",
       "109282  [8 garlic cloves, 4 dried Chinese black mushro...   \n",
       "106414  [8 garlic cloves, 4 dried Chinese black mushro...   \n",
       "54409   [1/4 cup Asian marinade and dressing (recommen...   \n",
       "55216   [2 tablespoons vegetable oil, 1 teaspoon black...   \n",
       "100041  [3 tablespoons olive oil, 2 1/2 tablespoons al...   \n",
       "...                                                   ...   \n",
       "97846                          [4 ounces Parmesan cheese]   \n",
       "51665                     [6 tablespoons Parmesan cheese]   \n",
       "11075   [12 eggs, at room temperature ADVERTISEMENT, A...   \n",
       "79565   [French Camembert, Le Chevrot (a sharp goat ch...   \n",
       "14690   [1/2 cup ricotta cheese ADVERTISEMENT, 1 table...   \n",
       "\n",
       "                                             instructions  \n",
       "109282  Thinly slice garlic. Soak dried black mushroom...  \n",
       "106414  Thinly slice garlic. Soak dried black mushroom...  \n",
       "54409   Drizzle the marinade on the trout fillets to l...  \n",
       "55216   In a deep nonstick skillet set over moderate h...  \n",
       "100041  In a deep 12-inch heavy skillet stir together ...  \n",
       "...                                                   ...  \n",
       "97846   Preheat the oven to 350 degrees. Line 2 sheet ...  \n",
       "51665   Place a 12-inch non-stick pan over medium-high...  \n",
       "11075   Place a steamer insert into a pot and fill wit...  \n",
       "79565   Go to the best cheese shop in town and ask the...  \n",
       "14690   In a cereal bowl, stir together the ricotta ch...  \n",
       "\n",
       "[124473 rows x 3 columns]"
      ]
     },
     "execution_count": 245,
     "metadata": {},
     "output_type": "execute_result"
    }
   ],
   "source": [
    "data.iloc[sorted_test_tacos[0]]"
   ]
  },
  {
   "cell_type": "markdown",
   "metadata": {},
   "source": [
    "Still recommending Asian food and seafood dishes for tacos, not working too well when the new document has not seen topics of the dataset.\n",
    "\n",
    "One way to improve this could be clustering by cuisine type first and recommending within cuisine type of the new recipe. My initial idea of training a cuisine type classifer with the small dataset would have been helpful here."
   ]
  },
  {
   "cell_type": "markdown",
   "metadata": {},
   "source": [
    "##### Brownies"
   ]
  },
  {
   "cell_type": "code",
   "execution_count": 246,
   "metadata": {
    "ExecuteTime": {
     "end_time": "2019-11-14T09:34:41.625687Z",
     "start_time": "2019-11-14T09:34:41.433799Z"
    }
   },
   "outputs": [
    {
     "data": {
      "text/plain": [
       "array([[0.149, 0.273, 0.298, ..., 0.248, 0.378, 0.18 ]])"
      ]
     },
     "execution_count": 246,
     "metadata": {},
     "output_type": "execute_result"
    }
   ],
   "source": [
    "test_csim=cosine_similarity(test_tf[1].reshape(1,-1), tf_lsa_10).round(3) \n",
    "test_csim"
   ]
  },
  {
   "cell_type": "code",
   "execution_count": 247,
   "metadata": {
    "ExecuteTime": {
     "end_time": "2019-11-14T09:34:53.925044Z",
     "start_time": "2019-11-14T09:34:53.888985Z"
    }
   },
   "outputs": [
    {
     "data": {
      "text/plain": [
       "array([[73930, 78367, 60720, ..., 19627,  3913, 20747]])"
      ]
     },
     "execution_count": 247,
     "metadata": {},
     "output_type": "execute_result"
    }
   ],
   "source": [
    "csim_b = test_csim.argsort()\n",
    "csim_b"
   ]
  },
  {
   "cell_type": "code",
   "execution_count": 248,
   "metadata": {
    "ExecuteTime": {
     "end_time": "2019-11-14T09:35:01.995346Z",
     "start_time": "2019-11-14T09:35:01.977946Z"
    }
   },
   "outputs": [
    {
     "data": {
      "text/plain": [
       "array([[20747,  3913, 19627, ..., 60720, 78367, 73930]])"
      ]
     },
     "execution_count": 248,
     "metadata": {},
     "output_type": "execute_result"
    }
   ],
   "source": [
    "sorted_test_b= np.fliplr(csim_b) #expect the first result to be the recipe itself [3], with cosine similarity=1\n",
    "sorted_test_b"
   ]
  },
  {
   "cell_type": "code",
   "execution_count": 249,
   "metadata": {
    "ExecuteTime": {
     "end_time": "2019-11-14T09:35:12.319746Z",
     "start_time": "2019-11-14T09:35:10.502729Z"
    }
   },
   "outputs": [
    {
     "data": {
      "text/html": [
       "<div>\n",
       "<style scoped>\n",
       "    .dataframe tbody tr th:only-of-type {\n",
       "        vertical-align: middle;\n",
       "    }\n",
       "\n",
       "    .dataframe tbody tr th {\n",
       "        vertical-align: top;\n",
       "    }\n",
       "\n",
       "    .dataframe thead th {\n",
       "        text-align: right;\n",
       "    }\n",
       "</style>\n",
       "<table border=\"1\" class=\"dataframe\">\n",
       "  <thead>\n",
       "    <tr style=\"text-align: right;\">\n",
       "      <th></th>\n",
       "      <th>title</th>\n",
       "      <th>ingredients</th>\n",
       "      <th>instructions</th>\n",
       "    </tr>\n",
       "  </thead>\n",
       "  <tbody>\n",
       "    <tr>\n",
       "      <td>20747</td>\n",
       "      <td>Super Delicate Chocolate Buttercream</td>\n",
       "      <td>[2 (1 ounce) squares unsweetened chocolate, ch...</td>\n",
       "      <td>In the top of a double boiler, heat chocolate,...</td>\n",
       "    </tr>\n",
       "    <tr>\n",
       "      <td>3913</td>\n",
       "      <td>Chocolate Cream Pudding</td>\n",
       "      <td>[1 cup white sugar ADVERTISEMENT, 2 tablespoon...</td>\n",
       "      <td>In a medium saucepan over medium heat, combine...</td>\n",
       "    </tr>\n",
       "    <tr>\n",
       "      <td>19627</td>\n",
       "      <td>Port Wine Chocolate Cake</td>\n",
       "      <td>[10 (1 ounce) squares unsweetened chocolate AD...</td>\n",
       "      <td>In the top of a double boiler, melt unsweetene...</td>\n",
       "    </tr>\n",
       "    <tr>\n",
       "      <td>99884</td>\n",
       "      <td>Warm Chocolate Cakes with Coffee Crème Anglaise</td>\n",
       "      <td>[1/3 cup 2 percent milk, 4 tsp sugar, 1 1-inch...</td>\n",
       "      <td>Sauce: Bring first 4 ingredients to a simmer i...</td>\n",
       "    </tr>\n",
       "    <tr>\n",
       "      <td>23785</td>\n",
       "      <td>Mocha Java Bars</td>\n",
       "      <td>[2 teaspoons instant coffee granules ADVERTISE...</td>\n",
       "      <td>To make Pastry: Combine 1/2 cup butter, white ...</td>\n",
       "    </tr>\n",
       "    <tr>\n",
       "      <td>...</td>\n",
       "      <td>...</td>\n",
       "      <td>...</td>\n",
       "      <td>...</td>\n",
       "    </tr>\n",
       "    <tr>\n",
       "      <td>214</td>\n",
       "      <td>Chicken Cordon Bleu I</td>\n",
       "      <td>[4 skinless, boneless chicken breast halves AD...</td>\n",
       "      <td>Preheat oven to 350 degrees F (175 degrees C)....</td>\n",
       "    </tr>\n",
       "    <tr>\n",
       "      <td>112230</td>\n",
       "      <td>Lisu Spice-Rubbed Roast Pork</td>\n",
       "      <td>[About 2 tablespoons lard or bacon drippings, ...</td>\n",
       "      <td>Place a rack in the center of the oven and pre...</td>\n",
       "    </tr>\n",
       "    <tr>\n",
       "      <td>60720</td>\n",
       "      <td>Baked Tarragon Chicken Thompson</td>\n",
       "      <td>[1 cup creme fraiche, 1/2 cup dry Sherry, 1/4 ...</td>\n",
       "      <td>Preheat oven to 350 degrees.\\nIn a 13 by 9-inc...</td>\n",
       "    </tr>\n",
       "    <tr>\n",
       "      <td>78367</td>\n",
       "      <td>Chicken Breasts with Pepper Jack and Bacon</td>\n",
       "      <td>[4 boneless, skinless chicken breasts, 4 1/4-i...</td>\n",
       "      <td>Using a sharp knife, make a wide horizontal sl...</td>\n",
       "    </tr>\n",
       "    <tr>\n",
       "      <td>73930</td>\n",
       "      <td>Spider Spoons</td>\n",
       "      <td>[5 black pipe cleaners, 1 black plastic spoon,...</td>\n",
       "      <td>Wrap 1 pipe cleaner around the fork and spoon ...</td>\n",
       "    </tr>\n",
       "  </tbody>\n",
       "</table>\n",
       "<p>124473 rows × 3 columns</p>\n",
       "</div>"
      ],
      "text/plain": [
       "                                                   title  \\\n",
       "20747               Super Delicate Chocolate Buttercream   \n",
       "3913                             Chocolate Cream Pudding   \n",
       "19627                           Port Wine Chocolate Cake   \n",
       "99884   Warm Chocolate Cakes with Coffee Crème Anglaise    \n",
       "23785                                    Mocha Java Bars   \n",
       "...                                                  ...   \n",
       "214                                Chicken Cordon Bleu I   \n",
       "112230                     Lisu Spice-Rubbed Roast Pork    \n",
       "60720                    Baked Tarragon Chicken Thompson   \n",
       "78367         Chicken Breasts with Pepper Jack and Bacon   \n",
       "73930                                      Spider Spoons   \n",
       "\n",
       "                                              ingredients  \\\n",
       "20747   [2 (1 ounce) squares unsweetened chocolate, ch...   \n",
       "3913    [1 cup white sugar ADVERTISEMENT, 2 tablespoon...   \n",
       "19627   [10 (1 ounce) squares unsweetened chocolate AD...   \n",
       "99884   [1/3 cup 2 percent milk, 4 tsp sugar, 1 1-inch...   \n",
       "23785   [2 teaspoons instant coffee granules ADVERTISE...   \n",
       "...                                                   ...   \n",
       "214     [4 skinless, boneless chicken breast halves AD...   \n",
       "112230  [About 2 tablespoons lard or bacon drippings, ...   \n",
       "60720   [1 cup creme fraiche, 1/2 cup dry Sherry, 1/4 ...   \n",
       "78367   [4 boneless, skinless chicken breasts, 4 1/4-i...   \n",
       "73930   [5 black pipe cleaners, 1 black plastic spoon,...   \n",
       "\n",
       "                                             instructions  \n",
       "20747   In the top of a double boiler, heat chocolate,...  \n",
       "3913    In a medium saucepan over medium heat, combine...  \n",
       "19627   In the top of a double boiler, melt unsweetene...  \n",
       "99884   Sauce: Bring first 4 ingredients to a simmer i...  \n",
       "23785   To make Pastry: Combine 1/2 cup butter, white ...  \n",
       "...                                                   ...  \n",
       "214     Preheat oven to 350 degrees F (175 degrees C)....  \n",
       "112230  Place a rack in the center of the oven and pre...  \n",
       "60720   Preheat oven to 350 degrees.\\nIn a 13 by 9-inc...  \n",
       "78367   Using a sharp knife, make a wide horizontal sl...  \n",
       "73930   Wrap 1 pipe cleaner around the fork and spoon ...  \n",
       "\n",
       "[124473 rows x 3 columns]"
      ]
     },
     "execution_count": 249,
     "metadata": {},
     "output_type": "execute_result"
    }
   ],
   "source": [
    "data.iloc[sorted_test_b[0]]"
   ]
  },
  {
   "cell_type": "code",
   "execution_count": 250,
   "metadata": {
    "ExecuteTime": {
     "end_time": "2019-11-14T09:35:40.678955Z",
     "start_time": "2019-11-14T09:35:40.663018Z"
    }
   },
   "outputs": [
    {
     "data": {
      "text/plain": [
       "\"[' ( ounce) squares unsweetened chocolate, chopped ADVERTISEMENT', '/ cup butter ADVERTISEMENT', '/ cup shortening ADVERTISEMENT', '/ cup white sugar ADVERTISEMENT', ' tablespoons water ADVERTISEMENT', ' egg yolks ADVERTISEMENT', ' teaspoons rum ADVERTISEMENT', ' teaspoon vanilla extract ADVERTISEMENT', 'ADVERTISEMENT']\""
      ]
     },
     "execution_count": 250,
     "metadata": {},
     "output_type": "execute_result"
    }
   ],
   "source": [
    "data_ingr[20747]"
   ]
  },
  {
   "cell_type": "code",
   "execution_count": 231,
   "metadata": {
    "ExecuteTime": {
     "end_time": "2019-11-14T09:18:52.944108Z",
     "start_time": "2019-11-14T09:18:52.938282Z"
    }
   },
   "outputs": [
    {
     "data": {
      "text/plain": [
       "\"[' cup white sugar ADVERTISEMENT', ' tablespoons cornstarch ADVERTISEMENT', '/ teaspoon salt ADVERTISEMENT', ' cups milk ADVERTISEMENT', ' ( ounce) squares unsweetened chocolate, chopped ADVERTISEMENT', ' egg yolks ADVERTISEMENT', ' tablespoons butter ADVERTISEMENT', ' teaspoons vanilla extract ADVERTISEMENT', 'ADVERTISEMENT']\""
      ]
     },
     "execution_count": 231,
     "metadata": {},
     "output_type": "execute_result"
    }
   ],
   "source": [
    "data_ingr[3913]"
   ]
  },
  {
   "cell_type": "markdown",
   "metadata": {},
   "source": [
    "Top recommendations for Double chocolate brownie mostly chocolate-based desserts, though the chocolate-espresso martini also got in there (only using ingredient column of data, if recommendations are based on instructions, they would likely be considered quite different)."
   ]
  },
  {
   "cell_type": "code",
   "execution_count": null,
   "metadata": {},
   "outputs": [],
   "source": []
  },
  {
   "cell_type": "code",
   "execution_count": null,
   "metadata": {},
   "outputs": [],
   "source": []
  },
  {
   "cell_type": "code",
   "execution_count": null,
   "metadata": {},
   "outputs": [],
   "source": [
    "#also tried Kmeans clustering after normalization in my original code,\n",
    "#but it wasn't immediately helpful for getting to recommendations, so it was omitted here."
   ]
  },
  {
   "cell_type": "markdown",
   "metadata": {},
   "source": [
    "##### Aside: Visualize Topics with Word Clouds?"
   ]
  },
  {
   "cell_type": "code",
   "execution_count": null,
   "metadata": {},
   "outputs": [],
   "source": []
  }
 ],
 "metadata": {
  "kernelspec": {
   "display_name": "Python [conda env:metis] *",
   "language": "python",
   "name": "conda-env-metis-py"
  },
  "language_info": {
   "codemirror_mode": {
    "name": "ipython",
    "version": 3
   },
   "file_extension": ".py",
   "mimetype": "text/x-python",
   "name": "python",
   "nbconvert_exporter": "python",
   "pygments_lexer": "ipython3",
   "version": "3.7.3"
  },
  "toc": {
   "base_numbering": 1,
   "nav_menu": {},
   "number_sections": true,
   "sideBar": true,
   "skip_h1_title": false,
   "title_cell": "Table of Contents",
   "title_sidebar": "Contents",
   "toc_cell": false,
   "toc_position": {
    "height": "calc(100% - 180px)",
    "left": "10px",
    "top": "150px",
    "width": "256px"
   },
   "toc_section_display": true,
   "toc_window_display": true
  }
 },
 "nbformat": 4,
 "nbformat_minor": 2
}
