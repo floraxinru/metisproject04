{
 "cells": [
  {
   "cell_type": "code",
   "execution_count": 1,
   "metadata": {
    "ExecuteTime": {
     "end_time": "2019-11-09T00:43:26.240277Z",
     "start_time": "2019-11-09T00:43:22.324458Z"
    }
   },
   "outputs": [
    {
     "name": "stdout",
     "output_type": "stream",
     "text": [
      "Populating the interactive namespace from numpy and matplotlib\n"
     ]
    }
   ],
   "source": [
    "import pandas as pd\n",
    "import numpy as np\n",
    "\n",
    "import matplotlib.pyplot as plt\n",
    "import seaborn as sns\n",
    "%matplotlib inline\n",
    "\n",
    "# import sklearn\n",
    "from sklearn.feature_extraction.text import CountVectorizer \n",
    "from sklearn.feature_extraction.text import TfidfVectorizer  # TF-IDF\n",
    "from sklearn.preprocessing import scale\n",
    "from sklearn.cluster import KMeans\n",
    "from sklearn.decomposition import TruncatedSVD\n",
    "from sklearn.decomposition import NMF\n",
    "from sklearn.metrics.pairwise import cosine_similarity\n",
    "\n",
    "import nltk\n",
    "import spacy #for faster tokenization and lemmatization\n",
    "\n",
    "from sklearn.model_selection import train_test_split\n",
    "from sklearn.metrics import confusion_matrix\n",
    "\n",
    "import re\n",
    "import string\n",
    "\n",
    "import project4_functions\n",
    "\n",
    "%pylab inline"
   ]
  },
  {
   "cell_type": "code",
   "execution_count": 2,
   "metadata": {
    "ExecuteTime": {
     "end_time": "2019-11-09T00:43:27.030941Z",
     "start_time": "2019-11-09T00:43:26.243922Z"
    }
   },
   "outputs": [],
   "source": [
    "cdata = pd.read_json (r'/Users/xinrucheng/Documents/GitHub/metisproject04/data/raw/whats-cooking/train.json')"
   ]
  },
  {
   "cell_type": "code",
   "execution_count": 3,
   "metadata": {
    "ExecuteTime": {
     "end_time": "2019-11-09T00:43:27.061914Z",
     "start_time": "2019-11-09T00:43:27.034418Z"
    }
   },
   "outputs": [
    {
     "data": {
      "text/html": [
       "<div>\n",
       "<style scoped>\n",
       "    .dataframe tbody tr th:only-of-type {\n",
       "        vertical-align: middle;\n",
       "    }\n",
       "\n",
       "    .dataframe tbody tr th {\n",
       "        vertical-align: top;\n",
       "    }\n",
       "\n",
       "    .dataframe thead th {\n",
       "        text-align: right;\n",
       "    }\n",
       "</style>\n",
       "<table border=\"1\" class=\"dataframe\">\n",
       "  <thead>\n",
       "    <tr style=\"text-align: right;\">\n",
       "      <th></th>\n",
       "      <th>id</th>\n",
       "      <th>cuisine</th>\n",
       "      <th>ingredients</th>\n",
       "    </tr>\n",
       "  </thead>\n",
       "  <tbody>\n",
       "    <tr>\n",
       "      <td>0</td>\n",
       "      <td>10259</td>\n",
       "      <td>greek</td>\n",
       "      <td>[romaine lettuce, black olives, grape tomatoes...</td>\n",
       "    </tr>\n",
       "    <tr>\n",
       "      <td>1</td>\n",
       "      <td>25693</td>\n",
       "      <td>southern_us</td>\n",
       "      <td>[plain flour, ground pepper, salt, tomatoes, g...</td>\n",
       "    </tr>\n",
       "    <tr>\n",
       "      <td>2</td>\n",
       "      <td>20130</td>\n",
       "      <td>filipino</td>\n",
       "      <td>[eggs, pepper, salt, mayonaise, cooking oil, g...</td>\n",
       "    </tr>\n",
       "    <tr>\n",
       "      <td>3</td>\n",
       "      <td>22213</td>\n",
       "      <td>indian</td>\n",
       "      <td>[water, vegetable oil, wheat, salt]</td>\n",
       "    </tr>\n",
       "    <tr>\n",
       "      <td>4</td>\n",
       "      <td>13162</td>\n",
       "      <td>indian</td>\n",
       "      <td>[black pepper, shallots, cornflour, cayenne pe...</td>\n",
       "    </tr>\n",
       "  </tbody>\n",
       "</table>\n",
       "</div>"
      ],
      "text/plain": [
       "      id      cuisine                                        ingredients\n",
       "0  10259        greek  [romaine lettuce, black olives, grape tomatoes...\n",
       "1  25693  southern_us  [plain flour, ground pepper, salt, tomatoes, g...\n",
       "2  20130     filipino  [eggs, pepper, salt, mayonaise, cooking oil, g...\n",
       "3  22213       indian                [water, vegetable oil, wheat, salt]\n",
       "4  13162       indian  [black pepper, shallots, cornflour, cayenne pe..."
      ]
     },
     "execution_count": 3,
     "metadata": {},
     "output_type": "execute_result"
    }
   ],
   "source": [
    "cdata.head()"
   ]
  },
  {
   "cell_type": "code",
   "execution_count": 4,
   "metadata": {
    "ExecuteTime": {
     "end_time": "2019-11-09T00:43:27.100628Z",
     "start_time": "2019-11-09T00:43:27.065421Z"
    }
   },
   "outputs": [
    {
     "name": "stdout",
     "output_type": "stream",
     "text": [
      "<class 'pandas.core.frame.DataFrame'>\n",
      "RangeIndex: 39774 entries, 0 to 39773\n",
      "Data columns (total 3 columns):\n",
      "id             39774 non-null int64\n",
      "cuisine        39774 non-null object\n",
      "ingredients    39774 non-null object\n",
      "dtypes: int64(1), object(2)\n",
      "memory usage: 932.3+ KB\n"
     ]
    }
   ],
   "source": [
    "cdata.info()"
   ]
  },
  {
   "cell_type": "code",
   "execution_count": 5,
   "metadata": {
    "ExecuteTime": {
     "end_time": "2019-11-09T00:43:27.118042Z",
     "start_time": "2019-11-09T00:43:27.103985Z"
    }
   },
   "outputs": [
    {
     "data": {
      "text/plain": [
       "20"
      ]
     },
     "execution_count": 5,
     "metadata": {},
     "output_type": "execute_result"
    }
   ],
   "source": [
    "cdata['cuisine'].nunique()"
   ]
  },
  {
   "cell_type": "code",
   "execution_count": 6,
   "metadata": {
    "ExecuteTime": {
     "end_time": "2019-11-09T00:43:27.149865Z",
     "start_time": "2019-11-09T00:43:27.129483Z"
    }
   },
   "outputs": [
    {
     "data": {
      "text/plain": [
       "array(['greek', 'southern_us', 'filipino', 'indian', 'jamaican',\n",
       "       'spanish', 'italian', 'mexican', 'chinese', 'british', 'thai',\n",
       "       'vietnamese', 'cajun_creole', 'brazilian', 'french', 'japanese',\n",
       "       'irish', 'korean', 'moroccan', 'russian'], dtype=object)"
      ]
     },
     "execution_count": 6,
     "metadata": {},
     "output_type": "execute_result"
    }
   ],
   "source": [
    "cdata['cuisine'].unique()"
   ]
  },
  {
   "cell_type": "markdown",
   "metadata": {},
   "source": [
    "-----"
   ]
  },
  {
   "cell_type": "code",
   "execution_count": 7,
   "metadata": {
    "ExecuteTime": {
     "end_time": "2019-11-09T00:43:27.165837Z",
     "start_time": "2019-11-09T00:43:27.153512Z"
    }
   },
   "outputs": [],
   "source": [
    "#put ADVERTISEMENT in regex function instead of adding to nltk stopwords list"
   ]
  },
  {
   "cell_type": "code",
   "execution_count": 8,
   "metadata": {
    "ExecuteTime": {
     "end_time": "2019-11-09T00:43:27.559097Z",
     "start_time": "2019-11-09T00:43:27.176666Z"
    }
   },
   "outputs": [
    {
     "data": {
      "text/plain": [
       "0        ['romaine lettuce', 'black olives', 'grape tom...\n",
       "1        ['plain flour', 'ground pepper', 'salt', 'toma...\n",
       "2        ['eggs', 'pepper', 'salt', 'mayonaise', 'cooki...\n",
       "3              ['water', 'vegetable oil', 'wheat', 'salt']\n",
       "4        ['black pepper', 'shallots', 'cornflour', 'cay...\n",
       "                               ...                        \n",
       "39769    ['light brown sugar', 'granulated sugar', 'but...\n",
       "39770    ['KRAFT Zesty Italian Dressing', 'purple onion...\n",
       "39771    ['eggs', 'citrus fruit', 'raisins', 'sourdough...\n",
       "39772    ['boneless chicken skinless thigh', 'minced ga...\n",
       "39773    ['green chile', 'jalapeno chilies', 'onions', ...\n",
       "Name: ingredients, Length: 39774, dtype: object"
      ]
     },
     "execution_count": 8,
     "metadata": {},
     "output_type": "execute_result"
    }
   ],
   "source": [
    "cmod=cdata['ingredients'].apply(project4_functions.regex_nodigits_new)\n",
    "cmod"
   ]
  },
  {
   "cell_type": "code",
   "execution_count": 9,
   "metadata": {
    "ExecuteTime": {
     "end_time": "2019-11-09T00:43:27.566692Z",
     "start_time": "2019-11-09T00:43:27.562474Z"
    }
   },
   "outputs": [],
   "source": [
    "#removed digits successfully, need to remove [] and \\n also, should be included in vectorizer\n",
    "#-- but why is regex ftn not doing that?\n"
   ]
  },
  {
   "cell_type": "code",
   "execution_count": 10,
   "metadata": {
    "ExecuteTime": {
     "end_time": "2019-11-09T00:43:27.577559Z",
     "start_time": "2019-11-09T00:43:27.570448Z"
    }
   },
   "outputs": [
    {
     "data": {
      "text/plain": [
       "39774"
      ]
     },
     "execution_count": 10,
     "metadata": {},
     "output_type": "execute_result"
    }
   ],
   "source": [
    "len(cmod) #length correct but all 1st recipe\n",
    "#if return s in nodigits ftn, len=661 much shorter than expected, why?"
   ]
  },
  {
   "cell_type": "code",
   "execution_count": 11,
   "metadata": {
    "ExecuteTime": {
     "end_time": "2019-11-09T00:43:28.936335Z",
     "start_time": "2019-11-09T00:43:27.580381Z"
    }
   },
   "outputs": [
    {
     "data": {
      "text/plain": [
       "(39774, 2958)"
      ]
     },
     "execution_count": 11,
     "metadata": {},
     "output_type": "execute_result"
    }
   ],
   "source": [
    "test=pd.Series(cmod)\n",
    "vectorizer = CountVectorizer(stop_words='english')\n",
    "doc_word = vectorizer.fit_transform(test)\n",
    "doc_word.shape"
   ]
  },
  {
   "cell_type": "code",
   "execution_count": 12,
   "metadata": {
    "ExecuteTime": {
     "end_time": "2019-11-09T00:43:28.946038Z",
     "start_time": "2019-11-09T00:43:28.939336Z"
    }
   },
   "outputs": [
    {
     "data": {
      "text/plain": [
       "scipy.sparse.csr.csr_matrix"
      ]
     },
     "execution_count": 12,
     "metadata": {},
     "output_type": "execute_result"
    }
   ],
   "source": [
    "type(doc_word)"
   ]
  },
  {
   "cell_type": "code",
   "execution_count": 13,
   "metadata": {
    "ExecuteTime": {
     "end_time": "2019-11-09T00:43:29.591545Z",
     "start_time": "2019-11-09T00:43:28.948637Z"
    }
   },
   "outputs": [
    {
     "data": {
      "text/plain": [
       "array([0.05469238, 0.03920751, 0.03985984, 0.03390681, 0.03084459,\n",
       "       0.02539434, 0.0231474 , 0.02131703, 0.01859195, 0.01583114])"
      ]
     },
     "execution_count": 13,
     "metadata": {},
     "output_type": "execute_result"
    }
   ],
   "source": [
    "#dim reduction (LSA) on wsc data, ingredients column only:\n",
    "\n",
    "#from topic modelling LSA/NMF notebook:\n",
    "# Acronynms: Latent Semantic Analysis (LSA) is just another name for \n",
    "#  Signular Value Decomposition (SVD) applied to Natural Language Processing (NLP)\n",
    "lsa = TruncatedSVD(10)  \n",
    "#TruncatedSVD--cuts off 0s (singular values) in decomposition result, just keeps important ones\n",
    "#docstring for TruncatedSVD says this does not center the data!\n",
    "doc_topic = lsa.fit_transform(doc_word)\n",
    "lsa.explained_variance_ratio_  #variance for topics!"
   ]
  },
  {
   "cell_type": "code",
   "execution_count": 14,
   "metadata": {
    "ExecuteTime": {
     "end_time": "2019-11-09T00:43:29.695919Z",
     "start_time": "2019-11-09T00:43:29.596823Z"
    }
   },
   "outputs": [
    {
     "data": {
      "text/html": [
       "<div>\n",
       "<style scoped>\n",
       "    .dataframe tbody tr th:only-of-type {\n",
       "        vertical-align: middle;\n",
       "    }\n",
       "\n",
       "    .dataframe tbody tr th {\n",
       "        vertical-align: top;\n",
       "    }\n",
       "\n",
       "    .dataframe thead th {\n",
       "        text-align: right;\n",
       "    }\n",
       "</style>\n",
       "<table border=\"1\" class=\"dataframe\">\n",
       "  <thead>\n",
       "    <tr style=\"text-align: right;\">\n",
       "      <th></th>\n",
       "      <th>abalone</th>\n",
       "      <th>abbamele</th>\n",
       "      <th>absinthe</th>\n",
       "      <th>abura</th>\n",
       "      <th>acai</th>\n",
       "      <th>accent</th>\n",
       "      <th>accompaniment</th>\n",
       "      <th>achiote</th>\n",
       "      <th>acid</th>\n",
       "      <th>acini</th>\n",
       "      <th>...</th>\n",
       "      <th>za</th>\n",
       "      <th>zatarain</th>\n",
       "      <th>zatarains</th>\n",
       "      <th>zero</th>\n",
       "      <th>zest</th>\n",
       "      <th>zesty</th>\n",
       "      <th>zinfandel</th>\n",
       "      <th>ziti</th>\n",
       "      <th>zucchini</th>\n",
       "      <th>épices</th>\n",
       "    </tr>\n",
       "  </thead>\n",
       "  <tbody>\n",
       "    <tr>\n",
       "      <td>0</td>\n",
       "      <td>0.00001</td>\n",
       "      <td>0.00001</td>\n",
       "      <td>0.0</td>\n",
       "      <td>0.00002</td>\n",
       "      <td>0.00001</td>\n",
       "      <td>0.00009</td>\n",
       "      <td>0.00001</td>\n",
       "      <td>0.00023</td>\n",
       "      <td>0.00007</td>\n",
       "      <td>0.00003</td>\n",
       "      <td>...</td>\n",
       "      <td>0.00003</td>\n",
       "      <td>0.00000</td>\n",
       "      <td>0.00001</td>\n",
       "      <td>0.00002</td>\n",
       "      <td>0.00991</td>\n",
       "      <td>0.00018</td>\n",
       "      <td>0.00010</td>\n",
       "      <td>0.00046</td>\n",
       "      <td>0.01247</td>\n",
       "      <td>0.00003</td>\n",
       "    </tr>\n",
       "    <tr>\n",
       "      <td>1</td>\n",
       "      <td>0.00003</td>\n",
       "      <td>0.00000</td>\n",
       "      <td>0.0</td>\n",
       "      <td>0.00010</td>\n",
       "      <td>0.00008</td>\n",
       "      <td>0.00009</td>\n",
       "      <td>0.00005</td>\n",
       "      <td>-0.00005</td>\n",
       "      <td>0.00004</td>\n",
       "      <td>-0.00004</td>\n",
       "      <td>...</td>\n",
       "      <td>-0.00002</td>\n",
       "      <td>0.00000</td>\n",
       "      <td>0.00000</td>\n",
       "      <td>0.00006</td>\n",
       "      <td>0.01240</td>\n",
       "      <td>-0.00027</td>\n",
       "      <td>0.00000</td>\n",
       "      <td>-0.00052</td>\n",
       "      <td>-0.01105</td>\n",
       "      <td>0.00007</td>\n",
       "    </tr>\n",
       "    <tr>\n",
       "      <td>2</td>\n",
       "      <td>0.00005</td>\n",
       "      <td>0.00000</td>\n",
       "      <td>-0.0</td>\n",
       "      <td>0.00006</td>\n",
       "      <td>-0.00003</td>\n",
       "      <td>0.00022</td>\n",
       "      <td>-0.00003</td>\n",
       "      <td>0.00011</td>\n",
       "      <td>0.00003</td>\n",
       "      <td>-0.00003</td>\n",
       "      <td>...</td>\n",
       "      <td>-0.00003</td>\n",
       "      <td>0.00001</td>\n",
       "      <td>0.00001</td>\n",
       "      <td>0.00001</td>\n",
       "      <td>-0.00937</td>\n",
       "      <td>-0.00015</td>\n",
       "      <td>-0.00001</td>\n",
       "      <td>-0.00051</td>\n",
       "      <td>0.00191</td>\n",
       "      <td>-0.00006</td>\n",
       "    </tr>\n",
       "    <tr>\n",
       "      <td>3</td>\n",
       "      <td>-0.00003</td>\n",
       "      <td>0.00005</td>\n",
       "      <td>0.0</td>\n",
       "      <td>-0.00004</td>\n",
       "      <td>0.00003</td>\n",
       "      <td>-0.00025</td>\n",
       "      <td>0.00005</td>\n",
       "      <td>0.00019</td>\n",
       "      <td>-0.00006</td>\n",
       "      <td>0.00008</td>\n",
       "      <td>...</td>\n",
       "      <td>-0.00000</td>\n",
       "      <td>-0.00001</td>\n",
       "      <td>0.00001</td>\n",
       "      <td>-0.00008</td>\n",
       "      <td>0.02575</td>\n",
       "      <td>-0.00005</td>\n",
       "      <td>0.00032</td>\n",
       "      <td>0.00042</td>\n",
       "      <td>0.00620</td>\n",
       "      <td>0.00004</td>\n",
       "    </tr>\n",
       "    <tr>\n",
       "      <td>4</td>\n",
       "      <td>-0.00001</td>\n",
       "      <td>-0.00003</td>\n",
       "      <td>0.0</td>\n",
       "      <td>0.00000</td>\n",
       "      <td>0.00001</td>\n",
       "      <td>0.00008</td>\n",
       "      <td>0.00002</td>\n",
       "      <td>0.00017</td>\n",
       "      <td>0.00004</td>\n",
       "      <td>-0.00008</td>\n",
       "      <td>...</td>\n",
       "      <td>0.00005</td>\n",
       "      <td>-0.00001</td>\n",
       "      <td>-0.00002</td>\n",
       "      <td>0.00002</td>\n",
       "      <td>0.00723</td>\n",
       "      <td>-0.00064</td>\n",
       "      <td>-0.00006</td>\n",
       "      <td>-0.00152</td>\n",
       "      <td>-0.01279</td>\n",
       "      <td>0.00005</td>\n",
       "    </tr>\n",
       "    <tr>\n",
       "      <td>5</td>\n",
       "      <td>-0.00003</td>\n",
       "      <td>0.00001</td>\n",
       "      <td>-0.0</td>\n",
       "      <td>-0.00001</td>\n",
       "      <td>-0.00003</td>\n",
       "      <td>0.00006</td>\n",
       "      <td>-0.00003</td>\n",
       "      <td>-0.00007</td>\n",
       "      <td>-0.00011</td>\n",
       "      <td>0.00003</td>\n",
       "      <td>...</td>\n",
       "      <td>-0.00007</td>\n",
       "      <td>0.00003</td>\n",
       "      <td>-0.00005</td>\n",
       "      <td>0.00003</td>\n",
       "      <td>-0.01171</td>\n",
       "      <td>0.00084</td>\n",
       "      <td>0.00003</td>\n",
       "      <td>0.00083</td>\n",
       "      <td>-0.00015</td>\n",
       "      <td>-0.00008</td>\n",
       "    </tr>\n",
       "    <tr>\n",
       "      <td>6</td>\n",
       "      <td>-0.00003</td>\n",
       "      <td>-0.00002</td>\n",
       "      <td>0.0</td>\n",
       "      <td>0.00000</td>\n",
       "      <td>0.00001</td>\n",
       "      <td>-0.00024</td>\n",
       "      <td>0.00004</td>\n",
       "      <td>0.00012</td>\n",
       "      <td>0.00005</td>\n",
       "      <td>-0.00004</td>\n",
       "      <td>...</td>\n",
       "      <td>0.00004</td>\n",
       "      <td>0.00001</td>\n",
       "      <td>-0.00004</td>\n",
       "      <td>0.00006</td>\n",
       "      <td>0.00729</td>\n",
       "      <td>0.00048</td>\n",
       "      <td>0.00010</td>\n",
       "      <td>-0.00129</td>\n",
       "      <td>-0.00568</td>\n",
       "      <td>0.00011</td>\n",
       "    </tr>\n",
       "    <tr>\n",
       "      <td>7</td>\n",
       "      <td>0.00000</td>\n",
       "      <td>0.00005</td>\n",
       "      <td>-0.0</td>\n",
       "      <td>-0.00004</td>\n",
       "      <td>0.00004</td>\n",
       "      <td>-0.00003</td>\n",
       "      <td>-0.00000</td>\n",
       "      <td>0.00062</td>\n",
       "      <td>0.00005</td>\n",
       "      <td>-0.00004</td>\n",
       "      <td>...</td>\n",
       "      <td>0.00002</td>\n",
       "      <td>0.00005</td>\n",
       "      <td>0.00003</td>\n",
       "      <td>0.00002</td>\n",
       "      <td>-0.00710</td>\n",
       "      <td>-0.00011</td>\n",
       "      <td>0.00012</td>\n",
       "      <td>-0.00156</td>\n",
       "      <td>-0.00330</td>\n",
       "      <td>-0.00004</td>\n",
       "    </tr>\n",
       "    <tr>\n",
       "      <td>8</td>\n",
       "      <td>0.00006</td>\n",
       "      <td>0.00008</td>\n",
       "      <td>0.0</td>\n",
       "      <td>0.00003</td>\n",
       "      <td>-0.00004</td>\n",
       "      <td>0.00022</td>\n",
       "      <td>0.00002</td>\n",
       "      <td>-0.00021</td>\n",
       "      <td>-0.00023</td>\n",
       "      <td>0.00008</td>\n",
       "      <td>...</td>\n",
       "      <td>-0.00010</td>\n",
       "      <td>0.00004</td>\n",
       "      <td>-0.00001</td>\n",
       "      <td>-0.00019</td>\n",
       "      <td>0.01445</td>\n",
       "      <td>0.00002</td>\n",
       "      <td>0.00034</td>\n",
       "      <td>-0.00020</td>\n",
       "      <td>-0.00961</td>\n",
       "      <td>-0.00003</td>\n",
       "    </tr>\n",
       "    <tr>\n",
       "      <td>9</td>\n",
       "      <td>-0.00003</td>\n",
       "      <td>-0.00002</td>\n",
       "      <td>0.0</td>\n",
       "      <td>0.00009</td>\n",
       "      <td>0.00001</td>\n",
       "      <td>0.00024</td>\n",
       "      <td>0.00003</td>\n",
       "      <td>-0.00068</td>\n",
       "      <td>-0.00000</td>\n",
       "      <td>-0.00001</td>\n",
       "      <td>...</td>\n",
       "      <td>-0.00009</td>\n",
       "      <td>0.00005</td>\n",
       "      <td>-0.00000</td>\n",
       "      <td>-0.00009</td>\n",
       "      <td>-0.00024</td>\n",
       "      <td>-0.00006</td>\n",
       "      <td>0.00031</td>\n",
       "      <td>0.00047</td>\n",
       "      <td>0.00485</td>\n",
       "      <td>-0.00006</td>\n",
       "    </tr>\n",
       "  </tbody>\n",
       "</table>\n",
       "<p>10 rows × 2958 columns</p>\n",
       "</div>"
      ],
      "text/plain": [
       "   abalone  abbamele  absinthe    abura     acai   accent  accompaniment  \\\n",
       "0  0.00001   0.00001       0.0  0.00002  0.00001  0.00009        0.00001   \n",
       "1  0.00003   0.00000       0.0  0.00010  0.00008  0.00009        0.00005   \n",
       "2  0.00005   0.00000      -0.0  0.00006 -0.00003  0.00022       -0.00003   \n",
       "3 -0.00003   0.00005       0.0 -0.00004  0.00003 -0.00025        0.00005   \n",
       "4 -0.00001  -0.00003       0.0  0.00000  0.00001  0.00008        0.00002   \n",
       "5 -0.00003   0.00001      -0.0 -0.00001 -0.00003  0.00006       -0.00003   \n",
       "6 -0.00003  -0.00002       0.0  0.00000  0.00001 -0.00024        0.00004   \n",
       "7  0.00000   0.00005      -0.0 -0.00004  0.00004 -0.00003       -0.00000   \n",
       "8  0.00006   0.00008       0.0  0.00003 -0.00004  0.00022        0.00002   \n",
       "9 -0.00003  -0.00002       0.0  0.00009  0.00001  0.00024        0.00003   \n",
       "\n",
       "   achiote     acid    acini  ...       za  zatarain  zatarains     zero  \\\n",
       "0  0.00023  0.00007  0.00003  ...  0.00003   0.00000    0.00001  0.00002   \n",
       "1 -0.00005  0.00004 -0.00004  ... -0.00002   0.00000    0.00000  0.00006   \n",
       "2  0.00011  0.00003 -0.00003  ... -0.00003   0.00001    0.00001  0.00001   \n",
       "3  0.00019 -0.00006  0.00008  ... -0.00000  -0.00001    0.00001 -0.00008   \n",
       "4  0.00017  0.00004 -0.00008  ...  0.00005  -0.00001   -0.00002  0.00002   \n",
       "5 -0.00007 -0.00011  0.00003  ... -0.00007   0.00003   -0.00005  0.00003   \n",
       "6  0.00012  0.00005 -0.00004  ...  0.00004   0.00001   -0.00004  0.00006   \n",
       "7  0.00062  0.00005 -0.00004  ...  0.00002   0.00005    0.00003  0.00002   \n",
       "8 -0.00021 -0.00023  0.00008  ... -0.00010   0.00004   -0.00001 -0.00019   \n",
       "9 -0.00068 -0.00000 -0.00001  ... -0.00009   0.00005   -0.00000 -0.00009   \n",
       "\n",
       "      zest    zesty  zinfandel     ziti  zucchini   épices  \n",
       "0  0.00991  0.00018    0.00010  0.00046   0.01247  0.00003  \n",
       "1  0.01240 -0.00027    0.00000 -0.00052  -0.01105  0.00007  \n",
       "2 -0.00937 -0.00015   -0.00001 -0.00051   0.00191 -0.00006  \n",
       "3  0.02575 -0.00005    0.00032  0.00042   0.00620  0.00004  \n",
       "4  0.00723 -0.00064   -0.00006 -0.00152  -0.01279  0.00005  \n",
       "5 -0.01171  0.00084    0.00003  0.00083  -0.00015 -0.00008  \n",
       "6  0.00729  0.00048    0.00010 -0.00129  -0.00568  0.00011  \n",
       "7 -0.00710 -0.00011    0.00012 -0.00156  -0.00330 -0.00004  \n",
       "8  0.01445  0.00002    0.00034 -0.00020  -0.00961 -0.00003  \n",
       "9 -0.00024 -0.00006    0.00031  0.00047   0.00485 -0.00006  \n",
       "\n",
       "[10 rows x 2958 columns]"
      ]
     },
     "execution_count": 14,
     "metadata": {},
     "output_type": "execute_result"
    }
   ],
   "source": [
    "topic_word = pd.DataFrame(lsa.components_.round(5),\n",
    "             columns = vectorizer.get_feature_names()) #index = [\"component_1\",\"component_2\"],\n",
    "topic_word"
   ]
  },
  {
   "cell_type": "code",
   "execution_count": 15,
   "metadata": {
    "ExecuteTime": {
     "end_time": "2019-11-09T00:43:29.755514Z",
     "start_time": "2019-11-09T00:43:29.727750Z"
    }
   },
   "outputs": [
    {
     "name": "stdout",
     "output_type": "stream",
     "text": [
      "\n",
      "Topic  0\n",
      "pepper, oil, salt, ground, garlic, fresh, sauce, onions, black, chicken\n",
      "\n",
      "Topic  1\n",
      "sugar, flour, sauce, butter, eggs, purpose, water, baking, milk, large\n",
      "\n",
      "Topic  2\n",
      "sauce, oil, soy, sesame, rice, garlic, onions, ginger, chicken, green\n",
      "\n",
      "Topic  3\n",
      "fresh, juice, olive, lemon, chopped, cheese, lime, cloves, oil, parsley\n",
      "\n",
      "Topic  4\n",
      "ground, fresh, cumin, ginger, cilantro, juice, coriander, cinnamon, lime, turmeric\n",
      "\n",
      "Topic  5\n",
      "cheese, chicken, cream, sauce, shredded, ground, cilantro, onions, green, chopped\n",
      "\n",
      "Topic  6\n",
      "pepper, fresh, bell, green, juice, lime, red, chopped, cilantro, chicken\n",
      "\n",
      "Topic  7\n",
      "chicken, powder, oil, salt, broth, onions, tomatoes, olive, garlic, cumin\n",
      "\n",
      "Topic  8\n",
      "chicken, broth, ground, boneless, skinless, white, sodium, butter, wine, breasts\n",
      "\n",
      "Topic  9\n",
      "onions, green, water, fresh, butter, parsley, tomatoes, ground, celery, leaves\n"
     ]
    }
   ],
   "source": [
    "project4_functions.display_topics(lsa, vectorizer.get_feature_names(), 10)"
   ]
  },
  {
   "cell_type": "code",
   "execution_count": 16,
   "metadata": {
    "ExecuteTime": {
     "end_time": "2019-11-09T00:43:29.818169Z",
     "start_time": "2019-11-09T00:43:29.765058Z"
    }
   },
   "outputs": [
    {
     "data": {
      "text/html": [
       "<div>\n",
       "<style scoped>\n",
       "    .dataframe tbody tr th:only-of-type {\n",
       "        vertical-align: middle;\n",
       "    }\n",
       "\n",
       "    .dataframe tbody tr th {\n",
       "        vertical-align: top;\n",
       "    }\n",
       "\n",
       "    .dataframe thead th {\n",
       "        text-align: right;\n",
       "    }\n",
       "</style>\n",
       "<table border=\"1\" class=\"dataframe\">\n",
       "  <thead>\n",
       "    <tr style=\"text-align: right;\">\n",
       "      <th></th>\n",
       "      <th>0</th>\n",
       "      <th>1</th>\n",
       "      <th>2</th>\n",
       "      <th>3</th>\n",
       "      <th>4</th>\n",
       "      <th>5</th>\n",
       "      <th>6</th>\n",
       "      <th>7</th>\n",
       "      <th>8</th>\n",
       "      <th>9</th>\n",
       "    </tr>\n",
       "  </thead>\n",
       "  <tbody>\n",
       "    <tr>\n",
       "      <td>0</td>\n",
       "      <td>1.30098</td>\n",
       "      <td>-0.84635</td>\n",
       "      <td>-0.30508</td>\n",
       "      <td>-0.20061</td>\n",
       "      <td>-0.82243</td>\n",
       "      <td>0.41008</td>\n",
       "      <td>-0.00268</td>\n",
       "      <td>-0.22122</td>\n",
       "      <td>-0.46641</td>\n",
       "      <td>-0.55618</td>\n",
       "    </tr>\n",
       "    <tr>\n",
       "      <td>1</td>\n",
       "      <td>2.86948</td>\n",
       "      <td>-0.36027</td>\n",
       "      <td>-1.30699</td>\n",
       "      <td>-1.20747</td>\n",
       "      <td>0.29918</td>\n",
       "      <td>-0.50620</td>\n",
       "      <td>-0.05337</td>\n",
       "      <td>-0.13468</td>\n",
       "      <td>-0.22841</td>\n",
       "      <td>0.29912</td>\n",
       "    </tr>\n",
       "    <tr>\n",
       "      <td>2</td>\n",
       "      <td>2.38582</td>\n",
       "      <td>0.66339</td>\n",
       "      <td>0.62161</td>\n",
       "      <td>-0.82463</td>\n",
       "      <td>-0.60551</td>\n",
       "      <td>0.40178</td>\n",
       "      <td>0.38794</td>\n",
       "      <td>0.99214</td>\n",
       "      <td>0.62451</td>\n",
       "      <td>-0.77200</td>\n",
       "    </tr>\n",
       "    <tr>\n",
       "      <td>3</td>\n",
       "      <td>0.78745</td>\n",
       "      <td>0.42585</td>\n",
       "      <td>0.09000</td>\n",
       "      <td>0.06970</td>\n",
       "      <td>-0.06087</td>\n",
       "      <td>-0.51041</td>\n",
       "      <td>-0.51289</td>\n",
       "      <td>0.46342</td>\n",
       "      <td>-0.25974</td>\n",
       "      <td>-0.02600</td>\n",
       "    </tr>\n",
       "    <tr>\n",
       "      <td>4</td>\n",
       "      <td>3.35583</td>\n",
       "      <td>-0.02829</td>\n",
       "      <td>-0.68810</td>\n",
       "      <td>-0.99802</td>\n",
       "      <td>0.39396</td>\n",
       "      <td>0.00828</td>\n",
       "      <td>0.55928</td>\n",
       "      <td>0.99479</td>\n",
       "      <td>0.25718</td>\n",
       "      <td>0.00884</td>\n",
       "    </tr>\n",
       "    <tr>\n",
       "      <td>...</td>\n",
       "      <td>...</td>\n",
       "      <td>...</td>\n",
       "      <td>...</td>\n",
       "      <td>...</td>\n",
       "      <td>...</td>\n",
       "      <td>...</td>\n",
       "      <td>...</td>\n",
       "      <td>...</td>\n",
       "      <td>...</td>\n",
       "      <td>...</td>\n",
       "    </tr>\n",
       "    <tr>\n",
       "      <td>39769</td>\n",
       "      <td>1.32952</td>\n",
       "      <td>2.94040</td>\n",
       "      <td>-1.33512</td>\n",
       "      <td>0.30671</td>\n",
       "      <td>-0.38576</td>\n",
       "      <td>-0.80465</td>\n",
       "      <td>0.33169</td>\n",
       "      <td>-0.06185</td>\n",
       "      <td>0.08831</td>\n",
       "      <td>0.49779</td>\n",
       "    </tr>\n",
       "    <tr>\n",
       "      <td>39770</td>\n",
       "      <td>1.06608</td>\n",
       "      <td>-0.74332</td>\n",
       "      <td>-0.43467</td>\n",
       "      <td>-0.16080</td>\n",
       "      <td>-1.03160</td>\n",
       "      <td>0.20231</td>\n",
       "      <td>0.07055</td>\n",
       "      <td>-0.79044</td>\n",
       "      <td>-0.08499</td>\n",
       "      <td>-0.52348</td>\n",
       "    </tr>\n",
       "    <tr>\n",
       "      <td>39771</td>\n",
       "      <td>1.32729</td>\n",
       "      <td>1.21214</td>\n",
       "      <td>-1.74558</td>\n",
       "      <td>-0.42715</td>\n",
       "      <td>1.06681</td>\n",
       "      <td>-0.06795</td>\n",
       "      <td>-0.34693</td>\n",
       "      <td>-0.46602</td>\n",
       "      <td>0.45400</td>\n",
       "      <td>0.38075</td>\n",
       "    </tr>\n",
       "    <tr>\n",
       "      <td>39772</td>\n",
       "      <td>2.94254</td>\n",
       "      <td>2.55612</td>\n",
       "      <td>1.70647</td>\n",
       "      <td>-0.01549</td>\n",
       "      <td>0.13156</td>\n",
       "      <td>0.26542</td>\n",
       "      <td>-0.10113</td>\n",
       "      <td>0.99503</td>\n",
       "      <td>1.61689</td>\n",
       "      <td>-1.06701</td>\n",
       "    </tr>\n",
       "    <tr>\n",
       "      <td>39773</td>\n",
       "      <td>3.23983</td>\n",
       "      <td>-0.84458</td>\n",
       "      <td>-0.30146</td>\n",
       "      <td>-0.53443</td>\n",
       "      <td>0.15804</td>\n",
       "      <td>0.10239</td>\n",
       "      <td>1.51999</td>\n",
       "      <td>-0.18264</td>\n",
       "      <td>-0.76224</td>\n",
       "      <td>0.99082</td>\n",
       "    </tr>\n",
       "  </tbody>\n",
       "</table>\n",
       "<p>39774 rows × 10 columns</p>\n",
       "</div>"
      ],
      "text/plain": [
       "             0        1        2        3        4        5        6        7  \\\n",
       "0      1.30098 -0.84635 -0.30508 -0.20061 -0.82243  0.41008 -0.00268 -0.22122   \n",
       "1      2.86948 -0.36027 -1.30699 -1.20747  0.29918 -0.50620 -0.05337 -0.13468   \n",
       "2      2.38582  0.66339  0.62161 -0.82463 -0.60551  0.40178  0.38794  0.99214   \n",
       "3      0.78745  0.42585  0.09000  0.06970 -0.06087 -0.51041 -0.51289  0.46342   \n",
       "4      3.35583 -0.02829 -0.68810 -0.99802  0.39396  0.00828  0.55928  0.99479   \n",
       "...        ...      ...      ...      ...      ...      ...      ...      ...   \n",
       "39769  1.32952  2.94040 -1.33512  0.30671 -0.38576 -0.80465  0.33169 -0.06185   \n",
       "39770  1.06608 -0.74332 -0.43467 -0.16080 -1.03160  0.20231  0.07055 -0.79044   \n",
       "39771  1.32729  1.21214 -1.74558 -0.42715  1.06681 -0.06795 -0.34693 -0.46602   \n",
       "39772  2.94254  2.55612  1.70647 -0.01549  0.13156  0.26542 -0.10113  0.99503   \n",
       "39773  3.23983 -0.84458 -0.30146 -0.53443  0.15804  0.10239  1.51999 -0.18264   \n",
       "\n",
       "             8        9  \n",
       "0     -0.46641 -0.55618  \n",
       "1     -0.22841  0.29912  \n",
       "2      0.62451 -0.77200  \n",
       "3     -0.25974 -0.02600  \n",
       "4      0.25718  0.00884  \n",
       "...        ...      ...  \n",
       "39769  0.08831  0.49779  \n",
       "39770 -0.08499 -0.52348  \n",
       "39771  0.45400  0.38075  \n",
       "39772  1.61689 -1.06701  \n",
       "39773 -0.76224  0.99082  \n",
       "\n",
       "[39774 rows x 10 columns]"
      ]
     },
     "execution_count": 16,
     "metadata": {},
     "output_type": "execute_result"
    }
   ],
   "source": [
    "Vt = pd.DataFrame(doc_topic.round(5))\n",
    "Vt"
   ]
  },
  {
   "cell_type": "code",
   "execution_count": 17,
   "metadata": {
    "ExecuteTime": {
     "end_time": "2019-11-09T00:43:29.827038Z",
     "start_time": "2019-11-09T00:43:29.821220Z"
    }
   },
   "outputs": [],
   "source": [
    "from sklearn.metrics.pairwise import cosine_similarity"
   ]
  },
  {
   "cell_type": "code",
   "execution_count": 18,
   "metadata": {
    "ExecuteTime": {
     "end_time": "2019-11-09T00:56:56.978073Z",
     "start_time": "2019-11-09T00:43:29.829605Z"
    }
   },
   "outputs": [
    {
     "data": {
      "text/plain": [
       "array([[1.   , 0.25 , 0.16 , ..., 0.   , 0.035, 0.241],\n",
       "       [0.25 , 1.   , 0.298, ..., 0.367, 0.112, 0.462],\n",
       "       [0.16 , 0.298, 1.   , ..., 0.147, 0.299, 0.287],\n",
       "       ...,\n",
       "       [0.   , 0.367, 0.147, ..., 1.   , 0.096, 0.177],\n",
       "       [0.035, 0.112, 0.299, ..., 0.096, 1.   , 0.135],\n",
       "       [0.241, 0.462, 0.287, ..., 0.177, 0.135, 1.   ]])"
      ]
     },
     "execution_count": 18,
     "metadata": {},
     "output_type": "execute_result"
    }
   ],
   "source": [
    "cosine_similarity(doc_word).round(3) #faster than prev (15~16mins instead of 41), but still almost crashed"
   ]
  },
  {
   "cell_type": "code",
   "execution_count": 19,
   "metadata": {
    "ExecuteTime": {
     "end_time": "2019-11-09T00:56:57.336661Z",
     "start_time": "2019-11-09T00:56:57.006675Z"
    }
   },
   "outputs": [
    {
     "name": "stdout",
     "output_type": "stream",
     "text": [
      "Populating the interactive namespace from numpy and matplotlib\n"
     ]
    },
    {
     "name": "stderr",
     "output_type": "stream",
     "text": [
      "/Library/anaconda/envs/metis/lib/python3.7/site-packages/IPython/core/magics/pylab.py:160: UserWarning: pylab import has clobbered these variables: ['shuffle', 'test']\n",
      "`%matplotlib` prevents importing * from pylab and numpy\n",
      "  \"\\n`%matplotlib` prevents importing * from pylab and numpy\"\n"
     ]
    }
   ],
   "source": [
    "#try clustering?\n",
    "from sklearn.preprocessing import scale\n",
    "from sklearn.cluster import KMeans\n",
    "from sklearn.datasets import make_blobs\n",
    "from sklearn.datasets import fetch_mldata\n",
    "from sklearn.utils import shuffle\n",
    "\n",
    "import matplotlib.pyplot as plt\n",
    "import seaborn as sns\n",
    "\n",
    "# see https://ipython.readthedocs.io/en/stable/interactive/magics.html\n",
    "%pylab inline\n",
    "\n",
    "# sets backend to render higher res images\n",
    "%config InlineBackend.figure_formats = ['retina']"
   ]
  },
  {
   "cell_type": "code",
   "execution_count": 20,
   "metadata": {
    "ExecuteTime": {
     "end_time": "2019-11-09T00:57:00.031855Z",
     "start_time": "2019-11-09T00:56:57.344612Z"
    }
   },
   "outputs": [
    {
     "ename": "TypeError",
     "evalue": "'(array([False, False, False,  True, False, False, False, False, False,\n       False]), 0)' is an invalid key",
     "output_type": "error",
     "traceback": [
      "\u001b[0;31m---------------------------------------------------------------------------\u001b[0m",
      "\u001b[0;31mTypeError\u001b[0m                                 Traceback (most recent call last)",
      "\u001b[0;32m<ipython-input-20-68c9656e8cc0>\u001b[0m in \u001b[0;36m<module>\u001b[0;34m\u001b[0m\n\u001b[1;32m      2\u001b[0m \u001b[0mkm\u001b[0m \u001b[0;34m=\u001b[0m \u001b[0mKMeans\u001b[0m\u001b[0;34m(\u001b[0m\u001b[0mn_clusters\u001b[0m\u001b[0;34m=\u001b[0m\u001b[0mnum_clusters\u001b[0m\u001b[0;34m)\u001b[0m\u001b[0;34m\u001b[0m\u001b[0;34m\u001b[0m\u001b[0m\n\u001b[1;32m      3\u001b[0m \u001b[0mkm\u001b[0m\u001b[0;34m.\u001b[0m\u001b[0mfit\u001b[0m\u001b[0;34m(\u001b[0m\u001b[0mtopic_word\u001b[0m\u001b[0;34m)\u001b[0m\u001b[0;34m\u001b[0m\u001b[0;34m\u001b[0m\u001b[0m\n\u001b[0;32m----> 4\u001b[0;31m \u001b[0mproject4_functions\u001b[0m\u001b[0;34m.\u001b[0m\u001b[0mdisplay_cluster\u001b[0m\u001b[0;34m(\u001b[0m\u001b[0mtopic_word\u001b[0m\u001b[0;34m,\u001b[0m\u001b[0mkm\u001b[0m\u001b[0;34m,\u001b[0m\u001b[0mnum_clusters\u001b[0m\u001b[0;34m)\u001b[0m\u001b[0;34m\u001b[0m\u001b[0;34m\u001b[0m\u001b[0m\n\u001b[0m",
      "\u001b[0;32m~/Documents/GitHub/metisproject04/project4_functions.py\u001b[0m in \u001b[0;36mdisplay_cluster\u001b[0;34m(X, km, num_clusters)\u001b[0m\n\u001b[1;32m     39\u001b[0m     \u001b[0;32melse\u001b[0m\u001b[0;34m:\u001b[0m\u001b[0;34m\u001b[0m\u001b[0;34m\u001b[0m\u001b[0m\n\u001b[1;32m     40\u001b[0m         \u001b[0;32mfor\u001b[0m \u001b[0mi\u001b[0m \u001b[0;32min\u001b[0m \u001b[0mrange\u001b[0m\u001b[0;34m(\u001b[0m\u001b[0mnum_clusters\u001b[0m\u001b[0;34m)\u001b[0m\u001b[0;34m:\u001b[0m\u001b[0;34m\u001b[0m\u001b[0;34m\u001b[0m\u001b[0m\n\u001b[0;32m---> 41\u001b[0;31m             \u001b[0mplt\u001b[0m\u001b[0;34m.\u001b[0m\u001b[0mscatter\u001b[0m\u001b[0;34m(\u001b[0m\u001b[0mX\u001b[0m\u001b[0;34m[\u001b[0m\u001b[0mkm\u001b[0m\u001b[0;34m.\u001b[0m\u001b[0mlabels_\u001b[0m\u001b[0;34m==\u001b[0m\u001b[0mi\u001b[0m\u001b[0;34m,\u001b[0m\u001b[0;36m0\u001b[0m\u001b[0;34m]\u001b[0m\u001b[0;34m,\u001b[0m\u001b[0mX\u001b[0m\u001b[0;34m[\u001b[0m\u001b[0mkm\u001b[0m\u001b[0;34m.\u001b[0m\u001b[0mlabels_\u001b[0m\u001b[0;34m==\u001b[0m\u001b[0mi\u001b[0m\u001b[0;34m,\u001b[0m\u001b[0;36m1\u001b[0m\u001b[0;34m]\u001b[0m\u001b[0;34m,\u001b[0m\u001b[0mc\u001b[0m \u001b[0;34m=\u001b[0m \u001b[0mcolor\u001b[0m\u001b[0;34m[\u001b[0m\u001b[0mi\u001b[0m\u001b[0;34m]\u001b[0m\u001b[0;34m,\u001b[0m\u001b[0malpha\u001b[0m \u001b[0;34m=\u001b[0m \u001b[0malpha\u001b[0m\u001b[0;34m,\u001b[0m\u001b[0ms\u001b[0m\u001b[0;34m=\u001b[0m\u001b[0ms\u001b[0m\u001b[0;34m)\u001b[0m\u001b[0;34m\u001b[0m\u001b[0;34m\u001b[0m\u001b[0m\n\u001b[0m\u001b[1;32m     42\u001b[0m             \u001b[0mplt\u001b[0m\u001b[0;34m.\u001b[0m\u001b[0mscatter\u001b[0m\u001b[0;34m(\u001b[0m\u001b[0mkm\u001b[0m\u001b[0;34m.\u001b[0m\u001b[0mcluster_centers_\u001b[0m\u001b[0;34m[\u001b[0m\u001b[0mi\u001b[0m\u001b[0;34m]\u001b[0m\u001b[0;34m[\u001b[0m\u001b[0;36m0\u001b[0m\u001b[0;34m]\u001b[0m\u001b[0;34m,\u001b[0m\u001b[0mkm\u001b[0m\u001b[0;34m.\u001b[0m\u001b[0mcluster_centers_\u001b[0m\u001b[0;34m[\u001b[0m\u001b[0mi\u001b[0m\u001b[0;34m]\u001b[0m\u001b[0;34m[\u001b[0m\u001b[0;36m1\u001b[0m\u001b[0;34m]\u001b[0m\u001b[0;34m,\u001b[0m\u001b[0mc\u001b[0m \u001b[0;34m=\u001b[0m \u001b[0mcolor\u001b[0m\u001b[0;34m[\u001b[0m\u001b[0mi\u001b[0m\u001b[0;34m]\u001b[0m\u001b[0;34m,\u001b[0m \u001b[0mmarker\u001b[0m \u001b[0;34m=\u001b[0m \u001b[0;34m'x'\u001b[0m\u001b[0;34m,\u001b[0m \u001b[0ms\u001b[0m \u001b[0;34m=\u001b[0m \u001b[0;36m100\u001b[0m\u001b[0;34m)\u001b[0m\u001b[0;34m\u001b[0m\u001b[0;34m\u001b[0m\u001b[0m\n",
      "\u001b[0;32m/Library/anaconda/envs/metis/lib/python3.7/site-packages/pandas/core/frame.py\u001b[0m in \u001b[0;36m__getitem__\u001b[0;34m(self, key)\u001b[0m\n\u001b[1;32m   2978\u001b[0m             \u001b[0;32mif\u001b[0m \u001b[0mself\u001b[0m\u001b[0;34m.\u001b[0m\u001b[0mcolumns\u001b[0m\u001b[0;34m.\u001b[0m\u001b[0mnlevels\u001b[0m \u001b[0;34m>\u001b[0m \u001b[0;36m1\u001b[0m\u001b[0;34m:\u001b[0m\u001b[0;34m\u001b[0m\u001b[0;34m\u001b[0m\u001b[0m\n\u001b[1;32m   2979\u001b[0m                 \u001b[0;32mreturn\u001b[0m \u001b[0mself\u001b[0m\u001b[0;34m.\u001b[0m\u001b[0m_getitem_multilevel\u001b[0m\u001b[0;34m(\u001b[0m\u001b[0mkey\u001b[0m\u001b[0;34m)\u001b[0m\u001b[0;34m\u001b[0m\u001b[0;34m\u001b[0m\u001b[0m\n\u001b[0;32m-> 2980\u001b[0;31m             \u001b[0mindexer\u001b[0m \u001b[0;34m=\u001b[0m \u001b[0mself\u001b[0m\u001b[0;34m.\u001b[0m\u001b[0mcolumns\u001b[0m\u001b[0;34m.\u001b[0m\u001b[0mget_loc\u001b[0m\u001b[0;34m(\u001b[0m\u001b[0mkey\u001b[0m\u001b[0;34m)\u001b[0m\u001b[0;34m\u001b[0m\u001b[0;34m\u001b[0m\u001b[0m\n\u001b[0m\u001b[1;32m   2981\u001b[0m             \u001b[0;32mif\u001b[0m \u001b[0mis_integer\u001b[0m\u001b[0;34m(\u001b[0m\u001b[0mindexer\u001b[0m\u001b[0;34m)\u001b[0m\u001b[0;34m:\u001b[0m\u001b[0;34m\u001b[0m\u001b[0;34m\u001b[0m\u001b[0m\n\u001b[1;32m   2982\u001b[0m                 \u001b[0mindexer\u001b[0m \u001b[0;34m=\u001b[0m \u001b[0;34m[\u001b[0m\u001b[0mindexer\u001b[0m\u001b[0;34m]\u001b[0m\u001b[0;34m\u001b[0m\u001b[0;34m\u001b[0m\u001b[0m\n",
      "\u001b[0;32m/Library/anaconda/envs/metis/lib/python3.7/site-packages/pandas/core/indexes/base.py\u001b[0m in \u001b[0;36mget_loc\u001b[0;34m(self, key, method, tolerance)\u001b[0m\n\u001b[1;32m   2895\u001b[0m                 )\n\u001b[1;32m   2896\u001b[0m             \u001b[0;32mtry\u001b[0m\u001b[0;34m:\u001b[0m\u001b[0;34m\u001b[0m\u001b[0;34m\u001b[0m\u001b[0m\n\u001b[0;32m-> 2897\u001b[0;31m                 \u001b[0;32mreturn\u001b[0m \u001b[0mself\u001b[0m\u001b[0;34m.\u001b[0m\u001b[0m_engine\u001b[0m\u001b[0;34m.\u001b[0m\u001b[0mget_loc\u001b[0m\u001b[0;34m(\u001b[0m\u001b[0mkey\u001b[0m\u001b[0;34m)\u001b[0m\u001b[0;34m\u001b[0m\u001b[0;34m\u001b[0m\u001b[0m\n\u001b[0m\u001b[1;32m   2898\u001b[0m             \u001b[0;32mexcept\u001b[0m \u001b[0mKeyError\u001b[0m\u001b[0;34m:\u001b[0m\u001b[0;34m\u001b[0m\u001b[0;34m\u001b[0m\u001b[0m\n\u001b[1;32m   2899\u001b[0m                 \u001b[0;32mreturn\u001b[0m \u001b[0mself\u001b[0m\u001b[0;34m.\u001b[0m\u001b[0m_engine\u001b[0m\u001b[0;34m.\u001b[0m\u001b[0mget_loc\u001b[0m\u001b[0;34m(\u001b[0m\u001b[0mself\u001b[0m\u001b[0;34m.\u001b[0m\u001b[0m_maybe_cast_indexer\u001b[0m\u001b[0;34m(\u001b[0m\u001b[0mkey\u001b[0m\u001b[0;34m)\u001b[0m\u001b[0;34m)\u001b[0m\u001b[0;34m\u001b[0m\u001b[0;34m\u001b[0m\u001b[0m\n",
      "\u001b[0;32mpandas/_libs/index.pyx\u001b[0m in \u001b[0;36mpandas._libs.index.IndexEngine.get_loc\u001b[0;34m()\u001b[0m\n",
      "\u001b[0;32mpandas/_libs/index.pyx\u001b[0m in \u001b[0;36mpandas._libs.index.IndexEngine.get_loc\u001b[0;34m()\u001b[0m\n",
      "\u001b[0;31mTypeError\u001b[0m: '(array([False, False, False,  True, False, False, False, False, False,\n       False]), 0)' is an invalid key"
     ]
    }
   ],
   "source": [
    "#check kmeans pair soln, what are we plotting?\n",
    "\n",
    "# num_clusters = 10\n",
    "# km = KMeans(n_clusters=num_clusters)\n",
    "# km.fit(topic_word)\n",
    "# project4_functions.display_cluster(topic_word,km,num_clusters)"
   ]
  },
  {
   "cell_type": "code",
   "execution_count": null,
   "metadata": {},
   "outputs": [],
   "source": []
  }
 ],
 "metadata": {
  "kernelspec": {
   "display_name": "Python [conda env:metis] *",
   "language": "python",
   "name": "conda-env-metis-py"
  },
  "language_info": {
   "codemirror_mode": {
    "name": "ipython",
    "version": 3
   },
   "file_extension": ".py",
   "mimetype": "text/x-python",
   "name": "python",
   "nbconvert_exporter": "python",
   "pygments_lexer": "ipython3",
   "version": "3.7.3"
  },
  "toc": {
   "base_numbering": 1,
   "nav_menu": {},
   "number_sections": true,
   "sideBar": true,
   "skip_h1_title": false,
   "title_cell": "Table of Contents",
   "title_sidebar": "Contents",
   "toc_cell": false,
   "toc_position": {},
   "toc_section_display": true,
   "toc_window_display": false
  }
 },
 "nbformat": 4,
 "nbformat_minor": 2
}
