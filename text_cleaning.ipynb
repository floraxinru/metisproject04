{
 "cells": [
  {
   "cell_type": "code",
   "execution_count": 1,
   "metadata": {
    "ExecuteTime": {
     "end_time": "2019-11-04T23:51:12.196959Z",
     "start_time": "2019-11-04T23:51:12.192126Z"
    }
   },
   "outputs": [
    {
     "name": "stderr",
     "output_type": "stream",
     "text": [
      "UsageError: Line magic function `%%writefile` not found.\n"
     ]
    }
   ],
   "source": [
    "#from mvp, build and run pipeline to generate .py files in src folder\n",
    "#%%writefile src/obtain.py\n",
    "\n",
    "# write functions that form a data pipeline, \n",
    "# then run this cell to save them in src/obtain.py\n",
    "\n",
    "#use this at the end of the project to generate py files, import and run them from a main ftn for cleaner code"
   ]
  },
  {
   "cell_type": "code",
   "execution_count": 2,
   "metadata": {
    "ExecuteTime": {
     "end_time": "2019-11-04T23:51:47.563629Z",
     "start_time": "2019-11-04T23:51:47.561086Z"
    }
   },
   "outputs": [],
   "source": [
    "# import data pipeline functions from obtain.py\n",
    "# def run_data_pipeline():\n",
    "#     # call data pipeline functions in order\n",
    "#     pass\n",
    "\n",
    "# run_data_pipeline()"
   ]
  },
  {
   "cell_type": "markdown",
   "metadata": {},
   "source": [
    "## Loading and cleaning text data\n",
    "### Import libraries"
   ]
  },
  {
   "cell_type": "code",
   "execution_count": 4,
   "metadata": {
    "ExecuteTime": {
     "end_time": "2019-11-04T23:58:29.161380Z",
     "start_time": "2019-11-04T23:58:27.553304Z"
    }
   },
   "outputs": [
    {
     "name": "stdout",
     "output_type": "stream",
     "text": [
      "Populating the interactive namespace from numpy and matplotlib\n"
     ]
    }
   ],
   "source": [
    "import pandas as pd\n",
    "import numpy as np\n",
    "\n",
    "import matplotlib.pyplot as plt\n",
    "import seaborn as sns\n",
    "%matplotlib inline\n",
    "\n",
    "# import sklearn\n",
    "from sklearn.feature_extraction.text import CountVectorizer \n",
    "from sklearn.feature_extraction.text import TfidfVectorizer  # TF-IDF\n",
    "from sklearn.preprocessing import scale\n",
    "from sklearn.cluster import KMeans\n",
    "from sklearn.decomposition import TruncatedSVD\n",
    "from sklearn.decomposition import NMF\n",
    "from sklearn.metrics.pairwise import cosine_similarity\n",
    "\n",
    "import nltk\n",
    "import spacy #for faster tokenization and lemmatization\n",
    "\n",
    "from sklearn.model_selection import train_test_split\n",
    "from sklearn.metrics import confusion_matrix\n",
    "\n",
    "import re\n",
    "\n",
    "%pylab inline"
   ]
  },
  {
   "cell_type": "markdown",
   "metadata": {},
   "source": [
    "### Loading small dataset \n",
    "Kaggle 2MB What's Cooking data set - features: id, ingredients, cuisine type (target)\n",
    "\n",
    "Use it to test cusine type classification. Should be able to use the best model on larger RecipeBox dataset after extracting ingredients.\n",
    "\n",
    "*is there a way to out put probabilities of cuisine types? otherwise wouldn't get recipes from diff cuisines with the same ingredients* - predict_proba? or topic modelling and cluster by ingredient"
   ]
  },
  {
   "cell_type": "code",
   "execution_count": 6,
   "metadata": {
    "ExecuteTime": {
     "end_time": "2019-11-05T00:23:22.372184Z",
     "start_time": "2019-11-05T00:23:21.922488Z"
    }
   },
   "outputs": [],
   "source": [
    "cdata = pd.read_json (r'/Users/xinrucheng/Documents/GitHub/metisproject04/data/raw/whats-cooking/train.json')"
   ]
  },
  {
   "cell_type": "code",
   "execution_count": 8,
   "metadata": {
    "ExecuteTime": {
     "end_time": "2019-11-05T00:24:14.027529Z",
     "start_time": "2019-11-05T00:24:14.014975Z"
    }
   },
   "outputs": [
    {
     "data": {
      "text/html": [
       "<div>\n",
       "<style scoped>\n",
       "    .dataframe tbody tr th:only-of-type {\n",
       "        vertical-align: middle;\n",
       "    }\n",
       "\n",
       "    .dataframe tbody tr th {\n",
       "        vertical-align: top;\n",
       "    }\n",
       "\n",
       "    .dataframe thead th {\n",
       "        text-align: right;\n",
       "    }\n",
       "</style>\n",
       "<table border=\"1\" class=\"dataframe\">\n",
       "  <thead>\n",
       "    <tr style=\"text-align: right;\">\n",
       "      <th></th>\n",
       "      <th>id</th>\n",
       "      <th>cuisine</th>\n",
       "      <th>ingredients</th>\n",
       "    </tr>\n",
       "  </thead>\n",
       "  <tbody>\n",
       "    <tr>\n",
       "      <td>0</td>\n",
       "      <td>10259</td>\n",
       "      <td>greek</td>\n",
       "      <td>[romaine lettuce, black olives, grape tomatoes...</td>\n",
       "    </tr>\n",
       "    <tr>\n",
       "      <td>1</td>\n",
       "      <td>25693</td>\n",
       "      <td>southern_us</td>\n",
       "      <td>[plain flour, ground pepper, salt, tomatoes, g...</td>\n",
       "    </tr>\n",
       "    <tr>\n",
       "      <td>2</td>\n",
       "      <td>20130</td>\n",
       "      <td>filipino</td>\n",
       "      <td>[eggs, pepper, salt, mayonaise, cooking oil, g...</td>\n",
       "    </tr>\n",
       "    <tr>\n",
       "      <td>3</td>\n",
       "      <td>22213</td>\n",
       "      <td>indian</td>\n",
       "      <td>[water, vegetable oil, wheat, salt]</td>\n",
       "    </tr>\n",
       "    <tr>\n",
       "      <td>4</td>\n",
       "      <td>13162</td>\n",
       "      <td>indian</td>\n",
       "      <td>[black pepper, shallots, cornflour, cayenne pe...</td>\n",
       "    </tr>\n",
       "  </tbody>\n",
       "</table>\n",
       "</div>"
      ],
      "text/plain": [
       "      id      cuisine                                        ingredients\n",
       "0  10259        greek  [romaine lettuce, black olives, grape tomatoes...\n",
       "1  25693  southern_us  [plain flour, ground pepper, salt, tomatoes, g...\n",
       "2  20130     filipino  [eggs, pepper, salt, mayonaise, cooking oil, g...\n",
       "3  22213       indian                [water, vegetable oil, wheat, salt]\n",
       "4  13162       indian  [black pepper, shallots, cornflour, cayenne pe..."
      ]
     },
     "execution_count": 8,
     "metadata": {},
     "output_type": "execute_result"
    }
   ],
   "source": [
    "cdata.head()"
   ]
  },
  {
   "cell_type": "code",
   "execution_count": 7,
   "metadata": {
    "ExecuteTime": {
     "end_time": "2019-11-05T00:23:34.944445Z",
     "start_time": "2019-11-05T00:23:34.912161Z"
    }
   },
   "outputs": [
    {
     "name": "stdout",
     "output_type": "stream",
     "text": [
      "<class 'pandas.core.frame.DataFrame'>\n",
      "RangeIndex: 39774 entries, 0 to 39773\n",
      "Data columns (total 3 columns):\n",
      "id             39774 non-null int64\n",
      "cuisine        39774 non-null object\n",
      "ingredients    39774 non-null object\n",
      "dtypes: int64(1), object(2)\n",
      "memory usage: 932.3+ KB\n"
     ]
    }
   ],
   "source": [
    "cdata.info()"
   ]
  },
  {
   "cell_type": "markdown",
   "metadata": {},
   "source": [
    "The small dataset has 39774 observations, and 3 features (id, cuisine, ingredients). We want to use it to build a cuisine-type classifier based on ingredients, and then hopefully apply it to the larger recipe box dataset (125000 observations). The source for the recipe box dataset includes cuisine type in tags, but the tags were not scraped (still have the option of scraping it if small classifier doesn't work?)"
   ]
  },
  {
   "cell_type": "code",
   "execution_count": 13,
   "metadata": {
    "ExecuteTime": {
     "end_time": "2019-11-05T00:25:54.144712Z",
     "start_time": "2019-11-05T00:25:54.121687Z"
    }
   },
   "outputs": [
    {
     "data": {
      "text/plain": [
       "20"
      ]
     },
     "execution_count": 13,
     "metadata": {},
     "output_type": "execute_result"
    }
   ],
   "source": [
    "cdata['cuisine'].nunique()"
   ]
  },
  {
   "cell_type": "markdown",
   "metadata": {},
   "source": [
    "So there are no null values, and there are 20 cuisine types for 39774 recipes in this dataset. That seems like it should be sufficient as a classifier for the larger dataset (can improve upon it later with scraped tags data)."
   ]
  },
  {
   "cell_type": "code",
   "execution_count": 14,
   "metadata": {
    "ExecuteTime": {
     "end_time": "2019-11-05T00:27:20.590821Z",
     "start_time": "2019-11-05T00:27:20.571221Z"
    }
   },
   "outputs": [
    {
     "data": {
      "text/plain": [
       "array(['greek', 'southern_us', 'filipino', 'indian', 'jamaican',\n",
       "       'spanish', 'italian', 'mexican', 'chinese', 'british', 'thai',\n",
       "       'vietnamese', 'cajun_creole', 'brazilian', 'french', 'japanese',\n",
       "       'irish', 'korean', 'moroccan', 'russian'], dtype=object)"
      ]
     },
     "execution_count": 14,
     "metadata": {},
     "output_type": "execute_result"
    }
   ],
   "source": [
    "cdata['cuisine'].unique()"
   ]
  },
  {
   "cell_type": "markdown",
   "metadata": {},
   "source": [
    "Looking at the 20 cuisine types in this data set, I think \"british\" and \"irish\" are a bit redundant (would've liked to have German instead of one of those; also mexican and cajun_creole probably have some overlaps also). I'll work with this for now, keeping in mind topic modelling and clustering on the bigger data set might lead to a different number of clusters."
   ]
  },
  {
   "cell_type": "code",
   "execution_count": null,
   "metadata": {},
   "outputs": [],
   "source": [
    "#also recipe box repo has scraping code, if need to scrape more observations or tags\n",
    "\n",
    "#before proceeding with the classifier, quickly inspect the recipe box data:"
   ]
  },
  {
   "cell_type": "markdown",
   "metadata": {},
   "source": [
    "### Loading the RecipeBox dataset\n",
    "#### allrecipes"
   ]
  },
  {
   "cell_type": "code",
   "execution_count": 15,
   "metadata": {
    "ExecuteTime": {
     "end_time": "2019-11-05T00:35:23.577283Z",
     "start_time": "2019-11-05T00:35:05.150769Z"
    }
   },
   "outputs": [],
   "source": [
    "#the three files are scraped from foodnetwork, epicurious, and allrecipes.com\n",
    "#start with allrecipes.com - took 18.4s to load, can consider putting it into database?\n",
    "rbdata_ar = pd.read_json(r'/Users/xinrucheng/Documents/GitHub/metisproject04/data/raw/recipes_raw/recipes_raw_nosource_ar.json')"
   ]
  },
  {
   "cell_type": "code",
   "execution_count": 16,
   "metadata": {
    "ExecuteTime": {
     "end_time": "2019-11-05T00:35:45.659457Z",
     "start_time": "2019-11-05T00:35:45.611563Z"
    }
   },
   "outputs": [
    {
     "data": {
      "text/html": [
       "<div>\n",
       "<style scoped>\n",
       "    .dataframe tbody tr th:only-of-type {\n",
       "        vertical-align: middle;\n",
       "    }\n",
       "\n",
       "    .dataframe tbody tr th {\n",
       "        vertical-align: top;\n",
       "    }\n",
       "\n",
       "    .dataframe thead th {\n",
       "        text-align: right;\n",
       "    }\n",
       "</style>\n",
       "<table border=\"1\" class=\"dataframe\">\n",
       "  <thead>\n",
       "    <tr style=\"text-align: right;\">\n",
       "      <th></th>\n",
       "      <th>rmK12Uau.ntP510KeImX506H6Mr6jTu</th>\n",
       "      <th>5ZpZE8hSVdPk2ZXo1mZTyoPWJRSCPSm</th>\n",
       "      <th>clyYQv.CplpwJtjNaFGhx0VilNYqRxu</th>\n",
       "      <th>BmqFAmCrDHiKNwX.IQzb0U/v0mLlxFu</th>\n",
       "      <th>N.jCksRjB4MFwbgPFQU8Kg.yF.XCtOi</th>\n",
       "      <th>kq.naD.8G19M4UU9dVvJgHtpfo.l/eC</th>\n",
       "      <th>lYrgWNn00EXblOupzM3tL0jGr9O0CB2</th>\n",
       "      <th>Fu0DgGYFUGwc0BBlN6r20o/ihOVs5bO</th>\n",
       "      <th>MBRNtqELRRuv8zJH4k7Aba2bmIc2A3C</th>\n",
       "      <th>ZPyPoMiNvgAfrKcRpH9FEYV/XsPZBsW</th>\n",
       "      <th>...</th>\n",
       "      <th>uHHb42/tuIKsmN5U6l9AD.FdVpSFxs6</th>\n",
       "      <th>IPAeN3L6rm2oughJpUhbG038k.ACJ0K</th>\n",
       "      <th>3UIhlTQFH5jyIaHN8zeKlK5V.94Kjwu</th>\n",
       "      <th>PdBxkE2gnI/.ynokkp1Hu1KLGZnGdei</th>\n",
       "      <th>SB46Udqc5Svsi70S1qRmRLv5tlg8Oca</th>\n",
       "      <th>gehEOcDPtU3SmNSXrwWwWD4ulPpUdMO</th>\n",
       "      <th>VRAsyF.1xMBYqAVKX1biyIORH6N6qzy</th>\n",
       "      <th>Lf8/u.0k2029QMSQFrHS4gRsvKOQFUG</th>\n",
       "      <th>ay.AqX/9ysBtWHcnHoDeGAyJ5Orla8e</th>\n",
       "      <th>2Q3Zpfgt/PUwn1YABjJ5A9T3ZW8xwVa</th>\n",
       "    </tr>\n",
       "  </thead>\n",
       "  <tbody>\n",
       "    <tr>\n",
       "      <td>title</td>\n",
       "      <td>Slow Cooker Chicken and Dumplings</td>\n",
       "      <td>Awesome Slow Cooker Pot Roast</td>\n",
       "      <td>Brown Sugar Meatloaf</td>\n",
       "      <td>Best Chocolate Chip Cookies</td>\n",
       "      <td>Homemade Mac and Cheese Casserole</td>\n",
       "      <td>Banana Banana Bread</td>\n",
       "      <td>Chef John's Fisherman's Pie</td>\n",
       "      <td>Mom's Zucchini Bread</td>\n",
       "      <td>The Best Rolled Sugar Cookies</td>\n",
       "      <td>Singapore Chili Crabs</td>\n",
       "      <td>...</td>\n",
       "      <td>Citrus Creme Brulee</td>\n",
       "      <td>Honey Nutty Granola</td>\n",
       "      <td>Salmon en Croute</td>\n",
       "      <td>Homemade Blender Butter</td>\n",
       "      <td>Gluten Free Chicken Noodle Soup</td>\n",
       "      <td>Thai-Indian Veggie Soup</td>\n",
       "      <td>Coconut Milk-Free Panang Curry Chicken</td>\n",
       "      <td>Cooked Cold Salad</td>\n",
       "      <td>Easy Eggnog Creme Brulee</td>\n",
       "      <td>Super Power Stovetop Granola</td>\n",
       "    </tr>\n",
       "    <tr>\n",
       "      <td>ingredients</td>\n",
       "      <td>[4 skinless, boneless chicken breast halves AD...</td>\n",
       "      <td>[2 (10.75 ounce) cans condensed cream of mushr...</td>\n",
       "      <td>[1/2 cup packed brown sugar ADVERTISEMENT, 1/2...</td>\n",
       "      <td>[1 cup butter, softened ADVERTISEMENT, 1 cup w...</td>\n",
       "      <td>[8 ounces whole wheat rotini pasta ADVERTISEME...</td>\n",
       "      <td>[2 cups all-purpose flour ADVERTISEMENT, 1 tea...</td>\n",
       "      <td>[For potato crust: ADVERTISEMENT, 3 russet pot...</td>\n",
       "      <td>[3 cups all-purpose flour ADVERTISEMENT, 1 tea...</td>\n",
       "      <td>[1 1/2 cups butter, softened ADVERTISEMENT, 2 ...</td>\n",
       "      <td>[Sauce: ADVERTISEMENT, 1/2 cup ketchup ADVERTI...</td>\n",
       "      <td>...</td>\n",
       "      <td>[2 oranges, juiced ADVERTISEMENT, lemon, juice...</td>\n",
       "      <td>[3 cups rolled oats ADVERTISEMENT, 1 1/2 cups ...</td>\n",
       "      <td>[1 cup watercress, or as desired ADVERTISEMENT...</td>\n",
       "      <td>[2 pints heavy whipping cream ADVERTISEMENT, s...</td>\n",
       "      <td>[1/2 (12 ounce) box Barilla® Gluten Free Elbow...</td>\n",
       "      <td>[2 teaspoons olive oil ADVERTISEMENT, 1/4 cup ...</td>\n",
       "      <td>[2 cups light cream ADVERTISEMENT, 1/4 teaspoo...</td>\n",
       "      <td>[3 tablespoons bacon grease ADVERTISEMENT, 2 c...</td>\n",
       "      <td>[4 egg yolks ADVERTISEMENT, 1 tablespoon white...</td>\n",
       "      <td>[1/4 cup canola oil ADVERTISEMENT, 3 cups quic...</td>\n",
       "    </tr>\n",
       "    <tr>\n",
       "      <td>instructions</td>\n",
       "      <td>Place the chicken, butter, soup, and onion in ...</td>\n",
       "      <td>In a slow cooker, mix cream of mushroom soup, ...</td>\n",
       "      <td>Preheat oven to 350 degrees F (175 degrees C)....</td>\n",
       "      <td>Preheat oven to 350 degrees F (175 degrees C)....</td>\n",
       "      <td>Preheat oven to 350 degrees F. Line a 2-quart ...</td>\n",
       "      <td>Preheat oven to 350 degrees F (175 degrees C)....</td>\n",
       "      <td>Bring a large saucepan of salted water and to ...</td>\n",
       "      <td>Grease and flour two 8 x 4 inch pans. Preheat ...</td>\n",
       "      <td>In a large bowl, cream together butter and sug...</td>\n",
       "      <td>Whisk ketchup, chicken broth, egg, soy sauce, ...</td>\n",
       "      <td>...</td>\n",
       "      <td>Preheat oven to 300 degrees F (150 degrees C)....</td>\n",
       "      <td>Preheat oven to 300 degrees F (150 degrees C)....</td>\n",
       "      <td>Preheat oven to 375 degrees F (190 degrees C)....</td>\n",
       "      <td>Pour cream into a blender. Cover and blend unt...</td>\n",
       "      <td>Saute onions in olive oil over medium heat unt...</td>\n",
       "      <td>Heat oil in a large pot over medium heat. Add ...</td>\n",
       "      <td>Heat cream and coconut extract in a skillet or...</td>\n",
       "      <td>Heat bacon grease in a skillet over medium-hig...</td>\n",
       "      <td>Preheat oven to 350 degrees F (175 degrees C)....</td>\n",
       "      <td>Heat 1/4 cup canola oil in large skillet over ...</td>\n",
       "    </tr>\n",
       "    <tr>\n",
       "      <td>picture_link</td>\n",
       "      <td>55lznCYBbs2mT8BTx6BTkLhynGHzM.S</td>\n",
       "      <td>QyrvGdGNMBA2lDdciY0FjKu.77MM0Oe</td>\n",
       "      <td>LVW1DI0vtlCrpAhNSEQysE9i/7rJG56</td>\n",
       "      <td>0SO5kdWOV94j6EfAVwMMYRM3yNN8eRi</td>\n",
       "      <td>YCnbhplMgiraW4rUXcybgSEZinSgljm</td>\n",
       "      <td>jRnWGDXDdyOg3rta4/HVAR2rD19XubC</td>\n",
       "      <td>aUca10AaD8T2yYvcLOgH/UJlR5/OhOe</td>\n",
       "      <td>YdgEVyLVffZgh9NZPN3Eqj6MaX8KdzK</td>\n",
       "      <td>UrgvDGu4roLiho160fTVIwCUrGZna8i</td>\n",
       "      <td>OFp6yXFwzlrkMQ5STffYPllxQvMVLUS</td>\n",
       "      <td>...</td>\n",
       "      <td>qE58a7Z1Au0GXvPO188iHZZVqna9hLa</td>\n",
       "      <td>qE58a7Z1Au0GXvPO188iHZZVqna9hLa</td>\n",
       "      <td>qE58a7Z1Au0GXvPO188iHZZVqna9hLa</td>\n",
       "      <td>qE58a7Z1Au0GXvPO188iHZZVqna9hLa</td>\n",
       "      <td>cWEzUSv9Ozr3b4MxNVCqJYgTjIS.kHm</td>\n",
       "      <td>qE58a7Z1Au0GXvPO188iHZZVqna9hLa</td>\n",
       "      <td>qE58a7Z1Au0GXvPO188iHZZVqna9hLa</td>\n",
       "      <td>qE58a7Z1Au0GXvPO188iHZZVqna9hLa</td>\n",
       "      <td>qE58a7Z1Au0GXvPO188iHZZVqna9hLa</td>\n",
       "      <td>qE58a7Z1Au0GXvPO188iHZZVqna9hLa</td>\n",
       "    </tr>\n",
       "  </tbody>\n",
       "</table>\n",
       "<p>4 rows × 39802 columns</p>\n",
       "</div>"
      ],
      "text/plain": [
       "                                rmK12Uau.ntP510KeImX506H6Mr6jTu  \\\n",
       "title                         Slow Cooker Chicken and Dumplings   \n",
       "ingredients   [4 skinless, boneless chicken breast halves AD...   \n",
       "instructions  Place the chicken, butter, soup, and onion in ...   \n",
       "picture_link                    55lznCYBbs2mT8BTx6BTkLhynGHzM.S   \n",
       "\n",
       "                                5ZpZE8hSVdPk2ZXo1mZTyoPWJRSCPSm  \\\n",
       "title                             Awesome Slow Cooker Pot Roast   \n",
       "ingredients   [2 (10.75 ounce) cans condensed cream of mushr...   \n",
       "instructions  In a slow cooker, mix cream of mushroom soup, ...   \n",
       "picture_link                    QyrvGdGNMBA2lDdciY0FjKu.77MM0Oe   \n",
       "\n",
       "                                clyYQv.CplpwJtjNaFGhx0VilNYqRxu  \\\n",
       "title                                      Brown Sugar Meatloaf   \n",
       "ingredients   [1/2 cup packed brown sugar ADVERTISEMENT, 1/2...   \n",
       "instructions  Preheat oven to 350 degrees F (175 degrees C)....   \n",
       "picture_link                    LVW1DI0vtlCrpAhNSEQysE9i/7rJG56   \n",
       "\n",
       "                                BmqFAmCrDHiKNwX.IQzb0U/v0mLlxFu  \\\n",
       "title                               Best Chocolate Chip Cookies   \n",
       "ingredients   [1 cup butter, softened ADVERTISEMENT, 1 cup w...   \n",
       "instructions  Preheat oven to 350 degrees F (175 degrees C)....   \n",
       "picture_link                    0SO5kdWOV94j6EfAVwMMYRM3yNN8eRi   \n",
       "\n",
       "                                N.jCksRjB4MFwbgPFQU8Kg.yF.XCtOi  \\\n",
       "title                         Homemade Mac and Cheese Casserole   \n",
       "ingredients   [8 ounces whole wheat rotini pasta ADVERTISEME...   \n",
       "instructions  Preheat oven to 350 degrees F. Line a 2-quart ...   \n",
       "picture_link                    YCnbhplMgiraW4rUXcybgSEZinSgljm   \n",
       "\n",
       "                                kq.naD.8G19M4UU9dVvJgHtpfo.l/eC  \\\n",
       "title                                       Banana Banana Bread   \n",
       "ingredients   [2 cups all-purpose flour ADVERTISEMENT, 1 tea...   \n",
       "instructions  Preheat oven to 350 degrees F (175 degrees C)....   \n",
       "picture_link                    jRnWGDXDdyOg3rta4/HVAR2rD19XubC   \n",
       "\n",
       "                                lYrgWNn00EXblOupzM3tL0jGr9O0CB2  \\\n",
       "title                               Chef John's Fisherman's Pie   \n",
       "ingredients   [For potato crust: ADVERTISEMENT, 3 russet pot...   \n",
       "instructions  Bring a large saucepan of salted water and to ...   \n",
       "picture_link                    aUca10AaD8T2yYvcLOgH/UJlR5/OhOe   \n",
       "\n",
       "                                Fu0DgGYFUGwc0BBlN6r20o/ihOVs5bO  \\\n",
       "title                                      Mom's Zucchini Bread   \n",
       "ingredients   [3 cups all-purpose flour ADVERTISEMENT, 1 tea...   \n",
       "instructions  Grease and flour two 8 x 4 inch pans. Preheat ...   \n",
       "picture_link                    YdgEVyLVffZgh9NZPN3Eqj6MaX8KdzK   \n",
       "\n",
       "                                MBRNtqELRRuv8zJH4k7Aba2bmIc2A3C  \\\n",
       "title                             The Best Rolled Sugar Cookies   \n",
       "ingredients   [1 1/2 cups butter, softened ADVERTISEMENT, 2 ...   \n",
       "instructions  In a large bowl, cream together butter and sug...   \n",
       "picture_link                    UrgvDGu4roLiho160fTVIwCUrGZna8i   \n",
       "\n",
       "                                ZPyPoMiNvgAfrKcRpH9FEYV/XsPZBsW  ...  \\\n",
       "title                                     Singapore Chili Crabs  ...   \n",
       "ingredients   [Sauce: ADVERTISEMENT, 1/2 cup ketchup ADVERTI...  ...   \n",
       "instructions  Whisk ketchup, chicken broth, egg, soy sauce, ...  ...   \n",
       "picture_link                    OFp6yXFwzlrkMQ5STffYPllxQvMVLUS  ...   \n",
       "\n",
       "                                uHHb42/tuIKsmN5U6l9AD.FdVpSFxs6  \\\n",
       "title                                       Citrus Creme Brulee   \n",
       "ingredients   [2 oranges, juiced ADVERTISEMENT, lemon, juice...   \n",
       "instructions  Preheat oven to 300 degrees F (150 degrees C)....   \n",
       "picture_link                    qE58a7Z1Au0GXvPO188iHZZVqna9hLa   \n",
       "\n",
       "                                IPAeN3L6rm2oughJpUhbG038k.ACJ0K  \\\n",
       "title                                       Honey Nutty Granola   \n",
       "ingredients   [3 cups rolled oats ADVERTISEMENT, 1 1/2 cups ...   \n",
       "instructions  Preheat oven to 300 degrees F (150 degrees C)....   \n",
       "picture_link                    qE58a7Z1Au0GXvPO188iHZZVqna9hLa   \n",
       "\n",
       "                                3UIhlTQFH5jyIaHN8zeKlK5V.94Kjwu  \\\n",
       "title                                          Salmon en Croute   \n",
       "ingredients   [1 cup watercress, or as desired ADVERTISEMENT...   \n",
       "instructions  Preheat oven to 375 degrees F (190 degrees C)....   \n",
       "picture_link                    qE58a7Z1Au0GXvPO188iHZZVqna9hLa   \n",
       "\n",
       "                                PdBxkE2gnI/.ynokkp1Hu1KLGZnGdei  \\\n",
       "title                                   Homemade Blender Butter   \n",
       "ingredients   [2 pints heavy whipping cream ADVERTISEMENT, s...   \n",
       "instructions  Pour cream into a blender. Cover and blend unt...   \n",
       "picture_link                    qE58a7Z1Au0GXvPO188iHZZVqna9hLa   \n",
       "\n",
       "                                SB46Udqc5Svsi70S1qRmRLv5tlg8Oca  \\\n",
       "title                           Gluten Free Chicken Noodle Soup   \n",
       "ingredients   [1/2 (12 ounce) box Barilla® Gluten Free Elbow...   \n",
       "instructions  Saute onions in olive oil over medium heat unt...   \n",
       "picture_link                    cWEzUSv9Ozr3b4MxNVCqJYgTjIS.kHm   \n",
       "\n",
       "                                gehEOcDPtU3SmNSXrwWwWD4ulPpUdMO  \\\n",
       "title                                   Thai-Indian Veggie Soup   \n",
       "ingredients   [2 teaspoons olive oil ADVERTISEMENT, 1/4 cup ...   \n",
       "instructions  Heat oil in a large pot over medium heat. Add ...   \n",
       "picture_link                    qE58a7Z1Au0GXvPO188iHZZVqna9hLa   \n",
       "\n",
       "                                VRAsyF.1xMBYqAVKX1biyIORH6N6qzy  \\\n",
       "title                    Coconut Milk-Free Panang Curry Chicken   \n",
       "ingredients   [2 cups light cream ADVERTISEMENT, 1/4 teaspoo...   \n",
       "instructions  Heat cream and coconut extract in a skillet or...   \n",
       "picture_link                    qE58a7Z1Au0GXvPO188iHZZVqna9hLa   \n",
       "\n",
       "                                Lf8/u.0k2029QMSQFrHS4gRsvKOQFUG  \\\n",
       "title                                         Cooked Cold Salad   \n",
       "ingredients   [3 tablespoons bacon grease ADVERTISEMENT, 2 c...   \n",
       "instructions  Heat bacon grease in a skillet over medium-hig...   \n",
       "picture_link                    qE58a7Z1Au0GXvPO188iHZZVqna9hLa   \n",
       "\n",
       "                                ay.AqX/9ysBtWHcnHoDeGAyJ5Orla8e  \\\n",
       "title                                  Easy Eggnog Creme Brulee   \n",
       "ingredients   [4 egg yolks ADVERTISEMENT, 1 tablespoon white...   \n",
       "instructions  Preheat oven to 350 degrees F (175 degrees C)....   \n",
       "picture_link                    qE58a7Z1Au0GXvPO188iHZZVqna9hLa   \n",
       "\n",
       "                                2Q3Zpfgt/PUwn1YABjJ5A9T3ZW8xwVa  \n",
       "title                              Super Power Stovetop Granola  \n",
       "ingredients   [1/4 cup canola oil ADVERTISEMENT, 3 cups quic...  \n",
       "instructions  Heat 1/4 cup canola oil in large skillet over ...  \n",
       "picture_link                    qE58a7Z1Au0GXvPO188iHZZVqna9hLa  \n",
       "\n",
       "[4 rows x 39802 columns]"
      ]
     },
     "execution_count": 16,
     "metadata": {},
     "output_type": "execute_result"
    }
   ],
   "source": [
    "rbdata_ar.head() #need to swap rows and columns\n",
    "#features are title, ingredients, instructions, and picture_link(not needed?)"
   ]
  },
  {
   "cell_type": "code",
   "execution_count": 22,
   "metadata": {
    "ExecuteTime": {
     "end_time": "2019-11-05T00:43:39.350108Z",
     "start_time": "2019-11-05T00:43:39.346916Z"
    }
   },
   "outputs": [],
   "source": [
    "#try out \"orient\" argument on smaller dataset, want to swap rows and columns:\n",
    "#pd.read_json(r'/Users/xinrucheng/Documents/GitHub/metisproject04/data/raw/whats-cooking/train.json', orient='split')"
   ]
  },
  {
   "cell_type": "code",
   "execution_count": 23,
   "metadata": {
    "ExecuteTime": {
     "end_time": "2019-11-05T00:43:46.336220Z",
     "start_time": "2019-11-05T00:43:46.281977Z"
    }
   },
   "outputs": [
    {
     "data": {
      "text/html": [
       "<div>\n",
       "<style scoped>\n",
       "    .dataframe tbody tr th:only-of-type {\n",
       "        vertical-align: middle;\n",
       "    }\n",
       "\n",
       "    .dataframe tbody tr th {\n",
       "        vertical-align: top;\n",
       "    }\n",
       "\n",
       "    .dataframe thead th {\n",
       "        text-align: right;\n",
       "    }\n",
       "</style>\n",
       "<table border=\"1\" class=\"dataframe\">\n",
       "  <thead>\n",
       "    <tr style=\"text-align: right;\">\n",
       "      <th></th>\n",
       "      <th>title</th>\n",
       "      <th>ingredients</th>\n",
       "      <th>instructions</th>\n",
       "      <th>picture_link</th>\n",
       "    </tr>\n",
       "  </thead>\n",
       "  <tbody>\n",
       "    <tr>\n",
       "      <td>rmK12Uau.ntP510KeImX506H6Mr6jTu</td>\n",
       "      <td>Slow Cooker Chicken and Dumplings</td>\n",
       "      <td>[4 skinless, boneless chicken breast halves AD...</td>\n",
       "      <td>Place the chicken, butter, soup, and onion in ...</td>\n",
       "      <td>55lznCYBbs2mT8BTx6BTkLhynGHzM.S</td>\n",
       "    </tr>\n",
       "    <tr>\n",
       "      <td>5ZpZE8hSVdPk2ZXo1mZTyoPWJRSCPSm</td>\n",
       "      <td>Awesome Slow Cooker Pot Roast</td>\n",
       "      <td>[2 (10.75 ounce) cans condensed cream of mushr...</td>\n",
       "      <td>In a slow cooker, mix cream of mushroom soup, ...</td>\n",
       "      <td>QyrvGdGNMBA2lDdciY0FjKu.77MM0Oe</td>\n",
       "    </tr>\n",
       "    <tr>\n",
       "      <td>clyYQv.CplpwJtjNaFGhx0VilNYqRxu</td>\n",
       "      <td>Brown Sugar Meatloaf</td>\n",
       "      <td>[1/2 cup packed brown sugar ADVERTISEMENT, 1/2...</td>\n",
       "      <td>Preheat oven to 350 degrees F (175 degrees C)....</td>\n",
       "      <td>LVW1DI0vtlCrpAhNSEQysE9i/7rJG56</td>\n",
       "    </tr>\n",
       "    <tr>\n",
       "      <td>BmqFAmCrDHiKNwX.IQzb0U/v0mLlxFu</td>\n",
       "      <td>Best Chocolate Chip Cookies</td>\n",
       "      <td>[1 cup butter, softened ADVERTISEMENT, 1 cup w...</td>\n",
       "      <td>Preheat oven to 350 degrees F (175 degrees C)....</td>\n",
       "      <td>0SO5kdWOV94j6EfAVwMMYRM3yNN8eRi</td>\n",
       "    </tr>\n",
       "    <tr>\n",
       "      <td>N.jCksRjB4MFwbgPFQU8Kg.yF.XCtOi</td>\n",
       "      <td>Homemade Mac and Cheese Casserole</td>\n",
       "      <td>[8 ounces whole wheat rotini pasta ADVERTISEME...</td>\n",
       "      <td>Preheat oven to 350 degrees F. Line a 2-quart ...</td>\n",
       "      <td>YCnbhplMgiraW4rUXcybgSEZinSgljm</td>\n",
       "    </tr>\n",
       "  </tbody>\n",
       "</table>\n",
       "</div>"
      ],
      "text/plain": [
       "                                                             title  \\\n",
       "rmK12Uau.ntP510KeImX506H6Mr6jTu  Slow Cooker Chicken and Dumplings   \n",
       "5ZpZE8hSVdPk2ZXo1mZTyoPWJRSCPSm      Awesome Slow Cooker Pot Roast   \n",
       "clyYQv.CplpwJtjNaFGhx0VilNYqRxu               Brown Sugar Meatloaf   \n",
       "BmqFAmCrDHiKNwX.IQzb0U/v0mLlxFu        Best Chocolate Chip Cookies   \n",
       "N.jCksRjB4MFwbgPFQU8Kg.yF.XCtOi  Homemade Mac and Cheese Casserole   \n",
       "\n",
       "                                                                       ingredients  \\\n",
       "rmK12Uau.ntP510KeImX506H6Mr6jTu  [4 skinless, boneless chicken breast halves AD...   \n",
       "5ZpZE8hSVdPk2ZXo1mZTyoPWJRSCPSm  [2 (10.75 ounce) cans condensed cream of mushr...   \n",
       "clyYQv.CplpwJtjNaFGhx0VilNYqRxu  [1/2 cup packed brown sugar ADVERTISEMENT, 1/2...   \n",
       "BmqFAmCrDHiKNwX.IQzb0U/v0mLlxFu  [1 cup butter, softened ADVERTISEMENT, 1 cup w...   \n",
       "N.jCksRjB4MFwbgPFQU8Kg.yF.XCtOi  [8 ounces whole wheat rotini pasta ADVERTISEME...   \n",
       "\n",
       "                                                                      instructions  \\\n",
       "rmK12Uau.ntP510KeImX506H6Mr6jTu  Place the chicken, butter, soup, and onion in ...   \n",
       "5ZpZE8hSVdPk2ZXo1mZTyoPWJRSCPSm  In a slow cooker, mix cream of mushroom soup, ...   \n",
       "clyYQv.CplpwJtjNaFGhx0VilNYqRxu  Preheat oven to 350 degrees F (175 degrees C)....   \n",
       "BmqFAmCrDHiKNwX.IQzb0U/v0mLlxFu  Preheat oven to 350 degrees F (175 degrees C)....   \n",
       "N.jCksRjB4MFwbgPFQU8Kg.yF.XCtOi  Preheat oven to 350 degrees F. Line a 2-quart ...   \n",
       "\n",
       "                                                    picture_link  \n",
       "rmK12Uau.ntP510KeImX506H6Mr6jTu  55lznCYBbs2mT8BTx6BTkLhynGHzM.S  \n",
       "5ZpZE8hSVdPk2ZXo1mZTyoPWJRSCPSm  QyrvGdGNMBA2lDdciY0FjKu.77MM0Oe  \n",
       "clyYQv.CplpwJtjNaFGhx0VilNYqRxu  LVW1DI0vtlCrpAhNSEQysE9i/7rJG56  \n",
       "BmqFAmCrDHiKNwX.IQzb0U/v0mLlxFu  0SO5kdWOV94j6EfAVwMMYRM3yNN8eRi  \n",
       "N.jCksRjB4MFwbgPFQU8Kg.yF.XCtOi  YCnbhplMgiraW4rUXcybgSEZinSgljm  "
      ]
     },
     "execution_count": 23,
     "metadata": {},
     "output_type": "execute_result"
    }
   ],
   "source": [
    "rb_ar=rbdata_ar.T #can just do pandas transpose, don't need to set orient parameter in read_json!\n",
    "rb_ar.head()"
   ]
  },
  {
   "cell_type": "code",
   "execution_count": 24,
   "metadata": {
    "ExecuteTime": {
     "end_time": "2019-11-05T00:47:01.991700Z",
     "start_time": "2019-11-05T00:47:01.988242Z"
    }
   },
   "outputs": [],
   "source": [
    "#*can I do something more interesting with the ingredient and instructions data to access recipe similarity? (difficulty already used)\n",
    "#clusters can be diff courses of meal? main, dessert; price? prep time?\n",
    "#how to use links??"
   ]
  },
  {
   "cell_type": "code",
   "execution_count": 25,
   "metadata": {
    "ExecuteTime": {
     "end_time": "2019-11-05T00:47:26.083589Z",
     "start_time": "2019-11-05T00:47:26.059636Z"
    }
   },
   "outputs": [
    {
     "name": "stdout",
     "output_type": "stream",
     "text": [
      "<class 'pandas.core.frame.DataFrame'>\n",
      "Index: 39802 entries, rmK12Uau.ntP510KeImX506H6Mr6jTu to 2Q3Zpfgt/PUwn1YABjJ5A9T3ZW8xwVa\n",
      "Data columns (total 4 columns):\n",
      "title           39522 non-null object\n",
      "ingredients     39522 non-null object\n",
      "instructions    39522 non-null object\n",
      "picture_link    39522 non-null object\n",
      "dtypes: object(4)\n",
      "memory usage: 2.8+ MB\n"
     ]
    }
   ],
   "source": [
    "rb_ar.info()"
   ]
  },
  {
   "cell_type": "markdown",
   "metadata": {},
   "source": [
    "The allrecipes.com portion of the RecipeBox dataset has 39522 recipes, similar in size to the small what's cooking dataset! Good for testing out classifer. Because total was ~125000, so that's about 1/3 of total (can check, the other 2 should be the same size)"
   ]
  },
  {
   "cell_type": "code",
   "execution_count": null,
   "metadata": {},
   "outputs": [],
   "source": [
    "#*total length 39802 observations, but only 39522 non-null for each feature? Need to drop rows with missing values\n"
   ]
  },
  {
   "cell_type": "markdown",
   "metadata": {},
   "source": [
    "#### epicurious"
   ]
  },
  {
   "cell_type": "code",
   "execution_count": 28,
   "metadata": {
    "ExecuteTime": {
     "end_time": "2019-11-05T01:36:22.319693Z",
     "start_time": "2019-11-05T01:36:11.867452Z"
    }
   },
   "outputs": [],
   "source": [
    "rbdata_epi = pd.read_json(r'/Users/xinrucheng/Documents/GitHub/metisproject04/data/raw/recipes_raw/recipes_raw_nosource_epi.json')"
   ]
  },
  {
   "cell_type": "code",
   "execution_count": 30,
   "metadata": {
    "ExecuteTime": {
     "end_time": "2019-11-05T01:37:09.641542Z",
     "start_time": "2019-11-05T01:37:09.621635Z"
    }
   },
   "outputs": [],
   "source": [
    "rb_epi=rbdata_epi.T"
   ]
  },
  {
   "cell_type": "code",
   "execution_count": 31,
   "metadata": {
    "ExecuteTime": {
     "end_time": "2019-11-05T01:37:10.884754Z",
     "start_time": "2019-11-05T01:37:10.854061Z"
    }
   },
   "outputs": [
    {
     "name": "stdout",
     "output_type": "stream",
     "text": [
      "<class 'pandas.core.frame.DataFrame'>\n",
      "Index: 25323 entries, 05zEpbSqcs9E0rcnCJWyZ9OgdH0MLby to qznqHiNpq0AB1AYn002A2HvaEFnN0lq\n",
      "Data columns (total 4 columns):\n",
      "ingredients     25323 non-null object\n",
      "picture_link    12119 non-null object\n",
      "instructions    25323 non-null object\n",
      "title           25323 non-null object\n",
      "dtypes: object(4)\n",
      "memory usage: 2.2+ MB\n"
     ]
    }
   ],
   "source": [
    "rb_epi.info()"
   ]
  },
  {
   "cell_type": "code",
   "execution_count": 36,
   "metadata": {
    "ExecuteTime": {
     "end_time": "2019-11-05T01:38:26.913025Z",
     "start_time": "2019-11-05T01:38:26.898910Z"
    }
   },
   "outputs": [
    {
     "data": {
      "text/html": [
       "<div>\n",
       "<style scoped>\n",
       "    .dataframe tbody tr th:only-of-type {\n",
       "        vertical-align: middle;\n",
       "    }\n",
       "\n",
       "    .dataframe tbody tr th {\n",
       "        vertical-align: top;\n",
       "    }\n",
       "\n",
       "    .dataframe thead th {\n",
       "        text-align: right;\n",
       "    }\n",
       "</style>\n",
       "<table border=\"1\" class=\"dataframe\">\n",
       "  <thead>\n",
       "    <tr style=\"text-align: right;\">\n",
       "      <th></th>\n",
       "      <th>ingredients</th>\n",
       "      <th>picture_link</th>\n",
       "      <th>instructions</th>\n",
       "      <th>title</th>\n",
       "    </tr>\n",
       "  </thead>\n",
       "  <tbody>\n",
       "    <tr>\n",
       "      <td>05zEpbSqcs9E0rcnCJWyZ9OgdH0MLby</td>\n",
       "      <td>[12 egg whites, 12 egg yolks, 1 1/2 cups sugar...</td>\n",
       "      <td>None</td>\n",
       "      <td>Beat the egg whites until stiff, gradually add...</td>\n",
       "      <td>Christmas Eggnog</td>\n",
       "    </tr>\n",
       "    <tr>\n",
       "      <td>mF5SZmoqxF4WtIlhLRvzuKk.z6s7P2S</td>\n",
       "      <td>[18 fresh chestnuts, 2 1/2 pounds veal stew me...</td>\n",
       "      <td>None</td>\n",
       "      <td>Preheat oven to 400°F. Using small sharp knife...</td>\n",
       "      <td>Veal, Carrot and Chestnut Ragoût</td>\n",
       "    </tr>\n",
       "    <tr>\n",
       "      <td>oQV5D7cVbCFwmrDs3pBUv2y.AG0WV26</td>\n",
       "      <td>[2 tablespoons unsalted butter, softened, 4 or...</td>\n",
       "      <td>3xjktRst3I5lDZ2Z5kTOtqQyzZFFN9u</td>\n",
       "      <td>Preheat the oven to 350°F. Spread the softened...</td>\n",
       "      <td>Caramelized Bread Pudding with Chocolate and C...</td>\n",
       "    </tr>\n",
       "    <tr>\n",
       "      <td>Z9seBJWaB5NkSp4DQHDnCAUBTwov/1u</td>\n",
       "      <td>[3/4 pound Stilton, crumbled (about 3 cups) an...</td>\n",
       "      <td>None</td>\n",
       "      <td>In a food processor blend the Stilton, the cre...</td>\n",
       "      <td>Sherried Stilton and Green Peppercorn Spread</td>\n",
       "    </tr>\n",
       "    <tr>\n",
       "      <td>bB3GxoAplVZeoX3fzWNWyeECtQFxw6G</td>\n",
       "      <td>[2 cups (about 9 1/2 ounces) whole almonds, to...</td>\n",
       "      <td>None</td>\n",
       "      <td>Position rack in center of oven and preheat to...</td>\n",
       "      <td>Almond-Chocolate Macaroons</td>\n",
       "    </tr>\n",
       "  </tbody>\n",
       "</table>\n",
       "</div>"
      ],
      "text/plain": [
       "                                                                       ingredients  \\\n",
       "05zEpbSqcs9E0rcnCJWyZ9OgdH0MLby  [12 egg whites, 12 egg yolks, 1 1/2 cups sugar...   \n",
       "mF5SZmoqxF4WtIlhLRvzuKk.z6s7P2S  [18 fresh chestnuts, 2 1/2 pounds veal stew me...   \n",
       "oQV5D7cVbCFwmrDs3pBUv2y.AG0WV26  [2 tablespoons unsalted butter, softened, 4 or...   \n",
       "Z9seBJWaB5NkSp4DQHDnCAUBTwov/1u  [3/4 pound Stilton, crumbled (about 3 cups) an...   \n",
       "bB3GxoAplVZeoX3fzWNWyeECtQFxw6G  [2 cups (about 9 1/2 ounces) whole almonds, to...   \n",
       "\n",
       "                                                    picture_link  \\\n",
       "05zEpbSqcs9E0rcnCJWyZ9OgdH0MLby                             None   \n",
       "mF5SZmoqxF4WtIlhLRvzuKk.z6s7P2S                             None   \n",
       "oQV5D7cVbCFwmrDs3pBUv2y.AG0WV26  3xjktRst3I5lDZ2Z5kTOtqQyzZFFN9u   \n",
       "Z9seBJWaB5NkSp4DQHDnCAUBTwov/1u                             None   \n",
       "bB3GxoAplVZeoX3fzWNWyeECtQFxw6G                             None   \n",
       "\n",
       "                                                                      instructions  \\\n",
       "05zEpbSqcs9E0rcnCJWyZ9OgdH0MLby  Beat the egg whites until stiff, gradually add...   \n",
       "mF5SZmoqxF4WtIlhLRvzuKk.z6s7P2S  Preheat oven to 400°F. Using small sharp knife...   \n",
       "oQV5D7cVbCFwmrDs3pBUv2y.AG0WV26  Preheat the oven to 350°F. Spread the softened...   \n",
       "Z9seBJWaB5NkSp4DQHDnCAUBTwov/1u  In a food processor blend the Stilton, the cre...   \n",
       "bB3GxoAplVZeoX3fzWNWyeECtQFxw6G  Position rack in center of oven and preheat to...   \n",
       "\n",
       "                                                                             title  \n",
       "05zEpbSqcs9E0rcnCJWyZ9OgdH0MLby                                  Christmas Eggnog   \n",
       "mF5SZmoqxF4WtIlhLRvzuKk.z6s7P2S                  Veal, Carrot and Chestnut Ragoût   \n",
       "oQV5D7cVbCFwmrDs3pBUv2y.AG0WV26  Caramelized Bread Pudding with Chocolate and C...  \n",
       "Z9seBJWaB5NkSp4DQHDnCAUBTwov/1u      Sherried Stilton and Green Peppercorn Spread   \n",
       "bB3GxoAplVZeoX3fzWNWyeECtQFxw6G                        Almond-Chocolate Macaroons   "
      ]
     },
     "execution_count": 36,
     "metadata": {},
     "output_type": "execute_result"
    }
   ],
   "source": [
    "#only about half of the epicurious dataset has pictures, also this is the smallest dataset. \n",
    "#the columns are also in a different order\n",
    "rb_epi.head()"
   ]
  },
  {
   "cell_type": "markdown",
   "metadata": {},
   "source": [
    "#### foodnetwork"
   ]
  },
  {
   "cell_type": "code",
   "execution_count": 37,
   "metadata": {
    "ExecuteTime": {
     "end_time": "2019-11-05T01:39:00.235063Z",
     "start_time": "2019-11-05T01:38:30.069192Z"
    }
   },
   "outputs": [],
   "source": [
    "rbdata_fn = pd.read_json(r'/Users/xinrucheng/Documents/GitHub/metisproject04/data/raw/recipes_raw/recipes_raw_nosource_fn.json')"
   ]
  },
  {
   "cell_type": "code",
   "execution_count": 38,
   "metadata": {
    "ExecuteTime": {
     "end_time": "2019-11-05T01:39:00.346054Z",
     "start_time": "2019-11-05T01:39:00.238901Z"
    }
   },
   "outputs": [],
   "source": [
    "rb_fn=rbdata_fn.T"
   ]
  },
  {
   "cell_type": "code",
   "execution_count": 39,
   "metadata": {
    "ExecuteTime": {
     "end_time": "2019-11-05T01:39:00.424257Z",
     "start_time": "2019-11-05T01:39:00.355161Z"
    }
   },
   "outputs": [
    {
     "name": "stdout",
     "output_type": "stream",
     "text": [
      "<class 'pandas.core.frame.DataFrame'>\n",
      "Index: 60039 entries, p3pKOD6jIHEcjf20CCXohP8uqkG5dGi to 7cXA77UpdDtIfBug2v6lEVIuV3Zcvhm\n",
      "Data columns (total 4 columns):\n",
      "instructions    59628 non-null object\n",
      "ingredients     59802 non-null object\n",
      "title           59750 non-null object\n",
      "picture_link    30952 non-null object\n",
      "dtypes: object(4)\n",
      "memory usage: 4.8+ MB\n"
     ]
    }
   ],
   "source": [
    "rb_fn.info()"
   ]
  },
  {
   "cell_type": "markdown",
   "metadata": {},
   "source": [
    "This is the largest single-source dataset with 60039 entries, but it has many missing values. \n",
    "What could cause the most issues for out purposes is missing title and ingredients. It would make sense to drop the rows that do not have title or ingredients, and even the ones missing instructions. We won't likely need the picture link, so we can drop those columns for all three files in the recipebox dataset."
   ]
  },
  {
   "cell_type": "code",
   "execution_count": 40,
   "metadata": {
    "ExecuteTime": {
     "end_time": "2019-11-05T01:39:00.494977Z",
     "start_time": "2019-11-05T01:39:00.430497Z"
    }
   },
   "outputs": [
    {
     "data": {
      "text/html": [
       "<div>\n",
       "<style scoped>\n",
       "    .dataframe tbody tr th:only-of-type {\n",
       "        vertical-align: middle;\n",
       "    }\n",
       "\n",
       "    .dataframe tbody tr th {\n",
       "        vertical-align: top;\n",
       "    }\n",
       "\n",
       "    .dataframe thead th {\n",
       "        text-align: right;\n",
       "    }\n",
       "</style>\n",
       "<table border=\"1\" class=\"dataframe\">\n",
       "  <thead>\n",
       "    <tr style=\"text-align: right;\">\n",
       "      <th></th>\n",
       "      <th>instructions</th>\n",
       "      <th>ingredients</th>\n",
       "      <th>title</th>\n",
       "      <th>picture_link</th>\n",
       "    </tr>\n",
       "  </thead>\n",
       "  <tbody>\n",
       "    <tr>\n",
       "      <td>p3pKOD6jIHEcjf20CCXohP8uqkG5dGi</td>\n",
       "      <td>Toss ingredients lightly and spoon into a butt...</td>\n",
       "      <td>[1/2 cup celery, finely chopped, 1 small green...</td>\n",
       "      <td>Grammie Hamblet's Deviled Crab</td>\n",
       "      <td>None</td>\n",
       "    </tr>\n",
       "    <tr>\n",
       "      <td>S7aeOIrsrgT0jLP32jKGg4j.o9zi2DO</td>\n",
       "      <td>Watch how to make this recipe.\\nSprinkle the s...</td>\n",
       "      <td>[2 pounds skirt steak, cut into 1/2-inch dice,...</td>\n",
       "      <td>Infineon Raceway Baked Beans</td>\n",
       "      <td>Ja5uaD8Q7m7vvtWwk2.48dr1eCre/qi</td>\n",
       "    </tr>\n",
       "    <tr>\n",
       "      <td>o9MItV9txfoPsUQ4v8b0vh1.VdjwfsK</td>\n",
       "      <td>In a large saucepan, let the beans soak in eno...</td>\n",
       "      <td>[1 1/2 cups dried black beans, picked over and...</td>\n",
       "      <td>Southwestern Black Bean Dip</td>\n",
       "      <td>None</td>\n",
       "    </tr>\n",
       "    <tr>\n",
       "      <td>5l1yTSYFifF/M2dfbD6DX28WWQpLWNK</td>\n",
       "      <td>Watch how to make this recipe.\\nPreheat the ov...</td>\n",
       "      <td>[1 1/4 pounds ground chuck, One 15-ounce can t...</td>\n",
       "      <td>Sour Cream Noodle Bake</td>\n",
       "      <td>nm/WxalB.VjEZSa0iX9RuZ8xI51Y7bS</td>\n",
       "    </tr>\n",
       "    <tr>\n",
       "      <td>kRBQSWtqYWqtkb34FGeenBSbC32gIdO</td>\n",
       "      <td>Special equipment: sushi mat\\nCook the brown r...</td>\n",
       "      <td>[1 cup rice, brown, medium-grain, cooked, 1/2-...</td>\n",
       "      <td>Sushi Renovation</td>\n",
       "      <td>None</td>\n",
       "    </tr>\n",
       "  </tbody>\n",
       "</table>\n",
       "</div>"
      ],
      "text/plain": [
       "                                                                      instructions  \\\n",
       "p3pKOD6jIHEcjf20CCXohP8uqkG5dGi  Toss ingredients lightly and spoon into a butt...   \n",
       "S7aeOIrsrgT0jLP32jKGg4j.o9zi2DO  Watch how to make this recipe.\\nSprinkle the s...   \n",
       "o9MItV9txfoPsUQ4v8b0vh1.VdjwfsK  In a large saucepan, let the beans soak in eno...   \n",
       "5l1yTSYFifF/M2dfbD6DX28WWQpLWNK  Watch how to make this recipe.\\nPreheat the ov...   \n",
       "kRBQSWtqYWqtkb34FGeenBSbC32gIdO  Special equipment: sushi mat\\nCook the brown r...   \n",
       "\n",
       "                                                                       ingredients  \\\n",
       "p3pKOD6jIHEcjf20CCXohP8uqkG5dGi  [1/2 cup celery, finely chopped, 1 small green...   \n",
       "S7aeOIrsrgT0jLP32jKGg4j.o9zi2DO  [2 pounds skirt steak, cut into 1/2-inch dice,...   \n",
       "o9MItV9txfoPsUQ4v8b0vh1.VdjwfsK  [1 1/2 cups dried black beans, picked over and...   \n",
       "5l1yTSYFifF/M2dfbD6DX28WWQpLWNK  [1 1/4 pounds ground chuck, One 15-ounce can t...   \n",
       "kRBQSWtqYWqtkb34FGeenBSbC32gIdO  [1 cup rice, brown, medium-grain, cooked, 1/2-...   \n",
       "\n",
       "                                                          title  \\\n",
       "p3pKOD6jIHEcjf20CCXohP8uqkG5dGi  Grammie Hamblet's Deviled Crab   \n",
       "S7aeOIrsrgT0jLP32jKGg4j.o9zi2DO    Infineon Raceway Baked Beans   \n",
       "o9MItV9txfoPsUQ4v8b0vh1.VdjwfsK     Southwestern Black Bean Dip   \n",
       "5l1yTSYFifF/M2dfbD6DX28WWQpLWNK          Sour Cream Noodle Bake   \n",
       "kRBQSWtqYWqtkb34FGeenBSbC32gIdO                Sushi Renovation   \n",
       "\n",
       "                                                    picture_link  \n",
       "p3pKOD6jIHEcjf20CCXohP8uqkG5dGi                             None  \n",
       "S7aeOIrsrgT0jLP32jKGg4j.o9zi2DO  Ja5uaD8Q7m7vvtWwk2.48dr1eCre/qi  \n",
       "o9MItV9txfoPsUQ4v8b0vh1.VdjwfsK                             None  \n",
       "5l1yTSYFifF/M2dfbD6DX28WWQpLWNK  nm/WxalB.VjEZSa0iX9RuZ8xI51Y7bS  \n",
       "kRBQSWtqYWqtkb34FGeenBSbC32gIdO                             None  "
      ]
     },
     "execution_count": 40,
     "metadata": {},
     "output_type": "execute_result"
    }
   ],
   "source": [
    "rb_fn.head()"
   ]
  },
  {
   "cell_type": "code",
   "execution_count": null,
   "metadata": {},
   "outputs": [],
   "source": []
  },
  {
   "cell_type": "markdown",
   "metadata": {},
   "source": [
    "### Data cleaning"
   ]
  },
  {
   "cell_type": "code",
   "execution_count": null,
   "metadata": {},
   "outputs": [],
   "source": [
    "#drop id columns in what's cooking dataset, drop picture_link columns in all 3 recipebox datasets\n",
    "\n",
    "#also drop missing values in foodnetwork and allrecipes data. wsc and epicurious do not have missing values"
   ]
  },
  {
   "cell_type": "code",
   "execution_count": null,
   "metadata": {},
   "outputs": [],
   "source": []
  },
  {
   "cell_type": "markdown",
   "metadata": {},
   "source": [
    "#### unigram/bigram/trigrams? \n",
    "what is it for? how to use?\n",
    "\n",
    "#### Stemming and Lemmatization?\n",
    "review NLP overview lecture?"
   ]
  },
  {
   "cell_type": "code",
   "execution_count": null,
   "metadata": {},
   "outputs": [],
   "source": []
  },
  {
   "cell_type": "markdown",
   "metadata": {},
   "source": [
    "## Vectorization\n",
    "### Count Vectorizer"
   ]
  },
  {
   "cell_type": "markdown",
   "metadata": {},
   "source": [
    "### TF-IDF"
   ]
  },
  {
   "cell_type": "markdown",
   "metadata": {},
   "source": [
    "## Dimensionality Reduction"
   ]
  },
  {
   "cell_type": "markdown",
   "metadata": {},
   "source": [
    "### Topic Modelling"
   ]
  },
  {
   "cell_type": "code",
   "execution_count": 41,
   "metadata": {
    "ExecuteTime": {
     "end_time": "2019-11-05T01:49:32.214134Z",
     "start_time": "2019-11-05T01:49:32.210000Z"
    }
   },
   "outputs": [],
   "source": [
    "#LSA/NMF on wsc data before classfier?"
   ]
  },
  {
   "cell_type": "markdown",
   "metadata": {},
   "source": [
    "## Clustering"
   ]
  },
  {
   "cell_type": "code",
   "execution_count": 42,
   "metadata": {
    "ExecuteTime": {
     "end_time": "2019-11-05T01:49:50.108701Z",
     "start_time": "2019-11-05T01:49:50.105395Z"
    }
   },
   "outputs": [],
   "source": [
    "#on both wsc and rb datasets?"
   ]
  },
  {
   "cell_type": "markdown",
   "metadata": {},
   "source": [
    "## Recommendation System\n",
    "\n",
    "### Ingredient-similarity\n",
    "### Flavor-similarity**"
   ]
  },
  {
   "cell_type": "code",
   "execution_count": null,
   "metadata": {},
   "outputs": [],
   "source": []
  }
 ],
 "metadata": {
  "kernelspec": {
   "display_name": "Python [conda env:metis] *",
   "language": "python",
   "name": "conda-env-metis-py"
  },
  "language_info": {
   "codemirror_mode": {
    "name": "ipython",
    "version": 3
   },
   "file_extension": ".py",
   "mimetype": "text/x-python",
   "name": "python",
   "nbconvert_exporter": "python",
   "pygments_lexer": "ipython3",
   "version": "3.7.3"
  },
  "toc": {
   "base_numbering": 1,
   "nav_menu": {},
   "number_sections": true,
   "sideBar": true,
   "skip_h1_title": false,
   "title_cell": "Table of Contents",
   "title_sidebar": "Contents",
   "toc_cell": false,
   "toc_position": {},
   "toc_section_display": true,
   "toc_window_display": true
  }
 },
 "nbformat": 4,
 "nbformat_minor": 2
}
