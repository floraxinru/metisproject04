{
 "cells": [
  {
   "cell_type": "markdown",
   "metadata": {},
   "source": [
    "## Pair Recommender\n",
    "\n",
    "You are given a [CSV file](user_movie_likes.csv) with two columns: UserID and MovieID. Each row lists a user and a movie they liked.\n",
    "\n",
    "- Write a function that will take a MovieID and will return three movies that are similar to it (based on the similiarities in user likes).\n",
    "\n",
    "- Write a function that will take a UserID and recommend three movies based on what they have liked.\n",
    "\n",
    "This an open-ended problem. Come up with a simple metric and just code it up."
   ]
  },
  {
   "cell_type": "code",
   "execution_count": null,
   "metadata": {},
   "outputs": [],
   "source": [
    "from collections import defaultdict\n",
    "from collections import Counter\n",
    "import csv\n",
    "import pandas as pd"
   ]
  },
  {
   "cell_type": "code",
   "execution_count": null,
   "metadata": {},
   "outputs": [],
   "source": [
    "# check the file\n",
    "pd.read_csv('user_movie_likes.csv', names=['UserID','MovieID']).head(10)"
   ]
  },
  {
   "cell_type": "code",
   "execution_count": null,
   "metadata": {},
   "outputs": [],
   "source": [
    "user_movie_map = defaultdict(list)\n",
    "movie_user_map = defaultdict(list)"
   ]
  },
  {
   "cell_type": "code",
   "execution_count": null,
   "metadata": {},
   "outputs": [],
   "source": [
    "# might need to play with the read option arguments depending on python version, 'rb' works for Python 2\n",
    "with open('user_movie_likes.csv', 'r') as csvfile:\n",
    "    w = csv.reader(csvfile, delimiter=',')\n",
    "    for row in w:\n",
    "        user_movie_map[int(row[0])].append(int(row[1]))\n",
    "        movie_user_map[int(row[1])].append(int(row[0]))"
   ]
  },
  {
   "cell_type": "code",
   "execution_count": null,
   "metadata": {},
   "outputs": [],
   "source": [
    "# all the movies that user 9 (key) liked:\n",
    "user_movie_map[9]"
   ]
  },
  {
   "cell_type": "code",
   "execution_count": null,
   "metadata": {},
   "outputs": [],
   "source": [
    "# all the users that liked movie 346 (key):\n",
    "movie_user_map[346]\n",
    "# notice user 9 in there"
   ]
  },
  {
   "cell_type": "code",
   "execution_count": null,
   "metadata": {},
   "outputs": [],
   "source": [
    "def get_similar_movie(user_movie_map,movie_user_map,m):\n",
    "    biglist = []\n",
    "    for u in movie_user_map[m]: # get all users that liked this movie\n",
    "        biglist.extend(user_movie_map[u]) # find all other movies those users liked and add to biglist\n",
    "    return Counter(biglist).most_common(4)[1:] # use counter to 'count' the other movies that show up most common"
   ]
  },
  {
   "cell_type": "code",
   "execution_count": null,
   "metadata": {},
   "outputs": [],
   "source": [
    "def get_movie_recommendation(user_movie_map,movie_user_map,u1):\n",
    "    biglist = []\n",
    "    for m in user_movie_map[u1]: # for the movies a specific user likes\n",
    "        for u in movie_user_map[m]: # get other users who liked those movies\n",
    "            biglist.extend(user_movie_map[u]) # find the other movies those \"similar folks\" most liked\n",
    "    return Counter(biglist).most_common(3) # return tuples of (most common id, count)"
   ]
  },
  {
   "cell_type": "code",
   "execution_count": null,
   "metadata": {},
   "outputs": [],
   "source": [
    "get_similar_movie(user_movie_map,movie_user_map,2)"
   ]
  },
  {
   "cell_type": "code",
   "execution_count": null,
   "metadata": {},
   "outputs": [],
   "source": [
    "get_movie_recommendation(user_movie_map,movie_user_map,2)"
   ]
  },
  {
   "cell_type": "markdown",
   "metadata": {},
   "source": [
    "## Other Approaches: \n",
    "\n",
    "### SVD\n",
    "- Create a user to movie matrix, binary square form (not the current long form)\n",
    "- Factorize the matrix and find movies that have high cosine similarity in their projections on the latent dimensions\n",
    "\n",
    "### Clustering\n",
    "- Create a user to movie matrix, binary square form (not the current long form)\n",
    "- Cluster the movies based on similarity on the user dimensions"
   ]
  }
 ],
 "metadata": {
  "kernelspec": {
   "display_name": "metis",
   "language": "python",
   "name": "metis"
  },
  "language_info": {
   "codemirror_mode": {
    "name": "ipython",
    "version": 3
   },
   "file_extension": ".py",
   "mimetype": "text/x-python",
   "name": "python",
   "nbconvert_exporter": "python",
   "pygments_lexer": "ipython3",
   "version": "3.5.6"
  }
 },
 "nbformat": 4,
 "nbformat_minor": 1
}
