{
 "cells": [
  {
   "cell_type": "code",
   "execution_count": 1,
   "metadata": {
    "ExecuteTime": {
     "end_time": "2019-11-08T22:35:01.722133Z",
     "start_time": "2019-11-08T22:34:57.582841Z"
    }
   },
   "outputs": [
    {
     "name": "stdout",
     "output_type": "stream",
     "text": [
      "Populating the interactive namespace from numpy and matplotlib\n"
     ]
    }
   ],
   "source": [
    "import pandas as pd\n",
    "import numpy as np\n",
    "\n",
    "import matplotlib.pyplot as plt\n",
    "import seaborn as sns\n",
    "%matplotlib inline\n",
    "\n",
    "# import sklearn\n",
    "from sklearn.feature_extraction.text import CountVectorizer \n",
    "from sklearn.feature_extraction.text import TfidfVectorizer  # TF-IDF\n",
    "from sklearn.preprocessing import scale\n",
    "from sklearn.cluster import KMeans\n",
    "from sklearn.decomposition import TruncatedSVD\n",
    "from sklearn.decomposition import NMF\n",
    "from sklearn.metrics.pairwise import cosine_similarity\n",
    "\n",
    "import nltk\n",
    "import spacy #for faster tokenization and lemmatization\n",
    "\n",
    "from sklearn.model_selection import train_test_split\n",
    "from sklearn.metrics import confusion_matrix\n",
    "\n",
    "import re\n",
    "import string\n",
    "\n",
    "import project4_functions\n",
    "\n",
    "%pylab inline"
   ]
  },
  {
   "cell_type": "code",
   "execution_count": 2,
   "metadata": {
    "ExecuteTime": {
     "end_time": "2019-11-08T22:35:02.398487Z",
     "start_time": "2019-11-08T22:35:01.725123Z"
    }
   },
   "outputs": [],
   "source": [
    "cdata = pd.read_json (r'/Users/xinrucheng/Documents/GitHub/metisproject04/data/raw/whats-cooking/train.json')"
   ]
  },
  {
   "cell_type": "code",
   "execution_count": 3,
   "metadata": {
    "ExecuteTime": {
     "end_time": "2019-11-08T22:35:02.441761Z",
     "start_time": "2019-11-08T22:35:02.401221Z"
    }
   },
   "outputs": [
    {
     "data": {
      "text/html": [
       "<div>\n",
       "<style scoped>\n",
       "    .dataframe tbody tr th:only-of-type {\n",
       "        vertical-align: middle;\n",
       "    }\n",
       "\n",
       "    .dataframe tbody tr th {\n",
       "        vertical-align: top;\n",
       "    }\n",
       "\n",
       "    .dataframe thead th {\n",
       "        text-align: right;\n",
       "    }\n",
       "</style>\n",
       "<table border=\"1\" class=\"dataframe\">\n",
       "  <thead>\n",
       "    <tr style=\"text-align: right;\">\n",
       "      <th></th>\n",
       "      <th>id</th>\n",
       "      <th>cuisine</th>\n",
       "      <th>ingredients</th>\n",
       "    </tr>\n",
       "  </thead>\n",
       "  <tbody>\n",
       "    <tr>\n",
       "      <td>0</td>\n",
       "      <td>10259</td>\n",
       "      <td>greek</td>\n",
       "      <td>[romaine lettuce, black olives, grape tomatoes...</td>\n",
       "    </tr>\n",
       "    <tr>\n",
       "      <td>1</td>\n",
       "      <td>25693</td>\n",
       "      <td>southern_us</td>\n",
       "      <td>[plain flour, ground pepper, salt, tomatoes, g...</td>\n",
       "    </tr>\n",
       "    <tr>\n",
       "      <td>2</td>\n",
       "      <td>20130</td>\n",
       "      <td>filipino</td>\n",
       "      <td>[eggs, pepper, salt, mayonaise, cooking oil, g...</td>\n",
       "    </tr>\n",
       "    <tr>\n",
       "      <td>3</td>\n",
       "      <td>22213</td>\n",
       "      <td>indian</td>\n",
       "      <td>[water, vegetable oil, wheat, salt]</td>\n",
       "    </tr>\n",
       "    <tr>\n",
       "      <td>4</td>\n",
       "      <td>13162</td>\n",
       "      <td>indian</td>\n",
       "      <td>[black pepper, shallots, cornflour, cayenne pe...</td>\n",
       "    </tr>\n",
       "  </tbody>\n",
       "</table>\n",
       "</div>"
      ],
      "text/plain": [
       "      id      cuisine                                        ingredients\n",
       "0  10259        greek  [romaine lettuce, black olives, grape tomatoes...\n",
       "1  25693  southern_us  [plain flour, ground pepper, salt, tomatoes, g...\n",
       "2  20130     filipino  [eggs, pepper, salt, mayonaise, cooking oil, g...\n",
       "3  22213       indian                [water, vegetable oil, wheat, salt]\n",
       "4  13162       indian  [black pepper, shallots, cornflour, cayenne pe..."
      ]
     },
     "execution_count": 3,
     "metadata": {},
     "output_type": "execute_result"
    }
   ],
   "source": [
    "cdata.head()"
   ]
  },
  {
   "cell_type": "code",
   "execution_count": 4,
   "metadata": {
    "ExecuteTime": {
     "end_time": "2019-11-08T22:35:02.489542Z",
     "start_time": "2019-11-08T22:35:02.445680Z"
    }
   },
   "outputs": [
    {
     "name": "stdout",
     "output_type": "stream",
     "text": [
      "<class 'pandas.core.frame.DataFrame'>\n",
      "RangeIndex: 39774 entries, 0 to 39773\n",
      "Data columns (total 3 columns):\n",
      "id             39774 non-null int64\n",
      "cuisine        39774 non-null object\n",
      "ingredients    39774 non-null object\n",
      "dtypes: int64(1), object(2)\n",
      "memory usage: 932.3+ KB\n"
     ]
    }
   ],
   "source": [
    "cdata.info()"
   ]
  },
  {
   "cell_type": "code",
   "execution_count": 5,
   "metadata": {
    "ExecuteTime": {
     "end_time": "2019-11-08T22:35:02.518846Z",
     "start_time": "2019-11-08T22:35:02.494988Z"
    }
   },
   "outputs": [
    {
     "data": {
      "text/plain": [
       "20"
      ]
     },
     "execution_count": 5,
     "metadata": {},
     "output_type": "execute_result"
    }
   ],
   "source": [
    "cdata['cuisine'].nunique()"
   ]
  },
  {
   "cell_type": "code",
   "execution_count": 6,
   "metadata": {
    "ExecuteTime": {
     "end_time": "2019-11-08T22:35:02.544058Z",
     "start_time": "2019-11-08T22:35:02.523434Z"
    }
   },
   "outputs": [
    {
     "data": {
      "text/plain": [
       "array(['greek', 'southern_us', 'filipino', 'indian', 'jamaican',\n",
       "       'spanish', 'italian', 'mexican', 'chinese', 'british', 'thai',\n",
       "       'vietnamese', 'cajun_creole', 'brazilian', 'french', 'japanese',\n",
       "       'irish', 'korean', 'moroccan', 'russian'], dtype=object)"
      ]
     },
     "execution_count": 6,
     "metadata": {},
     "output_type": "execute_result"
    }
   ],
   "source": [
    "cdata['cuisine'].unique()"
   ]
  },
  {
   "cell_type": "markdown",
   "metadata": {},
   "source": [
    "-----"
   ]
  },
  {
   "cell_type": "code",
   "execution_count": 7,
   "metadata": {
    "ExecuteTime": {
     "end_time": "2019-11-08T22:35:02.554821Z",
     "start_time": "2019-11-08T22:35:02.547263Z"
    }
   },
   "outputs": [],
   "source": [
    "#put ADVERTISEMENT in regex function instead of adding to nltk stopwords list"
   ]
  },
  {
   "cell_type": "code",
   "execution_count": 8,
   "metadata": {
    "ExecuteTime": {
     "end_time": "2019-11-08T22:35:03.709284Z",
     "start_time": "2019-11-08T22:35:02.567004Z"
    }
   },
   "outputs": [
    {
     "data": {
      "text/plain": [
       "0        ['romaine lettuce', 'black olives', 'grape tom...\n",
       "1        ['plain flour', 'ground pepper', 'salt', 'toma...\n",
       "2        ['eggs', 'pepper', 'salt', 'mayonaise', 'cooki...\n",
       "3              ['water', 'vegetable oil', 'wheat', 'salt']\n",
       "4        ['black pepper', 'shallots', 'cornflour', 'cay...\n",
       "                               ...                        \n",
       "39769    ['light brown sugar', 'granulated sugar', 'but...\n",
       "39770    ['KRAFT Zesty Italian Dressing', 'purple onion...\n",
       "39771    ['eggs', 'citrus fruit', 'raisins', 'sourdough...\n",
       "39772    ['boneless chicken skinless thigh', 'minced ga...\n",
       "39773    ['green chile', 'jalapeno chilies', 'onions', ...\n",
       "Name: ingredients, Length: 39774, dtype: object"
      ]
     },
     "execution_count": 8,
     "metadata": {},
     "output_type": "execute_result"
    }
   ],
   "source": [
    "cmod=cdata['ingredients'].apply(project4_functions.regex_nodigits_new)\n",
    "cmod"
   ]
  },
  {
   "cell_type": "code",
   "execution_count": 9,
   "metadata": {
    "ExecuteTime": {
     "end_time": "2019-11-08T22:35:03.718944Z",
     "start_time": "2019-11-08T22:35:03.714205Z"
    }
   },
   "outputs": [],
   "source": [
    "#removed digits successfully, need to remove [] and \\n also, should be included in vectorizer\n",
    "#-- but why is regex ftn not doing that?\n"
   ]
  },
  {
   "cell_type": "code",
   "execution_count": 11,
   "metadata": {
    "ExecuteTime": {
     "end_time": "2019-11-08T22:36:29.710512Z",
     "start_time": "2019-11-08T22:36:29.703933Z"
    }
   },
   "outputs": [
    {
     "data": {
      "text/plain": [
       "39774"
      ]
     },
     "execution_count": 11,
     "metadata": {},
     "output_type": "execute_result"
    }
   ],
   "source": [
    "len(cmod) #length correct but all 1st recipe\n",
    "#if return s in nodigits ftn, len=661 much shorter than expected, why?"
   ]
  },
  {
   "cell_type": "code",
   "execution_count": 13,
   "metadata": {
    "ExecuteTime": {
     "end_time": "2019-11-08T22:36:38.094231Z",
     "start_time": "2019-11-08T22:36:36.934607Z"
    }
   },
   "outputs": [
    {
     "data": {
      "text/plain": [
       "(39774, 2958)"
      ]
     },
     "execution_count": 13,
     "metadata": {},
     "output_type": "execute_result"
    }
   ],
   "source": [
    "test=pd.Series(cmod)\n",
    "vectorizer = CountVectorizer(stop_words='english')\n",
    "doc_word = vectorizer.fit_transform(test)\n",
    "doc_word.shape"
   ]
  },
  {
   "cell_type": "code",
   "execution_count": 16,
   "metadata": {
    "ExecuteTime": {
     "end_time": "2019-11-08T22:38:05.193610Z",
     "start_time": "2019-11-08T22:38:05.187323Z"
    }
   },
   "outputs": [
    {
     "data": {
      "text/plain": [
       "scipy.sparse.csr.csr_matrix"
      ]
     },
     "execution_count": 16,
     "metadata": {},
     "output_type": "execute_result"
    }
   ],
   "source": [
    "type(doc_word)"
   ]
  },
  {
   "cell_type": "code",
   "execution_count": 17,
   "metadata": {
    "ExecuteTime": {
     "end_time": "2019-11-08T22:38:17.144907Z",
     "start_time": "2019-11-08T22:38:16.603356Z"
    }
   },
   "outputs": [
    {
     "data": {
      "text/plain": [
       "array([0.05469238, 0.03920768, 0.03985984, 0.03390693, 0.03084454,\n",
       "       0.02539423, 0.02314709, 0.02131655, 0.01859653, 0.01582786])"
      ]
     },
     "execution_count": 17,
     "metadata": {},
     "output_type": "execute_result"
    }
   ],
   "source": [
    "#dim reduction (LSA) on wsc data, ingredients column only:\n",
    "\n",
    "#from topic modelling LSA/NMF notebook:\n",
    "# Acronynms: Latent Semantic Analysis (LSA) is just another name for \n",
    "#  Signular Value Decomposition (SVD) applied to Natural Language Processing (NLP)\n",
    "lsa = TruncatedSVD(10)  \n",
    "#TruncatedSVD--cuts off 0s (singular values) in decomposition result, just keeps important ones\n",
    "#docstring for TruncatedSVD says this does not center the data!\n",
    "doc_topic = lsa.fit_transform(doc_word)\n",
    "lsa.explained_variance_ratio_  #variance for topics!"
   ]
  },
  {
   "cell_type": "code",
   "execution_count": 18,
   "metadata": {
    "ExecuteTime": {
     "end_time": "2019-11-08T22:38:44.411041Z",
     "start_time": "2019-11-08T22:38:44.369440Z"
    }
   },
   "outputs": [
    {
     "data": {
      "text/html": [
       "<div>\n",
       "<style scoped>\n",
       "    .dataframe tbody tr th:only-of-type {\n",
       "        vertical-align: middle;\n",
       "    }\n",
       "\n",
       "    .dataframe tbody tr th {\n",
       "        vertical-align: top;\n",
       "    }\n",
       "\n",
       "    .dataframe thead th {\n",
       "        text-align: right;\n",
       "    }\n",
       "</style>\n",
       "<table border=\"1\" class=\"dataframe\">\n",
       "  <thead>\n",
       "    <tr style=\"text-align: right;\">\n",
       "      <th></th>\n",
       "      <th>abalone</th>\n",
       "      <th>abbamele</th>\n",
       "      <th>absinthe</th>\n",
       "      <th>abura</th>\n",
       "      <th>acai</th>\n",
       "      <th>accent</th>\n",
       "      <th>accompaniment</th>\n",
       "      <th>achiote</th>\n",
       "      <th>acid</th>\n",
       "      <th>acini</th>\n",
       "      <th>...</th>\n",
       "      <th>za</th>\n",
       "      <th>zatarain</th>\n",
       "      <th>zatarains</th>\n",
       "      <th>zero</th>\n",
       "      <th>zest</th>\n",
       "      <th>zesty</th>\n",
       "      <th>zinfandel</th>\n",
       "      <th>ziti</th>\n",
       "      <th>zucchini</th>\n",
       "      <th>épices</th>\n",
       "    </tr>\n",
       "  </thead>\n",
       "  <tbody>\n",
       "    <tr>\n",
       "      <td>0</td>\n",
       "      <td>0.00001</td>\n",
       "      <td>0.00001</td>\n",
       "      <td>0.0</td>\n",
       "      <td>0.00002</td>\n",
       "      <td>0.00001</td>\n",
       "      <td>0.00009</td>\n",
       "      <td>0.00001</td>\n",
       "      <td>0.00023</td>\n",
       "      <td>0.00007</td>\n",
       "      <td>0.00003</td>\n",
       "      <td>...</td>\n",
       "      <td>0.00003</td>\n",
       "      <td>0.00000</td>\n",
       "      <td>0.00001</td>\n",
       "      <td>0.00002</td>\n",
       "      <td>0.00991</td>\n",
       "      <td>0.00018</td>\n",
       "      <td>0.00010</td>\n",
       "      <td>0.00046</td>\n",
       "      <td>0.01247</td>\n",
       "      <td>0.00003</td>\n",
       "    </tr>\n",
       "    <tr>\n",
       "      <td>1</td>\n",
       "      <td>0.00003</td>\n",
       "      <td>0.00000</td>\n",
       "      <td>0.0</td>\n",
       "      <td>0.00010</td>\n",
       "      <td>0.00008</td>\n",
       "      <td>0.00009</td>\n",
       "      <td>0.00005</td>\n",
       "      <td>-0.00005</td>\n",
       "      <td>0.00004</td>\n",
       "      <td>-0.00004</td>\n",
       "      <td>...</td>\n",
       "      <td>-0.00002</td>\n",
       "      <td>0.00000</td>\n",
       "      <td>0.00000</td>\n",
       "      <td>0.00006</td>\n",
       "      <td>0.01240</td>\n",
       "      <td>-0.00027</td>\n",
       "      <td>0.00000</td>\n",
       "      <td>-0.00052</td>\n",
       "      <td>-0.01105</td>\n",
       "      <td>0.00007</td>\n",
       "    </tr>\n",
       "    <tr>\n",
       "      <td>2</td>\n",
       "      <td>0.00005</td>\n",
       "      <td>0.00000</td>\n",
       "      <td>-0.0</td>\n",
       "      <td>0.00006</td>\n",
       "      <td>-0.00003</td>\n",
       "      <td>0.00022</td>\n",
       "      <td>-0.00003</td>\n",
       "      <td>0.00011</td>\n",
       "      <td>0.00003</td>\n",
       "      <td>-0.00003</td>\n",
       "      <td>...</td>\n",
       "      <td>-0.00003</td>\n",
       "      <td>0.00001</td>\n",
       "      <td>0.00001</td>\n",
       "      <td>0.00001</td>\n",
       "      <td>-0.00938</td>\n",
       "      <td>-0.00015</td>\n",
       "      <td>-0.00001</td>\n",
       "      <td>-0.00052</td>\n",
       "      <td>0.00191</td>\n",
       "      <td>-0.00006</td>\n",
       "    </tr>\n",
       "    <tr>\n",
       "      <td>3</td>\n",
       "      <td>-0.00003</td>\n",
       "      <td>0.00005</td>\n",
       "      <td>0.0</td>\n",
       "      <td>-0.00004</td>\n",
       "      <td>0.00003</td>\n",
       "      <td>-0.00025</td>\n",
       "      <td>0.00005</td>\n",
       "      <td>0.00019</td>\n",
       "      <td>-0.00006</td>\n",
       "      <td>0.00008</td>\n",
       "      <td>...</td>\n",
       "      <td>-0.00000</td>\n",
       "      <td>-0.00001</td>\n",
       "      <td>0.00001</td>\n",
       "      <td>-0.00008</td>\n",
       "      <td>0.02575</td>\n",
       "      <td>-0.00005</td>\n",
       "      <td>0.00032</td>\n",
       "      <td>0.00042</td>\n",
       "      <td>0.00620</td>\n",
       "      <td>0.00004</td>\n",
       "    </tr>\n",
       "    <tr>\n",
       "      <td>4</td>\n",
       "      <td>-0.00001</td>\n",
       "      <td>-0.00003</td>\n",
       "      <td>0.0</td>\n",
       "      <td>0.00000</td>\n",
       "      <td>0.00001</td>\n",
       "      <td>0.00008</td>\n",
       "      <td>0.00002</td>\n",
       "      <td>0.00017</td>\n",
       "      <td>0.00004</td>\n",
       "      <td>-0.00008</td>\n",
       "      <td>...</td>\n",
       "      <td>0.00004</td>\n",
       "      <td>-0.00001</td>\n",
       "      <td>-0.00002</td>\n",
       "      <td>0.00002</td>\n",
       "      <td>0.00724</td>\n",
       "      <td>-0.00064</td>\n",
       "      <td>-0.00006</td>\n",
       "      <td>-0.00152</td>\n",
       "      <td>-0.01279</td>\n",
       "      <td>0.00005</td>\n",
       "    </tr>\n",
       "    <tr>\n",
       "      <td>5</td>\n",
       "      <td>-0.00003</td>\n",
       "      <td>0.00001</td>\n",
       "      <td>-0.0</td>\n",
       "      <td>-0.00001</td>\n",
       "      <td>-0.00003</td>\n",
       "      <td>0.00006</td>\n",
       "      <td>-0.00003</td>\n",
       "      <td>-0.00007</td>\n",
       "      <td>-0.00011</td>\n",
       "      <td>0.00003</td>\n",
       "      <td>...</td>\n",
       "      <td>-0.00007</td>\n",
       "      <td>0.00003</td>\n",
       "      <td>-0.00005</td>\n",
       "      <td>0.00003</td>\n",
       "      <td>-0.01176</td>\n",
       "      <td>0.00084</td>\n",
       "      <td>0.00003</td>\n",
       "      <td>0.00083</td>\n",
       "      <td>-0.00012</td>\n",
       "      <td>-0.00008</td>\n",
       "    </tr>\n",
       "    <tr>\n",
       "      <td>6</td>\n",
       "      <td>-0.00003</td>\n",
       "      <td>-0.00002</td>\n",
       "      <td>0.0</td>\n",
       "      <td>0.00000</td>\n",
       "      <td>0.00001</td>\n",
       "      <td>-0.00024</td>\n",
       "      <td>0.00004</td>\n",
       "      <td>0.00013</td>\n",
       "      <td>0.00005</td>\n",
       "      <td>-0.00004</td>\n",
       "      <td>...</td>\n",
       "      <td>0.00004</td>\n",
       "      <td>0.00001</td>\n",
       "      <td>-0.00003</td>\n",
       "      <td>0.00006</td>\n",
       "      <td>0.00719</td>\n",
       "      <td>0.00049</td>\n",
       "      <td>0.00010</td>\n",
       "      <td>-0.00129</td>\n",
       "      <td>-0.00574</td>\n",
       "      <td>0.00011</td>\n",
       "    </tr>\n",
       "    <tr>\n",
       "      <td>7</td>\n",
       "      <td>0.00000</td>\n",
       "      <td>0.00005</td>\n",
       "      <td>-0.0</td>\n",
       "      <td>-0.00004</td>\n",
       "      <td>0.00004</td>\n",
       "      <td>-0.00003</td>\n",
       "      <td>-0.00000</td>\n",
       "      <td>0.00062</td>\n",
       "      <td>0.00005</td>\n",
       "      <td>-0.00004</td>\n",
       "      <td>...</td>\n",
       "      <td>0.00002</td>\n",
       "      <td>0.00005</td>\n",
       "      <td>0.00003</td>\n",
       "      <td>0.00003</td>\n",
       "      <td>-0.00695</td>\n",
       "      <td>-0.00011</td>\n",
       "      <td>0.00013</td>\n",
       "      <td>-0.00156</td>\n",
       "      <td>-0.00330</td>\n",
       "      <td>-0.00004</td>\n",
       "    </tr>\n",
       "    <tr>\n",
       "      <td>8</td>\n",
       "      <td>0.00006</td>\n",
       "      <td>0.00008</td>\n",
       "      <td>0.0</td>\n",
       "      <td>0.00003</td>\n",
       "      <td>-0.00004</td>\n",
       "      <td>0.00022</td>\n",
       "      <td>0.00002</td>\n",
       "      <td>-0.00022</td>\n",
       "      <td>-0.00023</td>\n",
       "      <td>0.00009</td>\n",
       "      <td>...</td>\n",
       "      <td>-0.00010</td>\n",
       "      <td>0.00003</td>\n",
       "      <td>-0.00001</td>\n",
       "      <td>-0.00019</td>\n",
       "      <td>0.01479</td>\n",
       "      <td>0.00002</td>\n",
       "      <td>0.00035</td>\n",
       "      <td>-0.00022</td>\n",
       "      <td>-0.00978</td>\n",
       "      <td>-0.00003</td>\n",
       "    </tr>\n",
       "    <tr>\n",
       "      <td>9</td>\n",
       "      <td>-0.00002</td>\n",
       "      <td>-0.00001</td>\n",
       "      <td>0.0</td>\n",
       "      <td>0.00009</td>\n",
       "      <td>0.00002</td>\n",
       "      <td>0.00023</td>\n",
       "      <td>0.00003</td>\n",
       "      <td>-0.00065</td>\n",
       "      <td>0.00001</td>\n",
       "      <td>0.00000</td>\n",
       "      <td>...</td>\n",
       "      <td>-0.00009</td>\n",
       "      <td>0.00004</td>\n",
       "      <td>0.00000</td>\n",
       "      <td>-0.00009</td>\n",
       "      <td>-0.00094</td>\n",
       "      <td>-0.00007</td>\n",
       "      <td>0.00031</td>\n",
       "      <td>0.00044</td>\n",
       "      <td>0.00464</td>\n",
       "      <td>-0.00007</td>\n",
       "    </tr>\n",
       "  </tbody>\n",
       "</table>\n",
       "<p>10 rows × 2958 columns</p>\n",
       "</div>"
      ],
      "text/plain": [
       "   abalone  abbamele  absinthe    abura     acai   accent  accompaniment  \\\n",
       "0  0.00001   0.00001       0.0  0.00002  0.00001  0.00009        0.00001   \n",
       "1  0.00003   0.00000       0.0  0.00010  0.00008  0.00009        0.00005   \n",
       "2  0.00005   0.00000      -0.0  0.00006 -0.00003  0.00022       -0.00003   \n",
       "3 -0.00003   0.00005       0.0 -0.00004  0.00003 -0.00025        0.00005   \n",
       "4 -0.00001  -0.00003       0.0  0.00000  0.00001  0.00008        0.00002   \n",
       "5 -0.00003   0.00001      -0.0 -0.00001 -0.00003  0.00006       -0.00003   \n",
       "6 -0.00003  -0.00002       0.0  0.00000  0.00001 -0.00024        0.00004   \n",
       "7  0.00000   0.00005      -0.0 -0.00004  0.00004 -0.00003       -0.00000   \n",
       "8  0.00006   0.00008       0.0  0.00003 -0.00004  0.00022        0.00002   \n",
       "9 -0.00002  -0.00001       0.0  0.00009  0.00002  0.00023        0.00003   \n",
       "\n",
       "   achiote     acid    acini  ...       za  zatarain  zatarains     zero  \\\n",
       "0  0.00023  0.00007  0.00003  ...  0.00003   0.00000    0.00001  0.00002   \n",
       "1 -0.00005  0.00004 -0.00004  ... -0.00002   0.00000    0.00000  0.00006   \n",
       "2  0.00011  0.00003 -0.00003  ... -0.00003   0.00001    0.00001  0.00001   \n",
       "3  0.00019 -0.00006  0.00008  ... -0.00000  -0.00001    0.00001 -0.00008   \n",
       "4  0.00017  0.00004 -0.00008  ...  0.00004  -0.00001   -0.00002  0.00002   \n",
       "5 -0.00007 -0.00011  0.00003  ... -0.00007   0.00003   -0.00005  0.00003   \n",
       "6  0.00013  0.00005 -0.00004  ...  0.00004   0.00001   -0.00003  0.00006   \n",
       "7  0.00062  0.00005 -0.00004  ...  0.00002   0.00005    0.00003  0.00003   \n",
       "8 -0.00022 -0.00023  0.00009  ... -0.00010   0.00003   -0.00001 -0.00019   \n",
       "9 -0.00065  0.00001  0.00000  ... -0.00009   0.00004    0.00000 -0.00009   \n",
       "\n",
       "      zest    zesty  zinfandel     ziti  zucchini   épices  \n",
       "0  0.00991  0.00018    0.00010  0.00046   0.01247  0.00003  \n",
       "1  0.01240 -0.00027    0.00000 -0.00052  -0.01105  0.00007  \n",
       "2 -0.00938 -0.00015   -0.00001 -0.00052   0.00191 -0.00006  \n",
       "3  0.02575 -0.00005    0.00032  0.00042   0.00620  0.00004  \n",
       "4  0.00724 -0.00064   -0.00006 -0.00152  -0.01279  0.00005  \n",
       "5 -0.01176  0.00084    0.00003  0.00083  -0.00012 -0.00008  \n",
       "6  0.00719  0.00049    0.00010 -0.00129  -0.00574  0.00011  \n",
       "7 -0.00695 -0.00011    0.00013 -0.00156  -0.00330 -0.00004  \n",
       "8  0.01479  0.00002    0.00035 -0.00022  -0.00978 -0.00003  \n",
       "9 -0.00094 -0.00007    0.00031  0.00044   0.00464 -0.00007  \n",
       "\n",
       "[10 rows x 2958 columns]"
      ]
     },
     "execution_count": 18,
     "metadata": {},
     "output_type": "execute_result"
    }
   ],
   "source": [
    "topic_word = pd.DataFrame(lsa.components_.round(5),\n",
    "             columns = vectorizer.get_feature_names()) #index = [\"component_1\",\"component_2\"],\n",
    "topic_word"
   ]
  },
  {
   "cell_type": "code",
   "execution_count": 19,
   "metadata": {
    "ExecuteTime": {
     "end_time": "2019-11-08T22:39:35.608691Z",
     "start_time": "2019-11-08T22:39:35.591793Z"
    }
   },
   "outputs": [
    {
     "name": "stdout",
     "output_type": "stream",
     "text": [
      "\n",
      "Topic  0\n",
      "pepper, oil, salt, ground, garlic, fresh, sauce, onions, black, chicken\n",
      "\n",
      "Topic  1\n",
      "sugar, flour, sauce, butter, eggs, purpose, water, baking, milk, large\n",
      "\n",
      "Topic  2\n",
      "sauce, oil, soy, sesame, rice, garlic, onions, ginger, chicken, green\n",
      "\n",
      "Topic  3\n",
      "fresh, juice, olive, lemon, chopped, cheese, lime, cloves, oil, parsley\n",
      "\n",
      "Topic  4\n",
      "ground, fresh, cumin, ginger, cilantro, juice, coriander, cinnamon, lime, turmeric\n",
      "\n",
      "Topic  5\n",
      "cheese, chicken, sauce, cream, shredded, ground, cilantro, onions, green, chopped\n",
      "\n",
      "Topic  6\n",
      "pepper, fresh, bell, green, juice, lime, red, chopped, cilantro, chicken\n",
      "\n",
      "Topic  7\n",
      "chicken, powder, oil, salt, broth, onions, tomatoes, olive, garlic, cumin\n",
      "\n",
      "Topic  8\n",
      "chicken, broth, ground, boneless, skinless, white, sodium, butter, wine, breasts\n",
      "\n",
      "Topic  9\n",
      "onions, green, water, fresh, butter, parsley, ground, carrots, tomatoes, celery\n"
     ]
    }
   ],
   "source": [
    "project4_functions.display_topics(lsa, vectorizer.get_feature_names(), 10)"
   ]
  },
  {
   "cell_type": "code",
   "execution_count": 20,
   "metadata": {
    "ExecuteTime": {
     "end_time": "2019-11-08T22:39:56.743904Z",
     "start_time": "2019-11-08T22:39:56.717973Z"
    }
   },
   "outputs": [
    {
     "data": {
      "text/html": [
       "<div>\n",
       "<style scoped>\n",
       "    .dataframe tbody tr th:only-of-type {\n",
       "        vertical-align: middle;\n",
       "    }\n",
       "\n",
       "    .dataframe tbody tr th {\n",
       "        vertical-align: top;\n",
       "    }\n",
       "\n",
       "    .dataframe thead th {\n",
       "        text-align: right;\n",
       "    }\n",
       "</style>\n",
       "<table border=\"1\" class=\"dataframe\">\n",
       "  <thead>\n",
       "    <tr style=\"text-align: right;\">\n",
       "      <th></th>\n",
       "      <th>0</th>\n",
       "      <th>1</th>\n",
       "      <th>2</th>\n",
       "      <th>3</th>\n",
       "      <th>4</th>\n",
       "      <th>5</th>\n",
       "      <th>6</th>\n",
       "      <th>7</th>\n",
       "      <th>8</th>\n",
       "      <th>9</th>\n",
       "    </tr>\n",
       "  </thead>\n",
       "  <tbody>\n",
       "    <tr>\n",
       "      <td>0</td>\n",
       "      <td>1.30098</td>\n",
       "      <td>-0.84611</td>\n",
       "      <td>-0.30520</td>\n",
       "      <td>-0.20134</td>\n",
       "      <td>-0.82252</td>\n",
       "      <td>0.41176</td>\n",
       "      <td>0.00801</td>\n",
       "      <td>-0.22633</td>\n",
       "      <td>-0.47333</td>\n",
       "      <td>-0.58897</td>\n",
       "    </tr>\n",
       "    <tr>\n",
       "      <td>1</td>\n",
       "      <td>2.86948</td>\n",
       "      <td>-0.35954</td>\n",
       "      <td>-1.30734</td>\n",
       "      <td>-1.20643</td>\n",
       "      <td>0.29855</td>\n",
       "      <td>-0.50109</td>\n",
       "      <td>-0.05482</td>\n",
       "      <td>-0.14437</td>\n",
       "      <td>-0.26696</td>\n",
       "      <td>0.21000</td>\n",
       "    </tr>\n",
       "    <tr>\n",
       "      <td>2</td>\n",
       "      <td>2.38582</td>\n",
       "      <td>0.66374</td>\n",
       "      <td>0.62131</td>\n",
       "      <td>-0.82327</td>\n",
       "      <td>-0.60374</td>\n",
       "      <td>0.40380</td>\n",
       "      <td>0.37355</td>\n",
       "      <td>0.99668</td>\n",
       "      <td>0.61217</td>\n",
       "      <td>-0.84870</td>\n",
       "    </tr>\n",
       "    <tr>\n",
       "      <td>3</td>\n",
       "      <td>0.78745</td>\n",
       "      <td>0.42599</td>\n",
       "      <td>0.08999</td>\n",
       "      <td>0.07075</td>\n",
       "      <td>-0.06057</td>\n",
       "      <td>-0.51023</td>\n",
       "      <td>-0.51727</td>\n",
       "      <td>0.46079</td>\n",
       "      <td>-0.26791</td>\n",
       "      <td>-0.01874</td>\n",
       "    </tr>\n",
       "    <tr>\n",
       "      <td>4</td>\n",
       "      <td>3.35583</td>\n",
       "      <td>-0.02866</td>\n",
       "      <td>-0.68800</td>\n",
       "      <td>-0.99715</td>\n",
       "      <td>0.39514</td>\n",
       "      <td>0.00457</td>\n",
       "      <td>0.55794</td>\n",
       "      <td>0.99688</td>\n",
       "      <td>0.26718</td>\n",
       "      <td>0.04977</td>\n",
       "    </tr>\n",
       "    <tr>\n",
       "      <td>...</td>\n",
       "      <td>...</td>\n",
       "      <td>...</td>\n",
       "      <td>...</td>\n",
       "      <td>...</td>\n",
       "      <td>...</td>\n",
       "      <td>...</td>\n",
       "      <td>...</td>\n",
       "      <td>...</td>\n",
       "      <td>...</td>\n",
       "      <td>...</td>\n",
       "    </tr>\n",
       "    <tr>\n",
       "      <td>39769</td>\n",
       "      <td>1.32952</td>\n",
       "      <td>2.94078</td>\n",
       "      <td>-1.33541</td>\n",
       "      <td>0.30657</td>\n",
       "      <td>-0.38653</td>\n",
       "      <td>-0.80232</td>\n",
       "      <td>0.33582</td>\n",
       "      <td>-0.05934</td>\n",
       "      <td>0.06211</td>\n",
       "      <td>0.45389</td>\n",
       "    </tr>\n",
       "    <tr>\n",
       "      <td>39770</td>\n",
       "      <td>1.06608</td>\n",
       "      <td>-0.74327</td>\n",
       "      <td>-0.43469</td>\n",
       "      <td>-0.16136</td>\n",
       "      <td>-1.03135</td>\n",
       "      <td>0.19963</td>\n",
       "      <td>0.08155</td>\n",
       "      <td>-0.79191</td>\n",
       "      <td>-0.08478</td>\n",
       "      <td>-0.51031</td>\n",
       "    </tr>\n",
       "    <tr>\n",
       "      <td>39771</td>\n",
       "      <td>1.32729</td>\n",
       "      <td>1.21220</td>\n",
       "      <td>-1.74574</td>\n",
       "      <td>-0.42690</td>\n",
       "      <td>1.06688</td>\n",
       "      <td>-0.06569</td>\n",
       "      <td>-0.35239</td>\n",
       "      <td>-0.46338</td>\n",
       "      <td>0.44793</td>\n",
       "      <td>0.36327</td>\n",
       "    </tr>\n",
       "    <tr>\n",
       "      <td>39772</td>\n",
       "      <td>2.94254</td>\n",
       "      <td>2.55587</td>\n",
       "      <td>1.70625</td>\n",
       "      <td>-0.01684</td>\n",
       "      <td>0.13151</td>\n",
       "      <td>0.26706</td>\n",
       "      <td>-0.09524</td>\n",
       "      <td>0.98885</td>\n",
       "      <td>1.64533</td>\n",
       "      <td>-1.02152</td>\n",
       "    </tr>\n",
       "    <tr>\n",
       "      <td>39773</td>\n",
       "      <td>3.23983</td>\n",
       "      <td>-0.84423</td>\n",
       "      <td>-0.30120</td>\n",
       "      <td>-0.53382</td>\n",
       "      <td>0.15813</td>\n",
       "      <td>0.10465</td>\n",
       "      <td>1.51054</td>\n",
       "      <td>-0.18609</td>\n",
       "      <td>-0.76751</td>\n",
       "      <td>1.01368</td>\n",
       "    </tr>\n",
       "  </tbody>\n",
       "</table>\n",
       "<p>39774 rows × 10 columns</p>\n",
       "</div>"
      ],
      "text/plain": [
       "             0        1        2        3        4        5        6        7  \\\n",
       "0      1.30098 -0.84611 -0.30520 -0.20134 -0.82252  0.41176  0.00801 -0.22633   \n",
       "1      2.86948 -0.35954 -1.30734 -1.20643  0.29855 -0.50109 -0.05482 -0.14437   \n",
       "2      2.38582  0.66374  0.62131 -0.82327 -0.60374  0.40380  0.37355  0.99668   \n",
       "3      0.78745  0.42599  0.08999  0.07075 -0.06057 -0.51023 -0.51727  0.46079   \n",
       "4      3.35583 -0.02866 -0.68800 -0.99715  0.39514  0.00457  0.55794  0.99688   \n",
       "...        ...      ...      ...      ...      ...      ...      ...      ...   \n",
       "39769  1.32952  2.94078 -1.33541  0.30657 -0.38653 -0.80232  0.33582 -0.05934   \n",
       "39770  1.06608 -0.74327 -0.43469 -0.16136 -1.03135  0.19963  0.08155 -0.79191   \n",
       "39771  1.32729  1.21220 -1.74574 -0.42690  1.06688 -0.06569 -0.35239 -0.46338   \n",
       "39772  2.94254  2.55587  1.70625 -0.01684  0.13151  0.26706 -0.09524  0.98885   \n",
       "39773  3.23983 -0.84423 -0.30120 -0.53382  0.15813  0.10465  1.51054 -0.18609   \n",
       "\n",
       "             8        9  \n",
       "0     -0.47333 -0.58897  \n",
       "1     -0.26696  0.21000  \n",
       "2      0.61217 -0.84870  \n",
       "3     -0.26791 -0.01874  \n",
       "4      0.26718  0.04977  \n",
       "...        ...      ...  \n",
       "39769  0.06211  0.45389  \n",
       "39770 -0.08478 -0.51031  \n",
       "39771  0.44793  0.36327  \n",
       "39772  1.64533 -1.02152  \n",
       "39773 -0.76751  1.01368  \n",
       "\n",
       "[39774 rows x 10 columns]"
      ]
     },
     "execution_count": 20,
     "metadata": {},
     "output_type": "execute_result"
    }
   ],
   "source": [
    "Vt = pd.DataFrame(doc_topic.round(5))\n",
    "Vt"
   ]
  },
  {
   "cell_type": "code",
   "execution_count": 21,
   "metadata": {
    "ExecuteTime": {
     "end_time": "2019-11-08T22:40:17.040052Z",
     "start_time": "2019-11-08T22:40:17.036095Z"
    }
   },
   "outputs": [],
   "source": [
    "from sklearn.metrics.pairwise import cosine_similarity"
   ]
  },
  {
   "cell_type": "code",
   "execution_count": 23,
   "metadata": {
    "ExecuteTime": {
     "end_time": "2019-11-08T22:59:32.826314Z",
     "start_time": "2019-11-08T22:42:48.650452Z"
    }
   },
   "outputs": [
    {
     "data": {
      "text/plain": [
       "array([[1.   , 0.25 , 0.16 , ..., 0.   , 0.035, 0.241],\n",
       "       [0.25 , 1.   , 0.298, ..., 0.367, 0.112, 0.462],\n",
       "       [0.16 , 0.298, 1.   , ..., 0.147, 0.299, 0.287],\n",
       "       ...,\n",
       "       [0.   , 0.367, 0.147, ..., 1.   , 0.096, 0.177],\n",
       "       [0.035, 0.112, 0.299, ..., 0.096, 1.   , 0.135],\n",
       "       [0.241, 0.462, 0.287, ..., 0.177, 0.135, 1.   ]])"
      ]
     },
     "execution_count": 23,
     "metadata": {},
     "output_type": "execute_result"
    }
   ],
   "source": [
    "cosine_similarity(doc_word).round(3) #faster then prev, but still almost crashed laptop"
   ]
  },
  {
   "cell_type": "code",
   "execution_count": 24,
   "metadata": {
    "ExecuteTime": {
     "end_time": "2019-11-08T23:11:36.819168Z",
     "start_time": "2019-11-08T23:11:36.743880Z"
    }
   },
   "outputs": [],
   "source": [
    "#try clustering?\n",
    "from sklearn.preprocessing import scale\n",
    "from sklearn.cluster import KMeans\n",
    "from sklearn.datasets import make_blobs\n",
    "from sklearn.datasets import fetch_mldata\n",
    "from sklearn.utils import shuffle"
   ]
  },
  {
   "cell_type": "code",
   "execution_count": 28,
   "metadata": {
    "ExecuteTime": {
     "end_time": "2019-11-08T23:13:48.097484Z",
     "start_time": "2019-11-08T23:13:47.947972Z"
    }
   },
   "outputs": [
    {
     "ename": "AttributeError",
     "evalue": "module 'project4_functions' has no attribute 'display_cluster'",
     "output_type": "error",
     "traceback": [
      "\u001b[0;31m---------------------------------------------------------------------------\u001b[0m",
      "\u001b[0;31mAttributeError\u001b[0m                            Traceback (most recent call last)",
      "\u001b[0;32m<ipython-input-28-9a66a3481474>\u001b[0m in \u001b[0;36m<module>\u001b[0;34m\u001b[0m\n\u001b[1;32m      2\u001b[0m \u001b[0mkm\u001b[0m \u001b[0;34m=\u001b[0m \u001b[0mKMeans\u001b[0m\u001b[0;34m(\u001b[0m\u001b[0mn_clusters\u001b[0m\u001b[0;34m=\u001b[0m\u001b[0mnum_clusters\u001b[0m\u001b[0;34m)\u001b[0m\u001b[0;34m\u001b[0m\u001b[0;34m\u001b[0m\u001b[0m\n\u001b[1;32m      3\u001b[0m \u001b[0mkm\u001b[0m\u001b[0;34m.\u001b[0m\u001b[0mfit\u001b[0m\u001b[0;34m(\u001b[0m\u001b[0mtopic_word\u001b[0m\u001b[0;34m)\u001b[0m\u001b[0;34m\u001b[0m\u001b[0;34m\u001b[0m\u001b[0m\n\u001b[0;32m----> 4\u001b[0;31m \u001b[0mproject4_functions\u001b[0m\u001b[0;34m.\u001b[0m\u001b[0mdisplay_cluster\u001b[0m\u001b[0;34m(\u001b[0m\u001b[0mX\u001b[0m\u001b[0;34m,\u001b[0m\u001b[0mkm\u001b[0m\u001b[0;34m,\u001b[0m\u001b[0mnum_clusters\u001b[0m\u001b[0;34m)\u001b[0m\u001b[0;34m\u001b[0m\u001b[0;34m\u001b[0m\u001b[0m\n\u001b[0m",
      "\u001b[0;31mAttributeError\u001b[0m: module 'project4_functions' has no attribute 'display_cluster'"
     ]
    }
   ],
   "source": [
    "num_clusters = 10\n",
    "km = KMeans(n_clusters=num_clusters)\n",
    "km.fit(topic_word)\n",
    "project4_functions.display_cluster(X,km,num_clusters)"
   ]
  },
  {
   "cell_type": "code",
   "execution_count": null,
   "metadata": {},
   "outputs": [],
   "source": []
  }
 ],
 "metadata": {
  "kernelspec": {
   "display_name": "Python [conda env:metis] *",
   "language": "python",
   "name": "conda-env-metis-py"
  },
  "language_info": {
   "codemirror_mode": {
    "name": "ipython",
    "version": 3
   },
   "file_extension": ".py",
   "mimetype": "text/x-python",
   "name": "python",
   "nbconvert_exporter": "python",
   "pygments_lexer": "ipython3",
   "version": "3.7.3"
  },
  "toc": {
   "base_numbering": 1,
   "nav_menu": {},
   "number_sections": true,
   "sideBar": true,
   "skip_h1_title": false,
   "title_cell": "Table of Contents",
   "title_sidebar": "Contents",
   "toc_cell": false,
   "toc_position": {},
   "toc_section_display": true,
   "toc_window_display": false
  }
 },
 "nbformat": 4,
 "nbformat_minor": 2
}
